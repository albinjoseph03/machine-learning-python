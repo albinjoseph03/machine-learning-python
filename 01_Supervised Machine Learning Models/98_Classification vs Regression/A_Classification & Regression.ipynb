{
 "cells": [
  {
   "cell_type": "markdown",
   "id": "93d658d4",
   "metadata": {},
   "source": [
    "# Classification vs Regression ML Models"
   ]
  },
  {
   "cell_type": "code",
   "execution_count": null,
   "id": "905a7769",
   "metadata": {},
   "outputs": [],
   "source": [
    "???"
   ]
  },
  {
   "cell_type": "markdown",
   "id": "497835f7-d5cf-4fe3-8b19-9c5d7f7baaf4",
   "metadata": {},
   "source": [
    "Classification Models | ![](src/classification.png)\n",
    "-|-\n",
    "Regression Models | ![](src/regression.png)"
   ]
  },
  {
   "cell_type": "markdown",
   "id": "726ed1f5-8f2e-4e72-9e96-643fec7ca11a",
   "metadata": {},
   "source": [
    "## Data loading"
   ]
  },
  {
   "cell_type": "code",
   "execution_count": 29,
   "id": "9f9d6220-8756-4c2b-9b36-834614882376",
   "metadata": {},
   "outputs": [
    {
     "data": {
      "text/html": [
       "<div>\n",
       "<style scoped>\n",
       "    .dataframe tbody tr th:only-of-type {\n",
       "        vertical-align: middle;\n",
       "    }\n",
       "\n",
       "    .dataframe tbody tr th {\n",
       "        vertical-align: top;\n",
       "    }\n",
       "\n",
       "    .dataframe thead th {\n",
       "        text-align: right;\n",
       "    }\n",
       "</style>\n",
       "<table border=\"1\" class=\"dataframe\">\n",
       "  <thead>\n",
       "    <tr style=\"text-align: right;\">\n",
       "      <th></th>\n",
       "      <th>Open</th>\n",
       "      <th>High</th>\n",
       "      <th>Low</th>\n",
       "      <th>Close</th>\n",
       "      <th>Volume</th>\n",
       "      <th>change_tomorrow</th>\n",
       "      <th>change_tomorrow_direction</th>\n",
       "    </tr>\n",
       "    <tr>\n",
       "      <th>Date</th>\n",
       "      <th></th>\n",
       "      <th></th>\n",
       "      <th></th>\n",
       "      <th></th>\n",
       "      <th></th>\n",
       "      <th></th>\n",
       "      <th></th>\n",
       "    </tr>\n",
       "  </thead>\n",
       "  <tbody>\n",
       "    <tr>\n",
       "      <th>2007-01-09</th>\n",
       "      <td>3.087500</td>\n",
       "      <td>3.320714</td>\n",
       "      <td>3.041071</td>\n",
       "      <td>3.306071</td>\n",
       "      <td>3349298400</td>\n",
       "      <td>4.567032</td>\n",
       "      <td>UP</td>\n",
       "    </tr>\n",
       "    <tr>\n",
       "      <th>2007-01-10</th>\n",
       "      <td>3.383929</td>\n",
       "      <td>3.492857</td>\n",
       "      <td>3.337500</td>\n",
       "      <td>3.464286</td>\n",
       "      <td>2952880000</td>\n",
       "      <td>-1.252610</td>\n",
       "      <td>DOWN</td>\n",
       "    </tr>\n",
       "    <tr>\n",
       "      <th>...</th>\n",
       "      <td>...</td>\n",
       "      <td>...</td>\n",
       "      <td>...</td>\n",
       "      <td>...</td>\n",
       "      <td>...</td>\n",
       "      <td>...</td>\n",
       "      <td>...</td>\n",
       "    </tr>\n",
       "    <tr>\n",
       "      <th>2023-06-28</th>\n",
       "      <td>187.929993</td>\n",
       "      <td>189.899994</td>\n",
       "      <td>187.600006</td>\n",
       "      <td>189.250000</td>\n",
       "      <td>51216800</td>\n",
       "      <td>0.179332</td>\n",
       "      <td>UP</td>\n",
       "    </tr>\n",
       "    <tr>\n",
       "      <th>2023-06-29</th>\n",
       "      <td>189.080002</td>\n",
       "      <td>190.070007</td>\n",
       "      <td>188.940002</td>\n",
       "      <td>189.589996</td>\n",
       "      <td>46347300</td>\n",
       "      <td>2.258084</td>\n",
       "      <td>UP</td>\n",
       "    </tr>\n",
       "  </tbody>\n",
       "</table>\n",
       "<p>4147 rows × 7 columns</p>\n",
       "</div>"
      ],
      "text/plain": [
       "                  Open        High         Low       Close      Volume  \\\n",
       "Date                                                                     \n",
       "2007-01-09    3.087500    3.320714    3.041071    3.306071  3349298400   \n",
       "2007-01-10    3.383929    3.492857    3.337500    3.464286  2952880000   \n",
       "...                ...         ...         ...         ...         ...   \n",
       "2023-06-28  187.929993  189.899994  187.600006  189.250000    51216800   \n",
       "2023-06-29  189.080002  190.070007  188.940002  189.589996    46347300   \n",
       "\n",
       "            change_tomorrow change_tomorrow_direction  \n",
       "Date                                                   \n",
       "2007-01-09         4.567032                        UP  \n",
       "2007-01-10        -1.252610                      DOWN  \n",
       "...                     ...                       ...  \n",
       "2023-06-28         0.179332                        UP  \n",
       "2023-06-29         2.258084                        UP  \n",
       "\n",
       "[4147 rows x 7 columns]"
      ]
     },
     "execution_count": 29,
     "metadata": {},
     "output_type": "execute_result"
    }
   ],
   "source": [
    "import pandas as pd\n",
    "\n",
    "df = pd.read_excel(\n",
    "    '../../data/data_stock_apple.xlsx',\n",
    "    parse_dates=['Date'], index_col=0\n",
    "    )\n",
    "df"
   ]
  },
  {
   "cell_type": "markdown",
   "id": "e9a81a1b",
   "metadata": {},
   "source": [
    "## Feature selection"
   ]
  },
  {
   "cell_type": "markdown",
   "id": "7e8d9e56",
   "metadata": {},
   "source": [
    "Create two target variables:\n",
    "\n",
    "1. `target_categorical`\n",
    "2. `target_numerical`"
   ]
  },
  {
   "cell_type": "code",
   "execution_count": null,
   "id": "f65f8674",
   "metadata": {},
   "outputs": [],
   "source": []
  },
  {
   "cell_type": "markdown",
   "id": "c265e0de",
   "metadata": {},
   "source": [
    "And select the explanatory variables:"
   ]
  },
  {
   "cell_type": "code",
   "execution_count": null,
   "id": "5a166bbf",
   "metadata": {},
   "outputs": [],
   "source": []
  },
  {
   "cell_type": "markdown",
   "id": "dc60b8e9",
   "metadata": {},
   "source": [
    "## Machine Learning System\n",
    "\n",
    "K Nearest Neighbors"
   ]
  },
  {
   "cell_type": "markdown",
   "id": "bf95e298-19ea-4094-b3c5-bc755e69fdc3",
   "metadata": {},
   "source": [
    "### ML classification model"
   ]
  },
  {
   "cell_type": "markdown",
   "id": "dd3c4e9a",
   "metadata": {},
   "source": [
    "#### Fit the mathematical equation"
   ]
  },
  {
   "cell_type": "code",
   "execution_count": null,
   "id": "7797bf27",
   "metadata": {},
   "outputs": [],
   "source": []
  },
  {
   "cell_type": "markdown",
   "id": "6ec22298",
   "metadata": {},
   "source": [
    "#### Calculate predictions"
   ]
  },
  {
   "cell_type": "code",
   "execution_count": null,
   "id": "b3452d84",
   "metadata": {},
   "outputs": [],
   "source": []
  },
  {
   "cell_type": "markdown",
   "id": "dd8817bb",
   "metadata": {},
   "source": [
    "#### Compare predictions to reality"
   ]
  },
  {
   "cell_type": "code",
   "execution_count": null,
   "id": "f7d785a0",
   "metadata": {},
   "outputs": [],
   "source": []
  },
  {
   "cell_type": "markdown",
   "id": "cc965467",
   "metadata": {},
   "source": [
    "#### Compare predictions to reality in a `DataFrame`"
   ]
  },
  {
   "cell_type": "markdown",
   "id": "a43a1211",
   "metadata": {},
   "source": [
    "### ML regression model"
   ]
  },
  {
   "cell_type": "markdown",
   "id": "ef7e1da7",
   "metadata": {},
   "source": [
    "#### Fit the mathematical equation"
   ]
  },
  {
   "cell_type": "code",
   "execution_count": null,
   "id": "02e63cb7",
   "metadata": {},
   "outputs": [],
   "source": []
  },
  {
   "cell_type": "markdown",
   "id": "8dfd7eae",
   "metadata": {},
   "source": [
    "#### Calculate predictions"
   ]
  },
  {
   "cell_type": "code",
   "execution_count": null,
   "id": "249b45b1",
   "metadata": {},
   "outputs": [],
   "source": []
  },
  {
   "cell_type": "markdown",
   "id": "a8f26561",
   "metadata": {},
   "source": [
    "#### Compare predictions to reality"
   ]
  },
  {
   "cell_type": "code",
   "execution_count": null,
   "id": "fd14f793",
   "metadata": {},
   "outputs": [],
   "source": []
  },
  {
   "cell_type": "markdown",
   "id": "ff95f096",
   "metadata": {},
   "source": [
    "#### Compare predictions to reality in a `DataFrame`"
   ]
  },
  {
   "cell_type": "code",
   "execution_count": null,
   "id": "234e16d2",
   "metadata": {},
   "outputs": [],
   "source": []
  },
  {
   "cell_type": "markdown",
   "id": "8230f6d4",
   "metadata": {},
   "source": [
    "#### Join regression and classification `DataFrame`"
   ]
  },
  {
   "cell_type": "code",
   "execution_count": null,
   "id": "d78e6b90",
   "metadata": {},
   "outputs": [],
   "source": []
  },
  {
   "cell_type": "markdown",
   "id": "b3f99bc5",
   "metadata": {},
   "source": [
    "## Other algorithms"
   ]
  },
  {
   "cell_type": "markdown",
   "id": "8995b4ae",
   "metadata": {},
   "source": [
    "### Decision Tree"
   ]
  },
  {
   "cell_type": "markdown",
   "id": "92c92933",
   "metadata": {},
   "source": [
    "#### Regression "
   ]
  },
  {
   "cell_type": "code",
   "execution_count": null,
   "id": "0334846b",
   "metadata": {},
   "outputs": [],
   "source": []
  },
  {
   "cell_type": "markdown",
   "id": "cab4354a",
   "metadata": {},
   "source": [
    "#### Classification"
   ]
  },
  {
   "cell_type": "code",
   "execution_count": null,
   "id": "70d55efb",
   "metadata": {},
   "outputs": [],
   "source": []
  },
  {
   "cell_type": "markdown",
   "id": "e7df14bf",
   "metadata": {},
   "source": [
    "### Random Forest"
   ]
  },
  {
   "cell_type": "markdown",
   "id": "58b79134",
   "metadata": {},
   "source": [
    "#### Regression "
   ]
  },
  {
   "cell_type": "code",
   "execution_count": null,
   "id": "6c17155e",
   "metadata": {},
   "outputs": [],
   "source": []
  },
  {
   "cell_type": "markdown",
   "id": "858b41ce",
   "metadata": {},
   "source": [
    "#### Classification"
   ]
  },
  {
   "cell_type": "code",
   "execution_count": null,
   "id": "41c70381",
   "metadata": {},
   "outputs": [],
   "source": []
  },
  {
   "cell_type": "markdown",
   "id": "3480d4ac",
   "metadata": {},
   "source": [
    "## Compare all models in a `DataFrame`"
   ]
  },
  {
   "cell_type": "markdown",
   "id": "932a7565",
   "metadata": {},
   "source": [
    "### Regression models"
   ]
  },
  {
   "cell_type": "code",
   "execution_count": null,
   "id": "168e168e",
   "metadata": {},
   "outputs": [],
   "source": [
    "list_model_regression = [model_kn_r, model_dt_r, model_rf_r]\n",
    "list_model_regression_names = map(lambda x: x.__class__.__name__, list_model_regression)\n",
    "list_model_regression_predictions = list(map(lambda x: x.predict(X=explanatory), list_model_regression))\n",
    "df_pred_regression = pd.DataFrame(\n",
    "    list_model_regression_predictions,\n",
    "    index=list_model_regression_names).T.set_index(df.index)\n",
    "\n",
    "df_pred_regression.insert(0, 'target_numerical', target_numerical)\n",
    "df_pred_regression"
   ]
  },
  {
   "cell_type": "markdown",
   "id": "5f4bcee8",
   "metadata": {},
   "source": [
    "### Classification models"
   ]
  },
  {
   "cell_type": "code",
   "execution_count": null,
   "id": "c00ed56e",
   "metadata": {},
   "outputs": [],
   "source": [
    "list_model_classification = [model_kn_c, model_dt_c, model_rf_c]\n",
    "list_model_classification_names = map(lambda x: x.__class__.__name__, list_model_classification)\n",
    "list_model_classification_predictions = list(map(lambda x: x.predict(X=explanatory), list_model_classification))\n",
    "df_pred_classification = pd.DataFrame(\n",
    "    list_model_classification_predictions,\n",
    "    index=list_model_classification_names).T.set_index(df.index)\n",
    "\n",
    "df_pred_classification.insert(0, 'target_numerical', target_categorical)\n",
    "df_pred_classification"
   ]
  }
 ],
 "metadata": {
  "kernelspec": {
   "display_name": "Python 3 (ipykernel)",
   "language": "python",
   "name": "python3"
  },
  "language_info": {
   "codemirror_mode": {
    "name": "ipython",
    "version": 3
   },
   "file_extension": ".py",
   "mimetype": "text/x-python",
   "name": "python",
   "nbconvert_exporter": "python",
   "pygments_lexer": "ipython3",
   "version": "3.10.6"
  }
 },
 "nbformat": 4,
 "nbformat_minor": 5
}
