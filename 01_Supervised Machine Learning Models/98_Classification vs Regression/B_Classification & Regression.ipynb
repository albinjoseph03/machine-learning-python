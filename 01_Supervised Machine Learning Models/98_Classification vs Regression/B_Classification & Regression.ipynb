{
 "cells": [
  {
   "cell_type": "markdown",
   "id": "93d658d4",
   "metadata": {},
   "source": [
    "# Classification vs Regression ML Models"
   ]
  },
  {
   "cell_type": "code",
   "execution_count": null,
   "id": "905a7769",
   "metadata": {},
   "outputs": [],
   "source": [
    "???"
   ]
  },
  {
   "cell_type": "markdown",
   "id": "8752c50c",
   "metadata": {},
   "source": [
    "Classification Models | ![](src/classification.png)\n",
    "-|-\n",
    "Regression Models | ![](src/regression.png)"
   ]
  },
  {
   "cell_type": "markdown",
   "id": "726ed1f5-8f2e-4e72-9e96-643fec7ca11a",
   "metadata": {},
   "source": [
    "## Data loading"
   ]
  },
  {
   "cell_type": "code",
   "execution_count": 1,
   "id": "9f9d6220-8756-4c2b-9b36-834614882376",
   "metadata": {},
   "outputs": [
    {
     "data": {
      "text/html": [
       "<div>\n",
       "<style scoped>\n",
       "    .dataframe tbody tr th:only-of-type {\n",
       "        vertical-align: middle;\n",
       "    }\n",
       "\n",
       "    .dataframe tbody tr th {\n",
       "        vertical-align: top;\n",
       "    }\n",
       "\n",
       "    .dataframe thead th {\n",
       "        text-align: right;\n",
       "    }\n",
       "</style>\n",
       "<table border=\"1\" class=\"dataframe\">\n",
       "  <thead>\n",
       "    <tr style=\"text-align: right;\">\n",
       "      <th></th>\n",
       "      <th>Open</th>\n",
       "      <th>High</th>\n",
       "      <th>Low</th>\n",
       "      <th>Close</th>\n",
       "      <th>Volume</th>\n",
       "      <th>change_tomorrow</th>\n",
       "      <th>change_tomorrow_direction</th>\n",
       "    </tr>\n",
       "    <tr>\n",
       "      <th>Date</th>\n",
       "      <th></th>\n",
       "      <th></th>\n",
       "      <th></th>\n",
       "      <th></th>\n",
       "      <th></th>\n",
       "      <th></th>\n",
       "      <th></th>\n",
       "    </tr>\n",
       "  </thead>\n",
       "  <tbody>\n",
       "    <tr>\n",
       "      <th>2007-01-09</th>\n",
       "      <td>3.087500</td>\n",
       "      <td>3.320714</td>\n",
       "      <td>3.041071</td>\n",
       "      <td>3.306071</td>\n",
       "      <td>3349298400</td>\n",
       "      <td>4.567032</td>\n",
       "      <td>UP</td>\n",
       "    </tr>\n",
       "    <tr>\n",
       "      <th>2007-01-10</th>\n",
       "      <td>3.383929</td>\n",
       "      <td>3.492857</td>\n",
       "      <td>3.337500</td>\n",
       "      <td>3.464286</td>\n",
       "      <td>2952880000</td>\n",
       "      <td>-1.252610</td>\n",
       "      <td>DOWN</td>\n",
       "    </tr>\n",
       "    <tr>\n",
       "      <th>...</th>\n",
       "      <td>...</td>\n",
       "      <td>...</td>\n",
       "      <td>...</td>\n",
       "      <td>...</td>\n",
       "      <td>...</td>\n",
       "      <td>...</td>\n",
       "      <td>...</td>\n",
       "    </tr>\n",
       "    <tr>\n",
       "      <th>2023-06-28</th>\n",
       "      <td>187.929993</td>\n",
       "      <td>189.899994</td>\n",
       "      <td>187.600006</td>\n",
       "      <td>189.250000</td>\n",
       "      <td>51216800</td>\n",
       "      <td>0.179332</td>\n",
       "      <td>UP</td>\n",
       "    </tr>\n",
       "    <tr>\n",
       "      <th>2023-06-29</th>\n",
       "      <td>189.080002</td>\n",
       "      <td>190.070007</td>\n",
       "      <td>188.940002</td>\n",
       "      <td>189.589996</td>\n",
       "      <td>46347300</td>\n",
       "      <td>2.258084</td>\n",
       "      <td>UP</td>\n",
       "    </tr>\n",
       "  </tbody>\n",
       "</table>\n",
       "<p>4147 rows × 7 columns</p>\n",
       "</div>"
      ],
      "text/plain": [
       "                  Open        High         Low       Close      Volume  \\\n",
       "Date                                                                     \n",
       "2007-01-09    3.087500    3.320714    3.041071    3.306071  3349298400   \n",
       "2007-01-10    3.383929    3.492857    3.337500    3.464286  2952880000   \n",
       "...                ...         ...         ...         ...         ...   \n",
       "2023-06-28  187.929993  189.899994  187.600006  189.250000    51216800   \n",
       "2023-06-29  189.080002  190.070007  188.940002  189.589996    46347300   \n",
       "\n",
       "            change_tomorrow change_tomorrow_direction  \n",
       "Date                                                   \n",
       "2007-01-09         4.567032                        UP  \n",
       "2007-01-10        -1.252610                      DOWN  \n",
       "...                     ...                       ...  \n",
       "2023-06-28         0.179332                        UP  \n",
       "2023-06-29         2.258084                        UP  \n",
       "\n",
       "[4147 rows x 7 columns]"
      ]
     },
     "execution_count": 1,
     "metadata": {},
     "output_type": "execute_result"
    }
   ],
   "source": [
    "import pandas as pd\n",
    "\n",
    "df = pd.read_excel(\n",
    "    '../../data/data_stock_apple.xlsx',\n",
    "    parse_dates=['Date'], index_col=0\n",
    "    )\n",
    "df"
   ]
  },
  {
   "cell_type": "markdown",
   "id": "e9a81a1b",
   "metadata": {},
   "source": [
    "## Feature selection"
   ]
  },
  {
   "cell_type": "markdown",
   "id": "7e8d9e56",
   "metadata": {},
   "source": [
    "Create two target variables:\n",
    "\n",
    "1. `target_categorical`\n",
    "2. `target_numerical`"
   ]
  },
  {
   "cell_type": "code",
   "execution_count": 2,
   "id": "64f18821",
   "metadata": {},
   "outputs": [],
   "source": [
    "target_categorical = df.change_tomorrow_direction\n",
    "target_numerical = df.change_tomorrow"
   ]
  },
  {
   "cell_type": "markdown",
   "id": "c265e0de",
   "metadata": {},
   "source": [
    "And select the explanatory variables:"
   ]
  },
  {
   "cell_type": "code",
   "execution_count": 3,
   "id": "e70d30db",
   "metadata": {},
   "outputs": [],
   "source": [
    "explanatory = df[['Open','High','Low','Close','Volume']]"
   ]
  },
  {
   "cell_type": "markdown",
   "id": "dc60b8e9",
   "metadata": {},
   "source": [
    "## Machine Learning System\n",
    "\n",
    "K Nearest Neighbors"
   ]
  },
  {
   "cell_type": "markdown",
   "id": "bf95e298-19ea-4094-b3c5-bc755e69fdc3",
   "metadata": {},
   "source": [
    "### ML classification model"
   ]
  },
  {
   "cell_type": "markdown",
   "id": "dd3c4e9a",
   "metadata": {},
   "source": [
    "#### Fit the mathematical equation"
   ]
  },
  {
   "cell_type": "code",
   "execution_count": 4,
   "id": "4104be51",
   "metadata": {},
   "outputs": [
    {
     "data": {
      "text/html": [
       "<style>#sk-container-id-1 {color: black;background-color: white;}#sk-container-id-1 pre{padding: 0;}#sk-container-id-1 div.sk-toggleable {background-color: white;}#sk-container-id-1 label.sk-toggleable__label {cursor: pointer;display: block;width: 100%;margin-bottom: 0;padding: 0.3em;box-sizing: border-box;text-align: center;}#sk-container-id-1 label.sk-toggleable__label-arrow:before {content: \"▸\";float: left;margin-right: 0.25em;color: #696969;}#sk-container-id-1 label.sk-toggleable__label-arrow:hover:before {color: black;}#sk-container-id-1 div.sk-estimator:hover label.sk-toggleable__label-arrow:before {color: black;}#sk-container-id-1 div.sk-toggleable__content {max-height: 0;max-width: 0;overflow: hidden;text-align: left;background-color: #f0f8ff;}#sk-container-id-1 div.sk-toggleable__content pre {margin: 0.2em;color: black;border-radius: 0.25em;background-color: #f0f8ff;}#sk-container-id-1 input.sk-toggleable__control:checked~div.sk-toggleable__content {max-height: 200px;max-width: 100%;overflow: auto;}#sk-container-id-1 input.sk-toggleable__control:checked~label.sk-toggleable__label-arrow:before {content: \"▾\";}#sk-container-id-1 div.sk-estimator input.sk-toggleable__control:checked~label.sk-toggleable__label {background-color: #d4ebff;}#sk-container-id-1 div.sk-label input.sk-toggleable__control:checked~label.sk-toggleable__label {background-color: #d4ebff;}#sk-container-id-1 input.sk-hidden--visually {border: 0;clip: rect(1px 1px 1px 1px);clip: rect(1px, 1px, 1px, 1px);height: 1px;margin: -1px;overflow: hidden;padding: 0;position: absolute;width: 1px;}#sk-container-id-1 div.sk-estimator {font-family: monospace;background-color: #f0f8ff;border: 1px dotted black;border-radius: 0.25em;box-sizing: border-box;margin-bottom: 0.5em;}#sk-container-id-1 div.sk-estimator:hover {background-color: #d4ebff;}#sk-container-id-1 div.sk-parallel-item::after {content: \"\";width: 100%;border-bottom: 1px solid gray;flex-grow: 1;}#sk-container-id-1 div.sk-label:hover label.sk-toggleable__label {background-color: #d4ebff;}#sk-container-id-1 div.sk-serial::before {content: \"\";position: absolute;border-left: 1px solid gray;box-sizing: border-box;top: 0;bottom: 0;left: 50%;z-index: 0;}#sk-container-id-1 div.sk-serial {display: flex;flex-direction: column;align-items: center;background-color: white;padding-right: 0.2em;padding-left: 0.2em;position: relative;}#sk-container-id-1 div.sk-item {position: relative;z-index: 1;}#sk-container-id-1 div.sk-parallel {display: flex;align-items: stretch;justify-content: center;background-color: white;position: relative;}#sk-container-id-1 div.sk-item::before, #sk-container-id-1 div.sk-parallel-item::before {content: \"\";position: absolute;border-left: 1px solid gray;box-sizing: border-box;top: 0;bottom: 0;left: 50%;z-index: -1;}#sk-container-id-1 div.sk-parallel-item {display: flex;flex-direction: column;z-index: 1;position: relative;background-color: white;}#sk-container-id-1 div.sk-parallel-item:first-child::after {align-self: flex-end;width: 50%;}#sk-container-id-1 div.sk-parallel-item:last-child::after {align-self: flex-start;width: 50%;}#sk-container-id-1 div.sk-parallel-item:only-child::after {width: 0;}#sk-container-id-1 div.sk-dashed-wrapped {border: 1px dashed gray;margin: 0 0.4em 0.5em 0.4em;box-sizing: border-box;padding-bottom: 0.4em;background-color: white;}#sk-container-id-1 div.sk-label label {font-family: monospace;font-weight: bold;display: inline-block;line-height: 1.2em;}#sk-container-id-1 div.sk-label-container {text-align: center;}#sk-container-id-1 div.sk-container {/* jupyter's `normalize.less` sets `[hidden] { display: none; }` but bootstrap.min.css set `[hidden] { display: none !important; }` so we also need the `!important` here to be able to override the default hidden behavior on the sphinx rendered scikit-learn.org. See: https://github.com/scikit-learn/scikit-learn/issues/21755 */display: inline-block !important;position: relative;}#sk-container-id-1 div.sk-text-repr-fallback {display: none;}</style><div id=\"sk-container-id-1\" class=\"sk-top-container\"><div class=\"sk-text-repr-fallback\"><pre>KNeighborsClassifier()</pre><b>In a Jupyter environment, please rerun this cell to show the HTML representation or trust the notebook. <br />On GitHub, the HTML representation is unable to render, please try loading this page with nbviewer.org.</b></div><div class=\"sk-container\" hidden><div class=\"sk-item\"><div class=\"sk-estimator sk-toggleable\"><input class=\"sk-toggleable__control sk-hidden--visually\" id=\"sk-estimator-id-1\" type=\"checkbox\" checked><label for=\"sk-estimator-id-1\" class=\"sk-toggleable__label sk-toggleable__label-arrow\">KNeighborsClassifier</label><div class=\"sk-toggleable__content\"><pre>KNeighborsClassifier()</pre></div></div></div></div></div>"
      ],
      "text/plain": [
       "KNeighborsClassifier()"
      ]
     },
     "execution_count": 4,
     "metadata": {},
     "output_type": "execute_result"
    }
   ],
   "source": [
    "from sklearn.neighbors import KNeighborsClassifier\n",
    "\n",
    "model_kn_c = KNeighborsClassifier()\n",
    "model_kn_c.fit(X=explanatory, y=target_categorical)"
   ]
  },
  {
   "cell_type": "markdown",
   "id": "6ec22298",
   "metadata": {},
   "source": [
    "#### Calculate predictions"
   ]
  },
  {
   "cell_type": "code",
   "execution_count": 5,
   "id": "b4b688d1",
   "metadata": {},
   "outputs": [
    {
     "data": {
      "text/plain": [
       "array(['DOWN', 'DOWN', 'DOWN', ..., 'UP', 'UP', 'DOWN'], dtype=object)"
      ]
     },
     "execution_count": 5,
     "metadata": {},
     "output_type": "execute_result"
    }
   ],
   "source": [
    "model_kn_c.predict(X=explanatory)"
   ]
  },
  {
   "cell_type": "markdown",
   "id": "dd8817bb",
   "metadata": {},
   "source": [
    "#### Compare predictions to reality"
   ]
  },
  {
   "cell_type": "code",
   "execution_count": 6,
   "id": "9d51d6d3",
   "metadata": {},
   "outputs": [
    {
     "data": {
      "text/plain": [
       "0.6845912707981674"
      ]
     },
     "execution_count": 6,
     "metadata": {},
     "output_type": "execute_result"
    }
   ],
   "source": [
    "model_kn_c.score(X=explanatory, y=target_categorical)"
   ]
  },
  {
   "cell_type": "markdown",
   "id": "cc965467",
   "metadata": {},
   "source": [
    "#### Compare predictions to reality in a `DataFrame`"
   ]
  },
  {
   "cell_type": "code",
   "execution_count": 7,
   "id": "75b3015e",
   "metadata": {},
   "outputs": [
    {
     "data": {
      "text/html": [
       "<div>\n",
       "<style scoped>\n",
       "    .dataframe tbody tr th:only-of-type {\n",
       "        vertical-align: middle;\n",
       "    }\n",
       "\n",
       "    .dataframe tbody tr th {\n",
       "        vertical-align: top;\n",
       "    }\n",
       "\n",
       "    .dataframe thead th {\n",
       "        text-align: right;\n",
       "    }\n",
       "</style>\n",
       "<table border=\"1\" class=\"dataframe\">\n",
       "  <thead>\n",
       "    <tr style=\"text-align: right;\">\n",
       "      <th></th>\n",
       "      <th>change_tomorrow_direction</th>\n",
       "      <th>prediction_classification</th>\n",
       "    </tr>\n",
       "    <tr>\n",
       "      <th>Date</th>\n",
       "      <th></th>\n",
       "      <th></th>\n",
       "    </tr>\n",
       "  </thead>\n",
       "  <tbody>\n",
       "    <tr>\n",
       "      <th>2007-01-09</th>\n",
       "      <td>UP</td>\n",
       "      <td>DOWN</td>\n",
       "    </tr>\n",
       "    <tr>\n",
       "      <th>2007-01-10</th>\n",
       "      <td>DOWN</td>\n",
       "      <td>DOWN</td>\n",
       "    </tr>\n",
       "    <tr>\n",
       "      <th>...</th>\n",
       "      <td>...</td>\n",
       "      <td>...</td>\n",
       "    </tr>\n",
       "    <tr>\n",
       "      <th>2023-06-28</th>\n",
       "      <td>UP</td>\n",
       "      <td>UP</td>\n",
       "    </tr>\n",
       "    <tr>\n",
       "      <th>2023-06-29</th>\n",
       "      <td>UP</td>\n",
       "      <td>DOWN</td>\n",
       "    </tr>\n",
       "  </tbody>\n",
       "</table>\n",
       "<p>4147 rows × 2 columns</p>\n",
       "</div>"
      ],
      "text/plain": [
       "           change_tomorrow_direction prediction_classification\n",
       "Date                                                          \n",
       "2007-01-09                        UP                      DOWN\n",
       "2007-01-10                      DOWN                      DOWN\n",
       "...                              ...                       ...\n",
       "2023-06-28                        UP                        UP\n",
       "2023-06-29                        UP                      DOWN\n",
       "\n",
       "[4147 rows x 2 columns]"
      ]
     },
     "execution_count": 7,
     "metadata": {},
     "output_type": "execute_result"
    }
   ],
   "source": [
    "df_pred_classification = target_categorical.to_frame()\n",
    "df_pred_classification['prediction_classification'] = model_kn_c.predict(X=explanatory)\n",
    "df_pred_classification"
   ]
  },
  {
   "cell_type": "markdown",
   "id": "a43a1211",
   "metadata": {},
   "source": [
    "### ML regression model"
   ]
  },
  {
   "cell_type": "markdown",
   "id": "ef7e1da7",
   "metadata": {},
   "source": [
    "#### Fit the mathematical equation"
   ]
  },
  {
   "cell_type": "code",
   "execution_count": 8,
   "id": "2672f3f5",
   "metadata": {},
   "outputs": [
    {
     "data": {
      "text/html": [
       "<style>#sk-container-id-2 {color: black;background-color: white;}#sk-container-id-2 pre{padding: 0;}#sk-container-id-2 div.sk-toggleable {background-color: white;}#sk-container-id-2 label.sk-toggleable__label {cursor: pointer;display: block;width: 100%;margin-bottom: 0;padding: 0.3em;box-sizing: border-box;text-align: center;}#sk-container-id-2 label.sk-toggleable__label-arrow:before {content: \"▸\";float: left;margin-right: 0.25em;color: #696969;}#sk-container-id-2 label.sk-toggleable__label-arrow:hover:before {color: black;}#sk-container-id-2 div.sk-estimator:hover label.sk-toggleable__label-arrow:before {color: black;}#sk-container-id-2 div.sk-toggleable__content {max-height: 0;max-width: 0;overflow: hidden;text-align: left;background-color: #f0f8ff;}#sk-container-id-2 div.sk-toggleable__content pre {margin: 0.2em;color: black;border-radius: 0.25em;background-color: #f0f8ff;}#sk-container-id-2 input.sk-toggleable__control:checked~div.sk-toggleable__content {max-height: 200px;max-width: 100%;overflow: auto;}#sk-container-id-2 input.sk-toggleable__control:checked~label.sk-toggleable__label-arrow:before {content: \"▾\";}#sk-container-id-2 div.sk-estimator input.sk-toggleable__control:checked~label.sk-toggleable__label {background-color: #d4ebff;}#sk-container-id-2 div.sk-label input.sk-toggleable__control:checked~label.sk-toggleable__label {background-color: #d4ebff;}#sk-container-id-2 input.sk-hidden--visually {border: 0;clip: rect(1px 1px 1px 1px);clip: rect(1px, 1px, 1px, 1px);height: 1px;margin: -1px;overflow: hidden;padding: 0;position: absolute;width: 1px;}#sk-container-id-2 div.sk-estimator {font-family: monospace;background-color: #f0f8ff;border: 1px dotted black;border-radius: 0.25em;box-sizing: border-box;margin-bottom: 0.5em;}#sk-container-id-2 div.sk-estimator:hover {background-color: #d4ebff;}#sk-container-id-2 div.sk-parallel-item::after {content: \"\";width: 100%;border-bottom: 1px solid gray;flex-grow: 1;}#sk-container-id-2 div.sk-label:hover label.sk-toggleable__label {background-color: #d4ebff;}#sk-container-id-2 div.sk-serial::before {content: \"\";position: absolute;border-left: 1px solid gray;box-sizing: border-box;top: 0;bottom: 0;left: 50%;z-index: 0;}#sk-container-id-2 div.sk-serial {display: flex;flex-direction: column;align-items: center;background-color: white;padding-right: 0.2em;padding-left: 0.2em;position: relative;}#sk-container-id-2 div.sk-item {position: relative;z-index: 1;}#sk-container-id-2 div.sk-parallel {display: flex;align-items: stretch;justify-content: center;background-color: white;position: relative;}#sk-container-id-2 div.sk-item::before, #sk-container-id-2 div.sk-parallel-item::before {content: \"\";position: absolute;border-left: 1px solid gray;box-sizing: border-box;top: 0;bottom: 0;left: 50%;z-index: -1;}#sk-container-id-2 div.sk-parallel-item {display: flex;flex-direction: column;z-index: 1;position: relative;background-color: white;}#sk-container-id-2 div.sk-parallel-item:first-child::after {align-self: flex-end;width: 50%;}#sk-container-id-2 div.sk-parallel-item:last-child::after {align-self: flex-start;width: 50%;}#sk-container-id-2 div.sk-parallel-item:only-child::after {width: 0;}#sk-container-id-2 div.sk-dashed-wrapped {border: 1px dashed gray;margin: 0 0.4em 0.5em 0.4em;box-sizing: border-box;padding-bottom: 0.4em;background-color: white;}#sk-container-id-2 div.sk-label label {font-family: monospace;font-weight: bold;display: inline-block;line-height: 1.2em;}#sk-container-id-2 div.sk-label-container {text-align: center;}#sk-container-id-2 div.sk-container {/* jupyter's `normalize.less` sets `[hidden] { display: none; }` but bootstrap.min.css set `[hidden] { display: none !important; }` so we also need the `!important` here to be able to override the default hidden behavior on the sphinx rendered scikit-learn.org. See: https://github.com/scikit-learn/scikit-learn/issues/21755 */display: inline-block !important;position: relative;}#sk-container-id-2 div.sk-text-repr-fallback {display: none;}</style><div id=\"sk-container-id-2\" class=\"sk-top-container\"><div class=\"sk-text-repr-fallback\"><pre>KNeighborsRegressor()</pre><b>In a Jupyter environment, please rerun this cell to show the HTML representation or trust the notebook. <br />On GitHub, the HTML representation is unable to render, please try loading this page with nbviewer.org.</b></div><div class=\"sk-container\" hidden><div class=\"sk-item\"><div class=\"sk-estimator sk-toggleable\"><input class=\"sk-toggleable__control sk-hidden--visually\" id=\"sk-estimator-id-2\" type=\"checkbox\" checked><label for=\"sk-estimator-id-2\" class=\"sk-toggleable__label sk-toggleable__label-arrow\">KNeighborsRegressor</label><div class=\"sk-toggleable__content\"><pre>KNeighborsRegressor()</pre></div></div></div></div></div>"
      ],
      "text/plain": [
       "KNeighborsRegressor()"
      ]
     },
     "execution_count": 8,
     "metadata": {},
     "output_type": "execute_result"
    }
   ],
   "source": [
    "from sklearn.neighbors import KNeighborsRegressor\n",
    "\n",
    "model_kn_r = KNeighborsRegressor()\n",
    "model_kn_r.fit(X=explanatory, y=target_numerical)"
   ]
  },
  {
   "cell_type": "markdown",
   "id": "8dfd7eae",
   "metadata": {},
   "source": [
    "#### Calculate predictions"
   ]
  },
  {
   "cell_type": "code",
   "execution_count": 9,
   "id": "9a174e45",
   "metadata": {},
   "outputs": [
    {
     "data": {
      "text/plain": [
       "array([-0.75379311, -0.75379311, -0.29096649, ...,  0.0259851 ,\n",
       "       -0.52048583,  0.27665005])"
      ]
     },
     "execution_count": 9,
     "metadata": {},
     "output_type": "execute_result"
    }
   ],
   "source": [
    "model_kn_r.predict(X=explanatory)"
   ]
  },
  {
   "cell_type": "markdown",
   "id": "a8f26561",
   "metadata": {},
   "source": [
    "#### Compare predictions to reality"
   ]
  },
  {
   "cell_type": "code",
   "execution_count": 10,
   "id": "11e678b0",
   "metadata": {},
   "outputs": [
    {
     "data": {
      "text/plain": [
       "0.18789010182513333"
      ]
     },
     "execution_count": 10,
     "metadata": {},
     "output_type": "execute_result"
    }
   ],
   "source": [
    "model_kn_r.score(X=explanatory, y=target_numerical)"
   ]
  },
  {
   "cell_type": "markdown",
   "id": "ff95f096",
   "metadata": {},
   "source": [
    "#### Compare predictions to reality in a `DataFrame`"
   ]
  },
  {
   "cell_type": "code",
   "execution_count": 11,
   "id": "022a857e",
   "metadata": {},
   "outputs": [
    {
     "data": {
      "text/html": [
       "<div>\n",
       "<style scoped>\n",
       "    .dataframe tbody tr th:only-of-type {\n",
       "        vertical-align: middle;\n",
       "    }\n",
       "\n",
       "    .dataframe tbody tr th {\n",
       "        vertical-align: top;\n",
       "    }\n",
       "\n",
       "    .dataframe thead th {\n",
       "        text-align: right;\n",
       "    }\n",
       "</style>\n",
       "<table border=\"1\" class=\"dataframe\">\n",
       "  <thead>\n",
       "    <tr style=\"text-align: right;\">\n",
       "      <th></th>\n",
       "      <th>change_tomorrow</th>\n",
       "      <th>prediction_regression</th>\n",
       "    </tr>\n",
       "    <tr>\n",
       "      <th>Date</th>\n",
       "      <th></th>\n",
       "      <th></th>\n",
       "    </tr>\n",
       "  </thead>\n",
       "  <tbody>\n",
       "    <tr>\n",
       "      <th>2007-01-09</th>\n",
       "      <td>4.567032</td>\n",
       "      <td>-0.753793</td>\n",
       "    </tr>\n",
       "    <tr>\n",
       "      <th>2007-01-10</th>\n",
       "      <td>-1.252610</td>\n",
       "      <td>-0.753793</td>\n",
       "    </tr>\n",
       "    <tr>\n",
       "      <th>...</th>\n",
       "      <td>...</td>\n",
       "      <td>...</td>\n",
       "    </tr>\n",
       "    <tr>\n",
       "      <th>2023-06-28</th>\n",
       "      <td>0.179332</td>\n",
       "      <td>-0.520486</td>\n",
       "    </tr>\n",
       "    <tr>\n",
       "      <th>2023-06-29</th>\n",
       "      <td>2.258084</td>\n",
       "      <td>0.276650</td>\n",
       "    </tr>\n",
       "  </tbody>\n",
       "</table>\n",
       "<p>4147 rows × 2 columns</p>\n",
       "</div>"
      ],
      "text/plain": [
       "            change_tomorrow  prediction_regression\n",
       "Date                                              \n",
       "2007-01-09         4.567032              -0.753793\n",
       "2007-01-10        -1.252610              -0.753793\n",
       "...                     ...                    ...\n",
       "2023-06-28         0.179332              -0.520486\n",
       "2023-06-29         2.258084               0.276650\n",
       "\n",
       "[4147 rows x 2 columns]"
      ]
     },
     "execution_count": 11,
     "metadata": {},
     "output_type": "execute_result"
    }
   ],
   "source": [
    "df_pred_regression = target_numerical.to_frame()\n",
    "df_pred_regression['prediction_regression'] = model_kn_r.predict(X=explanatory)\n",
    "df_pred_regression"
   ]
  },
  {
   "cell_type": "markdown",
   "id": "8230f6d4",
   "metadata": {},
   "source": [
    "#### Join regression and classification `DataFrame`"
   ]
  },
  {
   "cell_type": "code",
   "execution_count": 12,
   "id": "b0fa7be8",
   "metadata": {},
   "outputs": [
    {
     "data": {
      "text/html": [
       "<div>\n",
       "<style scoped>\n",
       "    .dataframe tbody tr th:only-of-type {\n",
       "        vertical-align: middle;\n",
       "    }\n",
       "\n",
       "    .dataframe tbody tr th {\n",
       "        vertical-align: top;\n",
       "    }\n",
       "\n",
       "    .dataframe thead th {\n",
       "        text-align: right;\n",
       "    }\n",
       "</style>\n",
       "<table border=\"1\" class=\"dataframe\">\n",
       "  <thead>\n",
       "    <tr style=\"text-align: right;\">\n",
       "      <th></th>\n",
       "      <th>change_tomorrow_direction</th>\n",
       "      <th>prediction_classification</th>\n",
       "      <th>change_tomorrow</th>\n",
       "      <th>prediction_regression</th>\n",
       "    </tr>\n",
       "    <tr>\n",
       "      <th>Date</th>\n",
       "      <th></th>\n",
       "      <th></th>\n",
       "      <th></th>\n",
       "      <th></th>\n",
       "    </tr>\n",
       "  </thead>\n",
       "  <tbody>\n",
       "    <tr>\n",
       "      <th>2007-01-09</th>\n",
       "      <td>UP</td>\n",
       "      <td>DOWN</td>\n",
       "      <td>4.567032</td>\n",
       "      <td>-0.753793</td>\n",
       "    </tr>\n",
       "    <tr>\n",
       "      <th>2007-01-10</th>\n",
       "      <td>DOWN</td>\n",
       "      <td>DOWN</td>\n",
       "      <td>-1.252610</td>\n",
       "      <td>-0.753793</td>\n",
       "    </tr>\n",
       "    <tr>\n",
       "      <th>...</th>\n",
       "      <td>...</td>\n",
       "      <td>...</td>\n",
       "      <td>...</td>\n",
       "      <td>...</td>\n",
       "    </tr>\n",
       "    <tr>\n",
       "      <th>2023-06-28</th>\n",
       "      <td>UP</td>\n",
       "      <td>UP</td>\n",
       "      <td>0.179332</td>\n",
       "      <td>-0.520486</td>\n",
       "    </tr>\n",
       "    <tr>\n",
       "      <th>2023-06-29</th>\n",
       "      <td>UP</td>\n",
       "      <td>DOWN</td>\n",
       "      <td>2.258084</td>\n",
       "      <td>0.276650</td>\n",
       "    </tr>\n",
       "  </tbody>\n",
       "</table>\n",
       "<p>4147 rows × 4 columns</p>\n",
       "</div>"
      ],
      "text/plain": [
       "           change_tomorrow_direction prediction_classification  \\\n",
       "Date                                                             \n",
       "2007-01-09                        UP                      DOWN   \n",
       "2007-01-10                      DOWN                      DOWN   \n",
       "...                              ...                       ...   \n",
       "2023-06-28                        UP                        UP   \n",
       "2023-06-29                        UP                      DOWN   \n",
       "\n",
       "            change_tomorrow  prediction_regression  \n",
       "Date                                                \n",
       "2007-01-09         4.567032              -0.753793  \n",
       "2007-01-10        -1.252610              -0.753793  \n",
       "...                     ...                    ...  \n",
       "2023-06-28         0.179332              -0.520486  \n",
       "2023-06-29         2.258084               0.276650  \n",
       "\n",
       "[4147 rows x 4 columns]"
      ]
     },
     "execution_count": 12,
     "metadata": {},
     "output_type": "execute_result"
    }
   ],
   "source": [
    "pd.concat([df_pred_classification, df_pred_regression], axis=1)"
   ]
  },
  {
   "cell_type": "markdown",
   "id": "b3f99bc5",
   "metadata": {},
   "source": [
    "## Other algorithms"
   ]
  },
  {
   "cell_type": "markdown",
   "id": "8995b4ae",
   "metadata": {},
   "source": [
    "### Decision Tree"
   ]
  },
  {
   "cell_type": "markdown",
   "id": "92c92933",
   "metadata": {},
   "source": [
    "#### Regression "
   ]
  },
  {
   "cell_type": "code",
   "execution_count": 13,
   "id": "f6d6a30c",
   "metadata": {},
   "outputs": [
    {
     "data": {
      "text/plain": [
       "1.0"
      ]
     },
     "execution_count": 13,
     "metadata": {},
     "output_type": "execute_result"
    }
   ],
   "source": [
    "from sklearn.tree import DecisionTreeRegressor\n",
    "model_dt_r = DecisionTreeRegressor()\n",
    "\n",
    "model_dt_r.fit(X=explanatory, y=target_numerical)\n",
    "model_dt_r.predict(X=explanatory)\n",
    "model_dt_r.score(X=explanatory, y=target_numerical)"
   ]
  },
  {
   "cell_type": "markdown",
   "id": "cab4354a",
   "metadata": {},
   "source": [
    "#### Classification"
   ]
  },
  {
   "cell_type": "code",
   "execution_count": 14,
   "id": "9ffce8a0",
   "metadata": {},
   "outputs": [
    {
     "data": {
      "text/plain": [
       "1.0"
      ]
     },
     "execution_count": 14,
     "metadata": {},
     "output_type": "execute_result"
    }
   ],
   "source": [
    "from sklearn.tree import DecisionTreeClassifier\n",
    "model_dt_c = DecisionTreeClassifier()\n",
    "\n",
    "model_dt_c.fit(X=explanatory, y=target_categorical)\n",
    "model_dt_c.predict(X=explanatory)\n",
    "model_dt_c.score(X=explanatory, y=target_categorical)"
   ]
  },
  {
   "cell_type": "markdown",
   "id": "e7df14bf",
   "metadata": {},
   "source": [
    "### Random Forest"
   ]
  },
  {
   "cell_type": "markdown",
   "id": "58b79134",
   "metadata": {},
   "source": [
    "#### Regression "
   ]
  },
  {
   "cell_type": "code",
   "execution_count": 15,
   "id": "e43a02ab",
   "metadata": {},
   "outputs": [
    {
     "data": {
      "text/plain": [
       "0.8441657364976928"
      ]
     },
     "execution_count": 15,
     "metadata": {},
     "output_type": "execute_result"
    }
   ],
   "source": [
    "from sklearn.ensemble import RandomForestRegressor\n",
    "model_rf_r = RandomForestRegressor()\n",
    "\n",
    "model_rf_r.fit(X=explanatory, y=target_numerical)\n",
    "model_rf_r.predict(X=explanatory)\n",
    "model_rf_r.score(X=explanatory, y=target_numerical)"
   ]
  },
  {
   "cell_type": "markdown",
   "id": "858b41ce",
   "metadata": {},
   "source": [
    "#### Classification"
   ]
  },
  {
   "cell_type": "code",
   "execution_count": 16,
   "id": "61c0d38f",
   "metadata": {},
   "outputs": [
    {
     "data": {
      "text/plain": [
       "1.0"
      ]
     },
     "execution_count": 16,
     "metadata": {},
     "output_type": "execute_result"
    }
   ],
   "source": [
    "from sklearn.ensemble import RandomForestClassifier\n",
    "model_rf_c = RandomForestClassifier()\n",
    "\n",
    "model_rf_c.fit(X=explanatory, y=target_categorical)\n",
    "model_rf_c.predict(X=explanatory)\n",
    "model_rf_c.score(X=explanatory, y=target_categorical)"
   ]
  },
  {
   "cell_type": "markdown",
   "id": "3480d4ac",
   "metadata": {},
   "source": [
    "## Compare all models in a `DataFrame`"
   ]
  },
  {
   "cell_type": "markdown",
   "id": "932a7565",
   "metadata": {},
   "source": [
    "### Regression models"
   ]
  },
  {
   "cell_type": "code",
   "execution_count": 17,
   "id": "168e168e",
   "metadata": {},
   "outputs": [
    {
     "data": {
      "text/html": [
       "<div>\n",
       "<style scoped>\n",
       "    .dataframe tbody tr th:only-of-type {\n",
       "        vertical-align: middle;\n",
       "    }\n",
       "\n",
       "    .dataframe tbody tr th {\n",
       "        vertical-align: top;\n",
       "    }\n",
       "\n",
       "    .dataframe thead th {\n",
       "        text-align: right;\n",
       "    }\n",
       "</style>\n",
       "<table border=\"1\" class=\"dataframe\">\n",
       "  <thead>\n",
       "    <tr style=\"text-align: right;\">\n",
       "      <th></th>\n",
       "      <th>target_numerical</th>\n",
       "      <th>KNeighborsRegressor</th>\n",
       "      <th>DecisionTreeRegressor</th>\n",
       "      <th>RandomForestRegressor</th>\n",
       "    </tr>\n",
       "    <tr>\n",
       "      <th>Date</th>\n",
       "      <th></th>\n",
       "      <th></th>\n",
       "      <th></th>\n",
       "      <th></th>\n",
       "    </tr>\n",
       "  </thead>\n",
       "  <tbody>\n",
       "    <tr>\n",
       "      <th>2007-01-09</th>\n",
       "      <td>4.567032</td>\n",
       "      <td>-0.753793</td>\n",
       "      <td>4.567032</td>\n",
       "      <td>3.257692</td>\n",
       "    </tr>\n",
       "    <tr>\n",
       "      <th>2007-01-10</th>\n",
       "      <td>-1.252610</td>\n",
       "      <td>-0.753793</td>\n",
       "      <td>-1.252610</td>\n",
       "      <td>-0.499195</td>\n",
       "    </tr>\n",
       "    <tr>\n",
       "      <th>...</th>\n",
       "      <td>...</td>\n",
       "      <td>...</td>\n",
       "      <td>...</td>\n",
       "      <td>...</td>\n",
       "    </tr>\n",
       "    <tr>\n",
       "      <th>2023-06-28</th>\n",
       "      <td>0.179332</td>\n",
       "      <td>-0.520486</td>\n",
       "      <td>0.179332</td>\n",
       "      <td>0.372556</td>\n",
       "    </tr>\n",
       "    <tr>\n",
       "      <th>2023-06-29</th>\n",
       "      <td>2.258084</td>\n",
       "      <td>0.276650</td>\n",
       "      <td>2.258084</td>\n",
       "      <td>1.840134</td>\n",
       "    </tr>\n",
       "  </tbody>\n",
       "</table>\n",
       "<p>4147 rows × 4 columns</p>\n",
       "</div>"
      ],
      "text/plain": [
       "            target_numerical  KNeighborsRegressor  DecisionTreeRegressor  \\\n",
       "Date                                                                       \n",
       "2007-01-09          4.567032            -0.753793               4.567032   \n",
       "2007-01-10         -1.252610            -0.753793              -1.252610   \n",
       "...                      ...                  ...                    ...   \n",
       "2023-06-28          0.179332            -0.520486               0.179332   \n",
       "2023-06-29          2.258084             0.276650               2.258084   \n",
       "\n",
       "            RandomForestRegressor  \n",
       "Date                               \n",
       "2007-01-09               3.257692  \n",
       "2007-01-10              -0.499195  \n",
       "...                           ...  \n",
       "2023-06-28               0.372556  \n",
       "2023-06-29               1.840134  \n",
       "\n",
       "[4147 rows x 4 columns]"
      ]
     },
     "execution_count": 17,
     "metadata": {},
     "output_type": "execute_result"
    }
   ],
   "source": [
    "list_model_regression = [model_kn_r, model_dt_r, model_rf_r]\n",
    "list_model_regression_names = map(lambda x: x.__class__.__name__, list_model_regression)\n",
    "list_model_regression_predictions = list(map(lambda x: x.predict(X=explanatory), list_model_regression))\n",
    "df_pred_regression = pd.DataFrame(\n",
    "    list_model_regression_predictions,\n",
    "    index=list_model_regression_names).T.set_index(df.index)\n",
    "\n",
    "df_pred_regression.insert(0, 'target_numerical', target_numerical)\n",
    "df_pred_regression"
   ]
  },
  {
   "cell_type": "markdown",
   "id": "5f4bcee8",
   "metadata": {},
   "source": [
    "### Classification models"
   ]
  },
  {
   "cell_type": "code",
   "execution_count": 18,
   "id": "c00ed56e",
   "metadata": {},
   "outputs": [
    {
     "data": {
      "text/html": [
       "<div>\n",
       "<style scoped>\n",
       "    .dataframe tbody tr th:only-of-type {\n",
       "        vertical-align: middle;\n",
       "    }\n",
       "\n",
       "    .dataframe tbody tr th {\n",
       "        vertical-align: top;\n",
       "    }\n",
       "\n",
       "    .dataframe thead th {\n",
       "        text-align: right;\n",
       "    }\n",
       "</style>\n",
       "<table border=\"1\" class=\"dataframe\">\n",
       "  <thead>\n",
       "    <tr style=\"text-align: right;\">\n",
       "      <th></th>\n",
       "      <th>target_categorical</th>\n",
       "      <th>KNeighborsClassifier</th>\n",
       "      <th>DecisionTreeClassifier</th>\n",
       "      <th>RandomForestClassifier</th>\n",
       "    </tr>\n",
       "    <tr>\n",
       "      <th>Date</th>\n",
       "      <th></th>\n",
       "      <th></th>\n",
       "      <th></th>\n",
       "      <th></th>\n",
       "    </tr>\n",
       "  </thead>\n",
       "  <tbody>\n",
       "    <tr>\n",
       "      <th>2007-01-09</th>\n",
       "      <td>UP</td>\n",
       "      <td>DOWN</td>\n",
       "      <td>UP</td>\n",
       "      <td>UP</td>\n",
       "    </tr>\n",
       "    <tr>\n",
       "      <th>2007-01-10</th>\n",
       "      <td>DOWN</td>\n",
       "      <td>DOWN</td>\n",
       "      <td>DOWN</td>\n",
       "      <td>DOWN</td>\n",
       "    </tr>\n",
       "    <tr>\n",
       "      <th>...</th>\n",
       "      <td>...</td>\n",
       "      <td>...</td>\n",
       "      <td>...</td>\n",
       "      <td>...</td>\n",
       "    </tr>\n",
       "    <tr>\n",
       "      <th>2023-06-28</th>\n",
       "      <td>UP</td>\n",
       "      <td>UP</td>\n",
       "      <td>UP</td>\n",
       "      <td>UP</td>\n",
       "    </tr>\n",
       "    <tr>\n",
       "      <th>2023-06-29</th>\n",
       "      <td>UP</td>\n",
       "      <td>DOWN</td>\n",
       "      <td>UP</td>\n",
       "      <td>UP</td>\n",
       "    </tr>\n",
       "  </tbody>\n",
       "</table>\n",
       "<p>4147 rows × 4 columns</p>\n",
       "</div>"
      ],
      "text/plain": [
       "           target_categorical KNeighborsClassifier DecisionTreeClassifier  \\\n",
       "Date                                                                        \n",
       "2007-01-09                 UP                 DOWN                     UP   \n",
       "2007-01-10               DOWN                 DOWN                   DOWN   \n",
       "...                       ...                  ...                    ...   \n",
       "2023-06-28                 UP                   UP                     UP   \n",
       "2023-06-29                 UP                 DOWN                     UP   \n",
       "\n",
       "           RandomForestClassifier  \n",
       "Date                               \n",
       "2007-01-09                     UP  \n",
       "2007-01-10                   DOWN  \n",
       "...                           ...  \n",
       "2023-06-28                     UP  \n",
       "2023-06-29                     UP  \n",
       "\n",
       "[4147 rows x 4 columns]"
      ]
     },
     "execution_count": 18,
     "metadata": {},
     "output_type": "execute_result"
    }
   ],
   "source": [
    "list_model_classification = [model_kn_c, model_dt_c, model_rf_c]\n",
    "list_model_classification_names = map(lambda x: x.__class__.__name__, list_model_classification)\n",
    "list_model_classification_predictions = list(map(lambda x: x.predict(X=explanatory), list_model_classification))\n",
    "df_pred_classification = pd.DataFrame(\n",
    "    list_model_classification_predictions,\n",
    "    index=list_model_classification_names).T.set_index(df.index)\n",
    "\n",
    "df_pred_classification.insert(0, 'target_categorical', target_categorical)\n",
    "df_pred_classification"
   ]
  }
 ],
 "metadata": {
  "kernelspec": {
   "display_name": "Python 3 (ipykernel)",
   "language": "python",
   "name": "python3"
  },
  "language_info": {
   "codemirror_mode": {
    "name": "ipython",
    "version": 3
   },
   "file_extension": ".py",
   "mimetype": "text/x-python",
   "name": "python",
   "nbconvert_exporter": "python",
   "pygments_lexer": "ipython3",
   "version": "3.10.6"
  }
 },
 "nbformat": 4,
 "nbformat_minor": 5
}
