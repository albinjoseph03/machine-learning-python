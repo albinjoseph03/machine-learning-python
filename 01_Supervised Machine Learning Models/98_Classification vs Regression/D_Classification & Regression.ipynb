{
 "cells": [
  {
   "attachments": {},
   "cell_type": "markdown",
   "id": "93d658d4",
   "metadata": {},
   "source": [
    "# Classification vs Regression ML Models"
   ]
  },
  {
   "attachments": {},
   "cell_type": "markdown",
   "id": "726ed1f5-8f2e-4e72-9e96-643fec7ca11a",
   "metadata": {},
   "source": [
    "## Data loading"
   ]
  },
  {
   "cell_type": "code",
   "execution_count": 6,
   "id": "9f9d6220-8756-4c2b-9b36-834614882376",
   "metadata": {},
   "outputs": [
    {
     "data": {
      "text/html": [
       "<div>\n",
       "<style scoped>\n",
       "    .dataframe tbody tr th:only-of-type {\n",
       "        vertical-align: middle;\n",
       "    }\n",
       "\n",
       "    .dataframe tbody tr th {\n",
       "        vertical-align: top;\n",
       "    }\n",
       "\n",
       "    .dataframe thead th {\n",
       "        text-align: right;\n",
       "    }\n",
       "</style>\n",
       "<table border=\"1\" class=\"dataframe\">\n",
       "  <thead>\n",
       "    <tr style=\"text-align: right;\">\n",
       "      <th></th>\n",
       "      <th>mpg</th>\n",
       "      <th>cylinders</th>\n",
       "      <th>displacement</th>\n",
       "      <th>horsepower</th>\n",
       "      <th>weight</th>\n",
       "      <th>acceleration</th>\n",
       "      <th>model_year</th>\n",
       "      <th>origin</th>\n",
       "    </tr>\n",
       "    <tr>\n",
       "      <th>name</th>\n",
       "      <th></th>\n",
       "      <th></th>\n",
       "      <th></th>\n",
       "      <th></th>\n",
       "      <th></th>\n",
       "      <th></th>\n",
       "      <th></th>\n",
       "      <th></th>\n",
       "    </tr>\n",
       "  </thead>\n",
       "  <tbody>\n",
       "    <tr>\n",
       "      <th>chevrolet chevelle malibu</th>\n",
       "      <td>18.0</td>\n",
       "      <td>8</td>\n",
       "      <td>307.0</td>\n",
       "      <td>130.0</td>\n",
       "      <td>3504</td>\n",
       "      <td>12.0</td>\n",
       "      <td>70</td>\n",
       "      <td>usa</td>\n",
       "    </tr>\n",
       "    <tr>\n",
       "      <th>buick skylark 320</th>\n",
       "      <td>15.0</td>\n",
       "      <td>8</td>\n",
       "      <td>350.0</td>\n",
       "      <td>165.0</td>\n",
       "      <td>3693</td>\n",
       "      <td>11.5</td>\n",
       "      <td>70</td>\n",
       "      <td>usa</td>\n",
       "    </tr>\n",
       "    <tr>\n",
       "      <th>...</th>\n",
       "      <td>...</td>\n",
       "      <td>...</td>\n",
       "      <td>...</td>\n",
       "      <td>...</td>\n",
       "      <td>...</td>\n",
       "      <td>...</td>\n",
       "      <td>...</td>\n",
       "      <td>...</td>\n",
       "    </tr>\n",
       "    <tr>\n",
       "      <th>ford ranger</th>\n",
       "      <td>28.0</td>\n",
       "      <td>4</td>\n",
       "      <td>120.0</td>\n",
       "      <td>79.0</td>\n",
       "      <td>2625</td>\n",
       "      <td>18.6</td>\n",
       "      <td>82</td>\n",
       "      <td>usa</td>\n",
       "    </tr>\n",
       "    <tr>\n",
       "      <th>chevy s-10</th>\n",
       "      <td>31.0</td>\n",
       "      <td>4</td>\n",
       "      <td>119.0</td>\n",
       "      <td>82.0</td>\n",
       "      <td>2720</td>\n",
       "      <td>19.4</td>\n",
       "      <td>82</td>\n",
       "      <td>usa</td>\n",
       "    </tr>\n",
       "  </tbody>\n",
       "</table>\n",
       "<p>392 rows × 8 columns</p>\n",
       "</div>"
      ],
      "text/plain": [
       "                            mpg  cylinders  displacement  horsepower  weight  \\\n",
       "name                                                                           \n",
       "chevrolet chevelle malibu  18.0          8         307.0       130.0    3504   \n",
       "buick skylark 320          15.0          8         350.0       165.0    3693   \n",
       "...                         ...        ...           ...         ...     ...   \n",
       "ford ranger                28.0          4         120.0        79.0    2625   \n",
       "chevy s-10                 31.0          4         119.0        82.0    2720   \n",
       "\n",
       "                           acceleration  model_year origin  \n",
       "name                                                        \n",
       "chevrolet chevelle malibu          12.0          70    usa  \n",
       "buick skylark 320                  11.5          70    usa  \n",
       "...                                 ...         ...    ...  \n",
       "ford ranger                        18.6          82    usa  \n",
       "chevy s-10                         19.4          82    usa  \n",
       "\n",
       "[392 rows x 8 columns]"
      ]
     },
     "execution_count": 6,
     "metadata": {},
     "output_type": "execute_result"
    }
   ],
   "source": [
    "import pandas as pd\n",
    "import seaborn as sns\n",
    "\n",
    "df_mpg = sns.load_dataset('mpg', index_col='name').dropna()\n",
    "df_mpg"
   ]
  },
  {
   "attachments": {},
   "cell_type": "markdown",
   "id": "e9a81a1b",
   "metadata": {},
   "source": [
    "## Feature selection"
   ]
  },
  {
   "attachments": {},
   "cell_type": "markdown",
   "id": "7e8d9e56",
   "metadata": {},
   "source": [
    "Create two target variables:\n",
    "\n",
    "1. `target_categorical`\n",
    "2. `target_numerical`"
   ]
  },
  {
   "cell_type": "code",
   "execution_count": 7,
   "id": "64f18821",
   "metadata": {},
   "outputs": [],
   "source": [
    "target_categorical = df_mpg.origin\n",
    "target_numerical = df_mpg.mpg"
   ]
  },
  {
   "attachments": {},
   "cell_type": "markdown",
   "id": "c265e0de",
   "metadata": {},
   "source": [
    "And select the explanatory variables:"
   ]
  },
  {
   "cell_type": "code",
   "execution_count": 8,
   "id": "e70d30db",
   "metadata": {},
   "outputs": [],
   "source": [
    "explanatory = df_mpg.drop(columns=['mpg', 'origin'])"
   ]
  },
  {
   "attachments": {},
   "cell_type": "markdown",
   "id": "dc60b8e9",
   "metadata": {},
   "source": [
    "## Machine Learning System\n",
    "\n",
    "K Nearest Neighbors"
   ]
  },
  {
   "attachments": {},
   "cell_type": "markdown",
   "id": "bf95e298-19ea-4094-b3c5-bc755e69fdc3",
   "metadata": {},
   "source": [
    "### ML classification model"
   ]
  },
  {
   "attachments": {},
   "cell_type": "markdown",
   "id": "dd3c4e9a",
   "metadata": {},
   "source": [
    "#### Fit the mathematical equation"
   ]
  },
  {
   "cell_type": "code",
   "execution_count": 9,
   "id": "4104be51",
   "metadata": {},
   "outputs": [
    {
     "data": {
      "text/html": [
       "<style>#sk-container-id-1 {color: black;background-color: white;}#sk-container-id-1 pre{padding: 0;}#sk-container-id-1 div.sk-toggleable {background-color: white;}#sk-container-id-1 label.sk-toggleable__label {cursor: pointer;display: block;width: 100%;margin-bottom: 0;padding: 0.3em;box-sizing: border-box;text-align: center;}#sk-container-id-1 label.sk-toggleable__label-arrow:before {content: \"▸\";float: left;margin-right: 0.25em;color: #696969;}#sk-container-id-1 label.sk-toggleable__label-arrow:hover:before {color: black;}#sk-container-id-1 div.sk-estimator:hover label.sk-toggleable__label-arrow:before {color: black;}#sk-container-id-1 div.sk-toggleable__content {max-height: 0;max-width: 0;overflow: hidden;text-align: left;background-color: #f0f8ff;}#sk-container-id-1 div.sk-toggleable__content pre {margin: 0.2em;color: black;border-radius: 0.25em;background-color: #f0f8ff;}#sk-container-id-1 input.sk-toggleable__control:checked~div.sk-toggleable__content {max-height: 200px;max-width: 100%;overflow: auto;}#sk-container-id-1 input.sk-toggleable__control:checked~label.sk-toggleable__label-arrow:before {content: \"▾\";}#sk-container-id-1 div.sk-estimator input.sk-toggleable__control:checked~label.sk-toggleable__label {background-color: #d4ebff;}#sk-container-id-1 div.sk-label input.sk-toggleable__control:checked~label.sk-toggleable__label {background-color: #d4ebff;}#sk-container-id-1 input.sk-hidden--visually {border: 0;clip: rect(1px 1px 1px 1px);clip: rect(1px, 1px, 1px, 1px);height: 1px;margin: -1px;overflow: hidden;padding: 0;position: absolute;width: 1px;}#sk-container-id-1 div.sk-estimator {font-family: monospace;background-color: #f0f8ff;border: 1px dotted black;border-radius: 0.25em;box-sizing: border-box;margin-bottom: 0.5em;}#sk-container-id-1 div.sk-estimator:hover {background-color: #d4ebff;}#sk-container-id-1 div.sk-parallel-item::after {content: \"\";width: 100%;border-bottom: 1px solid gray;flex-grow: 1;}#sk-container-id-1 div.sk-label:hover label.sk-toggleable__label {background-color: #d4ebff;}#sk-container-id-1 div.sk-serial::before {content: \"\";position: absolute;border-left: 1px solid gray;box-sizing: border-box;top: 0;bottom: 0;left: 50%;z-index: 0;}#sk-container-id-1 div.sk-serial {display: flex;flex-direction: column;align-items: center;background-color: white;padding-right: 0.2em;padding-left: 0.2em;position: relative;}#sk-container-id-1 div.sk-item {position: relative;z-index: 1;}#sk-container-id-1 div.sk-parallel {display: flex;align-items: stretch;justify-content: center;background-color: white;position: relative;}#sk-container-id-1 div.sk-item::before, #sk-container-id-1 div.sk-parallel-item::before {content: \"\";position: absolute;border-left: 1px solid gray;box-sizing: border-box;top: 0;bottom: 0;left: 50%;z-index: -1;}#sk-container-id-1 div.sk-parallel-item {display: flex;flex-direction: column;z-index: 1;position: relative;background-color: white;}#sk-container-id-1 div.sk-parallel-item:first-child::after {align-self: flex-end;width: 50%;}#sk-container-id-1 div.sk-parallel-item:last-child::after {align-self: flex-start;width: 50%;}#sk-container-id-1 div.sk-parallel-item:only-child::after {width: 0;}#sk-container-id-1 div.sk-dashed-wrapped {border: 1px dashed gray;margin: 0 0.4em 0.5em 0.4em;box-sizing: border-box;padding-bottom: 0.4em;background-color: white;}#sk-container-id-1 div.sk-label label {font-family: monospace;font-weight: bold;display: inline-block;line-height: 1.2em;}#sk-container-id-1 div.sk-label-container {text-align: center;}#sk-container-id-1 div.sk-container {/* jupyter's `normalize.less` sets `[hidden] { display: none; }` but bootstrap.min.css set `[hidden] { display: none !important; }` so we also need the `!important` here to be able to override the default hidden behavior on the sphinx rendered scikit-learn.org. See: https://github.com/scikit-learn/scikit-learn/issues/21755 */display: inline-block !important;position: relative;}#sk-container-id-1 div.sk-text-repr-fallback {display: none;}</style><div id=\"sk-container-id-1\" class=\"sk-top-container\"><div class=\"sk-text-repr-fallback\"><pre>KNeighborsClassifier()</pre><b>In a Jupyter environment, please rerun this cell to show the HTML representation or trust the notebook. <br />On GitHub, the HTML representation is unable to render, please try loading this page with nbviewer.org.</b></div><div class=\"sk-container\" hidden><div class=\"sk-item\"><div class=\"sk-estimator sk-toggleable\"><input class=\"sk-toggleable__control sk-hidden--visually\" id=\"sk-estimator-id-1\" type=\"checkbox\" checked><label for=\"sk-estimator-id-1\" class=\"sk-toggleable__label sk-toggleable__label-arrow\">KNeighborsClassifier</label><div class=\"sk-toggleable__content\"><pre>KNeighborsClassifier()</pre></div></div></div></div></div>"
      ],
      "text/plain": [
       "KNeighborsClassifier()"
      ]
     },
     "execution_count": 9,
     "metadata": {},
     "output_type": "execute_result"
    }
   ],
   "source": [
    "from sklearn.neighbors import KNeighborsClassifier\n",
    "\n",
    "model_kn_c = KNeighborsClassifier()\n",
    "model_kn_c.fit(X=explanatory, y=target_categorical)"
   ]
  },
  {
   "attachments": {},
   "cell_type": "markdown",
   "id": "6ec22298",
   "metadata": {},
   "source": [
    "#### Calculate predictions"
   ]
  },
  {
   "cell_type": "code",
   "execution_count": 10,
   "id": "b4b688d1",
   "metadata": {},
   "outputs": [
    {
     "data": {
      "text/plain": [
       "array(['usa', 'usa', 'usa', 'usa', 'usa', 'usa', 'usa', 'usa', 'usa',\n",
       "       'usa', 'usa', 'usa', 'usa', 'usa', 'japan', 'usa', 'usa', 'usa',\n",
       "       'japan', 'europe', 'europe', 'europe', 'japan', 'europe', 'usa',\n",
       "       'usa', 'usa', 'usa', 'usa', 'japan', 'japan', 'europe', 'usa',\n",
       "       'usa', 'usa', 'usa', 'usa', 'usa', 'usa', 'usa', 'usa', 'usa',\n",
       "       'usa', 'usa', 'usa', 'usa', 'usa', 'usa', 'japan', 'japan',\n",
       "       'europe', 'europe', 'japan', 'japan', 'europe', 'japan', 'japan',\n",
       "       'usa', 'japan', 'usa', 'usa', 'usa', 'usa', 'usa', 'usa', 'usa',\n",
       "       'usa', 'usa', 'usa', 'usa', 'japan', 'usa', 'usa', 'usa', 'usa',\n",
       "       'europe', 'europe', 'europe', 'europe', 'usa', 'japan', 'japan',\n",
       "       'usa', 'usa', 'usa', 'usa', 'usa', 'usa', 'usa', 'usa', 'usa',\n",
       "       'usa', 'usa', 'usa', 'usa', 'usa', 'usa', 'usa', 'usa', 'usa',\n",
       "       'usa', 'japan', 'usa', 'usa', 'usa', 'usa', 'usa', 'japan', 'usa',\n",
       "       'japan', 'japan', 'usa', 'usa', 'japan', 'usa', 'usa', 'europe',\n",
       "       'japan', 'usa', 'usa', 'usa', 'europe', 'europe', 'usa', 'usa',\n",
       "       'usa', 'usa', 'europe', 'europe', 'europe', 'usa', 'usa', 'usa',\n",
       "       'usa', 'usa', 'usa', 'usa', 'usa', 'usa', 'europe', 'japan',\n",
       "       'japan', 'japan', 'japan', 'usa', 'japan', 'japan', 'japan',\n",
       "       'japan', 'japan', 'usa', 'usa', 'usa', 'usa', 'usa', 'usa', 'usa',\n",
       "       'usa', 'usa', 'usa', 'usa', 'usa', 'usa', 'usa', 'usa', 'usa',\n",
       "       'usa', 'usa', 'usa', 'japan', 'europe', 'japan', 'usa', 'europe',\n",
       "       'usa', 'europe', 'europe', 'europe', 'europe', 'japan', 'europe',\n",
       "       'usa', 'usa', 'japan', 'europe', 'usa', 'usa', 'usa', 'usa', 'usa',\n",
       "       'usa', 'usa', 'usa', 'japan', 'usa', 'europe', 'japan', 'usa',\n",
       "       'usa', 'usa', 'usa', 'europe', 'japan', 'usa', 'usa', 'europe',\n",
       "       'usa', 'europe', 'japan', 'usa', 'usa', 'usa', 'usa', 'usa',\n",
       "       'japan', 'japan', 'europe', 'usa', 'europe', 'usa', 'usa', 'usa',\n",
       "       'usa', 'usa', 'usa', 'usa', 'usa', 'usa', 'usa', 'usa', 'usa',\n",
       "       'europe', 'usa', 'japan', 'usa', 'japan', 'europe', 'japan',\n",
       "       'europe', 'japan', 'europe', 'japan', 'japan', 'japan', 'japan',\n",
       "       'europe', 'japan', 'usa', 'usa', 'usa', 'usa', 'usa', 'usa', 'usa',\n",
       "       'usa', 'usa', 'usa', 'usa', 'usa', 'usa', 'usa', 'usa', 'usa',\n",
       "       'usa', 'usa', 'usa', 'usa', 'europe', 'europe', 'usa', 'usa',\n",
       "       'usa', 'europe', 'europe', 'japan', 'usa', 'japan', 'europe',\n",
       "       'usa', 'usa', 'usa', 'usa', 'usa', 'usa', 'usa', 'usa', 'usa',\n",
       "       'usa', 'usa', 'usa', 'usa', 'europe', 'japan', 'europe', 'europe',\n",
       "       'usa', 'usa', 'europe', 'usa', 'europe', 'japan', 'japan', 'usa',\n",
       "       'usa', 'usa', 'usa', 'usa', 'japan', 'japan', 'usa', 'japan',\n",
       "       'usa', 'usa', 'usa', 'usa', 'europe', 'japan', 'japan', 'europe',\n",
       "       'japan', 'japan', 'japan', 'japan', 'japan', 'europe', 'europe',\n",
       "       'europe', 'europe', 'japan', 'europe', 'japan', 'japan', 'europe',\n",
       "       'japan', 'japan', 'usa', 'usa', 'usa', 'usa', 'japan', 'europe',\n",
       "       'japan', 'japan', 'japan', 'japan', 'japan', 'usa', 'japan',\n",
       "       'japan', 'europe', 'japan', 'japan', 'usa', 'usa', 'europe',\n",
       "       'europe', 'japan', 'japan', 'usa', 'usa', 'usa', 'usa', 'europe',\n",
       "       'usa', 'japan', 'usa', 'japan', 'usa', 'usa', 'japan', 'japan',\n",
       "       'japan', 'usa', 'usa', 'usa', 'europe', 'japan', 'japan', 'japan',\n",
       "       'japan', 'usa', 'usa', 'usa', 'usa', 'usa', 'usa', 'europe', 'usa',\n",
       "       'europe', 'usa', 'usa', 'japan'], dtype=object)"
      ]
     },
     "execution_count": 10,
     "metadata": {},
     "output_type": "execute_result"
    }
   ],
   "source": [
    "model_kn_c.predict(X=explanatory)"
   ]
  },
  {
   "attachments": {},
   "cell_type": "markdown",
   "id": "dd8817bb",
   "metadata": {},
   "source": [
    "#### Compare predictions to reality"
   ]
  },
  {
   "cell_type": "code",
   "execution_count": 11,
   "id": "9d51d6d3",
   "metadata": {},
   "outputs": [
    {
     "data": {
      "text/plain": [
       "0.8214285714285714"
      ]
     },
     "execution_count": 11,
     "metadata": {},
     "output_type": "execute_result"
    }
   ],
   "source": [
    "model_kn_c.score(X=explanatory, y=target_categorical)"
   ]
  },
  {
   "attachments": {},
   "cell_type": "markdown",
   "id": "cc965467",
   "metadata": {},
   "source": [
    "#### Compare predictions to reality in a `DataFrame`"
   ]
  },
  {
   "cell_type": "code",
   "execution_count": 12,
   "id": "75b3015e",
   "metadata": {},
   "outputs": [
    {
     "data": {
      "text/html": [
       "<div>\n",
       "<style scoped>\n",
       "    .dataframe tbody tr th:only-of-type {\n",
       "        vertical-align: middle;\n",
       "    }\n",
       "\n",
       "    .dataframe tbody tr th {\n",
       "        vertical-align: top;\n",
       "    }\n",
       "\n",
       "    .dataframe thead th {\n",
       "        text-align: right;\n",
       "    }\n",
       "</style>\n",
       "<table border=\"1\" class=\"dataframe\">\n",
       "  <thead>\n",
       "    <tr style=\"text-align: right;\">\n",
       "      <th></th>\n",
       "      <th>origin</th>\n",
       "      <th>prediction_classification</th>\n",
       "    </tr>\n",
       "    <tr>\n",
       "      <th>name</th>\n",
       "      <th></th>\n",
       "      <th></th>\n",
       "    </tr>\n",
       "  </thead>\n",
       "  <tbody>\n",
       "    <tr>\n",
       "      <th>chevrolet chevelle malibu</th>\n",
       "      <td>usa</td>\n",
       "      <td>usa</td>\n",
       "    </tr>\n",
       "    <tr>\n",
       "      <th>buick skylark 320</th>\n",
       "      <td>usa</td>\n",
       "      <td>usa</td>\n",
       "    </tr>\n",
       "    <tr>\n",
       "      <th>...</th>\n",
       "      <td>...</td>\n",
       "      <td>...</td>\n",
       "    </tr>\n",
       "    <tr>\n",
       "      <th>ford ranger</th>\n",
       "      <td>usa</td>\n",
       "      <td>usa</td>\n",
       "    </tr>\n",
       "    <tr>\n",
       "      <th>chevy s-10</th>\n",
       "      <td>usa</td>\n",
       "      <td>japan</td>\n",
       "    </tr>\n",
       "  </tbody>\n",
       "</table>\n",
       "<p>392 rows × 2 columns</p>\n",
       "</div>"
      ],
      "text/plain": [
       "                          origin prediction_classification\n",
       "name                                                      \n",
       "chevrolet chevelle malibu    usa                       usa\n",
       "buick skylark 320            usa                       usa\n",
       "...                          ...                       ...\n",
       "ford ranger                  usa                       usa\n",
       "chevy s-10                   usa                     japan\n",
       "\n",
       "[392 rows x 2 columns]"
      ]
     },
     "execution_count": 12,
     "metadata": {},
     "output_type": "execute_result"
    }
   ],
   "source": [
    "df_pred_classification = target_categorical.to_frame()\n",
    "df_pred_classification['prediction_classification'] = model_kn_c.predict(X=explanatory)\n",
    "df_pred_classification"
   ]
  },
  {
   "attachments": {},
   "cell_type": "markdown",
   "id": "a43a1211",
   "metadata": {},
   "source": [
    "### ML regression model"
   ]
  },
  {
   "attachments": {},
   "cell_type": "markdown",
   "id": "ef7e1da7",
   "metadata": {},
   "source": [
    "#### Fit the mathematical equation"
   ]
  },
  {
   "cell_type": "code",
   "execution_count": 13,
   "id": "2672f3f5",
   "metadata": {},
   "outputs": [
    {
     "data": {
      "text/html": [
       "<style>#sk-container-id-2 {color: black;background-color: white;}#sk-container-id-2 pre{padding: 0;}#sk-container-id-2 div.sk-toggleable {background-color: white;}#sk-container-id-2 label.sk-toggleable__label {cursor: pointer;display: block;width: 100%;margin-bottom: 0;padding: 0.3em;box-sizing: border-box;text-align: center;}#sk-container-id-2 label.sk-toggleable__label-arrow:before {content: \"▸\";float: left;margin-right: 0.25em;color: #696969;}#sk-container-id-2 label.sk-toggleable__label-arrow:hover:before {color: black;}#sk-container-id-2 div.sk-estimator:hover label.sk-toggleable__label-arrow:before {color: black;}#sk-container-id-2 div.sk-toggleable__content {max-height: 0;max-width: 0;overflow: hidden;text-align: left;background-color: #f0f8ff;}#sk-container-id-2 div.sk-toggleable__content pre {margin: 0.2em;color: black;border-radius: 0.25em;background-color: #f0f8ff;}#sk-container-id-2 input.sk-toggleable__control:checked~div.sk-toggleable__content {max-height: 200px;max-width: 100%;overflow: auto;}#sk-container-id-2 input.sk-toggleable__control:checked~label.sk-toggleable__label-arrow:before {content: \"▾\";}#sk-container-id-2 div.sk-estimator input.sk-toggleable__control:checked~label.sk-toggleable__label {background-color: #d4ebff;}#sk-container-id-2 div.sk-label input.sk-toggleable__control:checked~label.sk-toggleable__label {background-color: #d4ebff;}#sk-container-id-2 input.sk-hidden--visually {border: 0;clip: rect(1px 1px 1px 1px);clip: rect(1px, 1px, 1px, 1px);height: 1px;margin: -1px;overflow: hidden;padding: 0;position: absolute;width: 1px;}#sk-container-id-2 div.sk-estimator {font-family: monospace;background-color: #f0f8ff;border: 1px dotted black;border-radius: 0.25em;box-sizing: border-box;margin-bottom: 0.5em;}#sk-container-id-2 div.sk-estimator:hover {background-color: #d4ebff;}#sk-container-id-2 div.sk-parallel-item::after {content: \"\";width: 100%;border-bottom: 1px solid gray;flex-grow: 1;}#sk-container-id-2 div.sk-label:hover label.sk-toggleable__label {background-color: #d4ebff;}#sk-container-id-2 div.sk-serial::before {content: \"\";position: absolute;border-left: 1px solid gray;box-sizing: border-box;top: 0;bottom: 0;left: 50%;z-index: 0;}#sk-container-id-2 div.sk-serial {display: flex;flex-direction: column;align-items: center;background-color: white;padding-right: 0.2em;padding-left: 0.2em;position: relative;}#sk-container-id-2 div.sk-item {position: relative;z-index: 1;}#sk-container-id-2 div.sk-parallel {display: flex;align-items: stretch;justify-content: center;background-color: white;position: relative;}#sk-container-id-2 div.sk-item::before, #sk-container-id-2 div.sk-parallel-item::before {content: \"\";position: absolute;border-left: 1px solid gray;box-sizing: border-box;top: 0;bottom: 0;left: 50%;z-index: -1;}#sk-container-id-2 div.sk-parallel-item {display: flex;flex-direction: column;z-index: 1;position: relative;background-color: white;}#sk-container-id-2 div.sk-parallel-item:first-child::after {align-self: flex-end;width: 50%;}#sk-container-id-2 div.sk-parallel-item:last-child::after {align-self: flex-start;width: 50%;}#sk-container-id-2 div.sk-parallel-item:only-child::after {width: 0;}#sk-container-id-2 div.sk-dashed-wrapped {border: 1px dashed gray;margin: 0 0.4em 0.5em 0.4em;box-sizing: border-box;padding-bottom: 0.4em;background-color: white;}#sk-container-id-2 div.sk-label label {font-family: monospace;font-weight: bold;display: inline-block;line-height: 1.2em;}#sk-container-id-2 div.sk-label-container {text-align: center;}#sk-container-id-2 div.sk-container {/* jupyter's `normalize.less` sets `[hidden] { display: none; }` but bootstrap.min.css set `[hidden] { display: none !important; }` so we also need the `!important` here to be able to override the default hidden behavior on the sphinx rendered scikit-learn.org. See: https://github.com/scikit-learn/scikit-learn/issues/21755 */display: inline-block !important;position: relative;}#sk-container-id-2 div.sk-text-repr-fallback {display: none;}</style><div id=\"sk-container-id-2\" class=\"sk-top-container\"><div class=\"sk-text-repr-fallback\"><pre>KNeighborsRegressor()</pre><b>In a Jupyter environment, please rerun this cell to show the HTML representation or trust the notebook. <br />On GitHub, the HTML representation is unable to render, please try loading this page with nbviewer.org.</b></div><div class=\"sk-container\" hidden><div class=\"sk-item\"><div class=\"sk-estimator sk-toggleable\"><input class=\"sk-toggleable__control sk-hidden--visually\" id=\"sk-estimator-id-2\" type=\"checkbox\" checked><label for=\"sk-estimator-id-2\" class=\"sk-toggleable__label sk-toggleable__label-arrow\">KNeighborsRegressor</label><div class=\"sk-toggleable__content\"><pre>KNeighborsRegressor()</pre></div></div></div></div></div>"
      ],
      "text/plain": [
       "KNeighborsRegressor()"
      ]
     },
     "execution_count": 13,
     "metadata": {},
     "output_type": "execute_result"
    }
   ],
   "source": [
    "from sklearn.neighbors import KNeighborsRegressor\n",
    "\n",
    "model_kn_r = KNeighborsRegressor()\n",
    "model_kn_r.fit(X=explanatory, y=target_numerical)"
   ]
  },
  {
   "attachments": {},
   "cell_type": "markdown",
   "id": "8dfd7eae",
   "metadata": {},
   "source": [
    "#### Calculate predictions"
   ]
  },
  {
   "cell_type": "code",
   "execution_count": 14,
   "id": "9a174e45",
   "metadata": {},
   "outputs": [
    {
     "data": {
      "text/plain": [
       "array([18.24, 15.28, 17.04, 17.04, 17.04, 14.5 , 14.5 , 14.9 , 13.8 ,\n",
       "       16.84, 15.64, 15.44, 16.52, 20.22, 23.8 , 23.54, 22.12, 24.12,\n",
       "       27.  , 29.66, 24.88, 27.78, 26.2 , 24.  , 24.16, 12.8 , 13.48,\n",
       "       13.48, 12.4 , 27.  , 28.44, 24.  , 23.12, 19.48, 18.58, 17.8 ,\n",
       "       18.2 , 14.8 , 12.8 , 14.8 , 14.7 , 11.8 , 12.8 , 12.  , 22.4 ,\n",
       "       23.  , 18.44, 17.8 , 25.54, 27.82, 33.04, 33.04, 34.24, 34.24,\n",
       "       29.66, 29.7 , 25.04, 28.6 , 28.24, 21.78, 24.98, 13.7 , 14.3 ,\n",
       "       14.9 , 14.3 , 14.92, 12.8 , 13.4 , 13.2 , 13.6 , 29.76, 16.3 ,\n",
       "       14.7 , 13.8 , 14.7 , 21.24, 26.02, 25.34, 31.6 , 27.18, 24.8 ,\n",
       "       25.02, 29.  , 28.32, 14.  , 14.92, 15.3 , 14.8 , 16.64, 11.8 ,\n",
       "       13.4 , 15.28, 14.8 , 13.2 , 11.8 , 15.64, 19.8 , 18.44, 19.04,\n",
       "       24.16, 22.48, 30.92, 11.8 , 11.8 , 13.2 , 13.4 , 21.58, 24.8 ,\n",
       "       23.  , 26.2 , 25.  , 25.94, 26.64, 26.04, 15.  , 15.3 , 34.88,\n",
       "       30.5 , 25.1 , 22.4 , 17.04, 26.68, 22.36, 14.2 , 20.3 , 21.08,\n",
       "       18.58, 29.1 , 27.8 , 33.88, 29.06, 16.32, 18.26, 18.32, 14.7 ,\n",
       "       13.  , 14.  , 12.8 , 14.7 , 29.12, 33.02, 25.08, 34.24, 34.04,\n",
       "       31.68, 34.1 , 29.82, 26.06, 25.8 , 32.9 , 18.94, 18.52, 19.18,\n",
       "       17.8 , 13.4 , 13.4 , 13.4 , 14.  , 15.7 , 15.7 , 17.2 , 16.5 ,\n",
       "       23.94, 19.48, 17.32, 27.9 , 27.  , 19.6 , 24.1 , 26.58, 30.66,\n",
       "       27.36, 21.86, 30.48, 19.58, 25.84, 25.88, 25.28, 25.8 , 33.84,\n",
       "       27.8 , 26.72, 27.7 , 28.84, 32.28, 15.2 , 15.5 , 15.3 , 15.2 ,\n",
       "       20.18, 18.9 , 20.44, 20.3 , 34.54, 29.2 , 30.48, 33.84, 18.82,\n",
       "       18.58, 18.42, 18.18, 31.68, 33.32, 32.4 , 27.5 , 23.08, 15.7 ,\n",
       "       24.66, 24.12, 16.7 , 13.48, 15.  , 16.14, 18.32, 33.28, 30.5 ,\n",
       "       30.86, 25.54, 29.7 , 16.14, 15.1 , 14.9 , 13.8 , 18.24, 20.66,\n",
       "       18.82, 18.16, 14.6 , 14.7 , 14.9 , 15.08, 30.48, 25.06, 26.04,\n",
       "       25.06, 33.28, 33.04, 33.92, 30.16, 23.44, 26.68, 25.86, 35.4 ,\n",
       "       33.54, 35.8 , 33.04, 34.84, 19.62, 18.32, 17.78, 19.72, 18.7 ,\n",
       "       20.2 , 27.38, 18.88, 19.58, 20.44, 20.9 , 18.32, 21.1 , 17.04,\n",
       "       18.94, 18.02, 14.7 , 30.16, 27.3 , 25.54, 28.78, 26.02, 24.74,\n",
       "       23.36, 25.18, 22.34, 21.64, 23.7 , 19.12, 33.12, 35.62, 20.54,\n",
       "       21.26, 23.1 , 18.44, 20.44, 16.14, 18.32, 15.3 , 16.14, 15.28,\n",
       "       15.  , 18.06, 16.8 , 30.92, 35.64, 30.92, 27.16, 19.64, 18.1 ,\n",
       "       27.2 , 19.98, 32.78, 33.56, 33.4 , 32.58, 27.76, 25.32, 26.14,\n",
       "       27.5 , 33.46, 35.22, 34.28, 33.8 , 27.96, 23.1 , 21.42, 20.94,\n",
       "       30.16, 26.58, 27.36, 27.78, 28.84, 34.3 , 23.7 , 34.3 , 38.52,\n",
       "       32.82, 25.88, 24.66, 34.48, 33.86, 33.88, 25.26, 26.32, 26.24,\n",
       "       27.72, 26.06, 27.  , 24.88, 25.  , 28.6 , 34.24, 34.88, 34.24,\n",
       "       33.98, 34.44, 33.28, 33.12, 33.9 , 33.28, 27.38, 31.6 , 33.12,\n",
       "       29.46, 27.48, 27.24, 27.  , 23.08, 24.86, 24.18, 19.5 , 18.32,\n",
       "       20.9 , 17.42, 26.08, 28.5 , 25.58, 26.3 , 25.68, 25.06, 23.1 ,\n",
       "       32.52, 33.88, 34.42, 34.58, 34.58, 30.5 , 32.78, 29.82, 34.64,\n",
       "       34.64, 33.12, 23.08, 23.8 , 27.26, 19.8 , 27.96, 26.8 , 23.2 ,\n",
       "       24.8 , 36.96, 27.22, 29.5 , 26.58])"
      ]
     },
     "execution_count": 14,
     "metadata": {},
     "output_type": "execute_result"
    }
   ],
   "source": [
    "model_kn_r.predict(X=explanatory)"
   ]
  },
  {
   "attachments": {},
   "cell_type": "markdown",
   "id": "a8f26561",
   "metadata": {},
   "source": [
    "#### Compare predictions to reality"
   ]
  },
  {
   "cell_type": "code",
   "execution_count": 15,
   "id": "11e678b0",
   "metadata": {},
   "outputs": [
    {
     "data": {
      "text/plain": [
       "0.8171378313866275"
      ]
     },
     "execution_count": 15,
     "metadata": {},
     "output_type": "execute_result"
    }
   ],
   "source": [
    "model_kn_r.score(X=explanatory, y=target_numerical)"
   ]
  },
  {
   "attachments": {},
   "cell_type": "markdown",
   "id": "ff95f096",
   "metadata": {},
   "source": [
    "#### Compare predictions to reality in a `DataFrame`"
   ]
  },
  {
   "cell_type": "code",
   "execution_count": 16,
   "id": "022a857e",
   "metadata": {},
   "outputs": [
    {
     "data": {
      "text/html": [
       "<div>\n",
       "<style scoped>\n",
       "    .dataframe tbody tr th:only-of-type {\n",
       "        vertical-align: middle;\n",
       "    }\n",
       "\n",
       "    .dataframe tbody tr th {\n",
       "        vertical-align: top;\n",
       "    }\n",
       "\n",
       "    .dataframe thead th {\n",
       "        text-align: right;\n",
       "    }\n",
       "</style>\n",
       "<table border=\"1\" class=\"dataframe\">\n",
       "  <thead>\n",
       "    <tr style=\"text-align: right;\">\n",
       "      <th></th>\n",
       "      <th>mpg</th>\n",
       "      <th>prediction_regression</th>\n",
       "    </tr>\n",
       "    <tr>\n",
       "      <th>name</th>\n",
       "      <th></th>\n",
       "      <th></th>\n",
       "    </tr>\n",
       "  </thead>\n",
       "  <tbody>\n",
       "    <tr>\n",
       "      <th>chevrolet chevelle malibu</th>\n",
       "      <td>18.0</td>\n",
       "      <td>18.24</td>\n",
       "    </tr>\n",
       "    <tr>\n",
       "      <th>buick skylark 320</th>\n",
       "      <td>15.0</td>\n",
       "      <td>15.28</td>\n",
       "    </tr>\n",
       "    <tr>\n",
       "      <th>...</th>\n",
       "      <td>...</td>\n",
       "      <td>...</td>\n",
       "    </tr>\n",
       "    <tr>\n",
       "      <th>ford ranger</th>\n",
       "      <td>28.0</td>\n",
       "      <td>29.50</td>\n",
       "    </tr>\n",
       "    <tr>\n",
       "      <th>chevy s-10</th>\n",
       "      <td>31.0</td>\n",
       "      <td>26.58</td>\n",
       "    </tr>\n",
       "  </tbody>\n",
       "</table>\n",
       "<p>392 rows × 2 columns</p>\n",
       "</div>"
      ],
      "text/plain": [
       "                            mpg  prediction_regression\n",
       "name                                                  \n",
       "chevrolet chevelle malibu  18.0                  18.24\n",
       "buick skylark 320          15.0                  15.28\n",
       "...                         ...                    ...\n",
       "ford ranger                28.0                  29.50\n",
       "chevy s-10                 31.0                  26.58\n",
       "\n",
       "[392 rows x 2 columns]"
      ]
     },
     "execution_count": 16,
     "metadata": {},
     "output_type": "execute_result"
    }
   ],
   "source": [
    "df_pred_regression = target_numerical.to_frame()\n",
    "df_pred_regression['prediction_regression'] = model_kn_r.predict(X=explanatory)\n",
    "df_pred_regression"
   ]
  },
  {
   "attachments": {},
   "cell_type": "markdown",
   "id": "8230f6d4",
   "metadata": {},
   "source": [
    "#### Join regression and classification `DataFrame`"
   ]
  },
  {
   "cell_type": "code",
   "execution_count": 17,
   "id": "b0fa7be8",
   "metadata": {},
   "outputs": [
    {
     "data": {
      "text/html": [
       "<div>\n",
       "<style scoped>\n",
       "    .dataframe tbody tr th:only-of-type {\n",
       "        vertical-align: middle;\n",
       "    }\n",
       "\n",
       "    .dataframe tbody tr th {\n",
       "        vertical-align: top;\n",
       "    }\n",
       "\n",
       "    .dataframe thead th {\n",
       "        text-align: right;\n",
       "    }\n",
       "</style>\n",
       "<table border=\"1\" class=\"dataframe\">\n",
       "  <thead>\n",
       "    <tr style=\"text-align: right;\">\n",
       "      <th></th>\n",
       "      <th>origin</th>\n",
       "      <th>prediction_classification</th>\n",
       "      <th>mpg</th>\n",
       "      <th>prediction_regression</th>\n",
       "    </tr>\n",
       "    <tr>\n",
       "      <th>name</th>\n",
       "      <th></th>\n",
       "      <th></th>\n",
       "      <th></th>\n",
       "      <th></th>\n",
       "    </tr>\n",
       "  </thead>\n",
       "  <tbody>\n",
       "    <tr>\n",
       "      <th>chevrolet chevelle malibu</th>\n",
       "      <td>usa</td>\n",
       "      <td>usa</td>\n",
       "      <td>18.0</td>\n",
       "      <td>18.24</td>\n",
       "    </tr>\n",
       "    <tr>\n",
       "      <th>buick skylark 320</th>\n",
       "      <td>usa</td>\n",
       "      <td>usa</td>\n",
       "      <td>15.0</td>\n",
       "      <td>15.28</td>\n",
       "    </tr>\n",
       "    <tr>\n",
       "      <th>...</th>\n",
       "      <td>...</td>\n",
       "      <td>...</td>\n",
       "      <td>...</td>\n",
       "      <td>...</td>\n",
       "    </tr>\n",
       "    <tr>\n",
       "      <th>ford ranger</th>\n",
       "      <td>usa</td>\n",
       "      <td>usa</td>\n",
       "      <td>28.0</td>\n",
       "      <td>29.50</td>\n",
       "    </tr>\n",
       "    <tr>\n",
       "      <th>chevy s-10</th>\n",
       "      <td>usa</td>\n",
       "      <td>japan</td>\n",
       "      <td>31.0</td>\n",
       "      <td>26.58</td>\n",
       "    </tr>\n",
       "  </tbody>\n",
       "</table>\n",
       "<p>392 rows × 4 columns</p>\n",
       "</div>"
      ],
      "text/plain": [
       "                          origin prediction_classification   mpg  \\\n",
       "name                                                               \n",
       "chevrolet chevelle malibu    usa                       usa  18.0   \n",
       "buick skylark 320            usa                       usa  15.0   \n",
       "...                          ...                       ...   ...   \n",
       "ford ranger                  usa                       usa  28.0   \n",
       "chevy s-10                   usa                     japan  31.0   \n",
       "\n",
       "                           prediction_regression  \n",
       "name                                              \n",
       "chevrolet chevelle malibu                  18.24  \n",
       "buick skylark 320                          15.28  \n",
       "...                                          ...  \n",
       "ford ranger                                29.50  \n",
       "chevy s-10                                 26.58  \n",
       "\n",
       "[392 rows x 4 columns]"
      ]
     },
     "execution_count": 17,
     "metadata": {},
     "output_type": "execute_result"
    }
   ],
   "source": [
    "pd.concat([df_pred_classification, df_pred_regression], axis=1)"
   ]
  },
  {
   "attachments": {},
   "cell_type": "markdown",
   "id": "b3f99bc5",
   "metadata": {},
   "source": [
    "## Other algorithms"
   ]
  },
  {
   "attachments": {},
   "cell_type": "markdown",
   "id": "8995b4ae",
   "metadata": {},
   "source": [
    "### Decision Tree"
   ]
  },
  {
   "attachments": {},
   "cell_type": "markdown",
   "id": "92c92933",
   "metadata": {},
   "source": [
    "#### Regression "
   ]
  },
  {
   "cell_type": "code",
   "execution_count": 18,
   "id": "f6d6a30c",
   "metadata": {},
   "outputs": [
    {
     "data": {
      "text/plain": [
       "1.0"
      ]
     },
     "execution_count": 18,
     "metadata": {},
     "output_type": "execute_result"
    }
   ],
   "source": [
    "from sklearn.tree import DecisionTreeRegressor\n",
    "model_dt_r = DecisionTreeRegressor()\n",
    "\n",
    "model_dt_r.fit(X=explanatory, y=target_numerical)\n",
    "model_dt_r.predict(X=explanatory)\n",
    "model_dt_r.score(X=explanatory, y=target_numerical)"
   ]
  },
  {
   "attachments": {},
   "cell_type": "markdown",
   "id": "cab4354a",
   "metadata": {},
   "source": [
    "#### Classification"
   ]
  },
  {
   "cell_type": "code",
   "execution_count": 19,
   "id": "9ffce8a0",
   "metadata": {},
   "outputs": [
    {
     "data": {
      "text/plain": [
       "1.0"
      ]
     },
     "execution_count": 19,
     "metadata": {},
     "output_type": "execute_result"
    }
   ],
   "source": [
    "from sklearn.tree import DecisionTreeClassifier\n",
    "model_dt_c = DecisionTreeClassifier()\n",
    "\n",
    "model_dt_c.fit(X=explanatory, y=target_categorical)\n",
    "model_dt_c.predict(X=explanatory)\n",
    "model_dt_c.score(X=explanatory, y=target_categorical)"
   ]
  },
  {
   "attachments": {},
   "cell_type": "markdown",
   "id": "e7df14bf",
   "metadata": {},
   "source": [
    "### Random Forest"
   ]
  },
  {
   "attachments": {},
   "cell_type": "markdown",
   "id": "58b79134",
   "metadata": {},
   "source": [
    "#### Regression "
   ]
  },
  {
   "cell_type": "code",
   "execution_count": 20,
   "id": "e43a02ab",
   "metadata": {},
   "outputs": [
    {
     "data": {
      "text/plain": [
       "0.9833286252204423"
      ]
     },
     "execution_count": 20,
     "metadata": {},
     "output_type": "execute_result"
    }
   ],
   "source": [
    "from sklearn.ensemble import RandomForestRegressor\n",
    "model_rf_r = RandomForestRegressor()\n",
    "\n",
    "model_rf_r.fit(X=explanatory, y=target_numerical)\n",
    "model_rf_r.predict(X=explanatory)\n",
    "model_rf_r.score(X=explanatory, y=target_numerical)"
   ]
  },
  {
   "attachments": {},
   "cell_type": "markdown",
   "id": "858b41ce",
   "metadata": {},
   "source": [
    "#### Classification"
   ]
  },
  {
   "cell_type": "code",
   "execution_count": 21,
   "id": "61c0d38f",
   "metadata": {},
   "outputs": [
    {
     "data": {
      "text/plain": [
       "1.0"
      ]
     },
     "execution_count": 21,
     "metadata": {},
     "output_type": "execute_result"
    }
   ],
   "source": [
    "from sklearn.ensemble import RandomForestClassifier\n",
    "model_rf_c = RandomForestClassifier()\n",
    "\n",
    "model_rf_c.fit(X=explanatory, y=target_categorical)\n",
    "model_rf_c.predict(X=explanatory)\n",
    "model_rf_c.score(X=explanatory, y=target_categorical)"
   ]
  },
  {
   "attachments": {},
   "cell_type": "markdown",
   "id": "3480d4ac",
   "metadata": {},
   "source": [
    "## Compare all models in a `DataFrame`"
   ]
  },
  {
   "attachments": {},
   "cell_type": "markdown",
   "id": "932a7565",
   "metadata": {},
   "source": [
    "### Regression models"
   ]
  },
  {
   "cell_type": "code",
   "execution_count": 22,
   "id": "168e168e",
   "metadata": {},
   "outputs": [
    {
     "data": {
      "text/html": [
       "<div>\n",
       "<style scoped>\n",
       "    .dataframe tbody tr th:only-of-type {\n",
       "        vertical-align: middle;\n",
       "    }\n",
       "\n",
       "    .dataframe tbody tr th {\n",
       "        vertical-align: top;\n",
       "    }\n",
       "\n",
       "    .dataframe thead th {\n",
       "        text-align: right;\n",
       "    }\n",
       "</style>\n",
       "<table border=\"1\" class=\"dataframe\">\n",
       "  <thead>\n",
       "    <tr style=\"text-align: right;\">\n",
       "      <th></th>\n",
       "      <th>target_numerical</th>\n",
       "      <th>KNeighborsRegressor</th>\n",
       "      <th>DecisionTreeRegressor</th>\n",
       "      <th>RandomForestRegressor</th>\n",
       "    </tr>\n",
       "    <tr>\n",
       "      <th>name</th>\n",
       "      <th></th>\n",
       "      <th></th>\n",
       "      <th></th>\n",
       "      <th></th>\n",
       "    </tr>\n",
       "  </thead>\n",
       "  <tbody>\n",
       "    <tr>\n",
       "      <th>chevrolet chevelle malibu</th>\n",
       "      <td>18.0</td>\n",
       "      <td>18.24</td>\n",
       "      <td>18.0</td>\n",
       "      <td>17.115</td>\n",
       "    </tr>\n",
       "    <tr>\n",
       "      <th>buick skylark 320</th>\n",
       "      <td>15.0</td>\n",
       "      <td>15.28</td>\n",
       "      <td>15.0</td>\n",
       "      <td>14.790</td>\n",
       "    </tr>\n",
       "    <tr>\n",
       "      <th>...</th>\n",
       "      <td>...</td>\n",
       "      <td>...</td>\n",
       "      <td>...</td>\n",
       "      <td>...</td>\n",
       "    </tr>\n",
       "    <tr>\n",
       "      <th>ford ranger</th>\n",
       "      <td>28.0</td>\n",
       "      <td>29.50</td>\n",
       "      <td>28.0</td>\n",
       "      <td>28.973</td>\n",
       "    </tr>\n",
       "    <tr>\n",
       "      <th>chevy s-10</th>\n",
       "      <td>31.0</td>\n",
       "      <td>26.58</td>\n",
       "      <td>31.0</td>\n",
       "      <td>30.213</td>\n",
       "    </tr>\n",
       "  </tbody>\n",
       "</table>\n",
       "<p>392 rows × 4 columns</p>\n",
       "</div>"
      ],
      "text/plain": [
       "                           target_numerical  KNeighborsRegressor  \\\n",
       "name                                                               \n",
       "chevrolet chevelle malibu              18.0                18.24   \n",
       "buick skylark 320                      15.0                15.28   \n",
       "...                                     ...                  ...   \n",
       "ford ranger                            28.0                29.50   \n",
       "chevy s-10                             31.0                26.58   \n",
       "\n",
       "                           DecisionTreeRegressor  RandomForestRegressor  \n",
       "name                                                                     \n",
       "chevrolet chevelle malibu                   18.0                 17.115  \n",
       "buick skylark 320                           15.0                 14.790  \n",
       "...                                          ...                    ...  \n",
       "ford ranger                                 28.0                 28.973  \n",
       "chevy s-10                                  31.0                 30.213  \n",
       "\n",
       "[392 rows x 4 columns]"
      ]
     },
     "execution_count": 22,
     "metadata": {},
     "output_type": "execute_result"
    }
   ],
   "source": [
    "list_model_regression = [model_kn_r, model_dt_r, model_rf_r]\n",
    "list_model_regression_names = map(lambda x: x.__class__.__name__, list_model_regression)\n",
    "list_model_regression_predictions = list(map(lambda x: x.predict(X=explanatory), list_model_regression))\n",
    "df_pred_regression = pd.DataFrame(\n",
    "    list_model_regression_predictions,\n",
    "    index=list_model_regression_names).T.set_index(df.index)\n",
    "\n",
    "df_pred_regression.insert(0, 'target_numerical', target_numerical)\n",
    "df_pred_regression"
   ]
  },
  {
   "attachments": {},
   "cell_type": "markdown",
   "id": "5f4bcee8",
   "metadata": {},
   "source": [
    "### Classification models"
   ]
  },
  {
   "cell_type": "code",
   "execution_count": 23,
   "id": "c00ed56e",
   "metadata": {},
   "outputs": [
    {
     "data": {
      "text/html": [
       "<div>\n",
       "<style scoped>\n",
       "    .dataframe tbody tr th:only-of-type {\n",
       "        vertical-align: middle;\n",
       "    }\n",
       "\n",
       "    .dataframe tbody tr th {\n",
       "        vertical-align: top;\n",
       "    }\n",
       "\n",
       "    .dataframe thead th {\n",
       "        text-align: right;\n",
       "    }\n",
       "</style>\n",
       "<table border=\"1\" class=\"dataframe\">\n",
       "  <thead>\n",
       "    <tr style=\"text-align: right;\">\n",
       "      <th></th>\n",
       "      <th>target_numerical</th>\n",
       "      <th>KNeighborsClassifier</th>\n",
       "      <th>DecisionTreeClassifier</th>\n",
       "      <th>RandomForestClassifier</th>\n",
       "    </tr>\n",
       "    <tr>\n",
       "      <th>name</th>\n",
       "      <th></th>\n",
       "      <th></th>\n",
       "      <th></th>\n",
       "      <th></th>\n",
       "    </tr>\n",
       "  </thead>\n",
       "  <tbody>\n",
       "    <tr>\n",
       "      <th>chevrolet chevelle malibu</th>\n",
       "      <td>usa</td>\n",
       "      <td>usa</td>\n",
       "      <td>usa</td>\n",
       "      <td>usa</td>\n",
       "    </tr>\n",
       "    <tr>\n",
       "      <th>buick skylark 320</th>\n",
       "      <td>usa</td>\n",
       "      <td>usa</td>\n",
       "      <td>usa</td>\n",
       "      <td>usa</td>\n",
       "    </tr>\n",
       "    <tr>\n",
       "      <th>...</th>\n",
       "      <td>...</td>\n",
       "      <td>...</td>\n",
       "      <td>...</td>\n",
       "      <td>...</td>\n",
       "    </tr>\n",
       "    <tr>\n",
       "      <th>ford ranger</th>\n",
       "      <td>usa</td>\n",
       "      <td>usa</td>\n",
       "      <td>usa</td>\n",
       "      <td>usa</td>\n",
       "    </tr>\n",
       "    <tr>\n",
       "      <th>chevy s-10</th>\n",
       "      <td>usa</td>\n",
       "      <td>japan</td>\n",
       "      <td>usa</td>\n",
       "      <td>usa</td>\n",
       "    </tr>\n",
       "  </tbody>\n",
       "</table>\n",
       "<p>392 rows × 4 columns</p>\n",
       "</div>"
      ],
      "text/plain": [
       "                          target_numerical KNeighborsClassifier  \\\n",
       "name                                                              \n",
       "chevrolet chevelle malibu              usa                  usa   \n",
       "buick skylark 320                      usa                  usa   \n",
       "...                                    ...                  ...   \n",
       "ford ranger                            usa                  usa   \n",
       "chevy s-10                             usa                japan   \n",
       "\n",
       "                          DecisionTreeClassifier RandomForestClassifier  \n",
       "name                                                                     \n",
       "chevrolet chevelle malibu                    usa                    usa  \n",
       "buick skylark 320                            usa                    usa  \n",
       "...                                          ...                    ...  \n",
       "ford ranger                                  usa                    usa  \n",
       "chevy s-10                                   usa                    usa  \n",
       "\n",
       "[392 rows x 4 columns]"
      ]
     },
     "execution_count": 23,
     "metadata": {},
     "output_type": "execute_result"
    }
   ],
   "source": [
    "list_model_classification = [model_kn_c, model_dt_c, model_rf_c]\n",
    "list_model_classification_names = map(lambda x: x.__class__.__name__, list_model_classification)\n",
    "list_model_classification_predictions = list(map(lambda x: x.predict(X=explanatory), list_model_classification))\n",
    "df_pred_classification = pd.DataFrame(\n",
    "    list_model_classification_predictions,\n",
    "    index=list_model_classification_names).T.set_index(df.index)\n",
    "\n",
    "df_pred_classification.insert(0, 'target_categorical', target_categorical)\n",
    "df_pred_classification"
   ]
  }
 ],
 "metadata": {
  "kernelspec": {
   "display_name": "Python 3 (ipykernel)",
   "language": "python",
   "name": "python3"
  },
  "language_info": {
   "codemirror_mode": {
    "name": "ipython",
    "version": 3
   },
   "file_extension": ".py",
   "mimetype": "text/x-python",
   "name": "python",
   "nbconvert_exporter": "python",
   "pygments_lexer": "ipython3",
   "version": "3.10.6"
  }
 },
 "nbformat": 4,
 "nbformat_minor": 5
}
