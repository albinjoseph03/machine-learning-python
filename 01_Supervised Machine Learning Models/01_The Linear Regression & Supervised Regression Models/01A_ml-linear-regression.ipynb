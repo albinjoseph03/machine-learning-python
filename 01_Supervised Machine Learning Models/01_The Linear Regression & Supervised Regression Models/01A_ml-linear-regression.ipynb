{
 "cells": [
  {
   "cell_type": "markdown",
   "id": "98c85215-138a-46f3-a45c-550397956605",
   "metadata": {},
   "source": [
    "**© Jesús López**\n",
    "\n",
    "Ask him any doubt on **[Twitter](https://twitter.com/jsulopzs)** or **[LinkedIn](https://linkedin.com/in/jsulopzs)**"
   ]
  },
  {
   "cell_type": "markdown",
   "id": "5d22bcb0-37ed-4c47-ab23-e06d7ba1356e",
   "metadata": {},
   "source": [
    "# #01 | Machine Learning & Linear Regression"
   ]
  },
  {
   "cell_type": "markdown",
   "id": "29d53b77-f1fc-4e41-b854-3ec9a08184c1",
   "metadata": {},
   "source": [
    "## Chapter Importance"
   ]
  },
  {
   "cell_type": "markdown",
   "id": "97ea68ef-309f-4ede-a482-c31881334aeb",
   "metadata": {},
   "source": [
    "Machine Learning is all about calculating [the best numbers](https://twitter.com/sotastica/status/1449735653328031745) of a mathematical equation by [minimizing the distance between real data and predictions](https://www.youtube.com/watch?v=Ht3rYS-JilE).\n",
    "\n",
    "The form of a Linear Regression mathematical equation is as follows:\n",
    "\n",
    "$$\n",
    "y = (a) + (b) \\cdot x\n",
    "$$\n",
    "\n",
    "As we see in the following plot, **not any mathematical equation is valid**; the red line doesn't fit the real data (blue points) as well as the green one.\n",
    "\n",
    "<center>\n",
    "<img src=\"src/linear-regression.jpeg\" width=\"400\" align=\"center\">\n",
    "</center>\n",
    "\n",
    "How do we understand the development of Machine Learning models in Python **to predict what may happen in the future**?\n",
    "\n",
    "This tutorial covers the topics described below using **USA Car Crashes data** to predict the accidents based on alcohol.\n",
    "\n",
    "1. Step by step procedure to compute a Linear Regression:\n",
    "    1. `.fit()` the numbers of the mathematical equation\n",
    "    2. `.predict()` the future with the mathematical equation\n",
    "    3. `.score()` how good is the mathematical equation\n",
    "2. How to **visualize** the Linear Regression model?\n",
    "3. How to **evaluate** Regression models step by step?\n",
    "    - Residuals Sum of Squares\n",
    "    - Total Sum of Squares\n",
    "    - R Squared Ratio $R^2$\n",
    "4. How to **interpret** the coeficients of the Linear Regression?\n",
    "5. Compare the Linear Regression to other Machine Learning models such as:\n",
    "    - Random Forest\n",
    "    - Support Vector Machines\n",
    "6. Why **we don't need to know the maths** behind every model to apply Machine Learning in Python?"
   ]
  },
  {
   "cell_type": "markdown",
   "id": "0886110c-bd13-4532-8265-15cf62338680",
   "metadata": {},
   "source": [
    "## [ ] Load the Data"
   ]
  },
  {
   "cell_type": "markdown",
   "id": "b4eb8114-efe0-4a23-afa1-d288ed35d6db",
   "metadata": {},
   "source": [
    "- This dataset contains **statistics about Car Accidents** (columns)\n",
    "- In each one of **USA States** (rows)"
   ]
  },
  {
   "cell_type": "markdown",
   "id": "f8b253f1-cafb-40d4-aed2-2bc93acd837e",
   "metadata": {},
   "source": [
    "Visit [this website](https://www.kaggle.com/fivethirtyeight/fivethirtyeight-bad-drivers-dataset/) if you want to know the measures of the columns."
   ]
  },
  {
   "cell_type": "code",
   "execution_count": 1,
   "id": "aaaae16b-3d9e-4dd9-8f59-d05c1381df36",
   "metadata": {},
   "outputs": [
    {
     "data": {
      "text/html": [
       "<div>\n",
       "<style scoped>\n",
       "    .dataframe tbody tr th:only-of-type {\n",
       "        vertical-align: middle;\n",
       "    }\n",
       "\n",
       "    .dataframe tbody tr th {\n",
       "        vertical-align: top;\n",
       "    }\n",
       "\n",
       "    .dataframe thead th {\n",
       "        text-align: right;\n",
       "    }\n",
       "</style>\n",
       "<table border=\"1\" class=\"dataframe\">\n",
       "  <thead>\n",
       "    <tr style=\"text-align: right;\">\n",
       "      <th></th>\n",
       "      <th>alcohol</th>\n",
       "      <th>accidents</th>\n",
       "    </tr>\n",
       "    <tr>\n",
       "      <th>abbrev</th>\n",
       "      <th></th>\n",
       "      <th></th>\n",
       "    </tr>\n",
       "  </thead>\n",
       "  <tbody>\n",
       "    <tr>\n",
       "      <th>AL</th>\n",
       "      <td>5.640</td>\n",
       "      <td>18.8</td>\n",
       "    </tr>\n",
       "    <tr>\n",
       "      <th>AK</th>\n",
       "      <td>4.525</td>\n",
       "      <td>18.1</td>\n",
       "    </tr>\n",
       "    <tr>\n",
       "      <th>...</th>\n",
       "      <td>...</td>\n",
       "      <td>...</td>\n",
       "    </tr>\n",
       "    <tr>\n",
       "      <th>WI</th>\n",
       "      <td>4.554</td>\n",
       "      <td>13.8</td>\n",
       "    </tr>\n",
       "    <tr>\n",
       "      <th>WY</th>\n",
       "      <td>5.568</td>\n",
       "      <td>17.4</td>\n",
       "    </tr>\n",
       "  </tbody>\n",
       "</table>\n",
       "<p>51 rows × 2 columns</p>\n",
       "</div>"
      ],
      "text/plain": [
       "        alcohol  accidents\n",
       "abbrev                    \n",
       "AL        5.640       18.8\n",
       "AK        4.525       18.1\n",
       "...         ...        ...\n",
       "WI        4.554       13.8\n",
       "WY        5.568       17.4\n",
       "\n",
       "[51 rows x 2 columns]"
      ]
     },
     "execution_count": 1,
     "metadata": {},
     "output_type": "execute_result"
    }
   ],
   "source": [
    "import seaborn as sns #!\n",
    "\n",
    "df_crashes = sns.load_dataset(name='car_crashes', index_col='abbrev')[['alcohol', 'total']]\n",
    "df_crashes.rename({'total': 'accidents'}, axis=1, inplace=True)\n",
    "df_crashes"
   ]
  },
  {
   "cell_type": "markdown",
   "id": "1f5d325b-bfd0-4e7f-9ca7-46ecfb47f168",
   "metadata": {},
   "source": [
    "## How do we compute a `LinearRegression` Model in Python?"
   ]
  },
  {
   "cell_type": "markdown",
   "id": "ed61845c-8a37-4d66-b4a5-faf7b61e37fd",
   "metadata": {},
   "source": [
    "### Import the Class"
   ]
  },
  {
   "cell_type": "code",
   "execution_count": null,
   "id": "973b6aee-05b0-4b25-b7bb-303677bf7b5b",
   "metadata": {},
   "outputs": [],
   "source": [
    "from sklearn.linear_model import LinearRegression"
   ]
  },
  {
   "cell_type": "markdown",
   "id": "fb46a348-84eb-4618-adca-bcc3f2082cd9",
   "metadata": {},
   "source": [
    "### Instantiate the Class"
   ]
  },
  {
   "cell_type": "code",
   "execution_count": null,
   "id": "d822b697-1880-489b-89a7-004e3a717351",
   "metadata": {},
   "outputs": [],
   "source": []
  },
  {
   "cell_type": "markdown",
   "id": "e7c72c07-8f31-4415-95ac-2672947d4e9c",
   "metadata": {},
   "source": [
    "### Fit the Model"
   ]
  },
  {
   "cell_type": "code",
   "execution_count": null,
   "id": "fcfc848b-8a35-48f6-ae41-9c97fd84a828",
   "metadata": {},
   "outputs": [],
   "source": []
  },
  {
   "cell_type": "markdown",
   "id": "1a414be2-c143-4833-a390-7898cb3383e9",
   "metadata": {},
   "source": [
    "### Separate the Variables"
   ]
  },
  {
   "cell_type": "code",
   "execution_count": null,
   "id": "946f49ee-428c-41e5-bb51-60063e55a50e",
   "metadata": {},
   "outputs": [],
   "source": []
  },
  {
   "cell_type": "markdown",
   "id": "e4edc6e9-e441-4168-a165-e618f873646d",
   "metadata": {},
   "source": [
    "### Fit the Model Again"
   ]
  },
  {
   "cell_type": "code",
   "execution_count": null,
   "id": "44fd0c6f-97c4-4be9-8f61-dcfa6a306705",
   "metadata": {},
   "outputs": [],
   "source": []
  },
  {
   "cell_type": "markdown",
   "id": "77e106e6-b248-4538-8fb6-d2b051578399",
   "metadata": {},
   "source": [
    "### [ ] Predictions"
   ]
  },
  {
   "cell_type": "markdown",
   "id": "3a807976-47c4-447f-97f8-bef99d68ec09",
   "metadata": {},
   "source": [
    "#### Calculate the Predictions"
   ]
  },
  {
   "cell_type": "code",
   "execution_count": null,
   "id": "868303db-b806-44cf-9aa3-91744886247d",
   "metadata": {},
   "outputs": [],
   "source": []
  },
  {
   "cell_type": "markdown",
   "id": "b65f3aa0-10f7-4627-80dd-93217751fe65",
   "metadata": {},
   "source": [
    "#### Add a New Column with the Predictions"
   ]
  },
  {
   "cell_type": "code",
   "execution_count": null,
   "id": "2fbd6561-e4be-4282-b823-ea38d26b3bfd",
   "metadata": {},
   "outputs": [],
   "source": []
  },
  {
   "cell_type": "markdown",
   "id": "5b9b9d33-e95e-4fac-96e6-12e93ea3733a",
   "metadata": {},
   "source": [
    "### Model Visualization"
   ]
  },
  {
   "cell_type": "code",
   "execution_count": null,
   "id": "b26a7edd-2b62-48c5-ba4a-9e948e0e7e57",
   "metadata": {},
   "outputs": [],
   "source": []
  },
  {
   "cell_type": "markdown",
   "id": "cf79e511-728b-459c-8ca1-b25f10b910ec",
   "metadata": {},
   "source": [
    "### [ ] Model's Score"
   ]
  },
  {
   "cell_type": "markdown",
   "id": "514717f6-c5fb-4720-95c8-f308b1f38304",
   "metadata": {},
   "source": [
    "#### Calculate the Score"
   ]
  },
  {
   "cell_type": "code",
   "execution_count": null,
   "id": "43208cbf-9787-4a8e-9db4-0d904208878f",
   "metadata": {},
   "outputs": [],
   "source": []
  },
  {
   "cell_type": "markdown",
   "id": "bd29820e-c71d-4105-921f-85c0962db1c9",
   "metadata": {},
   "source": [
    "#### Explain the Score"
   ]
  },
  {
   "cell_type": "markdown",
   "id": "c5ee5345-c3df-4ff7-9632-c0508b1496a9",
   "metadata": {},
   "source": [
    "##### Residuals"
   ]
  },
  {
   "cell_type": "code",
   "execution_count": null,
   "id": "c82f56ec-64f6-4fa6-8e1a-a53bda9265a0",
   "metadata": {},
   "outputs": [],
   "source": []
  },
  {
   "cell_type": "markdown",
   "id": "b4548ef2-ff51-4566-8792-7959fe96a9bf",
   "metadata": {},
   "source": [
    "##### Target's Variation"
   ]
  },
  {
   "cell_type": "code",
   "execution_count": null,
   "id": "1b404bbb-1db2-4ff3-8c3c-c87edc777eb9",
   "metadata": {},
   "outputs": [],
   "source": []
  },
  {
   "cell_type": "markdown",
   "id": "4c9fc0c8-79fe-4d46-9065-789d8d62cd92",
   "metadata": {},
   "source": [
    "##### The Ratio"
   ]
  },
  {
   "cell_type": "code",
   "execution_count": null,
   "id": "e6361106-9232-42cd-8967-79203ca81a6b",
   "metadata": {},
   "outputs": [],
   "source": []
  },
  {
   "cell_type": "markdown",
   "id": "09870137-7142-4574-b5ad-0c6a97d596f7",
   "metadata": {},
   "source": [
    "### [ ] Model Interpretation"
   ]
  },
  {
   "cell_type": "code",
   "execution_count": null,
   "id": "a533bd40-2b22-4236-b607-ce508d066a50",
   "metadata": {},
   "outputs": [],
   "source": []
  },
  {
   "cell_type": "markdown",
   "id": "001199cd-582d-4fde-ac40-e5f7388e7f80",
   "metadata": {},
   "source": [
    "## [ ] Other Regression Models"
   ]
  },
  {
   "cell_type": "markdown",
   "id": "f200a2dc-77e2-4999-aadf-3f25bccae42f",
   "metadata": {},
   "source": [
    "### `RandomForestRegressor()` in Python"
   ]
  },
  {
   "cell_type": "code",
   "execution_count": null,
   "id": "c108b29a-e6df-4768-aea4-939abea123d7",
   "metadata": {},
   "outputs": [],
   "source": [
    "from sklearn.ensemble import Rando"
   ]
  },
  {
   "cell_type": "markdown",
   "id": "293e063c-d32d-44e2-a1d7-a9a47422ccef",
   "metadata": {},
   "source": [
    "#### Fit the Model"
   ]
  },
  {
   "cell_type": "code",
   "execution_count": null,
   "id": "d54b2005-58e1-49d7-b77b-4eb4e5cff819",
   "metadata": {},
   "outputs": [],
   "source": []
  },
  {
   "cell_type": "markdown",
   "id": "bd98da1e-d0f6-41dc-8b45-adc4aa16912b",
   "metadata": {},
   "source": [
    "#### Calculate Predictions"
   ]
  },
  {
   "cell_type": "code",
   "execution_count": null,
   "id": "ccfdf613-8671-4ef0-adb1-a781ffba8a8e",
   "metadata": {},
   "outputs": [],
   "source": []
  },
  {
   "cell_type": "markdown",
   "id": "a521f46c-5cd6-4038-83b9-a2f8cb7a6b20",
   "metadata": {},
   "source": [
    "#### Model's Score"
   ]
  },
  {
   "cell_type": "code",
   "execution_count": null,
   "id": "c82fe43a-9ec3-4d40-aaa2-e362d2244ffe",
   "metadata": {},
   "outputs": [],
   "source": []
  },
  {
   "cell_type": "markdown",
   "id": "5997070a-3ec3-41f5-bbe0-5790052df41b",
   "metadata": {},
   "source": [
    "### `SVR()` in Python"
   ]
  },
  {
   "cell_type": "markdown",
   "id": "383eebba-6c14-4717-aab3-6ebbea0cb200",
   "metadata": {},
   "source": [
    "#### Fit the Model"
   ]
  },
  {
   "cell_type": "code",
   "execution_count": null,
   "id": "51266f0c-6039-4702-b5f4-9f1f38568e52",
   "metadata": {},
   "outputs": [],
   "source": []
  },
  {
   "cell_type": "markdown",
   "id": "d8da885e-e670-4211-baad-5966b64a1154",
   "metadata": {},
   "source": [
    "#### Calculate Predictions"
   ]
  },
  {
   "cell_type": "code",
   "execution_count": null,
   "id": "41ecb5e5-1309-41fa-8a24-6516b72b74ef",
   "metadata": {},
   "outputs": [],
   "source": []
  },
  {
   "cell_type": "markdown",
   "id": "6106bd7e-fca6-4816-8e10-704e30c70a67",
   "metadata": {},
   "source": [
    "#### Model's Score"
   ]
  },
  {
   "cell_type": "code",
   "execution_count": null,
   "id": "58a312dc-7c2b-4471-9d2f-4f50ee821a43",
   "metadata": {},
   "outputs": [],
   "source": []
  },
  {
   "cell_type": "markdown",
   "id": "d72ce441-6a7a-4c98-88b4-c7f195fc68f8",
   "metadata": {},
   "source": [
    "## Which One Is the Best? Why?"
   ]
  },
  {
   "cell_type": "code",
   "execution_count": null,
   "id": "44360d3f-da1b-4784-98a8-4cf41cd961b1",
   "metadata": {},
   "outputs": [],
   "source": []
  },
  {
   "cell_type": "markdown",
   "id": "e51ee289-1bc4-4eee-919c-c9788dc56ad9",
   "metadata": {},
   "source": [
    "## [ ] Visualize the 3 Models"
   ]
  },
  {
   "cell_type": "code",
   "execution_count": null,
   "id": "2544ca93-4e68-40cc-88b8-e63a39c288dc",
   "metadata": {},
   "outputs": [],
   "source": []
  },
  {
   "cell_type": "markdown",
   "id": "d93a7134-8cbd-4ea7-9e7a-b7b6576b5f18",
   "metadata": {},
   "source": [
    "<a rel=\"license\" href=\"http://creativecommons.org/licenses/by-nc-nd/4.0/\"><img alt=\"Creative Commons License\" style=\"border-width:0\" src=\"https://i.creativecommons.org/l/by-nc-nd/4.0/88x31.png\" /></a><br />This work is licensed under a <a rel=\"license\" href=\"http://creativecommons.org/licenses/by-nc-nd/4.0/\">Creative Commons Attribution-NonCommercial-NoDerivatives 4.0 International License</a>."
   ]
  }
 ],
 "metadata": {
  "kernelspec": {
   "display_name": "base",
   "language": "python",
   "name": "python3"
  },
  "language_info": {
   "codemirror_mode": {
    "name": "ipython",
    "version": 3
   },
   "file_extension": ".py",
   "mimetype": "text/x-python",
   "name": "python",
   "nbconvert_exporter": "python",
   "pygments_lexer": "ipython3",
   "version": "3.10.6"
  },
  "toc-autonumbering": true,
  "vscode": {
   "interpreter": {
    "hash": "03ec90014361d64f31b57b6c05f3e1b20811fb583c4f1285ab648f59da29497f"
   }
  }
 },
 "nbformat": 4,
 "nbformat_minor": 5
}
