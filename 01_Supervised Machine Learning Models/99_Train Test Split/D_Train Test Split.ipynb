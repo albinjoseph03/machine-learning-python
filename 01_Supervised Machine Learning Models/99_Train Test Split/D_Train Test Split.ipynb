{
 "cells": [
  {
   "attachments": {},
   "cell_type": "markdown",
   "id": "93d658d4",
   "metadata": {},
   "source": [
    "# Train Test Split"
   ]
  },
  {
   "attachments": {},
   "cell_type": "markdown",
   "id": "84b1613b",
   "metadata": {},
   "source": [
    "## Data loading"
   ]
  },
  {
   "cell_type": "code",
   "execution_count": 40,
   "id": "059a4ccf",
   "metadata": {},
   "outputs": [
    {
     "data": {
      "text/html": [
       "<div>\n",
       "<style scoped>\n",
       "    .dataframe tbody tr th:only-of-type {\n",
       "        vertical-align: middle;\n",
       "    }\n",
       "\n",
       "    .dataframe tbody tr th {\n",
       "        vertical-align: top;\n",
       "    }\n",
       "\n",
       "    .dataframe thead th {\n",
       "        text-align: right;\n",
       "    }\n",
       "</style>\n",
       "<table border=\"1\" class=\"dataframe\">\n",
       "  <thead>\n",
       "    <tr style=\"text-align: right;\">\n",
       "      <th></th>\n",
       "      <th>mpg</th>\n",
       "      <th>cylinders</th>\n",
       "      <th>displacement</th>\n",
       "      <th>horsepower</th>\n",
       "      <th>weight</th>\n",
       "      <th>acceleration</th>\n",
       "      <th>model_year</th>\n",
       "      <th>origin_europe</th>\n",
       "      <th>origin_japan</th>\n",
       "      <th>origin_usa</th>\n",
       "    </tr>\n",
       "    <tr>\n",
       "      <th>name</th>\n",
       "      <th></th>\n",
       "      <th></th>\n",
       "      <th></th>\n",
       "      <th></th>\n",
       "      <th></th>\n",
       "      <th></th>\n",
       "      <th></th>\n",
       "      <th></th>\n",
       "      <th></th>\n",
       "      <th></th>\n",
       "    </tr>\n",
       "  </thead>\n",
       "  <tbody>\n",
       "    <tr>\n",
       "      <th>chevrolet chevelle malibu</th>\n",
       "      <td>18.0</td>\n",
       "      <td>8</td>\n",
       "      <td>307.0</td>\n",
       "      <td>130.0</td>\n",
       "      <td>3504</td>\n",
       "      <td>12.0</td>\n",
       "      <td>70</td>\n",
       "      <td>0</td>\n",
       "      <td>0</td>\n",
       "      <td>1</td>\n",
       "    </tr>\n",
       "    <tr>\n",
       "      <th>buick skylark 320</th>\n",
       "      <td>15.0</td>\n",
       "      <td>8</td>\n",
       "      <td>350.0</td>\n",
       "      <td>165.0</td>\n",
       "      <td>3693</td>\n",
       "      <td>11.5</td>\n",
       "      <td>70</td>\n",
       "      <td>0</td>\n",
       "      <td>0</td>\n",
       "      <td>1</td>\n",
       "    </tr>\n",
       "    <tr>\n",
       "      <th>...</th>\n",
       "      <td>...</td>\n",
       "      <td>...</td>\n",
       "      <td>...</td>\n",
       "      <td>...</td>\n",
       "      <td>...</td>\n",
       "      <td>...</td>\n",
       "      <td>...</td>\n",
       "      <td>...</td>\n",
       "      <td>...</td>\n",
       "      <td>...</td>\n",
       "    </tr>\n",
       "    <tr>\n",
       "      <th>ford ranger</th>\n",
       "      <td>28.0</td>\n",
       "      <td>4</td>\n",
       "      <td>120.0</td>\n",
       "      <td>79.0</td>\n",
       "      <td>2625</td>\n",
       "      <td>18.6</td>\n",
       "      <td>82</td>\n",
       "      <td>0</td>\n",
       "      <td>0</td>\n",
       "      <td>1</td>\n",
       "    </tr>\n",
       "    <tr>\n",
       "      <th>chevy s-10</th>\n",
       "      <td>31.0</td>\n",
       "      <td>4</td>\n",
       "      <td>119.0</td>\n",
       "      <td>82.0</td>\n",
       "      <td>2720</td>\n",
       "      <td>19.4</td>\n",
       "      <td>82</td>\n",
       "      <td>0</td>\n",
       "      <td>0</td>\n",
       "      <td>1</td>\n",
       "    </tr>\n",
       "  </tbody>\n",
       "</table>\n",
       "<p>392 rows × 10 columns</p>\n",
       "</div>"
      ],
      "text/plain": [
       "                            mpg  cylinders  displacement  horsepower  weight  \\\n",
       "name                                                                           \n",
       "chevrolet chevelle malibu  18.0          8         307.0       130.0    3504   \n",
       "buick skylark 320          15.0          8         350.0       165.0    3693   \n",
       "...                         ...        ...           ...         ...     ...   \n",
       "ford ranger                28.0          4         120.0        79.0    2625   \n",
       "chevy s-10                 31.0          4         119.0        82.0    2720   \n",
       "\n",
       "                           acceleration  model_year  origin_europe  \\\n",
       "name                                                                 \n",
       "chevrolet chevelle malibu          12.0          70              0   \n",
       "buick skylark 320                  11.5          70              0   \n",
       "...                                 ...         ...            ...   \n",
       "ford ranger                        18.6          82              0   \n",
       "chevy s-10                         19.4          82              0   \n",
       "\n",
       "                           origin_japan  origin_usa  \n",
       "name                                                 \n",
       "chevrolet chevelle malibu             0           1  \n",
       "buick skylark 320                     0           1  \n",
       "...                                 ...         ...  \n",
       "ford ranger                           0           1  \n",
       "chevy s-10                            0           1  \n",
       "\n",
       "[392 rows x 10 columns]"
      ]
     },
     "execution_count": 40,
     "metadata": {},
     "output_type": "execute_result"
    }
   ],
   "source": [
    "import pandas as pd\n",
    "import seaborn as sns\n",
    "\n",
    "df_mpg = pd.get_dummies(sns.load_dataset('mpg', index_col='name').dropna())\n",
    "df_mpg"
   ]
  },
  {
   "attachments": {},
   "cell_type": "markdown",
   "id": "f1f9818a",
   "metadata": {},
   "source": [
    "## Feature selection"
   ]
  },
  {
   "cell_type": "code",
   "execution_count": 41,
   "id": "64f18821",
   "metadata": {},
   "outputs": [],
   "source": [
    "target = df_mpg.mpg\n",
    "explanatory = df_mpg.drop(columns='mpg')"
   ]
  },
  {
   "attachments": {},
   "cell_type": "markdown",
   "id": "dc60b8e9",
   "metadata": {},
   "source": [
    "## Machine Learning System\n",
    "\n",
    "Decision ensemble Regressor\n",
    "\n",
    "### Calculate the score in all dataset"
   ]
  },
  {
   "cell_type": "code",
   "execution_count": 43,
   "id": "4104be51",
   "metadata": {},
   "outputs": [
    {
     "data": {
      "text/plain": [
       "1.0"
      ]
     },
     "execution_count": 43,
     "metadata": {},
     "output_type": "execute_result"
    }
   ],
   "source": [
    "from sklearn.tree import DecisionTreeRegressor\n",
    "\n",
    "model_dt_all = DecisionTreeRegressor()\n",
    "model_dt_all.fit(X=explanatory, y=target)\n",
    "model_dt_all.predict(X=explanatory)\n",
    "model_dt_all.score(X=explanatory, y=target)"
   ]
  },
  {
   "attachments": {},
   "cell_type": "markdown",
   "id": "91c816ed",
   "metadata": {},
   "source": [
    "### Calculate the score in the test set"
   ]
  },
  {
   "attachments": {},
   "cell_type": "markdown",
   "id": "33dfcdcb",
   "metadata": {},
   "source": [
    "#### Create train and test sets\n",
    "\n",
    "Look for the function in `model_selection`"
   ]
  },
  {
   "cell_type": "code",
   "execution_count": 44,
   "id": "0db512bc",
   "metadata": {},
   "outputs": [
    {
     "data": {
      "text/html": [
       "<div>\n",
       "<style scoped>\n",
       "    .dataframe tbody tr th:only-of-type {\n",
       "        vertical-align: middle;\n",
       "    }\n",
       "\n",
       "    .dataframe tbody tr th {\n",
       "        vertical-align: top;\n",
       "    }\n",
       "\n",
       "    .dataframe thead th {\n",
       "        text-align: right;\n",
       "    }\n",
       "</style>\n",
       "<table border=\"1\" class=\"dataframe\">\n",
       "  <thead>\n",
       "    <tr style=\"text-align: right;\">\n",
       "      <th></th>\n",
       "      <th>cylinders</th>\n",
       "      <th>displacement</th>\n",
       "      <th>horsepower</th>\n",
       "      <th>weight</th>\n",
       "      <th>acceleration</th>\n",
       "      <th>model_year</th>\n",
       "      <th>origin_europe</th>\n",
       "      <th>origin_japan</th>\n",
       "      <th>origin_usa</th>\n",
       "    </tr>\n",
       "    <tr>\n",
       "      <th>name</th>\n",
       "      <th></th>\n",
       "      <th></th>\n",
       "      <th></th>\n",
       "      <th></th>\n",
       "      <th></th>\n",
       "      <th></th>\n",
       "      <th></th>\n",
       "      <th></th>\n",
       "      <th></th>\n",
       "    </tr>\n",
       "  </thead>\n",
       "  <tbody>\n",
       "    <tr>\n",
       "      <th>triumph tr7 coupe</th>\n",
       "      <td>4</td>\n",
       "      <td>122.0</td>\n",
       "      <td>88.0</td>\n",
       "      <td>2500</td>\n",
       "      <td>15.1</td>\n",
       "      <td>80</td>\n",
       "      <td>1</td>\n",
       "      <td>0</td>\n",
       "      <td>0</td>\n",
       "    </tr>\n",
       "    <tr>\n",
       "      <th>chevy s-10</th>\n",
       "      <td>4</td>\n",
       "      <td>119.0</td>\n",
       "      <td>82.0</td>\n",
       "      <td>2720</td>\n",
       "      <td>19.4</td>\n",
       "      <td>82</td>\n",
       "      <td>0</td>\n",
       "      <td>0</td>\n",
       "      <td>1</td>\n",
       "    </tr>\n",
       "    <tr>\n",
       "      <th>...</th>\n",
       "      <td>...</td>\n",
       "      <td>...</td>\n",
       "      <td>...</td>\n",
       "      <td>...</td>\n",
       "      <td>...</td>\n",
       "      <td>...</td>\n",
       "      <td>...</td>\n",
       "      <td>...</td>\n",
       "      <td>...</td>\n",
       "    </tr>\n",
       "    <tr>\n",
       "      <th>chevrolet chevette</th>\n",
       "      <td>4</td>\n",
       "      <td>98.0</td>\n",
       "      <td>63.0</td>\n",
       "      <td>2051</td>\n",
       "      <td>17.0</td>\n",
       "      <td>77</td>\n",
       "      <td>0</td>\n",
       "      <td>0</td>\n",
       "      <td>1</td>\n",
       "    </tr>\n",
       "    <tr>\n",
       "      <th>chevrolet impala</th>\n",
       "      <td>8</td>\n",
       "      <td>350.0</td>\n",
       "      <td>165.0</td>\n",
       "      <td>4209</td>\n",
       "      <td>12.0</td>\n",
       "      <td>71</td>\n",
       "      <td>0</td>\n",
       "      <td>0</td>\n",
       "      <td>1</td>\n",
       "    </tr>\n",
       "  </tbody>\n",
       "</table>\n",
       "<p>274 rows × 9 columns</p>\n",
       "</div>"
      ],
      "text/plain": [
       "                    cylinders  displacement  horsepower  weight  acceleration  \\\n",
       "name                                                                            \n",
       "triumph tr7 coupe           4         122.0        88.0    2500          15.1   \n",
       "chevy s-10                  4         119.0        82.0    2720          19.4   \n",
       "...                       ...           ...         ...     ...           ...   \n",
       "chevrolet chevette          4          98.0        63.0    2051          17.0   \n",
       "chevrolet impala            8         350.0       165.0    4209          12.0   \n",
       "\n",
       "                    model_year  origin_europe  origin_japan  origin_usa  \n",
       "name                                                                     \n",
       "triumph tr7 coupe           80              1             0           0  \n",
       "chevy s-10                  82              0             0           1  \n",
       "...                        ...            ...           ...         ...  \n",
       "chevrolet chevette          77              0             0           1  \n",
       "chevrolet impala            71              0             0           1  \n",
       "\n",
       "[274 rows x 9 columns]"
      ]
     },
     "execution_count": 44,
     "metadata": {},
     "output_type": "execute_result"
    }
   ],
   "source": [
    "from sklearn.model_selection import train_test_split\n",
    "\n",
    "X_train, X_test, y_train, y_test = train_test_split(explanatory, target, test_size=0.30, random_state=1)\n",
    "X_train"
   ]
  },
  {
   "cell_type": "code",
   "execution_count": 45,
   "id": "16de7555",
   "metadata": {},
   "outputs": [
    {
     "data": {
      "text/html": [
       "<div>\n",
       "<style scoped>\n",
       "    .dataframe tbody tr th:only-of-type {\n",
       "        vertical-align: middle;\n",
       "    }\n",
       "\n",
       "    .dataframe tbody tr th {\n",
       "        vertical-align: top;\n",
       "    }\n",
       "\n",
       "    .dataframe thead th {\n",
       "        text-align: right;\n",
       "    }\n",
       "</style>\n",
       "<table border=\"1\" class=\"dataframe\">\n",
       "  <thead>\n",
       "    <tr style=\"text-align: right;\">\n",
       "      <th></th>\n",
       "      <th>cylinders</th>\n",
       "      <th>displacement</th>\n",
       "      <th>horsepower</th>\n",
       "      <th>weight</th>\n",
       "      <th>acceleration</th>\n",
       "      <th>model_year</th>\n",
       "      <th>origin_europe</th>\n",
       "      <th>origin_japan</th>\n",
       "      <th>origin_usa</th>\n",
       "    </tr>\n",
       "    <tr>\n",
       "      <th>name</th>\n",
       "      <th></th>\n",
       "      <th></th>\n",
       "      <th></th>\n",
       "      <th></th>\n",
       "      <th></th>\n",
       "      <th></th>\n",
       "      <th></th>\n",
       "      <th></th>\n",
       "      <th></th>\n",
       "    </tr>\n",
       "  </thead>\n",
       "  <tbody>\n",
       "    <tr>\n",
       "      <th>toyouta corona mark ii (sw)</th>\n",
       "      <td>4</td>\n",
       "      <td>120.0</td>\n",
       "      <td>97.0</td>\n",
       "      <td>2506</td>\n",
       "      <td>14.5</td>\n",
       "      <td>72</td>\n",
       "      <td>0</td>\n",
       "      <td>1</td>\n",
       "      <td>0</td>\n",
       "    </tr>\n",
       "    <tr>\n",
       "      <th>toyota corolla</th>\n",
       "      <td>4</td>\n",
       "      <td>97.0</td>\n",
       "      <td>75.0</td>\n",
       "      <td>2171</td>\n",
       "      <td>16.0</td>\n",
       "      <td>75</td>\n",
       "      <td>0</td>\n",
       "      <td>1</td>\n",
       "      <td>0</td>\n",
       "    </tr>\n",
       "    <tr>\n",
       "      <th>...</th>\n",
       "      <td>...</td>\n",
       "      <td>...</td>\n",
       "      <td>...</td>\n",
       "      <td>...</td>\n",
       "      <td>...</td>\n",
       "      <td>...</td>\n",
       "      <td>...</td>\n",
       "      <td>...</td>\n",
       "      <td>...</td>\n",
       "    </tr>\n",
       "    <tr>\n",
       "      <th>chevrolet monza 2+2</th>\n",
       "      <td>8</td>\n",
       "      <td>262.0</td>\n",
       "      <td>110.0</td>\n",
       "      <td>3221</td>\n",
       "      <td>13.5</td>\n",
       "      <td>75</td>\n",
       "      <td>0</td>\n",
       "      <td>0</td>\n",
       "      <td>1</td>\n",
       "    </tr>\n",
       "    <tr>\n",
       "      <th>ford ltd</th>\n",
       "      <td>8</td>\n",
       "      <td>351.0</td>\n",
       "      <td>158.0</td>\n",
       "      <td>4363</td>\n",
       "      <td>13.0</td>\n",
       "      <td>73</td>\n",
       "      <td>0</td>\n",
       "      <td>0</td>\n",
       "      <td>1</td>\n",
       "    </tr>\n",
       "  </tbody>\n",
       "</table>\n",
       "<p>118 rows × 9 columns</p>\n",
       "</div>"
      ],
      "text/plain": [
       "                             cylinders  displacement  horsepower  weight  \\\n",
       "name                                                                       \n",
       "toyouta corona mark ii (sw)          4         120.0        97.0    2506   \n",
       "toyota corolla                       4          97.0        75.0    2171   \n",
       "...                                ...           ...         ...     ...   \n",
       "chevrolet monza 2+2                  8         262.0       110.0    3221   \n",
       "ford ltd                             8         351.0       158.0    4363   \n",
       "\n",
       "                             acceleration  model_year  origin_europe  \\\n",
       "name                                                                   \n",
       "toyouta corona mark ii (sw)          14.5          72              0   \n",
       "toyota corolla                       16.0          75              0   \n",
       "...                                   ...         ...            ...   \n",
       "chevrolet monza 2+2                  13.5          75              0   \n",
       "ford ltd                             13.0          73              0   \n",
       "\n",
       "                             origin_japan  origin_usa  \n",
       "name                                                   \n",
       "toyouta corona mark ii (sw)             1           0  \n",
       "toyota corolla                          1           0  \n",
       "...                                   ...         ...  \n",
       "chevrolet monza 2+2                     0           1  \n",
       "ford ltd                                0           1  \n",
       "\n",
       "[118 rows x 9 columns]"
      ]
     },
     "execution_count": 45,
     "metadata": {},
     "output_type": "execute_result"
    }
   ],
   "source": [
    "X_test"
   ]
  },
  {
   "attachments": {},
   "cell_type": "markdown",
   "id": "ab099198",
   "metadata": {},
   "source": [
    "#### Machine Learning development"
   ]
  },
  {
   "cell_type": "code",
   "execution_count": 46,
   "id": "2960b8ce",
   "metadata": {},
   "outputs": [
    {
     "data": {
      "text/plain": [
       "0.8045060556582773"
      ]
     },
     "execution_count": 46,
     "metadata": {},
     "output_type": "execute_result"
    }
   ],
   "source": [
    "model_dt_train = DecisionTreeRegressor(random_state=42)\n",
    "model_dt_train.fit(X=X_train, y=y_train)\n",
    "model_dt_train.predict(X=X_test)\n",
    "model_dt_train.score(X=X_test, y=y_test)"
   ]
  },
  {
   "attachments": {},
   "cell_type": "markdown",
   "id": "d1e392c9",
   "metadata": {},
   "source": [
    "### Reflect"
   ]
  },
  {
   "attachments": {},
   "cell_type": "markdown",
   "id": "cc965467",
   "metadata": {},
   "source": [
    "#### Compare predictions to reality in a `DataFrame`"
   ]
  },
  {
   "cell_type": "code",
   "execution_count": 47,
   "id": "75b3015e",
   "metadata": {},
   "outputs": [
    {
     "data": {
      "text/html": [
       "<div>\n",
       "<style scoped>\n",
       "    .dataframe tbody tr th:only-of-type {\n",
       "        vertical-align: middle;\n",
       "    }\n",
       "\n",
       "    .dataframe tbody tr th {\n",
       "        vertical-align: top;\n",
       "    }\n",
       "\n",
       "    .dataframe thead th {\n",
       "        text-align: right;\n",
       "    }\n",
       "</style>\n",
       "<table border=\"1\" class=\"dataframe\">\n",
       "  <thead>\n",
       "    <tr style=\"text-align: right;\">\n",
       "      <th></th>\n",
       "      <th>mpg</th>\n",
       "      <th>prediction_all</th>\n",
       "      <th>prediction_train_test</th>\n",
       "    </tr>\n",
       "    <tr>\n",
       "      <th>name</th>\n",
       "      <th></th>\n",
       "      <th></th>\n",
       "      <th></th>\n",
       "    </tr>\n",
       "  </thead>\n",
       "  <tbody>\n",
       "    <tr>\n",
       "      <th>toyouta corona mark ii (sw)</th>\n",
       "      <td>23.0</td>\n",
       "      <td>23.0</td>\n",
       "      <td>22.0</td>\n",
       "    </tr>\n",
       "    <tr>\n",
       "      <th>toyota corolla</th>\n",
       "      <td>29.0</td>\n",
       "      <td>29.0</td>\n",
       "      <td>28.0</td>\n",
       "    </tr>\n",
       "    <tr>\n",
       "      <th>...</th>\n",
       "      <td>...</td>\n",
       "      <td>...</td>\n",
       "      <td>...</td>\n",
       "    </tr>\n",
       "    <tr>\n",
       "      <th>chevrolet monza 2+2</th>\n",
       "      <td>20.0</td>\n",
       "      <td>20.0</td>\n",
       "      <td>13.0</td>\n",
       "    </tr>\n",
       "    <tr>\n",
       "      <th>ford ltd</th>\n",
       "      <td>13.0</td>\n",
       "      <td>13.0</td>\n",
       "      <td>10.0</td>\n",
       "    </tr>\n",
       "  </tbody>\n",
       "</table>\n",
       "<p>118 rows × 3 columns</p>\n",
       "</div>"
      ],
      "text/plain": [
       "                              mpg  prediction_all  prediction_train_test\n",
       "name                                                                    \n",
       "toyouta corona mark ii (sw)  23.0            23.0                   22.0\n",
       "toyota corolla               29.0            29.0                   28.0\n",
       "...                           ...             ...                    ...\n",
       "chevrolet monza 2+2          20.0            20.0                   13.0\n",
       "ford ltd                     13.0            13.0                   10.0\n",
       "\n",
       "[118 rows x 3 columns]"
      ]
     },
     "execution_count": 47,
     "metadata": {},
     "output_type": "execute_result"
    }
   ],
   "source": [
    "df_pred = y_test.to_frame()\n",
    "df_pred['prediction_all'] = model_dt_all.predict(X=X_test)\n",
    "df_pred['prediction_train_test'] = model_dt_train.predict(X=X_test)\n",
    "df_pred"
   ]
  },
  {
   "attachments": {},
   "cell_type": "markdown",
   "id": "ec237542",
   "metadata": {},
   "source": [
    "## Other algorithms"
   ]
  },
  {
   "attachments": {},
   "cell_type": "markdown",
   "id": "33974f49",
   "metadata": {},
   "source": [
    "### Linear Regression"
   ]
  },
  {
   "cell_type": "code",
   "execution_count": 48,
   "id": "12678666",
   "metadata": {},
   "outputs": [],
   "source": [
    "from sklearn.linear_model import LinearRegression"
   ]
  },
  {
   "attachments": {},
   "cell_type": "markdown",
   "id": "8323db6d",
   "metadata": {},
   "source": [
    "#### Calculate the score in all dataset"
   ]
  },
  {
   "cell_type": "code",
   "execution_count": 49,
   "id": "ebd103e5",
   "metadata": {},
   "outputs": [
    {
     "data": {
      "text/plain": [
       "0.8242172817490033"
      ]
     },
     "execution_count": 49,
     "metadata": {},
     "output_type": "execute_result"
    }
   ],
   "source": [
    "model_lr_train = LinearRegression()\n",
    "model_lr_train.fit(X=X_train, y=y_train)\n",
    "score_lr_train = model_lr_train.score(X=X_test, y=y_test)\n",
    "score_lr_train"
   ]
  },
  {
   "attachments": {},
   "cell_type": "markdown",
   "id": "61a62c7a",
   "metadata": {},
   "source": [
    "#### Calculate the score in the test set"
   ]
  },
  {
   "cell_type": "code",
   "execution_count": 50,
   "id": "a945fde9",
   "metadata": {},
   "outputs": [
    {
     "data": {
      "text/plain": [
       "0.8369131723159857"
      ]
     },
     "execution_count": 50,
     "metadata": {},
     "output_type": "execute_result"
    }
   ],
   "source": [
    "model_lr_all = LinearRegression()\n",
    "model_lr_all.fit(X=explanatory, y=target)\n",
    "score_lr_all = model_lr_all.score(X=X_test, y=y_test)\n",
    "score_lr_all"
   ]
  },
  {
   "attachments": {},
   "cell_type": "markdown",
   "id": "7a3efe6f",
   "metadata": {},
   "source": [
    "### Random Forest"
   ]
  },
  {
   "cell_type": "code",
   "execution_count": 52,
   "id": "334bb77c",
   "metadata": {},
   "outputs": [],
   "source": [
    "from sklearn.ensemble import RandomForestRegressor"
   ]
  },
  {
   "attachments": {},
   "cell_type": "markdown",
   "id": "4dc15566",
   "metadata": {},
   "source": [
    "#### Calculate the score in all dataset"
   ]
  },
  {
   "cell_type": "code",
   "execution_count": 53,
   "id": "895cf245",
   "metadata": {},
   "outputs": [
    {
     "data": {
      "text/plain": [
       "0.9783493318318217"
      ]
     },
     "execution_count": 53,
     "metadata": {},
     "output_type": "execute_result"
    }
   ],
   "source": [
    "model_rf_all = RandomForestRegressor()\n",
    "model_rf_all.fit(X=explanatory, y=target)\n",
    "score_rf_all = model_rf_all.score(X=X_test, y=y_test)\n",
    "score_rf_all"
   ]
  },
  {
   "attachments": {},
   "cell_type": "markdown",
   "id": "e4d941e4",
   "metadata": {},
   "source": [
    "#### Calculate the score in the test set"
   ]
  },
  {
   "cell_type": "code",
   "execution_count": 54,
   "id": "f330451f",
   "metadata": {},
   "outputs": [
    {
     "data": {
      "text/plain": [
       "0.8544468187825718"
      ]
     },
     "execution_count": 54,
     "metadata": {},
     "output_type": "execute_result"
    }
   ],
   "source": [
    "model_rf_train = RandomForestRegressor()\n",
    "model_rf_train.fit(X=X_train, y=y_train)\n",
    "score_rf_train = model_rf_train.score(X=X_test, y=y_test)\n",
    "score_rf_train"
   ]
  },
  {
   "attachments": {},
   "cell_type": "markdown",
   "id": "15ec47ff",
   "metadata": {},
   "source": [
    "## Compare all models in a `DataFrame`"
   ]
  },
  {
   "cell_type": "code",
   "execution_count": 60,
   "id": "c6086756",
   "metadata": {},
   "outputs": [],
   "source": [
    "from sklearn.ensemble import RandomForestRegressor\n",
    "from sklearn.tree import DecisionTreeRegressor\n",
    "from sklearn.linear_model import LinearRegression\n",
    "\n",
    "list_model = [DecisionTreeRegressor(), RandomForestRegressor(), LinearRegression()]\n",
    "\n",
    "list_model_train = []\n",
    "for model in list_model:\n",
    "    model.fit(X=X_train, y=y_train)\n",
    "    score = model.score(X=X_test, y=y_test)\n",
    "    list_model_train.append(score)\n",
    "    \n",
    "list_model_all = []\n",
    "for model in list_model:\n",
    "    model.fit(X=explanatory, y=target)\n",
    "    score = model.score(X=X_test, y=y_test)\n",
    "    list_model_all.append(score)"
   ]
  },
  {
   "cell_type": "code",
   "execution_count": 61,
   "id": "7f323599",
   "metadata": {},
   "outputs": [
    {
     "data": {
      "text/html": [
       "<div>\n",
       "<style scoped>\n",
       "    .dataframe tbody tr th:only-of-type {\n",
       "        vertical-align: middle;\n",
       "    }\n",
       "\n",
       "    .dataframe tbody tr th {\n",
       "        vertical-align: top;\n",
       "    }\n",
       "\n",
       "    .dataframe thead th {\n",
       "        text-align: right;\n",
       "    }\n",
       "</style>\n",
       "<table border=\"1\" class=\"dataframe\">\n",
       "  <thead>\n",
       "    <tr style=\"text-align: right;\">\n",
       "      <th></th>\n",
       "      <th>model</th>\n",
       "      <th>score_all</th>\n",
       "      <th>score_train_test</th>\n",
       "    </tr>\n",
       "  </thead>\n",
       "  <tbody>\n",
       "    <tr>\n",
       "      <th>0</th>\n",
       "      <td>DecisionTreeRegressor</td>\n",
       "      <td>1.000000</td>\n",
       "      <td>0.807948</td>\n",
       "    </tr>\n",
       "    <tr>\n",
       "      <th>1</th>\n",
       "      <td>RandomForestRegressor</td>\n",
       "      <td>0.978396</td>\n",
       "      <td>0.845569</td>\n",
       "    </tr>\n",
       "    <tr>\n",
       "      <th>2</th>\n",
       "      <td>LinearRegression</td>\n",
       "      <td>0.836913</td>\n",
       "      <td>0.824217</td>\n",
       "    </tr>\n",
       "  </tbody>\n",
       "</table>\n",
       "</div>"
      ],
      "text/plain": [
       "                   model  score_all  score_train_test\n",
       "0  DecisionTreeRegressor   1.000000          0.807948\n",
       "1  RandomForestRegressor   0.978396          0.845569\n",
       "2       LinearRegression   0.836913          0.824217"
      ]
     },
     "execution_count": 61,
     "metadata": {},
     "output_type": "execute_result"
    }
   ],
   "source": [
    "df_score = pd.DataFrame({\n",
    "    'model': list(map(lambda x: x.__class__.__name__, list_model)),\n",
    "    'score_all': list_model_all,\n",
    "    'score_train_test': list_model_train,\n",
    "})\n",
    "\n",
    "df_score"
   ]
  }
 ],
 "metadata": {
  "kernelspec": {
   "display_name": "Python 3 (ipykernel)",
   "language": "python",
   "name": "python3"
  },
  "language_info": {
   "codemirror_mode": {
    "name": "ipython",
    "version": 3
   },
   "file_extension": ".py",
   "mimetype": "text/x-python",
   "name": "python",
   "nbconvert_exporter": "python",
   "pygments_lexer": "ipython3",
   "version": "3.10.6"
  }
 },
 "nbformat": 4,
 "nbformat_minor": 5
}
