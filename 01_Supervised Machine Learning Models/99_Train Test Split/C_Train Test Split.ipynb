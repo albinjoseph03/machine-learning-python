{
 "cells": [
  {
   "cell_type": "markdown",
   "id": "93d658d4",
   "metadata": {},
   "source": [
    "# Train Test Split"
   ]
  },
  {
   "cell_type": "markdown",
   "id": "84b1613b",
   "metadata": {},
   "source": [
    "## Data loading"
   ]
  },
  {
   "cell_type": "code",
   "execution_count": 40,
   "id": "059a4ccf",
   "metadata": {},
   "outputs": [
    {
     "data": {
      "text/html": [
       "<div>\n",
       "<style scoped>\n",
       "    .dataframe tbody tr th:only-of-type {\n",
       "        vertical-align: middle;\n",
       "    }\n",
       "\n",
       "    .dataframe tbody tr th {\n",
       "        vertical-align: top;\n",
       "    }\n",
       "\n",
       "    .dataframe thead th {\n",
       "        text-align: right;\n",
       "    }\n",
       "</style>\n",
       "<table border=\"1\" class=\"dataframe\">\n",
       "  <thead>\n",
       "    <tr style=\"text-align: right;\">\n",
       "      <th></th>\n",
       "      <th>mpg</th>\n",
       "      <th>cylinders</th>\n",
       "      <th>displacement</th>\n",
       "      <th>horsepower</th>\n",
       "      <th>weight</th>\n",
       "      <th>acceleration</th>\n",
       "      <th>model_year</th>\n",
       "      <th>origin_europe</th>\n",
       "      <th>origin_japan</th>\n",
       "      <th>origin_usa</th>\n",
       "    </tr>\n",
       "    <tr>\n",
       "      <th>name</th>\n",
       "      <th></th>\n",
       "      <th></th>\n",
       "      <th></th>\n",
       "      <th></th>\n",
       "      <th></th>\n",
       "      <th></th>\n",
       "      <th></th>\n",
       "      <th></th>\n",
       "      <th></th>\n",
       "      <th></th>\n",
       "    </tr>\n",
       "  </thead>\n",
       "  <tbody>\n",
       "    <tr>\n",
       "      <th>chevrolet chevelle malibu</th>\n",
       "      <td>18.0</td>\n",
       "      <td>8</td>\n",
       "      <td>307.0</td>\n",
       "      <td>130.0</td>\n",
       "      <td>3504</td>\n",
       "      <td>12.0</td>\n",
       "      <td>70</td>\n",
       "      <td>0</td>\n",
       "      <td>0</td>\n",
       "      <td>1</td>\n",
       "    </tr>\n",
       "    <tr>\n",
       "      <th>buick skylark 320</th>\n",
       "      <td>15.0</td>\n",
       "      <td>8</td>\n",
       "      <td>350.0</td>\n",
       "      <td>165.0</td>\n",
       "      <td>3693</td>\n",
       "      <td>11.5</td>\n",
       "      <td>70</td>\n",
       "      <td>0</td>\n",
       "      <td>0</td>\n",
       "      <td>1</td>\n",
       "    </tr>\n",
       "    <tr>\n",
       "      <th>...</th>\n",
       "      <td>...</td>\n",
       "      <td>...</td>\n",
       "      <td>...</td>\n",
       "      <td>...</td>\n",
       "      <td>...</td>\n",
       "      <td>...</td>\n",
       "      <td>...</td>\n",
       "      <td>...</td>\n",
       "      <td>...</td>\n",
       "      <td>...</td>\n",
       "    </tr>\n",
       "    <tr>\n",
       "      <th>ford ranger</th>\n",
       "      <td>28.0</td>\n",
       "      <td>4</td>\n",
       "      <td>120.0</td>\n",
       "      <td>79.0</td>\n",
       "      <td>2625</td>\n",
       "      <td>18.6</td>\n",
       "      <td>82</td>\n",
       "      <td>0</td>\n",
       "      <td>0</td>\n",
       "      <td>1</td>\n",
       "    </tr>\n",
       "    <tr>\n",
       "      <th>chevy s-10</th>\n",
       "      <td>31.0</td>\n",
       "      <td>4</td>\n",
       "      <td>119.0</td>\n",
       "      <td>82.0</td>\n",
       "      <td>2720</td>\n",
       "      <td>19.4</td>\n",
       "      <td>82</td>\n",
       "      <td>0</td>\n",
       "      <td>0</td>\n",
       "      <td>1</td>\n",
       "    </tr>\n",
       "  </tbody>\n",
       "</table>\n",
       "<p>392 rows × 10 columns</p>\n",
       "</div>"
      ],
      "text/plain": [
       "                            mpg  cylinders  displacement  horsepower  weight  \\\n",
       "name                                                                           \n",
       "chevrolet chevelle malibu  18.0          8         307.0       130.0    3504   \n",
       "buick skylark 320          15.0          8         350.0       165.0    3693   \n",
       "...                         ...        ...           ...         ...     ...   \n",
       "ford ranger                28.0          4         120.0        79.0    2625   \n",
       "chevy s-10                 31.0          4         119.0        82.0    2720   \n",
       "\n",
       "                           acceleration  model_year  origin_europe  \\\n",
       "name                                                                 \n",
       "chevrolet chevelle malibu          12.0          70              0   \n",
       "buick skylark 320                  11.5          70              0   \n",
       "...                                 ...         ...            ...   \n",
       "ford ranger                        18.6          82              0   \n",
       "chevy s-10                         19.4          82              0   \n",
       "\n",
       "                           origin_japan  origin_usa  \n",
       "name                                                 \n",
       "chevrolet chevelle malibu             0           1  \n",
       "buick skylark 320                     0           1  \n",
       "...                                 ...         ...  \n",
       "ford ranger                           0           1  \n",
       "chevy s-10                            0           1  \n",
       "\n",
       "[392 rows x 10 columns]"
      ]
     },
     "execution_count": 40,
     "metadata": {},
     "output_type": "execute_result"
    }
   ],
   "source": [
    "import pandas as pd\n",
    "import seaborn as sns\n",
    "\n",
    "df_mpg = pd.get_dummies(sns.load_dataset('mpg', index_col='name').dropna())\n",
    "df_mpg"
   ]
  },
  {
   "cell_type": "markdown",
   "id": "f1f9818a",
   "metadata": {},
   "source": [
    "## Feature selection"
   ]
  },
  {
   "cell_type": "code",
   "execution_count": null,
   "id": "c80c4c47",
   "metadata": {},
   "outputs": [],
   "source": []
  },
  {
   "cell_type": "markdown",
   "id": "dc60b8e9",
   "metadata": {},
   "source": [
    "## Machine Learning System\n",
    "\n",
    "Decision Tree Regressor\n",
    "\n",
    "### Calculate the score in all dataset"
   ]
  },
  {
   "cell_type": "code",
   "execution_count": null,
   "id": "25979c03",
   "metadata": {},
   "outputs": [],
   "source": [
    "from sklearn.tree import Deci"
   ]
  },
  {
   "cell_type": "markdown",
   "id": "91c816ed",
   "metadata": {},
   "source": [
    "### Calculate the score in the test set"
   ]
  },
  {
   "cell_type": "markdown",
   "id": "33dfcdcb",
   "metadata": {},
   "source": [
    "#### Create train and test sets\n",
    "\n",
    "Look for the function in `model_selection`"
   ]
  },
  {
   "cell_type": "code",
   "execution_count": 1,
   "id": "89f337c1",
   "metadata": {},
   "outputs": [],
   "source": [
    "from sklearn.model_selection import train_test_split"
   ]
  },
  {
   "cell_type": "code",
   "execution_count": null,
   "id": "a095c69e-19ac-4c15-9b75-c3bb0b35a5ed",
   "metadata": {},
   "outputs": [],
   "source": [
    ">>> X_train, X_test, y_train, y_test = train_test_split(\n",
    "...     X, y, test_size=0.33, random_state=42)"
   ]
  },
  {
   "cell_type": "markdown",
   "id": "ab099198",
   "metadata": {},
   "source": [
    "#### Machine Learning development"
   ]
  },
  {
   "cell_type": "code",
   "execution_count": null,
   "id": "7a71bfbf",
   "metadata": {},
   "outputs": [],
   "source": []
  },
  {
   "cell_type": "markdown",
   "id": "d1e392c9",
   "metadata": {},
   "source": [
    "### Reflect"
   ]
  },
  {
   "cell_type": "markdown",
   "id": "cc965467",
   "metadata": {},
   "source": [
    "#### Compare predictions to reality in a `DataFrame`"
   ]
  },
  {
   "cell_type": "code",
   "execution_count": null,
   "id": "bf766dfa",
   "metadata": {},
   "outputs": [],
   "source": []
  },
  {
   "cell_type": "markdown",
   "id": "ec237542",
   "metadata": {},
   "source": [
    "## Other algorithms"
   ]
  },
  {
   "cell_type": "markdown",
   "id": "33974f49",
   "metadata": {},
   "source": [
    "### Linear Regression"
   ]
  },
  {
   "cell_type": "code",
   "execution_count": null,
   "id": "a1b1df7f",
   "metadata": {},
   "outputs": [],
   "source": []
  },
  {
   "cell_type": "markdown",
   "id": "8323db6d",
   "metadata": {},
   "source": [
    "#### Calculate the score in all dataset"
   ]
  },
  {
   "cell_type": "code",
   "execution_count": null,
   "id": "ffa6e7a0",
   "metadata": {},
   "outputs": [],
   "source": []
  },
  {
   "cell_type": "markdown",
   "id": "61a62c7a",
   "metadata": {},
   "source": [
    "#### Calculate the score in the test set"
   ]
  },
  {
   "cell_type": "code",
   "execution_count": null,
   "id": "95809a58",
   "metadata": {},
   "outputs": [],
   "source": []
  },
  {
   "cell_type": "markdown",
   "id": "7a3efe6f",
   "metadata": {},
   "source": [
    "### Random Forest"
   ]
  },
  {
   "cell_type": "code",
   "execution_count": null,
   "id": "1f4b5467",
   "metadata": {},
   "outputs": [],
   "source": []
  },
  {
   "cell_type": "markdown",
   "id": "4dc15566",
   "metadata": {},
   "source": [
    "#### Calculate the score in all dataset"
   ]
  },
  {
   "cell_type": "code",
   "execution_count": null,
   "id": "f9177a8f",
   "metadata": {},
   "outputs": [],
   "source": []
  },
  {
   "cell_type": "markdown",
   "id": "e4d941e4",
   "metadata": {},
   "source": [
    "#### Calculate the score in the test set"
   ]
  },
  {
   "cell_type": "code",
   "execution_count": null,
   "id": "441fa657",
   "metadata": {},
   "outputs": [],
   "source": []
  },
  {
   "cell_type": "markdown",
   "id": "15ec47ff",
   "metadata": {},
   "source": [
    "## Compare all models in a `DataFrame`"
   ]
  },
  {
   "cell_type": "code",
   "execution_count": 60,
   "id": "c6086756",
   "metadata": {},
   "outputs": [],
   "source": [
    "from sklearn.ensemble import RandomForestRegressor\n",
    "from sklearn.tree import DecisionTreeRegressor\n",
    "from sklearn.linear_model import LinearRegression\n",
    "\n",
    "list_model = [DecisionTreeRegressor(), RandomForestRegressor(), LinearRegression()]\n",
    "\n",
    "list_model_train = []\n",
    "for model in list_model:\n",
    "    model.fit(X=X_train, y=y_train)\n",
    "    score = model.score(X=X_test, y=y_test)\n",
    "    list_model_train.append(score)\n",
    "    \n",
    "list_model_all = []\n",
    "for model in list_model:\n",
    "    model.fit(X=explanatory, y=target)\n",
    "    score = model.score(X=X_test, y=y_test)\n",
    "    list_model_all.append(score)"
   ]
  },
  {
   "cell_type": "code",
   "execution_count": 61,
   "id": "7f323599",
   "metadata": {},
   "outputs": [
    {
     "data": {
      "text/html": [
       "<div>\n",
       "<style scoped>\n",
       "    .dataframe tbody tr th:only-of-type {\n",
       "        vertical-align: middle;\n",
       "    }\n",
       "\n",
       "    .dataframe tbody tr th {\n",
       "        vertical-align: top;\n",
       "    }\n",
       "\n",
       "    .dataframe thead th {\n",
       "        text-align: right;\n",
       "    }\n",
       "</style>\n",
       "<table border=\"1\" class=\"dataframe\">\n",
       "  <thead>\n",
       "    <tr style=\"text-align: right;\">\n",
       "      <th></th>\n",
       "      <th>model</th>\n",
       "      <th>score_all</th>\n",
       "      <th>score_train_test</th>\n",
       "    </tr>\n",
       "  </thead>\n",
       "  <tbody>\n",
       "    <tr>\n",
       "      <th>0</th>\n",
       "      <td>DecisionTreeRegressor</td>\n",
       "      <td>1.000000</td>\n",
       "      <td>0.807948</td>\n",
       "    </tr>\n",
       "    <tr>\n",
       "      <th>1</th>\n",
       "      <td>RandomForestRegressor</td>\n",
       "      <td>0.978396</td>\n",
       "      <td>0.845569</td>\n",
       "    </tr>\n",
       "    <tr>\n",
       "      <th>2</th>\n",
       "      <td>LinearRegression</td>\n",
       "      <td>0.836913</td>\n",
       "      <td>0.824217</td>\n",
       "    </tr>\n",
       "  </tbody>\n",
       "</table>\n",
       "</div>"
      ],
      "text/plain": [
       "                   model  score_all  score_train_test\n",
       "0  DecisionTreeRegressor   1.000000          0.807948\n",
       "1  RandomForestRegressor   0.978396          0.845569\n",
       "2       LinearRegression   0.836913          0.824217"
      ]
     },
     "execution_count": 61,
     "metadata": {},
     "output_type": "execute_result"
    }
   ],
   "source": [
    "df_score = pd.DataFrame({\n",
    "    'model': list(map(lambda x: x.__class__.__name__, list_model)),\n",
    "    'score_all': list_model_all,\n",
    "    'score_train_test': list_model_train,\n",
    "})\n",
    "\n",
    "df_score"
   ]
  }
 ],
 "metadata": {
  "kernelspec": {
   "display_name": "Python 3 (ipykernel)",
   "language": "python",
   "name": "python3"
  },
  "language_info": {
   "codemirror_mode": {
    "name": "ipython",
    "version": 3
   },
   "file_extension": ".py",
   "mimetype": "text/x-python",
   "name": "python",
   "nbconvert_exporter": "python",
   "pygments_lexer": "ipython3",
   "version": "3.10.6"
  }
 },
 "nbformat": 4,
 "nbformat_minor": 5
}
