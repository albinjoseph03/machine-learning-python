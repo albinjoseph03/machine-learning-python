{
 "cells": [
  {
   "attachments": {},
   "cell_type": "markdown",
   "id": "93d658d4",
   "metadata": {},
   "source": [
    "# Train Test Split"
   ]
  },
  {
   "cell_type": "code",
   "execution_count": null,
   "id": "905a7769",
   "metadata": {},
   "outputs": [],
   "source": [
    "???"
   ]
  },
  {
   "attachments": {},
   "cell_type": "markdown",
   "id": "8752c50c",
   "metadata": {},
   "source": [
    "![](src/comparison.png)"
   ]
  },
  {
   "attachments": {},
   "cell_type": "markdown",
   "id": "726ed1f5-8f2e-4e72-9e96-643fec7ca11a",
   "metadata": {},
   "source": [
    "## Data loading"
   ]
  },
  {
   "cell_type": "code",
   "execution_count": 1,
   "id": "9f9d6220-8756-4c2b-9b36-834614882376",
   "metadata": {},
   "outputs": [
    {
     "data": {
      "text/html": [
       "<div>\n",
       "<style scoped>\n",
       "    .dataframe tbody tr th:only-of-type {\n",
       "        vertical-align: middle;\n",
       "    }\n",
       "\n",
       "    .dataframe tbody tr th {\n",
       "        vertical-align: top;\n",
       "    }\n",
       "\n",
       "    .dataframe thead th {\n",
       "        text-align: right;\n",
       "    }\n",
       "</style>\n",
       "<table border=\"1\" class=\"dataframe\">\n",
       "  <thead>\n",
       "    <tr style=\"text-align: right;\">\n",
       "      <th></th>\n",
       "      <th>Open</th>\n",
       "      <th>High</th>\n",
       "      <th>Low</th>\n",
       "      <th>Close</th>\n",
       "      <th>Volume</th>\n",
       "      <th>change_tomorrow</th>\n",
       "      <th>change_tomorrow_direction</th>\n",
       "    </tr>\n",
       "    <tr>\n",
       "      <th>Date</th>\n",
       "      <th></th>\n",
       "      <th></th>\n",
       "      <th></th>\n",
       "      <th></th>\n",
       "      <th></th>\n",
       "      <th></th>\n",
       "      <th></th>\n",
       "    </tr>\n",
       "  </thead>\n",
       "  <tbody>\n",
       "    <tr>\n",
       "      <th>2007-01-09</th>\n",
       "      <td>3.087500</td>\n",
       "      <td>3.320714</td>\n",
       "      <td>3.041071</td>\n",
       "      <td>3.306071</td>\n",
       "      <td>3349298400</td>\n",
       "      <td>4.567032</td>\n",
       "      <td>UP</td>\n",
       "    </tr>\n",
       "    <tr>\n",
       "      <th>2007-01-10</th>\n",
       "      <td>3.383929</td>\n",
       "      <td>3.492857</td>\n",
       "      <td>3.337500</td>\n",
       "      <td>3.464286</td>\n",
       "      <td>2952880000</td>\n",
       "      <td>-1.252610</td>\n",
       "      <td>DOWN</td>\n",
       "    </tr>\n",
       "    <tr>\n",
       "      <th>...</th>\n",
       "      <td>...</td>\n",
       "      <td>...</td>\n",
       "      <td>...</td>\n",
       "      <td>...</td>\n",
       "      <td>...</td>\n",
       "      <td>...</td>\n",
       "      <td>...</td>\n",
       "    </tr>\n",
       "    <tr>\n",
       "      <th>2023-06-28</th>\n",
       "      <td>187.929993</td>\n",
       "      <td>189.899994</td>\n",
       "      <td>187.600006</td>\n",
       "      <td>189.250000</td>\n",
       "      <td>51216800</td>\n",
       "      <td>0.179332</td>\n",
       "      <td>UP</td>\n",
       "    </tr>\n",
       "    <tr>\n",
       "      <th>2023-06-29</th>\n",
       "      <td>189.080002</td>\n",
       "      <td>190.070007</td>\n",
       "      <td>188.940002</td>\n",
       "      <td>189.589996</td>\n",
       "      <td>46347300</td>\n",
       "      <td>2.258084</td>\n",
       "      <td>UP</td>\n",
       "    </tr>\n",
       "  </tbody>\n",
       "</table>\n",
       "<p>4147 rows × 7 columns</p>\n",
       "</div>"
      ],
      "text/plain": [
       "                  Open        High         Low       Close      Volume  \\\n",
       "Date                                                                     \n",
       "2007-01-09    3.087500    3.320714    3.041071    3.306071  3349298400   \n",
       "2007-01-10    3.383929    3.492857    3.337500    3.464286  2952880000   \n",
       "...                ...         ...         ...         ...         ...   \n",
       "2023-06-28  187.929993  189.899994  187.600006  189.250000    51216800   \n",
       "2023-06-29  189.080002  190.070007  188.940002  189.589996    46347300   \n",
       "\n",
       "            change_tomorrow change_tomorrow_direction  \n",
       "Date                                                   \n",
       "2007-01-09         4.567032                        UP  \n",
       "2007-01-10        -1.252610                      DOWN  \n",
       "...                     ...                       ...  \n",
       "2023-06-28         0.179332                        UP  \n",
       "2023-06-29         2.258084                        UP  \n",
       "\n",
       "[4147 rows x 7 columns]"
      ]
     },
     "execution_count": 1,
     "metadata": {},
     "output_type": "execute_result"
    }
   ],
   "source": [
    "import pandas as pd\n",
    "\n",
    "df = pd.read_excel(\n",
    "    '../../data/data_stock_apple.xlsx',\n",
    "    parse_dates=['Date'], index_col=0\n",
    "    )\n",
    "df"
   ]
  },
  {
   "attachments": {},
   "cell_type": "markdown",
   "id": "e9a81a1b",
   "metadata": {},
   "source": [
    "## Feature selection"
   ]
  },
  {
   "cell_type": "code",
   "execution_count": 19,
   "id": "64f18821",
   "metadata": {},
   "outputs": [],
   "source": [
    "target = df.change_tomorrow_direction\n",
    "explanatory = df[['Open','High','Low','Close','Volume']]"
   ]
  },
  {
   "attachments": {},
   "cell_type": "markdown",
   "id": "dc60b8e9",
   "metadata": {},
   "source": [
    "## Machine Learning System\n",
    "\n",
    "Decision Tree Classifier\n",
    "\n",
    "### Calculate the score in all dataset"
   ]
  },
  {
   "cell_type": "code",
   "execution_count": 20,
   "id": "4104be51",
   "metadata": {},
   "outputs": [
    {
     "data": {
      "text/plain": [
       "1.0"
      ]
     },
     "execution_count": 20,
     "metadata": {},
     "output_type": "execute_result"
    }
   ],
   "source": [
    "from sklearn.tree import DecisionTreeClassifier\n",
    "\n",
    "model_dt_all = DecisionTreeClassifier()\n",
    "model_dt_all.fit(X=explanatory, y=target)\n",
    "model_dt_all.predict(X=explanatory)\n",
    "model_dt_all.score(X=explanatory, y=target)"
   ]
  },
  {
   "attachments": {},
   "cell_type": "markdown",
   "id": "91c816ed",
   "metadata": {},
   "source": [
    "### Calculate the score in the test set"
   ]
  },
  {
   "attachments": {},
   "cell_type": "markdown",
   "id": "33dfcdcb",
   "metadata": {},
   "source": [
    "#### Create train and test sets\n",
    "\n",
    "Look for the function in `model_selection`"
   ]
  },
  {
   "cell_type": "code",
   "execution_count": 46,
   "id": "0db512bc",
   "metadata": {},
   "outputs": [
    {
     "data": {
      "text/html": [
       "<div>\n",
       "<style scoped>\n",
       "    .dataframe tbody tr th:only-of-type {\n",
       "        vertical-align: middle;\n",
       "    }\n",
       "\n",
       "    .dataframe tbody tr th {\n",
       "        vertical-align: top;\n",
       "    }\n",
       "\n",
       "    .dataframe thead th {\n",
       "        text-align: right;\n",
       "    }\n",
       "</style>\n",
       "<table border=\"1\" class=\"dataframe\">\n",
       "  <thead>\n",
       "    <tr style=\"text-align: right;\">\n",
       "      <th></th>\n",
       "      <th>Open</th>\n",
       "      <th>High</th>\n",
       "      <th>Low</th>\n",
       "      <th>Close</th>\n",
       "      <th>Volume</th>\n",
       "    </tr>\n",
       "    <tr>\n",
       "      <th>Date</th>\n",
       "      <th></th>\n",
       "      <th></th>\n",
       "      <th></th>\n",
       "      <th></th>\n",
       "      <th></th>\n",
       "    </tr>\n",
       "  </thead>\n",
       "  <tbody>\n",
       "    <tr>\n",
       "      <th>2016-05-11</th>\n",
       "      <td>23.370001</td>\n",
       "      <td>23.392500</td>\n",
       "      <td>23.115000</td>\n",
       "      <td>23.127501</td>\n",
       "      <td>114876400</td>\n",
       "    </tr>\n",
       "    <tr>\n",
       "      <th>2011-07-26</th>\n",
       "      <td>14.285714</td>\n",
       "      <td>14.446429</td>\n",
       "      <td>14.274286</td>\n",
       "      <td>14.407500</td>\n",
       "      <td>476582400</td>\n",
       "    </tr>\n",
       "    <tr>\n",
       "      <th>...</th>\n",
       "      <td>...</td>\n",
       "      <td>...</td>\n",
       "      <td>...</td>\n",
       "      <td>...</td>\n",
       "      <td>...</td>\n",
       "    </tr>\n",
       "    <tr>\n",
       "      <th>2022-10-28</th>\n",
       "      <td>148.199997</td>\n",
       "      <td>157.500000</td>\n",
       "      <td>147.820007</td>\n",
       "      <td>155.740005</td>\n",
       "      <td>164762400</td>\n",
       "    </tr>\n",
       "    <tr>\n",
       "      <th>2007-12-13</th>\n",
       "      <td>6.792500</td>\n",
       "      <td>6.861429</td>\n",
       "      <td>6.707857</td>\n",
       "      <td>6.851071</td>\n",
       "      <td>864617600</td>\n",
       "    </tr>\n",
       "  </tbody>\n",
       "</table>\n",
       "<p>2902 rows × 5 columns</p>\n",
       "</div>"
      ],
      "text/plain": [
       "                  Open        High         Low       Close     Volume\n",
       "Date                                                                 \n",
       "2016-05-11   23.370001   23.392500   23.115000   23.127501  114876400\n",
       "2011-07-26   14.285714   14.446429   14.274286   14.407500  476582400\n",
       "...                ...         ...         ...         ...        ...\n",
       "2022-10-28  148.199997  157.500000  147.820007  155.740005  164762400\n",
       "2007-12-13    6.792500    6.861429    6.707857    6.851071  864617600\n",
       "\n",
       "[2902 rows x 5 columns]"
      ]
     },
     "execution_count": 46,
     "metadata": {},
     "output_type": "execute_result"
    }
   ],
   "source": [
    "from sklearn.model_selection import train_test_split\n",
    "\n",
    "X_train, X_test, y_train, y_test = train_test_split(explanatory, target, test_size=0.30, random_state=1)\n",
    "X_train"
   ]
  },
  {
   "cell_type": "code",
   "execution_count": 47,
   "id": "16de7555",
   "metadata": {},
   "outputs": [
    {
     "data": {
      "text/html": [
       "<div>\n",
       "<style scoped>\n",
       "    .dataframe tbody tr th:only-of-type {\n",
       "        vertical-align: middle;\n",
       "    }\n",
       "\n",
       "    .dataframe tbody tr th {\n",
       "        vertical-align: top;\n",
       "    }\n",
       "\n",
       "    .dataframe thead th {\n",
       "        text-align: right;\n",
       "    }\n",
       "</style>\n",
       "<table border=\"1\" class=\"dataframe\">\n",
       "  <thead>\n",
       "    <tr style=\"text-align: right;\">\n",
       "      <th></th>\n",
       "      <th>Open</th>\n",
       "      <th>High</th>\n",
       "      <th>Low</th>\n",
       "      <th>Close</th>\n",
       "      <th>Volume</th>\n",
       "    </tr>\n",
       "    <tr>\n",
       "      <th>Date</th>\n",
       "      <th></th>\n",
       "      <th></th>\n",
       "      <th></th>\n",
       "      <th></th>\n",
       "      <th></th>\n",
       "    </tr>\n",
       "  </thead>\n",
       "  <tbody>\n",
       "    <tr>\n",
       "      <th>2020-03-05</th>\n",
       "      <td>73.879997</td>\n",
       "      <td>74.887497</td>\n",
       "      <td>72.852501</td>\n",
       "      <td>73.230003</td>\n",
       "      <td>187572800</td>\n",
       "    </tr>\n",
       "    <tr>\n",
       "      <th>2008-06-12</th>\n",
       "      <td>6.481786</td>\n",
       "      <td>6.521429</td>\n",
       "      <td>6.114286</td>\n",
       "      <td>6.187857</td>\n",
       "      <td>1308333600</td>\n",
       "    </tr>\n",
       "    <tr>\n",
       "      <th>...</th>\n",
       "      <td>...</td>\n",
       "      <td>...</td>\n",
       "      <td>...</td>\n",
       "      <td>...</td>\n",
       "      <td>...</td>\n",
       "    </tr>\n",
       "    <tr>\n",
       "      <th>2014-08-05</th>\n",
       "      <td>23.840000</td>\n",
       "      <td>23.920000</td>\n",
       "      <td>23.590000</td>\n",
       "      <td>23.780001</td>\n",
       "      <td>223732000</td>\n",
       "    </tr>\n",
       "    <tr>\n",
       "      <th>2010-08-03</th>\n",
       "      <td>9.321786</td>\n",
       "      <td>9.402143</td>\n",
       "      <td>9.265000</td>\n",
       "      <td>9.354643</td>\n",
       "      <td>417653600</td>\n",
       "    </tr>\n",
       "  </tbody>\n",
       "</table>\n",
       "<p>1245 rows × 5 columns</p>\n",
       "</div>"
      ],
      "text/plain": [
       "                 Open       High        Low      Close      Volume\n",
       "Date                                                              \n",
       "2020-03-05  73.879997  74.887497  72.852501  73.230003   187572800\n",
       "2008-06-12   6.481786   6.521429   6.114286   6.187857  1308333600\n",
       "...               ...        ...        ...        ...         ...\n",
       "2014-08-05  23.840000  23.920000  23.590000  23.780001   223732000\n",
       "2010-08-03   9.321786   9.402143   9.265000   9.354643   417653600\n",
       "\n",
       "[1245 rows x 5 columns]"
      ]
     },
     "execution_count": 47,
     "metadata": {},
     "output_type": "execute_result"
    }
   ],
   "source": [
    "X_test"
   ]
  },
  {
   "attachments": {},
   "cell_type": "markdown",
   "id": "ab099198",
   "metadata": {},
   "source": [
    "#### Machine Learning development"
   ]
  },
  {
   "cell_type": "code",
   "execution_count": 48,
   "id": "2960b8ce",
   "metadata": {},
   "outputs": [
    {
     "data": {
      "text/plain": [
       "0.5140562248995983"
      ]
     },
     "execution_count": 48,
     "metadata": {},
     "output_type": "execute_result"
    }
   ],
   "source": [
    "model_dt_train = DecisionTreeClassifier(random_state=42)\n",
    "model_dt_train.fit(X=X_train, y=y_train)\n",
    "model_dt_train.predict(X=X_test)\n",
    "model_dt_train.score(X=X_test, y=y_test)"
   ]
  },
  {
   "attachments": {},
   "cell_type": "markdown",
   "id": "d1e392c9",
   "metadata": {},
   "source": [
    "### Reflect"
   ]
  },
  {
   "attachments": {},
   "cell_type": "markdown",
   "id": "cc965467",
   "metadata": {},
   "source": [
    "#### Compare predictions to reality in a `DataFrame`"
   ]
  },
  {
   "cell_type": "code",
   "execution_count": 49,
   "id": "75b3015e",
   "metadata": {},
   "outputs": [
    {
     "data": {
      "text/html": [
       "<div>\n",
       "<style scoped>\n",
       "    .dataframe tbody tr th:only-of-type {\n",
       "        vertical-align: middle;\n",
       "    }\n",
       "\n",
       "    .dataframe tbody tr th {\n",
       "        vertical-align: top;\n",
       "    }\n",
       "\n",
       "    .dataframe thead th {\n",
       "        text-align: right;\n",
       "    }\n",
       "</style>\n",
       "<table border=\"1\" class=\"dataframe\">\n",
       "  <thead>\n",
       "    <tr style=\"text-align: right;\">\n",
       "      <th></th>\n",
       "      <th>change_tomorrow_direction</th>\n",
       "      <th>prediction_all</th>\n",
       "      <th>prediction_train_test</th>\n",
       "    </tr>\n",
       "    <tr>\n",
       "      <th>Date</th>\n",
       "      <th></th>\n",
       "      <th></th>\n",
       "      <th></th>\n",
       "    </tr>\n",
       "  </thead>\n",
       "  <tbody>\n",
       "    <tr>\n",
       "      <th>2020-03-05</th>\n",
       "      <td>DOWN</td>\n",
       "      <td>DOWN</td>\n",
       "      <td>UP</td>\n",
       "    </tr>\n",
       "    <tr>\n",
       "      <th>2008-06-12</th>\n",
       "      <td>DOWN</td>\n",
       "      <td>DOWN</td>\n",
       "      <td>UP</td>\n",
       "    </tr>\n",
       "    <tr>\n",
       "      <th>...</th>\n",
       "      <td>...</td>\n",
       "      <td>...</td>\n",
       "      <td>...</td>\n",
       "    </tr>\n",
       "    <tr>\n",
       "      <th>2014-08-05</th>\n",
       "      <td>DOWN</td>\n",
       "      <td>DOWN</td>\n",
       "      <td>UP</td>\n",
       "    </tr>\n",
       "    <tr>\n",
       "      <th>2010-08-03</th>\n",
       "      <td>UP</td>\n",
       "      <td>UP</td>\n",
       "      <td>UP</td>\n",
       "    </tr>\n",
       "  </tbody>\n",
       "</table>\n",
       "<p>1245 rows × 3 columns</p>\n",
       "</div>"
      ],
      "text/plain": [
       "           change_tomorrow_direction prediction_all prediction_train_test\n",
       "Date                                                                     \n",
       "2020-03-05                      DOWN           DOWN                    UP\n",
       "2008-06-12                      DOWN           DOWN                    UP\n",
       "...                              ...            ...                   ...\n",
       "2014-08-05                      DOWN           DOWN                    UP\n",
       "2010-08-03                        UP             UP                    UP\n",
       "\n",
       "[1245 rows x 3 columns]"
      ]
     },
     "execution_count": 49,
     "metadata": {},
     "output_type": "execute_result"
    }
   ],
   "source": [
    "df_pred = y_test.to_frame()\n",
    "df_pred['prediction_all'] = model_dt_all.predict(X=X_test)\n",
    "df_pred['prediction_train_test'] = model_dt_train.predict(X=X_test)\n",
    "df_pred"
   ]
  },
  {
   "attachments": {},
   "cell_type": "markdown",
   "id": "ec237542",
   "metadata": {},
   "source": [
    "## Other algorithms"
   ]
  },
  {
   "attachments": {},
   "cell_type": "markdown",
   "id": "33974f49",
   "metadata": {},
   "source": [
    "### Logistic Regression"
   ]
  },
  {
   "cell_type": "code",
   "execution_count": null,
   "id": "12678666",
   "metadata": {},
   "outputs": [],
   "source": [
    "from sklearn.linear_model import LogisticRegression"
   ]
  },
  {
   "attachments": {},
   "cell_type": "markdown",
   "id": "8323db6d",
   "metadata": {},
   "source": [
    "#### Calculate the score in all dataset"
   ]
  },
  {
   "cell_type": "code",
   "execution_count": 64,
   "id": "ebd103e5",
   "metadata": {},
   "outputs": [
    {
     "data": {
      "text/plain": [
       "0.5389558232931727"
      ]
     },
     "execution_count": 64,
     "metadata": {},
     "output_type": "execute_result"
    }
   ],
   "source": [
    "model_lr_train = LogisticRegression()\n",
    "model_lr_train.fit(X=X_train, y=y_train)\n",
    "score_lr_train = model_lr_train.score(X=X_test, y=y_test)\n",
    "score_lr_train"
   ]
  },
  {
   "attachments": {},
   "cell_type": "markdown",
   "id": "61a62c7a",
   "metadata": {},
   "source": [
    "#### Calculate the score in the test set"
   ]
  },
  {
   "cell_type": "code",
   "execution_count": 66,
   "id": "a945fde9",
   "metadata": {},
   "outputs": [
    {
     "data": {
      "text/plain": [
       "0.5389558232931727"
      ]
     },
     "execution_count": 66,
     "metadata": {},
     "output_type": "execute_result"
    }
   ],
   "source": [
    "model_lr_all = LogisticRegression()\n",
    "model_lr_all.fit(X=explanatory, y=target)\n",
    "score_lr_all = model_lr_all.score(X=X_test, y=y_test)\n",
    "score_lr_all"
   ]
  },
  {
   "attachments": {},
   "cell_type": "markdown",
   "id": "7a3efe6f",
   "metadata": {},
   "source": [
    "### Gradient Boosting"
   ]
  },
  {
   "cell_type": "code",
   "execution_count": null,
   "id": "334bb77c",
   "metadata": {},
   "outputs": [],
   "source": [
    "from sklearn.ensemble import GradientBoostingClassifier"
   ]
  },
  {
   "attachments": {},
   "cell_type": "markdown",
   "id": "4dc15566",
   "metadata": {},
   "source": [
    "#### Calculate the score in all dataset"
   ]
  },
  {
   "cell_type": "code",
   "execution_count": 68,
   "id": "895cf245",
   "metadata": {},
   "outputs": [
    {
     "data": {
      "text/plain": [
       "0.6538152610441768"
      ]
     },
     "execution_count": 68,
     "metadata": {},
     "output_type": "execute_result"
    }
   ],
   "source": [
    "model_gb_all = GradientBoostingClassifier()\n",
    "model_gb_all.fit(X=explanatory, y=target)\n",
    "score_gb_all = model_gb_all.score(X=X_test, y=y_test)\n",
    "score_gb_all"
   ]
  },
  {
   "attachments": {},
   "cell_type": "markdown",
   "id": "e4d941e4",
   "metadata": {},
   "source": [
    "#### Calculate the score in the test set"
   ]
  },
  {
   "cell_type": "code",
   "execution_count": null,
   "id": "f330451f",
   "metadata": {},
   "outputs": [
    {
     "data": {
      "text/plain": [
       "0.5148594377510041"
      ]
     },
     "metadata": {},
     "output_type": "display_data"
    }
   ],
   "source": [
    "model_gb_train = GradientBoostingClassifier()\n",
    "model_gb_train.fit(X=X_train, y=y_train)\n",
    "score_gb_train = model_gb_train.score(X=X_test, y=y_test)\n",
    "score_gb_train"
   ]
  },
  {
   "attachments": {},
   "cell_type": "markdown",
   "id": "15ec47ff",
   "metadata": {},
   "source": [
    "## Compare all models in a `DataFrame`"
   ]
  },
  {
   "cell_type": "code",
   "execution_count": 60,
   "id": "c6086756",
   "metadata": {},
   "outputs": [],
   "source": [
    "from sklearn.linear_model import LogisticRegression\n",
    "from sklearn.tree import DecisionTreeClassifier\n",
    "from sklearn.ensemble import GradientBoostingClassifier\n",
    "\n",
    "list_model = [LogisticRegression(), DecisionTreeClassifier(), GradientBoostingClassifier()]\n",
    "\n",
    "list_model_train = []\n",
    "for model in list_model:\n",
    "    model.fit(X=X_train, y=y_train)\n",
    "    score = model.score(X=X_test, y=y_test)\n",
    "    list_model_train.append(score)\n",
    "    \n",
    "list_model_all = []\n",
    "for model in list_model:\n",
    "    model.fit(X=explanatory, y=target)\n",
    "    score = model.score(X=X_test, y=y_test)\n",
    "    list_model_all.append(score)"
   ]
  },
  {
   "cell_type": "code",
   "execution_count": 61,
   "id": "7f323599",
   "metadata": {},
   "outputs": [
    {
     "data": {
      "text/html": [
       "<div>\n",
       "<style scoped>\n",
       "    .dataframe tbody tr th:only-of-type {\n",
       "        vertical-align: middle;\n",
       "    }\n",
       "\n",
       "    .dataframe tbody tr th {\n",
       "        vertical-align: top;\n",
       "    }\n",
       "\n",
       "    .dataframe thead th {\n",
       "        text-align: right;\n",
       "    }\n",
       "</style>\n",
       "<table border=\"1\" class=\"dataframe\">\n",
       "  <thead>\n",
       "    <tr style=\"text-align: right;\">\n",
       "      <th></th>\n",
       "      <th>model</th>\n",
       "      <th>score_all</th>\n",
       "      <th>score_train_test</th>\n",
       "    </tr>\n",
       "  </thead>\n",
       "  <tbody>\n",
       "    <tr>\n",
       "      <th>0</th>\n",
       "      <td>LogisticRegression</td>\n",
       "      <td>0.538956</td>\n",
       "      <td>0.538956</td>\n",
       "    </tr>\n",
       "    <tr>\n",
       "      <th>1</th>\n",
       "      <td>DecisionTreeClassifier</td>\n",
       "      <td>1.000000</td>\n",
       "      <td>0.507631</td>\n",
       "    </tr>\n",
       "    <tr>\n",
       "      <th>2</th>\n",
       "      <td>GradientBoostingClassifier</td>\n",
       "      <td>0.653815</td>\n",
       "      <td>0.515663</td>\n",
       "    </tr>\n",
       "  </tbody>\n",
       "</table>\n",
       "</div>"
      ],
      "text/plain": [
       "                        model  score_all  score_train_test\n",
       "0          LogisticRegression   0.538956          0.538956\n",
       "1      DecisionTreeClassifier   1.000000          0.507631\n",
       "2  GradientBoostingClassifier   0.653815          0.515663"
      ]
     },
     "execution_count": 61,
     "metadata": {},
     "output_type": "execute_result"
    }
   ],
   "source": [
    "df_score = pd.DataFrame({\n",
    "    'model': list(map(lambda x: x.__class__.__name__, list_model)),\n",
    "    'score_all': list_model_all,\n",
    "    'score_train_test': list_model_train,\n",
    "})\n",
    "\n",
    "df_score"
   ]
  }
 ],
 "metadata": {
  "kernelspec": {
   "display_name": "Python 3 (ipykernel)",
   "language": "python",
   "name": "python3"
  },
  "language_info": {
   "codemirror_mode": {
    "name": "ipython",
    "version": 3
   },
   "file_extension": ".py",
   "mimetype": "text/x-python",
   "name": "python",
   "nbconvert_exporter": "python",
   "pygments_lexer": "ipython3",
   "version": "3.10.6"
  }
 },
 "nbformat": 4,
 "nbformat_minor": 5
}
