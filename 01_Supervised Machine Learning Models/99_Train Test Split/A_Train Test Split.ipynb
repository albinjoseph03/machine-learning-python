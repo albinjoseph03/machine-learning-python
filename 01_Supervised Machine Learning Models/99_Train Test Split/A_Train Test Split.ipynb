{
 "cells": [
  {
   "attachments": {},
   "cell_type": "markdown",
   "id": "93d658d4",
   "metadata": {},
   "source": [
    "# Train Test Split"
   ]
  },
  {
   "cell_type": "code",
   "execution_count": null,
   "id": "905a7769",
   "metadata": {},
   "outputs": [],
   "source": [
    "???"
   ]
  },
  {
   "attachments": {},
   "cell_type": "markdown",
   "id": "8752c50c",
   "metadata": {},
   "source": [
    "![](src/comparison.png)"
   ]
  },
  {
   "attachments": {},
   "cell_type": "markdown",
   "id": "726ed1f5-8f2e-4e72-9e96-643fec7ca11a",
   "metadata": {},
   "source": [
    "## Data loading"
   ]
  },
  {
   "cell_type": "code",
   "execution_count": 1,
   "id": "9f9d6220-8756-4c2b-9b36-834614882376",
   "metadata": {},
   "outputs": [
    {
     "data": {
      "text/html": [
       "<div>\n",
       "<style scoped>\n",
       "    .dataframe tbody tr th:only-of-type {\n",
       "        vertical-align: middle;\n",
       "    }\n",
       "\n",
       "    .dataframe tbody tr th {\n",
       "        vertical-align: top;\n",
       "    }\n",
       "\n",
       "    .dataframe thead th {\n",
       "        text-align: right;\n",
       "    }\n",
       "</style>\n",
       "<table border=\"1\" class=\"dataframe\">\n",
       "  <thead>\n",
       "    <tr style=\"text-align: right;\">\n",
       "      <th></th>\n",
       "      <th>Open</th>\n",
       "      <th>High</th>\n",
       "      <th>Low</th>\n",
       "      <th>Close</th>\n",
       "      <th>Volume</th>\n",
       "      <th>change_tomorrow</th>\n",
       "      <th>change_tomorrow_direction</th>\n",
       "    </tr>\n",
       "    <tr>\n",
       "      <th>Date</th>\n",
       "      <th></th>\n",
       "      <th></th>\n",
       "      <th></th>\n",
       "      <th></th>\n",
       "      <th></th>\n",
       "      <th></th>\n",
       "      <th></th>\n",
       "    </tr>\n",
       "  </thead>\n",
       "  <tbody>\n",
       "    <tr>\n",
       "      <th>2007-01-09</th>\n",
       "      <td>3.087500</td>\n",
       "      <td>3.320714</td>\n",
       "      <td>3.041071</td>\n",
       "      <td>3.306071</td>\n",
       "      <td>3349298400</td>\n",
       "      <td>4.567032</td>\n",
       "      <td>UP</td>\n",
       "    </tr>\n",
       "    <tr>\n",
       "      <th>2007-01-10</th>\n",
       "      <td>3.383929</td>\n",
       "      <td>3.492857</td>\n",
       "      <td>3.337500</td>\n",
       "      <td>3.464286</td>\n",
       "      <td>2952880000</td>\n",
       "      <td>-1.252610</td>\n",
       "      <td>DOWN</td>\n",
       "    </tr>\n",
       "    <tr>\n",
       "      <th>...</th>\n",
       "      <td>...</td>\n",
       "      <td>...</td>\n",
       "      <td>...</td>\n",
       "      <td>...</td>\n",
       "      <td>...</td>\n",
       "      <td>...</td>\n",
       "      <td>...</td>\n",
       "    </tr>\n",
       "    <tr>\n",
       "      <th>2023-06-28</th>\n",
       "      <td>187.929993</td>\n",
       "      <td>189.899994</td>\n",
       "      <td>187.600006</td>\n",
       "      <td>189.250000</td>\n",
       "      <td>51216800</td>\n",
       "      <td>0.179332</td>\n",
       "      <td>UP</td>\n",
       "    </tr>\n",
       "    <tr>\n",
       "      <th>2023-06-29</th>\n",
       "      <td>189.080002</td>\n",
       "      <td>190.070007</td>\n",
       "      <td>188.940002</td>\n",
       "      <td>189.589996</td>\n",
       "      <td>46347300</td>\n",
       "      <td>2.258084</td>\n",
       "      <td>UP</td>\n",
       "    </tr>\n",
       "  </tbody>\n",
       "</table>\n",
       "<p>4147 rows × 7 columns</p>\n",
       "</div>"
      ],
      "text/plain": [
       "                  Open        High         Low       Close      Volume  \\\n",
       "Date                                                                     \n",
       "2007-01-09    3.087500    3.320714    3.041071    3.306071  3349298400   \n",
       "2007-01-10    3.383929    3.492857    3.337500    3.464286  2952880000   \n",
       "...                ...         ...         ...         ...         ...   \n",
       "2023-06-28  187.929993  189.899994  187.600006  189.250000    51216800   \n",
       "2023-06-29  189.080002  190.070007  188.940002  189.589996    46347300   \n",
       "\n",
       "            change_tomorrow change_tomorrow_direction  \n",
       "Date                                                   \n",
       "2007-01-09         4.567032                        UP  \n",
       "2007-01-10        -1.252610                      DOWN  \n",
       "...                     ...                       ...  \n",
       "2023-06-28         0.179332                        UP  \n",
       "2023-06-29         2.258084                        UP  \n",
       "\n",
       "[4147 rows x 7 columns]"
      ]
     },
     "execution_count": 1,
     "metadata": {},
     "output_type": "execute_result"
    }
   ],
   "source": [
    "import pandas as pd\n",
    "\n",
    "df = pd.read_excel(\n",
    "    '../../data/data_stock_apple.xlsx',\n",
    "    parse_dates=['Date'], index_col=0\n",
    "    )\n",
    "df"
   ]
  },
  {
   "attachments": {},
   "cell_type": "markdown",
   "id": "e9a81a1b",
   "metadata": {},
   "source": [
    "## Feature selection"
   ]
  },
  {
   "cell_type": "code",
   "execution_count": null,
   "metadata": {},
   "outputs": [],
   "source": []
  },
  {
   "attachments": {},
   "cell_type": "markdown",
   "id": "dc60b8e9",
   "metadata": {},
   "source": [
    "## Machine Learning System\n",
    "\n",
    "Decision Tree Classifier\n",
    "\n",
    "### Calculate the score in all dataset"
   ]
  },
  {
   "cell_type": "code",
   "execution_count": null,
   "id": "070467ef",
   "metadata": {},
   "outputs": [],
   "source": []
  },
  {
   "attachments": {},
   "cell_type": "markdown",
   "id": "91c816ed",
   "metadata": {},
   "source": [
    "### Calculate the score in the test set"
   ]
  },
  {
   "attachments": {},
   "cell_type": "markdown",
   "id": "33dfcdcb",
   "metadata": {},
   "source": [
    "#### Create train and test sets\n",
    "\n",
    "Look for the function in `model_selection`"
   ]
  },
  {
   "cell_type": "code",
   "execution_count": null,
   "id": "711c27b6",
   "metadata": {},
   "outputs": [],
   "source": []
  },
  {
   "attachments": {},
   "cell_type": "markdown",
   "id": "ab099198",
   "metadata": {},
   "source": [
    "#### Machine Learning development"
   ]
  },
  {
   "cell_type": "code",
   "execution_count": null,
   "id": "b9f5edd1",
   "metadata": {},
   "outputs": [],
   "source": []
  },
  {
   "attachments": {},
   "cell_type": "markdown",
   "id": "d1e392c9",
   "metadata": {},
   "source": [
    "### Reflect"
   ]
  },
  {
   "attachments": {},
   "cell_type": "markdown",
   "id": "cc965467",
   "metadata": {},
   "source": [
    "#### Compare predictions to reality in a `DataFrame`"
   ]
  },
  {
   "cell_type": "code",
   "execution_count": null,
   "id": "6b0c46f7",
   "metadata": {},
   "outputs": [],
   "source": []
  },
  {
   "attachments": {},
   "cell_type": "markdown",
   "id": "ec237542",
   "metadata": {},
   "source": [
    "## Other algorithms"
   ]
  },
  {
   "attachments": {},
   "cell_type": "markdown",
   "id": "33974f49",
   "metadata": {},
   "source": [
    "### Logistic Regression"
   ]
  },
  {
   "cell_type": "code",
   "execution_count": null,
   "id": "4117eed6",
   "metadata": {},
   "outputs": [],
   "source": []
  },
  {
   "attachments": {},
   "cell_type": "markdown",
   "id": "8323db6d",
   "metadata": {},
   "source": [
    "#### Calculate the score in all dataset"
   ]
  },
  {
   "cell_type": "code",
   "execution_count": null,
   "id": "2279bb31",
   "metadata": {},
   "outputs": [],
   "source": []
  },
  {
   "attachments": {},
   "cell_type": "markdown",
   "id": "61a62c7a",
   "metadata": {},
   "source": [
    "#### Calculate the score in the test set"
   ]
  },
  {
   "cell_type": "code",
   "execution_count": null,
   "id": "55141d16",
   "metadata": {},
   "outputs": [],
   "source": []
  },
  {
   "attachments": {},
   "cell_type": "markdown",
   "id": "7a3efe6f",
   "metadata": {},
   "source": [
    "### Gradient Boosting"
   ]
  },
  {
   "cell_type": "code",
   "execution_count": null,
   "id": "823ef0ca",
   "metadata": {},
   "outputs": [],
   "source": []
  },
  {
   "attachments": {},
   "cell_type": "markdown",
   "id": "4dc15566",
   "metadata": {},
   "source": [
    "#### Calculate the score in all dataset"
   ]
  },
  {
   "cell_type": "code",
   "execution_count": null,
   "id": "1a329cc6",
   "metadata": {},
   "outputs": [],
   "source": []
  },
  {
   "attachments": {},
   "cell_type": "markdown",
   "id": "e4d941e4",
   "metadata": {},
   "source": [
    "#### Calculate the score in the test set"
   ]
  },
  {
   "cell_type": "code",
   "execution_count": null,
   "id": "a11f5b99",
   "metadata": {},
   "outputs": [],
   "source": []
  },
  {
   "attachments": {},
   "cell_type": "markdown",
   "id": "15ec47ff",
   "metadata": {},
   "source": [
    "## Compare all models in a `DataFrame`"
   ]
  },
  {
   "cell_type": "code",
   "execution_count": 60,
   "id": "c6086756",
   "metadata": {},
   "outputs": [],
   "source": [
    "from sklearn.linear_model import LogisticRegression\n",
    "from sklearn.tree import DecisionTreeClassifier\n",
    "from sklearn.ensemble import GradientBoostingClassifier\n",
    "\n",
    "list_model = [LogisticRegression(), DecisionTreeClassifier(), GradientBoostingClassifier()]\n",
    "\n",
    "list_model_train = []\n",
    "for model in list_model:\n",
    "    model.fit(X=X_train, y=y_train)\n",
    "    score = model.score(X=X_test, y=y_test)\n",
    "    list_model_train.append(score)\n",
    "    \n",
    "list_model_all = []\n",
    "for model in list_model:\n",
    "    model.fit(X=explanatory, y=target)\n",
    "    score = model.score(X=X_test, y=y_test)\n",
    "    list_model_all.append(score)"
   ]
  },
  {
   "cell_type": "code",
   "execution_count": 61,
   "id": "7f323599",
   "metadata": {},
   "outputs": [
    {
     "data": {
      "text/html": [
       "<div>\n",
       "<style scoped>\n",
       "    .dataframe tbody tr th:only-of-type {\n",
       "        vertical-align: middle;\n",
       "    }\n",
       "\n",
       "    .dataframe tbody tr th {\n",
       "        vertical-align: top;\n",
       "    }\n",
       "\n",
       "    .dataframe thead th {\n",
       "        text-align: right;\n",
       "    }\n",
       "</style>\n",
       "<table border=\"1\" class=\"dataframe\">\n",
       "  <thead>\n",
       "    <tr style=\"text-align: right;\">\n",
       "      <th></th>\n",
       "      <th>model</th>\n",
       "      <th>score_all</th>\n",
       "      <th>score_train_test</th>\n",
       "    </tr>\n",
       "  </thead>\n",
       "  <tbody>\n",
       "    <tr>\n",
       "      <th>0</th>\n",
       "      <td>LogisticRegression</td>\n",
       "      <td>0.538956</td>\n",
       "      <td>0.538956</td>\n",
       "    </tr>\n",
       "    <tr>\n",
       "      <th>1</th>\n",
       "      <td>DecisionTreeClassifier</td>\n",
       "      <td>1.000000</td>\n",
       "      <td>0.507631</td>\n",
       "    </tr>\n",
       "    <tr>\n",
       "      <th>2</th>\n",
       "      <td>GradientBoostingClassifier</td>\n",
       "      <td>0.653815</td>\n",
       "      <td>0.515663</td>\n",
       "    </tr>\n",
       "  </tbody>\n",
       "</table>\n",
       "</div>"
      ],
      "text/plain": [
       "                        model  score_all  score_train_test\n",
       "0          LogisticRegression   0.538956          0.538956\n",
       "1      DecisionTreeClassifier   1.000000          0.507631\n",
       "2  GradientBoostingClassifier   0.653815          0.515663"
      ]
     },
     "execution_count": 61,
     "metadata": {},
     "output_type": "execute_result"
    }
   ],
   "source": [
    "df_score = pd.DataFrame({\n",
    "    'model': list(map(lambda x: x.__class__.__name__, list_model)),\n",
    "    'score_all': list_model_all,\n",
    "    'score_train_test': list_model_train,\n",
    "})\n",
    "\n",
    "df_score"
   ]
  }
 ],
 "metadata": {
  "kernelspec": {
   "display_name": "Python 3 (ipykernel)",
   "language": "python",
   "name": "python3"
  },
  "language_info": {
   "codemirror_mode": {
    "name": "ipython",
    "version": 3
   },
   "file_extension": ".py",
   "mimetype": "text/x-python",
   "name": "python",
   "nbconvert_exporter": "python",
   "pygments_lexer": "ipython3",
   "version": "3.10.6"
  }
 },
 "nbformat": 4,
 "nbformat_minor": 5
}
