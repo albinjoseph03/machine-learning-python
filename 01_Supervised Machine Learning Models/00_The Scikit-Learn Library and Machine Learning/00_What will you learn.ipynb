{
 "cells": [
  {
   "cell_type": "markdown",
   "id": "a2fdfc07-df74-4ff3-bfb7-dcbc36bf3bce",
   "metadata": {},
   "source": [
    "# What Will You Learn?"
   ]
  },
  {
   "cell_type": "markdown",
   "id": "766e55d5-a812-4a74-9d99-e83edc92261a",
   "metadata": {},
   "source": [
    "## Real life applications of Machine Learning\n",
    "\n",
    "### TESLA\n",
    "\n",
    "https://www.tesla.com/AI\n",
    "\n",
    "### Cancer Prediction\n",
    "\n",
    "https://www.uptodate.com/contents/calculator-solitary-pulmonary-nodule-malignancy-risk-in-adults-brock-university-cancer-prediction-equation\n",
    "\n",
    "### Stock Market Predictions\n",
    "\n",
    "https://neptune.ai/blog/predicting-stock-prices-using-machine-learning"
   ]
  },
  {
   "cell_type": "markdown",
   "id": "b9a59949-be72-420c-a0d1-0a0e56a87696",
   "metadata": {},
   "source": [
    "## Course Aim"
   ]
  },
  {
   "cell_type": "markdown",
   "id": "b74576e6-1220-461e-9707-a47ea34c9ef3",
   "metadata": {},
   "source": [
    "Develop Machine Learning models in Python without copy-pasting from past examples or Google."
   ]
  },
  {
   "cell_type": "markdown",
   "id": "0a8998af-b36b-494a-865d-2c550edb0141",
   "metadata": {},
   "source": [
    "## Example: Linear Regression"
   ]
  },
  {
   "cell_type": "code",
   "execution_count": 111,
   "id": "82e84825-bc73-4a2a-9f39-588896a2502a",
   "metadata": {},
   "outputs": [
    {
     "data": {
      "text/html": [
       "<div>\n",
       "<style scoped>\n",
       "    .dataframe tbody tr th:only-of-type {\n",
       "        vertical-align: middle;\n",
       "    }\n",
       "\n",
       "    .dataframe tbody tr th {\n",
       "        vertical-align: top;\n",
       "    }\n",
       "\n",
       "    .dataframe thead th {\n",
       "        text-align: right;\n",
       "    }\n",
       "</style>\n",
       "<table border=\"1\" class=\"dataframe\">\n",
       "  <thead>\n",
       "    <tr style=\"text-align: right;\">\n",
       "      <th></th>\n",
       "      <th>total</th>\n",
       "      <th>speeding</th>\n",
       "      <th>alcohol</th>\n",
       "      <th>not_distracted</th>\n",
       "      <th>no_previous</th>\n",
       "      <th>ins_premium</th>\n",
       "      <th>ins_losses</th>\n",
       "      <th>abbrev</th>\n",
       "    </tr>\n",
       "  </thead>\n",
       "  <tbody>\n",
       "    <tr>\n",
       "      <th>0</th>\n",
       "      <td>18.8</td>\n",
       "      <td>7.332</td>\n",
       "      <td>5.640</td>\n",
       "      <td>18.048</td>\n",
       "      <td>15.040</td>\n",
       "      <td>784.55</td>\n",
       "      <td>145.08</td>\n",
       "      <td>AL</td>\n",
       "    </tr>\n",
       "    <tr>\n",
       "      <th>1</th>\n",
       "      <td>18.1</td>\n",
       "      <td>7.421</td>\n",
       "      <td>4.525</td>\n",
       "      <td>16.290</td>\n",
       "      <td>17.014</td>\n",
       "      <td>1053.48</td>\n",
       "      <td>133.93</td>\n",
       "      <td>AK</td>\n",
       "    </tr>\n",
       "    <tr>\n",
       "      <th>...</th>\n",
       "      <td>...</td>\n",
       "      <td>...</td>\n",
       "      <td>...</td>\n",
       "      <td>...</td>\n",
       "      <td>...</td>\n",
       "      <td>...</td>\n",
       "      <td>...</td>\n",
       "      <td>...</td>\n",
       "    </tr>\n",
       "    <tr>\n",
       "      <th>49</th>\n",
       "      <td>13.8</td>\n",
       "      <td>4.968</td>\n",
       "      <td>4.554</td>\n",
       "      <td>5.382</td>\n",
       "      <td>11.592</td>\n",
       "      <td>670.31</td>\n",
       "      <td>106.62</td>\n",
       "      <td>WI</td>\n",
       "    </tr>\n",
       "    <tr>\n",
       "      <th>50</th>\n",
       "      <td>17.4</td>\n",
       "      <td>7.308</td>\n",
       "      <td>5.568</td>\n",
       "      <td>14.094</td>\n",
       "      <td>15.660</td>\n",
       "      <td>791.14</td>\n",
       "      <td>122.04</td>\n",
       "      <td>WY</td>\n",
       "    </tr>\n",
       "  </tbody>\n",
       "</table>\n",
       "<p>51 rows × 8 columns</p>\n",
       "</div>"
      ],
      "text/plain": [
       "    total  speeding  alcohol  not_distracted  no_previous  ins_premium  \\\n",
       "0    18.8     7.332    5.640          18.048       15.040       784.55   \n",
       "1    18.1     7.421    4.525          16.290       17.014      1053.48   \n",
       "..    ...       ...      ...             ...          ...          ...   \n",
       "49   13.8     4.968    4.554           5.382       11.592       670.31   \n",
       "50   17.4     7.308    5.568          14.094       15.660       791.14   \n",
       "\n",
       "    ins_losses abbrev  \n",
       "0       145.08     AL  \n",
       "1       133.93     AK  \n",
       "..         ...    ...  \n",
       "49      106.62     WI  \n",
       "50      122.04     WY  \n",
       "\n",
       "[51 rows x 8 columns]"
      ]
     },
     "execution_count": 111,
     "metadata": {},
     "output_type": "execute_result"
    }
   ],
   "source": [
    "import seaborn as sns\n",
    "\n",
    "df_crashes = sns.load_dataset('car_crashes')\n",
    "df_crashes"
   ]
  },
  {
   "cell_type": "markdown",
   "id": "a44d0981-d47b-40b5-92a7-eb7b7c6fd2e6",
   "metadata": {},
   "source": [
    "### Target Variable: Total Accidents"
   ]
  },
  {
   "cell_type": "code",
   "execution_count": 112,
   "id": "8531f6c6-5add-42d1-994a-416d38411298",
   "metadata": {},
   "outputs": [
    {
     "data": {
      "image/png": "[encoded data removed]",
      "text/plain": [
       "<Figure size 432x288 with 1 Axes>"
      ]
     },
     "metadata": {
      "needs_background": "light"
     },
     "output_type": "display_data"
    }
   ],
   "source": [
    "sns.scatterplot(x='alcohol', y='total', data=df_crashes);"
   ]
  },
  {
   "cell_type": "markdown",
   "id": "dffb676d-d0a6-4a2e-b1a2-a98aa5c590be",
   "metadata": {},
   "source": [
    "### Create ML Model with Python"
   ]
  },
  {
   "cell_type": "code",
   "execution_count": 129,
   "id": "40af00d5-4509-4fd4-847c-bb7b1e304e15",
   "metadata": {},
   "outputs": [
    {
     "data": {
      "text/plain": [
       "{'fit_intercept': True,\n",
       " 'normalize': 'deprecated',\n",
       " 'copy_X': True,\n",
       " 'n_jobs': None,\n",
       " 'positive': False,\n",
       " 'feature_names_in_': array(['alcohol'], dtype=object),\n",
       " 'n_features_in_': 1,\n",
       " 'coef_': array([2.0325063]),\n",
       " '_residues': 231.96888653310057,\n",
       " 'rank_': 1,\n",
       " 'singular_': array([12.22681605]),\n",
       " 'intercept_': 5.8577761548263005}"
      ]
     },
     "execution_count": 129,
     "metadata": {},
     "output_type": "execute_result"
    }
   ],
   "source": [
    "from sklearn.linear_model import LinearRegression\n",
    "\n",
    "model = LinearRegression()\n",
    "model.fit(X=df_crashes[['alcohol']], y=df_crashes['total'])\n",
    "model.__dict__"
   ]
  },
  {
   "cell_type": "markdown",
   "id": "ce3b494b-488c-4a3c-ad23-9e0a282fb3ce",
   "metadata": {},
   "source": [
    "$$\n",
    "(total\\_accidents) = 5.85 + 2.03 \\cdot (alcohol)\n",
    "$$"
   ]
  },
  {
   "cell_type": "code",
   "execution_count": 130,
   "id": "d4fc4be8-d0fd-425d-9189-1d024034ac8b",
   "metadata": {},
   "outputs": [
    {
     "data": {
      "text/html": [
       "<div>\n",
       "<style scoped>\n",
       "    .dataframe tbody tr th:only-of-type {\n",
       "        vertical-align: middle;\n",
       "    }\n",
       "\n",
       "    .dataframe tbody tr th {\n",
       "        vertical-align: top;\n",
       "    }\n",
       "\n",
       "    .dataframe thead th {\n",
       "        text-align: right;\n",
       "    }\n",
       "</style>\n",
       "<table border=\"1\" class=\"dataframe\">\n",
       "  <thead>\n",
       "    <tr style=\"text-align: right;\">\n",
       "      <th></th>\n",
       "      <th>alcohol</th>\n",
       "      <th>total</th>\n",
       "      <th>total_pred</th>\n",
       "    </tr>\n",
       "  </thead>\n",
       "  <tbody>\n",
       "    <tr>\n",
       "      <th>0</th>\n",
       "      <td>5.640</td>\n",
       "      <td>18.8</td>\n",
       "      <td>17.321112</td>\n",
       "    </tr>\n",
       "    <tr>\n",
       "      <th>1</th>\n",
       "      <td>4.525</td>\n",
       "      <td>18.1</td>\n",
       "      <td>15.054867</td>\n",
       "    </tr>\n",
       "    <tr>\n",
       "      <th>...</th>\n",
       "      <td>...</td>\n",
       "      <td>...</td>\n",
       "      <td>...</td>\n",
       "    </tr>\n",
       "    <tr>\n",
       "      <th>49</th>\n",
       "      <td>4.554</td>\n",
       "      <td>13.8</td>\n",
       "      <td>15.113810</td>\n",
       "    </tr>\n",
       "    <tr>\n",
       "      <th>50</th>\n",
       "      <td>5.568</td>\n",
       "      <td>17.4</td>\n",
       "      <td>17.174771</td>\n",
       "    </tr>\n",
       "  </tbody>\n",
       "</table>\n",
       "<p>51 rows × 3 columns</p>\n",
       "</div>"
      ],
      "text/plain": [
       "    alcohol  total  total_pred\n",
       "0     5.640   18.8   17.321112\n",
       "1     4.525   18.1   15.054867\n",
       "..      ...    ...         ...\n",
       "49    4.554   13.8   15.113810\n",
       "50    5.568   17.4   17.174771\n",
       "\n",
       "[51 rows x 3 columns]"
      ]
     },
     "execution_count": 130,
     "metadata": {},
     "output_type": "execute_result"
    }
   ],
   "source": [
    "df_pred = df_crashes[['alcohol', 'total']].copy()\n",
    "df_pred['total_pred'] = model.predict(X=df_crashes[['alcohol']])\n",
    "df_pred"
   ]
  },
  {
   "cell_type": "code",
   "execution_count": 128,
   "id": "973714ee-1cf3-422c-a21b-7d7a6283790c",
   "metadata": {},
   "outputs": [
    {
     "data": {
      "image/png": "[encoded data removed]",
      "text/plain": [
       "<Figure size 432x288 with 1 Axes>"
      ]
     },
     "metadata": {
      "needs_background": "light"
     },
     "output_type": "display_data"
    }
   ],
   "source": [
    "sns.scatterplot(x='alcohol', y='total', data=df_crashes)\n",
    "sns.scatterplot(x='alcohol', y='total_pred', data=df_pred)\n",
    "sns.lineplot(x='alcohol', y='total_pred', data=df_pred, color='orange');"
   ]
  },
  {
   "cell_type": "markdown",
   "id": "4c3a0092-95df-4465-b5bd-c9d5b2acf554",
   "metadata": {},
   "source": [
    "## How does [Scikit-learn](https://scikit-learn.org/stable/) library works?\n",
    "\n",
    "1. Models\n",
    "    1. **Regression**\n",
    "    2. **Classification**\n",
    "    3. **Clustering**\n",
    "2. Techniques\n",
    "    4. Preprocessing\n",
    "    5. Model Selection\n",
    "    6. Dimensionality Reduction"
   ]
  },
  {
   "cell_type": "markdown",
   "id": "363cd16d-02f8-4f8e-a824-74d6b512fda7",
   "metadata": {},
   "source": [
    "## Create any ML Algorithm with any Data Table"
   ]
  },
  {
   "cell_type": "markdown",
   "id": "b323c2b7-09ad-4ad1-b358-b7ef78034b13",
   "metadata": {},
   "source": [
    "### Regression Models"
   ]
  },
  {
   "cell_type": "code",
   "execution_count": 113,
   "id": "af517e4f-95c3-4937-a5d3-416faa86f18b",
   "metadata": {},
   "outputs": [
    {
     "data": {
      "text/html": [
       "<div>\n",
       "<style scoped>\n",
       "    .dataframe tbody tr th:only-of-type {\n",
       "        vertical-align: middle;\n",
       "    }\n",
       "\n",
       "    .dataframe tbody tr th {\n",
       "        vertical-align: top;\n",
       "    }\n",
       "\n",
       "    .dataframe thead th {\n",
       "        text-align: right;\n",
       "    }\n",
       "</style>\n",
       "<table border=\"1\" class=\"dataframe\">\n",
       "  <thead>\n",
       "    <tr style=\"text-align: right;\">\n",
       "      <th></th>\n",
       "      <th>total_bill</th>\n",
       "      <th>tip</th>\n",
       "      <th>sex</th>\n",
       "      <th>smoker</th>\n",
       "      <th>day</th>\n",
       "      <th>time</th>\n",
       "      <th>size</th>\n",
       "    </tr>\n",
       "  </thead>\n",
       "  <tbody>\n",
       "    <tr>\n",
       "      <th>0</th>\n",
       "      <td>16.99</td>\n",
       "      <td>1.01</td>\n",
       "      <td>Female</td>\n",
       "      <td>No</td>\n",
       "      <td>Sun</td>\n",
       "      <td>Dinner</td>\n",
       "      <td>2</td>\n",
       "    </tr>\n",
       "    <tr>\n",
       "      <th>1</th>\n",
       "      <td>10.34</td>\n",
       "      <td>1.66</td>\n",
       "      <td>Male</td>\n",
       "      <td>No</td>\n",
       "      <td>Sun</td>\n",
       "      <td>Dinner</td>\n",
       "      <td>3</td>\n",
       "    </tr>\n",
       "    <tr>\n",
       "      <th>...</th>\n",
       "      <td>...</td>\n",
       "      <td>...</td>\n",
       "      <td>...</td>\n",
       "      <td>...</td>\n",
       "      <td>...</td>\n",
       "      <td>...</td>\n",
       "      <td>...</td>\n",
       "    </tr>\n",
       "    <tr>\n",
       "      <th>242</th>\n",
       "      <td>17.82</td>\n",
       "      <td>1.75</td>\n",
       "      <td>Male</td>\n",
       "      <td>No</td>\n",
       "      <td>Sat</td>\n",
       "      <td>Dinner</td>\n",
       "      <td>2</td>\n",
       "    </tr>\n",
       "    <tr>\n",
       "      <th>243</th>\n",
       "      <td>18.78</td>\n",
       "      <td>3.00</td>\n",
       "      <td>Female</td>\n",
       "      <td>No</td>\n",
       "      <td>Thur</td>\n",
       "      <td>Dinner</td>\n",
       "      <td>2</td>\n",
       "    </tr>\n",
       "  </tbody>\n",
       "</table>\n",
       "<p>244 rows × 7 columns</p>\n",
       "</div>"
      ],
      "text/plain": [
       "     total_bill   tip     sex smoker   day    time  size\n",
       "0         16.99  1.01  Female     No   Sun  Dinner     2\n",
       "1         10.34  1.66    Male     No   Sun  Dinner     3\n",
       "..          ...   ...     ...    ...   ...     ...   ...\n",
       "242       17.82  1.75    Male     No   Sat  Dinner     2\n",
       "243       18.78  3.00  Female     No  Thur  Dinner     2\n",
       "\n",
       "[244 rows x 7 columns]"
      ]
     },
     "execution_count": 113,
     "metadata": {},
     "output_type": "execute_result"
    }
   ],
   "source": [
    "df_tips = sns.load_dataset('tips')\n",
    "df_tips"
   ]
  },
  {
   "cell_type": "code",
   "execution_count": 131,
   "id": "9516d918-c905-49f6-98bb-07455d5b4901",
   "metadata": {},
   "outputs": [
    {
     "data": {
      "text/html": [
       "<div>\n",
       "<style scoped>\n",
       "    .dataframe tbody tr th:only-of-type {\n",
       "        vertical-align: middle;\n",
       "    }\n",
       "\n",
       "    .dataframe tbody tr th {\n",
       "        vertical-align: top;\n",
       "    }\n",
       "\n",
       "    .dataframe thead th {\n",
       "        text-align: right;\n",
       "    }\n",
       "</style>\n",
       "<table border=\"1\" class=\"dataframe\">\n",
       "  <thead>\n",
       "    <tr style=\"text-align: right;\">\n",
       "      <th></th>\n",
       "      <th>total_bill</th>\n",
       "      <th>tip</th>\n",
       "      <th>tip_pred</th>\n",
       "    </tr>\n",
       "  </thead>\n",
       "  <tbody>\n",
       "    <tr>\n",
       "      <th>0</th>\n",
       "      <td>16.99</td>\n",
       "      <td>1.01</td>\n",
       "      <td>2.704636</td>\n",
       "    </tr>\n",
       "    <tr>\n",
       "      <th>1</th>\n",
       "      <td>10.34</td>\n",
       "      <td>1.66</td>\n",
       "      <td>2.006223</td>\n",
       "    </tr>\n",
       "    <tr>\n",
       "      <th>...</th>\n",
       "      <td>...</td>\n",
       "      <td>...</td>\n",
       "      <td>...</td>\n",
       "    </tr>\n",
       "    <tr>\n",
       "      <th>242</th>\n",
       "      <td>17.82</td>\n",
       "      <td>1.75</td>\n",
       "      <td>2.791807</td>\n",
       "    </tr>\n",
       "    <tr>\n",
       "      <th>243</th>\n",
       "      <td>18.78</td>\n",
       "      <td>3.00</td>\n",
       "      <td>2.892630</td>\n",
       "    </tr>\n",
       "  </tbody>\n",
       "</table>\n",
       "<p>244 rows × 3 columns</p>\n",
       "</div>"
      ],
      "text/plain": [
       "     total_bill   tip  tip_pred\n",
       "0         16.99  1.01  2.704636\n",
       "1         10.34  1.66  2.006223\n",
       "..          ...   ...       ...\n",
       "242       17.82  1.75  2.791807\n",
       "243       18.78  3.00  2.892630\n",
       "\n",
       "[244 rows x 3 columns]"
      ]
     },
     "execution_count": 131,
     "metadata": {},
     "output_type": "execute_result"
    }
   ],
   "source": [
    "from sklearn.linear_model import LinearRegression\n",
    "\n",
    "model_lr = LinearRegression()\n",
    "model_lr.fit(X=df_tips[['total_bill']], y=df_tips['tip'])\n",
    "df_pred = df_tips[['total_bill', 'tip']].copy()\n",
    "df_pred['tip_pred'] = model_lr.predict(X=df_pred[['total_bill']])\n",
    "df_pred"
   ]
  },
  {
   "cell_type": "code",
   "execution_count": 53,
   "id": "1ad5ac84-8446-4888-83ee-502a86ee68f5",
   "metadata": {},
   "outputs": [
    {
     "data": {
      "image/png": "[encoded data removed]",
      "text/plain": [
       "<Figure size 432x288 with 1 Axes>"
      ]
     },
     "metadata": {
      "needs_background": "light"
     },
     "output_type": "display_data"
    }
   ],
   "source": [
    "sns.scatterplot(x='total_bill', y='tip', data=df_pred)\n",
    "sns.scatterplot(x='total_bill', y='tip_pred', data=df_pred);"
   ]
  },
  {
   "cell_type": "markdown",
   "id": "b27ce6b3-e493-48a9-865c-8dabc5b06c26",
   "metadata": {},
   "source": [
    "### Classification Models"
   ]
  },
  {
   "cell_type": "code",
   "execution_count": 132,
   "id": "2684c3da-5bbc-40df-ab53-04e1c5045801",
   "metadata": {},
   "outputs": [
    {
     "data": {
      "text/html": [
       "<div>\n",
       "<style scoped>\n",
       "    .dataframe tbody tr th:only-of-type {\n",
       "        vertical-align: middle;\n",
       "    }\n",
       "\n",
       "    .dataframe tbody tr th {\n",
       "        vertical-align: top;\n",
       "    }\n",
       "\n",
       "    .dataframe thead th {\n",
       "        text-align: right;\n",
       "    }\n",
       "</style>\n",
       "<table border=\"1\" class=\"dataframe\">\n",
       "  <thead>\n",
       "    <tr style=\"text-align: right;\">\n",
       "      <th></th>\n",
       "      <th>mpg</th>\n",
       "      <th>cylinders</th>\n",
       "      <th>displacement</th>\n",
       "      <th>horsepower</th>\n",
       "      <th>weight</th>\n",
       "      <th>acceleration</th>\n",
       "      <th>model_year</th>\n",
       "      <th>origin</th>\n",
       "      <th>name</th>\n",
       "    </tr>\n",
       "  </thead>\n",
       "  <tbody>\n",
       "    <tr>\n",
       "      <th>0</th>\n",
       "      <td>18.0</td>\n",
       "      <td>8</td>\n",
       "      <td>307.0</td>\n",
       "      <td>130.0</td>\n",
       "      <td>3504</td>\n",
       "      <td>12.0</td>\n",
       "      <td>70</td>\n",
       "      <td>usa</td>\n",
       "      <td>chevrolet chevelle malibu</td>\n",
       "    </tr>\n",
       "    <tr>\n",
       "      <th>1</th>\n",
       "      <td>15.0</td>\n",
       "      <td>8</td>\n",
       "      <td>350.0</td>\n",
       "      <td>165.0</td>\n",
       "      <td>3693</td>\n",
       "      <td>11.5</td>\n",
       "      <td>70</td>\n",
       "      <td>usa</td>\n",
       "      <td>buick skylark 320</td>\n",
       "    </tr>\n",
       "    <tr>\n",
       "      <th>...</th>\n",
       "      <td>...</td>\n",
       "      <td>...</td>\n",
       "      <td>...</td>\n",
       "      <td>...</td>\n",
       "      <td>...</td>\n",
       "      <td>...</td>\n",
       "      <td>...</td>\n",
       "      <td>...</td>\n",
       "      <td>...</td>\n",
       "    </tr>\n",
       "    <tr>\n",
       "      <th>396</th>\n",
       "      <td>28.0</td>\n",
       "      <td>4</td>\n",
       "      <td>120.0</td>\n",
       "      <td>79.0</td>\n",
       "      <td>2625</td>\n",
       "      <td>18.6</td>\n",
       "      <td>82</td>\n",
       "      <td>usa</td>\n",
       "      <td>ford ranger</td>\n",
       "    </tr>\n",
       "    <tr>\n",
       "      <th>397</th>\n",
       "      <td>31.0</td>\n",
       "      <td>4</td>\n",
       "      <td>119.0</td>\n",
       "      <td>82.0</td>\n",
       "      <td>2720</td>\n",
       "      <td>19.4</td>\n",
       "      <td>82</td>\n",
       "      <td>usa</td>\n",
       "      <td>chevy s-10</td>\n",
       "    </tr>\n",
       "  </tbody>\n",
       "</table>\n",
       "<p>398 rows × 9 columns</p>\n",
       "</div>"
      ],
      "text/plain": [
       "      mpg  cylinders  displacement  horsepower  weight  acceleration  \\\n",
       "0    18.0          8         307.0       130.0    3504          12.0   \n",
       "1    15.0          8         350.0       165.0    3693          11.5   \n",
       "..    ...        ...           ...         ...     ...           ...   \n",
       "396  28.0          4         120.0        79.0    2625          18.6   \n",
       "397  31.0          4         119.0        82.0    2720          19.4   \n",
       "\n",
       "     model_year origin                       name  \n",
       "0            70    usa  chevrolet chevelle malibu  \n",
       "1            70    usa          buick skylark 320  \n",
       "..          ...    ...                        ...  \n",
       "396          82    usa                ford ranger  \n",
       "397          82    usa                 chevy s-10  \n",
       "\n",
       "[398 rows x 9 columns]"
      ]
     },
     "execution_count": 132,
     "metadata": {},
     "output_type": "execute_result"
    }
   ],
   "source": [
    "df_mpg = sns.load_dataset('mpg')\n",
    "df_mpg"
   ]
  },
  {
   "cell_type": "code",
   "execution_count": 133,
   "id": "7fc689ab-6a77-4206-aac8-f4b030cd2ca5",
   "metadata": {},
   "outputs": [
    {
     "data": {
      "image/png": "[encoded data removed]",
      "text/plain": [
       "<Figure size 432x288 with 1 Axes>"
      ]
     },
     "metadata": {
      "needs_background": "light"
     },
     "output_type": "display_data"
    }
   ],
   "source": [
    "from sklearn.tree import DecisionTreeClassifier\n",
    "\n",
    "features = df_mpg[['acceleration', 'mpg']].copy()\n",
    "target = df_mpg['origin']\n",
    "model_dt = DecisionTreeClassifier()\n",
    "model_dt.fit(X=features, y=target)\n",
    "\n",
    "from sklearn.tree import plot_tree\n",
    "\n",
    "plot_tree(decision_tree=model_dt, feature_names=features.columns, filled=True);"
   ]
  },
  {
   "cell_type": "code",
   "execution_count": 134,
   "id": "86344068-15da-443e-818f-d513b8f20184",
   "metadata": {},
   "outputs": [
    {
     "data": {
      "text/html": [
       "<div>\n",
       "<style scoped>\n",
       "    .dataframe tbody tr th:only-of-type {\n",
       "        vertical-align: middle;\n",
       "    }\n",
       "\n",
       "    .dataframe tbody tr th {\n",
       "        vertical-align: top;\n",
       "    }\n",
       "\n",
       "    .dataframe thead th {\n",
       "        text-align: right;\n",
       "    }\n",
       "</style>\n",
       "<table border=\"1\" class=\"dataframe\">\n",
       "  <thead>\n",
       "    <tr style=\"text-align: right;\">\n",
       "      <th></th>\n",
       "      <th>acceleration</th>\n",
       "      <th>mpg</th>\n",
       "      <th>origin</th>\n",
       "      <th>origin_pred</th>\n",
       "    </tr>\n",
       "  </thead>\n",
       "  <tbody>\n",
       "    <tr>\n",
       "      <th>57</th>\n",
       "      <td>15.5</td>\n",
       "      <td>24.0</td>\n",
       "      <td>japan</td>\n",
       "      <td>europe</td>\n",
       "    </tr>\n",
       "    <tr>\n",
       "      <th>395</th>\n",
       "      <td>11.6</td>\n",
       "      <td>32.0</td>\n",
       "      <td>usa</td>\n",
       "      <td>usa</td>\n",
       "    </tr>\n",
       "    <tr>\n",
       "      <th>190</th>\n",
       "      <td>12.8</td>\n",
       "      <td>14.5</td>\n",
       "      <td>usa</td>\n",
       "      <td>usa</td>\n",
       "    </tr>\n",
       "    <tr>\n",
       "      <th>109</th>\n",
       "      <td>19.5</td>\n",
       "      <td>21.0</td>\n",
       "      <td>usa</td>\n",
       "      <td>europe</td>\n",
       "    </tr>\n",
       "    <tr>\n",
       "      <th>293</th>\n",
       "      <td>14.0</td>\n",
       "      <td>31.9</td>\n",
       "      <td>europe</td>\n",
       "      <td>europe</td>\n",
       "    </tr>\n",
       "    <tr>\n",
       "      <th>118</th>\n",
       "      <td>15.5</td>\n",
       "      <td>24.0</td>\n",
       "      <td>europe</td>\n",
       "      <td>europe</td>\n",
       "    </tr>\n",
       "    <tr>\n",
       "      <th>157</th>\n",
       "      <td>14.0</td>\n",
       "      <td>15.0</td>\n",
       "      <td>usa</td>\n",
       "      <td>usa</td>\n",
       "    </tr>\n",
       "    <tr>\n",
       "      <th>328</th>\n",
       "      <td>21.8</td>\n",
       "      <td>30.0</td>\n",
       "      <td>europe</td>\n",
       "      <td>europe</td>\n",
       "    </tr>\n",
       "    <tr>\n",
       "      <th>307</th>\n",
       "      <td>12.9</td>\n",
       "      <td>26.8</td>\n",
       "      <td>usa</td>\n",
       "      <td>usa</td>\n",
       "    </tr>\n",
       "    <tr>\n",
       "      <th>291</th>\n",
       "      <td>15.0</td>\n",
       "      <td>19.2</td>\n",
       "      <td>usa</td>\n",
       "      <td>usa</td>\n",
       "    </tr>\n",
       "  </tbody>\n",
       "</table>\n",
       "</div>"
      ],
      "text/plain": [
       "     acceleration   mpg  origin origin_pred\n",
       "57           15.5  24.0   japan      europe\n",
       "395          11.6  32.0     usa         usa\n",
       "190          12.8  14.5     usa         usa\n",
       "109          19.5  21.0     usa      europe\n",
       "293          14.0  31.9  europe      europe\n",
       "118          15.5  24.0  europe      europe\n",
       "157          14.0  15.0     usa         usa\n",
       "328          21.8  30.0  europe      europe\n",
       "307          12.9  26.8     usa         usa\n",
       "291          15.0  19.2     usa         usa"
      ]
     },
     "execution_count": 134,
     "metadata": {},
     "output_type": "execute_result"
    }
   ],
   "source": [
    "df_pred = df_mpg[['acceleration', 'mpg', 'origin']].copy()\n",
    "df_pred['origin_pred'] = model_dt.predict(X=features)\n",
    "df_pred.sample(10)"
   ]
  },
  {
   "cell_type": "markdown",
   "id": "9db0f8ac-910c-4a39-93a0-9b775665d832",
   "metadata": {},
   "source": [
    "### Clustering Models"
   ]
  },
  {
   "cell_type": "code",
   "execution_count": 135,
   "id": "49b82400-52d5-4fbd-8f7a-f0c5b2ac0063",
   "metadata": {},
   "outputs": [
    {
     "data": {
      "text/html": [
       "<div>\n",
       "<style scoped>\n",
       "    .dataframe tbody tr th:only-of-type {\n",
       "        vertical-align: middle;\n",
       "    }\n",
       "\n",
       "    .dataframe tbody tr th {\n",
       "        vertical-align: top;\n",
       "    }\n",
       "\n",
       "    .dataframe thead th {\n",
       "        text-align: right;\n",
       "    }\n",
       "</style>\n",
       "<table border=\"1\" class=\"dataframe\">\n",
       "  <thead>\n",
       "    <tr style=\"text-align: right;\">\n",
       "      <th></th>\n",
       "      <th>total</th>\n",
       "      <th>speeding</th>\n",
       "      <th>alcohol</th>\n",
       "      <th>not_distracted</th>\n",
       "      <th>no_previous</th>\n",
       "      <th>ins_premium</th>\n",
       "      <th>ins_losses</th>\n",
       "      <th>abbrev</th>\n",
       "    </tr>\n",
       "  </thead>\n",
       "  <tbody>\n",
       "    <tr>\n",
       "      <th>0</th>\n",
       "      <td>18.8</td>\n",
       "      <td>7.332</td>\n",
       "      <td>5.640</td>\n",
       "      <td>18.048</td>\n",
       "      <td>15.040</td>\n",
       "      <td>784.55</td>\n",
       "      <td>145.08</td>\n",
       "      <td>AL</td>\n",
       "    </tr>\n",
       "    <tr>\n",
       "      <th>1</th>\n",
       "      <td>18.1</td>\n",
       "      <td>7.421</td>\n",
       "      <td>4.525</td>\n",
       "      <td>16.290</td>\n",
       "      <td>17.014</td>\n",
       "      <td>1053.48</td>\n",
       "      <td>133.93</td>\n",
       "      <td>AK</td>\n",
       "    </tr>\n",
       "    <tr>\n",
       "      <th>...</th>\n",
       "      <td>...</td>\n",
       "      <td>...</td>\n",
       "      <td>...</td>\n",
       "      <td>...</td>\n",
       "      <td>...</td>\n",
       "      <td>...</td>\n",
       "      <td>...</td>\n",
       "      <td>...</td>\n",
       "    </tr>\n",
       "    <tr>\n",
       "      <th>49</th>\n",
       "      <td>13.8</td>\n",
       "      <td>4.968</td>\n",
       "      <td>4.554</td>\n",
       "      <td>5.382</td>\n",
       "      <td>11.592</td>\n",
       "      <td>670.31</td>\n",
       "      <td>106.62</td>\n",
       "      <td>WI</td>\n",
       "    </tr>\n",
       "    <tr>\n",
       "      <th>50</th>\n",
       "      <td>17.4</td>\n",
       "      <td>7.308</td>\n",
       "      <td>5.568</td>\n",
       "      <td>14.094</td>\n",
       "      <td>15.660</td>\n",
       "      <td>791.14</td>\n",
       "      <td>122.04</td>\n",
       "      <td>WY</td>\n",
       "    </tr>\n",
       "  </tbody>\n",
       "</table>\n",
       "<p>51 rows × 8 columns</p>\n",
       "</div>"
      ],
      "text/plain": [
       "    total  speeding  alcohol  not_distracted  no_previous  ins_premium  \\\n",
       "0    18.8     7.332    5.640          18.048       15.040       784.55   \n",
       "1    18.1     7.421    4.525          16.290       17.014      1053.48   \n",
       "..    ...       ...      ...             ...          ...          ...   \n",
       "49   13.8     4.968    4.554           5.382       11.592       670.31   \n",
       "50   17.4     7.308    5.568          14.094       15.660       791.14   \n",
       "\n",
       "    ins_losses abbrev  \n",
       "0       145.08     AL  \n",
       "1       133.93     AK  \n",
       "..         ...    ...  \n",
       "49      106.62     WI  \n",
       "50      122.04     WY  \n",
       "\n",
       "[51 rows x 8 columns]"
      ]
     },
     "execution_count": 135,
     "metadata": {},
     "output_type": "execute_result"
    }
   ],
   "source": [
    "df_crashes = sns.load_dataset('car_crashes')\n",
    "df_crashes"
   ]
  },
  {
   "cell_type": "code",
   "execution_count": 136,
   "id": "f789bc67-f494-407a-b61c-dad5161dc174",
   "metadata": {},
   "outputs": [
    {
     "data": {
      "text/html": [
       "<div>\n",
       "<style scoped>\n",
       "    .dataframe tbody tr th:only-of-type {\n",
       "        vertical-align: middle;\n",
       "    }\n",
       "\n",
       "    .dataframe tbody tr th {\n",
       "        vertical-align: top;\n",
       "    }\n",
       "\n",
       "    .dataframe thead th {\n",
       "        text-align: right;\n",
       "    }\n",
       "</style>\n",
       "<table border=\"1\" class=\"dataframe\">\n",
       "  <thead>\n",
       "    <tr style=\"text-align: right;\">\n",
       "      <th></th>\n",
       "      <th>alcohol</th>\n",
       "      <th>ins_losses</th>\n",
       "      <th>cluster</th>\n",
       "    </tr>\n",
       "  </thead>\n",
       "  <tbody>\n",
       "    <tr>\n",
       "      <th>0</th>\n",
       "      <td>5.640</td>\n",
       "      <td>145.08</td>\n",
       "      <td>1</td>\n",
       "    </tr>\n",
       "    <tr>\n",
       "      <th>1</th>\n",
       "      <td>4.525</td>\n",
       "      <td>133.93</td>\n",
       "      <td>2</td>\n",
       "    </tr>\n",
       "    <tr>\n",
       "      <th>...</th>\n",
       "      <td>...</td>\n",
       "      <td>...</td>\n",
       "      <td>...</td>\n",
       "    </tr>\n",
       "    <tr>\n",
       "      <th>49</th>\n",
       "      <td>4.554</td>\n",
       "      <td>106.62</td>\n",
       "      <td>2</td>\n",
       "    </tr>\n",
       "    <tr>\n",
       "      <th>50</th>\n",
       "      <td>5.568</td>\n",
       "      <td>122.04</td>\n",
       "      <td>2</td>\n",
       "    </tr>\n",
       "  </tbody>\n",
       "</table>\n",
       "<p>51 rows × 3 columns</p>\n",
       "</div>"
      ],
      "text/plain": [
       "    alcohol  ins_losses  cluster\n",
       "0     5.640      145.08        1\n",
       "1     4.525      133.93        2\n",
       "..      ...         ...      ...\n",
       "49    4.554      106.62        2\n",
       "50    5.568      122.04        2\n",
       "\n",
       "[51 rows x 3 columns]"
      ]
     },
     "execution_count": 136,
     "metadata": {},
     "output_type": "execute_result"
    }
   ],
   "source": [
    "from sklearn.cluster import KMeans\n",
    "\n",
    "model_km = KMeans(n_clusters=3)\n",
    "features = df_crashes[['alcohol', 'ins_losses']].copy()\n",
    "\n",
    "from sklearn.preprocessing import MinMaxScaler\n",
    "\n",
    "scaler = MinMaxScaler()\n",
    "features_scaled = scaler.fit_transform(features)\n",
    "model_km.fit(X=features_scaled)\n",
    "df_pred = features.copy()\n",
    "df_pred['cluster'] = model_km.predict(X=features_scaled)\n",
    "df_pred"
   ]
  },
  {
   "cell_type": "code",
   "execution_count": 137,
   "id": "41246c70-c020-4502-a71f-dfb350f78909",
   "metadata": {},
   "outputs": [
    {
     "data": {
      "image/png": "[encoded data removed]",
      "text/plain": [
       "<Figure size 432x288 with 1 Axes>"
      ]
     },
     "metadata": {
      "needs_background": "light"
     },
     "output_type": "display_data"
    }
   ],
   "source": [
    "sns.scatterplot(x='alcohol', y='ins_losses', data=df_pred, hue=df_pred.cluster.astype(str));"
   ]
  }
 ],
 "metadata": {
  "kernelspec": {
   "display_name": "Python 3 (ipykernel)",
   "language": "python",
   "name": "python3"
  },
  "language_info": {
   "codemirror_mode": {
    "name": "ipython",
    "version": 3
   },
   "file_extension": ".py",
   "mimetype": "text/x-python",
   "name": "python",
   "nbconvert_exporter": "python",
   "pygments_lexer": "ipython3",
   "version": "3.10.6"
  }
 },
 "nbformat": 4,
 "nbformat_minor": 5
}
