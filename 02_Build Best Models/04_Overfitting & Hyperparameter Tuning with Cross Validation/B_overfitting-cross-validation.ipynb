{
 "cells": [
  {
   "cell_type": "markdown",
   "metadata": {},
   "source": [
    "![](../src/logo.svg)\n",
    "\n",
    "**© Jesús López**\n",
    "\n",
    "Ask him any doubt on **[Twitter](https://twitter.com/jsulopz)** or **[LinkedIn](https://linkedin.com/in/jsulopz)**"
   ]
  },
  {
   "cell_type": "markdown",
   "metadata": {},
   "source": [
    "# 04 | Overfitting & Hyperparameter Tuning with Cross Validation"
   ]
  },
  {
   "cell_type": "markdown",
   "metadata": {},
   "source": [
    "## Chapter Importance"
   ]
  },
  {
   "cell_type": "markdown",
   "metadata": {},
   "source": [
    "We have already covered:\n",
    "\n",
    "1. Regression Models\n",
    "2. Classification Models\n",
    "3. Train Test Split for Model Selection\n",
    "\n",
    "In short, we have computed all possible types of models to predict numerical and categorical variables with Regression and Classification models, respectively.\n",
    "\n",
    "Although it is not enough with computing one model, we need to compare different models to choose the one whose predictions are close to reality.\n",
    "\n",
    "Nevertheless, we cannot evaluate the model on the same data we used to `.fit()` (train) the mathematical equation (model). We need to separate the data into train and test sets; the first to train the model, the later to evaluate the model.\n",
    "\n",
    "No we add an extra layer of complexity because we can improve a model (an algorithm) by configuring its parameters. This chapter is all about **computing different combinations of a single model's hyperparameters** to get the best."
   ]
  },
  {
   "cell_type": "markdown",
   "metadata": {
    "tags": []
   },
   "source": [
    "## [ ] Load the [Data](https://www.kaggle.com/datasets/uciml/default-of-credit-card-clients-dataset)\n",
    "\n",
    "- The goal of this dataset is\n",
    "- To predict if **bank's customers** (rows) `default` next month\n",
    "- Based on their **socio-demographical characteristics** (columns)"
   ]
  },
  {
   "cell_type": "code",
   "execution_count": 1,
   "metadata": {},
   "outputs": [
    {
     "data": {
      "text/html": [
       "<div>\n",
       "<style scoped>\n",
       "    .dataframe tbody tr th:only-of-type {\n",
       "        vertical-align: middle;\n",
       "    }\n",
       "\n",
       "    .dataframe tbody tr th {\n",
       "        vertical-align: top;\n",
       "    }\n",
       "\n",
       "    .dataframe thead th {\n",
       "        text-align: right;\n",
       "    }\n",
       "</style>\n",
       "<table border=\"1\" class=\"dataframe\">\n",
       "  <thead>\n",
       "    <tr style=\"text-align: right;\">\n",
       "      <th></th>\n",
       "      <th>LIMIT_BAL</th>\n",
       "      <th>SEX</th>\n",
       "      <th>EDUCATION</th>\n",
       "      <th>MARRIAGE</th>\n",
       "      <th>AGE</th>\n",
       "      <th>PAY_0</th>\n",
       "      <th>PAY_2</th>\n",
       "      <th>PAY_3</th>\n",
       "      <th>PAY_4</th>\n",
       "      <th>PAY_5</th>\n",
       "      <th>PAY_6</th>\n",
       "      <th>BILL_AMT1</th>\n",
       "      <th>BILL_AMT2</th>\n",
       "      <th>BILL_AMT3</th>\n",
       "      <th>BILL_AMT4</th>\n",
       "      <th>BILL_AMT5</th>\n",
       "      <th>BILL_AMT6</th>\n",
       "      <th>PAY_AMT1</th>\n",
       "      <th>PAY_AMT2</th>\n",
       "      <th>PAY_AMT3</th>\n",
       "      <th>PAY_AMT4</th>\n",
       "      <th>PAY_AMT5</th>\n",
       "      <th>PAY_AMT6</th>\n",
       "      <th>default payment next month</th>\n",
       "    </tr>\n",
       "    <tr>\n",
       "      <th>ID</th>\n",
       "      <th></th>\n",
       "      <th></th>\n",
       "      <th></th>\n",
       "      <th></th>\n",
       "      <th></th>\n",
       "      <th></th>\n",
       "      <th></th>\n",
       "      <th></th>\n",
       "      <th></th>\n",
       "      <th></th>\n",
       "      <th></th>\n",
       "      <th></th>\n",
       "      <th></th>\n",
       "      <th></th>\n",
       "      <th></th>\n",
       "      <th></th>\n",
       "      <th></th>\n",
       "      <th></th>\n",
       "      <th></th>\n",
       "      <th></th>\n",
       "      <th></th>\n",
       "      <th></th>\n",
       "      <th></th>\n",
       "      <th></th>\n",
       "    </tr>\n",
       "  </thead>\n",
       "  <tbody>\n",
       "    <tr>\n",
       "      <th>19324</th>\n",
       "      <td>200000</td>\n",
       "      <td>2</td>\n",
       "      <td>1</td>\n",
       "      <td>2</td>\n",
       "      <td>39</td>\n",
       "      <td>-2</td>\n",
       "      <td>-2</td>\n",
       "      <td>-2</td>\n",
       "      <td>-2</td>\n",
       "      <td>-2</td>\n",
       "      <td>-2</td>\n",
       "      <td>345</td>\n",
       "      <td>355</td>\n",
       "      <td>0</td>\n",
       "      <td>0</td>\n",
       "      <td>907</td>\n",
       "      <td>0</td>\n",
       "      <td>355</td>\n",
       "      <td>0</td>\n",
       "      <td>0</td>\n",
       "      <td>907</td>\n",
       "      <td>0</td>\n",
       "      <td>0</td>\n",
       "      <td>0</td>\n",
       "    </tr>\n",
       "    <tr>\n",
       "      <th>29653</th>\n",
       "      <td>210000</td>\n",
       "      <td>1</td>\n",
       "      <td>3</td>\n",
       "      <td>2</td>\n",
       "      <td>48</td>\n",
       "      <td>0</td>\n",
       "      <td>0</td>\n",
       "      <td>0</td>\n",
       "      <td>0</td>\n",
       "      <td>-1</td>\n",
       "      <td>-1</td>\n",
       "      <td>85107</td>\n",
       "      <td>83658</td>\n",
       "      <td>73664</td>\n",
       "      <td>38405</td>\n",
       "      <td>38395</td>\n",
       "      <td>5062</td>\n",
       "      <td>33658</td>\n",
       "      <td>30003</td>\n",
       "      <td>1000</td>\n",
       "      <td>38395</td>\n",
       "      <td>5062</td>\n",
       "      <td>13061</td>\n",
       "      <td>0</td>\n",
       "    </tr>\n",
       "    <tr>\n",
       "      <th>3039</th>\n",
       "      <td>280000</td>\n",
       "      <td>1</td>\n",
       "      <td>2</td>\n",
       "      <td>1</td>\n",
       "      <td>37</td>\n",
       "      <td>-2</td>\n",
       "      <td>-1</td>\n",
       "      <td>-1</td>\n",
       "      <td>-2</td>\n",
       "      <td>-2</td>\n",
       "      <td>-2</td>\n",
       "      <td>2035</td>\n",
       "      <td>11009</td>\n",
       "      <td>9360</td>\n",
       "      <td>7480</td>\n",
       "      <td>4402</td>\n",
       "      <td>3646</td>\n",
       "      <td>11009</td>\n",
       "      <td>9370</td>\n",
       "      <td>7486</td>\n",
       "      <td>4402</td>\n",
       "      <td>3646</td>\n",
       "      <td>6059</td>\n",
       "      <td>0</td>\n",
       "    </tr>\n",
       "    <tr>\n",
       "      <th>5675</th>\n",
       "      <td>100000</td>\n",
       "      <td>2</td>\n",
       "      <td>2</td>\n",
       "      <td>1</td>\n",
       "      <td>41</td>\n",
       "      <td>2</td>\n",
       "      <td>2</td>\n",
       "      <td>2</td>\n",
       "      <td>2</td>\n",
       "      <td>2</td>\n",
       "      <td>0</td>\n",
       "      <td>97031</td>\n",
       "      <td>96919</td>\n",
       "      <td>93277</td>\n",
       "      <td>97576</td>\n",
       "      <td>94742</td>\n",
       "      <td>95578</td>\n",
       "      <td>3500</td>\n",
       "      <td>0</td>\n",
       "      <td>7000</td>\n",
       "      <td>0</td>\n",
       "      <td>3600</td>\n",
       "      <td>4000</td>\n",
       "      <td>1</td>\n",
       "    </tr>\n",
       "    <tr>\n",
       "      <th>13256</th>\n",
       "      <td>170000</td>\n",
       "      <td>2</td>\n",
       "      <td>2</td>\n",
       "      <td>2</td>\n",
       "      <td>29</td>\n",
       "      <td>0</td>\n",
       "      <td>0</td>\n",
       "      <td>0</td>\n",
       "      <td>0</td>\n",
       "      <td>0</td>\n",
       "      <td>0</td>\n",
       "      <td>161581</td>\n",
       "      <td>163500</td>\n",
       "      <td>166003</td>\n",
       "      <td>167287</td>\n",
       "      <td>165510</td>\n",
       "      <td>168507</td>\n",
       "      <td>6000</td>\n",
       "      <td>8000</td>\n",
       "      <td>6300</td>\n",
       "      <td>6000</td>\n",
       "      <td>6500</td>\n",
       "      <td>6100</td>\n",
       "      <td>0</td>\n",
       "    </tr>\n",
       "    <tr>\n",
       "      <th>17109</th>\n",
       "      <td>260000</td>\n",
       "      <td>2</td>\n",
       "      <td>1</td>\n",
       "      <td>2</td>\n",
       "      <td>27</td>\n",
       "      <td>0</td>\n",
       "      <td>0</td>\n",
       "      <td>0</td>\n",
       "      <td>0</td>\n",
       "      <td>0</td>\n",
       "      <td>0</td>\n",
       "      <td>23820</td>\n",
       "      <td>23873</td>\n",
       "      <td>14856</td>\n",
       "      <td>17022</td>\n",
       "      <td>20032</td>\n",
       "      <td>11144</td>\n",
       "      <td>10000</td>\n",
       "      <td>3000</td>\n",
       "      <td>4000</td>\n",
       "      <td>5000</td>\n",
       "      <td>3000</td>\n",
       "      <td>6000</td>\n",
       "      <td>0</td>\n",
       "    </tr>\n",
       "    <tr>\n",
       "      <th>25772</th>\n",
       "      <td>350000</td>\n",
       "      <td>2</td>\n",
       "      <td>1</td>\n",
       "      <td>1</td>\n",
       "      <td>33</td>\n",
       "      <td>0</td>\n",
       "      <td>-1</td>\n",
       "      <td>-1</td>\n",
       "      <td>-1</td>\n",
       "      <td>-1</td>\n",
       "      <td>-1</td>\n",
       "      <td>82964</td>\n",
       "      <td>68532</td>\n",
       "      <td>17926</td>\n",
       "      <td>17966</td>\n",
       "      <td>30741</td>\n",
       "      <td>31088</td>\n",
       "      <td>68940</td>\n",
       "      <td>18018</td>\n",
       "      <td>18058</td>\n",
       "      <td>30897</td>\n",
       "      <td>31244</td>\n",
       "      <td>88461</td>\n",
       "      <td>1</td>\n",
       "    </tr>\n",
       "    <tr>\n",
       "      <th>16930</th>\n",
       "      <td>60000</td>\n",
       "      <td>1</td>\n",
       "      <td>2</td>\n",
       "      <td>1</td>\n",
       "      <td>52</td>\n",
       "      <td>0</td>\n",
       "      <td>0</td>\n",
       "      <td>0</td>\n",
       "      <td>0</td>\n",
       "      <td>0</td>\n",
       "      <td>0</td>\n",
       "      <td>58682</td>\n",
       "      <td>56893</td>\n",
       "      <td>58170</td>\n",
       "      <td>56539</td>\n",
       "      <td>29425</td>\n",
       "      <td>28013</td>\n",
       "      <td>3762</td>\n",
       "      <td>3000</td>\n",
       "      <td>2000</td>\n",
       "      <td>1000</td>\n",
       "      <td>1000</td>\n",
       "      <td>1500</td>\n",
       "      <td>0</td>\n",
       "    </tr>\n",
       "    <tr>\n",
       "      <th>6041</th>\n",
       "      <td>20000</td>\n",
       "      <td>2</td>\n",
       "      <td>2</td>\n",
       "      <td>2</td>\n",
       "      <td>23</td>\n",
       "      <td>2</td>\n",
       "      <td>2</td>\n",
       "      <td>7</td>\n",
       "      <td>7</td>\n",
       "      <td>7</td>\n",
       "      <td>6</td>\n",
       "      <td>2400</td>\n",
       "      <td>2400</td>\n",
       "      <td>2400</td>\n",
       "      <td>2400</td>\n",
       "      <td>2400</td>\n",
       "      <td>1800</td>\n",
       "      <td>0</td>\n",
       "      <td>0</td>\n",
       "      <td>0</td>\n",
       "      <td>0</td>\n",
       "      <td>0</td>\n",
       "      <td>0</td>\n",
       "      <td>1</td>\n",
       "    </tr>\n",
       "    <tr>\n",
       "      <th>17333</th>\n",
       "      <td>50000</td>\n",
       "      <td>2</td>\n",
       "      <td>2</td>\n",
       "      <td>1</td>\n",
       "      <td>29</td>\n",
       "      <td>0</td>\n",
       "      <td>0</td>\n",
       "      <td>0</td>\n",
       "      <td>0</td>\n",
       "      <td>0</td>\n",
       "      <td>0</td>\n",
       "      <td>20103</td>\n",
       "      <td>21466</td>\n",
       "      <td>23122</td>\n",
       "      <td>24654</td>\n",
       "      <td>26365</td>\n",
       "      <td>25844</td>\n",
       "      <td>2000</td>\n",
       "      <td>2000</td>\n",
       "      <td>2000</td>\n",
       "      <td>2000</td>\n",
       "      <td>2000</td>\n",
       "      <td>2000</td>\n",
       "      <td>0</td>\n",
       "    </tr>\n",
       "  </tbody>\n",
       "</table>\n",
       "</div>"
      ],
      "text/plain": [
       "       LIMIT_BAL  SEX  EDUCATION  MARRIAGE  AGE  PAY_0  PAY_2  PAY_3  PAY_4  \\\n",
       "ID                                                                            \n",
       "19324     200000    2          1         2   39     -2     -2     -2     -2   \n",
       "29653     210000    1          3         2   48      0      0      0      0   \n",
       "3039      280000    1          2         1   37     -2     -1     -1     -2   \n",
       "5675      100000    2          2         1   41      2      2      2      2   \n",
       "13256     170000    2          2         2   29      0      0      0      0   \n",
       "17109     260000    2          1         2   27      0      0      0      0   \n",
       "25772     350000    2          1         1   33      0     -1     -1     -1   \n",
       "16930      60000    1          2         1   52      0      0      0      0   \n",
       "6041       20000    2          2         2   23      2      2      7      7   \n",
       "17333      50000    2          2         1   29      0      0      0      0   \n",
       "\n",
       "       PAY_5  PAY_6  BILL_AMT1  BILL_AMT2  BILL_AMT3  BILL_AMT4  BILL_AMT5  \\\n",
       "ID                                                                           \n",
       "19324     -2     -2        345        355          0          0        907   \n",
       "29653     -1     -1      85107      83658      73664      38405      38395   \n",
       "3039      -2     -2       2035      11009       9360       7480       4402   \n",
       "5675       2      0      97031      96919      93277      97576      94742   \n",
       "13256      0      0     161581     163500     166003     167287     165510   \n",
       "17109      0      0      23820      23873      14856      17022      20032   \n",
       "25772     -1     -1      82964      68532      17926      17966      30741   \n",
       "16930      0      0      58682      56893      58170      56539      29425   \n",
       "6041       7      6       2400       2400       2400       2400       2400   \n",
       "17333      0      0      20103      21466      23122      24654      26365   \n",
       "\n",
       "       BILL_AMT6  PAY_AMT1  PAY_AMT2  PAY_AMT3  PAY_AMT4  PAY_AMT5  PAY_AMT6  \\\n",
       "ID                                                                             \n",
       "19324          0       355         0         0       907         0         0   \n",
       "29653       5062     33658     30003      1000     38395      5062     13061   \n",
       "3039        3646     11009      9370      7486      4402      3646      6059   \n",
       "5675       95578      3500         0      7000         0      3600      4000   \n",
       "13256     168507      6000      8000      6300      6000      6500      6100   \n",
       "17109      11144     10000      3000      4000      5000      3000      6000   \n",
       "25772      31088     68940     18018     18058     30897     31244     88461   \n",
       "16930      28013      3762      3000      2000      1000      1000      1500   \n",
       "6041        1800         0         0         0         0         0         0   \n",
       "17333      25844      2000      2000      2000      2000      2000      2000   \n",
       "\n",
       "       default payment next month  \n",
       "ID                                 \n",
       "19324                           0  \n",
       "29653                           0  \n",
       "3039                            0  \n",
       "5675                            1  \n",
       "13256                           0  \n",
       "17109                           0  \n",
       "25772                           1  \n",
       "16930                           0  \n",
       "6041                            1  \n",
       "17333                           0  "
      ]
     },
     "execution_count": 1,
     "metadata": {},
     "output_type": "execute_result"
    }
   ],
   "source": [
    "import pandas as pd\n",
    "pd.set_option(\"display.max_columns\", None)\n",
    "\n",
    "url = 'https://archive.ics.uci.edu/ml/machine-learning-databases/00350/default%20of%20credit%20card%20clients.xls'\n",
    "df_credit = pd.read_excel(io=url, header=1, index_col=0)\n",
    "df_credit.sample(10)"
   ]
  },
  {
   "cell_type": "markdown",
   "metadata": {},
   "source": [
    "## Preprocess the Data"
   ]
  },
  {
   "cell_type": "markdown",
   "metadata": {},
   "source": [
    "### Missing Data"
   ]
  },
  {
   "cell_type": "code",
   "execution_count": 2,
   "metadata": {},
   "outputs": [
    {
     "data": {
      "text/plain": [
       "LIMIT_BAL                     0\n",
       "SEX                           0\n",
       "                             ..\n",
       "PAY_AMT6                      0\n",
       "default payment next month    0\n",
       "Length: 24, dtype: int64"
      ]
     },
     "execution_count": 2,
     "metadata": {},
     "output_type": "execute_result"
    }
   ],
   "source": [
    "df_credit.isna().sum()"
   ]
  },
  {
   "cell_type": "code",
   "execution_count": 3,
   "metadata": {},
   "outputs": [
    {
     "data": {
      "text/plain": [
       "0"
      ]
     },
     "execution_count": 3,
     "metadata": {},
     "output_type": "execute_result"
    }
   ],
   "source": [
    "df_credit.isna().sum().sum()"
   ]
  },
  {
   "cell_type": "markdown",
   "metadata": {},
   "source": [
    "### Dummy Variables"
   ]
  },
  {
   "cell_type": "code",
   "execution_count": 4,
   "metadata": {},
   "outputs": [
    {
     "data": {
      "text/html": [
       "<div>\n",
       "<style scoped>\n",
       "    .dataframe tbody tr th:only-of-type {\n",
       "        vertical-align: middle;\n",
       "    }\n",
       "\n",
       "    .dataframe tbody tr th {\n",
       "        vertical-align: top;\n",
       "    }\n",
       "\n",
       "    .dataframe thead th {\n",
       "        text-align: right;\n",
       "    }\n",
       "</style>\n",
       "<table border=\"1\" class=\"dataframe\">\n",
       "  <thead>\n",
       "    <tr style=\"text-align: right;\">\n",
       "      <th></th>\n",
       "      <th>LIMIT_BAL</th>\n",
       "      <th>SEX</th>\n",
       "      <th>EDUCATION</th>\n",
       "      <th>MARRIAGE</th>\n",
       "      <th>AGE</th>\n",
       "      <th>PAY_0</th>\n",
       "      <th>PAY_2</th>\n",
       "      <th>PAY_3</th>\n",
       "      <th>PAY_4</th>\n",
       "      <th>PAY_5</th>\n",
       "      <th>PAY_6</th>\n",
       "      <th>BILL_AMT1</th>\n",
       "      <th>BILL_AMT2</th>\n",
       "      <th>BILL_AMT3</th>\n",
       "      <th>BILL_AMT4</th>\n",
       "      <th>BILL_AMT5</th>\n",
       "      <th>BILL_AMT6</th>\n",
       "      <th>PAY_AMT1</th>\n",
       "      <th>PAY_AMT2</th>\n",
       "      <th>PAY_AMT3</th>\n",
       "      <th>PAY_AMT4</th>\n",
       "      <th>PAY_AMT5</th>\n",
       "      <th>PAY_AMT6</th>\n",
       "      <th>default payment next month</th>\n",
       "    </tr>\n",
       "    <tr>\n",
       "      <th>ID</th>\n",
       "      <th></th>\n",
       "      <th></th>\n",
       "      <th></th>\n",
       "      <th></th>\n",
       "      <th></th>\n",
       "      <th></th>\n",
       "      <th></th>\n",
       "      <th></th>\n",
       "      <th></th>\n",
       "      <th></th>\n",
       "      <th></th>\n",
       "      <th></th>\n",
       "      <th></th>\n",
       "      <th></th>\n",
       "      <th></th>\n",
       "      <th></th>\n",
       "      <th></th>\n",
       "      <th></th>\n",
       "      <th></th>\n",
       "      <th></th>\n",
       "      <th></th>\n",
       "      <th></th>\n",
       "      <th></th>\n",
       "      <th></th>\n",
       "    </tr>\n",
       "  </thead>\n",
       "  <tbody>\n",
       "    <tr>\n",
       "      <th>1</th>\n",
       "      <td>20000</td>\n",
       "      <td>2</td>\n",
       "      <td>2</td>\n",
       "      <td>1</td>\n",
       "      <td>24</td>\n",
       "      <td>2</td>\n",
       "      <td>2</td>\n",
       "      <td>-1</td>\n",
       "      <td>-1</td>\n",
       "      <td>-2</td>\n",
       "      <td>-2</td>\n",
       "      <td>3913</td>\n",
       "      <td>3102</td>\n",
       "      <td>689</td>\n",
       "      <td>0</td>\n",
       "      <td>0</td>\n",
       "      <td>0</td>\n",
       "      <td>0</td>\n",
       "      <td>689</td>\n",
       "      <td>0</td>\n",
       "      <td>0</td>\n",
       "      <td>0</td>\n",
       "      <td>0</td>\n",
       "      <td>1</td>\n",
       "    </tr>\n",
       "    <tr>\n",
       "      <th>2</th>\n",
       "      <td>120000</td>\n",
       "      <td>2</td>\n",
       "      <td>2</td>\n",
       "      <td>2</td>\n",
       "      <td>26</td>\n",
       "      <td>-1</td>\n",
       "      <td>2</td>\n",
       "      <td>0</td>\n",
       "      <td>0</td>\n",
       "      <td>0</td>\n",
       "      <td>2</td>\n",
       "      <td>2682</td>\n",
       "      <td>1725</td>\n",
       "      <td>2682</td>\n",
       "      <td>3272</td>\n",
       "      <td>3455</td>\n",
       "      <td>3261</td>\n",
       "      <td>0</td>\n",
       "      <td>1000</td>\n",
       "      <td>1000</td>\n",
       "      <td>1000</td>\n",
       "      <td>0</td>\n",
       "      <td>2000</td>\n",
       "      <td>1</td>\n",
       "    </tr>\n",
       "    <tr>\n",
       "      <th>...</th>\n",
       "      <td>...</td>\n",
       "      <td>...</td>\n",
       "      <td>...</td>\n",
       "      <td>...</td>\n",
       "      <td>...</td>\n",
       "      <td>...</td>\n",
       "      <td>...</td>\n",
       "      <td>...</td>\n",
       "      <td>...</td>\n",
       "      <td>...</td>\n",
       "      <td>...</td>\n",
       "      <td>...</td>\n",
       "      <td>...</td>\n",
       "      <td>...</td>\n",
       "      <td>...</td>\n",
       "      <td>...</td>\n",
       "      <td>...</td>\n",
       "      <td>...</td>\n",
       "      <td>...</td>\n",
       "      <td>...</td>\n",
       "      <td>...</td>\n",
       "      <td>...</td>\n",
       "      <td>...</td>\n",
       "      <td>...</td>\n",
       "    </tr>\n",
       "    <tr>\n",
       "      <th>29999</th>\n",
       "      <td>80000</td>\n",
       "      <td>1</td>\n",
       "      <td>3</td>\n",
       "      <td>1</td>\n",
       "      <td>41</td>\n",
       "      <td>1</td>\n",
       "      <td>-1</td>\n",
       "      <td>0</td>\n",
       "      <td>0</td>\n",
       "      <td>0</td>\n",
       "      <td>-1</td>\n",
       "      <td>-1645</td>\n",
       "      <td>78379</td>\n",
       "      <td>76304</td>\n",
       "      <td>52774</td>\n",
       "      <td>11855</td>\n",
       "      <td>48944</td>\n",
       "      <td>85900</td>\n",
       "      <td>3409</td>\n",
       "      <td>1178</td>\n",
       "      <td>1926</td>\n",
       "      <td>52964</td>\n",
       "      <td>1804</td>\n",
       "      <td>1</td>\n",
       "    </tr>\n",
       "    <tr>\n",
       "      <th>30000</th>\n",
       "      <td>50000</td>\n",
       "      <td>1</td>\n",
       "      <td>2</td>\n",
       "      <td>1</td>\n",
       "      <td>46</td>\n",
       "      <td>0</td>\n",
       "      <td>0</td>\n",
       "      <td>0</td>\n",
       "      <td>0</td>\n",
       "      <td>0</td>\n",
       "      <td>0</td>\n",
       "      <td>47929</td>\n",
       "      <td>48905</td>\n",
       "      <td>49764</td>\n",
       "      <td>36535</td>\n",
       "      <td>32428</td>\n",
       "      <td>15313</td>\n",
       "      <td>2078</td>\n",
       "      <td>1800</td>\n",
       "      <td>1430</td>\n",
       "      <td>1000</td>\n",
       "      <td>1000</td>\n",
       "      <td>1000</td>\n",
       "      <td>1</td>\n",
       "    </tr>\n",
       "  </tbody>\n",
       "</table>\n",
       "<p>30000 rows × 24 columns</p>\n",
       "</div>"
      ],
      "text/plain": [
       "       LIMIT_BAL  SEX  EDUCATION  MARRIAGE  AGE  PAY_0  PAY_2  PAY_3  PAY_4  \\\n",
       "ID                                                                            \n",
       "1          20000    2          2         1   24      2      2     -1     -1   \n",
       "2         120000    2          2         2   26     -1      2      0      0   \n",
       "...          ...  ...        ...       ...  ...    ...    ...    ...    ...   \n",
       "29999      80000    1          3         1   41      1     -1      0      0   \n",
       "30000      50000    1          2         1   46      0      0      0      0   \n",
       "\n",
       "       PAY_5  PAY_6  BILL_AMT1  BILL_AMT2  BILL_AMT3  BILL_AMT4  BILL_AMT5  \\\n",
       "ID                                                                           \n",
       "1         -2     -2       3913       3102        689          0          0   \n",
       "2          0      2       2682       1725       2682       3272       3455   \n",
       "...      ...    ...        ...        ...        ...        ...        ...   \n",
       "29999      0     -1      -1645      78379      76304      52774      11855   \n",
       "30000      0      0      47929      48905      49764      36535      32428   \n",
       "\n",
       "       BILL_AMT6  PAY_AMT1  PAY_AMT2  PAY_AMT3  PAY_AMT4  PAY_AMT5  PAY_AMT6  \\\n",
       "ID                                                                             \n",
       "1              0         0       689         0         0         0         0   \n",
       "2           3261         0      1000      1000      1000         0      2000   \n",
       "...          ...       ...       ...       ...       ...       ...       ...   \n",
       "29999      48944     85900      3409      1178      1926     52964      1804   \n",
       "30000      15313      2078      1800      1430      1000      1000      1000   \n",
       "\n",
       "       default payment next month  \n",
       "ID                                 \n",
       "1                               1  \n",
       "2                               1  \n",
       "...                           ...  \n",
       "29999                           1  \n",
       "30000                           1  \n",
       "\n",
       "[30000 rows x 24 columns]"
      ]
     },
     "execution_count": 4,
     "metadata": {},
     "output_type": "execute_result"
    }
   ],
   "source": [
    "df_credit"
   ]
  },
  {
   "cell_type": "markdown",
   "metadata": {},
   "source": [
    "## Feature Selection"
   ]
  },
  {
   "cell_type": "code",
   "execution_count": 5,
   "metadata": {},
   "outputs": [],
   "source": [
    "X = df_credit.iloc[:,:-1]"
   ]
  },
  {
   "cell_type": "code",
   "execution_count": 6,
   "metadata": {},
   "outputs": [],
   "source": [
    "y = df_credit.iloc[:,-1]"
   ]
  },
  {
   "cell_type": "markdown",
   "metadata": {},
   "source": [
    "## Train Test Split"
   ]
  },
  {
   "cell_type": "code",
   "execution_count": 7,
   "metadata": {},
   "outputs": [],
   "source": [
    "from sklearn.model_selection import train_test_split"
   ]
  },
  {
   "cell_type": "code",
   "execution_count": 8,
   "metadata": {},
   "outputs": [],
   "source": [
    ">>> X_train, X_test, y_train, y_test = train_test_split(\n",
    "...     X, y, test_size=0.33, random_state=42)"
   ]
  },
  {
   "cell_type": "code",
   "execution_count": 9,
   "metadata": {},
   "outputs": [
    {
     "data": {
      "text/html": [
       "<div>\n",
       "<style scoped>\n",
       "    .dataframe tbody tr th:only-of-type {\n",
       "        vertical-align: middle;\n",
       "    }\n",
       "\n",
       "    .dataframe tbody tr th {\n",
       "        vertical-align: top;\n",
       "    }\n",
       "\n",
       "    .dataframe thead th {\n",
       "        text-align: right;\n",
       "    }\n",
       "</style>\n",
       "<table border=\"1\" class=\"dataframe\">\n",
       "  <thead>\n",
       "    <tr style=\"text-align: right;\">\n",
       "      <th></th>\n",
       "      <th>LIMIT_BAL</th>\n",
       "      <th>SEX</th>\n",
       "      <th>EDUCATION</th>\n",
       "      <th>MARRIAGE</th>\n",
       "      <th>AGE</th>\n",
       "      <th>PAY_0</th>\n",
       "      <th>PAY_2</th>\n",
       "      <th>PAY_3</th>\n",
       "      <th>PAY_4</th>\n",
       "      <th>PAY_5</th>\n",
       "      <th>PAY_6</th>\n",
       "      <th>BILL_AMT1</th>\n",
       "      <th>BILL_AMT2</th>\n",
       "      <th>BILL_AMT3</th>\n",
       "      <th>BILL_AMT4</th>\n",
       "      <th>BILL_AMT5</th>\n",
       "      <th>BILL_AMT6</th>\n",
       "      <th>PAY_AMT1</th>\n",
       "      <th>PAY_AMT2</th>\n",
       "      <th>PAY_AMT3</th>\n",
       "      <th>PAY_AMT4</th>\n",
       "      <th>PAY_AMT5</th>\n",
       "      <th>PAY_AMT6</th>\n",
       "      <th>default payment next month</th>\n",
       "    </tr>\n",
       "    <tr>\n",
       "      <th>ID</th>\n",
       "      <th></th>\n",
       "      <th></th>\n",
       "      <th></th>\n",
       "      <th></th>\n",
       "      <th></th>\n",
       "      <th></th>\n",
       "      <th></th>\n",
       "      <th></th>\n",
       "      <th></th>\n",
       "      <th></th>\n",
       "      <th></th>\n",
       "      <th></th>\n",
       "      <th></th>\n",
       "      <th></th>\n",
       "      <th></th>\n",
       "      <th></th>\n",
       "      <th></th>\n",
       "      <th></th>\n",
       "      <th></th>\n",
       "      <th></th>\n",
       "      <th></th>\n",
       "      <th></th>\n",
       "      <th></th>\n",
       "      <th></th>\n",
       "    </tr>\n",
       "  </thead>\n",
       "  <tbody>\n",
       "    <tr>\n",
       "      <th>1</th>\n",
       "      <td>20000</td>\n",
       "      <td>2</td>\n",
       "      <td>2</td>\n",
       "      <td>1</td>\n",
       "      <td>24</td>\n",
       "      <td>2</td>\n",
       "      <td>2</td>\n",
       "      <td>-1</td>\n",
       "      <td>-1</td>\n",
       "      <td>-2</td>\n",
       "      <td>-2</td>\n",
       "      <td>3913</td>\n",
       "      <td>3102</td>\n",
       "      <td>689</td>\n",
       "      <td>0</td>\n",
       "      <td>0</td>\n",
       "      <td>0</td>\n",
       "      <td>0</td>\n",
       "      <td>689</td>\n",
       "      <td>0</td>\n",
       "      <td>0</td>\n",
       "      <td>0</td>\n",
       "      <td>0</td>\n",
       "      <td>1</td>\n",
       "    </tr>\n",
       "    <tr>\n",
       "      <th>2</th>\n",
       "      <td>120000</td>\n",
       "      <td>2</td>\n",
       "      <td>2</td>\n",
       "      <td>2</td>\n",
       "      <td>26</td>\n",
       "      <td>-1</td>\n",
       "      <td>2</td>\n",
       "      <td>0</td>\n",
       "      <td>0</td>\n",
       "      <td>0</td>\n",
       "      <td>2</td>\n",
       "      <td>2682</td>\n",
       "      <td>1725</td>\n",
       "      <td>2682</td>\n",
       "      <td>3272</td>\n",
       "      <td>3455</td>\n",
       "      <td>3261</td>\n",
       "      <td>0</td>\n",
       "      <td>1000</td>\n",
       "      <td>1000</td>\n",
       "      <td>1000</td>\n",
       "      <td>0</td>\n",
       "      <td>2000</td>\n",
       "      <td>1</td>\n",
       "    </tr>\n",
       "    <tr>\n",
       "      <th>...</th>\n",
       "      <td>...</td>\n",
       "      <td>...</td>\n",
       "      <td>...</td>\n",
       "      <td>...</td>\n",
       "      <td>...</td>\n",
       "      <td>...</td>\n",
       "      <td>...</td>\n",
       "      <td>...</td>\n",
       "      <td>...</td>\n",
       "      <td>...</td>\n",
       "      <td>...</td>\n",
       "      <td>...</td>\n",
       "      <td>...</td>\n",
       "      <td>...</td>\n",
       "      <td>...</td>\n",
       "      <td>...</td>\n",
       "      <td>...</td>\n",
       "      <td>...</td>\n",
       "      <td>...</td>\n",
       "      <td>...</td>\n",
       "      <td>...</td>\n",
       "      <td>...</td>\n",
       "      <td>...</td>\n",
       "      <td>...</td>\n",
       "    </tr>\n",
       "    <tr>\n",
       "      <th>29999</th>\n",
       "      <td>80000</td>\n",
       "      <td>1</td>\n",
       "      <td>3</td>\n",
       "      <td>1</td>\n",
       "      <td>41</td>\n",
       "      <td>1</td>\n",
       "      <td>-1</td>\n",
       "      <td>0</td>\n",
       "      <td>0</td>\n",
       "      <td>0</td>\n",
       "      <td>-1</td>\n",
       "      <td>-1645</td>\n",
       "      <td>78379</td>\n",
       "      <td>76304</td>\n",
       "      <td>52774</td>\n",
       "      <td>11855</td>\n",
       "      <td>48944</td>\n",
       "      <td>85900</td>\n",
       "      <td>3409</td>\n",
       "      <td>1178</td>\n",
       "      <td>1926</td>\n",
       "      <td>52964</td>\n",
       "      <td>1804</td>\n",
       "      <td>1</td>\n",
       "    </tr>\n",
       "    <tr>\n",
       "      <th>30000</th>\n",
       "      <td>50000</td>\n",
       "      <td>1</td>\n",
       "      <td>2</td>\n",
       "      <td>1</td>\n",
       "      <td>46</td>\n",
       "      <td>0</td>\n",
       "      <td>0</td>\n",
       "      <td>0</td>\n",
       "      <td>0</td>\n",
       "      <td>0</td>\n",
       "      <td>0</td>\n",
       "      <td>47929</td>\n",
       "      <td>48905</td>\n",
       "      <td>49764</td>\n",
       "      <td>36535</td>\n",
       "      <td>32428</td>\n",
       "      <td>15313</td>\n",
       "      <td>2078</td>\n",
       "      <td>1800</td>\n",
       "      <td>1430</td>\n",
       "      <td>1000</td>\n",
       "      <td>1000</td>\n",
       "      <td>1000</td>\n",
       "      <td>1</td>\n",
       "    </tr>\n",
       "  </tbody>\n",
       "</table>\n",
       "<p>30000 rows × 24 columns</p>\n",
       "</div>"
      ],
      "text/plain": [
       "       LIMIT_BAL  SEX  EDUCATION  MARRIAGE  AGE  PAY_0  PAY_2  PAY_3  PAY_4  \\\n",
       "ID                                                                            \n",
       "1          20000    2          2         1   24      2      2     -1     -1   \n",
       "2         120000    2          2         2   26     -1      2      0      0   \n",
       "...          ...  ...        ...       ...  ...    ...    ...    ...    ...   \n",
       "29999      80000    1          3         1   41      1     -1      0      0   \n",
       "30000      50000    1          2         1   46      0      0      0      0   \n",
       "\n",
       "       PAY_5  PAY_6  BILL_AMT1  BILL_AMT2  BILL_AMT3  BILL_AMT4  BILL_AMT5  \\\n",
       "ID                                                                           \n",
       "1         -2     -2       3913       3102        689          0          0   \n",
       "2          0      2       2682       1725       2682       3272       3455   \n",
       "...      ...    ...        ...        ...        ...        ...        ...   \n",
       "29999      0     -1      -1645      78379      76304      52774      11855   \n",
       "30000      0      0      47929      48905      49764      36535      32428   \n",
       "\n",
       "       BILL_AMT6  PAY_AMT1  PAY_AMT2  PAY_AMT3  PAY_AMT4  PAY_AMT5  PAY_AMT6  \\\n",
       "ID                                                                             \n",
       "1              0         0       689         0         0         0         0   \n",
       "2           3261         0      1000      1000      1000         0      2000   \n",
       "...          ...       ...       ...       ...       ...       ...       ...   \n",
       "29999      48944     85900      3409      1178      1926     52964      1804   \n",
       "30000      15313      2078      1800      1430      1000      1000      1000   \n",
       "\n",
       "       default payment next month  \n",
       "ID                                 \n",
       "1                               1  \n",
       "2                               1  \n",
       "...                           ...  \n",
       "29999                           1  \n",
       "30000                           1  \n",
       "\n",
       "[30000 rows x 24 columns]"
      ]
     },
     "execution_count": 9,
     "metadata": {},
     "output_type": "execute_result"
    }
   ],
   "source": [
    "df_credit"
   ]
  },
  {
   "cell_type": "code",
   "execution_count": 10,
   "metadata": {},
   "outputs": [
    {
     "data": {
      "text/html": [
       "<div>\n",
       "<style scoped>\n",
       "    .dataframe tbody tr th:only-of-type {\n",
       "        vertical-align: middle;\n",
       "    }\n",
       "\n",
       "    .dataframe tbody tr th {\n",
       "        vertical-align: top;\n",
       "    }\n",
       "\n",
       "    .dataframe thead th {\n",
       "        text-align: right;\n",
       "    }\n",
       "</style>\n",
       "<table border=\"1\" class=\"dataframe\">\n",
       "  <thead>\n",
       "    <tr style=\"text-align: right;\">\n",
       "      <th></th>\n",
       "      <th>LIMIT_BAL</th>\n",
       "      <th>SEX</th>\n",
       "      <th>EDUCATION</th>\n",
       "      <th>MARRIAGE</th>\n",
       "      <th>AGE</th>\n",
       "      <th>PAY_0</th>\n",
       "      <th>PAY_2</th>\n",
       "      <th>PAY_3</th>\n",
       "      <th>PAY_4</th>\n",
       "      <th>PAY_5</th>\n",
       "      <th>PAY_6</th>\n",
       "      <th>BILL_AMT1</th>\n",
       "      <th>BILL_AMT2</th>\n",
       "      <th>BILL_AMT3</th>\n",
       "      <th>BILL_AMT4</th>\n",
       "      <th>BILL_AMT5</th>\n",
       "      <th>BILL_AMT6</th>\n",
       "      <th>PAY_AMT1</th>\n",
       "      <th>PAY_AMT2</th>\n",
       "      <th>PAY_AMT3</th>\n",
       "      <th>PAY_AMT4</th>\n",
       "      <th>PAY_AMT5</th>\n",
       "      <th>PAY_AMT6</th>\n",
       "    </tr>\n",
       "    <tr>\n",
       "      <th>ID</th>\n",
       "      <th></th>\n",
       "      <th></th>\n",
       "      <th></th>\n",
       "      <th></th>\n",
       "      <th></th>\n",
       "      <th></th>\n",
       "      <th></th>\n",
       "      <th></th>\n",
       "      <th></th>\n",
       "      <th></th>\n",
       "      <th></th>\n",
       "      <th></th>\n",
       "      <th></th>\n",
       "      <th></th>\n",
       "      <th></th>\n",
       "      <th></th>\n",
       "      <th></th>\n",
       "      <th></th>\n",
       "      <th></th>\n",
       "      <th></th>\n",
       "      <th></th>\n",
       "      <th></th>\n",
       "      <th></th>\n",
       "    </tr>\n",
       "  </thead>\n",
       "  <tbody>\n",
       "    <tr>\n",
       "      <th>16832</th>\n",
       "      <td>120000</td>\n",
       "      <td>1</td>\n",
       "      <td>3</td>\n",
       "      <td>1</td>\n",
       "      <td>49</td>\n",
       "      <td>0</td>\n",
       "      <td>-1</td>\n",
       "      <td>-1</td>\n",
       "      <td>-1</td>\n",
       "      <td>-1</td>\n",
       "      <td>-1</td>\n",
       "      <td>119440</td>\n",
       "      <td>3844</td>\n",
       "      <td>2290</td>\n",
       "      <td>780</td>\n",
       "      <td>8190</td>\n",
       "      <td>4600</td>\n",
       "      <td>3844</td>\n",
       "      <td>2299</td>\n",
       "      <td>780</td>\n",
       "      <td>8190</td>\n",
       "      <td>4600</td>\n",
       "      <td>1081</td>\n",
       "    </tr>\n",
       "    <tr>\n",
       "      <th>4223</th>\n",
       "      <td>30000</td>\n",
       "      <td>1</td>\n",
       "      <td>1</td>\n",
       "      <td>2</td>\n",
       "      <td>38</td>\n",
       "      <td>2</td>\n",
       "      <td>0</td>\n",
       "      <td>0</td>\n",
       "      <td>0</td>\n",
       "      <td>0</td>\n",
       "      <td>0</td>\n",
       "      <td>69707</td>\n",
       "      <td>71904</td>\n",
       "      <td>62630</td>\n",
       "      <td>57406</td>\n",
       "      <td>46231</td>\n",
       "      <td>73262</td>\n",
       "      <td>4000</td>\n",
       "      <td>5000</td>\n",
       "      <td>8000</td>\n",
       "      <td>1460</td>\n",
       "      <td>40000</td>\n",
       "      <td>10000</td>\n",
       "    </tr>\n",
       "    <tr>\n",
       "      <th>...</th>\n",
       "      <td>...</td>\n",
       "      <td>...</td>\n",
       "      <td>...</td>\n",
       "      <td>...</td>\n",
       "      <td>...</td>\n",
       "      <td>...</td>\n",
       "      <td>...</td>\n",
       "      <td>...</td>\n",
       "      <td>...</td>\n",
       "      <td>...</td>\n",
       "      <td>...</td>\n",
       "      <td>...</td>\n",
       "      <td>...</td>\n",
       "      <td>...</td>\n",
       "      <td>...</td>\n",
       "      <td>...</td>\n",
       "      <td>...</td>\n",
       "      <td>...</td>\n",
       "      <td>...</td>\n",
       "      <td>...</td>\n",
       "      <td>...</td>\n",
       "      <td>...</td>\n",
       "      <td>...</td>\n",
       "    </tr>\n",
       "    <tr>\n",
       "      <th>15796</th>\n",
       "      <td>70000</td>\n",
       "      <td>2</td>\n",
       "      <td>2</td>\n",
       "      <td>2</td>\n",
       "      <td>25</td>\n",
       "      <td>0</td>\n",
       "      <td>0</td>\n",
       "      <td>0</td>\n",
       "      <td>0</td>\n",
       "      <td>2</td>\n",
       "      <td>2</td>\n",
       "      <td>73939</td>\n",
       "      <td>70488</td>\n",
       "      <td>51152</td>\n",
       "      <td>35122</td>\n",
       "      <td>28633</td>\n",
       "      <td>28039</td>\n",
       "      <td>3000</td>\n",
       "      <td>2000</td>\n",
       "      <td>4500</td>\n",
       "      <td>1200</td>\n",
       "      <td>0</td>\n",
       "      <td>1200</td>\n",
       "    </tr>\n",
       "    <tr>\n",
       "      <th>23655</th>\n",
       "      <td>160000</td>\n",
       "      <td>2</td>\n",
       "      <td>2</td>\n",
       "      <td>1</td>\n",
       "      <td>36</td>\n",
       "      <td>-2</td>\n",
       "      <td>-2</td>\n",
       "      <td>-2</td>\n",
       "      <td>-2</td>\n",
       "      <td>-2</td>\n",
       "      <td>-2</td>\n",
       "      <td>-20</td>\n",
       "      <td>-20</td>\n",
       "      <td>3640</td>\n",
       "      <td>2935</td>\n",
       "      <td>1603</td>\n",
       "      <td>14129</td>\n",
       "      <td>0</td>\n",
       "      <td>3660</td>\n",
       "      <td>3135</td>\n",
       "      <td>1650</td>\n",
       "      <td>14200</td>\n",
       "      <td>1500</td>\n",
       "    </tr>\n",
       "  </tbody>\n",
       "</table>\n",
       "<p>20100 rows × 23 columns</p>\n",
       "</div>"
      ],
      "text/plain": [
       "       LIMIT_BAL  SEX  EDUCATION  MARRIAGE  AGE  PAY_0  PAY_2  PAY_3  PAY_4  \\\n",
       "ID                                                                            \n",
       "16832     120000    1          3         1   49      0     -1     -1     -1   \n",
       "4223       30000    1          1         2   38      2      0      0      0   \n",
       "...          ...  ...        ...       ...  ...    ...    ...    ...    ...   \n",
       "15796      70000    2          2         2   25      0      0      0      0   \n",
       "23655     160000    2          2         1   36     -2     -2     -2     -2   \n",
       "\n",
       "       PAY_5  PAY_6  BILL_AMT1  BILL_AMT2  BILL_AMT3  BILL_AMT4  BILL_AMT5  \\\n",
       "ID                                                                           \n",
       "16832     -1     -1     119440       3844       2290        780       8190   \n",
       "4223       0      0      69707      71904      62630      57406      46231   \n",
       "...      ...    ...        ...        ...        ...        ...        ...   \n",
       "15796      2      2      73939      70488      51152      35122      28633   \n",
       "23655     -2     -2        -20        -20       3640       2935       1603   \n",
       "\n",
       "       BILL_AMT6  PAY_AMT1  PAY_AMT2  PAY_AMT3  PAY_AMT4  PAY_AMT5  PAY_AMT6  \n",
       "ID                                                                            \n",
       "16832       4600      3844      2299       780      8190      4600      1081  \n",
       "4223       73262      4000      5000      8000      1460     40000     10000  \n",
       "...          ...       ...       ...       ...       ...       ...       ...  \n",
       "15796      28039      3000      2000      4500      1200         0      1200  \n",
       "23655      14129         0      3660      3135      1650     14200      1500  \n",
       "\n",
       "[20100 rows x 23 columns]"
      ]
     },
     "execution_count": 10,
     "metadata": {},
     "output_type": "execute_result"
    }
   ],
   "source": [
    "X_train"
   ]
  },
  {
   "cell_type": "code",
   "execution_count": 11,
   "metadata": {},
   "outputs": [
    {
     "data": {
      "text/html": [
       "<div>\n",
       "<style scoped>\n",
       "    .dataframe tbody tr th:only-of-type {\n",
       "        vertical-align: middle;\n",
       "    }\n",
       "\n",
       "    .dataframe tbody tr th {\n",
       "        vertical-align: top;\n",
       "    }\n",
       "\n",
       "    .dataframe thead th {\n",
       "        text-align: right;\n",
       "    }\n",
       "</style>\n",
       "<table border=\"1\" class=\"dataframe\">\n",
       "  <thead>\n",
       "    <tr style=\"text-align: right;\">\n",
       "      <th></th>\n",
       "      <th>LIMIT_BAL</th>\n",
       "      <th>SEX</th>\n",
       "      <th>EDUCATION</th>\n",
       "      <th>MARRIAGE</th>\n",
       "      <th>AGE</th>\n",
       "      <th>PAY_0</th>\n",
       "      <th>PAY_2</th>\n",
       "      <th>PAY_3</th>\n",
       "      <th>PAY_4</th>\n",
       "      <th>PAY_5</th>\n",
       "      <th>PAY_6</th>\n",
       "      <th>BILL_AMT1</th>\n",
       "      <th>BILL_AMT2</th>\n",
       "      <th>BILL_AMT3</th>\n",
       "      <th>BILL_AMT4</th>\n",
       "      <th>BILL_AMT5</th>\n",
       "      <th>BILL_AMT6</th>\n",
       "      <th>PAY_AMT1</th>\n",
       "      <th>PAY_AMT2</th>\n",
       "      <th>PAY_AMT3</th>\n",
       "      <th>PAY_AMT4</th>\n",
       "      <th>PAY_AMT5</th>\n",
       "      <th>PAY_AMT6</th>\n",
       "    </tr>\n",
       "    <tr>\n",
       "      <th>ID</th>\n",
       "      <th></th>\n",
       "      <th></th>\n",
       "      <th></th>\n",
       "      <th></th>\n",
       "      <th></th>\n",
       "      <th></th>\n",
       "      <th></th>\n",
       "      <th></th>\n",
       "      <th></th>\n",
       "      <th></th>\n",
       "      <th></th>\n",
       "      <th></th>\n",
       "      <th></th>\n",
       "      <th></th>\n",
       "      <th></th>\n",
       "      <th></th>\n",
       "      <th></th>\n",
       "      <th></th>\n",
       "      <th></th>\n",
       "      <th></th>\n",
       "      <th></th>\n",
       "      <th></th>\n",
       "      <th></th>\n",
       "    </tr>\n",
       "  </thead>\n",
       "  <tbody>\n",
       "    <tr>\n",
       "      <th>2309</th>\n",
       "      <td>30000</td>\n",
       "      <td>1</td>\n",
       "      <td>2</td>\n",
       "      <td>2</td>\n",
       "      <td>25</td>\n",
       "      <td>0</td>\n",
       "      <td>0</td>\n",
       "      <td>0</td>\n",
       "      <td>0</td>\n",
       "      <td>0</td>\n",
       "      <td>0</td>\n",
       "      <td>8864</td>\n",
       "      <td>10062</td>\n",
       "      <td>11581</td>\n",
       "      <td>12580</td>\n",
       "      <td>13716</td>\n",
       "      <td>14828</td>\n",
       "      <td>1500</td>\n",
       "      <td>2000</td>\n",
       "      <td>1500</td>\n",
       "      <td>1500</td>\n",
       "      <td>1500</td>\n",
       "      <td>2000</td>\n",
       "    </tr>\n",
       "    <tr>\n",
       "      <th>22405</th>\n",
       "      <td>150000</td>\n",
       "      <td>2</td>\n",
       "      <td>1</td>\n",
       "      <td>2</td>\n",
       "      <td>26</td>\n",
       "      <td>0</td>\n",
       "      <td>0</td>\n",
       "      <td>0</td>\n",
       "      <td>0</td>\n",
       "      <td>0</td>\n",
       "      <td>0</td>\n",
       "      <td>136736</td>\n",
       "      <td>125651</td>\n",
       "      <td>116684</td>\n",
       "      <td>101581</td>\n",
       "      <td>77741</td>\n",
       "      <td>77264</td>\n",
       "      <td>4486</td>\n",
       "      <td>4235</td>\n",
       "      <td>3161</td>\n",
       "      <td>2647</td>\n",
       "      <td>2669</td>\n",
       "      <td>2669</td>\n",
       "    </tr>\n",
       "    <tr>\n",
       "      <th>...</th>\n",
       "      <td>...</td>\n",
       "      <td>...</td>\n",
       "      <td>...</td>\n",
       "      <td>...</td>\n",
       "      <td>...</td>\n",
       "      <td>...</td>\n",
       "      <td>...</td>\n",
       "      <td>...</td>\n",
       "      <td>...</td>\n",
       "      <td>...</td>\n",
       "      <td>...</td>\n",
       "      <td>...</td>\n",
       "      <td>...</td>\n",
       "      <td>...</td>\n",
       "      <td>...</td>\n",
       "      <td>...</td>\n",
       "      <td>...</td>\n",
       "      <td>...</td>\n",
       "      <td>...</td>\n",
       "      <td>...</td>\n",
       "      <td>...</td>\n",
       "      <td>...</td>\n",
       "      <td>...</td>\n",
       "    </tr>\n",
       "    <tr>\n",
       "      <th>27302</th>\n",
       "      <td>30000</td>\n",
       "      <td>1</td>\n",
       "      <td>2</td>\n",
       "      <td>2</td>\n",
       "      <td>30</td>\n",
       "      <td>0</td>\n",
       "      <td>0</td>\n",
       "      <td>0</td>\n",
       "      <td>0</td>\n",
       "      <td>-1</td>\n",
       "      <td>0</td>\n",
       "      <td>29993</td>\n",
       "      <td>29890</td>\n",
       "      <td>28561</td>\n",
       "      <td>-229</td>\n",
       "      <td>23930</td>\n",
       "      <td>26655</td>\n",
       "      <td>1856</td>\n",
       "      <td>1000</td>\n",
       "      <td>1698</td>\n",
       "      <td>24860</td>\n",
       "      <td>3500</td>\n",
       "      <td>3000</td>\n",
       "    </tr>\n",
       "    <tr>\n",
       "      <th>18452</th>\n",
       "      <td>170000</td>\n",
       "      <td>2</td>\n",
       "      <td>2</td>\n",
       "      <td>2</td>\n",
       "      <td>24</td>\n",
       "      <td>0</td>\n",
       "      <td>0</td>\n",
       "      <td>0</td>\n",
       "      <td>0</td>\n",
       "      <td>0</td>\n",
       "      <td>0</td>\n",
       "      <td>64142</td>\n",
       "      <td>54347</td>\n",
       "      <td>55677</td>\n",
       "      <td>59096</td>\n",
       "      <td>50536</td>\n",
       "      <td>15851</td>\n",
       "      <td>3000</td>\n",
       "      <td>3000</td>\n",
       "      <td>5000</td>\n",
       "      <td>10000</td>\n",
       "      <td>5000</td>\n",
       "      <td>6000</td>\n",
       "    </tr>\n",
       "  </tbody>\n",
       "</table>\n",
       "<p>9900 rows × 23 columns</p>\n",
       "</div>"
      ],
      "text/plain": [
       "       LIMIT_BAL  SEX  EDUCATION  MARRIAGE  AGE  PAY_0  PAY_2  PAY_3  PAY_4  \\\n",
       "ID                                                                            \n",
       "2309       30000    1          2         2   25      0      0      0      0   \n",
       "22405     150000    2          1         2   26      0      0      0      0   \n",
       "...          ...  ...        ...       ...  ...    ...    ...    ...    ...   \n",
       "27302      30000    1          2         2   30      0      0      0      0   \n",
       "18452     170000    2          2         2   24      0      0      0      0   \n",
       "\n",
       "       PAY_5  PAY_6  BILL_AMT1  BILL_AMT2  BILL_AMT3  BILL_AMT4  BILL_AMT5  \\\n",
       "ID                                                                           \n",
       "2309       0      0       8864      10062      11581      12580      13716   \n",
       "22405      0      0     136736     125651     116684     101581      77741   \n",
       "...      ...    ...        ...        ...        ...        ...        ...   \n",
       "27302     -1      0      29993      29890      28561       -229      23930   \n",
       "18452      0      0      64142      54347      55677      59096      50536   \n",
       "\n",
       "       BILL_AMT6  PAY_AMT1  PAY_AMT2  PAY_AMT3  PAY_AMT4  PAY_AMT5  PAY_AMT6  \n",
       "ID                                                                            \n",
       "2309       14828      1500      2000      1500      1500      1500      2000  \n",
       "22405      77264      4486      4235      3161      2647      2669      2669  \n",
       "...          ...       ...       ...       ...       ...       ...       ...  \n",
       "27302      26655      1856      1000      1698     24860      3500      3000  \n",
       "18452      15851      3000      3000      5000     10000      5000      6000  \n",
       "\n",
       "[9900 rows x 23 columns]"
      ]
     },
     "execution_count": 11,
     "metadata": {},
     "output_type": "execute_result"
    }
   ],
   "source": [
    "X_test"
   ]
  },
  {
   "cell_type": "code",
   "execution_count": 12,
   "metadata": {},
   "outputs": [
    {
     "data": {
      "text/plain": [
       "ID\n",
       "16832    1\n",
       "4223     0\n",
       "        ..\n",
       "15796    1\n",
       "23655    1\n",
       "Name: default payment next month, Length: 20100, dtype: int64"
      ]
     },
     "execution_count": 12,
     "metadata": {},
     "output_type": "execute_result"
    }
   ],
   "source": [
    "y_train"
   ]
  },
  {
   "cell_type": "code",
   "execution_count": 13,
   "metadata": {},
   "outputs": [
    {
     "data": {
      "text/plain": [
       "ID\n",
       "2309     0\n",
       "22405    0\n",
       "        ..\n",
       "27302    0\n",
       "18452    0\n",
       "Name: default payment next month, Length: 9900, dtype: int64"
      ]
     },
     "execution_count": 13,
     "metadata": {},
     "output_type": "execute_result"
    }
   ],
   "source": [
    "y_test"
   ]
  },
  {
   "cell_type": "markdown",
   "metadata": {},
   "source": [
    "## [ ] `DecisionTreeClassifier()` with Default Hyperparameters"
   ]
  },
  {
   "cell_type": "code",
   "execution_count": 14,
   "metadata": {},
   "outputs": [],
   "source": [
    "from sklearn.tree import DecisionTreeClassifier"
   ]
  },
  {
   "cell_type": "code",
   "execution_count": 15,
   "metadata": {},
   "outputs": [],
   "source": [
    "model_dt = DecisionTreeClassifier()"
   ]
  },
  {
   "cell_type": "code",
   "execution_count": 16,
   "metadata": {},
   "outputs": [
    {
     "data": {
      "text/plain": [
       "DecisionTreeClassifier()"
      ]
     },
     "execution_count": 16,
     "metadata": {},
     "output_type": "execute_result"
    }
   ],
   "source": [
    "model_dt.fit(X_train, y_train)"
   ]
  },
  {
   "cell_type": "markdown",
   "metadata": {},
   "source": [
    "### Accuracy"
   ]
  },
  {
   "cell_type": "markdown",
   "metadata": {},
   "source": [
    "#### In `train` data"
   ]
  },
  {
   "cell_type": "code",
   "execution_count": 17,
   "metadata": {},
   "outputs": [
    {
     "data": {
      "text/plain": [
       "0.9995024875621891"
      ]
     },
     "execution_count": 17,
     "metadata": {},
     "output_type": "execute_result"
    }
   ],
   "source": [
    "model_dt.score(X_train, y_train)"
   ]
  },
  {
   "cell_type": "markdown",
   "metadata": {},
   "source": [
    "#### In `test` data"
   ]
  },
  {
   "cell_type": "code",
   "execution_count": 18,
   "metadata": {},
   "outputs": [
    {
     "data": {
      "text/plain": [
       "0.7264646464646465"
      ]
     },
     "execution_count": 18,
     "metadata": {},
     "output_type": "execute_result"
    }
   ],
   "source": [
    "model_dt.score(X_test, y_test)"
   ]
  },
  {
   "cell_type": "markdown",
   "metadata": {},
   "source": [
    "### Model Visualization"
   ]
  },
  {
   "cell_type": "code",
   "execution_count": 19,
   "metadata": {},
   "outputs": [],
   "source": [
    "from sklearn.tree import plot_tree"
   ]
  },
  {
   "cell_type": "code",
   "execution_count": 20,
   "metadata": {},
   "outputs": [
    {
     "data": {
      "text/plain": [
       "Index(['LIMIT_BAL', 'SEX', 'EDUCATION', 'MARRIAGE', 'AGE', 'PAY_0', 'PAY_2',\n",
       "       'PAY_3', 'PAY_4', 'PAY_5', 'PAY_6', 'BILL_AMT1', 'BILL_AMT2',\n",
       "       'BILL_AMT3', 'BILL_AMT4', 'BILL_AMT5', 'BILL_AMT6', 'PAY_AMT1',\n",
       "       'PAY_AMT2', 'PAY_AMT3', 'PAY_AMT4', 'PAY_AMT5', 'PAY_AMT6'],\n",
       "      dtype='object')"
      ]
     },
     "execution_count": 20,
     "metadata": {},
     "output_type": "execute_result"
    }
   ],
   "source": [
    "X.columns"
   ]
  },
  {
   "cell_type": "raw",
   "metadata": {},
   "source": [
    "plot_tree(decision_tree=model_dt, feature_names=X.columns, filled=True);"
   ]
  },
  {
   "cell_type": "markdown",
   "metadata": {
    "tags": []
   },
   "source": [
    "## `DecisionTreeClassifier()` with Custom Hyperparameters"
   ]
  },
  {
   "cell_type": "markdown",
   "metadata": {},
   "source": [
    "### 1st Configuration"
   ]
  },
  {
   "cell_type": "code",
   "execution_count": 21,
   "metadata": {},
   "outputs": [],
   "source": [
    "model_dt = DecisionTreeClassifier(max_depth=4)"
   ]
  },
  {
   "cell_type": "code",
   "execution_count": 22,
   "metadata": {},
   "outputs": [
    {
     "data": {
      "text/plain": [
       "DecisionTreeClassifier(max_depth=4)"
      ]
     },
     "execution_count": 22,
     "metadata": {},
     "output_type": "execute_result"
    }
   ],
   "source": [
    "model_dt.fit(X_train, y_train)"
   ]
  },
  {
   "cell_type": "markdown",
   "metadata": {},
   "source": [
    "#### Accuracy"
   ]
  },
  {
   "cell_type": "markdown",
   "metadata": {},
   "source": [
    "##### In `train` data"
   ]
  },
  {
   "cell_type": "code",
   "execution_count": 23,
   "metadata": {},
   "outputs": [
    {
     "data": {
      "text/plain": [
       "0.8232338308457712"
      ]
     },
     "execution_count": 23,
     "metadata": {},
     "output_type": "execute_result"
    }
   ],
   "source": [
    "model_dt.score(X_train, y_train)"
   ]
  },
  {
   "cell_type": "markdown",
   "metadata": {},
   "source": [
    "##### In `test` data"
   ]
  },
  {
   "cell_type": "code",
   "execution_count": 24,
   "metadata": {},
   "outputs": [
    {
     "data": {
      "text/plain": [
       "0.8205050505050505"
      ]
     },
     "execution_count": 24,
     "metadata": {},
     "output_type": "execute_result"
    }
   ],
   "source": [
    "model_dt.score(X_test, y_test)"
   ]
  },
  {
   "cell_type": "markdown",
   "metadata": {
    "tags": []
   },
   "source": [
    "#### Model Visualization"
   ]
  },
  {
   "cell_type": "code",
   "execution_count": 25,
   "metadata": {},
   "outputs": [
    {
     "data": {
      "image/png": "[encoded data removed]",
      "text/plain": [
       "<Figure size 432x288 with 1 Axes>"
      ]
     },
     "metadata": {
      "needs_background": "light"
     },
     "output_type": "display_data"
    }
   ],
   "source": [
    "plot_tree(decision_tree=model_dt, feature_names=X.columns, filled=True);"
   ]
  },
  {
   "cell_type": "markdown",
   "metadata": {},
   "source": [
    "![](https://www.googleapis.com/download/storage/v1/b/kaggle-forum-message-attachments/o/inbox%2F4756451%2F5724f9841b58cbd7838a851ac6df659b%2Frpqa6.jpg?generation=1608831884903054&alt=media)"
   ]
  },
  {
   "cell_type": "markdown",
   "metadata": {},
   "source": [
    "### [ ] 2nd Configuration"
   ]
  },
  {
   "cell_type": "code",
   "execution_count": 26,
   "metadata": {},
   "outputs": [],
   "source": [
    "model_dt = DecisionTreeClassifier(max_depth=2)"
   ]
  },
  {
   "cell_type": "code",
   "execution_count": 27,
   "metadata": {},
   "outputs": [
    {
     "data": {
      "text/plain": [
       "DecisionTreeClassifier(max_depth=2)"
      ]
     },
     "execution_count": 27,
     "metadata": {},
     "output_type": "execute_result"
    }
   ],
   "source": [
    "model_dt.fit(X_train, y_train)"
   ]
  },
  {
   "cell_type": "markdown",
   "metadata": {},
   "source": [
    "#### Accuracy"
   ]
  },
  {
   "cell_type": "markdown",
   "metadata": {},
   "source": [
    "##### In `train` data"
   ]
  },
  {
   "cell_type": "code",
   "execution_count": 28,
   "metadata": {},
   "outputs": [
    {
     "data": {
      "text/plain": [
       "0.819452736318408"
      ]
     },
     "execution_count": 28,
     "metadata": {},
     "output_type": "execute_result"
    }
   ],
   "source": [
    "model_dt.score(X_train, y_train)"
   ]
  },
  {
   "cell_type": "markdown",
   "metadata": {},
   "source": [
    "##### In `test` data"
   ]
  },
  {
   "cell_type": "code",
   "execution_count": 29,
   "metadata": {},
   "outputs": [
    {
     "data": {
      "text/plain": [
       "0.8215151515151515"
      ]
     },
     "execution_count": 29,
     "metadata": {},
     "output_type": "execute_result"
    }
   ],
   "source": [
    "model_dt.score(X_test, y_test)"
   ]
  },
  {
   "cell_type": "markdown",
   "metadata": {
    "tags": []
   },
   "source": [
    "#### Model Visualization"
   ]
  },
  {
   "cell_type": "code",
   "execution_count": 30,
   "metadata": {},
   "outputs": [
    {
     "data": {
      "image/png": "[encoded data removed]",
      "text/plain": [
       "<Figure size 432x288 with 1 Axes>"
      ]
     },
     "metadata": {
      "needs_background": "light"
     },
     "output_type": "display_data"
    }
   ],
   "source": [
    "plot_tree(decision_tree=model_dt, feature_names=X.columns, filled=True);"
   ]
  },
  {
   "cell_type": "markdown",
   "metadata": {},
   "source": [
    "### 3rd Configuration"
   ]
  },
  {
   "cell_type": "code",
   "execution_count": 31,
   "metadata": {},
   "outputs": [],
   "source": [
    "model_dt = DecisionTreeClassifier(max_depth=4, criterion='entropy')"
   ]
  },
  {
   "cell_type": "code",
   "execution_count": 32,
   "metadata": {},
   "outputs": [
    {
     "data": {
      "text/plain": [
       "DecisionTreeClassifier(criterion='entropy', max_depth=4)"
      ]
     },
     "execution_count": 32,
     "metadata": {},
     "output_type": "execute_result"
    }
   ],
   "source": [
    "model_dt.fit(X_train, y_train)"
   ]
  },
  {
   "cell_type": "markdown",
   "metadata": {},
   "source": [
    "#### Accuracy"
   ]
  },
  {
   "cell_type": "markdown",
   "metadata": {},
   "source": [
    "##### In `train` data"
   ]
  },
  {
   "cell_type": "code",
   "execution_count": 33,
   "metadata": {},
   "outputs": [
    {
     "data": {
      "text/plain": [
       "0.8235820895522388"
      ]
     },
     "execution_count": 33,
     "metadata": {},
     "output_type": "execute_result"
    }
   ],
   "source": [
    "model_dt.score(X_train, y_train)"
   ]
  },
  {
   "cell_type": "markdown",
   "metadata": {},
   "source": [
    "##### In `test` data"
   ]
  },
  {
   "cell_type": "code",
   "execution_count": 34,
   "metadata": {},
   "outputs": [
    {
     "data": {
      "text/plain": [
       "0.8203030303030303"
      ]
     },
     "execution_count": 34,
     "metadata": {},
     "output_type": "execute_result"
    }
   ],
   "source": [
    "model_dt.score(X_test, y_test)"
   ]
  },
  {
   "cell_type": "markdown",
   "metadata": {
    "tags": []
   },
   "source": [
    "#### Model Visualization"
   ]
  },
  {
   "cell_type": "code",
   "execution_count": 35,
   "metadata": {},
   "outputs": [
    {
     "data": {
      "image/png": "[encoded data removed]",
      "text/plain": [
       "<Figure size 432x288 with 1 Axes>"
      ]
     },
     "metadata": {
      "needs_background": "light"
     },
     "output_type": "display_data"
    }
   ],
   "source": [
    "plot_tree(decision_tree=model_dt, feature_names=X.columns, filled=True);"
   ]
  },
  {
   "cell_type": "markdown",
   "metadata": {
    "tags": []
   },
   "source": [
    "### 4th Configuration"
   ]
  },
  {
   "cell_type": "code",
   "execution_count": 36,
   "metadata": {},
   "outputs": [],
   "source": [
    "model_dt = DecisionTreeClassifier(min_samples_leaf=200)"
   ]
  },
  {
   "cell_type": "code",
   "execution_count": 37,
   "metadata": {},
   "outputs": [
    {
     "data": {
      "text/plain": [
       "DecisionTreeClassifier(min_samples_leaf=200)"
      ]
     },
     "execution_count": 37,
     "metadata": {},
     "output_type": "execute_result"
    }
   ],
   "source": [
    "model_dt.fit(X_train, y_train)"
   ]
  },
  {
   "cell_type": "markdown",
   "metadata": {},
   "source": [
    "#### Accuracy"
   ]
  },
  {
   "cell_type": "markdown",
   "metadata": {},
   "source": [
    "##### In `train` data"
   ]
  },
  {
   "cell_type": "code",
   "execution_count": 38,
   "metadata": {},
   "outputs": [
    {
     "data": {
      "text/plain": [
       "0.8211940298507463"
      ]
     },
     "execution_count": 38,
     "metadata": {},
     "output_type": "execute_result"
    }
   ],
   "source": [
    "model_dt.score(X_train, y_train)"
   ]
  },
  {
   "cell_type": "markdown",
   "metadata": {},
   "source": [
    "##### In `test` data"
   ]
  },
  {
   "cell_type": "code",
   "execution_count": 39,
   "metadata": {},
   "outputs": [
    {
     "data": {
      "text/plain": [
       "0.8186868686868687"
      ]
     },
     "execution_count": 39,
     "metadata": {},
     "output_type": "execute_result"
    }
   ],
   "source": [
    "model_dt.score(X_test, y_test)"
   ]
  },
  {
   "cell_type": "markdown",
   "metadata": {
    "tags": []
   },
   "source": [
    "#### Model Visualization"
   ]
  },
  {
   "cell_type": "code",
   "execution_count": 40,
   "metadata": {},
   "outputs": [
    {
     "data": {
      "image/png": "[encoded data removed]",
      "text/plain": [
       "<Figure size 432x288 with 1 Axes>"
      ]
     },
     "metadata": {
      "needs_background": "light"
     },
     "output_type": "display_data"
    }
   ],
   "source": [
    "plot_tree(decision_tree=model_dt, feature_names=X.columns, filled=True);"
   ]
  },
  {
   "cell_type": "markdown",
   "metadata": {},
   "source": [
    "### 5th Configuration"
   ]
  },
  {
   "cell_type": "code",
   "execution_count": 41,
   "metadata": {},
   "outputs": [],
   "source": [
    "model_dt = DecisionTreeClassifier(max_depth=7, min_samples_leaf=150, criterion='entropy')"
   ]
  },
  {
   "cell_type": "code",
   "execution_count": 42,
   "metadata": {},
   "outputs": [
    {
     "data": {
      "text/plain": [
       "DecisionTreeClassifier(criterion='entropy', max_depth=7, min_samples_leaf=150)"
      ]
     },
     "execution_count": 42,
     "metadata": {},
     "output_type": "execute_result"
    }
   ],
   "source": [
    "model_dt.fit(X_train, y_train)"
   ]
  },
  {
   "cell_type": "markdown",
   "metadata": {},
   "source": [
    "#### Accuracy"
   ]
  },
  {
   "cell_type": "markdown",
   "metadata": {},
   "source": [
    "##### In `train` data"
   ]
  },
  {
   "cell_type": "code",
   "execution_count": 43,
   "metadata": {},
   "outputs": [
    {
     "data": {
      "text/plain": [
       "0.821592039800995"
      ]
     },
     "execution_count": 43,
     "metadata": {},
     "output_type": "execute_result"
    }
   ],
   "source": [
    "model_dt.score(X_train, y_train)"
   ]
  },
  {
   "cell_type": "markdown",
   "metadata": {},
   "source": [
    "##### In `test` data"
   ]
  },
  {
   "cell_type": "code",
   "execution_count": 44,
   "metadata": {},
   "outputs": [
    {
     "data": {
      "text/plain": [
       "0.8176767676767677"
      ]
     },
     "execution_count": 44,
     "metadata": {},
     "output_type": "execute_result"
    }
   ],
   "source": [
    "model_dt.score(X_test, y_test)"
   ]
  },
  {
   "cell_type": "markdown",
   "metadata": {
    "tags": []
   },
   "source": [
    "#### Model Visualization"
   ]
  },
  {
   "cell_type": "code",
   "execution_count": 45,
   "metadata": {},
   "outputs": [
    {
     "data": {
      "image/png": "[encoded data removed]",
      "text/plain": [
       "<Figure size 432x288 with 1 Axes>"
      ]
     },
     "metadata": {
      "needs_background": "light"
     },
     "output_type": "display_data"
    }
   ],
   "source": [
    "plot_tree(decision_tree=model_dt, feature_names=X.columns, filled=True);"
   ]
  },
  {
   "cell_type": "markdown",
   "metadata": {},
   "source": [
    "## [ ] `GridSearchCV()` to find Best Hyperparameters"
   ]
  },
  {
   "cell_type": "code",
   "execution_count": 46,
   "metadata": {},
   "outputs": [],
   "source": [
    "from sklearn.model_selection import GridSearchCV"
   ]
  },
  {
   "cell_type": "code",
   "execution_count": 47,
   "metadata": {},
   "outputs": [],
   "source": [
    "model_dt = DecisionTreeClassifier()"
   ]
  },
  {
   "cell_type": "code",
   "execution_count": 48,
   "metadata": {},
   "outputs": [
    {
     "data": {
      "text/plain": [
       "{'ccp_alpha': 0.0,\n",
       " 'class_weight': None,\n",
       " 'criterion': 'gini',\n",
       " 'max_depth': None,\n",
       " 'max_features': None,\n",
       " 'max_leaf_nodes': None,\n",
       " 'min_impurity_decrease': 0.0,\n",
       " 'min_samples_leaf': 1,\n",
       " 'min_samples_split': 2,\n",
       " 'min_weight_fraction_leaf': 0.0,\n",
       " 'random_state': None,\n",
       " 'splitter': 'best'}"
      ]
     },
     "execution_count": 48,
     "metadata": {},
     "output_type": "execute_result"
    }
   ],
   "source": [
    "model_dt.get_params()"
   ]
  },
  {
   "cell_type": "code",
   "execution_count": 49,
   "metadata": {},
   "outputs": [],
   "source": [
    "param_grid = {\n",
    "    'max_depth': [None, 2, 3, 4, 5, 10],\n",
    "    'min_samples_leaf': [1, 50, 100, 200, 400, 800, 1600],\n",
    "    'criterion': ['gini', 'entropy']\n",
    "}"
   ]
  },
  {
   "cell_type": "code",
   "execution_count": 50,
   "metadata": {},
   "outputs": [
    {
     "data": {
      "text/plain": [
       "84"
      ]
     },
     "execution_count": 50,
     "metadata": {},
     "output_type": "execute_result"
    }
   ],
   "source": [
    "6*7*2"
   ]
  },
  {
   "cell_type": "code",
   "execution_count": 51,
   "metadata": {},
   "outputs": [
    {
     "data": {
      "text/plain": [
       "420"
      ]
     },
     "execution_count": 51,
     "metadata": {},
     "output_type": "execute_result"
    }
   ],
   "source": [
    "6*7*2*5"
   ]
  },
  {
   "cell_type": "code",
   "execution_count": 52,
   "metadata": {},
   "outputs": [],
   "source": [
    "cv_dt = GridSearchCV(estimator=model_dt, param_grid=param_grid, verbose=2)"
   ]
  },
  {
   "cell_type": "code",
   "execution_count": 53,
   "metadata": {},
   "outputs": [
    {
     "name": "stdout",
     "output_type": "stream",
     "text": [
      "Fitting 5 folds for each of 84 candidates, totalling 420 fits\n",
      "[CV] END .criterion=gini, max_depth=None, min_samples_leaf=1; total time=   0.2s\n",
      "[CV] END .criterion=gini, max_depth=None, min_samples_leaf=1; total time=   0.2s\n",
      "[CV] END .criterion=gini, max_depth=None, min_samples_leaf=1; total time=   0.2s\n",
      "[CV] END .criterion=gini, max_depth=None, min_samples_leaf=1; total time=   0.2s\n",
      "[CV] END .criterion=gini, max_depth=None, min_samples_leaf=1; total time=   0.2s\n",
      "[CV] END criterion=gini, max_depth=None, min_samples_leaf=50; total time=   0.1s\n",
      "[CV] END criterion=gini, max_depth=None, min_samples_leaf=50; total time=   0.1s\n",
      "[CV] END criterion=gini, max_depth=None, min_samples_leaf=50; total time=   0.1s\n",
      "[CV] END criterion=gini, max_depth=None, min_samples_leaf=50; total time=   0.1s\n",
      "[CV] END criterion=gini, max_depth=None, min_samples_leaf=50; total time=   0.1s\n",
      "[CV] END criterion=gini, max_depth=None, min_samples_leaf=100; total time=   0.1s\n",
      "[CV] END criterion=gini, max_depth=None, min_samples_leaf=100; total time=   0.1s\n",
      "[CV] END criterion=gini, max_depth=None, min_samples_leaf=100; total time=   0.1s\n",
      "[CV] END criterion=gini, max_depth=None, min_samples_leaf=100; total time=   0.1s\n",
      "[CV] END criterion=gini, max_depth=None, min_samples_leaf=100; total time=   0.1s\n",
      "[CV] END criterion=gini, max_depth=None, min_samples_leaf=200; total time=   0.1s\n",
      "[CV] END criterion=gini, max_depth=None, min_samples_leaf=200; total time=   0.1s\n",
      "[CV] END criterion=gini, max_depth=None, min_samples_leaf=200; total time=   0.1s\n",
      "[CV] END criterion=gini, max_depth=None, min_samples_leaf=200; total time=   0.1s\n",
      "[CV] END criterion=gini, max_depth=None, min_samples_leaf=200; total time=   0.1s\n",
      "[CV] END criterion=gini, max_depth=None, min_samples_leaf=400; total time=   0.1s\n",
      "[CV] END criterion=gini, max_depth=None, min_samples_leaf=400; total time=   0.1s\n",
      "[CV] END criterion=gini, max_depth=None, min_samples_leaf=400; total time=   0.1s\n",
      "[CV] END criterion=gini, max_depth=None, min_samples_leaf=400; total time=   0.1s\n",
      "[CV] END criterion=gini, max_depth=None, min_samples_leaf=400; total time=   0.1s\n",
      "[CV] END criterion=gini, max_depth=None, min_samples_leaf=800; total time=   0.1s\n",
      "[CV] END criterion=gini, max_depth=None, min_samples_leaf=800; total time=   0.1s\n",
      "[CV] END criterion=gini, max_depth=None, min_samples_leaf=800; total time=   0.1s\n",
      "[CV] END criterion=gini, max_depth=None, min_samples_leaf=800; total time=   0.1s\n",
      "[CV] END criterion=gini, max_depth=None, min_samples_leaf=800; total time=   0.1s\n",
      "[CV] END criterion=gini, max_depth=None, min_samples_leaf=1600; total time=   0.1s\n",
      "[CV] END criterion=gini, max_depth=None, min_samples_leaf=1600; total time=   0.1s\n",
      "[CV] END criterion=gini, max_depth=None, min_samples_leaf=1600; total time=   0.1s\n",
      "[CV] END criterion=gini, max_depth=None, min_samples_leaf=1600; total time=   0.1s\n",
      "[CV] END criterion=gini, max_depth=None, min_samples_leaf=1600; total time=   0.1s\n",
      "[CV] END ....criterion=gini, max_depth=2, min_samples_leaf=1; total time=   0.0s\n",
      "[CV] END ....criterion=gini, max_depth=2, min_samples_leaf=1; total time=   0.0s\n",
      "[CV] END ....criterion=gini, max_depth=2, min_samples_leaf=1; total time=   0.0s\n",
      "[CV] END ....criterion=gini, max_depth=2, min_samples_leaf=1; total time=   0.0s\n",
      "[CV] END ....criterion=gini, max_depth=2, min_samples_leaf=1; total time=   0.0s\n",
      "[CV] END ...criterion=gini, max_depth=2, min_samples_leaf=50; total time=   0.0s\n",
      "[CV] END ...criterion=gini, max_depth=2, min_samples_leaf=50; total time=   0.0s\n",
      "[CV] END ...criterion=gini, max_depth=2, min_samples_leaf=50; total time=   0.0s\n",
      "[CV] END ...criterion=gini, max_depth=2, min_samples_leaf=50; total time=   0.0s\n",
      "[CV] END ...criterion=gini, max_depth=2, min_samples_leaf=50; total time=   0.0s\n",
      "[CV] END ..criterion=gini, max_depth=2, min_samples_leaf=100; total time=   0.0s\n",
      "[CV] END ..criterion=gini, max_depth=2, min_samples_leaf=100; total time=   0.0s\n",
      "[CV] END ..criterion=gini, max_depth=2, min_samples_leaf=100; total time=   0.0s\n",
      "[CV] END ..criterion=gini, max_depth=2, min_samples_leaf=100; total time=   0.0s\n",
      "[CV] END ..criterion=gini, max_depth=2, min_samples_leaf=100; total time=   0.0s\n",
      "[CV] END ..criterion=gini, max_depth=2, min_samples_leaf=200; total time=   0.0s\n",
      "[CV] END ..criterion=gini, max_depth=2, min_samples_leaf=200; total time=   0.0s\n",
      "[CV] END ..criterion=gini, max_depth=2, min_samples_leaf=200; total time=   0.0s\n",
      "[CV] END ..criterion=gini, max_depth=2, min_samples_leaf=200; total time=   0.0s\n",
      "[CV] END ..criterion=gini, max_depth=2, min_samples_leaf=200; total time=   0.0s\n",
      "[CV] END ..criterion=gini, max_depth=2, min_samples_leaf=400; total time=   0.0s\n",
      "[CV] END ..criterion=gini, max_depth=2, min_samples_leaf=400; total time=   0.0s\n",
      "[CV] END ..criterion=gini, max_depth=2, min_samples_leaf=400; total time=   0.0s\n",
      "[CV] END ..criterion=gini, max_depth=2, min_samples_leaf=400; total time=   0.0s\n",
      "[CV] END ..criterion=gini, max_depth=2, min_samples_leaf=400; total time=   0.0s\n",
      "[CV] END ..criterion=gini, max_depth=2, min_samples_leaf=800; total time=   0.0s\n",
      "[CV] END ..criterion=gini, max_depth=2, min_samples_leaf=800; total time=   0.0s\n",
      "[CV] END ..criterion=gini, max_depth=2, min_samples_leaf=800; total time=   0.0s\n",
      "[CV] END ..criterion=gini, max_depth=2, min_samples_leaf=800; total time=   0.0s\n",
      "[CV] END ..criterion=gini, max_depth=2, min_samples_leaf=800; total time=   0.0s\n",
      "[CV] END .criterion=gini, max_depth=2, min_samples_leaf=1600; total time=   0.0s\n",
      "[CV] END .criterion=gini, max_depth=2, min_samples_leaf=1600; total time=   0.0s\n",
      "[CV] END .criterion=gini, max_depth=2, min_samples_leaf=1600; total time=   0.0s\n",
      "[CV] END .criterion=gini, max_depth=2, min_samples_leaf=1600; total time=   0.0s\n",
      "[CV] END .criterion=gini, max_depth=2, min_samples_leaf=1600; total time=   0.0s\n",
      "[CV] END ....criterion=gini, max_depth=3, min_samples_leaf=1; total time=   0.0s\n",
      "[CV] END ....criterion=gini, max_depth=3, min_samples_leaf=1; total time=   0.0s\n",
      "[CV] END ....criterion=gini, max_depth=3, min_samples_leaf=1; total time=   0.0s\n",
      "[CV] END ....criterion=gini, max_depth=3, min_samples_leaf=1; total time=   0.0s\n",
      "[CV] END ....criterion=gini, max_depth=3, min_samples_leaf=1; total time=   0.0s\n",
      "[CV] END ...criterion=gini, max_depth=3, min_samples_leaf=50; total time=   0.0s\n",
      "[CV] END ...criterion=gini, max_depth=3, min_samples_leaf=50; total time=   0.0s\n",
      "[CV] END ...criterion=gini, max_depth=3, min_samples_leaf=50; total time=   0.0s\n",
      "[CV] END ...criterion=gini, max_depth=3, min_samples_leaf=50; total time=   0.0s\n",
      "[CV] END ...criterion=gini, max_depth=3, min_samples_leaf=50; total time=   0.0s\n",
      "[CV] END ..criterion=gini, max_depth=3, min_samples_leaf=100; total time=   0.0s\n",
      "[CV] END ..criterion=gini, max_depth=3, min_samples_leaf=100; total time=   0.0s\n",
      "[CV] END ..criterion=gini, max_depth=3, min_samples_leaf=100; total time=   0.0s\n",
      "[CV] END ..criterion=gini, max_depth=3, min_samples_leaf=100; total time=   0.0s\n",
      "[CV] END ..criterion=gini, max_depth=3, min_samples_leaf=100; total time=   0.0s\n",
      "[CV] END ..criterion=gini, max_depth=3, min_samples_leaf=200; total time=   0.0s\n",
      "[CV] END ..criterion=gini, max_depth=3, min_samples_leaf=200; total time=   0.0s\n",
      "[CV] END ..criterion=gini, max_depth=3, min_samples_leaf=200; total time=   0.0s\n",
      "[CV] END ..criterion=gini, max_depth=3, min_samples_leaf=200; total time=   0.0s\n",
      "[CV] END ..criterion=gini, max_depth=3, min_samples_leaf=200; total time=   0.0s\n",
      "[CV] END ..criterion=gini, max_depth=3, min_samples_leaf=400; total time=   0.0s\n",
      "[CV] END ..criterion=gini, max_depth=3, min_samples_leaf=400; total time=   0.0s\n",
      "[CV] END ..criterion=gini, max_depth=3, min_samples_leaf=400; total time=   0.0s\n",
      "[CV] END ..criterion=gini, max_depth=3, min_samples_leaf=400; total time=   0.0s\n",
      "[CV] END ..criterion=gini, max_depth=3, min_samples_leaf=400; total time=   0.0s\n",
      "[CV] END ..criterion=gini, max_depth=3, min_samples_leaf=800; total time=   0.0s\n",
      "[CV] END ..criterion=gini, max_depth=3, min_samples_leaf=800; total time=   0.0s\n",
      "[CV] END ..criterion=gini, max_depth=3, min_samples_leaf=800; total time=   0.0s\n",
      "[CV] END ..criterion=gini, max_depth=3, min_samples_leaf=800; total time=   0.0s\n",
      "[CV] END ..criterion=gini, max_depth=3, min_samples_leaf=800; total time=   0.0s\n",
      "[CV] END .criterion=gini, max_depth=3, min_samples_leaf=1600; total time=   0.0s\n",
      "[CV] END .criterion=gini, max_depth=3, min_samples_leaf=1600; total time=   0.0s\n",
      "[CV] END .criterion=gini, max_depth=3, min_samples_leaf=1600; total time=   0.0s\n",
      "[CV] END .criterion=gini, max_depth=3, min_samples_leaf=1600; total time=   0.0s\n",
      "[CV] END .criterion=gini, max_depth=3, min_samples_leaf=1600; total time=   0.0s\n",
      "[CV] END ....criterion=gini, max_depth=4, min_samples_leaf=1; total time=   0.1s\n",
      "[CV] END ....criterion=gini, max_depth=4, min_samples_leaf=1; total time=   0.1s\n",
      "[CV] END ....criterion=gini, max_depth=4, min_samples_leaf=1; total time=   0.1s\n",
      "[CV] END ....criterion=gini, max_depth=4, min_samples_leaf=1; total time=   0.1s\n",
      "[CV] END ....criterion=gini, max_depth=4, min_samples_leaf=1; total time=   0.1s\n",
      "[CV] END ...criterion=gini, max_depth=4, min_samples_leaf=50; total time=   0.1s\n",
      "[CV] END ...criterion=gini, max_depth=4, min_samples_leaf=50; total time=   0.1s\n",
      "[CV] END ...criterion=gini, max_depth=4, min_samples_leaf=50; total time=   0.1s\n",
      "[CV] END ...criterion=gini, max_depth=4, min_samples_leaf=50; total time=   0.1s\n",
      "[CV] END ...criterion=gini, max_depth=4, min_samples_leaf=50; total time=   0.1s\n",
      "[CV] END ..criterion=gini, max_depth=4, min_samples_leaf=100; total time=   0.1s\n",
      "[CV] END ..criterion=gini, max_depth=4, min_samples_leaf=100; total time=   0.1s\n",
      "[CV] END ..criterion=gini, max_depth=4, min_samples_leaf=100; total time=   0.1s\n",
      "[CV] END ..criterion=gini, max_depth=4, min_samples_leaf=100; total time=   0.1s\n",
      "[CV] END ..criterion=gini, max_depth=4, min_samples_leaf=100; total time=   0.1s\n",
      "[CV] END ..criterion=gini, max_depth=4, min_samples_leaf=200; total time=   0.1s\n",
      "[CV] END ..criterion=gini, max_depth=4, min_samples_leaf=200; total time=   0.1s\n",
      "[CV] END ..criterion=gini, max_depth=4, min_samples_leaf=200; total time=   0.1s\n",
      "[CV] END ..criterion=gini, max_depth=4, min_samples_leaf=200; total time=   0.1s\n",
      "[CV] END ..criterion=gini, max_depth=4, min_samples_leaf=200; total time=   0.1s\n",
      "[CV] END ..criterion=gini, max_depth=4, min_samples_leaf=400; total time=   0.1s\n",
      "[CV] END ..criterion=gini, max_depth=4, min_samples_leaf=400; total time=   0.1s\n",
      "[CV] END ..criterion=gini, max_depth=4, min_samples_leaf=400; total time=   0.1s\n",
      "[CV] END ..criterion=gini, max_depth=4, min_samples_leaf=400; total time=   0.1s\n",
      "[CV] END ..criterion=gini, max_depth=4, min_samples_leaf=400; total time=   0.1s\n",
      "[CV] END ..criterion=gini, max_depth=4, min_samples_leaf=800; total time=   0.1s\n",
      "[CV] END ..criterion=gini, max_depth=4, min_samples_leaf=800; total time=   0.1s\n",
      "[CV] END ..criterion=gini, max_depth=4, min_samples_leaf=800; total time=   0.0s\n",
      "[CV] END ..criterion=gini, max_depth=4, min_samples_leaf=800; total time=   0.0s\n",
      "[CV] END ..criterion=gini, max_depth=4, min_samples_leaf=800; total time=   0.1s\n",
      "[CV] END .criterion=gini, max_depth=4, min_samples_leaf=1600; total time=   0.0s\n",
      "[CV] END .criterion=gini, max_depth=4, min_samples_leaf=1600; total time=   0.0s\n",
      "[CV] END .criterion=gini, max_depth=4, min_samples_leaf=1600; total time=   0.0s\n",
      "[CV] END .criterion=gini, max_depth=4, min_samples_leaf=1600; total time=   0.0s\n",
      "[CV] END .criterion=gini, max_depth=4, min_samples_leaf=1600; total time=   0.0s\n",
      "[CV] END ....criterion=gini, max_depth=5, min_samples_leaf=1; total time=   0.1s\n",
      "[CV] END ....criterion=gini, max_depth=5, min_samples_leaf=1; total time=   0.1s\n",
      "[CV] END ....criterion=gini, max_depth=5, min_samples_leaf=1; total time=   0.1s\n",
      "[CV] END ....criterion=gini, max_depth=5, min_samples_leaf=1; total time=   0.1s\n",
      "[CV] END ....criterion=gini, max_depth=5, min_samples_leaf=1; total time=   0.1s\n",
      "[CV] END ...criterion=gini, max_depth=5, min_samples_leaf=50; total time=   0.1s\n",
      "[CV] END ...criterion=gini, max_depth=5, min_samples_leaf=50; total time=   0.1s\n",
      "[CV] END ...criterion=gini, max_depth=5, min_samples_leaf=50; total time=   0.1s\n",
      "[CV] END ...criterion=gini, max_depth=5, min_samples_leaf=50; total time=   0.1s\n",
      "[CV] END ...criterion=gini, max_depth=5, min_samples_leaf=50; total time=   0.1s\n",
      "[CV] END ..criterion=gini, max_depth=5, min_samples_leaf=100; total time=   0.1s\n",
      "[CV] END ..criterion=gini, max_depth=5, min_samples_leaf=100; total time=   0.1s\n",
      "[CV] END ..criterion=gini, max_depth=5, min_samples_leaf=100; total time=   0.1s\n",
      "[CV] END ..criterion=gini, max_depth=5, min_samples_leaf=100; total time=   0.1s\n",
      "[CV] END ..criterion=gini, max_depth=5, min_samples_leaf=100; total time=   0.1s\n",
      "[CV] END ..criterion=gini, max_depth=5, min_samples_leaf=200; total time=   0.1s\n",
      "[CV] END ..criterion=gini, max_depth=5, min_samples_leaf=200; total time=   0.1s\n",
      "[CV] END ..criterion=gini, max_depth=5, min_samples_leaf=200; total time=   0.1s\n",
      "[CV] END ..criterion=gini, max_depth=5, min_samples_leaf=200; total time=   0.1s\n",
      "[CV] END ..criterion=gini, max_depth=5, min_samples_leaf=200; total time=   0.1s\n",
      "[CV] END ..criterion=gini, max_depth=5, min_samples_leaf=400; total time=   0.1s\n",
      "[CV] END ..criterion=gini, max_depth=5, min_samples_leaf=400; total time=   0.1s\n",
      "[CV] END ..criterion=gini, max_depth=5, min_samples_leaf=400; total time=   0.1s\n",
      "[CV] END ..criterion=gini, max_depth=5, min_samples_leaf=400; total time=   0.1s\n",
      "[CV] END ..criterion=gini, max_depth=5, min_samples_leaf=400; total time=   0.1s\n",
      "[CV] END ..criterion=gini, max_depth=5, min_samples_leaf=800; total time=   0.1s\n",
      "[CV] END ..criterion=gini, max_depth=5, min_samples_leaf=800; total time=   0.1s\n",
      "[CV] END ..criterion=gini, max_depth=5, min_samples_leaf=800; total time=   0.1s\n",
      "[CV] END ..criterion=gini, max_depth=5, min_samples_leaf=800; total time=   0.1s\n",
      "[CV] END ..criterion=gini, max_depth=5, min_samples_leaf=800; total time=   0.1s\n",
      "[CV] END .criterion=gini, max_depth=5, min_samples_leaf=1600; total time=   0.1s\n",
      "[CV] END .criterion=gini, max_depth=5, min_samples_leaf=1600; total time=   0.1s\n",
      "[CV] END .criterion=gini, max_depth=5, min_samples_leaf=1600; total time=   0.1s\n",
      "[CV] END .criterion=gini, max_depth=5, min_samples_leaf=1600; total time=   0.1s\n",
      "[CV] END .criterion=gini, max_depth=5, min_samples_leaf=1600; total time=   0.1s\n",
      "[CV] END ...criterion=gini, max_depth=10, min_samples_leaf=1; total time=   0.1s\n",
      "[CV] END ...criterion=gini, max_depth=10, min_samples_leaf=1; total time=   0.1s\n",
      "[CV] END ...criterion=gini, max_depth=10, min_samples_leaf=1; total time=   0.1s\n",
      "[CV] END ...criterion=gini, max_depth=10, min_samples_leaf=1; total time=   0.1s\n",
      "[CV] END ...criterion=gini, max_depth=10, min_samples_leaf=1; total time=   0.1s\n",
      "[CV] END ..criterion=gini, max_depth=10, min_samples_leaf=50; total time=   0.1s\n",
      "[CV] END ..criterion=gini, max_depth=10, min_samples_leaf=50; total time=   0.1s\n",
      "[CV] END ..criterion=gini, max_depth=10, min_samples_leaf=50; total time=   0.1s\n",
      "[CV] END ..criterion=gini, max_depth=10, min_samples_leaf=50; total time=   0.1s\n",
      "[CV] END ..criterion=gini, max_depth=10, min_samples_leaf=50; total time=   0.1s\n",
      "[CV] END .criterion=gini, max_depth=10, min_samples_leaf=100; total time=   0.1s\n",
      "[CV] END .criterion=gini, max_depth=10, min_samples_leaf=100; total time=   0.1s\n",
      "[CV] END .criterion=gini, max_depth=10, min_samples_leaf=100; total time=   0.1s\n",
      "[CV] END .criterion=gini, max_depth=10, min_samples_leaf=100; total time=   0.1s\n",
      "[CV] END .criterion=gini, max_depth=10, min_samples_leaf=100; total time=   0.1s\n",
      "[CV] END .criterion=gini, max_depth=10, min_samples_leaf=200; total time=   0.1s\n",
      "[CV] END .criterion=gini, max_depth=10, min_samples_leaf=200; total time=   0.1s\n",
      "[CV] END .criterion=gini, max_depth=10, min_samples_leaf=200; total time=   0.1s\n",
      "[CV] END .criterion=gini, max_depth=10, min_samples_leaf=200; total time=   0.1s\n",
      "[CV] END .criterion=gini, max_depth=10, min_samples_leaf=200; total time=   0.1s\n",
      "[CV] END .criterion=gini, max_depth=10, min_samples_leaf=400; total time=   0.1s\n",
      "[CV] END .criterion=gini, max_depth=10, min_samples_leaf=400; total time=   0.1s\n",
      "[CV] END .criterion=gini, max_depth=10, min_samples_leaf=400; total time=   0.1s\n",
      "[CV] END .criterion=gini, max_depth=10, min_samples_leaf=400; total time=   0.1s\n",
      "[CV] END .criterion=gini, max_depth=10, min_samples_leaf=400; total time=   0.1s\n",
      "[CV] END .criterion=gini, max_depth=10, min_samples_leaf=800; total time=   0.1s\n",
      "[CV] END .criterion=gini, max_depth=10, min_samples_leaf=800; total time=   0.1s\n",
      "[CV] END .criterion=gini, max_depth=10, min_samples_leaf=800; total time=   0.1s\n",
      "[CV] END .criterion=gini, max_depth=10, min_samples_leaf=800; total time=   0.1s\n",
      "[CV] END .criterion=gini, max_depth=10, min_samples_leaf=800; total time=   0.1s\n",
      "[CV] END criterion=gini, max_depth=10, min_samples_leaf=1600; total time=   0.1s\n",
      "[CV] END criterion=gini, max_depth=10, min_samples_leaf=1600; total time=   0.1s\n",
      "[CV] END criterion=gini, max_depth=10, min_samples_leaf=1600; total time=   0.1s\n",
      "[CV] END criterion=gini, max_depth=10, min_samples_leaf=1600; total time=   0.1s\n",
      "[CV] END criterion=gini, max_depth=10, min_samples_leaf=1600; total time=   0.1s\n",
      "[CV] END criterion=entropy, max_depth=None, min_samples_leaf=1; total time=   0.2s\n",
      "[CV] END criterion=entropy, max_depth=None, min_samples_leaf=1; total time=   0.2s\n",
      "[CV] END criterion=entropy, max_depth=None, min_samples_leaf=1; total time=   0.2s\n",
      "[CV] END criterion=entropy, max_depth=None, min_samples_leaf=1; total time=   0.2s\n",
      "[CV] END criterion=entropy, max_depth=None, min_samples_leaf=1; total time=   0.2s\n",
      "[CV] END criterion=entropy, max_depth=None, min_samples_leaf=50; total time=   0.1s\n",
      "[CV] END criterion=entropy, max_depth=None, min_samples_leaf=50; total time=   0.1s\n",
      "[CV] END criterion=entropy, max_depth=None, min_samples_leaf=50; total time=   0.1s\n",
      "[CV] END criterion=entropy, max_depth=None, min_samples_leaf=50; total time=   0.2s\n",
      "[CV] END criterion=entropy, max_depth=None, min_samples_leaf=50; total time=   0.2s\n",
      "[CV] END criterion=entropy, max_depth=None, min_samples_leaf=100; total time=   0.1s\n",
      "[CV] END criterion=entropy, max_depth=None, min_samples_leaf=100; total time=   0.1s\n",
      "[CV] END criterion=entropy, max_depth=None, min_samples_leaf=100; total time=   0.1s\n",
      "[CV] END criterion=entropy, max_depth=None, min_samples_leaf=100; total time=   0.1s\n",
      "[CV] END criterion=entropy, max_depth=None, min_samples_leaf=100; total time=   0.1s\n",
      "[CV] END criterion=entropy, max_depth=None, min_samples_leaf=200; total time=   0.1s\n",
      "[CV] END criterion=entropy, max_depth=None, min_samples_leaf=200; total time=   0.1s\n",
      "[CV] END criterion=entropy, max_depth=None, min_samples_leaf=200; total time=   0.1s\n",
      "[CV] END criterion=entropy, max_depth=None, min_samples_leaf=200; total time=   0.1s\n",
      "[CV] END criterion=entropy, max_depth=None, min_samples_leaf=200; total time=   0.1s\n",
      "[CV] END criterion=entropy, max_depth=None, min_samples_leaf=400; total time=   0.1s\n",
      "[CV] END criterion=entropy, max_depth=None, min_samples_leaf=400; total time=   0.1s\n",
      "[CV] END criterion=entropy, max_depth=None, min_samples_leaf=400; total time=   0.1s\n",
      "[CV] END criterion=entropy, max_depth=None, min_samples_leaf=400; total time=   0.1s\n",
      "[CV] END criterion=entropy, max_depth=None, min_samples_leaf=400; total time=   0.1s\n",
      "[CV] END criterion=entropy, max_depth=None, min_samples_leaf=800; total time=   0.1s\n",
      "[CV] END criterion=entropy, max_depth=None, min_samples_leaf=800; total time=   0.1s\n",
      "[CV] END criterion=entropy, max_depth=None, min_samples_leaf=800; total time=   0.1s\n",
      "[CV] END criterion=entropy, max_depth=None, min_samples_leaf=800; total time=   0.1s\n",
      "[CV] END criterion=entropy, max_depth=None, min_samples_leaf=800; total time=   0.1s\n",
      "[CV] END criterion=entropy, max_depth=None, min_samples_leaf=1600; total time=   0.1s\n",
      "[CV] END criterion=entropy, max_depth=None, min_samples_leaf=1600; total time=   0.1s\n",
      "[CV] END criterion=entropy, max_depth=None, min_samples_leaf=1600; total time=   0.1s\n",
      "[CV] END criterion=entropy, max_depth=None, min_samples_leaf=1600; total time=   0.1s\n",
      "[CV] END criterion=entropy, max_depth=None, min_samples_leaf=1600; total time=   0.1s\n",
      "[CV] END .criterion=entropy, max_depth=2, min_samples_leaf=1; total time=   0.0s\n",
      "[CV] END .criterion=entropy, max_depth=2, min_samples_leaf=1; total time=   0.0s\n",
      "[CV] END .criterion=entropy, max_depth=2, min_samples_leaf=1; total time=   0.0s\n",
      "[CV] END .criterion=entropy, max_depth=2, min_samples_leaf=1; total time=   0.0s\n",
      "[CV] END .criterion=entropy, max_depth=2, min_samples_leaf=1; total time=   0.0s\n",
      "[CV] END criterion=entropy, max_depth=2, min_samples_leaf=50; total time=   0.0s\n",
      "[CV] END criterion=entropy, max_depth=2, min_samples_leaf=50; total time=   0.0s\n",
      "[CV] END criterion=entropy, max_depth=2, min_samples_leaf=50; total time=   0.0s\n",
      "[CV] END criterion=entropy, max_depth=2, min_samples_leaf=50; total time=   0.0s\n",
      "[CV] END criterion=entropy, max_depth=2, min_samples_leaf=50; total time=   0.0s\n",
      "[CV] END criterion=entropy, max_depth=2, min_samples_leaf=100; total time=   0.0s\n",
      "[CV] END criterion=entropy, max_depth=2, min_samples_leaf=100; total time=   0.0s\n",
      "[CV] END criterion=entropy, max_depth=2, min_samples_leaf=100; total time=   0.0s\n",
      "[CV] END criterion=entropy, max_depth=2, min_samples_leaf=100; total time=   0.0s\n",
      "[CV] END criterion=entropy, max_depth=2, min_samples_leaf=100; total time=   0.0s\n",
      "[CV] END criterion=entropy, max_depth=2, min_samples_leaf=200; total time=   0.0s\n",
      "[CV] END criterion=entropy, max_depth=2, min_samples_leaf=200; total time=   0.0s\n",
      "[CV] END criterion=entropy, max_depth=2, min_samples_leaf=200; total time=   0.0s\n",
      "[CV] END criterion=entropy, max_depth=2, min_samples_leaf=200; total time=   0.0s\n",
      "[CV] END criterion=entropy, max_depth=2, min_samples_leaf=200; total time=   0.0s\n",
      "[CV] END criterion=entropy, max_depth=2, min_samples_leaf=400; total time=   0.0s\n",
      "[CV] END criterion=entropy, max_depth=2, min_samples_leaf=400; total time=   0.0s\n",
      "[CV] END criterion=entropy, max_depth=2, min_samples_leaf=400; total time=   0.0s\n",
      "[CV] END criterion=entropy, max_depth=2, min_samples_leaf=400; total time=   0.0s\n",
      "[CV] END criterion=entropy, max_depth=2, min_samples_leaf=400; total time=   0.0s\n",
      "[CV] END criterion=entropy, max_depth=2, min_samples_leaf=800; total time=   0.0s\n",
      "[CV] END criterion=entropy, max_depth=2, min_samples_leaf=800; total time=   0.0s\n",
      "[CV] END criterion=entropy, max_depth=2, min_samples_leaf=800; total time=   0.0s\n",
      "[CV] END criterion=entropy, max_depth=2, min_samples_leaf=800; total time=   0.0s\n",
      "[CV] END criterion=entropy, max_depth=2, min_samples_leaf=800; total time=   0.0s\n",
      "[CV] END criterion=entropy, max_depth=2, min_samples_leaf=1600; total time=   0.0s\n",
      "[CV] END criterion=entropy, max_depth=2, min_samples_leaf=1600; total time=   0.0s\n",
      "[CV] END criterion=entropy, max_depth=2, min_samples_leaf=1600; total time=   0.0s\n",
      "[CV] END criterion=entropy, max_depth=2, min_samples_leaf=1600; total time=   0.0s\n",
      "[CV] END criterion=entropy, max_depth=2, min_samples_leaf=1600; total time=   0.0s\n",
      "[CV] END .criterion=entropy, max_depth=3, min_samples_leaf=1; total time=   0.0s\n",
      "[CV] END .criterion=entropy, max_depth=3, min_samples_leaf=1; total time=   0.0s\n",
      "[CV] END .criterion=entropy, max_depth=3, min_samples_leaf=1; total time=   0.0s\n",
      "[CV] END .criterion=entropy, max_depth=3, min_samples_leaf=1; total time=   0.0s\n",
      "[CV] END .criterion=entropy, max_depth=3, min_samples_leaf=1; total time=   0.0s\n",
      "[CV] END criterion=entropy, max_depth=3, min_samples_leaf=50; total time=   0.0s\n",
      "[CV] END criterion=entropy, max_depth=3, min_samples_leaf=50; total time=   0.0s\n",
      "[CV] END criterion=entropy, max_depth=3, min_samples_leaf=50; total time=   0.0s\n",
      "[CV] END criterion=entropy, max_depth=3, min_samples_leaf=50; total time=   0.0s\n",
      "[CV] END criterion=entropy, max_depth=3, min_samples_leaf=50; total time=   0.0s\n",
      "[CV] END criterion=entropy, max_depth=3, min_samples_leaf=100; total time=   0.0s\n",
      "[CV] END criterion=entropy, max_depth=3, min_samples_leaf=100; total time=   0.0s\n",
      "[CV] END criterion=entropy, max_depth=3, min_samples_leaf=100; total time=   0.0s\n",
      "[CV] END criterion=entropy, max_depth=3, min_samples_leaf=100; total time=   0.0s\n",
      "[CV] END criterion=entropy, max_depth=3, min_samples_leaf=100; total time=   0.0s\n",
      "[CV] END criterion=entropy, max_depth=3, min_samples_leaf=200; total time=   0.0s\n",
      "[CV] END criterion=entropy, max_depth=3, min_samples_leaf=200; total time=   0.0s\n",
      "[CV] END criterion=entropy, max_depth=3, min_samples_leaf=200; total time=   0.0s\n",
      "[CV] END criterion=entropy, max_depth=3, min_samples_leaf=200; total time=   0.0s\n",
      "[CV] END criterion=entropy, max_depth=3, min_samples_leaf=200; total time=   0.0s\n",
      "[CV] END criterion=entropy, max_depth=3, min_samples_leaf=400; total time=   0.0s\n",
      "[CV] END criterion=entropy, max_depth=3, min_samples_leaf=400; total time=   0.0s\n",
      "[CV] END criterion=entropy, max_depth=3, min_samples_leaf=400; total time=   0.0s\n",
      "[CV] END criterion=entropy, max_depth=3, min_samples_leaf=400; total time=   0.0s\n",
      "[CV] END criterion=entropy, max_depth=3, min_samples_leaf=400; total time=   0.0s\n",
      "[CV] END criterion=entropy, max_depth=3, min_samples_leaf=800; total time=   0.0s\n",
      "[CV] END criterion=entropy, max_depth=3, min_samples_leaf=800; total time=   0.0s\n",
      "[CV] END criterion=entropy, max_depth=3, min_samples_leaf=800; total time=   0.0s\n",
      "[CV] END criterion=entropy, max_depth=3, min_samples_leaf=800; total time=   0.0s\n",
      "[CV] END criterion=entropy, max_depth=3, min_samples_leaf=800; total time=   0.0s\n",
      "[CV] END criterion=entropy, max_depth=3, min_samples_leaf=1600; total time=   0.0s\n",
      "[CV] END criterion=entropy, max_depth=3, min_samples_leaf=1600; total time=   0.0s\n",
      "[CV] END criterion=entropy, max_depth=3, min_samples_leaf=1600; total time=   0.0s\n",
      "[CV] END criterion=entropy, max_depth=3, min_samples_leaf=1600; total time=   0.0s\n",
      "[CV] END criterion=entropy, max_depth=3, min_samples_leaf=1600; total time=   0.0s\n",
      "[CV] END .criterion=entropy, max_depth=4, min_samples_leaf=1; total time=   0.1s\n",
      "[CV] END .criterion=entropy, max_depth=4, min_samples_leaf=1; total time=   0.1s\n",
      "[CV] END .criterion=entropy, max_depth=4, min_samples_leaf=1; total time=   0.1s\n",
      "[CV] END .criterion=entropy, max_depth=4, min_samples_leaf=1; total time=   0.1s\n",
      "[CV] END .criterion=entropy, max_depth=4, min_samples_leaf=1; total time=   0.1s\n",
      "[CV] END criterion=entropy, max_depth=4, min_samples_leaf=50; total time=   0.1s\n",
      "[CV] END criterion=entropy, max_depth=4, min_samples_leaf=50; total time=   0.1s\n",
      "[CV] END criterion=entropy, max_depth=4, min_samples_leaf=50; total time=   0.1s\n",
      "[CV] END criterion=entropy, max_depth=4, min_samples_leaf=50; total time=   0.1s\n",
      "[CV] END criterion=entropy, max_depth=4, min_samples_leaf=50; total time=   0.1s\n",
      "[CV] END criterion=entropy, max_depth=4, min_samples_leaf=100; total time=   0.1s\n",
      "[CV] END criterion=entropy, max_depth=4, min_samples_leaf=100; total time=   0.1s\n",
      "[CV] END criterion=entropy, max_depth=4, min_samples_leaf=100; total time=   0.1s\n",
      "[CV] END criterion=entropy, max_depth=4, min_samples_leaf=100; total time=   0.1s\n",
      "[CV] END criterion=entropy, max_depth=4, min_samples_leaf=100; total time=   0.1s\n",
      "[CV] END criterion=entropy, max_depth=4, min_samples_leaf=200; total time=   0.1s\n",
      "[CV] END criterion=entropy, max_depth=4, min_samples_leaf=200; total time=   0.1s\n",
      "[CV] END criterion=entropy, max_depth=4, min_samples_leaf=200; total time=   0.1s\n",
      "[CV] END criterion=entropy, max_depth=4, min_samples_leaf=200; total time=   0.1s\n",
      "[CV] END criterion=entropy, max_depth=4, min_samples_leaf=200; total time=   0.1s\n",
      "[CV] END criterion=entropy, max_depth=4, min_samples_leaf=400; total time=   0.1s\n",
      "[CV] END criterion=entropy, max_depth=4, min_samples_leaf=400; total time=   0.1s\n",
      "[CV] END criterion=entropy, max_depth=4, min_samples_leaf=400; total time=   0.1s\n",
      "[CV] END criterion=entropy, max_depth=4, min_samples_leaf=400; total time=   0.1s\n",
      "[CV] END criterion=entropy, max_depth=4, min_samples_leaf=400; total time=   0.1s\n",
      "[CV] END criterion=entropy, max_depth=4, min_samples_leaf=800; total time=   0.1s\n",
      "[CV] END criterion=entropy, max_depth=4, min_samples_leaf=800; total time=   0.1s\n",
      "[CV] END criterion=entropy, max_depth=4, min_samples_leaf=800; total time=   0.1s\n",
      "[CV] END criterion=entropy, max_depth=4, min_samples_leaf=800; total time=   0.1s\n",
      "[CV] END criterion=entropy, max_depth=4, min_samples_leaf=800; total time=   0.1s\n",
      "[CV] END criterion=entropy, max_depth=4, min_samples_leaf=1600; total time=   0.1s\n",
      "[CV] END criterion=entropy, max_depth=4, min_samples_leaf=1600; total time=   0.1s\n",
      "[CV] END criterion=entropy, max_depth=4, min_samples_leaf=1600; total time=   0.1s\n",
      "[CV] END criterion=entropy, max_depth=4, min_samples_leaf=1600; total time=   0.1s\n",
      "[CV] END criterion=entropy, max_depth=4, min_samples_leaf=1600; total time=   0.1s\n",
      "[CV] END .criterion=entropy, max_depth=5, min_samples_leaf=1; total time=   0.1s\n",
      "[CV] END .criterion=entropy, max_depth=5, min_samples_leaf=1; total time=   0.1s\n",
      "[CV] END .criterion=entropy, max_depth=5, min_samples_leaf=1; total time=   0.1s\n",
      "[CV] END .criterion=entropy, max_depth=5, min_samples_leaf=1; total time=   0.1s\n",
      "[CV] END .criterion=entropy, max_depth=5, min_samples_leaf=1; total time=   0.1s\n",
      "[CV] END criterion=entropy, max_depth=5, min_samples_leaf=50; total time=   0.1s\n",
      "[CV] END criterion=entropy, max_depth=5, min_samples_leaf=50; total time=   0.1s\n",
      "[CV] END criterion=entropy, max_depth=5, min_samples_leaf=50; total time=   0.1s\n",
      "[CV] END criterion=entropy, max_depth=5, min_samples_leaf=50; total time=   0.1s\n",
      "[CV] END criterion=entropy, max_depth=5, min_samples_leaf=50; total time=   0.1s\n",
      "[CV] END criterion=entropy, max_depth=5, min_samples_leaf=100; total time=   0.1s\n",
      "[CV] END criterion=entropy, max_depth=5, min_samples_leaf=100; total time=   0.1s\n",
      "[CV] END criterion=entropy, max_depth=5, min_samples_leaf=100; total time=   0.1s\n",
      "[CV] END criterion=entropy, max_depth=5, min_samples_leaf=100; total time=   0.1s\n",
      "[CV] END criterion=entropy, max_depth=5, min_samples_leaf=100; total time=   0.1s\n",
      "[CV] END criterion=entropy, max_depth=5, min_samples_leaf=200; total time=   0.1s\n",
      "[CV] END criterion=entropy, max_depth=5, min_samples_leaf=200; total time=   0.1s\n",
      "[CV] END criterion=entropy, max_depth=5, min_samples_leaf=200; total time=   0.1s\n",
      "[CV] END criterion=entropy, max_depth=5, min_samples_leaf=200; total time=   0.1s\n",
      "[CV] END criterion=entropy, max_depth=5, min_samples_leaf=200; total time=   0.1s\n",
      "[CV] END criterion=entropy, max_depth=5, min_samples_leaf=400; total time=   0.1s\n",
      "[CV] END criterion=entropy, max_depth=5, min_samples_leaf=400; total time=   0.1s\n",
      "[CV] END criterion=entropy, max_depth=5, min_samples_leaf=400; total time=   0.1s\n",
      "[CV] END criterion=entropy, max_depth=5, min_samples_leaf=400; total time=   0.1s\n",
      "[CV] END criterion=entropy, max_depth=5, min_samples_leaf=400; total time=   0.1s\n",
      "[CV] END criterion=entropy, max_depth=5, min_samples_leaf=800; total time=   0.1s\n",
      "[CV] END criterion=entropy, max_depth=5, min_samples_leaf=800; total time=   0.1s\n",
      "[CV] END criterion=entropy, max_depth=5, min_samples_leaf=800; total time=   0.1s\n",
      "[CV] END criterion=entropy, max_depth=5, min_samples_leaf=800; total time=   0.1s\n",
      "[CV] END criterion=entropy, max_depth=5, min_samples_leaf=800; total time=   0.1s\n",
      "[CV] END criterion=entropy, max_depth=5, min_samples_leaf=1600; total time=   0.1s\n",
      "[CV] END criterion=entropy, max_depth=5, min_samples_leaf=1600; total time=   0.1s\n",
      "[CV] END criterion=entropy, max_depth=5, min_samples_leaf=1600; total time=   0.1s\n",
      "[CV] END criterion=entropy, max_depth=5, min_samples_leaf=1600; total time=   0.1s\n",
      "[CV] END criterion=entropy, max_depth=5, min_samples_leaf=1600; total time=   0.1s\n",
      "[CV] END criterion=entropy, max_depth=10, min_samples_leaf=1; total time=   0.1s\n",
      "[CV] END criterion=entropy, max_depth=10, min_samples_leaf=1; total time=   0.1s\n",
      "[CV] END criterion=entropy, max_depth=10, min_samples_leaf=1; total time=   0.1s\n",
      "[CV] END criterion=entropy, max_depth=10, min_samples_leaf=1; total time=   0.1s\n",
      "[CV] END criterion=entropy, max_depth=10, min_samples_leaf=1; total time=   0.1s\n",
      "[CV] END criterion=entropy, max_depth=10, min_samples_leaf=50; total time=   0.1s\n",
      "[CV] END criterion=entropy, max_depth=10, min_samples_leaf=50; total time=   0.1s\n",
      "[CV] END criterion=entropy, max_depth=10, min_samples_leaf=50; total time=   0.1s\n",
      "[CV] END criterion=entropy, max_depth=10, min_samples_leaf=50; total time=   0.1s\n",
      "[CV] END criterion=entropy, max_depth=10, min_samples_leaf=50; total time=   0.1s\n",
      "[CV] END criterion=entropy, max_depth=10, min_samples_leaf=100; total time=   0.1s\n",
      "[CV] END criterion=entropy, max_depth=10, min_samples_leaf=100; total time=   0.1s\n",
      "[CV] END criterion=entropy, max_depth=10, min_samples_leaf=100; total time=   0.1s\n",
      "[CV] END criterion=entropy, max_depth=10, min_samples_leaf=100; total time=   0.1s\n",
      "[CV] END criterion=entropy, max_depth=10, min_samples_leaf=100; total time=   0.1s\n",
      "[CV] END criterion=entropy, max_depth=10, min_samples_leaf=200; total time=   0.1s\n",
      "[CV] END criterion=entropy, max_depth=10, min_samples_leaf=200; total time=   0.1s\n",
      "[CV] END criterion=entropy, max_depth=10, min_samples_leaf=200; total time=   0.1s\n",
      "[CV] END criterion=entropy, max_depth=10, min_samples_leaf=200; total time=   0.1s\n",
      "[CV] END criterion=entropy, max_depth=10, min_samples_leaf=200; total time=   0.1s\n",
      "[CV] END criterion=entropy, max_depth=10, min_samples_leaf=400; total time=   0.1s\n",
      "[CV] END criterion=entropy, max_depth=10, min_samples_leaf=400; total time=   0.1s\n",
      "[CV] END criterion=entropy, max_depth=10, min_samples_leaf=400; total time=   0.1s\n",
      "[CV] END criterion=entropy, max_depth=10, min_samples_leaf=400; total time=   0.1s\n",
      "[CV] END criterion=entropy, max_depth=10, min_samples_leaf=400; total time=   0.1s\n",
      "[CV] END criterion=entropy, max_depth=10, min_samples_leaf=800; total time=   0.1s\n",
      "[CV] END criterion=entropy, max_depth=10, min_samples_leaf=800; total time=   0.1s\n",
      "[CV] END criterion=entropy, max_depth=10, min_samples_leaf=800; total time=   0.1s\n",
      "[CV] END criterion=entropy, max_depth=10, min_samples_leaf=800; total time=   0.1s\n",
      "[CV] END criterion=entropy, max_depth=10, min_samples_leaf=800; total time=   0.1s\n",
      "[CV] END criterion=entropy, max_depth=10, min_samples_leaf=1600; total time=   0.1s\n",
      "[CV] END criterion=entropy, max_depth=10, min_samples_leaf=1600; total time=   0.1s\n",
      "[CV] END criterion=entropy, max_depth=10, min_samples_leaf=1600; total time=   0.1s\n",
      "[CV] END criterion=entropy, max_depth=10, min_samples_leaf=1600; total time=   0.1s\n",
      "[CV] END criterion=entropy, max_depth=10, min_samples_leaf=1600; total time=   0.1s\n"
     ]
    },
    {
     "data": {
      "text/plain": [
       "GridSearchCV(estimator=DecisionTreeClassifier(),\n",
       "             param_grid={'criterion': ['gini', 'entropy'],\n",
       "                         'max_depth': [None, 2, 3, 4, 5, 10],\n",
       "                         'min_samples_leaf': [1, 50, 100, 200, 400, 800, 1600]},\n",
       "             verbose=2)"
      ]
     },
     "execution_count": 53,
     "metadata": {},
     "output_type": "execute_result"
    }
   ],
   "source": [
    "cv_dt.fit(X_train, y_train)"
   ]
  },
  {
   "cell_type": "code",
   "execution_count": 54,
   "metadata": {},
   "outputs": [
    {
     "data": {
      "text/plain": [
       "DecisionTreeClassifier(criterion='entropy', max_depth=5, min_samples_leaf=100)"
      ]
     },
     "execution_count": 54,
     "metadata": {},
     "output_type": "execute_result"
    }
   ],
   "source": [
    "cv_dt.best_estimator_"
   ]
  },
  {
   "cell_type": "markdown",
   "metadata": {},
   "source": [
    "<img src=\"src/grid_search_cross_validation.png\" style=\"margin-top: 100px\"/>"
   ]
  },
  {
   "cell_type": "markdown",
   "metadata": {},
   "source": [
    "## [ ] Other Models"
   ]
  },
  {
   "cell_type": "markdown",
   "metadata": {},
   "source": [
    "Now let's try to find the best hyperparameter configuration of other models, which don't have the same hyperparameters than the Decision Tree because their algorithm and mathematical equation are different."
   ]
  },
  {
   "cell_type": "markdown",
   "metadata": {},
   "source": [
    "### Support Vector Machines `SVC()`"
   ]
  },
  {
   "cell_type": "code",
   "execution_count": 55,
   "metadata": {},
   "outputs": [
    {
     "data": {
      "text/html": [
       "<iframe width=\"560\" height=\"315\" src=\"https://www.youtube.com/embed/efR1C6CvhmE\" title=\"YouTube video player\" frameborder=\"0\" allow=\"accelerometer; autoplay; clipboard-write; encrypted-media; gyroscope; picture-in-picture\" allowfullscreen></iframe>\n"
      ],
      "text/plain": [
       "<IPython.core.display.HTML object>"
      ]
     },
     "metadata": {},
     "output_type": "display_data"
    }
   ],
   "source": [
    "%%HTML\n",
    "<iframe width=\"560\" height=\"315\" src=\"https://www.youtube.com/embed/efR1C6CvhmE\" title=\"YouTube video player\" frameborder=\"0\" allow=\"accelerometer; autoplay; clipboard-write; encrypted-media; gyroscope; picture-in-picture\" allowfullscreen></iframe>"
   ]
  },
  {
   "cell_type": "code",
   "execution_count": 56,
   "metadata": {},
   "outputs": [],
   "source": [
    "from sklearn.svm import SVC"
   ]
  },
  {
   "cell_type": "code",
   "execution_count": 57,
   "metadata": {},
   "outputs": [],
   "source": [
    "model_sv = SVC()"
   ]
  },
  {
   "cell_type": "code",
   "execution_count": 58,
   "metadata": {},
   "outputs": [
    {
     "data": {
      "text/plain": [
       "{'C': 1.0,\n",
       " 'break_ties': False,\n",
       " 'cache_size': 200,\n",
       " 'class_weight': None,\n",
       " 'coef0': 0.0,\n",
       " 'decision_function_shape': 'ovr',\n",
       " 'degree': 3,\n",
       " 'gamma': 'scale',\n",
       " 'kernel': 'rbf',\n",
       " 'max_iter': -1,\n",
       " 'probability': False,\n",
       " 'random_state': None,\n",
       " 'shrinking': True,\n",
       " 'tol': 0.001,\n",
       " 'verbose': False}"
      ]
     },
     "execution_count": 58,
     "metadata": {},
     "output_type": "execute_result"
    }
   ],
   "source": [
    "model_sv.get_params()"
   ]
  },
  {
   "cell_type": "code",
   "execution_count": 59,
   "metadata": {},
   "outputs": [],
   "source": [
    "param_grid = {\n",
    "    'C': [0.1, 1, 10],\n",
    "    'kernel': ['linear', 'rbf']\n",
    "}"
   ]
  },
  {
   "cell_type": "code",
   "execution_count": 60,
   "metadata": {},
   "outputs": [],
   "source": [
    "cv_sv = GridSearchCV(estimator=model_sv, param_grid=param_grid, verbose=2)"
   ]
  },
  {
   "cell_type": "raw",
   "metadata": {},
   "source": [
    "cv_sv.fit(X_train, y_train)"
   ]
  },
  {
   "cell_type": "code",
   "execution_count": 61,
   "metadata": {},
   "outputs": [
    {
     "data": {
      "text/html": [
       "<div>\n",
       "<style scoped>\n",
       "    .dataframe tbody tr th:only-of-type {\n",
       "        vertical-align: middle;\n",
       "    }\n",
       "\n",
       "    .dataframe tbody tr th {\n",
       "        vertical-align: top;\n",
       "    }\n",
       "\n",
       "    .dataframe thead th {\n",
       "        text-align: right;\n",
       "    }\n",
       "</style>\n",
       "<table border=\"1\" class=\"dataframe\">\n",
       "  <thead>\n",
       "    <tr style=\"text-align: right;\">\n",
       "      <th></th>\n",
       "      <th>LIMIT_BAL</th>\n",
       "      <th>SEX</th>\n",
       "      <th>EDUCATION</th>\n",
       "      <th>MARRIAGE</th>\n",
       "      <th>AGE</th>\n",
       "      <th>PAY_0</th>\n",
       "      <th>PAY_2</th>\n",
       "      <th>PAY_3</th>\n",
       "      <th>PAY_4</th>\n",
       "      <th>PAY_5</th>\n",
       "      <th>PAY_6</th>\n",
       "      <th>BILL_AMT1</th>\n",
       "      <th>BILL_AMT2</th>\n",
       "      <th>BILL_AMT3</th>\n",
       "      <th>BILL_AMT4</th>\n",
       "      <th>BILL_AMT5</th>\n",
       "      <th>BILL_AMT6</th>\n",
       "      <th>PAY_AMT1</th>\n",
       "      <th>PAY_AMT2</th>\n",
       "      <th>PAY_AMT3</th>\n",
       "      <th>PAY_AMT4</th>\n",
       "      <th>PAY_AMT5</th>\n",
       "      <th>PAY_AMT6</th>\n",
       "    </tr>\n",
       "    <tr>\n",
       "      <th>ID</th>\n",
       "      <th></th>\n",
       "      <th></th>\n",
       "      <th></th>\n",
       "      <th></th>\n",
       "      <th></th>\n",
       "      <th></th>\n",
       "      <th></th>\n",
       "      <th></th>\n",
       "      <th></th>\n",
       "      <th></th>\n",
       "      <th></th>\n",
       "      <th></th>\n",
       "      <th></th>\n",
       "      <th></th>\n",
       "      <th></th>\n",
       "      <th></th>\n",
       "      <th></th>\n",
       "      <th></th>\n",
       "      <th></th>\n",
       "      <th></th>\n",
       "      <th></th>\n",
       "      <th></th>\n",
       "      <th></th>\n",
       "    </tr>\n",
       "  </thead>\n",
       "  <tbody>\n",
       "    <tr>\n",
       "      <th>16832</th>\n",
       "      <td>120000</td>\n",
       "      <td>1</td>\n",
       "      <td>3</td>\n",
       "      <td>1</td>\n",
       "      <td>49</td>\n",
       "      <td>0</td>\n",
       "      <td>-1</td>\n",
       "      <td>-1</td>\n",
       "      <td>-1</td>\n",
       "      <td>-1</td>\n",
       "      <td>-1</td>\n",
       "      <td>119440</td>\n",
       "      <td>3844</td>\n",
       "      <td>2290</td>\n",
       "      <td>780</td>\n",
       "      <td>8190</td>\n",
       "      <td>4600</td>\n",
       "      <td>3844</td>\n",
       "      <td>2299</td>\n",
       "      <td>780</td>\n",
       "      <td>8190</td>\n",
       "      <td>4600</td>\n",
       "      <td>1081</td>\n",
       "    </tr>\n",
       "    <tr>\n",
       "      <th>4223</th>\n",
       "      <td>30000</td>\n",
       "      <td>1</td>\n",
       "      <td>1</td>\n",
       "      <td>2</td>\n",
       "      <td>38</td>\n",
       "      <td>2</td>\n",
       "      <td>0</td>\n",
       "      <td>0</td>\n",
       "      <td>0</td>\n",
       "      <td>0</td>\n",
       "      <td>0</td>\n",
       "      <td>69707</td>\n",
       "      <td>71904</td>\n",
       "      <td>62630</td>\n",
       "      <td>57406</td>\n",
       "      <td>46231</td>\n",
       "      <td>73262</td>\n",
       "      <td>4000</td>\n",
       "      <td>5000</td>\n",
       "      <td>8000</td>\n",
       "      <td>1460</td>\n",
       "      <td>40000</td>\n",
       "      <td>10000</td>\n",
       "    </tr>\n",
       "    <tr>\n",
       "      <th>...</th>\n",
       "      <td>...</td>\n",
       "      <td>...</td>\n",
       "      <td>...</td>\n",
       "      <td>...</td>\n",
       "      <td>...</td>\n",
       "      <td>...</td>\n",
       "      <td>...</td>\n",
       "      <td>...</td>\n",
       "      <td>...</td>\n",
       "      <td>...</td>\n",
       "      <td>...</td>\n",
       "      <td>...</td>\n",
       "      <td>...</td>\n",
       "      <td>...</td>\n",
       "      <td>...</td>\n",
       "      <td>...</td>\n",
       "      <td>...</td>\n",
       "      <td>...</td>\n",
       "      <td>...</td>\n",
       "      <td>...</td>\n",
       "      <td>...</td>\n",
       "      <td>...</td>\n",
       "      <td>...</td>\n",
       "    </tr>\n",
       "    <tr>\n",
       "      <th>15796</th>\n",
       "      <td>70000</td>\n",
       "      <td>2</td>\n",
       "      <td>2</td>\n",
       "      <td>2</td>\n",
       "      <td>25</td>\n",
       "      <td>0</td>\n",
       "      <td>0</td>\n",
       "      <td>0</td>\n",
       "      <td>0</td>\n",
       "      <td>2</td>\n",
       "      <td>2</td>\n",
       "      <td>73939</td>\n",
       "      <td>70488</td>\n",
       "      <td>51152</td>\n",
       "      <td>35122</td>\n",
       "      <td>28633</td>\n",
       "      <td>28039</td>\n",
       "      <td>3000</td>\n",
       "      <td>2000</td>\n",
       "      <td>4500</td>\n",
       "      <td>1200</td>\n",
       "      <td>0</td>\n",
       "      <td>1200</td>\n",
       "    </tr>\n",
       "    <tr>\n",
       "      <th>23655</th>\n",
       "      <td>160000</td>\n",
       "      <td>2</td>\n",
       "      <td>2</td>\n",
       "      <td>1</td>\n",
       "      <td>36</td>\n",
       "      <td>-2</td>\n",
       "      <td>-2</td>\n",
       "      <td>-2</td>\n",
       "      <td>-2</td>\n",
       "      <td>-2</td>\n",
       "      <td>-2</td>\n",
       "      <td>-20</td>\n",
       "      <td>-20</td>\n",
       "      <td>3640</td>\n",
       "      <td>2935</td>\n",
       "      <td>1603</td>\n",
       "      <td>14129</td>\n",
       "      <td>0</td>\n",
       "      <td>3660</td>\n",
       "      <td>3135</td>\n",
       "      <td>1650</td>\n",
       "      <td>14200</td>\n",
       "      <td>1500</td>\n",
       "    </tr>\n",
       "  </tbody>\n",
       "</table>\n",
       "<p>20100 rows × 23 columns</p>\n",
       "</div>"
      ],
      "text/plain": [
       "       LIMIT_BAL  SEX  EDUCATION  MARRIAGE  AGE  PAY_0  PAY_2  PAY_3  PAY_4  \\\n",
       "ID                                                                            \n",
       "16832     120000    1          3         1   49      0     -1     -1     -1   \n",
       "4223       30000    1          1         2   38      2      0      0      0   \n",
       "...          ...  ...        ...       ...  ...    ...    ...    ...    ...   \n",
       "15796      70000    2          2         2   25      0      0      0      0   \n",
       "23655     160000    2          2         1   36     -2     -2     -2     -2   \n",
       "\n",
       "       PAY_5  PAY_6  BILL_AMT1  BILL_AMT2  BILL_AMT3  BILL_AMT4  BILL_AMT5  \\\n",
       "ID                                                                           \n",
       "16832     -1     -1     119440       3844       2290        780       8190   \n",
       "4223       0      0      69707      71904      62630      57406      46231   \n",
       "...      ...    ...        ...        ...        ...        ...        ...   \n",
       "15796      2      2      73939      70488      51152      35122      28633   \n",
       "23655     -2     -2        -20        -20       3640       2935       1603   \n",
       "\n",
       "       BILL_AMT6  PAY_AMT1  PAY_AMT2  PAY_AMT3  PAY_AMT4  PAY_AMT5  PAY_AMT6  \n",
       "ID                                                                            \n",
       "16832       4600      3844      2299       780      8190      4600      1081  \n",
       "4223       73262      4000      5000      8000      1460     40000     10000  \n",
       "...          ...       ...       ...       ...       ...       ...       ...  \n",
       "15796      28039      3000      2000      4500      1200         0      1200  \n",
       "23655      14129         0      3660      3135      1650     14200      1500  \n",
       "\n",
       "[20100 rows x 23 columns]"
      ]
     },
     "execution_count": 61,
     "metadata": {},
     "output_type": "execute_result"
    }
   ],
   "source": [
    "X_train"
   ]
  },
  {
   "cell_type": "code",
   "execution_count": 62,
   "metadata": {},
   "outputs": [],
   "source": [
    "from sklearn.preprocessing import MinMaxScaler"
   ]
  },
  {
   "cell_type": "code",
   "execution_count": 63,
   "metadata": {},
   "outputs": [],
   "source": [
    "scaler = MinMaxScaler()"
   ]
  },
  {
   "cell_type": "code",
   "execution_count": 64,
   "metadata": {},
   "outputs": [
    {
     "data": {
      "text/plain": [
       "MinMaxScaler()"
      ]
     },
     "execution_count": 64,
     "metadata": {},
     "output_type": "execute_result"
    }
   ],
   "source": [
    "scaler.fit(X=X_train)"
   ]
  },
  {
   "cell_type": "code",
   "execution_count": 73,
   "metadata": {},
   "outputs": [],
   "source": [
    "X_train_scaled = pd.DataFrame(scaler.transform(X=X_train), columns=X_train.columns, index=X_train.index)"
   ]
  },
  {
   "cell_type": "code",
   "execution_count": 74,
   "metadata": {},
   "outputs": [],
   "source": [
    "X_test_scaled = pd.DataFrame(scaler.transform(X=X_test), columns=X_test.columns, index=X_test.index)"
   ]
  },
  {
   "cell_type": "code",
   "execution_count": 76,
   "metadata": {},
   "outputs": [
    {
     "data": {
      "text/html": [
       "<div>\n",
       "<style scoped>\n",
       "    .dataframe tbody tr th:only-of-type {\n",
       "        vertical-align: middle;\n",
       "    }\n",
       "\n",
       "    .dataframe tbody tr th {\n",
       "        vertical-align: top;\n",
       "    }\n",
       "\n",
       "    .dataframe thead th {\n",
       "        text-align: right;\n",
       "    }\n",
       "</style>\n",
       "<table border=\"1\" class=\"dataframe\">\n",
       "  <thead>\n",
       "    <tr style=\"text-align: right;\">\n",
       "      <th></th>\n",
       "      <th>LIMIT_BAL</th>\n",
       "      <th>SEX</th>\n",
       "      <th>EDUCATION</th>\n",
       "      <th>MARRIAGE</th>\n",
       "      <th>AGE</th>\n",
       "      <th>PAY_0</th>\n",
       "      <th>PAY_2</th>\n",
       "      <th>PAY_3</th>\n",
       "      <th>PAY_4</th>\n",
       "      <th>PAY_5</th>\n",
       "      <th>PAY_6</th>\n",
       "      <th>BILL_AMT1</th>\n",
       "      <th>BILL_AMT2</th>\n",
       "      <th>BILL_AMT3</th>\n",
       "      <th>BILL_AMT4</th>\n",
       "      <th>BILL_AMT5</th>\n",
       "      <th>BILL_AMT6</th>\n",
       "      <th>PAY_AMT1</th>\n",
       "      <th>PAY_AMT2</th>\n",
       "      <th>PAY_AMT3</th>\n",
       "      <th>PAY_AMT4</th>\n",
       "      <th>PAY_AMT5</th>\n",
       "      <th>PAY_AMT6</th>\n",
       "    </tr>\n",
       "    <tr>\n",
       "      <th>ID</th>\n",
       "      <th></th>\n",
       "      <th></th>\n",
       "      <th></th>\n",
       "      <th></th>\n",
       "      <th></th>\n",
       "      <th></th>\n",
       "      <th></th>\n",
       "      <th></th>\n",
       "      <th></th>\n",
       "      <th></th>\n",
       "      <th></th>\n",
       "      <th></th>\n",
       "      <th></th>\n",
       "      <th></th>\n",
       "      <th></th>\n",
       "      <th></th>\n",
       "      <th></th>\n",
       "      <th></th>\n",
       "      <th></th>\n",
       "      <th></th>\n",
       "      <th></th>\n",
       "      <th></th>\n",
       "      <th></th>\n",
       "    </tr>\n",
       "  </thead>\n",
       "  <tbody>\n",
       "    <tr>\n",
       "      <th>2309</th>\n",
       "      <td>30000</td>\n",
       "      <td>1</td>\n",
       "      <td>2</td>\n",
       "      <td>2</td>\n",
       "      <td>25</td>\n",
       "      <td>0</td>\n",
       "      <td>0</td>\n",
       "      <td>0</td>\n",
       "      <td>0</td>\n",
       "      <td>0</td>\n",
       "      <td>0</td>\n",
       "      <td>8864</td>\n",
       "      <td>10062</td>\n",
       "      <td>11581</td>\n",
       "      <td>12580</td>\n",
       "      <td>13716</td>\n",
       "      <td>14828</td>\n",
       "      <td>1500</td>\n",
       "      <td>2000</td>\n",
       "      <td>1500</td>\n",
       "      <td>1500</td>\n",
       "      <td>1500</td>\n",
       "      <td>2000</td>\n",
       "    </tr>\n",
       "    <tr>\n",
       "      <th>22405</th>\n",
       "      <td>150000</td>\n",
       "      <td>2</td>\n",
       "      <td>1</td>\n",
       "      <td>2</td>\n",
       "      <td>26</td>\n",
       "      <td>0</td>\n",
       "      <td>0</td>\n",
       "      <td>0</td>\n",
       "      <td>0</td>\n",
       "      <td>0</td>\n",
       "      <td>0</td>\n",
       "      <td>136736</td>\n",
       "      <td>125651</td>\n",
       "      <td>116684</td>\n",
       "      <td>101581</td>\n",
       "      <td>77741</td>\n",
       "      <td>77264</td>\n",
       "      <td>4486</td>\n",
       "      <td>4235</td>\n",
       "      <td>3161</td>\n",
       "      <td>2647</td>\n",
       "      <td>2669</td>\n",
       "      <td>2669</td>\n",
       "    </tr>\n",
       "    <tr>\n",
       "      <th>...</th>\n",
       "      <td>...</td>\n",
       "      <td>...</td>\n",
       "      <td>...</td>\n",
       "      <td>...</td>\n",
       "      <td>...</td>\n",
       "      <td>...</td>\n",
       "      <td>...</td>\n",
       "      <td>...</td>\n",
       "      <td>...</td>\n",
       "      <td>...</td>\n",
       "      <td>...</td>\n",
       "      <td>...</td>\n",
       "      <td>...</td>\n",
       "      <td>...</td>\n",
       "      <td>...</td>\n",
       "      <td>...</td>\n",
       "      <td>...</td>\n",
       "      <td>...</td>\n",
       "      <td>...</td>\n",
       "      <td>...</td>\n",
       "      <td>...</td>\n",
       "      <td>...</td>\n",
       "      <td>...</td>\n",
       "    </tr>\n",
       "    <tr>\n",
       "      <th>27302</th>\n",
       "      <td>30000</td>\n",
       "      <td>1</td>\n",
       "      <td>2</td>\n",
       "      <td>2</td>\n",
       "      <td>30</td>\n",
       "      <td>0</td>\n",
       "      <td>0</td>\n",
       "      <td>0</td>\n",
       "      <td>0</td>\n",
       "      <td>-1</td>\n",
       "      <td>0</td>\n",
       "      <td>29993</td>\n",
       "      <td>29890</td>\n",
       "      <td>28561</td>\n",
       "      <td>-229</td>\n",
       "      <td>23930</td>\n",
       "      <td>26655</td>\n",
       "      <td>1856</td>\n",
       "      <td>1000</td>\n",
       "      <td>1698</td>\n",
       "      <td>24860</td>\n",
       "      <td>3500</td>\n",
       "      <td>3000</td>\n",
       "    </tr>\n",
       "    <tr>\n",
       "      <th>18452</th>\n",
       "      <td>170000</td>\n",
       "      <td>2</td>\n",
       "      <td>2</td>\n",
       "      <td>2</td>\n",
       "      <td>24</td>\n",
       "      <td>0</td>\n",
       "      <td>0</td>\n",
       "      <td>0</td>\n",
       "      <td>0</td>\n",
       "      <td>0</td>\n",
       "      <td>0</td>\n",
       "      <td>64142</td>\n",
       "      <td>54347</td>\n",
       "      <td>55677</td>\n",
       "      <td>59096</td>\n",
       "      <td>50536</td>\n",
       "      <td>15851</td>\n",
       "      <td>3000</td>\n",
       "      <td>3000</td>\n",
       "      <td>5000</td>\n",
       "      <td>10000</td>\n",
       "      <td>5000</td>\n",
       "      <td>6000</td>\n",
       "    </tr>\n",
       "  </tbody>\n",
       "</table>\n",
       "<p>9900 rows × 23 columns</p>\n",
       "</div>"
      ],
      "text/plain": [
       "       LIMIT_BAL  SEX  EDUCATION  MARRIAGE  AGE  PAY_0  PAY_2  PAY_3  PAY_4  \\\n",
       "ID                                                                            \n",
       "2309       30000    1          2         2   25      0      0      0      0   \n",
       "22405     150000    2          1         2   26      0      0      0      0   \n",
       "...          ...  ...        ...       ...  ...    ...    ...    ...    ...   \n",
       "27302      30000    1          2         2   30      0      0      0      0   \n",
       "18452     170000    2          2         2   24      0      0      0      0   \n",
       "\n",
       "       PAY_5  PAY_6  BILL_AMT1  BILL_AMT2  BILL_AMT3  BILL_AMT4  BILL_AMT5  \\\n",
       "ID                                                                           \n",
       "2309       0      0       8864      10062      11581      12580      13716   \n",
       "22405      0      0     136736     125651     116684     101581      77741   \n",
       "...      ...    ...        ...        ...        ...        ...        ...   \n",
       "27302     -1      0      29993      29890      28561       -229      23930   \n",
       "18452      0      0      64142      54347      55677      59096      50536   \n",
       "\n",
       "       BILL_AMT6  PAY_AMT1  PAY_AMT2  PAY_AMT3  PAY_AMT4  PAY_AMT5  PAY_AMT6  \n",
       "ID                                                                            \n",
       "2309       14828      1500      2000      1500      1500      1500      2000  \n",
       "22405      77264      4486      4235      3161      2647      2669      2669  \n",
       "...          ...       ...       ...       ...       ...       ...       ...  \n",
       "27302      26655      1856      1000      1698     24860      3500      3000  \n",
       "18452      15851      3000      3000      5000     10000      5000      6000  \n",
       "\n",
       "[9900 rows x 23 columns]"
      ]
     },
     "execution_count": 76,
     "metadata": {},
     "output_type": "execute_result"
    }
   ],
   "source": [
    "X_test"
   ]
  },
  {
   "cell_type": "code",
   "execution_count": 75,
   "metadata": {},
   "outputs": [
    {
     "data": {
      "text/html": [
       "<div>\n",
       "<style scoped>\n",
       "    .dataframe tbody tr th:only-of-type {\n",
       "        vertical-align: middle;\n",
       "    }\n",
       "\n",
       "    .dataframe tbody tr th {\n",
       "        vertical-align: top;\n",
       "    }\n",
       "\n",
       "    .dataframe thead th {\n",
       "        text-align: right;\n",
       "    }\n",
       "</style>\n",
       "<table border=\"1\" class=\"dataframe\">\n",
       "  <thead>\n",
       "    <tr style=\"text-align: right;\">\n",
       "      <th></th>\n",
       "      <th>LIMIT_BAL</th>\n",
       "      <th>SEX</th>\n",
       "      <th>EDUCATION</th>\n",
       "      <th>MARRIAGE</th>\n",
       "      <th>AGE</th>\n",
       "      <th>PAY_0</th>\n",
       "      <th>PAY_2</th>\n",
       "      <th>PAY_3</th>\n",
       "      <th>PAY_4</th>\n",
       "      <th>PAY_5</th>\n",
       "      <th>PAY_6</th>\n",
       "      <th>BILL_AMT1</th>\n",
       "      <th>BILL_AMT2</th>\n",
       "      <th>BILL_AMT3</th>\n",
       "      <th>BILL_AMT4</th>\n",
       "      <th>BILL_AMT5</th>\n",
       "      <th>BILL_AMT6</th>\n",
       "      <th>PAY_AMT1</th>\n",
       "      <th>PAY_AMT2</th>\n",
       "      <th>PAY_AMT3</th>\n",
       "      <th>PAY_AMT4</th>\n",
       "      <th>PAY_AMT5</th>\n",
       "      <th>PAY_AMT6</th>\n",
       "    </tr>\n",
       "    <tr>\n",
       "      <th>ID</th>\n",
       "      <th></th>\n",
       "      <th></th>\n",
       "      <th></th>\n",
       "      <th></th>\n",
       "      <th></th>\n",
       "      <th></th>\n",
       "      <th></th>\n",
       "      <th></th>\n",
       "      <th></th>\n",
       "      <th></th>\n",
       "      <th></th>\n",
       "      <th></th>\n",
       "      <th></th>\n",
       "      <th></th>\n",
       "      <th></th>\n",
       "      <th></th>\n",
       "      <th></th>\n",
       "      <th></th>\n",
       "      <th></th>\n",
       "      <th></th>\n",
       "      <th></th>\n",
       "      <th></th>\n",
       "      <th></th>\n",
       "    </tr>\n",
       "  </thead>\n",
       "  <tbody>\n",
       "    <tr>\n",
       "      <th>2309</th>\n",
       "      <td>0.020202</td>\n",
       "      <td>0.0</td>\n",
       "      <td>0.333333</td>\n",
       "      <td>0.666667</td>\n",
       "      <td>0.074074</td>\n",
       "      <td>0.2</td>\n",
       "      <td>0.2</td>\n",
       "      <td>0.2</td>\n",
       "      <td>0.2</td>\n",
       "      <td>0.2</td>\n",
       "      <td>0.2</td>\n",
       "      <td>0.154363</td>\n",
       "      <td>0.075770</td>\n",
       "      <td>0.042355</td>\n",
       "      <td>0.171988</td>\n",
       "      <td>0.094248</td>\n",
       "      <td>0.191233</td>\n",
       "      <td>0.001717</td>\n",
       "      <td>0.001187</td>\n",
       "      <td>0.001674</td>\n",
       "      <td>0.002415</td>\n",
       "      <td>0.003517</td>\n",
       "      <td>0.003794</td>\n",
       "    </tr>\n",
       "    <tr>\n",
       "      <th>22405</th>\n",
       "      <td>0.141414</td>\n",
       "      <td>1.0</td>\n",
       "      <td>0.166667</td>\n",
       "      <td>0.666667</td>\n",
       "      <td>0.092593</td>\n",
       "      <td>0.2</td>\n",
       "      <td>0.2</td>\n",
       "      <td>0.2</td>\n",
       "      <td>0.2</td>\n",
       "      <td>0.2</td>\n",
       "      <td>0.2</td>\n",
       "      <td>0.267515</td>\n",
       "      <td>0.185467</td>\n",
       "      <td>0.103263</td>\n",
       "      <td>0.255826</td>\n",
       "      <td>0.157733</td>\n",
       "      <td>0.244564</td>\n",
       "      <td>0.005135</td>\n",
       "      <td>0.002514</td>\n",
       "      <td>0.003528</td>\n",
       "      <td>0.004262</td>\n",
       "      <td>0.006257</td>\n",
       "      <td>0.005063</td>\n",
       "    </tr>\n",
       "    <tr>\n",
       "      <th>...</th>\n",
       "      <td>...</td>\n",
       "      <td>...</td>\n",
       "      <td>...</td>\n",
       "      <td>...</td>\n",
       "      <td>...</td>\n",
       "      <td>...</td>\n",
       "      <td>...</td>\n",
       "      <td>...</td>\n",
       "      <td>...</td>\n",
       "      <td>...</td>\n",
       "      <td>...</td>\n",
       "      <td>...</td>\n",
       "      <td>...</td>\n",
       "      <td>...</td>\n",
       "      <td>...</td>\n",
       "      <td>...</td>\n",
       "      <td>...</td>\n",
       "      <td>...</td>\n",
       "      <td>...</td>\n",
       "      <td>...</td>\n",
       "      <td>...</td>\n",
       "      <td>...</td>\n",
       "      <td>...</td>\n",
       "    </tr>\n",
       "    <tr>\n",
       "      <th>27302</th>\n",
       "      <td>0.020202</td>\n",
       "      <td>0.0</td>\n",
       "      <td>0.333333</td>\n",
       "      <td>0.666667</td>\n",
       "      <td>0.166667</td>\n",
       "      <td>0.2</td>\n",
       "      <td>0.2</td>\n",
       "      <td>0.2</td>\n",
       "      <td>0.2</td>\n",
       "      <td>0.1</td>\n",
       "      <td>0.2</td>\n",
       "      <td>0.173060</td>\n",
       "      <td>0.094587</td>\n",
       "      <td>0.052195</td>\n",
       "      <td>0.159922</td>\n",
       "      <td>0.104376</td>\n",
       "      <td>0.201335</td>\n",
       "      <td>0.002125</td>\n",
       "      <td>0.000594</td>\n",
       "      <td>0.001895</td>\n",
       "      <td>0.040032</td>\n",
       "      <td>0.008206</td>\n",
       "      <td>0.005691</td>\n",
       "    </tr>\n",
       "    <tr>\n",
       "      <th>18452</th>\n",
       "      <td>0.161616</td>\n",
       "      <td>1.0</td>\n",
       "      <td>0.333333</td>\n",
       "      <td>0.666667</td>\n",
       "      <td>0.055556</td>\n",
       "      <td>0.2</td>\n",
       "      <td>0.2</td>\n",
       "      <td>0.2</td>\n",
       "      <td>0.2</td>\n",
       "      <td>0.2</td>\n",
       "      <td>0.2</td>\n",
       "      <td>0.203277</td>\n",
       "      <td>0.117797</td>\n",
       "      <td>0.067909</td>\n",
       "      <td>0.215805</td>\n",
       "      <td>0.130758</td>\n",
       "      <td>0.192107</td>\n",
       "      <td>0.003434</td>\n",
       "      <td>0.001781</td>\n",
       "      <td>0.005580</td>\n",
       "      <td>0.016103</td>\n",
       "      <td>0.011723</td>\n",
       "      <td>0.011382</td>\n",
       "    </tr>\n",
       "  </tbody>\n",
       "</table>\n",
       "<p>9900 rows × 23 columns</p>\n",
       "</div>"
      ],
      "text/plain": [
       "       LIMIT_BAL  SEX  EDUCATION  MARRIAGE       AGE  PAY_0  PAY_2  PAY_3  \\\n",
       "ID                                                                          \n",
       "2309    0.020202  0.0   0.333333  0.666667  0.074074    0.2    0.2    0.2   \n",
       "22405   0.141414  1.0   0.166667  0.666667  0.092593    0.2    0.2    0.2   \n",
       "...          ...  ...        ...       ...       ...    ...    ...    ...   \n",
       "27302   0.020202  0.0   0.333333  0.666667  0.166667    0.2    0.2    0.2   \n",
       "18452   0.161616  1.0   0.333333  0.666667  0.055556    0.2    0.2    0.2   \n",
       "\n",
       "       PAY_4  PAY_5  PAY_6  BILL_AMT1  BILL_AMT2  BILL_AMT3  BILL_AMT4  \\\n",
       "ID                                                                       \n",
       "2309     0.2    0.2    0.2   0.154363   0.075770   0.042355   0.171988   \n",
       "22405    0.2    0.2    0.2   0.267515   0.185467   0.103263   0.255826   \n",
       "...      ...    ...    ...        ...        ...        ...        ...   \n",
       "27302    0.2    0.1    0.2   0.173060   0.094587   0.052195   0.159922   \n",
       "18452    0.2    0.2    0.2   0.203277   0.117797   0.067909   0.215805   \n",
       "\n",
       "       BILL_AMT5  BILL_AMT6  PAY_AMT1  PAY_AMT2  PAY_AMT3  PAY_AMT4  PAY_AMT5  \\\n",
       "ID                                                                              \n",
       "2309    0.094248   0.191233  0.001717  0.001187  0.001674  0.002415  0.003517   \n",
       "22405   0.157733   0.244564  0.005135  0.002514  0.003528  0.004262  0.006257   \n",
       "...          ...        ...       ...       ...       ...       ...       ...   \n",
       "27302   0.104376   0.201335  0.002125  0.000594  0.001895  0.040032  0.008206   \n",
       "18452   0.130758   0.192107  0.003434  0.001781  0.005580  0.016103  0.011723   \n",
       "\n",
       "       PAY_AMT6  \n",
       "ID               \n",
       "2309   0.003794  \n",
       "22405  0.005063  \n",
       "...         ...  \n",
       "27302  0.005691  \n",
       "18452  0.011382  \n",
       "\n",
       "[9900 rows x 23 columns]"
      ]
     },
     "execution_count": 75,
     "metadata": {},
     "output_type": "execute_result"
    }
   ],
   "source": [
    "X_test_scaled"
   ]
  },
  {
   "cell_type": "code",
   "execution_count": 77,
   "metadata": {},
   "outputs": [
    {
     "name": "stdout",
     "output_type": "stream",
     "text": [
      "Fitting 5 folds for each of 6 candidates, totalling 30 fits\n",
      "[CV] END ...............................C=0.1, kernel=linear; total time=   3.1s\n",
      "[CV] END ...............................C=0.1, kernel=linear; total time=   3.1s\n",
      "[CV] END ...............................C=0.1, kernel=linear; total time=   3.3s\n",
      "[CV] END ...............................C=0.1, kernel=linear; total time=   3.0s\n",
      "[CV] END ...............................C=0.1, kernel=linear; total time=   3.0s\n",
      "[CV] END ..................................C=0.1, kernel=rbf; total time=   4.3s\n",
      "[CV] END ..................................C=0.1, kernel=rbf; total time=   4.2s\n",
      "[CV] END ..................................C=0.1, kernel=rbf; total time=   4.2s\n",
      "[CV] END ..................................C=0.1, kernel=rbf; total time=   4.2s\n",
      "[CV] END ..................................C=0.1, kernel=rbf; total time=   4.2s\n",
      "[CV] END .................................C=1, kernel=linear; total time=   3.1s\n",
      "[CV] END .................................C=1, kernel=linear; total time=   3.2s\n",
      "[CV] END .................................C=1, kernel=linear; total time=   3.1s\n",
      "[CV] END .................................C=1, kernel=linear; total time=   3.3s\n",
      "[CV] END .................................C=1, kernel=linear; total time=   3.0s\n",
      "[CV] END ....................................C=1, kernel=rbf; total time=   4.6s\n",
      "[CV] END ....................................C=1, kernel=rbf; total time=   4.5s\n",
      "[CV] END ....................................C=1, kernel=rbf; total time=   4.5s\n",
      "[CV] END ....................................C=1, kernel=rbf; total time=   4.6s\n",
      "[CV] END ....................................C=1, kernel=rbf; total time=   4.5s\n",
      "[CV] END ................................C=10, kernel=linear; total time=   3.8s\n",
      "[CV] END ................................C=10, kernel=linear; total time=   3.8s\n",
      "[CV] END ................................C=10, kernel=linear; total time=   3.6s\n",
      "[CV] END ................................C=10, kernel=linear; total time=   4.7s\n",
      "[CV] END ................................C=10, kernel=linear; total time=   3.8s\n",
      "[CV] END ...................................C=10, kernel=rbf; total time=   5.4s\n",
      "[CV] END ...................................C=10, kernel=rbf; total time=   5.2s\n",
      "[CV] END ...................................C=10, kernel=rbf; total time=   5.3s\n",
      "[CV] END ...................................C=10, kernel=rbf; total time=   5.4s\n",
      "[CV] END ...................................C=10, kernel=rbf; total time=   5.3s\n"
     ]
    },
    {
     "data": {
      "text/plain": [
       "GridSearchCV(estimator=SVC(),\n",
       "             param_grid={'C': [0.1, 1, 10], 'kernel': ['linear', 'rbf']},\n",
       "             verbose=2)"
      ]
     },
     "execution_count": 77,
     "metadata": {},
     "output_type": "execute_result"
    }
   ],
   "source": [
    "cv_sv.fit(X_train_scaled, y_train)"
   ]
  },
  {
   "cell_type": "code",
   "execution_count": 78,
   "metadata": {},
   "outputs": [
    {
     "data": {
      "text/plain": [
       "{'C': 10, 'kernel': 'rbf'}"
      ]
     },
     "execution_count": 78,
     "metadata": {},
     "output_type": "execute_result"
    }
   ],
   "source": [
    "cv_sv.best_params_"
   ]
  },
  {
   "cell_type": "markdown",
   "metadata": {},
   "source": [
    "### K Nearest Neighbors `KNeighborsClassifier()`"
   ]
  },
  {
   "cell_type": "code",
   "execution_count": 79,
   "metadata": {},
   "outputs": [
    {
     "data": {
      "text/html": [
       "<iframe width=\"560\" height=\"315\" src=\"https://www.youtube.com/embed/HVXime0nQeI\" title=\"YouTube video player\" frameborder=\"0\" allow=\"accelerometer; autoplay; clipboard-write; encrypted-media; gyroscope; picture-in-picture\" allowfullscreen></iframe>\n"
      ],
      "text/plain": [
       "<IPython.core.display.HTML object>"
      ]
     },
     "metadata": {},
     "output_type": "display_data"
    }
   ],
   "source": [
    "%%HTML\n",
    "<iframe width=\"560\" height=\"315\" src=\"https://www.youtube.com/embed/HVXime0nQeI\" title=\"YouTube video player\" frameborder=\"0\" allow=\"accelerometer; autoplay; clipboard-write; encrypted-media; gyroscope; picture-in-picture\" allowfullscreen></iframe>"
   ]
  },
  {
   "cell_type": "code",
   "execution_count": 80,
   "metadata": {},
   "outputs": [],
   "source": [
    "from sklearn.neighbors import KNeighborsClassifier"
   ]
  },
  {
   "cell_type": "code",
   "execution_count": 81,
   "metadata": {},
   "outputs": [],
   "source": [
    "model_kn = KNeighborsClassifier()"
   ]
  },
  {
   "cell_type": "code",
   "execution_count": 82,
   "metadata": {},
   "outputs": [
    {
     "data": {
      "text/plain": [
       "{'algorithm': 'auto',\n",
       " 'leaf_size': 30,\n",
       " 'metric': 'minkowski',\n",
       " 'metric_params': None,\n",
       " 'n_jobs': None,\n",
       " 'n_neighbors': 5,\n",
       " 'p': 2,\n",
       " 'weights': 'uniform'}"
      ]
     },
     "execution_count": 82,
     "metadata": {},
     "output_type": "execute_result"
    }
   ],
   "source": [
    "model_kn.get_params()"
   ]
  },
  {
   "cell_type": "code",
   "execution_count": 83,
   "metadata": {},
   "outputs": [],
   "source": [
    "param_grid = {\n",
    "    'leaf_size': [10, 20, 30, 50],\n",
    "    'metric': ['minkowski', 'euclidean', 'manhattan'],\n",
    "    'n_neighbors': [3, 5, 10, 20]\n",
    "}"
   ]
  },
  {
   "cell_type": "code",
   "execution_count": 87,
   "metadata": {},
   "outputs": [],
   "source": [
    "cv_kn = GridSearchCV(estimator=model_kn, param_grid=param_grid, verbose=2)"
   ]
  },
  {
   "cell_type": "code",
   "execution_count": 88,
   "metadata": {},
   "outputs": [
    {
     "name": "stdout",
     "output_type": "stream",
     "text": [
      "Fitting 5 folds for each of 48 candidates, totalling 240 fits\n",
      "[CV] END ......leaf_size=10, metric=minkowski, n_neighbors=3; total time=   1.4s\n",
      "[CV] END ......leaf_size=10, metric=minkowski, n_neighbors=3; total time=   1.3s\n",
      "[CV] END ......leaf_size=10, metric=minkowski, n_neighbors=3; total time=   1.3s\n",
      "[CV] END ......leaf_size=10, metric=minkowski, n_neighbors=3; total time=   1.4s\n",
      "[CV] END ......leaf_size=10, metric=minkowski, n_neighbors=3; total time=   1.3s\n",
      "[CV] END ......leaf_size=10, metric=minkowski, n_neighbors=5; total time=   0.8s\n",
      "[CV] END ......leaf_size=10, metric=minkowski, n_neighbors=5; total time=   0.8s\n",
      "[CV] END ......leaf_size=10, metric=minkowski, n_neighbors=5; total time=   0.8s\n",
      "[CV] END ......leaf_size=10, metric=minkowski, n_neighbors=5; total time=   0.9s\n",
      "[CV] END ......leaf_size=10, metric=minkowski, n_neighbors=5; total time=   0.9s\n",
      "[CV] END .....leaf_size=10, metric=minkowski, n_neighbors=10; total time=   0.9s\n",
      "[CV] END .....leaf_size=10, metric=minkowski, n_neighbors=10; total time=   0.9s\n",
      "[CV] END .....leaf_size=10, metric=minkowski, n_neighbors=10; total time=   0.9s\n",
      "[CV] END .....leaf_size=10, metric=minkowski, n_neighbors=10; total time=   0.9s\n",
      "[CV] END .....leaf_size=10, metric=minkowski, n_neighbors=10; total time=   0.9s\n",
      "[CV] END .....leaf_size=10, metric=minkowski, n_neighbors=20; total time=   0.9s\n",
      "[CV] END .....leaf_size=10, metric=minkowski, n_neighbors=20; total time=   0.9s\n",
      "[CV] END .....leaf_size=10, metric=minkowski, n_neighbors=20; total time=   0.8s\n",
      "[CV] END .....leaf_size=10, metric=minkowski, n_neighbors=20; total time=   0.9s\n",
      "[CV] END .....leaf_size=10, metric=minkowski, n_neighbors=20; total time=   0.8s\n",
      "[CV] END ......leaf_size=10, metric=euclidean, n_neighbors=3; total time=   1.3s\n",
      "[CV] END ......leaf_size=10, metric=euclidean, n_neighbors=3; total time=   1.3s\n",
      "[CV] END ......leaf_size=10, metric=euclidean, n_neighbors=3; total time=   1.3s\n",
      "[CV] END ......leaf_size=10, metric=euclidean, n_neighbors=3; total time=   1.3s\n",
      "[CV] END ......leaf_size=10, metric=euclidean, n_neighbors=3; total time=   1.4s\n",
      "[CV] END ......leaf_size=10, metric=euclidean, n_neighbors=5; total time=   0.8s\n",
      "[CV] END ......leaf_size=10, metric=euclidean, n_neighbors=5; total time=   0.8s\n",
      "[CV] END ......leaf_size=10, metric=euclidean, n_neighbors=5; total time=   0.8s\n",
      "[CV] END ......leaf_size=10, metric=euclidean, n_neighbors=5; total time=   0.8s\n",
      "[CV] END ......leaf_size=10, metric=euclidean, n_neighbors=5; total time=   0.8s\n",
      "[CV] END .....leaf_size=10, metric=euclidean, n_neighbors=10; total time=   0.9s\n",
      "[CV] END .....leaf_size=10, metric=euclidean, n_neighbors=10; total time=   0.8s\n",
      "[CV] END .....leaf_size=10, metric=euclidean, n_neighbors=10; total time=   0.8s\n",
      "[CV] END .....leaf_size=10, metric=euclidean, n_neighbors=10; total time=   0.8s\n",
      "[CV] END .....leaf_size=10, metric=euclidean, n_neighbors=10; total time=   0.8s\n",
      "[CV] END .....leaf_size=10, metric=euclidean, n_neighbors=20; total time=   0.8s\n",
      "[CV] END .....leaf_size=10, metric=euclidean, n_neighbors=20; total time=   0.9s\n",
      "[CV] END .....leaf_size=10, metric=euclidean, n_neighbors=20; total time=   0.8s\n",
      "[CV] END .....leaf_size=10, metric=euclidean, n_neighbors=20; total time=   0.8s\n",
      "[CV] END .....leaf_size=10, metric=euclidean, n_neighbors=20; total time=   0.8s\n",
      "[CV] END ......leaf_size=10, metric=manhattan, n_neighbors=3; total time=   1.5s\n",
      "[CV] END ......leaf_size=10, metric=manhattan, n_neighbors=3; total time=   1.5s\n",
      "[CV] END ......leaf_size=10, metric=manhattan, n_neighbors=3; total time=   1.6s\n",
      "[CV] END ......leaf_size=10, metric=manhattan, n_neighbors=3; total time=   1.5s\n",
      "[CV] END ......leaf_size=10, metric=manhattan, n_neighbors=3; total time=   1.5s\n",
      "[CV] END ......leaf_size=10, metric=manhattan, n_neighbors=5; total time=   1.1s\n",
      "[CV] END ......leaf_size=10, metric=manhattan, n_neighbors=5; total time=   1.1s\n",
      "[CV] END ......leaf_size=10, metric=manhattan, n_neighbors=5; total time=   1.1s\n",
      "[CV] END ......leaf_size=10, metric=manhattan, n_neighbors=5; total time=   1.1s\n",
      "[CV] END ......leaf_size=10, metric=manhattan, n_neighbors=5; total time=   1.0s\n",
      "[CV] END .....leaf_size=10, metric=manhattan, n_neighbors=10; total time=   1.1s\n",
      "[CV] END .....leaf_size=10, metric=manhattan, n_neighbors=10; total time=   1.1s\n",
      "[CV] END .....leaf_size=10, metric=manhattan, n_neighbors=10; total time=   1.1s\n",
      "[CV] END .....leaf_size=10, metric=manhattan, n_neighbors=10; total time=   1.1s\n",
      "[CV] END .....leaf_size=10, metric=manhattan, n_neighbors=10; total time=   1.1s\n",
      "[CV] END .....leaf_size=10, metric=manhattan, n_neighbors=20; total time=   1.1s\n",
      "[CV] END .....leaf_size=10, metric=manhattan, n_neighbors=20; total time=   1.1s\n",
      "[CV] END .....leaf_size=10, metric=manhattan, n_neighbors=20; total time=   1.1s\n",
      "[CV] END .....leaf_size=10, metric=manhattan, n_neighbors=20; total time=   1.1s\n",
      "[CV] END .....leaf_size=10, metric=manhattan, n_neighbors=20; total time=   1.1s\n",
      "[CV] END ......leaf_size=20, metric=minkowski, n_neighbors=3; total time=   1.3s\n",
      "[CV] END ......leaf_size=20, metric=minkowski, n_neighbors=3; total time=   1.3s\n",
      "[CV] END ......leaf_size=20, metric=minkowski, n_neighbors=3; total time=   1.3s\n",
      "[CV] END ......leaf_size=20, metric=minkowski, n_neighbors=3; total time=   1.3s\n",
      "[CV] END ......leaf_size=20, metric=minkowski, n_neighbors=3; total time=   1.3s\n",
      "[CV] END ......leaf_size=20, metric=minkowski, n_neighbors=5; total time=   0.8s\n",
      "[CV] END ......leaf_size=20, metric=minkowski, n_neighbors=5; total time=   0.8s\n",
      "[CV] END ......leaf_size=20, metric=minkowski, n_neighbors=5; total time=   0.8s\n",
      "[CV] END ......leaf_size=20, metric=minkowski, n_neighbors=5; total time=   0.8s\n",
      "[CV] END ......leaf_size=20, metric=minkowski, n_neighbors=5; total time=   0.8s\n",
      "[CV] END .....leaf_size=20, metric=minkowski, n_neighbors=10; total time=   0.8s\n",
      "[CV] END .....leaf_size=20, metric=minkowski, n_neighbors=10; total time=   0.8s\n",
      "[CV] END .....leaf_size=20, metric=minkowski, n_neighbors=10; total time=   0.8s\n",
      "[CV] END .....leaf_size=20, metric=minkowski, n_neighbors=10; total time=   0.8s\n",
      "[CV] END .....leaf_size=20, metric=minkowski, n_neighbors=10; total time=   0.8s\n",
      "[CV] END .....leaf_size=20, metric=minkowski, n_neighbors=20; total time=   0.8s\n",
      "[CV] END .....leaf_size=20, metric=minkowski, n_neighbors=20; total time=   0.8s\n",
      "[CV] END .....leaf_size=20, metric=minkowski, n_neighbors=20; total time=   0.8s\n",
      "[CV] END .....leaf_size=20, metric=minkowski, n_neighbors=20; total time=   0.8s\n",
      "[CV] END .....leaf_size=20, metric=minkowski, n_neighbors=20; total time=   0.8s\n",
      "[CV] END ......leaf_size=20, metric=euclidean, n_neighbors=3; total time=   1.3s\n",
      "[CV] END ......leaf_size=20, metric=euclidean, n_neighbors=3; total time=   1.3s\n",
      "[CV] END ......leaf_size=20, metric=euclidean, n_neighbors=3; total time=   1.3s\n",
      "[CV] END ......leaf_size=20, metric=euclidean, n_neighbors=3; total time=   1.3s\n",
      "[CV] END ......leaf_size=20, metric=euclidean, n_neighbors=3; total time=   1.3s\n",
      "[CV] END ......leaf_size=20, metric=euclidean, n_neighbors=5; total time=   0.8s\n",
      "[CV] END ......leaf_size=20, metric=euclidean, n_neighbors=5; total time=   0.8s\n",
      "[CV] END ......leaf_size=20, metric=euclidean, n_neighbors=5; total time=   0.8s\n",
      "[CV] END ......leaf_size=20, metric=euclidean, n_neighbors=5; total time=   0.8s\n",
      "[CV] END ......leaf_size=20, metric=euclidean, n_neighbors=5; total time=   0.8s\n",
      "[CV] END .....leaf_size=20, metric=euclidean, n_neighbors=10; total time=   0.8s\n",
      "[CV] END .....leaf_size=20, metric=euclidean, n_neighbors=10; total time=   0.8s\n",
      "[CV] END .....leaf_size=20, metric=euclidean, n_neighbors=10; total time=   0.8s\n",
      "[CV] END .....leaf_size=20, metric=euclidean, n_neighbors=10; total time=   0.8s\n",
      "[CV] END .....leaf_size=20, metric=euclidean, n_neighbors=10; total time=   0.8s\n",
      "[CV] END .....leaf_size=20, metric=euclidean, n_neighbors=20; total time=   0.8s\n",
      "[CV] END .....leaf_size=20, metric=euclidean, n_neighbors=20; total time=   0.8s\n",
      "[CV] END .....leaf_size=20, metric=euclidean, n_neighbors=20; total time=   0.8s\n",
      "[CV] END .....leaf_size=20, metric=euclidean, n_neighbors=20; total time=   0.8s\n",
      "[CV] END .....leaf_size=20, metric=euclidean, n_neighbors=20; total time=   0.8s\n",
      "[CV] END ......leaf_size=20, metric=manhattan, n_neighbors=3; total time=   1.5s\n",
      "[CV] END ......leaf_size=20, metric=manhattan, n_neighbors=3; total time=   1.5s\n",
      "[CV] END ......leaf_size=20, metric=manhattan, n_neighbors=3; total time=   1.5s\n",
      "[CV] END ......leaf_size=20, metric=manhattan, n_neighbors=3; total time=   1.5s\n",
      "[CV] END ......leaf_size=20, metric=manhattan, n_neighbors=3; total time=   1.5s\n",
      "[CV] END ......leaf_size=20, metric=manhattan, n_neighbors=5; total time=   1.2s\n",
      "[CV] END ......leaf_size=20, metric=manhattan, n_neighbors=5; total time=   1.2s\n",
      "[CV] END ......leaf_size=20, metric=manhattan, n_neighbors=5; total time=   1.1s\n",
      "[CV] END ......leaf_size=20, metric=manhattan, n_neighbors=5; total time=   1.0s\n",
      "[CV] END ......leaf_size=20, metric=manhattan, n_neighbors=5; total time=   1.0s\n",
      "[CV] END .....leaf_size=20, metric=manhattan, n_neighbors=10; total time=   1.1s\n",
      "[CV] END .....leaf_size=20, metric=manhattan, n_neighbors=10; total time=   1.1s\n",
      "[CV] END .....leaf_size=20, metric=manhattan, n_neighbors=10; total time=   1.1s\n",
      "[CV] END .....leaf_size=20, metric=manhattan, n_neighbors=10; total time=   1.1s\n",
      "[CV] END .....leaf_size=20, metric=manhattan, n_neighbors=10; total time=   1.0s\n",
      "[CV] END .....leaf_size=20, metric=manhattan, n_neighbors=20; total time=   1.1s\n",
      "[CV] END .....leaf_size=20, metric=manhattan, n_neighbors=20; total time=   1.1s\n",
      "[CV] END .....leaf_size=20, metric=manhattan, n_neighbors=20; total time=   1.1s\n",
      "[CV] END .....leaf_size=20, metric=manhattan, n_neighbors=20; total time=   1.1s\n",
      "[CV] END .....leaf_size=20, metric=manhattan, n_neighbors=20; total time=   1.1s\n",
      "[CV] END ......leaf_size=30, metric=minkowski, n_neighbors=3; total time=   1.3s\n",
      "[CV] END ......leaf_size=30, metric=minkowski, n_neighbors=3; total time=   1.3s\n",
      "[CV] END ......leaf_size=30, metric=minkowski, n_neighbors=3; total time=   1.3s\n",
      "[CV] END ......leaf_size=30, metric=minkowski, n_neighbors=3; total time=   1.3s\n",
      "[CV] END ......leaf_size=30, metric=minkowski, n_neighbors=3; total time=   1.3s\n",
      "[CV] END ......leaf_size=30, metric=minkowski, n_neighbors=5; total time=   0.8s\n",
      "[CV] END ......leaf_size=30, metric=minkowski, n_neighbors=5; total time=   0.8s\n",
      "[CV] END ......leaf_size=30, metric=minkowski, n_neighbors=5; total time=   0.8s\n",
      "[CV] END ......leaf_size=30, metric=minkowski, n_neighbors=5; total time=   0.8s\n",
      "[CV] END ......leaf_size=30, metric=minkowski, n_neighbors=5; total time=   0.8s\n",
      "[CV] END .....leaf_size=30, metric=minkowski, n_neighbors=10; total time=   0.8s\n",
      "[CV] END .....leaf_size=30, metric=minkowski, n_neighbors=10; total time=   0.8s\n",
      "[CV] END .....leaf_size=30, metric=minkowski, n_neighbors=10; total time=   0.8s\n",
      "[CV] END .....leaf_size=30, metric=minkowski, n_neighbors=10; total time=   0.8s\n",
      "[CV] END .....leaf_size=30, metric=minkowski, n_neighbors=10; total time=   0.8s\n",
      "[CV] END .....leaf_size=30, metric=minkowski, n_neighbors=20; total time=   0.8s\n",
      "[CV] END .....leaf_size=30, metric=minkowski, n_neighbors=20; total time=   0.8s\n",
      "[CV] END .....leaf_size=30, metric=minkowski, n_neighbors=20; total time=   0.8s\n",
      "[CV] END .....leaf_size=30, metric=minkowski, n_neighbors=20; total time=   0.8s\n",
      "[CV] END .....leaf_size=30, metric=minkowski, n_neighbors=20; total time=   0.8s\n",
      "[CV] END ......leaf_size=30, metric=euclidean, n_neighbors=3; total time=   1.3s\n",
      "[CV] END ......leaf_size=30, metric=euclidean, n_neighbors=3; total time=   1.3s\n",
      "[CV] END ......leaf_size=30, metric=euclidean, n_neighbors=3; total time=   1.3s\n",
      "[CV] END ......leaf_size=30, metric=euclidean, n_neighbors=3; total time=   1.3s\n",
      "[CV] END ......leaf_size=30, metric=euclidean, n_neighbors=3; total time=   1.3s\n",
      "[CV] END ......leaf_size=30, metric=euclidean, n_neighbors=5; total time=   0.8s\n",
      "[CV] END ......leaf_size=30, metric=euclidean, n_neighbors=5; total time=   0.8s\n",
      "[CV] END ......leaf_size=30, metric=euclidean, n_neighbors=5; total time=   0.8s\n",
      "[CV] END ......leaf_size=30, metric=euclidean, n_neighbors=5; total time=   0.8s\n",
      "[CV] END ......leaf_size=30, metric=euclidean, n_neighbors=5; total time=   0.8s\n",
      "[CV] END .....leaf_size=30, metric=euclidean, n_neighbors=10; total time=   0.8s\n",
      "[CV] END .....leaf_size=30, metric=euclidean, n_neighbors=10; total time=   0.8s\n",
      "[CV] END .....leaf_size=30, metric=euclidean, n_neighbors=10; total time=   0.8s\n",
      "[CV] END .....leaf_size=30, metric=euclidean, n_neighbors=10; total time=   0.8s\n",
      "[CV] END .....leaf_size=30, metric=euclidean, n_neighbors=10; total time=   0.8s\n",
      "[CV] END .....leaf_size=30, metric=euclidean, n_neighbors=20; total time=   0.8s\n",
      "[CV] END .....leaf_size=30, metric=euclidean, n_neighbors=20; total time=   0.8s\n",
      "[CV] END .....leaf_size=30, metric=euclidean, n_neighbors=20; total time=   0.8s\n",
      "[CV] END .....leaf_size=30, metric=euclidean, n_neighbors=20; total time=   0.8s\n",
      "[CV] END .....leaf_size=30, metric=euclidean, n_neighbors=20; total time=   0.8s\n",
      "[CV] END ......leaf_size=30, metric=manhattan, n_neighbors=3; total time=   1.5s\n",
      "[CV] END ......leaf_size=30, metric=manhattan, n_neighbors=3; total time=   1.5s\n",
      "[CV] END ......leaf_size=30, metric=manhattan, n_neighbors=3; total time=   1.5s\n",
      "[CV] END ......leaf_size=30, metric=manhattan, n_neighbors=3; total time=   1.5s\n",
      "[CV] END ......leaf_size=30, metric=manhattan, n_neighbors=3; total time=   1.5s\n",
      "[CV] END ......leaf_size=30, metric=manhattan, n_neighbors=5; total time=   1.1s\n",
      "[CV] END ......leaf_size=30, metric=manhattan, n_neighbors=5; total time=   1.1s\n",
      "[CV] END ......leaf_size=30, metric=manhattan, n_neighbors=5; total time=   1.1s\n",
      "[CV] END ......leaf_size=30, metric=manhattan, n_neighbors=5; total time=   1.0s\n",
      "[CV] END ......leaf_size=30, metric=manhattan, n_neighbors=5; total time=   1.0s\n",
      "[CV] END .....leaf_size=30, metric=manhattan, n_neighbors=10; total time=   1.1s\n",
      "[CV] END .....leaf_size=30, metric=manhattan, n_neighbors=10; total time=   1.1s\n",
      "[CV] END .....leaf_size=30, metric=manhattan, n_neighbors=10; total time=   1.1s\n",
      "[CV] END .....leaf_size=30, metric=manhattan, n_neighbors=10; total time=   1.0s\n",
      "[CV] END .....leaf_size=30, metric=manhattan, n_neighbors=10; total time=   1.1s\n",
      "[CV] END .....leaf_size=30, metric=manhattan, n_neighbors=20; total time=   1.1s\n",
      "[CV] END .....leaf_size=30, metric=manhattan, n_neighbors=20; total time=   1.1s\n",
      "[CV] END .....leaf_size=30, metric=manhattan, n_neighbors=20; total time=   1.1s\n",
      "[CV] END .....leaf_size=30, metric=manhattan, n_neighbors=20; total time=   1.1s\n",
      "[CV] END .....leaf_size=30, metric=manhattan, n_neighbors=20; total time=   1.1s\n",
      "[CV] END ......leaf_size=50, metric=minkowski, n_neighbors=3; total time=   1.3s\n",
      "[CV] END ......leaf_size=50, metric=minkowski, n_neighbors=3; total time=   1.3s\n",
      "[CV] END ......leaf_size=50, metric=minkowski, n_neighbors=3; total time=   1.3s\n",
      "[CV] END ......leaf_size=50, metric=minkowski, n_neighbors=3; total time=   1.3s\n",
      "[CV] END ......leaf_size=50, metric=minkowski, n_neighbors=3; total time=   1.3s\n",
      "[CV] END ......leaf_size=50, metric=minkowski, n_neighbors=5; total time=   0.8s\n",
      "[CV] END ......leaf_size=50, metric=minkowski, n_neighbors=5; total time=   0.8s\n",
      "[CV] END ......leaf_size=50, metric=minkowski, n_neighbors=5; total time=   0.8s\n",
      "[CV] END ......leaf_size=50, metric=minkowski, n_neighbors=5; total time=   0.8s\n",
      "[CV] END ......leaf_size=50, metric=minkowski, n_neighbors=5; total time=   0.8s\n",
      "[CV] END .....leaf_size=50, metric=minkowski, n_neighbors=10; total time=   0.8s\n",
      "[CV] END .....leaf_size=50, metric=minkowski, n_neighbors=10; total time=   0.8s\n",
      "[CV] END .....leaf_size=50, metric=minkowski, n_neighbors=10; total time=   0.8s\n",
      "[CV] END .....leaf_size=50, metric=minkowski, n_neighbors=10; total time=   0.8s\n",
      "[CV] END .....leaf_size=50, metric=minkowski, n_neighbors=10; total time=   0.8s\n",
      "[CV] END .....leaf_size=50, metric=minkowski, n_neighbors=20; total time=   0.8s\n",
      "[CV] END .....leaf_size=50, metric=minkowski, n_neighbors=20; total time=   0.8s\n",
      "[CV] END .....leaf_size=50, metric=minkowski, n_neighbors=20; total time=   0.8s\n",
      "[CV] END .....leaf_size=50, metric=minkowski, n_neighbors=20; total time=   0.8s\n",
      "[CV] END .....leaf_size=50, metric=minkowski, n_neighbors=20; total time=   0.8s\n",
      "[CV] END ......leaf_size=50, metric=euclidean, n_neighbors=3; total time=   1.3s\n",
      "[CV] END ......leaf_size=50, metric=euclidean, n_neighbors=3; total time=   1.3s\n",
      "[CV] END ......leaf_size=50, metric=euclidean, n_neighbors=3; total time=   1.3s\n",
      "[CV] END ......leaf_size=50, metric=euclidean, n_neighbors=3; total time=   1.3s\n",
      "[CV] END ......leaf_size=50, metric=euclidean, n_neighbors=3; total time=   1.3s\n",
      "[CV] END ......leaf_size=50, metric=euclidean, n_neighbors=5; total time=   0.8s\n",
      "[CV] END ......leaf_size=50, metric=euclidean, n_neighbors=5; total time=   0.8s\n",
      "[CV] END ......leaf_size=50, metric=euclidean, n_neighbors=5; total time=   0.8s\n",
      "[CV] END ......leaf_size=50, metric=euclidean, n_neighbors=5; total time=   0.8s\n",
      "[CV] END ......leaf_size=50, metric=euclidean, n_neighbors=5; total time=   0.8s\n",
      "[CV] END .....leaf_size=50, metric=euclidean, n_neighbors=10; total time=   0.8s\n",
      "[CV] END .....leaf_size=50, metric=euclidean, n_neighbors=10; total time=   0.8s\n",
      "[CV] END .....leaf_size=50, metric=euclidean, n_neighbors=10; total time=   0.8s\n",
      "[CV] END .....leaf_size=50, metric=euclidean, n_neighbors=10; total time=   0.8s\n",
      "[CV] END .....leaf_size=50, metric=euclidean, n_neighbors=10; total time=   0.8s\n",
      "[CV] END .....leaf_size=50, metric=euclidean, n_neighbors=20; total time=   0.8s\n",
      "[CV] END .....leaf_size=50, metric=euclidean, n_neighbors=20; total time=   0.8s\n",
      "[CV] END .....leaf_size=50, metric=euclidean, n_neighbors=20; total time=   0.8s\n",
      "[CV] END .....leaf_size=50, metric=euclidean, n_neighbors=20; total time=   0.8s\n",
      "[CV] END .....leaf_size=50, metric=euclidean, n_neighbors=20; total time=   0.8s\n",
      "[CV] END ......leaf_size=50, metric=manhattan, n_neighbors=3; total time=   1.5s\n",
      "[CV] END ......leaf_size=50, metric=manhattan, n_neighbors=3; total time=   1.5s\n",
      "[CV] END ......leaf_size=50, metric=manhattan, n_neighbors=3; total time=   1.5s\n",
      "[CV] END ......leaf_size=50, metric=manhattan, n_neighbors=3; total time=   1.5s\n",
      "[CV] END ......leaf_size=50, metric=manhattan, n_neighbors=3; total time=   1.5s\n",
      "[CV] END ......leaf_size=50, metric=manhattan, n_neighbors=5; total time=   1.1s\n",
      "[CV] END ......leaf_size=50, metric=manhattan, n_neighbors=5; total time=   1.1s\n",
      "[CV] END ......leaf_size=50, metric=manhattan, n_neighbors=5; total time=   1.1s\n",
      "[CV] END ......leaf_size=50, metric=manhattan, n_neighbors=5; total time=   1.0s\n",
      "[CV] END ......leaf_size=50, metric=manhattan, n_neighbors=5; total time=   1.0s\n",
      "[CV] END .....leaf_size=50, metric=manhattan, n_neighbors=10; total time=   1.1s\n",
      "[CV] END .....leaf_size=50, metric=manhattan, n_neighbors=10; total time=   1.1s\n",
      "[CV] END .....leaf_size=50, metric=manhattan, n_neighbors=10; total time=   1.1s\n",
      "[CV] END .....leaf_size=50, metric=manhattan, n_neighbors=10; total time=   1.1s\n",
      "[CV] END .....leaf_size=50, metric=manhattan, n_neighbors=10; total time=   1.0s\n",
      "[CV] END .....leaf_size=50, metric=manhattan, n_neighbors=20; total time=   1.1s\n",
      "[CV] END .....leaf_size=50, metric=manhattan, n_neighbors=20; total time=   1.1s\n",
      "[CV] END .....leaf_size=50, metric=manhattan, n_neighbors=20; total time=   1.1s\n",
      "[CV] END .....leaf_size=50, metric=manhattan, n_neighbors=20; total time=   1.1s\n",
      "[CV] END .....leaf_size=50, metric=manhattan, n_neighbors=20; total time=   1.1s\n"
     ]
    },
    {
     "data": {
      "text/plain": [
       "GridSearchCV(estimator=KNeighborsClassifier(),\n",
       "             param_grid={'leaf_size': [10, 20, 30, 50],\n",
       "                         'metric': ['minkowski', 'euclidean', 'manhattan'],\n",
       "                         'n_neighbors': [3, 5, 10, 20]},\n",
       "             verbose=2)"
      ]
     },
     "execution_count": 88,
     "metadata": {},
     "output_type": "execute_result"
    }
   ],
   "source": [
    "cv_kn.fit(X_train_scaled, y_train)"
   ]
  },
  {
   "cell_type": "code",
   "execution_count": 90,
   "metadata": {},
   "outputs": [
    {
     "data": {
      "text/plain": [
       "{'leaf_size': 10, 'metric': 'minkowski', 'n_neighbors': 20}"
      ]
     },
     "execution_count": 90,
     "metadata": {},
     "output_type": "execute_result"
    }
   ],
   "source": [
    "cv_kn.best_params_"
   ]
  },
  {
   "cell_type": "markdown",
   "metadata": {},
   "source": [
    "## [ ] Best Model with Best Hyperparameters"
   ]
  },
  {
   "cell_type": "code",
   "execution_count": 131,
   "metadata": {},
   "outputs": [],
   "source": [
    "dic_results = {\n",
    "    'model': [\n",
    "        cv_dt.best_estimator_,\n",
    "        cv_sv.best_estimator_,\n",
    "        cv_kn.best_estimator_\n",
    "    ],\n",
    "    'hyperparameters': [\n",
    "        cv_dt.best_params_,\n",
    "        cv_sv.best_params_,\n",
    "        cv_kn.best_params_\n",
    "    ],\n",
    "    'score': [\n",
    "        cv_dt.score(X_test, y_test),\n",
    "        cv_sv.score(X_test_scaled, y_test),\n",
    "        cv_kn.score(X_test_scaled, y_test)\n",
    "    ]\n",
    "}"
   ]
  },
  {
   "cell_type": "code",
   "execution_count": 134,
   "metadata": {},
   "outputs": [],
   "source": [
    "df_res = pd.DataFrame(dic_results)"
   ]
  },
  {
   "cell_type": "code",
   "execution_count": 136,
   "metadata": {},
   "outputs": [
    {
     "data": {
      "text/html": [
       "<style type=\"text/css\">\n",
       "#T_02fff_row0_col2 {\n",
       "  background-color: #023c5f;\n",
       "  color: #f1f1f1;\n",
       "}\n",
       "#T_02fff_row1_col2 {\n",
       "  background-color: #023858;\n",
       "  color: #f1f1f1;\n",
       "}\n",
       "#T_02fff_row2_col2 {\n",
       "  background-color: #fff7fb;\n",
       "  color: #000000;\n",
       "}\n",
       "</style>\n",
       "<table id=\"T_02fff_\">\n",
       "  <thead>\n",
       "    <tr>\n",
       "      <th class=\"blank level0\" >&nbsp;</th>\n",
       "      <th class=\"col_heading level0 col0\" >model</th>\n",
       "      <th class=\"col_heading level0 col1\" >hyperparameters</th>\n",
       "      <th class=\"col_heading level0 col2\" >score</th>\n",
       "    </tr>\n",
       "  </thead>\n",
       "  <tbody>\n",
       "    <tr>\n",
       "      <th id=\"T_02fff_level0_row0\" class=\"row_heading level0 row0\" >0</th>\n",
       "      <td id=\"T_02fff_row0_col0\" class=\"data row0 col0\" >DecisionTreeClassifier(criterion='entropy', max_depth=5, min_samples_leaf=100)</td>\n",
       "      <td id=\"T_02fff_row0_col1\" class=\"data row0 col1\" >{'criterion': 'entropy', 'max_depth': 5, 'min_samples_leaf': 100}</td>\n",
       "      <td id=\"T_02fff_row0_col2\" class=\"data row0 col2\" >0.818687</td>\n",
       "    </tr>\n",
       "    <tr>\n",
       "      <th id=\"T_02fff_level0_row1\" class=\"row_heading level0 row1\" >1</th>\n",
       "      <td id=\"T_02fff_row1_col0\" class=\"data row1 col0\" >SVC(C=10)</td>\n",
       "      <td id=\"T_02fff_row1_col1\" class=\"data row1 col1\" >{'C': 10, 'kernel': 'rbf'}</td>\n",
       "      <td id=\"T_02fff_row1_col2\" class=\"data row1 col2\" >0.818889</td>\n",
       "    </tr>\n",
       "    <tr>\n",
       "      <th id=\"T_02fff_level0_row2\" class=\"row_heading level0 row2\" >2</th>\n",
       "      <td id=\"T_02fff_row2_col0\" class=\"data row2 col0\" >KNeighborsClassifier(leaf_size=10, n_neighbors=20)</td>\n",
       "      <td id=\"T_02fff_row2_col1\" class=\"data row2 col1\" >{'leaf_size': 10, 'metric': 'minkowski', 'n_neighbors': 20}</td>\n",
       "      <td id=\"T_02fff_row2_col2\" class=\"data row2 col2\" >0.807677</td>\n",
       "    </tr>\n",
       "  </tbody>\n",
       "</table>\n"
      ],
      "text/plain": [
       "<pandas.io.formats.style.Styler at 0x1524c1df0>"
      ]
     },
     "execution_count": 136,
     "metadata": {},
     "output_type": "execute_result"
    }
   ],
   "source": [
    "df_res.style.background_gradient()"
   ]
  },
  {
   "cell_type": "markdown",
   "metadata": {},
   "source": [
    "<a rel=\"license\" href=\"http://creativecommons.org/licenses/by-nc-nd/4.0/\"><img alt=\"Creative Commons License\" style=\"border-width:0\" src=\"https://i.creativecommons.org/l/by-nc-nd/4.0/88x31.png\" /></a><br />This work is licensed under a <a rel=\"license\" href=\"http://creativecommons.org/licenses/by-nc-nd/4.0/\">Creative Commons Attribution-NonCommercial-NoDerivatives 4.0 International License</a>."
   ]
  }
 ],
 "metadata": {
  "authors": [
   {
    "blog": "https//blog.pythonresolver.com",
    "name": "Jesús López",
    "twitter": "https://twitter.com/jsulopz"
   }
  ],
  "kernelspec": {
   "display_name": "Python 3 (ipykernel)",
   "language": "python",
   "name": "python3"
  },
  "language_info": {
   "codemirror_mode": {
    "name": "ipython",
    "version": 3
   },
   "file_extension": ".py",
   "mimetype": "text/x-python",
   "name": "python",
   "nbconvert_exporter": "python",
   "pygments_lexer": "ipython3",
   "version": "3.9.7"
  },
  "title": "Hyperparameter Tuning with Cross Validation",
  "toc-autonumbering": true
 },
 "nbformat": 4,
 "nbformat_minor": 4
}
