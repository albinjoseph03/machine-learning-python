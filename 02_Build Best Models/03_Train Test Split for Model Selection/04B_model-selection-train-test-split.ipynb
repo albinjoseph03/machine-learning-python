{
 "cells": [
  {
   "cell_type": "markdown",
   "id": "a3195a8a",
   "metadata": {},
   "source": [
    "**© Jesús López**\n",
    "\n",
    "Ask him any doubt on **[Twitter](https://twitter.com/jsulopzs)** or **[LinkedIn](https://linkedin.com/in/jsulopzs)**\n",
    "\n",
    "## Chapter Importance\n",
    "\n",
    "Machine Learning models learn a mathematical equation from historical data.\n",
    "\n",
    "Not all Machine Learning models predict the same way; some models are better than others.\n",
    "\n",
    "We measure how good a model is by calculating its score (accuracy).\n",
    "\n",
    "So far, we have calculated the model's score using the same data to fit (train) the mathematical equation. That's cheating. That's overfitting.\n",
    "\n",
    "This tutorial compares 3 different models:\n",
    "\n",
    "- Decision Tree\n",
    "- Logistic Regression\n",
    "- Support Vector Machines\n",
    "\n",
    "We validate the models in 2 different ways:\n",
    "\n",
    "1. Using the same data during training\n",
    "2. Using 30% of the data; not used during training\n",
    "\n",
    "To demonstrate how the selection of the best model changes if we are to validate the model with data not used during training.\n",
    "\n",
    "For example, the image below shows the best model, when using the same data for validation, is the Decision Tree (0.86 of accuracy). Nevertheless, everything changes when the model is evaluated with data not used during training; the best model is the Logistic Regression (0.85 of accuracy). Whereas the Decision Tree only gets up to 0.80 of accuracy.\n",
    "\n",
    "\n",
    "![df_comp.jpeg](https://cdn.hashnode.com/res/hashnode/image/upload/v1661356658503/xtMfk_S0n.jpeg align=\"left\")\n",
    "\n",
    "Were we a bank whose losses rank up to 1M USD due to 0.01 fail in accuracy, we would have lost 5M USD. This is something that happens in real life.\n",
    "\n",
    "In short, banks are interested in good models to predict new potential customers. Not historical customers who have already gotten a loan and the bank knows if they were good to pay or not.\n",
    "\n",
    "This tutorial shows you how to implement the `train_test_split` technique to reduce overfitting with a practical use case where we want to classify whether a person used the Internet or not.\n",
    "\n",
    "## [ ] Load the Data\n",
    "\n",
    "Load the dataset from [CIS](https://www.cis.es/cis/opencms/ES/index.html), executing the following lines of code:"
   ]
  },
  {
   "cell_type": "code",
   "execution_count": 2,
   "id": "8132e247",
   "metadata": {
    "tags": []
   },
   "outputs": [
    {
     "data": {
      "text/html": [
       "<div>\n",
       "<style scoped>\n",
       "    .dataframe tbody tr th:only-of-type {\n",
       "        vertical-align: middle;\n",
       "    }\n",
       "\n",
       "    .dataframe tbody tr th {\n",
       "        vertical-align: top;\n",
       "    }\n",
       "\n",
       "    .dataframe thead th {\n",
       "        text-align: right;\n",
       "    }\n",
       "</style>\n",
       "<table border=\"1\" class=\"dataframe\">\n",
       "  <thead>\n",
       "    <tr style=\"text-align: right;\">\n",
       "      <th></th>\n",
       "      <th>internet_usage</th>\n",
       "      <th>sex</th>\n",
       "      <th>age</th>\n",
       "      <th>education</th>\n",
       "    </tr>\n",
       "    <tr>\n",
       "      <th>name</th>\n",
       "      <th></th>\n",
       "      <th></th>\n",
       "      <th></th>\n",
       "      <th></th>\n",
       "    </tr>\n",
       "  </thead>\n",
       "  <tbody>\n",
       "    <tr>\n",
       "      <th>Josefina</th>\n",
       "      <td>0</td>\n",
       "      <td>Female</td>\n",
       "      <td>66</td>\n",
       "      <td>Elementary</td>\n",
       "    </tr>\n",
       "    <tr>\n",
       "      <th>Vicki</th>\n",
       "      <td>1</td>\n",
       "      <td>Male</td>\n",
       "      <td>72</td>\n",
       "      <td>Elementary</td>\n",
       "    </tr>\n",
       "    <tr>\n",
       "      <th>...</th>\n",
       "      <td>...</td>\n",
       "      <td>...</td>\n",
       "      <td>...</td>\n",
       "      <td>...</td>\n",
       "    </tr>\n",
       "    <tr>\n",
       "      <th>Christine</th>\n",
       "      <td>1</td>\n",
       "      <td>Male</td>\n",
       "      <td>31</td>\n",
       "      <td>High School</td>\n",
       "    </tr>\n",
       "    <tr>\n",
       "      <th>Pepe</th>\n",
       "      <td>0</td>\n",
       "      <td>Male</td>\n",
       "      <td>52</td>\n",
       "      <td>Elementary</td>\n",
       "    </tr>\n",
       "  </tbody>\n",
       "</table>\n",
       "<p>2455 rows × 4 columns</p>\n",
       "</div>"
      ],
      "text/plain": [
       "           internet_usage     sex  age    education\n",
       "name                                               \n",
       "Josefina                0  Female   66   Elementary\n",
       "Vicki                   1    Male   72   Elementary\n",
       "...                   ...     ...  ...          ...\n",
       "Christine               1    Male   31  High School\n",
       "Pepe                    0    Male   52   Elementary\n",
       "\n",
       "[2455 rows x 4 columns]"
      ]
     },
     "execution_count": 2,
     "metadata": {},
     "output_type": "execute_result"
    }
   ],
   "source": [
    "import pandas as pd #!\n",
    "\n",
    "df_internet = pd.read_excel('https://github.com/jsulopzs/data/blob/main/internet_usage_spain.xlsx?raw=true', sheet_name=1, index_col=0)\n",
    "df_internet"
   ]
  },
  {
   "cell_type": "markdown",
   "id": "9b001075",
   "metadata": {},
   "source": [
    "- The goal of this dataset is\n",
    "- To predict `internet_usage` of **people** (rows)\n",
    "- Based on their **socio-demographical characteristics** (columns)\n",
    "\n",
    "## Preprocess the Data\n",
    "\n",
    "### Missing Data"
   ]
  },
  {
   "cell_type": "code",
   "execution_count": 4,
   "id": "7b5a6514-9cbe-4334-8c22-68187f158921",
   "metadata": {},
   "outputs": [
    {
     "data": {
      "text/plain": [
       "internet_usage    0\n",
       "sex               0\n",
       "age               0\n",
       "education         0\n",
       "dtype: int64"
      ]
     },
     "execution_count": 4,
     "metadata": {},
     "output_type": "execute_result"
    }
   ],
   "source": [
    "df_internet.isna().sum()"
   ]
  },
  {
   "cell_type": "markdown",
   "id": "745095df",
   "metadata": {},
   "source": [
    "### Dummy Variables"
   ]
  },
  {
   "cell_type": "code",
   "execution_count": 5,
   "id": "62bafcd9-ee61-4560-b0ca-fa5a2ffb9685",
   "metadata": {},
   "outputs": [
    {
     "data": {
      "text/html": [
       "<div>\n",
       "<style scoped>\n",
       "    .dataframe tbody tr th:only-of-type {\n",
       "        vertical-align: middle;\n",
       "    }\n",
       "\n",
       "    .dataframe tbody tr th {\n",
       "        vertical-align: top;\n",
       "    }\n",
       "\n",
       "    .dataframe thead th {\n",
       "        text-align: right;\n",
       "    }\n",
       "</style>\n",
       "<table border=\"1\" class=\"dataframe\">\n",
       "  <thead>\n",
       "    <tr style=\"text-align: right;\">\n",
       "      <th></th>\n",
       "      <th>internet_usage</th>\n",
       "      <th>sex</th>\n",
       "      <th>age</th>\n",
       "      <th>education</th>\n",
       "    </tr>\n",
       "    <tr>\n",
       "      <th>name</th>\n",
       "      <th></th>\n",
       "      <th></th>\n",
       "      <th></th>\n",
       "      <th></th>\n",
       "    </tr>\n",
       "  </thead>\n",
       "  <tbody>\n",
       "    <tr>\n",
       "      <th>Josefina</th>\n",
       "      <td>0</td>\n",
       "      <td>Female</td>\n",
       "      <td>66</td>\n",
       "      <td>Elementary</td>\n",
       "    </tr>\n",
       "    <tr>\n",
       "      <th>Vicki</th>\n",
       "      <td>1</td>\n",
       "      <td>Male</td>\n",
       "      <td>72</td>\n",
       "      <td>Elementary</td>\n",
       "    </tr>\n",
       "    <tr>\n",
       "      <th>...</th>\n",
       "      <td>...</td>\n",
       "      <td>...</td>\n",
       "      <td>...</td>\n",
       "      <td>...</td>\n",
       "    </tr>\n",
       "    <tr>\n",
       "      <th>Christine</th>\n",
       "      <td>1</td>\n",
       "      <td>Male</td>\n",
       "      <td>31</td>\n",
       "      <td>High School</td>\n",
       "    </tr>\n",
       "    <tr>\n",
       "      <th>Pepe</th>\n",
       "      <td>0</td>\n",
       "      <td>Male</td>\n",
       "      <td>52</td>\n",
       "      <td>Elementary</td>\n",
       "    </tr>\n",
       "  </tbody>\n",
       "</table>\n",
       "<p>2455 rows × 4 columns</p>\n",
       "</div>"
      ],
      "text/plain": [
       "           internet_usage     sex  age    education\n",
       "name                                               \n",
       "Josefina                0  Female   66   Elementary\n",
       "Vicki                   1    Male   72   Elementary\n",
       "...                   ...     ...  ...          ...\n",
       "Christine               1    Male   31  High School\n",
       "Pepe                    0    Male   52   Elementary\n",
       "\n",
       "[2455 rows x 4 columns]"
      ]
     },
     "execution_count": 5,
     "metadata": {},
     "output_type": "execute_result"
    }
   ],
   "source": [
    "df_internet"
   ]
  },
  {
   "cell_type": "code",
   "execution_count": 8,
   "id": "36448657-e546-433c-a2a8-85069a23dee0",
   "metadata": {},
   "outputs": [],
   "source": [
    "df_internet = pd.get_dummies(data=df_internet, drop_first=True)"
   ]
  },
  {
   "cell_type": "markdown",
   "id": "0152fe9f",
   "metadata": {},
   "source": [
    "## Feature Selection"
   ]
  },
  {
   "cell_type": "code",
   "execution_count": 10,
   "id": "2096dfc4-65a4-4c5b-b698-0873291cc8f7",
   "metadata": {},
   "outputs": [],
   "source": [
    "y = df_internet.internet_usage"
   ]
  },
  {
   "cell_type": "code",
   "execution_count": 13,
   "id": "fee0271e-dae4-4b4c-9cf0-62a752fb4d60",
   "metadata": {},
   "outputs": [],
   "source": [
    "X = df_internet.drop(columns='internet_usage')"
   ]
  },
  {
   "cell_type": "markdown",
   "id": "7f620e96",
   "metadata": {},
   "source": [
    "## [ ] Build & Compare Models' Scores\n",
    "\n",
    "We should already know that the Machine Learning procedure is the same all the time:\n",
    "1. Computing a mathematical equation: **fit**\n",
    "2. To calculate predictions: **predict**\n",
    "3. And compare them to reality: **score**\n",
    "\n",
    "The only element that changes is the `Class()` that contains lines of code of a specific algorithm (DecisionTreeClassifier, SVC, LogisticRegression).\n",
    "\n",
    "### `DecisionTreeClassifier()` Model in Python"
   ]
  },
  {
   "cell_type": "code",
   "execution_count": 14,
   "id": "07ca07c8-dabe-4c72-a7c2-e670cdcb5701",
   "metadata": {},
   "outputs": [],
   "source": [
    "from sklearn.tree import DecisionTreeClassifier"
   ]
  },
  {
   "cell_type": "code",
   "execution_count": 15,
   "id": "02dcf2f3-55f0-4c58-a0fb-5c094e7bf177",
   "metadata": {},
   "outputs": [],
   "source": [
    "model_dt = DecisionTreeClassifier()"
   ]
  },
  {
   "cell_type": "code",
   "execution_count": 16,
   "id": "8f617d17-b184-4003-bd96-969915387d71",
   "metadata": {},
   "outputs": [
    {
     "data": {
      "text/plain": [
       "DecisionTreeClassifier()"
      ]
     },
     "execution_count": 16,
     "metadata": {},
     "output_type": "execute_result"
    }
   ],
   "source": [
    "model_dt.fit(X,y)"
   ]
  },
  {
   "cell_type": "code",
   "execution_count": 17,
   "id": "05a88b2c-384a-4084-89ac-56031eadefae",
   "metadata": {},
   "outputs": [
    {
     "data": {
      "text/plain": [
       "0.859877800407332"
      ]
     },
     "execution_count": 17,
     "metadata": {},
     "output_type": "execute_result"
    }
   ],
   "source": [
    "model_dt.score(X,y)"
   ]
  },
  {
   "cell_type": "markdown",
   "id": "14e309b0",
   "metadata": {},
   "source": [
    "### `SVC()` Model in Python"
   ]
  },
  {
   "cell_type": "code",
   "execution_count": 18,
   "id": "3c1f0290-9616-49ae-98e4-b23f42ba7687",
   "metadata": {},
   "outputs": [],
   "source": [
    "from sklearn.svm import SVC"
   ]
  },
  {
   "cell_type": "code",
   "execution_count": 19,
   "id": "60a4e803-0ec6-458b-950f-db9c190040ac",
   "metadata": {},
   "outputs": [],
   "source": [
    "model_sv = SVC()"
   ]
  },
  {
   "cell_type": "code",
   "execution_count": 20,
   "id": "36184512-7ba2-45e0-b3b3-cd22ff1dc76f",
   "metadata": {},
   "outputs": [
    {
     "data": {
      "text/plain": [
       "SVC()"
      ]
     },
     "execution_count": 20,
     "metadata": {},
     "output_type": "execute_result"
    }
   ],
   "source": [
    "model_sv.fit(X,y)"
   ]
  },
  {
   "cell_type": "code",
   "execution_count": 21,
   "id": "b40ebf2d-d25c-4797-90ad-cc21aa741a85",
   "metadata": {},
   "outputs": [
    {
     "data": {
      "text/plain": [
       "0.7837067209775967"
      ]
     },
     "execution_count": 21,
     "metadata": {},
     "output_type": "execute_result"
    }
   ],
   "source": [
    "model_sv.score(X,y)"
   ]
  },
  {
   "cell_type": "markdown",
   "id": "0126772f",
   "metadata": {
    "tags": []
   },
   "source": [
    "### `LogisticRegression()` Model in Python"
   ]
  },
  {
   "cell_type": "code",
   "execution_count": 26,
   "id": "adc11241-f0cd-490e-a611-df8ea4f1c029",
   "metadata": {},
   "outputs": [],
   "source": [
    "from sklearn.linear_model import LogisticRegression"
   ]
  },
  {
   "cell_type": "code",
   "execution_count": 29,
   "id": "23f51b90-8c52-45de-a9ff-f05fc1585b3a",
   "metadata": {},
   "outputs": [],
   "source": [
    "model_lr = LogisticRegression(max_iter=1000)"
   ]
  },
  {
   "cell_type": "code",
   "execution_count": 30,
   "id": "1f2794ee-7a6a-4873-9b2e-e5f2fcee3183",
   "metadata": {},
   "outputs": [
    {
     "data": {
      "text/plain": [
       "LogisticRegression(max_iter=1000)"
      ]
     },
     "execution_count": 30,
     "metadata": {},
     "output_type": "execute_result"
    }
   ],
   "source": [
    "model_lr.fit(X,y)"
   ]
  },
  {
   "cell_type": "code",
   "execution_count": 31,
   "id": "3f589685-c18f-4773-a559-df8643636ef7",
   "metadata": {},
   "outputs": [
    {
     "data": {
      "text/plain": [
       "0.8334012219959267"
      ]
     },
     "execution_count": 31,
     "metadata": {},
     "output_type": "execute_result"
    }
   ],
   "source": [
    "model_lr.score(X,y)"
   ]
  },
  {
   "cell_type": "markdown",
   "id": "8c93b90c",
   "metadata": {},
   "source": [
    "## [ ] Function to Automate Lines of Code\n",
    "\n",
    "- We repeated all the time the same code:\n",
    "\n",
    "```Python\n",
    "model.fit()\n",
    "model.score()\n",
    "```\n",
    "\n",
    "- Why not turn the lines into a `function()` to **automate the process**?\n",
    "\n",
    "```Python\n",
    "calculate_accuracy(model_dt)\n",
    "calculate_accuracy(model_sv)\n",
    "calculate_accuracy(model_lr)\n",
    "```\n",
    "\n",
    "- To calculate the `accuracy`\n",
    "\n",
    "### Make a Procedure Sample for `DecisionTreeClassifier()`"
   ]
  },
  {
   "cell_type": "markdown",
   "id": "e810d600",
   "metadata": {},
   "source": [
    "### Automate the Procedure into a `function()`\n",
    "\n",
    "**Code Thinking**\n",
    "\n",
    "1. Think of the functions `result`\n",
    "2. Store that `object` to a variable\n",
    "3. `return` the `result` at the end\n",
    "4. **Indent the body** of the function to the right\n",
    "5. `def`ine the `function():`\n",
    "6. Think of what's gonna change when you execute the function with `different models`\n",
    "7. Locate the **`variable` that you will change**\n",
    "8. Turn it into the `parameter` of the `function()`"
   ]
  },
  {
   "cell_type": "code",
   "execution_count": 37,
   "id": "abfb465a-4401-4a11-9c8a-b927231e7418",
   "metadata": {},
   "outputs": [],
   "source": [
    "def calculate_accuracy(model):\n",
    "\n",
    "    model.fit(X,y)\n",
    "\n",
    "    result = model.score(X,y)\n",
    "\n",
    "    return result"
   ]
  },
  {
   "cell_type": "markdown",
   "id": "1e8cab1c",
   "metadata": {},
   "source": [
    "## Calculate Models' Accuracies\n",
    "\n",
    "### `DecisionTreeClassifier()` Accuracy"
   ]
  },
  {
   "cell_type": "code",
   "execution_count": 38,
   "id": "5b944159-3e27-4fba-bbbb-815f6139d158",
   "metadata": {},
   "outputs": [
    {
     "data": {
      "text/plain": [
       "0.859877800407332"
      ]
     },
     "execution_count": 38,
     "metadata": {},
     "output_type": "execute_result"
    }
   ],
   "source": [
    "calculate_accuracy(model_dt)"
   ]
  },
  {
   "cell_type": "markdown",
   "id": "8806904f",
   "metadata": {},
   "source": [
    "### `SVC()` Accuracy"
   ]
  },
  {
   "cell_type": "code",
   "execution_count": 39,
   "id": "f533618b-37c1-406f-8159-de5ff7ce4fcc",
   "metadata": {},
   "outputs": [
    {
     "data": {
      "text/plain": [
       "0.7837067209775967"
      ]
     },
     "execution_count": 39,
     "metadata": {},
     "output_type": "execute_result"
    }
   ],
   "source": [
    "calculate_accuracy(model_sv)"
   ]
  },
  {
   "cell_type": "markdown",
   "id": "7454947a",
   "metadata": {
    "tags": []
   },
   "source": [
    "### `LogisticRegression()` Accuracy"
   ]
  },
  {
   "cell_type": "code",
   "execution_count": 40,
   "id": "8cd1154a-362f-4724-b6d7-1368f2fd09ff",
   "metadata": {},
   "outputs": [
    {
     "data": {
      "text/plain": [
       "0.8334012219959267"
      ]
     },
     "execution_count": 40,
     "metadata": {},
     "output_type": "execute_result"
    }
   ],
   "source": [
    "calculate_accuracy(model_lr)"
   ]
  },
  {
   "cell_type": "markdown",
   "id": "8a2c7646",
   "metadata": {
    "tags": []
   },
   "source": [
    "## Which is the Best Model?"
   ]
  },
  {
   "cell_type": "code",
   "execution_count": null,
   "id": "0ad35a64-da58-4d36-a10d-7cfd8d63b509",
   "metadata": {},
   "outputs": [],
   "source": []
  },
  {
   "cell_type": "markdown",
   "id": "75162979",
   "metadata": {
    "tags": []
   },
   "source": [
    "## [ ] University Access Exams Analogy\n",
    "\n",
    "Let's **imagine**:\n",
    "\n",
    "1. You have a `math exam` on Saturday\n",
    "2. Today is Monday\n",
    "3. You want to **calibrate your level in case you need to study more** for the math exam\n",
    "4. How do you calibrate your `math level`?\n",
    "5. Well, you've got **100 questions `X` with 100 solutions `y`** from past years exams\n",
    "6. You may study the 100 questions with 100 solutions `fit(100questions, 100solutions)`\n",
    "7. Then, you may do a `mock exam` with the 100 questions `predict(100questions)`\n",
    "8. And compare `your_100solutions` with the `real_100solutions`\n",
    "9. You've got **90/100 correct answers** `accuracy` in the mock exam\n",
    "10. You think you are **prepared for the maths exam**\n",
    "11. And when you do **the real exam on Saturday, the mark is 40/100**\n",
    "12. Why? How could we have prevented this?\n",
    "13. **Solution**: separate the 100 questions into `70 for train` to study & `30 for test` for the mock exam.\n",
    "\n",
    "## `train_test_split()` the Data"
   ]
  },
  {
   "cell_type": "code",
   "execution_count": 43,
   "id": "a424b3cc-858b-4559-9964-b5ff832ef6c8",
   "metadata": {},
   "outputs": [],
   "source": [
    "from sklearn.model_selection import train_test_split"
   ]
  },
  {
   "cell_type": "code",
   "execution_count": 44,
   "id": "07a1aa0e-f60b-4ff5-8acc-fafdf7b4d3f6",
   "metadata": {},
   "outputs": [
    {
     "data": {
      "text/html": [
       "<div>\n",
       "<style scoped>\n",
       "    .dataframe tbody tr th:only-of-type {\n",
       "        vertical-align: middle;\n",
       "    }\n",
       "\n",
       "    .dataframe tbody tr th {\n",
       "        vertical-align: top;\n",
       "    }\n",
       "\n",
       "    .dataframe thead th {\n",
       "        text-align: right;\n",
       "    }\n",
       "</style>\n",
       "<table border=\"1\" class=\"dataframe\">\n",
       "  <thead>\n",
       "    <tr style=\"text-align: right;\">\n",
       "      <th></th>\n",
       "      <th>age</th>\n",
       "      <th>sex_Male</th>\n",
       "      <th>education_High School</th>\n",
       "      <th>education_Higher Level</th>\n",
       "      <th>education_No studies</th>\n",
       "      <th>education_PhD</th>\n",
       "      <th>education_University</th>\n",
       "    </tr>\n",
       "    <tr>\n",
       "      <th>name</th>\n",
       "      <th></th>\n",
       "      <th></th>\n",
       "      <th></th>\n",
       "      <th></th>\n",
       "      <th></th>\n",
       "      <th></th>\n",
       "      <th></th>\n",
       "    </tr>\n",
       "  </thead>\n",
       "  <tbody>\n",
       "    <tr>\n",
       "      <th>Josefina</th>\n",
       "      <td>66</td>\n",
       "      <td>0</td>\n",
       "      <td>0</td>\n",
       "      <td>0</td>\n",
       "      <td>0</td>\n",
       "      <td>0</td>\n",
       "      <td>0</td>\n",
       "    </tr>\n",
       "    <tr>\n",
       "      <th>Vicki</th>\n",
       "      <td>72</td>\n",
       "      <td>1</td>\n",
       "      <td>0</td>\n",
       "      <td>0</td>\n",
       "      <td>0</td>\n",
       "      <td>0</td>\n",
       "      <td>0</td>\n",
       "    </tr>\n",
       "    <tr>\n",
       "      <th>...</th>\n",
       "      <td>...</td>\n",
       "      <td>...</td>\n",
       "      <td>...</td>\n",
       "      <td>...</td>\n",
       "      <td>...</td>\n",
       "      <td>...</td>\n",
       "      <td>...</td>\n",
       "    </tr>\n",
       "    <tr>\n",
       "      <th>Christine</th>\n",
       "      <td>31</td>\n",
       "      <td>1</td>\n",
       "      <td>1</td>\n",
       "      <td>0</td>\n",
       "      <td>0</td>\n",
       "      <td>0</td>\n",
       "      <td>0</td>\n",
       "    </tr>\n",
       "    <tr>\n",
       "      <th>Pepe</th>\n",
       "      <td>52</td>\n",
       "      <td>1</td>\n",
       "      <td>0</td>\n",
       "      <td>0</td>\n",
       "      <td>0</td>\n",
       "      <td>0</td>\n",
       "      <td>0</td>\n",
       "    </tr>\n",
       "  </tbody>\n",
       "</table>\n",
       "<p>2455 rows × 7 columns</p>\n",
       "</div>"
      ],
      "text/plain": [
       "           age  sex_Male  education_High School  education_Higher Level  \\\n",
       "name                                                                      \n",
       "Josefina    66         0                      0                       0   \n",
       "Vicki       72         1                      0                       0   \n",
       "...        ...       ...                    ...                     ...   \n",
       "Christine   31         1                      1                       0   \n",
       "Pepe        52         1                      0                       0   \n",
       "\n",
       "           education_No studies  education_PhD  education_University  \n",
       "name                                                                  \n",
       "Josefina                      0              0                     0  \n",
       "Vicki                         0              0                     0  \n",
       "...                         ...            ...                   ...  \n",
       "Christine                     0              0                     0  \n",
       "Pepe                          0              0                     0  \n",
       "\n",
       "[2455 rows x 7 columns]"
      ]
     },
     "execution_count": 44,
     "metadata": {},
     "output_type": "execute_result"
    }
   ],
   "source": [
    "X"
   ]
  },
  {
   "cell_type": "code",
   "execution_count": 45,
   "id": "ea152a17-53e8-42d1-b847-13d17994b21f",
   "metadata": {},
   "outputs": [
    {
     "data": {
      "text/plain": [
       "name\n",
       "Josefina     0\n",
       "Vicki        1\n",
       "            ..\n",
       "Christine    1\n",
       "Pepe         0\n",
       "Name: internet_usage, Length: 2455, dtype: int64"
      ]
     },
     "execution_count": 45,
     "metadata": {},
     "output_type": "execute_result"
    }
   ],
   "source": [
    "y"
   ]
  },
  {
   "cell_type": "code",
   "execution_count": 46,
   "id": "522be369-cc59-4416-ba68-094e8b43555c",
   "metadata": {},
   "outputs": [],
   "source": [
    ">>> X_train, X_test, y_train, y_test = train_test_split(\n",
    "...     X, y, test_size=0.33, random_state=42)"
   ]
  },
  {
   "cell_type": "markdown",
   "id": "017f5b21",
   "metadata": {},
   "source": [
    "### What the heck is returning the function?"
   ]
  },
  {
   "cell_type": "code",
   "execution_count": 48,
   "id": "11e6d441-47ac-4084-8486-6bc616861225",
   "metadata": {},
   "outputs": [
    {
     "data": {
      "text/html": [
       "<div>\n",
       "<style scoped>\n",
       "    .dataframe tbody tr th:only-of-type {\n",
       "        vertical-align: middle;\n",
       "    }\n",
       "\n",
       "    .dataframe tbody tr th {\n",
       "        vertical-align: top;\n",
       "    }\n",
       "\n",
       "    .dataframe thead th {\n",
       "        text-align: right;\n",
       "    }\n",
       "</style>\n",
       "<table border=\"1\" class=\"dataframe\">\n",
       "  <thead>\n",
       "    <tr style=\"text-align: right;\">\n",
       "      <th></th>\n",
       "      <th>internet_usage</th>\n",
       "      <th>age</th>\n",
       "      <th>sex_Male</th>\n",
       "      <th>education_High School</th>\n",
       "      <th>education_Higher Level</th>\n",
       "      <th>education_No studies</th>\n",
       "      <th>education_PhD</th>\n",
       "      <th>education_University</th>\n",
       "    </tr>\n",
       "    <tr>\n",
       "      <th>name</th>\n",
       "      <th></th>\n",
       "      <th></th>\n",
       "      <th></th>\n",
       "      <th></th>\n",
       "      <th></th>\n",
       "      <th></th>\n",
       "      <th></th>\n",
       "      <th></th>\n",
       "    </tr>\n",
       "  </thead>\n",
       "  <tbody>\n",
       "    <tr>\n",
       "      <th>Josefina</th>\n",
       "      <td>0</td>\n",
       "      <td>66</td>\n",
       "      <td>0</td>\n",
       "      <td>0</td>\n",
       "      <td>0</td>\n",
       "      <td>0</td>\n",
       "      <td>0</td>\n",
       "      <td>0</td>\n",
       "    </tr>\n",
       "    <tr>\n",
       "      <th>Vicki</th>\n",
       "      <td>1</td>\n",
       "      <td>72</td>\n",
       "      <td>1</td>\n",
       "      <td>0</td>\n",
       "      <td>0</td>\n",
       "      <td>0</td>\n",
       "      <td>0</td>\n",
       "      <td>0</td>\n",
       "    </tr>\n",
       "    <tr>\n",
       "      <th>...</th>\n",
       "      <td>...</td>\n",
       "      <td>...</td>\n",
       "      <td>...</td>\n",
       "      <td>...</td>\n",
       "      <td>...</td>\n",
       "      <td>...</td>\n",
       "      <td>...</td>\n",
       "      <td>...</td>\n",
       "    </tr>\n",
       "    <tr>\n",
       "      <th>Christine</th>\n",
       "      <td>1</td>\n",
       "      <td>31</td>\n",
       "      <td>1</td>\n",
       "      <td>1</td>\n",
       "      <td>0</td>\n",
       "      <td>0</td>\n",
       "      <td>0</td>\n",
       "      <td>0</td>\n",
       "    </tr>\n",
       "    <tr>\n",
       "      <th>Pepe</th>\n",
       "      <td>0</td>\n",
       "      <td>52</td>\n",
       "      <td>1</td>\n",
       "      <td>0</td>\n",
       "      <td>0</td>\n",
       "      <td>0</td>\n",
       "      <td>0</td>\n",
       "      <td>0</td>\n",
       "    </tr>\n",
       "  </tbody>\n",
       "</table>\n",
       "<p>2455 rows × 8 columns</p>\n",
       "</div>"
      ],
      "text/plain": [
       "           internet_usage  age  sex_Male  education_High School  \\\n",
       "name                                                              \n",
       "Josefina                0   66         0                      0   \n",
       "Vicki                   1   72         1                      0   \n",
       "...                   ...  ...       ...                    ...   \n",
       "Christine               1   31         1                      1   \n",
       "Pepe                    0   52         1                      0   \n",
       "\n",
       "           education_Higher Level  education_No studies  education_PhD  \\\n",
       "name                                                                     \n",
       "Josefina                        0                     0              0   \n",
       "Vicki                           0                     0              0   \n",
       "...                           ...                   ...            ...   \n",
       "Christine                       0                     0              0   \n",
       "Pepe                            0                     0              0   \n",
       "\n",
       "           education_University  \n",
       "name                             \n",
       "Josefina                      0  \n",
       "Vicki                         0  \n",
       "...                         ...  \n",
       "Christine                     0  \n",
       "Pepe                          0  \n",
       "\n",
       "[2455 rows x 8 columns]"
      ]
     },
     "execution_count": 48,
     "metadata": {},
     "output_type": "execute_result"
    }
   ],
   "source": [
    "df_internet"
   ]
  },
  {
   "cell_type": "code",
   "execution_count": 49,
   "id": "ba793cd5-1cef-4fac-904d-ebe835e4a4cd",
   "metadata": {},
   "outputs": [
    {
     "data": {
      "text/html": [
       "<div>\n",
       "<style scoped>\n",
       "    .dataframe tbody tr th:only-of-type {\n",
       "        vertical-align: middle;\n",
       "    }\n",
       "\n",
       "    .dataframe tbody tr th {\n",
       "        vertical-align: top;\n",
       "    }\n",
       "\n",
       "    .dataframe thead th {\n",
       "        text-align: right;\n",
       "    }\n",
       "</style>\n",
       "<table border=\"1\" class=\"dataframe\">\n",
       "  <thead>\n",
       "    <tr style=\"text-align: right;\">\n",
       "      <th></th>\n",
       "      <th>age</th>\n",
       "      <th>sex_Male</th>\n",
       "      <th>education_High School</th>\n",
       "      <th>education_Higher Level</th>\n",
       "      <th>education_No studies</th>\n",
       "      <th>education_PhD</th>\n",
       "      <th>education_University</th>\n",
       "    </tr>\n",
       "    <tr>\n",
       "      <th>name</th>\n",
       "      <th></th>\n",
       "      <th></th>\n",
       "      <th></th>\n",
       "      <th></th>\n",
       "      <th></th>\n",
       "      <th></th>\n",
       "      <th></th>\n",
       "    </tr>\n",
       "  </thead>\n",
       "  <tbody>\n",
       "    <tr>\n",
       "      <th>Thomas</th>\n",
       "      <td>52</td>\n",
       "      <td>0</td>\n",
       "      <td>0</td>\n",
       "      <td>0</td>\n",
       "      <td>0</td>\n",
       "      <td>0</td>\n",
       "      <td>0</td>\n",
       "    </tr>\n",
       "    <tr>\n",
       "      <th>Pedro</th>\n",
       "      <td>48</td>\n",
       "      <td>1</td>\n",
       "      <td>0</td>\n",
       "      <td>1</td>\n",
       "      <td>0</td>\n",
       "      <td>0</td>\n",
       "      <td>0</td>\n",
       "    </tr>\n",
       "    <tr>\n",
       "      <th>...</th>\n",
       "      <td>...</td>\n",
       "      <td>...</td>\n",
       "      <td>...</td>\n",
       "      <td>...</td>\n",
       "      <td>...</td>\n",
       "      <td>...</td>\n",
       "      <td>...</td>\n",
       "    </tr>\n",
       "    <tr>\n",
       "      <th>James</th>\n",
       "      <td>18</td>\n",
       "      <td>1</td>\n",
       "      <td>1</td>\n",
       "      <td>0</td>\n",
       "      <td>0</td>\n",
       "      <td>0</td>\n",
       "      <td>0</td>\n",
       "    </tr>\n",
       "    <tr>\n",
       "      <th>Phyllis</th>\n",
       "      <td>62</td>\n",
       "      <td>0</td>\n",
       "      <td>0</td>\n",
       "      <td>0</td>\n",
       "      <td>0</td>\n",
       "      <td>0</td>\n",
       "      <td>0</td>\n",
       "    </tr>\n",
       "  </tbody>\n",
       "</table>\n",
       "<p>811 rows × 7 columns</p>\n",
       "</div>"
      ],
      "text/plain": [
       "         age  sex_Male  education_High School  education_Higher Level  \\\n",
       "name                                                                    \n",
       "Thomas    52         0                      0                       0   \n",
       "Pedro     48         1                      0                       1   \n",
       "...      ...       ...                    ...                     ...   \n",
       "James     18         1                      1                       0   \n",
       "Phyllis   62         0                      0                       0   \n",
       "\n",
       "         education_No studies  education_PhD  education_University  \n",
       "name                                                                \n",
       "Thomas                      0              0                     0  \n",
       "Pedro                       0              0                     0  \n",
       "...                       ...            ...                   ...  \n",
       "James                       0              0                     0  \n",
       "Phyllis                     0              0                     0  \n",
       "\n",
       "[811 rows x 7 columns]"
      ]
     },
     "execution_count": 49,
     "metadata": {},
     "output_type": "execute_result"
    }
   ],
   "source": [
    "X_test"
   ]
  },
  {
   "cell_type": "code",
   "execution_count": 47,
   "id": "a6c9e162-e325-4e8f-a1b1-8efb3a36347e",
   "metadata": {},
   "outputs": [
    {
     "data": {
      "text/html": [
       "<div>\n",
       "<style scoped>\n",
       "    .dataframe tbody tr th:only-of-type {\n",
       "        vertical-align: middle;\n",
       "    }\n",
       "\n",
       "    .dataframe tbody tr th {\n",
       "        vertical-align: top;\n",
       "    }\n",
       "\n",
       "    .dataframe thead th {\n",
       "        text-align: right;\n",
       "    }\n",
       "</style>\n",
       "<table border=\"1\" class=\"dataframe\">\n",
       "  <thead>\n",
       "    <tr style=\"text-align: right;\">\n",
       "      <th></th>\n",
       "      <th>age</th>\n",
       "      <th>sex_Male</th>\n",
       "      <th>education_High School</th>\n",
       "      <th>education_Higher Level</th>\n",
       "      <th>education_No studies</th>\n",
       "      <th>education_PhD</th>\n",
       "      <th>education_University</th>\n",
       "    </tr>\n",
       "    <tr>\n",
       "      <th>name</th>\n",
       "      <th></th>\n",
       "      <th></th>\n",
       "      <th></th>\n",
       "      <th></th>\n",
       "      <th></th>\n",
       "      <th></th>\n",
       "      <th></th>\n",
       "    </tr>\n",
       "  </thead>\n",
       "  <tbody>\n",
       "    <tr>\n",
       "      <th>Alice</th>\n",
       "      <td>66</td>\n",
       "      <td>0</td>\n",
       "      <td>0</td>\n",
       "      <td>0</td>\n",
       "      <td>0</td>\n",
       "      <td>0</td>\n",
       "      <td>0</td>\n",
       "    </tr>\n",
       "    <tr>\n",
       "      <th>Richard</th>\n",
       "      <td>63</td>\n",
       "      <td>1</td>\n",
       "      <td>0</td>\n",
       "      <td>0</td>\n",
       "      <td>0</td>\n",
       "      <td>0</td>\n",
       "      <td>0</td>\n",
       "    </tr>\n",
       "    <tr>\n",
       "      <th>...</th>\n",
       "      <td>...</td>\n",
       "      <td>...</td>\n",
       "      <td>...</td>\n",
       "      <td>...</td>\n",
       "      <td>...</td>\n",
       "      <td>...</td>\n",
       "      <td>...</td>\n",
       "    </tr>\n",
       "    <tr>\n",
       "      <th>Corey</th>\n",
       "      <td>52</td>\n",
       "      <td>0</td>\n",
       "      <td>0</td>\n",
       "      <td>0</td>\n",
       "      <td>0</td>\n",
       "      <td>0</td>\n",
       "      <td>0</td>\n",
       "    </tr>\n",
       "    <tr>\n",
       "      <th>Robert</th>\n",
       "      <td>46</td>\n",
       "      <td>0</td>\n",
       "      <td>0</td>\n",
       "      <td>0</td>\n",
       "      <td>0</td>\n",
       "      <td>0</td>\n",
       "      <td>0</td>\n",
       "    </tr>\n",
       "  </tbody>\n",
       "</table>\n",
       "<p>1644 rows × 7 columns</p>\n",
       "</div>"
      ],
      "text/plain": [
       "         age  sex_Male  education_High School  education_Higher Level  \\\n",
       "name                                                                    \n",
       "Alice     66         0                      0                       0   \n",
       "Richard   63         1                      0                       0   \n",
       "...      ...       ...                    ...                     ...   \n",
       "Corey     52         0                      0                       0   \n",
       "Robert    46         0                      0                       0   \n",
       "\n",
       "         education_No studies  education_PhD  education_University  \n",
       "name                                                                \n",
       "Alice                       0              0                     0  \n",
       "Richard                     0              0                     0  \n",
       "...                       ...            ...                   ...  \n",
       "Corey                       0              0                     0  \n",
       "Robert                      0              0                     0  \n",
       "\n",
       "[1644 rows x 7 columns]"
      ]
     },
     "execution_count": 47,
     "metadata": {},
     "output_type": "execute_result"
    }
   ],
   "source": [
    "X_train"
   ]
  },
  {
   "cell_type": "code",
   "execution_count": 50,
   "id": "1a6411c5-850f-4360-9cc3-1064e73d5581",
   "metadata": {},
   "outputs": [
    {
     "data": {
      "text/plain": [
       "name\n",
       "Alice      0\n",
       "Richard    0\n",
       "          ..\n",
       "Corey      0\n",
       "Robert     1\n",
       "Name: internet_usage, Length: 1644, dtype: int64"
      ]
     },
     "execution_count": 50,
     "metadata": {},
     "output_type": "execute_result"
    }
   ],
   "source": [
    "y_train"
   ]
  },
  {
   "cell_type": "code",
   "execution_count": 51,
   "id": "0f0593d1-cdfb-48de-90e0-96aa56528422",
   "metadata": {},
   "outputs": [
    {
     "data": {
      "text/plain": [
       "name\n",
       "Thomas     0\n",
       "Pedro      1\n",
       "          ..\n",
       "James      1\n",
       "Phyllis    0\n",
       "Name: internet_usage, Length: 811, dtype: int64"
      ]
     },
     "execution_count": 51,
     "metadata": {},
     "output_type": "execute_result"
    }
   ],
   "source": [
    "y_test"
   ]
  },
  {
   "cell_type": "markdown",
   "id": "1db6a36e",
   "metadata": {},
   "source": [
    "### `fit()` the model with Train Data"
   ]
  },
  {
   "cell_type": "code",
   "execution_count": 52,
   "id": "42373a4b-2582-40b6-8df0-cdd987896f28",
   "metadata": {},
   "outputs": [],
   "source": [
    "model_dt = DecisionTreeClassifier()"
   ]
  },
  {
   "cell_type": "code",
   "execution_count": 53,
   "id": "54d9986f-7003-4110-afdf-c3048f4a4d8e",
   "metadata": {},
   "outputs": [
    {
     "data": {
      "text/plain": [
       "DecisionTreeClassifier()"
      ]
     },
     "execution_count": 53,
     "metadata": {},
     "output_type": "execute_result"
    }
   ],
   "source": [
    "model_dt.fit(X=X_train, y=y_train)"
   ]
  },
  {
   "cell_type": "markdown",
   "id": "1bbb283a",
   "metadata": {},
   "source": [
    "### Compare the predictions with the real data"
   ]
  },
  {
   "cell_type": "code",
   "execution_count": 54,
   "id": "23a52ffc-d747-48a9-9ff4-b68f7ed84828",
   "metadata": {},
   "outputs": [
    {
     "data": {
      "text/plain": [
       "0.8064118372379778"
      ]
     },
     "execution_count": 54,
     "metadata": {},
     "output_type": "execute_result"
    }
   ],
   "source": [
    "model_dt.score(X_test, y_test)"
   ]
  },
  {
   "cell_type": "markdown",
   "id": "8ec6c2bc",
   "metadata": {},
   "source": [
    "## [ ] Optimize All Models & Compare Again\n",
    "\n",
    "### Make a Procedure Sample for `DecisionTreeClassifier()`"
   ]
  },
  {
   "cell_type": "code",
   "execution_count": 55,
   "id": "798fc705-e365-44b4-b303-a5c9e918f698",
   "metadata": {},
   "outputs": [],
   "source": [
    "model_dt = DecisionTreeClassifier()"
   ]
  },
  {
   "cell_type": "code",
   "execution_count": 56,
   "id": "198e7a8a-032a-4e06-85e1-91f6012ef45e",
   "metadata": {},
   "outputs": [
    {
     "data": {
      "text/plain": [
       "DecisionTreeClassifier()"
      ]
     },
     "execution_count": 56,
     "metadata": {},
     "output_type": "execute_result"
    }
   ],
   "source": [
    "model_dt.fit(X_train, y_train)"
   ]
  },
  {
   "cell_type": "code",
   "execution_count": 57,
   "id": "a7f59038-cdd8-4872-b929-af4124bd16b4",
   "metadata": {},
   "outputs": [
    {
     "data": {
      "text/plain": [
       "0.8064118372379778"
      ]
     },
     "execution_count": 57,
     "metadata": {},
     "output_type": "execute_result"
    }
   ],
   "source": [
    "model_dt.score(X_test, y_test)"
   ]
  },
  {
   "cell_type": "markdown",
   "id": "de7a5067",
   "metadata": {},
   "source": [
    "### Automate the Procedure into a `function()`\n",
    "\n",
    "**Code Thinking**\n",
    "\n",
    "1. Think of the functions `result`\n",
    "2. Store that `object` to a variable\n",
    "3. `return` the `result` at the end\n",
    "4. **Indent the body** of the function to the right\n",
    "5. `def`ine the `function():`\n",
    "6. Think of what's gonna change when you execute the function with `different models`\n",
    "7. Locate the **`variable` that you will change**\n",
    "8. Turn it into the `parameter` of the `function()`"
   ]
  },
  {
   "cell_type": "code",
   "execution_count": 58,
   "id": "98bb3e9b-e060-41b1-90bc-a79242211ece",
   "metadata": {},
   "outputs": [],
   "source": [
    "def calculate_accuracy_test(model):\n",
    "\n",
    "    model.fit(X_train, y_train)\n",
    "\n",
    "    result = model.score(X_test, y_test)\n",
    "\n",
    "    return result"
   ]
  },
  {
   "cell_type": "markdown",
   "id": "b009ecc8",
   "metadata": {},
   "source": [
    "## Calculate Models' Accuracies\n",
    "\n",
    "### `DecisionTreeClassifier()` Accuracy"
   ]
  },
  {
   "cell_type": "code",
   "execution_count": 59,
   "id": "07dd95ec-20a1-48c7-8147-c7ec970d3aff",
   "metadata": {},
   "outputs": [
    {
     "data": {
      "text/plain": [
       "0.8064118372379778"
      ]
     },
     "execution_count": 59,
     "metadata": {},
     "output_type": "execute_result"
    }
   ],
   "source": [
    "calculate_accuracy_test(model_dt)"
   ]
  },
  {
   "cell_type": "markdown",
   "id": "6e22abc3",
   "metadata": {},
   "source": [
    "### `SVC()` Accuracy"
   ]
  },
  {
   "cell_type": "code",
   "execution_count": 60,
   "id": "6a1ba4aa-8b1a-4c6e-a1fc-b5bedc159e6b",
   "metadata": {},
   "outputs": [
    {
     "data": {
      "text/plain": [
       "0.7866831072749692"
      ]
     },
     "execution_count": 60,
     "metadata": {},
     "output_type": "execute_result"
    }
   ],
   "source": [
    "calculate_accuracy_test(model_sv)"
   ]
  },
  {
   "cell_type": "markdown",
   "id": "0edfbdb5",
   "metadata": {},
   "source": [
    "### `LogisticRegression()` Accuracy"
   ]
  },
  {
   "cell_type": "code",
   "execution_count": 61,
   "id": "353b9c45-c62d-4809-84ea-d4e7d0b6a9b3",
   "metadata": {},
   "outputs": [
    {
     "data": {
      "text/plain": [
       "0.8508014796547472"
      ]
     },
     "execution_count": 61,
     "metadata": {},
     "output_type": "execute_result"
    }
   ],
   "source": [
    "calculate_accuracy_test(model_lr)"
   ]
  },
  {
   "cell_type": "markdown",
   "id": "f0971e08",
   "metadata": {},
   "source": [
    "## [ ] Which is the Best Model with `train_test_split()`?"
   ]
  },
  {
   "cell_type": "code",
   "execution_count": 69,
   "id": "73f1bf5d-10dd-44c5-942e-75afeaafe7b8",
   "metadata": {},
   "outputs": [
    {
     "data": {
      "text/html": [
       "<style type=\"text/css\">\n",
       "#T_ae757_row0_col1, #T_ae757_row2_col2 {\n",
       "  background-color: #08306b;\n",
       "  color: #f1f1f1;\n",
       "}\n",
       "#T_ae757_row0_col2 {\n",
       "  background-color: #b4d3e9;\n",
       "  color: #000000;\n",
       "}\n",
       "#T_ae757_row1_col1, #T_ae757_row1_col2 {\n",
       "  background-color: #f7fbff;\n",
       "  color: #000000;\n",
       "}\n",
       "#T_ae757_row2_col1 {\n",
       "  background-color: #3a8ac2;\n",
       "  color: #f1f1f1;\n",
       "}\n",
       "</style>\n",
       "<table id=\"T_ae757_\">\n",
       "  <thead>\n",
       "    <tr>\n",
       "      <th class=\"blank level0\" >&nbsp;</th>\n",
       "      <th class=\"col_heading level0 col0\" >models</th>\n",
       "      <th class=\"col_heading level0 col1\" >Same Data</th>\n",
       "      <th class=\"col_heading level0 col2\" >Test Data</th>\n",
       "    </tr>\n",
       "  </thead>\n",
       "  <tbody>\n",
       "    <tr>\n",
       "      <th id=\"T_ae757_level0_row0\" class=\"row_heading level0 row0\" >0</th>\n",
       "      <td id=\"T_ae757_row0_col0\" class=\"data row0 col0\" >DecisionTreeClassifier()</td>\n",
       "      <td id=\"T_ae757_row0_col1\" class=\"data row0 col1\" >0.859878</td>\n",
       "      <td id=\"T_ae757_row0_col2\" class=\"data row0 col2\" >0.806412</td>\n",
       "    </tr>\n",
       "    <tr>\n",
       "      <th id=\"T_ae757_level0_row1\" class=\"row_heading level0 row1\" >1</th>\n",
       "      <td id=\"T_ae757_row1_col0\" class=\"data row1 col0\" >SVC()</td>\n",
       "      <td id=\"T_ae757_row1_col1\" class=\"data row1 col1\" >0.783707</td>\n",
       "      <td id=\"T_ae757_row1_col2\" class=\"data row1 col2\" >0.786683</td>\n",
       "    </tr>\n",
       "    <tr>\n",
       "      <th id=\"T_ae757_level0_row2\" class=\"row_heading level0 row2\" >2</th>\n",
       "      <td id=\"T_ae757_row2_col0\" class=\"data row2 col0\" >LogisticRegression(max_iter=1000)</td>\n",
       "      <td id=\"T_ae757_row2_col1\" class=\"data row2 col1\" >0.833401</td>\n",
       "      <td id=\"T_ae757_row2_col2\" class=\"data row2 col2\" >0.850801</td>\n",
       "    </tr>\n",
       "  </tbody>\n",
       "</table>\n"
      ],
      "text/plain": [
       "<pandas.io.formats.style.Styler at 0x144d2ec70>"
      ]
     },
     "execution_count": 69,
     "metadata": {},
     "output_type": "execute_result"
    }
   ],
   "source": [
    "??"
   ]
  },
  {
   "cell_type": "code",
   "execution_count": 63,
   "id": "1d1e5b2f-06a0-4ec7-94a5-4d3da56edb4c",
   "metadata": {},
   "outputs": [],
   "source": [
    "df_acc = pd.DataFrame()"
   ]
  },
  {
   "cell_type": "code",
   "execution_count": 65,
   "id": "11d25c9a-10be-4fd7-bd70-ed5b6aae3a23",
   "metadata": {},
   "outputs": [],
   "source": [
    "df_acc['models'] = [model_dt, model_sv, model_lr]"
   ]
  },
  {
   "cell_type": "code",
   "execution_count": 66,
   "id": "3b21641f-e9ce-4309-a1ed-fa7a1ab0b1f0",
   "metadata": {},
   "outputs": [
    {
     "data": {
      "text/html": [
       "<div>\n",
       "<style scoped>\n",
       "    .dataframe tbody tr th:only-of-type {\n",
       "        vertical-align: middle;\n",
       "    }\n",
       "\n",
       "    .dataframe tbody tr th {\n",
       "        vertical-align: top;\n",
       "    }\n",
       "\n",
       "    .dataframe thead th {\n",
       "        text-align: right;\n",
       "    }\n",
       "</style>\n",
       "<table border=\"1\" class=\"dataframe\">\n",
       "  <thead>\n",
       "    <tr style=\"text-align: right;\">\n",
       "      <th></th>\n",
       "      <th>models</th>\n",
       "    </tr>\n",
       "  </thead>\n",
       "  <tbody>\n",
       "    <tr>\n",
       "      <th>0</th>\n",
       "      <td>DecisionTreeClassifier()</td>\n",
       "    </tr>\n",
       "    <tr>\n",
       "      <th>1</th>\n",
       "      <td>SVC()</td>\n",
       "    </tr>\n",
       "    <tr>\n",
       "      <th>2</th>\n",
       "      <td>LogisticRegression(max_iter=1000)</td>\n",
       "    </tr>\n",
       "  </tbody>\n",
       "</table>\n",
       "</div>"
      ],
      "text/plain": [
       "                              models\n",
       "0           DecisionTreeClassifier()\n",
       "1                              SVC()\n",
       "2  LogisticRegression(max_iter=1000)"
      ]
     },
     "execution_count": 66,
     "metadata": {},
     "output_type": "execute_result"
    }
   ],
   "source": [
    "df_acc"
   ]
  },
  {
   "cell_type": "code",
   "execution_count": 68,
   "id": "fdee3076-0c07-4384-9ea9-51b076b1d633",
   "metadata": {},
   "outputs": [],
   "source": [
    "df_acc['Same Data'] = df_acc.models.apply(func=calculate_accuracy)"
   ]
  },
  {
   "cell_type": "code",
   "execution_count": 69,
   "id": "263dadeb-4fdd-499b-94ce-e05611b27482",
   "metadata": {},
   "outputs": [],
   "source": [
    "df_acc['Test Data'] = df_acc.models.apply(func=calculate_accuracy_test)"
   ]
  },
  {
   "cell_type": "code",
   "execution_count": 71,
   "id": "411620c1-93f1-421d-bb15-2f48f8c63464",
   "metadata": {},
   "outputs": [
    {
     "data": {
      "text/html": [
       "<style type=\"text/css\">\n",
       "#T_841c4_row0_col1, #T_841c4_row2_col2 {\n",
       "  background-color: #023858;\n",
       "  color: #f1f1f1;\n",
       "}\n",
       "#T_841c4_row0_col2 {\n",
       "  background-color: #bdc8e1;\n",
       "  color: #000000;\n",
       "}\n",
       "#T_841c4_row1_col1, #T_841c4_row1_col2 {\n",
       "  background-color: #fff7fb;\n",
       "  color: #000000;\n",
       "}\n",
       "#T_841c4_row2_col1 {\n",
       "  background-color: #2a88bc;\n",
       "  color: #f1f1f1;\n",
       "}\n",
       "</style>\n",
       "<table id=\"T_841c4_\">\n",
       "  <thead>\n",
       "    <tr>\n",
       "      <th class=\"blank level0\" >&nbsp;</th>\n",
       "      <th class=\"col_heading level0 col0\" >models</th>\n",
       "      <th class=\"col_heading level0 col1\" >Same Data</th>\n",
       "      <th class=\"col_heading level0 col2\" >Test Data</th>\n",
       "    </tr>\n",
       "  </thead>\n",
       "  <tbody>\n",
       "    <tr>\n",
       "      <th id=\"T_841c4_level0_row0\" class=\"row_heading level0 row0\" >0</th>\n",
       "      <td id=\"T_841c4_row0_col0\" class=\"data row0 col0\" >DecisionTreeClassifier()</td>\n",
       "      <td id=\"T_841c4_row0_col1\" class=\"data row0 col1\" >0.859878</td>\n",
       "      <td id=\"T_841c4_row0_col2\" class=\"data row0 col2\" >0.806412</td>\n",
       "    </tr>\n",
       "    <tr>\n",
       "      <th id=\"T_841c4_level0_row1\" class=\"row_heading level0 row1\" >1</th>\n",
       "      <td id=\"T_841c4_row1_col0\" class=\"data row1 col0\" >SVC()</td>\n",
       "      <td id=\"T_841c4_row1_col1\" class=\"data row1 col1\" >0.783707</td>\n",
       "      <td id=\"T_841c4_row1_col2\" class=\"data row1 col2\" >0.786683</td>\n",
       "    </tr>\n",
       "    <tr>\n",
       "      <th id=\"T_841c4_level0_row2\" class=\"row_heading level0 row2\" >2</th>\n",
       "      <td id=\"T_841c4_row2_col0\" class=\"data row2 col0\" >LogisticRegression(max_iter=1000)</td>\n",
       "      <td id=\"T_841c4_row2_col1\" class=\"data row2 col1\" >0.833401</td>\n",
       "      <td id=\"T_841c4_row2_col2\" class=\"data row2 col2\" >0.850801</td>\n",
       "    </tr>\n",
       "  </tbody>\n",
       "</table>\n"
      ],
      "text/plain": [
       "<pandas.io.formats.style.Styler at 0x14f6733d0>"
      ]
     },
     "execution_count": 71,
     "metadata": {},
     "output_type": "execute_result"
    }
   ],
   "source": [
    "df_acc.style.background_gradient()"
   ]
  },
  {
   "cell_type": "code",
   "execution_count": 73,
   "id": "c8706e16-7d84-4886-9feb-97eea8d5554b",
   "metadata": {},
   "outputs": [
    {
     "data": {
      "text/html": [
       "<style type=\"text/css\">\n",
       "#T_58b3a_row0_col1, #T_58b3a_row2_col2 {\n",
       "  background-color: #67000d;\n",
       "  color: #f1f1f1;\n",
       "}\n",
       "#T_58b3a_row0_col2 {\n",
       "  background-color: #fca98c;\n",
       "  color: #000000;\n",
       "}\n",
       "#T_58b3a_row1_col1, #T_58b3a_row1_col2 {\n",
       "  background-color: #fff5f0;\n",
       "  color: #000000;\n",
       "}\n",
       "#T_58b3a_row2_col1 {\n",
       "  background-color: #e63328;\n",
       "  color: #f1f1f1;\n",
       "}\n",
       "</style>\n",
       "<table id=\"T_58b3a_\">\n",
       "  <thead>\n",
       "    <tr>\n",
       "      <th class=\"blank level0\" >&nbsp;</th>\n",
       "      <th class=\"col_heading level0 col0\" >models</th>\n",
       "      <th class=\"col_heading level0 col1\" >Same Data</th>\n",
       "      <th class=\"col_heading level0 col2\" >Test Data</th>\n",
       "    </tr>\n",
       "  </thead>\n",
       "  <tbody>\n",
       "    <tr>\n",
       "      <th id=\"T_58b3a_level0_row0\" class=\"row_heading level0 row0\" >0</th>\n",
       "      <td id=\"T_58b3a_row0_col0\" class=\"data row0 col0\" >DecisionTreeClassifier()</td>\n",
       "      <td id=\"T_58b3a_row0_col1\" class=\"data row0 col1\" >0.859878</td>\n",
       "      <td id=\"T_58b3a_row0_col2\" class=\"data row0 col2\" >0.806412</td>\n",
       "    </tr>\n",
       "    <tr>\n",
       "      <th id=\"T_58b3a_level0_row1\" class=\"row_heading level0 row1\" >1</th>\n",
       "      <td id=\"T_58b3a_row1_col0\" class=\"data row1 col0\" >SVC()</td>\n",
       "      <td id=\"T_58b3a_row1_col1\" class=\"data row1 col1\" >0.783707</td>\n",
       "      <td id=\"T_58b3a_row1_col2\" class=\"data row1 col2\" >0.786683</td>\n",
       "    </tr>\n",
       "    <tr>\n",
       "      <th id=\"T_58b3a_level0_row2\" class=\"row_heading level0 row2\" >2</th>\n",
       "      <td id=\"T_58b3a_row2_col0\" class=\"data row2 col0\" >LogisticRegression(max_iter=1000)</td>\n",
       "      <td id=\"T_58b3a_row2_col1\" class=\"data row2 col1\" >0.833401</td>\n",
       "      <td id=\"T_58b3a_row2_col2\" class=\"data row2 col2\" >0.850801</td>\n",
       "    </tr>\n",
       "  </tbody>\n",
       "</table>\n"
      ],
      "text/plain": [
       "<pandas.io.formats.style.Styler at 0x14c9e3a90>"
      ]
     },
     "execution_count": 73,
     "metadata": {},
     "output_type": "execute_result"
    }
   ],
   "source": [
    "df_acc.style.background_gradient('Reds')"
   ]
  },
  {
   "cell_type": "code",
   "execution_count": 72,
   "id": "ef892b8e-abd7-4711-aeaa-2bae463914ca",
   "metadata": {},
   "outputs": [
    {
     "data": {
      "text/html": [
       "<style type=\"text/css\">\n",
       "#T_0001b_row0_col1, #T_0001b_row2_col2 {\n",
       "  background-color: #00441b;\n",
       "  color: #f1f1f1;\n",
       "}\n",
       "#T_0001b_row0_col2 {\n",
       "  background-color: #b6e2af;\n",
       "  color: #000000;\n",
       "}\n",
       "#T_0001b_row1_col1, #T_0001b_row1_col2 {\n",
       "  background-color: #f7fcf5;\n",
       "  color: #000000;\n",
       "}\n",
       "#T_0001b_row2_col1 {\n",
       "  background-color: #3aa357;\n",
       "  color: #f1f1f1;\n",
       "}\n",
       "</style>\n",
       "<table id=\"T_0001b_\">\n",
       "  <thead>\n",
       "    <tr>\n",
       "      <th class=\"blank level0\" >&nbsp;</th>\n",
       "      <th class=\"col_heading level0 col0\" >models</th>\n",
       "      <th class=\"col_heading level0 col1\" >Same Data</th>\n",
       "      <th class=\"col_heading level0 col2\" >Test Data</th>\n",
       "    </tr>\n",
       "  </thead>\n",
       "  <tbody>\n",
       "    <tr>\n",
       "      <th id=\"T_0001b_level0_row0\" class=\"row_heading level0 row0\" >0</th>\n",
       "      <td id=\"T_0001b_row0_col0\" class=\"data row0 col0\" >DecisionTreeClassifier()</td>\n",
       "      <td id=\"T_0001b_row0_col1\" class=\"data row0 col1\" >0.859878</td>\n",
       "      <td id=\"T_0001b_row0_col2\" class=\"data row0 col2\" >0.806412</td>\n",
       "    </tr>\n",
       "    <tr>\n",
       "      <th id=\"T_0001b_level0_row1\" class=\"row_heading level0 row1\" >1</th>\n",
       "      <td id=\"T_0001b_row1_col0\" class=\"data row1 col0\" >SVC()</td>\n",
       "      <td id=\"T_0001b_row1_col1\" class=\"data row1 col1\" >0.783707</td>\n",
       "      <td id=\"T_0001b_row1_col2\" class=\"data row1 col2\" >0.786683</td>\n",
       "    </tr>\n",
       "    <tr>\n",
       "      <th id=\"T_0001b_level0_row2\" class=\"row_heading level0 row2\" >2</th>\n",
       "      <td id=\"T_0001b_row2_col0\" class=\"data row2 col0\" >LogisticRegression(max_iter=1000)</td>\n",
       "      <td id=\"T_0001b_row2_col1\" class=\"data row2 col1\" >0.833401</td>\n",
       "      <td id=\"T_0001b_row2_col2\" class=\"data row2 col2\" >0.850801</td>\n",
       "    </tr>\n",
       "  </tbody>\n",
       "</table>\n"
      ],
      "text/plain": [
       "<pandas.io.formats.style.Styler at 0x14c987460>"
      ]
     },
     "execution_count": 72,
     "metadata": {},
     "output_type": "execute_result"
    }
   ],
   "source": [
    "df_acc.style.background_gradient('Greens')"
   ]
  }
 ],
 "metadata": {
  "kernelspec": {
   "display_name": "base",
   "language": "python",
   "name": "python3"
  },
  "language_info": {
   "codemirror_mode": {
    "name": "ipython",
    "version": 3
   },
   "file_extension": ".py",
   "mimetype": "text/x-python",
   "name": "python",
   "nbconvert_exporter": "python",
   "pygments_lexer": "ipython3",
   "version": "3.10.6"
  },
  "toc-autonumbering": true,
  "vscode": {
   "interpreter": {
    "hash": "03ec90014361d64f31b57b6c05f3e1b20811fb583c4f1285ab648f59da29497f"
   }
  }
 },
 "nbformat": 4,
 "nbformat_minor": 5
}
