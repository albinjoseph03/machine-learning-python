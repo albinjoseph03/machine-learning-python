{
 "cells": [
  {
   "cell_type": "markdown",
   "metadata": {},
   "source": [
    "![](../src/logo.svg)\n",
    "\n",
    "**© Jesús López**\n",
    "\n",
    "Ask him any doubt on **[Twitter](https://twitter.com/jsulopz)** or **[LinkedIn](https://linkedin.com/in/jsulopz)**"
   ]
  },
  {
   "cell_type": "markdown",
   "metadata": {},
   "source": [
    "<a href=\"https://colab.research.google.com/github/jsulopz/resolving-machine-learning/blob/main/06_Principal%20Component%20Analysis%20%28PCA%29/06_dimensionality-reduction-pca_practice_solution.ipynb\">\n",
    "  <img src=\"https://colab.research.google.com/assets/colab-badge.svg\" alt=\"Open In Colab\"/>\n",
    "</a>"
   ]
  },
  {
   "cell_type": "markdown",
   "metadata": {},
   "source": [
    "# 06 | Principal Component Analysis (PCA)"
   ]
  },
  {
   "cell_type": "markdown",
   "metadata": {},
   "source": [
    "## Load the Data"
   ]
  },
  {
   "cell_type": "markdown",
   "metadata": {},
   "source": [
    "- Simply execute the following lines of code to load the data\n",
    "- This dataset contains **statistics** (columns)\n",
    "- About **Car Models** (rows)"
   ]
  },
  {
   "cell_type": "code",
   "execution_count": 19,
   "metadata": {},
   "outputs": [
    {
     "data": {
      "text/html": [
       "<div>\n",
       "<style scoped>\n",
       "    .dataframe tbody tr th:only-of-type {\n",
       "        vertical-align: middle;\n",
       "    }\n",
       "\n",
       "    .dataframe tbody tr th {\n",
       "        vertical-align: top;\n",
       "    }\n",
       "\n",
       "    .dataframe thead th {\n",
       "        text-align: right;\n",
       "    }\n",
       "</style>\n",
       "<table border=\"1\" class=\"dataframe\">\n",
       "  <thead>\n",
       "    <tr style=\"text-align: right;\">\n",
       "      <th></th>\n",
       "      <th>mpg</th>\n",
       "      <th>cylinders</th>\n",
       "      <th>displacement</th>\n",
       "      <th>horsepower</th>\n",
       "      <th>weight</th>\n",
       "      <th>acceleration</th>\n",
       "      <th>model_year</th>\n",
       "      <th>origin</th>\n",
       "    </tr>\n",
       "    <tr>\n",
       "      <th>name</th>\n",
       "      <th></th>\n",
       "      <th></th>\n",
       "      <th></th>\n",
       "      <th></th>\n",
       "      <th></th>\n",
       "      <th></th>\n",
       "      <th></th>\n",
       "      <th></th>\n",
       "    </tr>\n",
       "  </thead>\n",
       "  <tbody>\n",
       "    <tr>\n",
       "      <th>dodge coronet brougham</th>\n",
       "      <td>16.0</td>\n",
       "      <td>8</td>\n",
       "      <td>318.0</td>\n",
       "      <td>150.0</td>\n",
       "      <td>4190</td>\n",
       "      <td>13.0</td>\n",
       "      <td>76</td>\n",
       "      <td>usa</td>\n",
       "    </tr>\n",
       "    <tr>\n",
       "      <th>volkswagen 411 (sw)</th>\n",
       "      <td>22.0</td>\n",
       "      <td>4</td>\n",
       "      <td>121.0</td>\n",
       "      <td>76.0</td>\n",
       "      <td>2511</td>\n",
       "      <td>18.0</td>\n",
       "      <td>72</td>\n",
       "      <td>europe</td>\n",
       "    </tr>\n",
       "    <tr>\n",
       "      <th>mercury zephyr 6</th>\n",
       "      <td>19.8</td>\n",
       "      <td>6</td>\n",
       "      <td>200.0</td>\n",
       "      <td>85.0</td>\n",
       "      <td>2990</td>\n",
       "      <td>18.2</td>\n",
       "      <td>79</td>\n",
       "      <td>usa</td>\n",
       "    </tr>\n",
       "    <tr>\n",
       "      <th>honda civic</th>\n",
       "      <td>24.0</td>\n",
       "      <td>4</td>\n",
       "      <td>120.0</td>\n",
       "      <td>97.0</td>\n",
       "      <td>2489</td>\n",
       "      <td>15.0</td>\n",
       "      <td>74</td>\n",
       "      <td>japan</td>\n",
       "    </tr>\n",
       "    <tr>\n",
       "      <th>pontiac j2000 se hatchback</th>\n",
       "      <td>31.0</td>\n",
       "      <td>4</td>\n",
       "      <td>112.0</td>\n",
       "      <td>85.0</td>\n",
       "      <td>2575</td>\n",
       "      <td>16.2</td>\n",
       "      <td>82</td>\n",
       "      <td>usa</td>\n",
       "    </tr>\n",
       "  </tbody>\n",
       "</table>\n",
       "</div>"
      ],
      "text/plain": [
       "                             mpg  cylinders  displacement  horsepower  weight  \\\n",
       "name                                                                            \n",
       "dodge coronet brougham      16.0          8         318.0       150.0    4190   \n",
       "volkswagen 411 (sw)         22.0          4         121.0        76.0    2511   \n",
       "mercury zephyr 6            19.8          6         200.0        85.0    2990   \n",
       "honda civic                 24.0          4         120.0        97.0    2489   \n",
       "pontiac j2000 se hatchback  31.0          4         112.0        85.0    2575   \n",
       "\n",
       "                            acceleration  model_year  origin  \n",
       "name                                                          \n",
       "dodge coronet brougham              13.0          76     usa  \n",
       "volkswagen 411 (sw)                 18.0          72  europe  \n",
       "mercury zephyr 6                    18.2          79     usa  \n",
       "honda civic                         15.0          74   japan  \n",
       "pontiac j2000 se hatchback          16.2          82     usa  "
      ]
     },
     "execution_count": 19,
     "metadata": {},
     "output_type": "execute_result"
    }
   ],
   "source": [
    "import seaborn as sns #!\n",
    "\n",
    "df = sns.load_dataset(name='mpg', index_col='name')\n",
    "df.sample(5)"
   ]
  },
  {
   "cell_type": "markdown",
   "metadata": {},
   "source": [
    "## Data Preprocessing\n",
    "\n",
    "- All variables need to be **comparables**.\n",
    "- It is not the same to increase 1kg of weight, than 1m of height.\n",
    "- We will use `StandardScaler()`."
   ]
  },
  {
   "cell_type": "code",
   "execution_count": 20,
   "metadata": {},
   "outputs": [
    {
     "data": {
      "text/plain": [
       "mpg             0\n",
       "cylinders       0\n",
       "displacement    0\n",
       "horsepower      6\n",
       "weight          0\n",
       "acceleration    0\n",
       "model_year      0\n",
       "origin          0\n",
       "dtype: int64"
      ]
     },
     "execution_count": 20,
     "metadata": {},
     "output_type": "execute_result"
    }
   ],
   "source": [
    "df.isna().sum()"
   ]
  },
  {
   "cell_type": "code",
   "execution_count": 22,
   "metadata": {},
   "outputs": [],
   "source": [
    "df = df.dropna()"
   ]
  },
  {
   "cell_type": "code",
   "execution_count": 23,
   "metadata": {},
   "outputs": [],
   "source": [
    "import pandas as pd"
   ]
  },
  {
   "cell_type": "code",
   "execution_count": 24,
   "metadata": {},
   "outputs": [
    {
     "data": {
      "text/html": [
       "<div>\n",
       "<style scoped>\n",
       "    .dataframe tbody tr th:only-of-type {\n",
       "        vertical-align: middle;\n",
       "    }\n",
       "\n",
       "    .dataframe tbody tr th {\n",
       "        vertical-align: top;\n",
       "    }\n",
       "\n",
       "    .dataframe thead th {\n",
       "        text-align: right;\n",
       "    }\n",
       "</style>\n",
       "<table border=\"1\" class=\"dataframe\">\n",
       "  <thead>\n",
       "    <tr style=\"text-align: right;\">\n",
       "      <th></th>\n",
       "      <th>mpg</th>\n",
       "      <th>cylinders</th>\n",
       "      <th>displacement</th>\n",
       "      <th>horsepower</th>\n",
       "      <th>weight</th>\n",
       "      <th>acceleration</th>\n",
       "      <th>model_year</th>\n",
       "      <th>origin_japan</th>\n",
       "      <th>origin_usa</th>\n",
       "    </tr>\n",
       "    <tr>\n",
       "      <th>name</th>\n",
       "      <th></th>\n",
       "      <th></th>\n",
       "      <th></th>\n",
       "      <th></th>\n",
       "      <th></th>\n",
       "      <th></th>\n",
       "      <th></th>\n",
       "      <th></th>\n",
       "      <th></th>\n",
       "    </tr>\n",
       "  </thead>\n",
       "  <tbody>\n",
       "    <tr>\n",
       "      <th>chevrolet chevelle malibu</th>\n",
       "      <td>18.0</td>\n",
       "      <td>8</td>\n",
       "      <td>307.0</td>\n",
       "      <td>130.0</td>\n",
       "      <td>3504</td>\n",
       "      <td>12.0</td>\n",
       "      <td>70</td>\n",
       "      <td>0</td>\n",
       "      <td>1</td>\n",
       "    </tr>\n",
       "    <tr>\n",
       "      <th>buick skylark 320</th>\n",
       "      <td>15.0</td>\n",
       "      <td>8</td>\n",
       "      <td>350.0</td>\n",
       "      <td>165.0</td>\n",
       "      <td>3693</td>\n",
       "      <td>11.5</td>\n",
       "      <td>70</td>\n",
       "      <td>0</td>\n",
       "      <td>1</td>\n",
       "    </tr>\n",
       "    <tr>\n",
       "      <th>...</th>\n",
       "      <td>...</td>\n",
       "      <td>...</td>\n",
       "      <td>...</td>\n",
       "      <td>...</td>\n",
       "      <td>...</td>\n",
       "      <td>...</td>\n",
       "      <td>...</td>\n",
       "      <td>...</td>\n",
       "      <td>...</td>\n",
       "    </tr>\n",
       "    <tr>\n",
       "      <th>ford ranger</th>\n",
       "      <td>28.0</td>\n",
       "      <td>4</td>\n",
       "      <td>120.0</td>\n",
       "      <td>79.0</td>\n",
       "      <td>2625</td>\n",
       "      <td>18.6</td>\n",
       "      <td>82</td>\n",
       "      <td>0</td>\n",
       "      <td>1</td>\n",
       "    </tr>\n",
       "    <tr>\n",
       "      <th>chevy s-10</th>\n",
       "      <td>31.0</td>\n",
       "      <td>4</td>\n",
       "      <td>119.0</td>\n",
       "      <td>82.0</td>\n",
       "      <td>2720</td>\n",
       "      <td>19.4</td>\n",
       "      <td>82</td>\n",
       "      <td>0</td>\n",
       "      <td>1</td>\n",
       "    </tr>\n",
       "  </tbody>\n",
       "</table>\n",
       "<p>392 rows × 9 columns</p>\n",
       "</div>"
      ],
      "text/plain": [
       "                            mpg  cylinders  displacement  horsepower  weight  \\\n",
       "name                                                                           \n",
       "chevrolet chevelle malibu  18.0          8         307.0       130.0    3504   \n",
       "buick skylark 320          15.0          8         350.0       165.0    3693   \n",
       "...                         ...        ...           ...         ...     ...   \n",
       "ford ranger                28.0          4         120.0        79.0    2625   \n",
       "chevy s-10                 31.0          4         119.0        82.0    2720   \n",
       "\n",
       "                           acceleration  model_year  origin_japan  origin_usa  \n",
       "name                                                                           \n",
       "chevrolet chevelle malibu          12.0          70             0           1  \n",
       "buick skylark 320                  11.5          70             0           1  \n",
       "...                                 ...         ...           ...         ...  \n",
       "ford ranger                        18.6          82             0           1  \n",
       "chevy s-10                         19.4          82             0           1  \n",
       "\n",
       "[392 rows x 9 columns]"
      ]
     },
     "execution_count": 24,
     "metadata": {},
     "output_type": "execute_result"
    }
   ],
   "source": [
    "pd.get_dummies(df, drop_first=True)"
   ]
  },
  {
   "cell_type": "code",
   "execution_count": 25,
   "metadata": {},
   "outputs": [],
   "source": [
    "df = pd.get_dummies(df, drop_first=True)"
   ]
  },
  {
   "cell_type": "code",
   "execution_count": 26,
   "metadata": {},
   "outputs": [],
   "source": [
    "from sklearn.preprocessing import StandardScaler"
   ]
  },
  {
   "cell_type": "code",
   "execution_count": 27,
   "metadata": {},
   "outputs": [],
   "source": [
    "scaler = StandardScaler()"
   ]
  },
  {
   "cell_type": "code",
   "execution_count": 28,
   "metadata": {},
   "outputs": [],
   "source": [
    "datanorm = scaler.fit_transform(df)"
   ]
  },
  {
   "cell_type": "code",
   "execution_count": 29,
   "metadata": {},
   "outputs": [],
   "source": [
    "df_norm = pd.DataFrame(datanorm, index=df.index, columns=df.columns)"
   ]
  },
  {
   "cell_type": "code",
   "execution_count": 30,
   "metadata": {},
   "outputs": [
    {
     "data": {
      "text/html": [
       "<div>\n",
       "<style scoped>\n",
       "    .dataframe tbody tr th:only-of-type {\n",
       "        vertical-align: middle;\n",
       "    }\n",
       "\n",
       "    .dataframe tbody tr th {\n",
       "        vertical-align: top;\n",
       "    }\n",
       "\n",
       "    .dataframe thead th {\n",
       "        text-align: right;\n",
       "    }\n",
       "</style>\n",
       "<table border=\"1\" class=\"dataframe\">\n",
       "  <thead>\n",
       "    <tr style=\"text-align: right;\">\n",
       "      <th></th>\n",
       "      <th>mpg</th>\n",
       "      <th>cylinders</th>\n",
       "      <th>displacement</th>\n",
       "      <th>horsepower</th>\n",
       "      <th>weight</th>\n",
       "      <th>acceleration</th>\n",
       "      <th>model_year</th>\n",
       "      <th>origin_japan</th>\n",
       "      <th>origin_usa</th>\n",
       "    </tr>\n",
       "    <tr>\n",
       "      <th>name</th>\n",
       "      <th></th>\n",
       "      <th></th>\n",
       "      <th></th>\n",
       "      <th></th>\n",
       "      <th></th>\n",
       "      <th></th>\n",
       "      <th></th>\n",
       "      <th></th>\n",
       "      <th></th>\n",
       "    </tr>\n",
       "  </thead>\n",
       "  <tbody>\n",
       "    <tr>\n",
       "      <th>chevrolet chevelle malibu</th>\n",
       "      <td>-0.698638</td>\n",
       "      <td>1.483947</td>\n",
       "      <td>1.077290</td>\n",
       "      <td>0.664133</td>\n",
       "      <td>0.620540</td>\n",
       "      <td>-1.285258</td>\n",
       "      <td>-1.625315</td>\n",
       "      <td>-0.50239</td>\n",
       "      <td>0.774597</td>\n",
       "    </tr>\n",
       "    <tr>\n",
       "      <th>buick skylark 320</th>\n",
       "      <td>-1.083498</td>\n",
       "      <td>1.483947</td>\n",
       "      <td>1.488732</td>\n",
       "      <td>1.574594</td>\n",
       "      <td>0.843334</td>\n",
       "      <td>-1.466724</td>\n",
       "      <td>-1.625315</td>\n",
       "      <td>-0.50239</td>\n",
       "      <td>0.774597</td>\n",
       "    </tr>\n",
       "    <tr>\n",
       "      <th>...</th>\n",
       "      <td>...</td>\n",
       "      <td>...</td>\n",
       "      <td>...</td>\n",
       "      <td>...</td>\n",
       "      <td>...</td>\n",
       "      <td>...</td>\n",
       "      <td>...</td>\n",
       "      <td>...</td>\n",
       "      <td>...</td>\n",
       "    </tr>\n",
       "    <tr>\n",
       "      <th>ford ranger</th>\n",
       "      <td>0.584228</td>\n",
       "      <td>-0.864014</td>\n",
       "      <td>-0.712005</td>\n",
       "      <td>-0.662540</td>\n",
       "      <td>-0.415627</td>\n",
       "      <td>1.110088</td>\n",
       "      <td>1.636410</td>\n",
       "      <td>-0.50239</td>\n",
       "      <td>0.774597</td>\n",
       "    </tr>\n",
       "    <tr>\n",
       "      <th>chevy s-10</th>\n",
       "      <td>0.969088</td>\n",
       "      <td>-0.864014</td>\n",
       "      <td>-0.721574</td>\n",
       "      <td>-0.584501</td>\n",
       "      <td>-0.303641</td>\n",
       "      <td>1.400433</td>\n",
       "      <td>1.636410</td>\n",
       "      <td>-0.50239</td>\n",
       "      <td>0.774597</td>\n",
       "    </tr>\n",
       "  </tbody>\n",
       "</table>\n",
       "<p>392 rows × 9 columns</p>\n",
       "</div>"
      ],
      "text/plain": [
       "                                mpg  cylinders  displacement  horsepower  \\\n",
       "name                                                                       \n",
       "chevrolet chevelle malibu -0.698638   1.483947      1.077290    0.664133   \n",
       "buick skylark 320         -1.083498   1.483947      1.488732    1.574594   \n",
       "...                             ...        ...           ...         ...   \n",
       "ford ranger                0.584228  -0.864014     -0.712005   -0.662540   \n",
       "chevy s-10                 0.969088  -0.864014     -0.721574   -0.584501   \n",
       "\n",
       "                             weight  acceleration  model_year  origin_japan  \\\n",
       "name                                                                          \n",
       "chevrolet chevelle malibu  0.620540     -1.285258   -1.625315      -0.50239   \n",
       "buick skylark 320          0.843334     -1.466724   -1.625315      -0.50239   \n",
       "...                             ...           ...         ...           ...   \n",
       "ford ranger               -0.415627      1.110088    1.636410      -0.50239   \n",
       "chevy s-10                -0.303641      1.400433    1.636410      -0.50239   \n",
       "\n",
       "                           origin_usa  \n",
       "name                                   \n",
       "chevrolet chevelle malibu    0.774597  \n",
       "buick skylark 320            0.774597  \n",
       "...                               ...  \n",
       "ford ranger                  0.774597  \n",
       "chevy s-10                   0.774597  \n",
       "\n",
       "[392 rows x 9 columns]"
      ]
     },
     "execution_count": 30,
     "metadata": {},
     "output_type": "execute_result"
    }
   ],
   "source": [
    "df_norm"
   ]
  },
  {
   "cell_type": "markdown",
   "metadata": {},
   "source": [
    "## `KMeans()` Model in Python"
   ]
  },
  {
   "cell_type": "markdown",
   "metadata": {},
   "source": [
    "### Fit the Model"
   ]
  },
  {
   "cell_type": "code",
   "execution_count": 31,
   "metadata": {},
   "outputs": [],
   "source": [
    "from sklearn.cluster import KMeans"
   ]
  },
  {
   "cell_type": "code",
   "execution_count": 54,
   "metadata": {},
   "outputs": [],
   "source": [
    "model_km = KMeans(n_clusters=5)"
   ]
  },
  {
   "cell_type": "code",
   "execution_count": 55,
   "metadata": {},
   "outputs": [
    {
     "data": {
      "text/plain": [
       "KMeans(n_clusters=5)"
      ]
     },
     "execution_count": 55,
     "metadata": {},
     "output_type": "execute_result"
    }
   ],
   "source": [
    "model_km.fit(X=df_norm)"
   ]
  },
  {
   "cell_type": "markdown",
   "metadata": {},
   "source": [
    "### Calculate Predictions"
   ]
  },
  {
   "cell_type": "code",
   "execution_count": 56,
   "metadata": {},
   "outputs": [
    {
     "data": {
      "text/plain": [
       "array([1, 1, 1, 1, 1, 1, 1, 1, 1, 1, 1, 1, 1, 1, 4, 3, 3, 3, 4, 0, 0, 0,\n",
       "       0, 0, 3, 1, 1, 1, 1, 4, 2, 4, 3, 3, 3, 3, 3, 1, 1, 1, 1, 1, 1, 1,\n",
       "       3, 2, 3, 3, 2, 0, 0, 0, 4, 4, 0, 2, 4, 2, 0, 2, 2, 1, 1, 1, 1, 1,\n",
       "       1, 1, 1, 1, 4, 1, 1, 1, 1, 0, 0, 0, 0, 2, 4, 4, 2, 4, 1, 1, 1, 1,\n",
       "       1, 1, 1, 1, 1, 1, 1, 1, 3, 3, 3, 3, 3, 0, 1, 1, 1, 1, 3, 4, 2, 4,\n",
       "       4, 2, 3, 0, 1, 1, 0, 0, 0, 0, 1, 0, 4, 1, 3, 3, 3, 4, 2, 4, 2, 3,\n",
       "       3, 3, 1, 1, 1, 1, 1, 0, 0, 0, 4, 4, 2, 0, 0, 4, 4, 0, 3, 3, 3, 3,\n",
       "       1, 1, 1, 1, 3, 3, 3, 3, 3, 3, 1, 4, 2, 3, 2, 4, 0, 4, 3, 0, 3, 0,\n",
       "       0, 0, 0, 4, 0, 0, 2, 2, 0, 1, 1, 1, 1, 3, 3, 3, 3, 2, 2, 0, 4, 3,\n",
       "       3, 3, 3, 0, 4, 4, 2, 0, 1, 0, 4, 3, 1, 1, 1, 1, 4, 2, 0, 2, 4, 1,\n",
       "       3, 1, 1, 3, 3, 3, 3, 1, 1, 1, 1, 0, 2, 4, 2, 2, 2, 4, 0, 4, 0, 4,\n",
       "       0, 2, 4, 4, 4, 3, 1, 1, 3, 3, 3, 2, 3, 3, 3, 3, 3, 3, 1, 3, 1, 1,\n",
       "       2, 4, 4, 2, 4, 2, 2, 4, 0, 3, 0, 3, 0, 4, 3, 3, 2, 3, 3, 3, 1, 1,\n",
       "       3, 1, 1, 3, 1, 0, 4, 2, 2, 0, 3, 0, 3, 2, 2, 4, 0, 2, 2, 2, 2, 0,\n",
       "       4, 2, 4, 2, 2, 2, 3, 0, 4, 4, 4, 4, 4, 2, 4, 0, 0, 0, 0, 4, 4, 0,\n",
       "       4, 4, 0, 4, 2, 2, 2, 2, 2, 4, 2, 4, 4, 4, 4, 4, 2, 2, 2, 0, 4, 4,\n",
       "       4, 4, 0, 0, 4, 4, 3, 3, 3, 3, 2, 2, 2, 2, 2, 2, 2, 0, 4, 4, 2, 2,\n",
       "       4, 4, 4, 4, 4, 4, 2, 2, 2, 3, 4, 2, 2, 2, 0, 2, 2, 2], dtype=int32)"
      ]
     },
     "execution_count": 56,
     "metadata": {},
     "output_type": "execute_result"
    }
   ],
   "source": [
    "model_km.predict(X=df_norm)"
   ]
  },
  {
   "cell_type": "markdown",
   "metadata": {},
   "source": [
    "### Create a New DataFrame for the Predictions"
   ]
  },
  {
   "cell_type": "code",
   "execution_count": 57,
   "metadata": {},
   "outputs": [],
   "source": [
    "df_pred = df_norm.copy()"
   ]
  },
  {
   "cell_type": "code",
   "execution_count": 58,
   "metadata": {},
   "outputs": [],
   "source": [
    "df_pred.insert(0, 'pred', model_km.predict(X=df_norm))"
   ]
  },
  {
   "cell_type": "code",
   "execution_count": 59,
   "metadata": {},
   "outputs": [
    {
     "data": {
      "text/html": [
       "<div>\n",
       "<style scoped>\n",
       "    .dataframe tbody tr th:only-of-type {\n",
       "        vertical-align: middle;\n",
       "    }\n",
       "\n",
       "    .dataframe tbody tr th {\n",
       "        vertical-align: top;\n",
       "    }\n",
       "\n",
       "    .dataframe thead th {\n",
       "        text-align: right;\n",
       "    }\n",
       "</style>\n",
       "<table border=\"1\" class=\"dataframe\">\n",
       "  <thead>\n",
       "    <tr style=\"text-align: right;\">\n",
       "      <th></th>\n",
       "      <th>pred</th>\n",
       "      <th>mpg</th>\n",
       "      <th>cylinders</th>\n",
       "      <th>displacement</th>\n",
       "      <th>horsepower</th>\n",
       "      <th>weight</th>\n",
       "      <th>acceleration</th>\n",
       "      <th>model_year</th>\n",
       "      <th>origin_japan</th>\n",
       "      <th>origin_usa</th>\n",
       "    </tr>\n",
       "    <tr>\n",
       "      <th>name</th>\n",
       "      <th></th>\n",
       "      <th></th>\n",
       "      <th></th>\n",
       "      <th></th>\n",
       "      <th></th>\n",
       "      <th></th>\n",
       "      <th></th>\n",
       "      <th></th>\n",
       "      <th></th>\n",
       "      <th></th>\n",
       "    </tr>\n",
       "  </thead>\n",
       "  <tbody>\n",
       "    <tr>\n",
       "      <th>chevrolet chevelle malibu</th>\n",
       "      <td>1</td>\n",
       "      <td>-0.698638</td>\n",
       "      <td>1.483947</td>\n",
       "      <td>1.077290</td>\n",
       "      <td>0.664133</td>\n",
       "      <td>0.620540</td>\n",
       "      <td>-1.285258</td>\n",
       "      <td>-1.625315</td>\n",
       "      <td>-0.50239</td>\n",
       "      <td>0.774597</td>\n",
       "    </tr>\n",
       "    <tr>\n",
       "      <th>buick skylark 320</th>\n",
       "      <td>1</td>\n",
       "      <td>-1.083498</td>\n",
       "      <td>1.483947</td>\n",
       "      <td>1.488732</td>\n",
       "      <td>1.574594</td>\n",
       "      <td>0.843334</td>\n",
       "      <td>-1.466724</td>\n",
       "      <td>-1.625315</td>\n",
       "      <td>-0.50239</td>\n",
       "      <td>0.774597</td>\n",
       "    </tr>\n",
       "    <tr>\n",
       "      <th>...</th>\n",
       "      <td>...</td>\n",
       "      <td>...</td>\n",
       "      <td>...</td>\n",
       "      <td>...</td>\n",
       "      <td>...</td>\n",
       "      <td>...</td>\n",
       "      <td>...</td>\n",
       "      <td>...</td>\n",
       "      <td>...</td>\n",
       "      <td>...</td>\n",
       "    </tr>\n",
       "    <tr>\n",
       "      <th>ford ranger</th>\n",
       "      <td>2</td>\n",
       "      <td>0.584228</td>\n",
       "      <td>-0.864014</td>\n",
       "      <td>-0.712005</td>\n",
       "      <td>-0.662540</td>\n",
       "      <td>-0.415627</td>\n",
       "      <td>1.110088</td>\n",
       "      <td>1.636410</td>\n",
       "      <td>-0.50239</td>\n",
       "      <td>0.774597</td>\n",
       "    </tr>\n",
       "    <tr>\n",
       "      <th>chevy s-10</th>\n",
       "      <td>2</td>\n",
       "      <td>0.969088</td>\n",
       "      <td>-0.864014</td>\n",
       "      <td>-0.721574</td>\n",
       "      <td>-0.584501</td>\n",
       "      <td>-0.303641</td>\n",
       "      <td>1.400433</td>\n",
       "      <td>1.636410</td>\n",
       "      <td>-0.50239</td>\n",
       "      <td>0.774597</td>\n",
       "    </tr>\n",
       "  </tbody>\n",
       "</table>\n",
       "<p>392 rows × 10 columns</p>\n",
       "</div>"
      ],
      "text/plain": [
       "                           pred       mpg  cylinders  displacement  \\\n",
       "name                                                                 \n",
       "chevrolet chevelle malibu     1 -0.698638   1.483947      1.077290   \n",
       "buick skylark 320             1 -1.083498   1.483947      1.488732   \n",
       "...                         ...       ...        ...           ...   \n",
       "ford ranger                   2  0.584228  -0.864014     -0.712005   \n",
       "chevy s-10                    2  0.969088  -0.864014     -0.721574   \n",
       "\n",
       "                           horsepower    weight  acceleration  model_year  \\\n",
       "name                                                                        \n",
       "chevrolet chevelle malibu    0.664133  0.620540     -1.285258   -1.625315   \n",
       "buick skylark 320            1.574594  0.843334     -1.466724   -1.625315   \n",
       "...                               ...       ...           ...         ...   \n",
       "ford ranger                 -0.662540 -0.415627      1.110088    1.636410   \n",
       "chevy s-10                  -0.584501 -0.303641      1.400433    1.636410   \n",
       "\n",
       "                           origin_japan  origin_usa  \n",
       "name                                                 \n",
       "chevrolet chevelle malibu      -0.50239    0.774597  \n",
       "buick skylark 320              -0.50239    0.774597  \n",
       "...                                 ...         ...  \n",
       "ford ranger                    -0.50239    0.774597  \n",
       "chevy s-10                     -0.50239    0.774597  \n",
       "\n",
       "[392 rows x 10 columns]"
      ]
     },
     "execution_count": 59,
     "metadata": {},
     "output_type": "execute_result"
    }
   ],
   "source": [
    "df_pred"
   ]
  },
  {
   "cell_type": "markdown",
   "metadata": {},
   "source": [
    "### Visualize the Model"
   ]
  },
  {
   "cell_type": "code",
   "execution_count": 60,
   "metadata": {},
   "outputs": [
    {
     "data": {
      "image/png": "[encoded data removed]",
      "text/plain": [
       "<Figure size 432x288 with 1 Axes>"
      ]
     },
     "metadata": {
      "needs_background": "light"
     },
     "output_type": "display_data"
    }
   ],
   "source": [
    "sns.scatterplot(x='weight', y='mpg', hue='pred',\n",
    "                data=df_pred, palette='Set1');"
   ]
  },
  {
   "cell_type": "markdown",
   "metadata": {},
   "source": [
    "### Model Interpretation"
   ]
  },
  {
   "cell_type": "markdown",
   "metadata": {},
   "source": [
    "- Does the visualization makes sense?\n",
    "- The points are mixed between the groups, why?\n",
    "- We are **just representing 2 variables**\n",
    "- And the model was **fitted with 7 variables**"
   ]
  },
  {
   "cell_type": "markdown",
   "metadata": {},
   "source": [
    "## Grouping Variables with `PCA()`"
   ]
  },
  {
   "cell_type": "code",
   "execution_count": 61,
   "metadata": {},
   "outputs": [
    {
     "data": {
      "text/html": [
       "\n",
       "<iframe width=\"560\" height=\"315\" src=\"https://www.youtube.com/embed/HMOI_lkzW08\" title=\"YouTube video player\" frameborder=\"0\" allow=\"accelerometer; autoplay; clipboard-write; encrypted-media; gyroscope; picture-in-picture\" allowfullscreen></iframe>\n"
      ],
      "text/plain": [
       "<IPython.core.display.HTML object>"
      ]
     },
     "metadata": {},
     "output_type": "display_data"
    }
   ],
   "source": [
    "%%HTML\n",
    "\n",
    "<iframe width=\"560\" height=\"315\" src=\"https://www.youtube.com/embed/HMOI_lkzW08\" title=\"YouTube video player\" frameborder=\"0\" allow=\"accelerometer; autoplay; clipboard-write; encrypted-media; gyroscope; picture-in-picture\" allowfullscreen></iframe>"
   ]
  },
  {
   "cell_type": "markdown",
   "metadata": {},
   "source": [
    "### Transform Data to Components"
   ]
  },
  {
   "cell_type": "markdown",
   "metadata": {},
   "source": [
    "- `PCA()` is another technique used to transform data.\n",
    "\n",
    "How has the data been manipulated so far?\n",
    "\n",
    "1. Original Data `df`\n",
    "2. Normalized Data `dfnorm`\n",
    "3. Principal Components Data `dfpca` (now)"
   ]
  },
  {
   "cell_type": "code",
   "execution_count": 62,
   "metadata": {},
   "outputs": [],
   "source": [
    "from sklearn.decomposition import PCA"
   ]
  },
  {
   "cell_type": "code",
   "execution_count": 63,
   "metadata": {},
   "outputs": [],
   "source": [
    "pca = PCA()"
   ]
  },
  {
   "cell_type": "code",
   "execution_count": 64,
   "metadata": {},
   "outputs": [],
   "source": [
    "datapca = pca.fit_transform(df_norm)"
   ]
  },
  {
   "cell_type": "code",
   "execution_count": 65,
   "metadata": {},
   "outputs": [
    {
     "data": {
      "text/plain": [
       "['PC1', 'PC2', 'PC3', 'PC4', 'PC5', 'PC6', 'PC7', 'PC8', 'PC9']"
      ]
     },
     "execution_count": 65,
     "metadata": {},
     "output_type": "execute_result"
    }
   ],
   "source": [
    "[f'PC{i}' for i in range(1, pca.n_components_+1)]"
   ]
  },
  {
   "cell_type": "code",
   "execution_count": 66,
   "metadata": {},
   "outputs": [],
   "source": [
    "colpca = [f'PC{i}' for i in range(1, pca.n_components_+1)]"
   ]
  },
  {
   "cell_type": "code",
   "execution_count": 67,
   "metadata": {},
   "outputs": [
    {
     "data": {
      "text/html": [
       "<div>\n",
       "<style scoped>\n",
       "    .dataframe tbody tr th:only-of-type {\n",
       "        vertical-align: middle;\n",
       "    }\n",
       "\n",
       "    .dataframe tbody tr th {\n",
       "        vertical-align: top;\n",
       "    }\n",
       "\n",
       "    .dataframe thead th {\n",
       "        text-align: right;\n",
       "    }\n",
       "</style>\n",
       "<table border=\"1\" class=\"dataframe\">\n",
       "  <thead>\n",
       "    <tr style=\"text-align: right;\">\n",
       "      <th></th>\n",
       "      <th>PC1</th>\n",
       "      <th>PC2</th>\n",
       "      <th>PC3</th>\n",
       "      <th>PC4</th>\n",
       "      <th>PC5</th>\n",
       "      <th>PC6</th>\n",
       "      <th>PC7</th>\n",
       "      <th>PC8</th>\n",
       "      <th>PC9</th>\n",
       "    </tr>\n",
       "    <tr>\n",
       "      <th>name</th>\n",
       "      <th></th>\n",
       "      <th></th>\n",
       "      <th></th>\n",
       "      <th></th>\n",
       "      <th></th>\n",
       "      <th></th>\n",
       "      <th></th>\n",
       "      <th></th>\n",
       "      <th></th>\n",
       "    </tr>\n",
       "  </thead>\n",
       "  <tbody>\n",
       "    <tr>\n",
       "      <th>chevrolet chevelle malibu</th>\n",
       "      <td>2.768102</td>\n",
       "      <td>0.653669</td>\n",
       "      <td>0.661643</td>\n",
       "      <td>-0.585333</td>\n",
       "      <td>-0.382837</td>\n",
       "      <td>0.750140</td>\n",
       "      <td>-0.468860</td>\n",
       "      <td>-0.095520</td>\n",
       "      <td>-0.120586</td>\n",
       "    </tr>\n",
       "    <tr>\n",
       "      <th>buick skylark 320</th>\n",
       "      <td>3.561796</td>\n",
       "      <td>0.961842</td>\n",
       "      <td>0.474659</td>\n",
       "      <td>-0.511149</td>\n",
       "      <td>-0.199102</td>\n",
       "      <td>0.489416</td>\n",
       "      <td>0.009370</td>\n",
       "      <td>0.213293</td>\n",
       "      <td>0.073620</td>\n",
       "    </tr>\n",
       "    <tr>\n",
       "      <th>...</th>\n",
       "      <td>...</td>\n",
       "      <td>...</td>\n",
       "      <td>...</td>\n",
       "      <td>...</td>\n",
       "      <td>...</td>\n",
       "      <td>...</td>\n",
       "      <td>...</td>\n",
       "      <td>...</td>\n",
       "      <td>...</td>\n",
       "    </tr>\n",
       "    <tr>\n",
       "      <th>ford ranger</th>\n",
       "      <td>-1.525719</td>\n",
       "      <td>-1.951240</td>\n",
       "      <td>-0.692443</td>\n",
       "      <td>0.005939</td>\n",
       "      <td>-0.179771</td>\n",
       "      <td>-0.454670</td>\n",
       "      <td>0.318433</td>\n",
       "      <td>0.114183</td>\n",
       "      <td>-0.029629</td>\n",
       "    </tr>\n",
       "    <tr>\n",
       "      <th>chevy s-10</th>\n",
       "      <td>-1.672596</td>\n",
       "      <td>-2.085532</td>\n",
       "      <td>-0.736482</td>\n",
       "      <td>0.181318</td>\n",
       "      <td>-0.129705</td>\n",
       "      <td>-0.153139</td>\n",
       "      <td>0.591007</td>\n",
       "      <td>0.066608</td>\n",
       "      <td>-0.123692</td>\n",
       "    </tr>\n",
       "  </tbody>\n",
       "</table>\n",
       "<p>392 rows × 9 columns</p>\n",
       "</div>"
      ],
      "text/plain": [
       "                                PC1       PC2       PC3       PC4       PC5  \\\n",
       "name                                                                          \n",
       "chevrolet chevelle malibu  2.768102  0.653669  0.661643 -0.585333 -0.382837   \n",
       "buick skylark 320          3.561796  0.961842  0.474659 -0.511149 -0.199102   \n",
       "...                             ...       ...       ...       ...       ...   \n",
       "ford ranger               -1.525719 -1.951240 -0.692443  0.005939 -0.179771   \n",
       "chevy s-10                -1.672596 -2.085532 -0.736482  0.181318 -0.129705   \n",
       "\n",
       "                                PC6       PC7       PC8       PC9  \n",
       "name                                                               \n",
       "chevrolet chevelle malibu  0.750140 -0.468860 -0.095520 -0.120586  \n",
       "buick skylark 320          0.489416  0.009370  0.213293  0.073620  \n",
       "...                             ...       ...       ...       ...  \n",
       "ford ranger               -0.454670  0.318433  0.114183 -0.029629  \n",
       "chevy s-10                -0.153139  0.591007  0.066608 -0.123692  \n",
       "\n",
       "[392 rows x 9 columns]"
      ]
     },
     "execution_count": 67,
     "metadata": {},
     "output_type": "execute_result"
    }
   ],
   "source": [
    "pd.DataFrame(datapca, columns=colpca, index=df.index)"
   ]
  },
  {
   "cell_type": "code",
   "execution_count": 68,
   "metadata": {},
   "outputs": [],
   "source": [
    "df_pca = pd.DataFrame(datapca, columns=colpca, index=df.index)"
   ]
  },
  {
   "cell_type": "markdown",
   "metadata": {},
   "source": [
    "### Visualize Components & Clusters"
   ]
  },
  {
   "cell_type": "markdown",
   "metadata": {},
   "source": [
    "- A **scatterplot** with `PC1` & `PC2`\n",
    "- Colour points by cluster\n",
    "- Are they **mixed** now?"
   ]
  },
  {
   "cell_type": "code",
   "execution_count": 69,
   "metadata": {},
   "outputs": [],
   "source": [
    "import plotly.express as px"
   ]
  },
  {
   "cell_type": "code",
   "execution_count": 70,
   "metadata": {},
   "outputs": [
    {
     "data": {
      "application/vnd.plotly.v1+json": {
       "config": {
        "plotlyServerURL": "https://plot.ly"
       },
       "data": [
        {
         "hovertemplate": "PC1=%{x}<br>PC2=%{y}<br>color=%{marker.color}<extra></extra>",
         "legendgroup": "",
         "marker": {
          "color": [
           1,
           1,
           1,
           1,
           1,
           1,
           1,
           1,
           1,
           1,
           1,
           1,
           1,
           1,
           4,
           3,
           3,
           3,
           4,
           0,
           0,
           0,
           0,
           0,
           3,
           1,
           1,
           1,
           1,
           4,
           2,
           4,
           3,
           3,
           3,
           3,
           3,
           1,
           1,
           1,
           1,
           1,
           1,
           1,
           3,
           2,
           3,
           3,
           2,
           0,
           0,
           0,
           4,
           4,
           0,
           2,
           4,
           2,
           0,
           2,
           2,
           1,
           1,
           1,
           1,
           1,
           1,
           1,
           1,
           1,
           4,
           1,
           1,
           1,
           1,
           0,
           0,
           0,
           0,
           2,
           4,
           4,
           2,
           4,
           1,
           1,
           1,
           1,
           1,
           1,
           1,
           1,
           1,
           1,
           1,
           1,
           3,
           3,
           3,
           3,
           3,
           0,
           1,
           1,
           1,
           1,
           3,
           4,
           2,
           4,
           4,
           2,
           3,
           0,
           1,
           1,
           0,
           0,
           0,
           0,
           1,
           0,
           4,
           1,
           3,
           3,
           3,
           4,
           2,
           4,
           2,
           3,
           3,
           3,
           1,
           1,
           1,
           1,
           1,
           0,
           0,
           0,
           4,
           4,
           2,
           0,
           0,
           4,
           4,
           0,
           3,
           3,
           3,
           3,
           1,
           1,
           1,
           1,
           3,
           3,
           3,
           3,
           3,
           3,
           1,
           4,
           2,
           3,
           2,
           4,
           0,
           4,
           3,
           0,
           3,
           0,
           0,
           0,
           0,
           4,
           0,
           0,
           2,
           2,
           0,
           1,
           1,
           1,
           1,
           3,
           3,
           3,
           3,
           2,
           2,
           0,
           4,
           3,
           3,
           3,
           3,
           0,
           4,
           4,
           2,
           0,
           1,
           0,
           4,
           3,
           1,
           1,
           1,
           1,
           4,
           2,
           0,
           2,
           4,
           1,
           3,
           1,
           1,
           3,
           3,
           3,
           3,
           1,
           1,
           1,
           1,
           0,
           2,
           4,
           2,
           2,
           2,
           4,
           0,
           4,
           0,
           4,
           0,
           2,
           4,
           4,
           4,
           3,
           1,
           1,
           3,
           3,
           3,
           2,
           3,
           3,
           3,
           3,
           3,
           3,
           1,
           3,
           1,
           1,
           2,
           4,
           4,
           2,
           4,
           2,
           2,
           4,
           0,
           3,
           0,
           3,
           0,
           4,
           3,
           3,
           2,
           3,
           3,
           3,
           1,
           1,
           3,
           1,
           1,
           3,
           1,
           0,
           4,
           2,
           2,
           0,
           3,
           0,
           3,
           2,
           2,
           4,
           0,
           2,
           2,
           2,
           2,
           0,
           4,
           2,
           4,
           2,
           2,
           2,
           3,
           0,
           4,
           4,
           4,
           4,
           4,
           2,
           4,
           0,
           0,
           0,
           0,
           4,
           4,
           0,
           4,
           4,
           0,
           4,
           2,
           2,
           2,
           2,
           2,
           4,
           2,
           4,
           4,
           4,
           4,
           4,
           2,
           2,
           2,
           0,
           4,
           4,
           4,
           4,
           0,
           0,
           4,
           4,
           3,
           3,
           3,
           3,
           2,
           2,
           2,
           2,
           2,
           2,
           2,
           0,
           4,
           4,
           2,
           2,
           4,
           4,
           4,
           4,
           4,
           4,
           2,
           2,
           2,
           3,
           4,
           2,
           2,
           2,
           0,
           2,
           2,
           2
          ],
          "coloraxis": "coloraxis",
          "symbol": "circle"
         },
         "mode": "markers",
         "name": "",
         "orientation": "v",
         "showlegend": false,
         "type": "scatter",
         "x": [
          2.7681015408712164,
          3.5617956121137864,
          3.070488709648948,
          3.020336929873964,
          3.007717109083676,
          4.632490431458015,
          5.094469429700944,
          5.016170883199183,
          5.090410338149973,
          4.311461998206058,
          3.8159430065972657,
          3.7997906445666954,
          3.817831087801163,
          4.474529595624321,
          -1.5117090900327215,
          0.7187417879547207,
          0.9077937459259199,
          0.5158811834731747,
          -1.8539919546004489,
          -2.337105206283633,
          -1.1708840167191017,
          -0.9436398046030889,
          -1.2505822929287727,
          -0.6639071167898437,
          0.680841108992828,
          4.539184109214651,
          3.982998541349347,
          4.216507495361387,
          3.795671755644882,
          -1.908877464644297,
          -0.619231158427669,
          -1.5902151179477666,
          1.1250318471951033,
          1.4357773846369302,
          1.3838557788447652,
          1.1550736871112066,
          1.2472056740007094,
          3.7469755307411186,
          4.203465298813926,
          3.469303293081093,
          3.330087048340598,
          4.509687361981959,
          4.285807745344449,
          4.517123646681601,
          1.479522233419897,
          -0.7623053353808523,
          1.3114399566376744,
          1.2188532859466843,
          -0.3728938521711006,
          -1.2518077657249247,
          -2.212931357517503,
          -1.668684076477318,
          -3.0045718962677705,
          -3.1358124895217996,
          -2.164234843114468,
          -1.5088048394367777,
          -1.7100573238164947,
          -0.9942144973557244,
          -2.3018447569371903,
          -0.5860569270947422,
          -0.5555872202245111,
          3.7700567820514754,
          4.066901911248673,
          3.1997288007521285,
          3.44826026308093,
          3.0177670685735385,
          4.8588089689217355,
          3.638715895270489,
          3.7157209067479138,
          4.236928551522717,
          -1.6400477727138776,
          3.1244138609937004,
          2.990526928281098,
          2.9801321348754595,
          3.175779631805891,
          -0.25899612992853505,
          -1.3234376539824428,
          -1.0898009652878244,
          -1.8307891304318464,
          -0.4805829635857066,
          -2.125791803000295,
          -1.419283473035756,
          -0.9376428681278565,
          -2.158927141710039,
          3.6446429006767413,
          3.1070904723215786,
          3.292567830344468,
          2.867236257481445,
          3.070861881342403,
          4.7570516542955525,
          3.845955853909781,
          3.599167373108371,
          3.1491456672903984,
          4.86743840278331,
          5.1731470584018835,
          3.736415343261145,
          0.9929184144486706,
          1.0719897853531268,
          0.9343284597173933,
          0.8734419932790236,
          0.49333110411785364,
          -2.494208199410835,
          4.0058860471718045,
          4.2223019060262645,
          3.8880996463395476,
          3.971669592337553,
          0.9532581108370884,
          -2.021699976229095,
          -0.8725677814209032,
          -1.7424167430360995,
          -1.8117452012346846,
          -0.6670813340646509,
          0.5258002203078571,
          -1.4058721965382135,
          3.239664394511149,
          4.644395444945269,
          -2.622843658548153,
          -1.439505917467648,
          -0.7636302480116363,
          -0.48253114866286395,
          3.033022730745101,
          -0.7025633473933525,
          -0.25271862326126815,
          3.7717003042158956,
          0.6283843717034159,
          0.8111352589638801,
          1.1825340937849131,
          -3.0367912438032882,
          -0.8623283927242302,
          -3.369686347068875,
          -0.7981152121151963,
          1.3391447623695298,
          1.3111029652716857,
          1.1643311309340392,
          2.8371444666867793,
          3.4787800717914106,
          3.286133168478004,
          2.980516253129594,
          2.958548083744806,
          -1.7869380049213197,
          -1.9036894369634672,
          -1.4780739790055177,
          -3.1104314483765876,
          -3.1051013923247313,
          -1.1010918070259363,
          -1.6180991767383148,
          -1.41403047681027,
          -1.6302847523868467,
          -1.9033972560896095,
          -2.172360637720561,
          0.8460061259987726,
          1.1807903117335456,
          0.5285506541454444,
          0.5385469010258636,
          3.931521616937016,
          3.203874783789331,
          3.0632838207807236,
          3.431025654813888,
          0.9580039831033653,
          1.251683335554514,
          1.2586800088300436,
          0.8616644650541556,
          0.9105803287575277,
          1.7566640632710424,
          2.5505510377939413,
          -2.471967394462308,
          -0.6320963985296503,
          0.7141595356741183,
          -0.8398317773638222,
          -1.406965794244076,
          -1.798916831629219,
          -1.844651695460547,
          0.7121827673582914,
          -1.9060545256379355,
          0.7079666068953857,
          -1.0128297554612462,
          -1.1239902617662971,
          -0.7506730887270658,
          -0.7599097807329924,
          -3.216864874146908,
          -1.580350338848345,
          -1.6905586702330206,
          -0.533336441873691,
          -1.274051745020086,
          -1.6879493197806332,
          2.791608842396015,
          3.00275606228804,
          2.4855180308359435,
          3.2523574799124377,
          0.7371560602862699,
          1.0208950620039172,
          0.052673335043212574,
          0.3724732918253318,
          -2.2483822909146065,
          -1.8331620328967568,
          -1.9790765851490388,
          -3.262682109457127,
          0.8169865186749327,
          0.4548819514755422,
          1.219378539638839,
          0.7951634522625579,
          -1.8361280647836742,
          -2.9415714142040246,
          -2.5224156574296863,
          -0.6911463687104753,
          -0.6490118810553862,
          3.013839490368153,
          -1.28697653385724,
          -0.634357799386637,
          0.5224477201626694,
          3.5722380568002947,
          3.249411082462731,
          2.55606493053406,
          2.856201479678187,
          -3.0528310144505344,
          -1.2438577654569447,
          -2.983800764019151,
          -0.8214219930353523,
          -3.071122840200575,
          2.6780728692684352,
          1.6705027965101815,
          2.8353363230094213,
          2.609589610978266,
          1.1369316499361048,
          0.7799964874419743,
          0.8005115759171744,
          0.7351626368981574,
          3.7521501976652263,
          3.4298229470206043,
          3.824916023414912,
          2.9963455292088734,
          -1.9525234911210585,
          -0.5841321992816303,
          -2.5937957048699833,
          -0.6397553448439856,
          -1.7359023556024236,
          -1.568947958181782,
          -2.831782260486328,
          -1.8733659128379714,
          -0.9446043305140465,
          -0.7207093406373252,
          -1.6862893981364526,
          -3.6269463662439403,
          -1.909595584283504,
          -3.517186753637528,
          -3.5153536911181718,
          -3.358355808126505,
          1.4739357093847074,
          2.4019451841723463,
          2.251875846060634,
          0.6296263197820992,
          0.2627714167270266,
          0.3072526345358651,
          -0.6652570194184619,
          0.6268718336499042,
          0.5054857163793575,
          0.7993570271509526,
          0.245091732397538,
          0.7697582918910975,
          1.251671152963614,
          2.268711187642097,
          1.7874147479698725,
          2.330030634535996,
          2.606620854589842,
          -1.6234829377193103,
          -1.8786763636182606,
          -2.0672499056163005,
          -1.3536385428363502,
          -1.646138337788013,
          -0.4480206754721147,
          -0.7276224505290724,
          -1.8784612966897807,
          -0.695533668926192,
          0.387714528702438,
          -0.9035970736629215,
          0.43100558655647814,
          -2.241976761227779,
          -2.7978840116461727,
          0.7755745919635842,
          0.06545527968165908,
          -0.6796522865491981,
          0.3467593146285248,
          0.6895787816978687,
          2.1606784576243667,
          2.2386682110746827,
          2.695438735406616,
          2.2169802029298316,
          2.8747761749764242,
          2.729367640272802,
          1.7858239323350569,
          2.765621824280495,
          -2.264372777264805,
          -3.0970644526989792,
          -1.7520969825984138,
          -0.9711724669678112,
          -1.1135382824302182,
          1.8427048456742507,
          -2.2345552088695233,
          0.4441214551759366,
          -1.513158296679247,
          -1.704737645779008,
          -3.332410726355694,
          -2.505426232479257,
          -0.8935343743209303,
          0.27283358050069656,
          0.27217581384661255,
          -0.9372127901530689,
          -2.6585199479274357,
          -3.71237905267835,
          -1.7395785660729697,
          -3.3895470843522713,
          -0.9708537569008404,
          -1.0133686248772082,
          -0.9699683698502279,
          0.325649678525173,
          -2.375767649067532,
          -2.1975351428076597,
          -2.733246069789846,
          -2.66376746961377,
          -2.7418276873257907,
          -3.9355698291115946,
          -0.5498511089865393,
          -3.778526960727177,
          -3.7665419268178377,
          -3.789655811108303,
          -2.2861687926791623,
          -2.145097488283883,
          -3.5478151473592248,
          -3.250602891295811,
          -2.463164086858156,
          -0.8629241876038133,
          -2.142924384264842,
          -2.005409102516999,
          -2.9371011292583074,
          -1.1232964053831676,
          -1.0292636015211827,
          -0.71682509179317,
          0.3096449789395398,
          -1.0522750522700557,
          -3.7997794902812863,
          -2.427041734252267,
          -3.5048707066863973,
          -3.252043854574706,
          -3.730978421673931,
          -3.5542588803310147,
          -3.2253588101360737,
          -1.8643561429713587,
          -2.053092185181802,
          -2.090766002939553,
          -2.2312373122176052,
          -2.8254424824464306,
          -2.9123232823706684,
          -2.3400295843284895,
          -2.8423414523620996,
          -1.8800185769476299,
          -1.5310304021608687,
          -0.8406188760179013,
          -0.9230973863763244,
          0.6143669376342975,
          1.1339251266639312,
          0.09846033132955344,
          0.5218453395458187,
          -1.5664203412075781,
          -1.41156950486644,
          -1.8063364794987096,
          -1.4461625890949432,
          -1.2758136368287976,
          -1.1423617825985697,
          -0.8158369519319845,
          -2.626673464568641,
          -3.600750084519429,
          -3.2832201745076834,
          -2.101130925767055,
          -2.1977503405705248,
          -2.8423565624032507,
          -3.0022562131892436,
          -3.1515771788756375,
          -3.39625094323582,
          -3.171311038787437,
          -3.4912715676900077,
          -0.029761483374332348,
          -0.6135959456427882,
          -0.8064912552310042,
          0.43559676794770585,
          -2.190278328734009,
          -1.4115460008059773,
          -0.9799933742928894,
          -0.9821083541071538,
          -4.036985123492385,
          -1.1268082836860314,
          -1.52571880643157,
          -1.672595579706161
         ],
         "xaxis": "x",
         "y": [
          0.6536686698172071,
          0.9618424410466487,
          0.9422170408259068,
          0.7897426311564679,
          0.9658848801234092,
          1.385631719999815,
          1.6903140188207062,
          1.7412913094917406,
          1.5548599921028232,
          1.598964465108217,
          1.2468001591473175,
          1.5088024728722176,
          1.199696570885709,
          1.6192235455454063,
          2.4471909246719767,
          -0.15828156352214953,
          -0.11947883791083191,
          -0.28211116908869827,
          2.4775993611600198,
          -0.2450064260787917,
          0.4585260711910373,
          0.9813183200997944,
          0.5204480644827104,
          1.4452685859181136,
          -0.09238511376686814,
          0.8454218116774044,
          0.5960032585264775,
          0.8956975398278176,
          -0.026758099262876547,
          2.383311724206213,
          -0.32349599859666067,
          2.51639067035686,
          0.21611405288567895,
          -0.18171284238132954,
          -0.20912618199585042,
          -0.2924197779863707,
          -0.21562473875452343,
          0.7674314988142188,
          0.9041029397038356,
          0.4537395827492973,
          0.5149241805420595,
          0.9202583268148082,
          0.7849191070376172,
          0.796288694506755,
          0.189319137080218,
          -0.9726941987093733,
          -0.13747243298207745,
          -0.11616811897461321,
          -0.07480770206184736,
          0.9606031680114531,
          -0.06905627550622384,
          0.7814736347329189,
          1.5024668600328177,
          1.6733350185849467,
          -0.01657106962420729,
          -1.237406111883468,
          2.18188856529598,
          -0.7037336892581575,
          -0.8749253158047606,
          -1.0272656738098926,
          -0.5637603353572312,
          0.6759449061474156,
          0.7323671916642901,
          0.331590875683777,
          0.4418991678282276,
          0.6649990397872672,
          1.1048484639522411,
          0.3606317247155089,
          0.39907688558927756,
          0.7461942188215562,
          2.527935225539339,
          0.5037839493161859,
          0.14118617392479435,
          -0.13330685508830092,
          0.2590588173626154,
          0.939453671187172,
          0.14909658748123084,
          -0.044673027916019604,
          0.0949075568871982,
          -0.4965638666044988,
          1.8935230537163383,
          2.3524581840441954,
          -0.3982840395967327,
          1.965484087805208,
          0.48814719505064996,
          0.5884878687200877,
          0.3116796908835475,
          0.004144671501016487,
          0.417002742138472,
          0.8474389601999857,
          0.48866500666293683,
          0.3725975468908916,
          0.07583472781987553,
          1.0377934014973909,
          1.0960730681762758,
          0.8279535841508692,
          -0.529344375799715,
          -0.795552043527966,
          -0.4689580728824217,
          -0.6240533753742731,
          -0.5317283302717353,
          -0.6146427126770778,
          0.14991348963541984,
          0.49514775295894453,
          0.4326220505001586,
          0.586447441946689,
          -0.29896838112097196,
          1.4978430688673705,
          -1.2362530180371551,
          1.925337638064027,
          2.4070432245337496,
          -0.981278494596053,
          -0.10746632603088874,
          0.5307727526886278,
          0.29531028642370355,
          1.3709932540772949,
          -0.3706063088715237,
          0.4593853364457373,
          0.80314747226034,
          0.6798739646054089,
          0.6789091257072577,
          0.8918578705591216,
          2.6048191608440834,
          0.8762465612864413,
          -0.6990025521584823,
          -0.5670561899875276,
          -0.7242111322323822,
          1.2243498672423432,
          -0.8291486690915549,
          0.8856681022677223,
          -0.9366075707462135,
          -0.7515270475094645,
          -0.8451082214662821,
          -0.6472816530027747,
          -0.0073220829036060595,
          -0.03021257132599469,
          0.13346307381914665,
          -0.34434313844947,
          -0.18388386867439382,
          0.21599683190812463,
          0.30889734286910614,
          0.5244119569310551,
          1.553696451680665,
          1.1800718271176744,
          -0.5351782707954814,
          0.3638266371841464,
          0.5927532432904618,
          2.077529071203567,
          1.9632005460381217,
          0.19624585719810791,
          -0.7100904572545197,
          -0.6493880927758364,
          -1.6428051858037682,
          -1.3858979131819795,
          0.47498693921649143,
          -0.07296449089240974,
          -0.13713736908746957,
          0.022102115547088654,
          -1.4498290332825279,
          -1.0648186268972466,
          -1.1006720958322218,
          -1.2166816677579826,
          -0.4568614866946748,
          -0.1873474670233381,
          0.221192497275406,
          1.6698006875200249,
          -0.9752132195384936,
          -0.6678942044385838,
          -1.2469990709672165,
          2.2126562698007817,
          0.07134780157944984,
          1.6554262284028407,
          -0.4424774894012843,
          0.4615592601169084,
          -0.899353102410972,
          0.45330919699044686,
          0.0739598569596533,
          0.547448109665024,
          0.8083823955920549,
          1.2862304277594807,
          0.2035183721731599,
          -0.023500505318289854,
          -0.6823447508101853,
          -1.2127453060570732,
          0.23550290661439569,
          -0.045427645545212336,
          0.027116591313185112,
          -0.2890327266151595,
          0.08408849515691887,
          -0.6928612982628415,
          -0.5185458985377346,
          -1.1702749780167583,
          -1.1058179495846308,
          -2.1166596300052896,
          -2.02961576520502,
          0.3347734180949112,
          1.2081918933397702,
          -1.0748322598262539,
          -1.7253247653998267,
          -0.7577688697491397,
          -1.0798970879027625,
          0.6692273711638206,
          1.3719414937804537,
          1.5172112230505588,
          -0.6008922802621733,
          0.28568696014592154,
          0.024411945754209165,
          -0.8078772508648092,
          1.9121234022159745,
          0.2504297519066319,
          0.34763637895606514,
          0.18808722427223057,
          -0.38820244081533467,
          -0.09668822523783949,
          1.0239501322415003,
          -0.8468051406687584,
          -0.5848645457913646,
          -0.8423121992908583,
          1.3034269058035908,
          -0.012058337355935695,
          -1.2924589330040817,
          -0.2058571273586707,
          -0.4985210116511962,
          -0.872620676330967,
          -1.0000698840072764,
          -1.1621849722868869,
          -1.3740036375627858,
          0.43355976125361334,
          0.3227355948485547,
          0.31335225240818787,
          -0.3192754389696682,
          0.2410771949995371,
          -0.9831774917246019,
          1.1370031965468463,
          -0.9528186836280257,
          -1.3071352621647971,
          -1.0260911330907936,
          1.3707505892730225,
          0.2851682785700181,
          1.8999861664070445,
          0.7273943771946536,
          2.1031520853300596,
          -1.259200531325035,
          -0.9818786913457429,
          0.6787877294030378,
          0.8756864935144066,
          1.205930225976819,
          -0.8018043780174894,
          -0.25284949264435774,
          -0.19298511612063735,
          -1.465671265221679,
          -1.3576155588286551,
          -1.0173435143052088,
          -0.9841190272904046,
          -1.1745016546154583,
          -1.2170363454176407,
          -0.9140468650968541,
          -1.17218790961088,
          -1.3554957013485198,
          -0.6921900887398434,
          -0.20829191232438768,
          -0.14630660737665313,
          0.096989007234508,
          -0.33942016611914366,
          -1.2919052260623478,
          1.796074434773594,
          1.7391078639633542,
          -0.9324400220526796,
          1.7386660236458897,
          -1.0799904302418932,
          -1.3570159064611154,
          1.7211165920489648,
          0.09653040860969636,
          0.624902302945568,
          0.1822254118819092,
          0.3076776202155115,
          0.02101346023857066,
          1.2459202669891274,
          -0.8815647470873945,
          -1.500441125988014,
          -1.3787198678945334,
          -1.4811991592124716,
          -1.1079053849765808,
          -0.7578976865132758,
          -0.4374287499266186,
          -0.34798790138248376,
          -0.6998836165203434,
          -0.5431528659134545,
          -0.5013144880885337,
          -0.7303202057284283,
          -0.25260724736872897,
          0.07372199498194677,
          1.339672727204684,
          -0.9944601202630455,
          -1.075814300136516,
          -0.8943427673573787,
          -1.1452656197464413,
          -1.7067888138103409,
          -2.1323617079415116,
          -0.8639099143221601,
          -1.1395188852659281,
          0.7010328466416623,
          -0.09371413654340603,
          -1.179373974263169,
          -0.2355600859874479,
          -0.4887419285967115,
          -0.74913930062386,
          -0.17014056180083154,
          0.6071673746916844,
          -1.3166271968351462,
          1.0299118366146427,
          -1.3529214754318246,
          -1.6263334610096856,
          -1.9315870804417872,
          -1.6567794861407232,
          -0.2963500954117692,
          1.3450653525099465,
          0.9264144764088809,
          1.4069658046904314,
          1.306429920338315,
          0.726101483413159,
          -0.9253299030179939,
          0.5490896583238455,
          -1.4921914341045233,
          -1.8238576386430332,
          -1.0628121949929996,
          -1.3566190360184742,
          1.4294934837114013,
          0.7976942411578929,
          -0.2700703274682406,
          2.2681450755834964,
          1.9221343212010014,
          -0.13760134367887725,
          0.9932328252320104,
          -1.3420704983243865,
          -1.4569676180900288,
          -1.0773238766905742,
          -0.6405260188073437,
          -0.8986398162090776,
          0.8123890882804263,
          -1.6243320231295213,
          0.9782495843906752,
          0.7486385121748196,
          0.4513099036477733,
          0.7671682752999867,
          1.0395156964581576,
          -1.3748356390668608,
          -1.564990574305595,
          -2.2856383949642196,
          -0.1461613054177587,
          1.3357493051173794,
          0.9468857332815264,
          1.409264143629791,
          0.6898243083623782,
          -1.133103902330347,
          -1.0146147579305842,
          1.9256176724975613,
          1.757434622564922,
          -1.1789495215790733,
          -1.727980435801069,
          -1.4978261374754498,
          -1.4352940074107383,
          -2.05934506891439,
          -1.8926109480517228,
          -1.824818001499141,
          -1.5413951136180617,
          -1.497453715519617,
          -1.7820476960679434,
          -1.4999656556412515,
          -0.42687117749026776,
          0.5686411517508979,
          0.704332459325693,
          -1.4518530297236327,
          -1.8210360638815435,
          1.2946267712714088,
          1.2118242836555158,
          0.8016068642905744,
          1.0795093412788312,
          1.0013185553134158,
          0.883078059634975,
          -1.3706122178395679,
          -1.688598184847973,
          -1.1873633207970882,
          -1.0519824410009893,
          1.4434342837483978,
          -1.0440084618528767,
          -1.6786386788447012,
          -1.4205144055903423,
          -2.127140006794788,
          -0.7892139437732615,
          -1.951240150147848,
          -2.0855321418663695
         ],
         "yaxis": "y"
        }
       ],
       "layout": {
        "autosize": true,
        "coloraxis": {
         "colorbar": {
          "title": {
           "text": "color"
          }
         },
         "colorscale": [
          [
           0,
           "#0d0887"
          ],
          [
           0.1111111111111111,
           "#46039f"
          ],
          [
           0.2222222222222222,
           "#7201a8"
          ],
          [
           0.3333333333333333,
           "#9c179e"
          ],
          [
           0.4444444444444444,
           "#bd3786"
          ],
          [
           0.5555555555555556,
           "#d8576b"
          ],
          [
           0.6666666666666666,
           "#ed7953"
          ],
          [
           0.7777777777777778,
           "#fb9f3a"
          ],
          [
           0.8888888888888888,
           "#fdca26"
          ],
          [
           1,
           "#f0f921"
          ]
         ]
        },
        "legend": {
         "tracegroupgap": 0
        },
        "margin": {
         "t": 60
        },
        "template": {
         "data": {
          "bar": [
           {
            "error_x": {
             "color": "#2a3f5f"
            },
            "error_y": {
             "color": "#2a3f5f"
            },
            "marker": {
             "line": {
              "color": "#E5ECF6",
              "width": 0.5
             },
             "pattern": {
              "fillmode": "overlay",
              "size": 10,
              "solidity": 0.2
             }
            },
            "type": "bar"
           }
          ],
          "barpolar": [
           {
            "marker": {
             "line": {
              "color": "#E5ECF6",
              "width": 0.5
             },
             "pattern": {
              "fillmode": "overlay",
              "size": 10,
              "solidity": 0.2
             }
            },
            "type": "barpolar"
           }
          ],
          "carpet": [
           {
            "aaxis": {
             "endlinecolor": "#2a3f5f",
             "gridcolor": "white",
             "linecolor": "white",
             "minorgridcolor": "white",
             "startlinecolor": "#2a3f5f"
            },
            "baxis": {
             "endlinecolor": "#2a3f5f",
             "gridcolor": "white",
             "linecolor": "white",
             "minorgridcolor": "white",
             "startlinecolor": "#2a3f5f"
            },
            "type": "carpet"
           }
          ],
          "choropleth": [
           {
            "colorbar": {
             "outlinewidth": 0,
             "ticks": ""
            },
            "type": "choropleth"
           }
          ],
          "contour": [
           {
            "colorbar": {
             "outlinewidth": 0,
             "ticks": ""
            },
            "colorscale": [
             [
              0,
              "#0d0887"
             ],
             [
              0.1111111111111111,
              "#46039f"
             ],
             [
              0.2222222222222222,
              "#7201a8"
             ],
             [
              0.3333333333333333,
              "#9c179e"
             ],
             [
              0.4444444444444444,
              "#bd3786"
             ],
             [
              0.5555555555555556,
              "#d8576b"
             ],
             [
              0.6666666666666666,
              "#ed7953"
             ],
             [
              0.7777777777777778,
              "#fb9f3a"
             ],
             [
              0.8888888888888888,
              "#fdca26"
             ],
             [
              1,
              "#f0f921"
             ]
            ],
            "type": "contour"
           }
          ],
          "contourcarpet": [
           {
            "colorbar": {
             "outlinewidth": 0,
             "ticks": ""
            },
            "type": "contourcarpet"
           }
          ],
          "heatmap": [
           {
            "colorbar": {
             "outlinewidth": 0,
             "ticks": ""
            },
            "colorscale": [
             [
              0,
              "#0d0887"
             ],
             [
              0.1111111111111111,
              "#46039f"
             ],
             [
              0.2222222222222222,
              "#7201a8"
             ],
             [
              0.3333333333333333,
              "#9c179e"
             ],
             [
              0.4444444444444444,
              "#bd3786"
             ],
             [
              0.5555555555555556,
              "#d8576b"
             ],
             [
              0.6666666666666666,
              "#ed7953"
             ],
             [
              0.7777777777777778,
              "#fb9f3a"
             ],
             [
              0.8888888888888888,
              "#fdca26"
             ],
             [
              1,
              "#f0f921"
             ]
            ],
            "type": "heatmap"
           }
          ],
          "heatmapgl": [
           {
            "colorbar": {
             "outlinewidth": 0,
             "ticks": ""
            },
            "colorscale": [
             [
              0,
              "#0d0887"
             ],
             [
              0.1111111111111111,
              "#46039f"
             ],
             [
              0.2222222222222222,
              "#7201a8"
             ],
             [
              0.3333333333333333,
              "#9c179e"
             ],
             [
              0.4444444444444444,
              "#bd3786"
             ],
             [
              0.5555555555555556,
              "#d8576b"
             ],
             [
              0.6666666666666666,
              "#ed7953"
             ],
             [
              0.7777777777777778,
              "#fb9f3a"
             ],
             [
              0.8888888888888888,
              "#fdca26"
             ],
             [
              1,
              "#f0f921"
             ]
            ],
            "type": "heatmapgl"
           }
          ],
          "histogram": [
           {
            "marker": {
             "pattern": {
              "fillmode": "overlay",
              "size": 10,
              "solidity": 0.2
             }
            },
            "type": "histogram"
           }
          ],
          "histogram2d": [
           {
            "colorbar": {
             "outlinewidth": 0,
             "ticks": ""
            },
            "colorscale": [
             [
              0,
              "#0d0887"
             ],
             [
              0.1111111111111111,
              "#46039f"
             ],
             [
              0.2222222222222222,
              "#7201a8"
             ],
             [
              0.3333333333333333,
              "#9c179e"
             ],
             [
              0.4444444444444444,
              "#bd3786"
             ],
             [
              0.5555555555555556,
              "#d8576b"
             ],
             [
              0.6666666666666666,
              "#ed7953"
             ],
             [
              0.7777777777777778,
              "#fb9f3a"
             ],
             [
              0.8888888888888888,
              "#fdca26"
             ],
             [
              1,
              "#f0f921"
             ]
            ],
            "type": "histogram2d"
           }
          ],
          "histogram2dcontour": [
           {
            "colorbar": {
             "outlinewidth": 0,
             "ticks": ""
            },
            "colorscale": [
             [
              0,
              "#0d0887"
             ],
             [
              0.1111111111111111,
              "#46039f"
             ],
             [
              0.2222222222222222,
              "#7201a8"
             ],
             [
              0.3333333333333333,
              "#9c179e"
             ],
             [
              0.4444444444444444,
              "#bd3786"
             ],
             [
              0.5555555555555556,
              "#d8576b"
             ],
             [
              0.6666666666666666,
              "#ed7953"
             ],
             [
              0.7777777777777778,
              "#fb9f3a"
             ],
             [
              0.8888888888888888,
              "#fdca26"
             ],
             [
              1,
              "#f0f921"
             ]
            ],
            "type": "histogram2dcontour"
           }
          ],
          "mesh3d": [
           {
            "colorbar": {
             "outlinewidth": 0,
             "ticks": ""
            },
            "type": "mesh3d"
           }
          ],
          "parcoords": [
           {
            "line": {
             "colorbar": {
              "outlinewidth": 0,
              "ticks": ""
             }
            },
            "type": "parcoords"
           }
          ],
          "pie": [
           {
            "automargin": true,
            "type": "pie"
           }
          ],
          "scatter": [
           {
            "fillpattern": {
             "fillmode": "overlay",
             "size": 10,
             "solidity": 0.2
            },
            "type": "scatter"
           }
          ],
          "scatter3d": [
           {
            "line": {
             "colorbar": {
              "outlinewidth": 0,
              "ticks": ""
             }
            },
            "marker": {
             "colorbar": {
              "outlinewidth": 0,
              "ticks": ""
             }
            },
            "type": "scatter3d"
           }
          ],
          "scattercarpet": [
           {
            "marker": {
             "colorbar": {
              "outlinewidth": 0,
              "ticks": ""
             }
            },
            "type": "scattercarpet"
           }
          ],
          "scattergeo": [
           {
            "marker": {
             "colorbar": {
              "outlinewidth": 0,
              "ticks": ""
             }
            },
            "type": "scattergeo"
           }
          ],
          "scattergl": [
           {
            "marker": {
             "colorbar": {
              "outlinewidth": 0,
              "ticks": ""
             }
            },
            "type": "scattergl"
           }
          ],
          "scattermapbox": [
           {
            "marker": {
             "colorbar": {
              "outlinewidth": 0,
              "ticks": ""
             }
            },
            "type": "scattermapbox"
           }
          ],
          "scatterpolar": [
           {
            "marker": {
             "colorbar": {
              "outlinewidth": 0,
              "ticks": ""
             }
            },
            "type": "scatterpolar"
           }
          ],
          "scatterpolargl": [
           {
            "marker": {
             "colorbar": {
              "outlinewidth": 0,
              "ticks": ""
             }
            },
            "type": "scatterpolargl"
           }
          ],
          "scatterternary": [
           {
            "marker": {
             "colorbar": {
              "outlinewidth": 0,
              "ticks": ""
             }
            },
            "type": "scatterternary"
           }
          ],
          "surface": [
           {
            "colorbar": {
             "outlinewidth": 0,
             "ticks": ""
            },
            "colorscale": [
             [
              0,
              "#0d0887"
             ],
             [
              0.1111111111111111,
              "#46039f"
             ],
             [
              0.2222222222222222,
              "#7201a8"
             ],
             [
              0.3333333333333333,
              "#9c179e"
             ],
             [
              0.4444444444444444,
              "#bd3786"
             ],
             [
              0.5555555555555556,
              "#d8576b"
             ],
             [
              0.6666666666666666,
              "#ed7953"
             ],
             [
              0.7777777777777778,
              "#fb9f3a"
             ],
             [
              0.8888888888888888,
              "#fdca26"
             ],
             [
              1,
              "#f0f921"
             ]
            ],
            "type": "surface"
           }
          ],
          "table": [
           {
            "cells": {
             "fill": {
              "color": "#EBF0F8"
             },
             "line": {
              "color": "white"
             }
            },
            "header": {
             "fill": {
              "color": "#C8D4E3"
             },
             "line": {
              "color": "white"
             }
            },
            "type": "table"
           }
          ]
         },
         "layout": {
          "annotationdefaults": {
           "arrowcolor": "#2a3f5f",
           "arrowhead": 0,
           "arrowwidth": 1
          },
          "autotypenumbers": "strict",
          "coloraxis": {
           "colorbar": {
            "outlinewidth": 0,
            "ticks": ""
           }
          },
          "colorscale": {
           "diverging": [
            [
             0,
             "#8e0152"
            ],
            [
             0.1,
             "#c51b7d"
            ],
            [
             0.2,
             "#de77ae"
            ],
            [
             0.3,
             "#f1b6da"
            ],
            [
             0.4,
             "#fde0ef"
            ],
            [
             0.5,
             "#f7f7f7"
            ],
            [
             0.6,
             "#e6f5d0"
            ],
            [
             0.7,
             "#b8e186"
            ],
            [
             0.8,
             "#7fbc41"
            ],
            [
             0.9,
             "#4d9221"
            ],
            [
             1,
             "#276419"
            ]
           ],
           "sequential": [
            [
             0,
             "#0d0887"
            ],
            [
             0.1111111111111111,
             "#46039f"
            ],
            [
             0.2222222222222222,
             "#7201a8"
            ],
            [
             0.3333333333333333,
             "#9c179e"
            ],
            [
             0.4444444444444444,
             "#bd3786"
            ],
            [
             0.5555555555555556,
             "#d8576b"
            ],
            [
             0.6666666666666666,
             "#ed7953"
            ],
            [
             0.7777777777777778,
             "#fb9f3a"
            ],
            [
             0.8888888888888888,
             "#fdca26"
            ],
            [
             1,
             "#f0f921"
            ]
           ],
           "sequentialminus": [
            [
             0,
             "#0d0887"
            ],
            [
             0.1111111111111111,
             "#46039f"
            ],
            [
             0.2222222222222222,
             "#7201a8"
            ],
            [
             0.3333333333333333,
             "#9c179e"
            ],
            [
             0.4444444444444444,
             "#bd3786"
            ],
            [
             0.5555555555555556,
             "#d8576b"
            ],
            [
             0.6666666666666666,
             "#ed7953"
            ],
            [
             0.7777777777777778,
             "#fb9f3a"
            ],
            [
             0.8888888888888888,
             "#fdca26"
            ],
            [
             1,
             "#f0f921"
            ]
           ]
          },
          "colorway": [
           "#636efa",
           "#EF553B",
           "#00cc96",
           "#ab63fa",
           "#FFA15A",
           "#19d3f3",
           "#FF6692",
           "#B6E880",
           "#FF97FF",
           "#FECB52"
          ],
          "font": {
           "color": "#2a3f5f"
          },
          "geo": {
           "bgcolor": "white",
           "lakecolor": "white",
           "landcolor": "#E5ECF6",
           "showlakes": true,
           "showland": true,
           "subunitcolor": "white"
          },
          "hoverlabel": {
           "align": "left"
          },
          "hovermode": "closest",
          "mapbox": {
           "style": "light"
          },
          "paper_bgcolor": "white",
          "plot_bgcolor": "#E5ECF6",
          "polar": {
           "angularaxis": {
            "gridcolor": "white",
            "linecolor": "white",
            "ticks": ""
           },
           "bgcolor": "#E5ECF6",
           "radialaxis": {
            "gridcolor": "white",
            "linecolor": "white",
            "ticks": ""
           }
          },
          "scene": {
           "xaxis": {
            "backgroundcolor": "#E5ECF6",
            "gridcolor": "white",
            "gridwidth": 2,
            "linecolor": "white",
            "showbackground": true,
            "ticks": "",
            "zerolinecolor": "white"
           },
           "yaxis": {
            "backgroundcolor": "#E5ECF6",
            "gridcolor": "white",
            "gridwidth": 2,
            "linecolor": "white",
            "showbackground": true,
            "ticks": "",
            "zerolinecolor": "white"
           },
           "zaxis": {
            "backgroundcolor": "#E5ECF6",
            "gridcolor": "white",
            "gridwidth": 2,
            "linecolor": "white",
            "showbackground": true,
            "ticks": "",
            "zerolinecolor": "white"
           }
          },
          "shapedefaults": {
           "line": {
            "color": "#2a3f5f"
           }
          },
          "ternary": {
           "aaxis": {
            "gridcolor": "white",
            "linecolor": "white",
            "ticks": ""
           },
           "baxis": {
            "gridcolor": "white",
            "linecolor": "white",
            "ticks": ""
           },
           "bgcolor": "#E5ECF6",
           "caxis": {
            "gridcolor": "white",
            "linecolor": "white",
            "ticks": ""
           }
          },
          "title": {
           "x": 0.05
          },
          "xaxis": {
           "automargin": true,
           "gridcolor": "white",
           "linecolor": "white",
           "ticks": "",
           "title": {
            "standoff": 15
           },
           "zerolinecolor": "white",
           "zerolinewidth": 2
          },
          "yaxis": {
           "automargin": true,
           "gridcolor": "white",
           "linecolor": "white",
           "ticks": "",
           "title": {
            "standoff": 15
           },
           "zerolinecolor": "white",
           "zerolinewidth": 2
          }
         }
        },
        "xaxis": {
         "anchor": "y",
         "autorange": true,
         "domain": [
          0,
          1
         ],
         "range": [
          -4.653253166734425,
          5.7894151016439235
         ],
         "title": {
          "text": "PC1"
         },
         "type": "linear"
        },
        "yaxis": {
         "anchor": "x",
         "autorange": true,
         "domain": [
          0,
          1
         ],
         "range": [
          -2.664295869757776,
          2.98347663563764
         ],
         "title": {
          "text": "PC2"
         },
         "type": "linear"
        }
       }
      },
      "image/png": "[encoded data removed]",
      "text/html": [
       "<div>                            <div id=\"98ea9a46-9259-4e4a-9908-9c2ab81ad4e7\" class=\"plotly-graph-div\" style=\"height:525px; width:100%;\"></div>            <script type=\"text/javascript\">                require([\"plotly\"], function(Plotly) {                    window.PLOTLYENV=window.PLOTLYENV || {};                                    if (document.getElementById(\"98ea9a46-9259-4e4a-9908-9c2ab81ad4e7\")) {                    Plotly.newPlot(                        \"98ea9a46-9259-4e4a-9908-9c2ab81ad4e7\",                        [{\"hovertemplate\":\"PC1=%{x}<br>PC2=%{y}<br>color=%{marker.color}<extra></extra>\",\"legendgroup\":\"\",\"marker\":{\"color\":[1,1,1,1,1,1,1,1,1,1,1,1,1,1,4,3,3,3,4,0,0,0,0,0,3,1,1,1,1,4,2,4,3,3,3,3,3,1,1,1,1,1,1,1,3,2,3,3,2,0,0,0,4,4,0,2,4,2,0,2,2,1,1,1,1,1,1,1,1,1,4,1,1,1,1,0,0,0,0,2,4,4,2,4,1,1,1,1,1,1,1,1,1,1,1,1,3,3,3,3,3,0,1,1,1,1,3,4,2,4,4,2,3,0,1,1,0,0,0,0,1,0,4,1,3,3,3,4,2,4,2,3,3,3,1,1,1,1,1,0,0,0,4,4,2,0,0,4,4,0,3,3,3,3,1,1,1,1,3,3,3,3,3,3,1,4,2,3,2,4,0,4,3,0,3,0,0,0,0,4,0,0,2,2,0,1,1,1,1,3,3,3,3,2,2,0,4,3,3,3,3,0,4,4,2,0,1,0,4,3,1,1,1,1,4,2,0,2,4,1,3,1,1,3,3,3,3,1,1,1,1,0,2,4,2,2,2,4,0,4,0,4,0,2,4,4,4,3,1,1,3,3,3,2,3,3,3,3,3,3,1,3,1,1,2,4,4,2,4,2,2,4,0,3,0,3,0,4,3,3,2,3,3,3,1,1,3,1,1,3,1,0,4,2,2,0,3,0,3,2,2,4,0,2,2,2,2,0,4,2,4,2,2,2,3,0,4,4,4,4,4,2,4,0,0,0,0,4,4,0,4,4,0,4,2,2,2,2,2,4,2,4,4,4,4,4,2,2,2,0,4,4,4,4,0,0,4,4,3,3,3,3,2,2,2,2,2,2,2,0,4,4,2,2,4,4,4,4,4,4,2,2,2,3,4,2,2,2,0,2,2,2],\"coloraxis\":\"coloraxis\",\"symbol\":\"circle\"},\"mode\":\"markers\",\"name\":\"\",\"orientation\":\"v\",\"showlegend\":false,\"x\":[2.7681015408712164,3.5617956121137864,3.070488709648948,3.020336929873964,3.007717109083676,4.632490431458015,5.094469429700944,5.016170883199183,5.090410338149973,4.311461998206058,3.8159430065972657,3.7997906445666954,3.817831087801163,4.474529595624321,-1.5117090900327215,0.7187417879547207,0.9077937459259199,0.5158811834731747,-1.8539919546004489,-2.337105206283633,-1.1708840167191017,-0.9436398046030889,-1.2505822929287727,-0.6639071167898437,0.680841108992828,4.539184109214651,3.982998541349347,4.216507495361387,3.795671755644882,-1.908877464644297,-0.619231158427669,-1.5902151179477666,1.1250318471951033,1.4357773846369302,1.3838557788447652,1.1550736871112066,1.2472056740007094,3.7469755307411186,4.203465298813926,3.469303293081093,3.330087048340598,4.509687361981959,4.285807745344449,4.517123646681601,1.479522233419897,-0.7623053353808523,1.3114399566376744,1.2188532859466843,-0.3728938521711006,-1.2518077657249247,-2.212931357517503,-1.668684076477318,-3.0045718962677705,-3.1358124895217996,-2.164234843114468,-1.5088048394367777,-1.7100573238164947,-0.9942144973557244,-2.3018447569371903,-0.5860569270947422,-0.5555872202245111,3.7700567820514754,4.066901911248673,3.1997288007521285,3.44826026308093,3.0177670685735385,4.8588089689217355,3.638715895270489,3.7157209067479138,4.236928551522717,-1.6400477727138776,3.1244138609937004,2.990526928281098,2.9801321348754595,3.175779631805891,-0.25899612992853505,-1.3234376539824428,-1.0898009652878244,-1.8307891304318464,-0.4805829635857066,-2.125791803000295,-1.419283473035756,-0.9376428681278565,-2.158927141710039,3.6446429006767413,3.1070904723215786,3.292567830344468,2.867236257481445,3.070861881342403,4.7570516542955525,3.845955853909781,3.599167373108371,3.1491456672903984,4.86743840278331,5.1731470584018835,3.736415343261145,0.9929184144486706,1.0719897853531268,0.9343284597173933,0.8734419932790236,0.49333110411785364,-2.494208199410835,4.0058860471718045,4.2223019060262645,3.8880996463395476,3.971669592337553,0.9532581108370884,-2.021699976229095,-0.8725677814209032,-1.7424167430360995,-1.8117452012346846,-0.6670813340646509,0.5258002203078571,-1.4058721965382135,3.239664394511149,4.644395444945269,-2.622843658548153,-1.439505917467648,-0.7636302480116363,-0.48253114866286395,3.033022730745101,-0.7025633473933525,-0.25271862326126815,3.7717003042158956,0.6283843717034159,0.8111352589638801,1.1825340937849131,-3.0367912438032882,-0.8623283927242302,-3.369686347068875,-0.7981152121151963,1.3391447623695298,1.3111029652716857,1.1643311309340392,2.8371444666867793,3.4787800717914106,3.286133168478004,2.980516253129594,2.958548083744806,-1.7869380049213197,-1.9036894369634672,-1.4780739790055177,-3.1104314483765876,-3.1051013923247313,-1.1010918070259363,-1.6180991767383148,-1.41403047681027,-1.6302847523868467,-1.9033972560896095,-2.172360637720561,0.8460061259987726,1.1807903117335456,0.5285506541454444,0.5385469010258636,3.931521616937016,3.203874783789331,3.0632838207807236,3.431025654813888,0.9580039831033653,1.251683335554514,1.2586800088300436,0.8616644650541556,0.9105803287575277,1.7566640632710424,2.5505510377939413,-2.471967394462308,-0.6320963985296503,0.7141595356741183,-0.8398317773638222,-1.406965794244076,-1.798916831629219,-1.844651695460547,0.7121827673582914,-1.9060545256379355,0.7079666068953857,-1.0128297554612462,-1.1239902617662971,-0.7506730887270658,-0.7599097807329924,-3.216864874146908,-1.580350338848345,-1.6905586702330206,-0.533336441873691,-1.274051745020086,-1.6879493197806332,2.791608842396015,3.00275606228804,2.4855180308359435,3.2523574799124377,0.7371560602862699,1.0208950620039172,0.052673335043212574,0.3724732918253318,-2.2483822909146065,-1.8331620328967568,-1.9790765851490388,-3.262682109457127,0.8169865186749327,0.4548819514755422,1.219378539638839,0.7951634522625579,-1.8361280647836742,-2.9415714142040246,-2.5224156574296863,-0.6911463687104753,-0.6490118810553862,3.013839490368153,-1.28697653385724,-0.634357799386637,0.5224477201626694,3.5722380568002947,3.249411082462731,2.55606493053406,2.856201479678187,-3.0528310144505344,-1.2438577654569447,-2.983800764019151,-0.8214219930353523,-3.071122840200575,2.6780728692684352,1.6705027965101815,2.8353363230094213,2.609589610978266,1.1369316499361048,0.7799964874419743,0.8005115759171744,0.7351626368981574,3.7521501976652263,3.4298229470206043,3.824916023414912,2.9963455292088734,-1.9525234911210585,-0.5841321992816303,-2.5937957048699833,-0.6397553448439856,-1.7359023556024236,-1.568947958181782,-2.831782260486328,-1.8733659128379714,-0.9446043305140465,-0.7207093406373252,-1.6862893981364526,-3.6269463662439403,-1.909595584283504,-3.517186753637528,-3.5153536911181718,-3.358355808126505,1.4739357093847074,2.4019451841723463,2.251875846060634,0.6296263197820992,0.2627714167270266,0.3072526345358651,-0.6652570194184619,0.6268718336499042,0.5054857163793575,0.7993570271509526,0.245091732397538,0.7697582918910975,1.251671152963614,2.268711187642097,1.7874147479698725,2.330030634535996,2.606620854589842,-1.6234829377193103,-1.8786763636182606,-2.0672499056163005,-1.3536385428363502,-1.646138337788013,-0.4480206754721147,-0.7276224505290724,-1.8784612966897807,-0.695533668926192,0.387714528702438,-0.9035970736629215,0.43100558655647814,-2.241976761227779,-2.7978840116461727,0.7755745919635842,0.06545527968165908,-0.6796522865491981,0.3467593146285248,0.6895787816978687,2.1606784576243667,2.2386682110746827,2.695438735406616,2.2169802029298316,2.8747761749764242,2.729367640272802,1.7858239323350569,2.765621824280495,-2.264372777264805,-3.0970644526989792,-1.7520969825984138,-0.9711724669678112,-1.1135382824302182,1.8427048456742507,-2.2345552088695233,0.4441214551759366,-1.513158296679247,-1.704737645779008,-3.332410726355694,-2.505426232479257,-0.8935343743209303,0.27283358050069656,0.27217581384661255,-0.9372127901530689,-2.6585199479274357,-3.71237905267835,-1.7395785660729697,-3.3895470843522713,-0.9708537569008404,-1.0133686248772082,-0.9699683698502279,0.325649678525173,-2.375767649067532,-2.1975351428076597,-2.733246069789846,-2.66376746961377,-2.7418276873257907,-3.9355698291115946,-0.5498511089865393,-3.778526960727177,-3.7665419268178377,-3.789655811108303,-2.2861687926791623,-2.145097488283883,-3.5478151473592248,-3.250602891295811,-2.463164086858156,-0.8629241876038133,-2.142924384264842,-2.005409102516999,-2.9371011292583074,-1.1232964053831676,-1.0292636015211827,-0.71682509179317,0.3096449789395398,-1.0522750522700557,-3.7997794902812863,-2.427041734252267,-3.5048707066863973,-3.252043854574706,-3.730978421673931,-3.5542588803310147,-3.2253588101360737,-1.8643561429713587,-2.053092185181802,-2.090766002939553,-2.2312373122176052,-2.8254424824464306,-2.9123232823706684,-2.3400295843284895,-2.8423414523620996,-1.8800185769476299,-1.5310304021608687,-0.8406188760179013,-0.9230973863763244,0.6143669376342975,1.1339251266639312,0.09846033132955344,0.5218453395458187,-1.5664203412075781,-1.41156950486644,-1.8063364794987096,-1.4461625890949432,-1.2758136368287976,-1.1423617825985697,-0.8158369519319845,-2.626673464568641,-3.600750084519429,-3.2832201745076834,-2.101130925767055,-2.1977503405705248,-2.8423565624032507,-3.0022562131892436,-3.1515771788756375,-3.39625094323582,-3.171311038787437,-3.4912715676900077,-0.029761483374332348,-0.6135959456427882,-0.8064912552310042,0.43559676794770585,-2.190278328734009,-1.4115460008059773,-0.9799933742928894,-0.9821083541071538,-4.036985123492385,-1.1268082836860314,-1.52571880643157,-1.672595579706161],\"xaxis\":\"x\",\"y\":[0.6536686698172071,0.9618424410466487,0.9422170408259068,0.7897426311564679,0.9658848801234092,1.385631719999815,1.6903140188207062,1.7412913094917406,1.5548599921028232,1.598964465108217,1.2468001591473175,1.5088024728722176,1.199696570885709,1.6192235455454063,2.4471909246719767,-0.15828156352214953,-0.11947883791083191,-0.28211116908869827,2.4775993611600198,-0.2450064260787917,0.4585260711910373,0.9813183200997944,0.5204480644827104,1.4452685859181136,-0.09238511376686814,0.8454218116774044,0.5960032585264775,0.8956975398278176,-0.026758099262876547,2.383311724206213,-0.32349599859666067,2.51639067035686,0.21611405288567895,-0.18171284238132954,-0.20912618199585042,-0.2924197779863707,-0.21562473875452343,0.7674314988142188,0.9041029397038356,0.4537395827492973,0.5149241805420595,0.9202583268148082,0.7849191070376172,0.796288694506755,0.189319137080218,-0.9726941987093733,-0.13747243298207745,-0.11616811897461321,-0.07480770206184736,0.9606031680114531,-0.06905627550622384,0.7814736347329189,1.5024668600328177,1.6733350185849467,-0.01657106962420729,-1.237406111883468,2.18188856529598,-0.7037336892581575,-0.8749253158047606,-1.0272656738098926,-0.5637603353572312,0.6759449061474156,0.7323671916642901,0.331590875683777,0.4418991678282276,0.6649990397872672,1.1048484639522411,0.3606317247155089,0.39907688558927756,0.7461942188215562,2.527935225539339,0.5037839493161859,0.14118617392479435,-0.13330685508830092,0.2590588173626154,0.939453671187172,0.14909658748123084,-0.044673027916019604,0.0949075568871982,-0.4965638666044988,1.8935230537163383,2.3524581840441954,-0.3982840395967327,1.965484087805208,0.48814719505064996,0.5884878687200877,0.3116796908835475,0.004144671501016487,0.417002742138472,0.8474389601999857,0.48866500666293683,0.3725975468908916,0.07583472781987553,1.0377934014973909,1.0960730681762758,0.8279535841508692,-0.529344375799715,-0.795552043527966,-0.4689580728824217,-0.6240533753742731,-0.5317283302717353,-0.6146427126770778,0.14991348963541984,0.49514775295894453,0.4326220505001586,0.586447441946689,-0.29896838112097196,1.4978430688673705,-1.2362530180371551,1.925337638064027,2.4070432245337496,-0.981278494596053,-0.10746632603088874,0.5307727526886278,0.29531028642370355,1.3709932540772949,-0.3706063088715237,0.4593853364457373,0.80314747226034,0.6798739646054089,0.6789091257072577,0.8918578705591216,2.6048191608440834,0.8762465612864413,-0.6990025521584823,-0.5670561899875276,-0.7242111322323822,1.2243498672423432,-0.8291486690915549,0.8856681022677223,-0.9366075707462135,-0.7515270475094645,-0.8451082214662821,-0.6472816530027747,-0.0073220829036060595,-0.03021257132599469,0.13346307381914665,-0.34434313844947,-0.18388386867439382,0.21599683190812463,0.30889734286910614,0.5244119569310551,1.553696451680665,1.1800718271176744,-0.5351782707954814,0.3638266371841464,0.5927532432904618,2.077529071203567,1.9632005460381217,0.19624585719810791,-0.7100904572545197,-0.6493880927758364,-1.6428051858037682,-1.3858979131819795,0.47498693921649143,-0.07296449089240974,-0.13713736908746957,0.022102115547088654,-1.4498290332825279,-1.0648186268972466,-1.1006720958322218,-1.2166816677579826,-0.4568614866946748,-0.1873474670233381,0.221192497275406,1.6698006875200249,-0.9752132195384936,-0.6678942044385838,-1.2469990709672165,2.2126562698007817,0.07134780157944984,1.6554262284028407,-0.4424774894012843,0.4615592601169084,-0.899353102410972,0.45330919699044686,0.0739598569596533,0.547448109665024,0.8083823955920549,1.2862304277594807,0.2035183721731599,-0.023500505318289854,-0.6823447508101853,-1.2127453060570732,0.23550290661439569,-0.045427645545212336,0.027116591313185112,-0.2890327266151595,0.08408849515691887,-0.6928612982628415,-0.5185458985377346,-1.1702749780167583,-1.1058179495846308,-2.1166596300052896,-2.02961576520502,0.3347734180949112,1.2081918933397702,-1.0748322598262539,-1.7253247653998267,-0.7577688697491397,-1.0798970879027625,0.6692273711638206,1.3719414937804537,1.5172112230505588,-0.6008922802621733,0.28568696014592154,0.024411945754209165,-0.8078772508648092,1.9121234022159745,0.2504297519066319,0.34763637895606514,0.18808722427223057,-0.38820244081533467,-0.09668822523783949,1.0239501322415003,-0.8468051406687584,-0.5848645457913646,-0.8423121992908583,1.3034269058035908,-0.012058337355935695,-1.2924589330040817,-0.2058571273586707,-0.4985210116511962,-0.872620676330967,-1.0000698840072764,-1.1621849722868869,-1.3740036375627858,0.43355976125361334,0.3227355948485547,0.31335225240818787,-0.3192754389696682,0.2410771949995371,-0.9831774917246019,1.1370031965468463,-0.9528186836280257,-1.3071352621647971,-1.0260911330907936,1.3707505892730225,0.2851682785700181,1.8999861664070445,0.7273943771946536,2.1031520853300596,-1.259200531325035,-0.9818786913457429,0.6787877294030378,0.8756864935144066,1.205930225976819,-0.8018043780174894,-0.25284949264435774,-0.19298511612063735,-1.465671265221679,-1.3576155588286551,-1.0173435143052088,-0.9841190272904046,-1.1745016546154583,-1.2170363454176407,-0.9140468650968541,-1.17218790961088,-1.3554957013485198,-0.6921900887398434,-0.20829191232438768,-0.14630660737665313,0.096989007234508,-0.33942016611914366,-1.2919052260623478,1.796074434773594,1.7391078639633542,-0.9324400220526796,1.7386660236458897,-1.0799904302418932,-1.3570159064611154,1.7211165920489648,0.09653040860969636,0.624902302945568,0.1822254118819092,0.3076776202155115,0.02101346023857066,1.2459202669891274,-0.8815647470873945,-1.500441125988014,-1.3787198678945334,-1.4811991592124716,-1.1079053849765808,-0.7578976865132758,-0.4374287499266186,-0.34798790138248376,-0.6998836165203434,-0.5431528659134545,-0.5013144880885337,-0.7303202057284283,-0.25260724736872897,0.07372199498194677,1.339672727204684,-0.9944601202630455,-1.075814300136516,-0.8943427673573787,-1.1452656197464413,-1.7067888138103409,-2.1323617079415116,-0.8639099143221601,-1.1395188852659281,0.7010328466416623,-0.09371413654340603,-1.179373974263169,-0.2355600859874479,-0.4887419285967115,-0.74913930062386,-0.17014056180083154,0.6071673746916844,-1.3166271968351462,1.0299118366146427,-1.3529214754318246,-1.6263334610096856,-1.9315870804417872,-1.6567794861407232,-0.2963500954117692,1.3450653525099465,0.9264144764088809,1.4069658046904314,1.306429920338315,0.726101483413159,-0.9253299030179939,0.5490896583238455,-1.4921914341045233,-1.8238576386430332,-1.0628121949929996,-1.3566190360184742,1.4294934837114013,0.7976942411578929,-0.2700703274682406,2.2681450755834964,1.9221343212010014,-0.13760134367887725,0.9932328252320104,-1.3420704983243865,-1.4569676180900288,-1.0773238766905742,-0.6405260188073437,-0.8986398162090776,0.8123890882804263,-1.6243320231295213,0.9782495843906752,0.7486385121748196,0.4513099036477733,0.7671682752999867,1.0395156964581576,-1.3748356390668608,-1.564990574305595,-2.2856383949642196,-0.1461613054177587,1.3357493051173794,0.9468857332815264,1.409264143629791,0.6898243083623782,-1.133103902330347,-1.0146147579305842,1.9256176724975613,1.757434622564922,-1.1789495215790733,-1.727980435801069,-1.4978261374754498,-1.4352940074107383,-2.05934506891439,-1.8926109480517228,-1.824818001499141,-1.5413951136180617,-1.497453715519617,-1.7820476960679434,-1.4999656556412515,-0.42687117749026776,0.5686411517508979,0.704332459325693,-1.4518530297236327,-1.8210360638815435,1.2946267712714088,1.2118242836555158,0.8016068642905744,1.0795093412788312,1.0013185553134158,0.883078059634975,-1.3706122178395679,-1.688598184847973,-1.1873633207970882,-1.0519824410009893,1.4434342837483978,-1.0440084618528767,-1.6786386788447012,-1.4205144055903423,-2.127140006794788,-0.7892139437732615,-1.951240150147848,-2.0855321418663695],\"yaxis\":\"y\",\"type\":\"scatter\"}],                        {\"template\":{\"data\":{\"histogram2dcontour\":[{\"type\":\"histogram2dcontour\",\"colorbar\":{\"outlinewidth\":0,\"ticks\":\"\"},\"colorscale\":[[0.0,\"#0d0887\"],[0.1111111111111111,\"#46039f\"],[0.2222222222222222,\"#7201a8\"],[0.3333333333333333,\"#9c179e\"],[0.4444444444444444,\"#bd3786\"],[0.5555555555555556,\"#d8576b\"],[0.6666666666666666,\"#ed7953\"],[0.7777777777777778,\"#fb9f3a\"],[0.8888888888888888,\"#fdca26\"],[1.0,\"#f0f921\"]]}],\"choropleth\":[{\"type\":\"choropleth\",\"colorbar\":{\"outlinewidth\":0,\"ticks\":\"\"}}],\"histogram2d\":[{\"type\":\"histogram2d\",\"colorbar\":{\"outlinewidth\":0,\"ticks\":\"\"},\"colorscale\":[[0.0,\"#0d0887\"],[0.1111111111111111,\"#46039f\"],[0.2222222222222222,\"#7201a8\"],[0.3333333333333333,\"#9c179e\"],[0.4444444444444444,\"#bd3786\"],[0.5555555555555556,\"#d8576b\"],[0.6666666666666666,\"#ed7953\"],[0.7777777777777778,\"#fb9f3a\"],[0.8888888888888888,\"#fdca26\"],[1.0,\"#f0f921\"]]}],\"heatmap\":[{\"type\":\"heatmap\",\"colorbar\":{\"outlinewidth\":0,\"ticks\":\"\"},\"colorscale\":[[0.0,\"#0d0887\"],[0.1111111111111111,\"#46039f\"],[0.2222222222222222,\"#7201a8\"],[0.3333333333333333,\"#9c179e\"],[0.4444444444444444,\"#bd3786\"],[0.5555555555555556,\"#d8576b\"],[0.6666666666666666,\"#ed7953\"],[0.7777777777777778,\"#fb9f3a\"],[0.8888888888888888,\"#fdca26\"],[1.0,\"#f0f921\"]]}],\"heatmapgl\":[{\"type\":\"heatmapgl\",\"colorbar\":{\"outlinewidth\":0,\"ticks\":\"\"},\"colorscale\":[[0.0,\"#0d0887\"],[0.1111111111111111,\"#46039f\"],[0.2222222222222222,\"#7201a8\"],[0.3333333333333333,\"#9c179e\"],[0.4444444444444444,\"#bd3786\"],[0.5555555555555556,\"#d8576b\"],[0.6666666666666666,\"#ed7953\"],[0.7777777777777778,\"#fb9f3a\"],[0.8888888888888888,\"#fdca26\"],[1.0,\"#f0f921\"]]}],\"contourcarpet\":[{\"type\":\"contourcarpet\",\"colorbar\":{\"outlinewidth\":0,\"ticks\":\"\"}}],\"contour\":[{\"type\":\"contour\",\"colorbar\":{\"outlinewidth\":0,\"ticks\":\"\"},\"colorscale\":[[0.0,\"#0d0887\"],[0.1111111111111111,\"#46039f\"],[0.2222222222222222,\"#7201a8\"],[0.3333333333333333,\"#9c179e\"],[0.4444444444444444,\"#bd3786\"],[0.5555555555555556,\"#d8576b\"],[0.6666666666666666,\"#ed7953\"],[0.7777777777777778,\"#fb9f3a\"],[0.8888888888888888,\"#fdca26\"],[1.0,\"#f0f921\"]]}],\"surface\":[{\"type\":\"surface\",\"colorbar\":{\"outlinewidth\":0,\"ticks\":\"\"},\"colorscale\":[[0.0,\"#0d0887\"],[0.1111111111111111,\"#46039f\"],[0.2222222222222222,\"#7201a8\"],[0.3333333333333333,\"#9c179e\"],[0.4444444444444444,\"#bd3786\"],[0.5555555555555556,\"#d8576b\"],[0.6666666666666666,\"#ed7953\"],[0.7777777777777778,\"#fb9f3a\"],[0.8888888888888888,\"#fdca26\"],[1.0,\"#f0f921\"]]}],\"mesh3d\":[{\"type\":\"mesh3d\",\"colorbar\":{\"outlinewidth\":0,\"ticks\":\"\"}}],\"scatter\":[{\"fillpattern\":{\"fillmode\":\"overlay\",\"size\":10,\"solidity\":0.2},\"type\":\"scatter\"}],\"parcoords\":[{\"type\":\"parcoords\",\"line\":{\"colorbar\":{\"outlinewidth\":0,\"ticks\":\"\"}}}],\"scatterpolargl\":[{\"type\":\"scatterpolargl\",\"marker\":{\"colorbar\":{\"outlinewidth\":0,\"ticks\":\"\"}}}],\"bar\":[{\"error_x\":{\"color\":\"#2a3f5f\"},\"error_y\":{\"color\":\"#2a3f5f\"},\"marker\":{\"line\":{\"color\":\"#E5ECF6\",\"width\":0.5},\"pattern\":{\"fillmode\":\"overlay\",\"size\":10,\"solidity\":0.2}},\"type\":\"bar\"}],\"scattergeo\":[{\"type\":\"scattergeo\",\"marker\":{\"colorbar\":{\"outlinewidth\":0,\"ticks\":\"\"}}}],\"scatterpolar\":[{\"type\":\"scatterpolar\",\"marker\":{\"colorbar\":{\"outlinewidth\":0,\"ticks\":\"\"}}}],\"histogram\":[{\"marker\":{\"pattern\":{\"fillmode\":\"overlay\",\"size\":10,\"solidity\":0.2}},\"type\":\"histogram\"}],\"scattergl\":[{\"type\":\"scattergl\",\"marker\":{\"colorbar\":{\"outlinewidth\":0,\"ticks\":\"\"}}}],\"scatter3d\":[{\"type\":\"scatter3d\",\"line\":{\"colorbar\":{\"outlinewidth\":0,\"ticks\":\"\"}},\"marker\":{\"colorbar\":{\"outlinewidth\":0,\"ticks\":\"\"}}}],\"scattermapbox\":[{\"type\":\"scattermapbox\",\"marker\":{\"colorbar\":{\"outlinewidth\":0,\"ticks\":\"\"}}}],\"scatterternary\":[{\"type\":\"scatterternary\",\"marker\":{\"colorbar\":{\"outlinewidth\":0,\"ticks\":\"\"}}}],\"scattercarpet\":[{\"type\":\"scattercarpet\",\"marker\":{\"colorbar\":{\"outlinewidth\":0,\"ticks\":\"\"}}}],\"carpet\":[{\"aaxis\":{\"endlinecolor\":\"#2a3f5f\",\"gridcolor\":\"white\",\"linecolor\":\"white\",\"minorgridcolor\":\"white\",\"startlinecolor\":\"#2a3f5f\"},\"baxis\":{\"endlinecolor\":\"#2a3f5f\",\"gridcolor\":\"white\",\"linecolor\":\"white\",\"minorgridcolor\":\"white\",\"startlinecolor\":\"#2a3f5f\"},\"type\":\"carpet\"}],\"table\":[{\"cells\":{\"fill\":{\"color\":\"#EBF0F8\"},\"line\":{\"color\":\"white\"}},\"header\":{\"fill\":{\"color\":\"#C8D4E3\"},\"line\":{\"color\":\"white\"}},\"type\":\"table\"}],\"barpolar\":[{\"marker\":{\"line\":{\"color\":\"#E5ECF6\",\"width\":0.5},\"pattern\":{\"fillmode\":\"overlay\",\"size\":10,\"solidity\":0.2}},\"type\":\"barpolar\"}],\"pie\":[{\"automargin\":true,\"type\":\"pie\"}]},\"layout\":{\"autotypenumbers\":\"strict\",\"colorway\":[\"#636efa\",\"#EF553B\",\"#00cc96\",\"#ab63fa\",\"#FFA15A\",\"#19d3f3\",\"#FF6692\",\"#B6E880\",\"#FF97FF\",\"#FECB52\"],\"font\":{\"color\":\"#2a3f5f\"},\"hovermode\":\"closest\",\"hoverlabel\":{\"align\":\"left\"},\"paper_bgcolor\":\"white\",\"plot_bgcolor\":\"#E5ECF6\",\"polar\":{\"bgcolor\":\"#E5ECF6\",\"angularaxis\":{\"gridcolor\":\"white\",\"linecolor\":\"white\",\"ticks\":\"\"},\"radialaxis\":{\"gridcolor\":\"white\",\"linecolor\":\"white\",\"ticks\":\"\"}},\"ternary\":{\"bgcolor\":\"#E5ECF6\",\"aaxis\":{\"gridcolor\":\"white\",\"linecolor\":\"white\",\"ticks\":\"\"},\"baxis\":{\"gridcolor\":\"white\",\"linecolor\":\"white\",\"ticks\":\"\"},\"caxis\":{\"gridcolor\":\"white\",\"linecolor\":\"white\",\"ticks\":\"\"}},\"coloraxis\":{\"colorbar\":{\"outlinewidth\":0,\"ticks\":\"\"}},\"colorscale\":{\"sequential\":[[0.0,\"#0d0887\"],[0.1111111111111111,\"#46039f\"],[0.2222222222222222,\"#7201a8\"],[0.3333333333333333,\"#9c179e\"],[0.4444444444444444,\"#bd3786\"],[0.5555555555555556,\"#d8576b\"],[0.6666666666666666,\"#ed7953\"],[0.7777777777777778,\"#fb9f3a\"],[0.8888888888888888,\"#fdca26\"],[1.0,\"#f0f921\"]],\"sequentialminus\":[[0.0,\"#0d0887\"],[0.1111111111111111,\"#46039f\"],[0.2222222222222222,\"#7201a8\"],[0.3333333333333333,\"#9c179e\"],[0.4444444444444444,\"#bd3786\"],[0.5555555555555556,\"#d8576b\"],[0.6666666666666666,\"#ed7953\"],[0.7777777777777778,\"#fb9f3a\"],[0.8888888888888888,\"#fdca26\"],[1.0,\"#f0f921\"]],\"diverging\":[[0,\"#8e0152\"],[0.1,\"#c51b7d\"],[0.2,\"#de77ae\"],[0.3,\"#f1b6da\"],[0.4,\"#fde0ef\"],[0.5,\"#f7f7f7\"],[0.6,\"#e6f5d0\"],[0.7,\"#b8e186\"],[0.8,\"#7fbc41\"],[0.9,\"#4d9221\"],[1,\"#276419\"]]},\"xaxis\":{\"gridcolor\":\"white\",\"linecolor\":\"white\",\"ticks\":\"\",\"title\":{\"standoff\":15},\"zerolinecolor\":\"white\",\"automargin\":true,\"zerolinewidth\":2},\"yaxis\":{\"gridcolor\":\"white\",\"linecolor\":\"white\",\"ticks\":\"\",\"title\":{\"standoff\":15},\"zerolinecolor\":\"white\",\"automargin\":true,\"zerolinewidth\":2},\"scene\":{\"xaxis\":{\"backgroundcolor\":\"#E5ECF6\",\"gridcolor\":\"white\",\"linecolor\":\"white\",\"showbackground\":true,\"ticks\":\"\",\"zerolinecolor\":\"white\",\"gridwidth\":2},\"yaxis\":{\"backgroundcolor\":\"#E5ECF6\",\"gridcolor\":\"white\",\"linecolor\":\"white\",\"showbackground\":true,\"ticks\":\"\",\"zerolinecolor\":\"white\",\"gridwidth\":2},\"zaxis\":{\"backgroundcolor\":\"#E5ECF6\",\"gridcolor\":\"white\",\"linecolor\":\"white\",\"showbackground\":true,\"ticks\":\"\",\"zerolinecolor\":\"white\",\"gridwidth\":2}},\"shapedefaults\":{\"line\":{\"color\":\"#2a3f5f\"}},\"annotationdefaults\":{\"arrowcolor\":\"#2a3f5f\",\"arrowhead\":0,\"arrowwidth\":1},\"geo\":{\"bgcolor\":\"white\",\"landcolor\":\"#E5ECF6\",\"subunitcolor\":\"white\",\"showland\":true,\"showlakes\":true,\"lakecolor\":\"white\"},\"title\":{\"x\":0.05},\"mapbox\":{\"style\":\"light\"}}},\"xaxis\":{\"anchor\":\"y\",\"domain\":[0.0,1.0],\"title\":{\"text\":\"PC1\"}},\"yaxis\":{\"anchor\":\"x\",\"domain\":[0.0,1.0],\"title\":{\"text\":\"PC2\"}},\"coloraxis\":{\"colorbar\":{\"title\":{\"text\":\"color\"}},\"colorscale\":[[0.0,\"#0d0887\"],[0.1111111111111111,\"#46039f\"],[0.2222222222222222,\"#7201a8\"],[0.3333333333333333,\"#9c179e\"],[0.4444444444444444,\"#bd3786\"],[0.5555555555555556,\"#d8576b\"],[0.6666666666666666,\"#ed7953\"],[0.7777777777777778,\"#fb9f3a\"],[0.8888888888888888,\"#fdca26\"],[1.0,\"#f0f921\"]]},\"legend\":{\"tracegroupgap\":0},\"margin\":{\"t\":60}},                        {\"responsive\": true}                    ).then(function(){\n",
       "                            \n",
       "var gd = document.getElementById('98ea9a46-9259-4e4a-9908-9c2ab81ad4e7');\n",
       "var x = new MutationObserver(function (mutations, observer) {{\n",
       "        var display = window.getComputedStyle(gd).display;\n",
       "        if (!display || display === 'none') {{\n",
       "            console.log([gd, 'removed!']);\n",
       "            Plotly.purge(gd);\n",
       "            observer.disconnect();\n",
       "        }}\n",
       "}});\n",
       "\n",
       "// Listen for the removal of the full notebook cells\n",
       "var notebookContainer = gd.closest('#notebook-container');\n",
       "if (notebookContainer) {{\n",
       "    x.observe(notebookContainer, {childList: true});\n",
       "}}\n",
       "\n",
       "// Listen for the clearing of the current output cell\n",
       "var outputEl = gd.closest('.output');\n",
       "if (outputEl) {{\n",
       "    x.observe(outputEl, {childList: true});\n",
       "}}\n",
       "\n",
       "                        })                };                });            </script>        </div>"
      ]
     },
     "metadata": {},
     "output_type": "display_data"
    }
   ],
   "source": [
    "px.scatter(data_frame=df_pca, x='PC1', y='PC2', color=df_pred.pred)"
   ]
  },
  {
   "cell_type": "code",
   "execution_count": 71,
   "metadata": {},
   "outputs": [],
   "source": [
    "df_pred.pred = df_pred.pred.astype(str)"
   ]
  },
  {
   "cell_type": "code",
   "execution_count": 94,
   "metadata": {},
   "outputs": [],
   "source": [
    "hover = '''\n",
    "<b>%{customdata[0]}</b><br><br>\n",
    "PC1: %{x}<br>\n",
    "PC2: %{y}<br>\n",
    "'''"
   ]
  },
  {
   "cell_type": "code",
   "execution_count": 96,
   "metadata": {},
   "outputs": [
    {
     "data": {
      "application/vnd.plotly.v1+json": {
       "config": {
        "plotlyServerURL": "https://plot.ly"
       },
       "data": [
        {
         "customdata": [
          [
           "chevrolet chevelle malibu"
          ],
          [
           "buick skylark 320"
          ],
          [
           "plymouth satellite"
          ],
          [
           "amc rebel sst"
          ],
          [
           "ford torino"
          ],
          [
           "ford galaxie 500"
          ],
          [
           "chevrolet impala"
          ],
          [
           "plymouth fury iii"
          ],
          [
           "pontiac catalina"
          ],
          [
           "amc ambassador dpl"
          ],
          [
           "dodge challenger se"
          ],
          [
           "plymouth 'cuda 340"
          ],
          [
           "chevrolet monte carlo"
          ],
          [
           "buick estate wagon (sw)"
          ],
          [
           "ford f250"
          ],
          [
           "chevy c20"
          ],
          [
           "dodge d200"
          ],
          [
           "hi 1200d"
          ],
          [
           "chevrolet impala"
          ],
          [
           "pontiac catalina brougham"
          ],
          [
           "ford galaxie 500"
          ],
          [
           "plymouth fury iii"
          ],
          [
           "dodge monaco (sw)"
          ],
          [
           "ford country squire (sw)"
          ],
          [
           "pontiac safari (sw)"
          ],
          [
           "chevrolet impala"
          ],
          [
           "pontiac catalina"
          ],
          [
           "plymouth fury iii"
          ],
          [
           "ford galaxie 500"
          ],
          [
           "amc ambassador sst"
          ],
          [
           "mercury marquis"
          ],
          [
           "buick lesabre custom"
          ],
          [
           "oldsmobile delta 88 royale"
          ],
          [
           "chrysler newport royal"
          ],
          [
           "amc matador (sw)"
          ],
          [
           "chevrolet chevelle concours (sw)"
          ],
          [
           "ford gran torino (sw)"
          ],
          [
           "plymouth satellite custom (sw)"
          ],
          [
           "buick century 350"
          ],
          [
           "amc matador"
          ],
          [
           "chevrolet malibu"
          ],
          [
           "ford gran torino"
          ],
          [
           "dodge coronet custom"
          ],
          [
           "mercury marquis brougham"
          ],
          [
           "chevrolet caprice classic"
          ],
          [
           "ford ltd"
          ],
          [
           "plymouth fury gran sedan"
          ],
          [
           "chrysler new yorker brougham"
          ],
          [
           "buick electra 225 custom"
          ],
          [
           "amc ambassador brougham"
          ],
          [
           "chevrolet impala"
          ],
          [
           "ford country"
          ],
          [
           "plymouth custom suburb"
          ],
          [
           "oldsmobile vista cruiser"
          ],
          [
           "chevrolet monte carlo s"
          ],
          [
           "pontiac grand prix"
          ],
          [
           "dodge dart custom"
          ],
          [
           "oldsmobile omega"
          ],
          [
           "ford gran torino"
          ],
          [
           "buick century luxus (sw)"
          ],
          [
           "dodge coronet custom (sw)"
          ],
          [
           "ford gran torino (sw)"
          ],
          [
           "amc matador (sw)"
          ],
          [
           "pontiac catalina"
          ],
          [
           "chevrolet bel air"
          ],
          [
           "plymouth grand fury"
          ],
          [
           "ford ltd"
          ],
          [
           "ford mustang ii"
          ],
          [
           "chevrolet chevelle malibu classic"
          ],
          [
           "dodge coronet brougham"
          ],
          [
           "amc matador"
          ],
          [
           "ford gran torino"
          ],
          [
           "plymouth volare premier v8"
          ],
          [
           "cadillac seville"
          ],
          [
           "chevy c10"
          ],
          [
           "ford f108"
          ],
          [
           "dodge d100"
          ],
          [
           "chevrolet caprice classic"
          ],
          [
           "dodge monaco brougham"
          ],
          [
           "mercury cougar brougham"
          ],
          [
           "pontiac grand prix lj"
          ],
          [
           "chevrolet monte carlo landau"
          ],
          [
           "chrysler cordoba"
          ],
          [
           "ford thunderbird"
          ],
          [
           "dodge diplomat"
          ],
          [
           "mercury monarch ghia"
          ],
          [
           "chevrolet monte carlo landau"
          ],
          [
           "ford futura"
          ],
          [
           "dodge magnum xe"
          ],
          [
           "ford ltd landau"
          ],
          [
           "mercury grand marquis"
          ],
          [
           "buick estate wagon (sw)"
          ],
          [
           "ford country squire (sw)"
          ],
          [
           "chrysler lebaron town @ country (sw)"
          ]
         ],
         "hovertemplate": "\n<b>%{customdata[0]}</b><br><br>\nPC1: %{x}<br>\nPC2: %{y}<br>\n",
         "legendgroup": "1",
         "marker": {
          "color": "#636efa",
          "symbol": "circle"
         },
         "mode": "markers",
         "name": "1",
         "orientation": "v",
         "showlegend": true,
         "type": "scatter",
         "x": [
          2.7681015408712164,
          3.5617956121137864,
          3.070488709648948,
          3.020336929873964,
          3.007717109083676,
          4.632490431458015,
          5.094469429700944,
          5.016170883199183,
          5.090410338149973,
          4.311461998206058,
          3.8159430065972657,
          3.7997906445666954,
          3.817831087801163,
          4.474529595624321,
          4.539184109214651,
          3.982998541349347,
          4.216507495361387,
          3.795671755644882,
          3.7469755307411186,
          4.203465298813926,
          3.469303293081093,
          3.330087048340598,
          4.509687361981959,
          4.285807745344449,
          4.517123646681601,
          3.7700567820514754,
          4.066901911248673,
          3.1997288007521285,
          3.44826026308093,
          3.0177670685735385,
          4.8588089689217355,
          3.638715895270489,
          3.7157209067479138,
          4.236928551522717,
          3.1244138609937004,
          2.990526928281098,
          2.9801321348754595,
          3.175779631805891,
          3.6446429006767413,
          3.1070904723215786,
          3.292567830344468,
          2.867236257481445,
          3.070861881342403,
          4.7570516542955525,
          3.845955853909781,
          3.599167373108371,
          3.1491456672903984,
          4.86743840278331,
          5.1731470584018835,
          3.736415343261145,
          4.0058860471718045,
          4.2223019060262645,
          3.8880996463395476,
          3.971669592337553,
          3.239664394511149,
          4.644395444945269,
          3.033022730745101,
          3.7717003042158956,
          2.8371444666867793,
          3.4787800717914106,
          3.286133168478004,
          2.980516253129594,
          2.958548083744806,
          3.931521616937016,
          3.203874783789331,
          3.0632838207807236,
          3.431025654813888,
          2.5505510377939413,
          2.791608842396015,
          3.00275606228804,
          2.4855180308359435,
          3.2523574799124377,
          3.013839490368153,
          3.5722380568002947,
          3.249411082462731,
          2.55606493053406,
          2.856201479678187,
          2.6780728692684352,
          2.8353363230094213,
          2.609589610978266,
          3.7521501976652263,
          3.4298229470206043,
          3.824916023414912,
          2.9963455292088734,
          2.4019451841723463,
          2.251875846060634,
          2.268711187642097,
          2.330030634535996,
          2.606620854589842,
          2.2386682110746827,
          2.695438735406616,
          2.8747761749764242,
          2.729367640272802,
          2.765621824280495
         ],
         "xaxis": "x",
         "y": [
          0.6536686698172071,
          0.9618424410466487,
          0.9422170408259068,
          0.7897426311564679,
          0.9658848801234092,
          1.385631719999815,
          1.6903140188207062,
          1.7412913094917406,
          1.5548599921028232,
          1.598964465108217,
          1.2468001591473175,
          1.5088024728722176,
          1.199696570885709,
          1.6192235455454063,
          0.8454218116774044,
          0.5960032585264775,
          0.8956975398278176,
          -0.026758099262876547,
          0.7674314988142188,
          0.9041029397038356,
          0.4537395827492973,
          0.5149241805420595,
          0.9202583268148082,
          0.7849191070376172,
          0.796288694506755,
          0.6759449061474156,
          0.7323671916642901,
          0.331590875683777,
          0.4418991678282276,
          0.6649990397872672,
          1.1048484639522411,
          0.3606317247155089,
          0.39907688558927756,
          0.7461942188215562,
          0.5037839493161859,
          0.14118617392479435,
          -0.13330685508830092,
          0.2590588173626154,
          0.48814719505064996,
          0.5884878687200877,
          0.3116796908835475,
          0.004144671501016487,
          0.417002742138472,
          0.8474389601999857,
          0.48866500666293683,
          0.3725975468908916,
          0.07583472781987553,
          1.0377934014973909,
          1.0960730681762758,
          0.8279535841508692,
          0.14991348963541984,
          0.49514775295894453,
          0.4326220505001586,
          0.586447441946689,
          0.29531028642370355,
          1.3709932540772949,
          0.6789091257072577,
          0.8762465612864413,
          -0.0073220829036060595,
          -0.03021257132599469,
          0.13346307381914665,
          -0.34434313844947,
          -0.18388386867439382,
          0.47498693921649143,
          -0.07296449089240974,
          -0.13713736908746957,
          0.022102115547088654,
          0.221192497275406,
          -0.045427645545212336,
          0.027116591313185112,
          -0.2890327266151595,
          0.08408849515691887,
          0.024411945754209165,
          0.34763637895606514,
          0.18808722427223057,
          -0.38820244081533467,
          -0.09668822523783949,
          -0.012058337355935695,
          -0.2058571273586707,
          -0.4985210116511962,
          0.43355976125361334,
          0.3227355948485547,
          0.31335225240818787,
          -0.3192754389696682,
          -0.25284949264435774,
          -0.19298511612063735,
          -0.20829191232438768,
          0.096989007234508,
          -0.33942016611914366,
          -0.4374287499266186,
          -0.34798790138248376,
          -0.5431528659134545,
          -0.5013144880885337,
          -0.25260724736872897
         ],
         "yaxis": "y"
        },
        {
         "customdata": [
          [
           "toyota corona mark ii"
          ],
          [
           "datsun pl510"
          ],
          [
           "datsun pl510"
          ],
          [
           "toyota corona"
          ],
          [
           "toyota corolla 1200"
          ],
          [
           "datsun 1200"
          ],
          [
           "toyota corona hardtop"
          ],
          [
           "mazda rx2 coupe"
          ],
          [
           "datsun 510 (sw)"
          ],
          [
           "toyouta corona mark ii (sw)"
          ],
          [
           "toyota corolla 1600 (sw)"
          ],
          [
           "toyota carina"
          ],
          [
           "datsun 610"
          ],
          [
           "maxda rx3"
          ],
          [
           "toyota mark ii"
          ],
          [
           "datsun b210"
          ],
          [
           "toyota corolla 1200"
          ],
          [
           "toyota corona"
          ],
          [
           "datsun 710"
          ],
          [
           "honda civic"
          ],
          [
           "subaru"
          ],
          [
           "toyota corolla"
          ],
          [
           "toyota corona"
          ],
          [
           "datsun 710"
          ],
          [
           "honda civic cvcc"
          ],
          [
           "honda civic"
          ],
          [
           "datsun b-210"
          ],
          [
           "toyota corolla"
          ],
          [
           "toyota mark ii"
          ],
          [
           "honda accord cvcc"
          ],
          [
           "datsun f-10 hatchback"
          ],
          [
           "toyota corolla liftback"
          ],
          [
           "subaru dl"
          ],
          [
           "datsun 810"
          ],
          [
           "mazda rx-4"
          ],
          [
           "mazda glc deluxe"
          ],
          [
           "datsun b210 gx"
          ],
          [
           "honda civic cvcc"
          ],
          [
           "toyota corona"
          ],
          [
           "datsun 510"
          ],
          [
           "toyota celica gt liftback"
          ],
          [
           "datsun 200-sx"
          ],
          [
           "honda accord lx"
          ],
          [
           "maxda glc deluxe"
          ],
          [
           "datsun 210"
          ],
          [
           "toyota corolla tercel"
          ],
          [
           "datsun 310"
          ],
          [
           "toyota corona liftback"
          ],
          [
           "mazda 626"
          ],
          [
           "datsun 510 hatchback"
          ],
          [
           "toyota corolla"
          ],
          [
           "mazda glc"
          ],
          [
           "datsun 210"
          ],
          [
           "honda civic 1500 gl"
          ],
          [
           "subaru dl"
          ],
          [
           "datsun 280-zx"
          ],
          [
           "mazda rx-7 gs"
          ],
          [
           "honda accord"
          ],
          [
           "toyota starlet"
          ],
          [
           "honda civic 1300"
          ],
          [
           "subaru"
          ],
          [
           "datsun 210 mpg"
          ],
          [
           "toyota tercel"
          ],
          [
           "mazda glc 4"
          ],
          [
           "honda prelude"
          ],
          [
           "toyota corolla"
          ],
          [
           "datsun 200sx"
          ],
          [
           "mazda 626"
          ],
          [
           "toyota cressida"
          ],
          [
           "datsun 810 maxima"
          ],
          [
           "mazda glc custom l"
          ],
          [
           "mazda glc custom"
          ],
          [
           "nissan stanza xe"
          ],
          [
           "honda accord"
          ],
          [
           "toyota corolla"
          ],
          [
           "honda civic"
          ],
          [
           "honda civic (auto)"
          ],
          [
           "datsun 310 gx"
          ],
          [
           "toyota celica gt"
          ]
         ],
         "hovertemplate": "\n<b>%{customdata[0]}</b><br><br>\nPC1: %{x}<br>\nPC2: %{y}<br>\n",
         "legendgroup": "4",
         "marker": {
          "color": "#EF553B",
          "symbol": "circle"
         },
         "mode": "markers",
         "name": "4",
         "orientation": "v",
         "showlegend": true,
         "type": "scatter",
         "x": [
          -1.5117090900327215,
          -1.8539919546004489,
          -1.908877464644297,
          -1.5902151179477666,
          -3.0045718962677705,
          -3.1358124895217996,
          -1.7100573238164947,
          -1.6400477727138776,
          -2.125791803000295,
          -1.419283473035756,
          -2.158927141710039,
          -2.021699976229095,
          -1.7424167430360995,
          -1.8117452012346846,
          -0.25271862326126815,
          -3.0367912438032882,
          -3.369686347068875,
          -3.1104314483765876,
          -3.1051013923247313,
          -1.6302847523868467,
          -1.9033972560896095,
          -2.471967394462308,
          -1.406965794244076,
          -1.844651695460547,
          -3.216864874146908,
          -3.262682109457127,
          -2.9415714142040246,
          -2.5224156574296863,
          -0.634357799386637,
          -3.0528310144505344,
          -3.071122840200575,
          -2.5937957048699833,
          -2.831782260486328,
          -0.9446043305140465,
          -1.6862893981364526,
          -3.517186753637528,
          -3.5153536911181718,
          -3.358355808126505,
          -1.8786763636182606,
          -2.0672499056163005,
          -1.646138337788013,
          -1.8784612966897807,
          -2.7978840116461727,
          -3.0970644526989792,
          -3.332410726355694,
          -3.71237905267835,
          -3.3895470843522713,
          -2.1975351428076597,
          -2.733246069789846,
          -2.66376746961377,
          -2.7418276873257907,
          -3.9355698291115946,
          -3.778526960727177,
          -3.5478151473592248,
          -3.250602891295811,
          -0.8629241876038133,
          -2.142924384264842,
          -2.9371011292583074,
          -3.7997794902812863,
          -3.5048707066863973,
          -3.252043854574706,
          -3.730978421673931,
          -3.5542588803310147,
          -3.2253588101360737,
          -2.8254424824464306,
          -2.9123232823706684,
          -2.3400295843284895,
          -2.8423414523620996,
          -0.8406188760179013,
          -0.9230973863763244,
          -3.600750084519429,
          -3.2832201745076834,
          -2.8423565624032507,
          -3.0022562131892436,
          -3.1515771788756375,
          -3.39625094323582,
          -3.171311038787437,
          -3.4912715676900077,
          -2.190278328734009
         ],
         "xaxis": "x",
         "y": [
          2.4471909246719767,
          2.4775993611600198,
          2.383311724206213,
          2.51639067035686,
          1.5024668600328177,
          1.6733350185849467,
          2.18188856529598,
          2.527935225539339,
          1.8935230537163383,
          2.3524581840441954,
          1.965484087805208,
          1.4978430688673705,
          1.925337638064027,
          2.4070432245337496,
          2.6048191608440834,
          1.2243498672423432,
          0.8856681022677223,
          1.553696451680665,
          1.1800718271176744,
          2.077529071203567,
          1.9632005460381217,
          1.6698006875200249,
          2.2126562698007817,
          1.6554262284028407,
          1.2862304277594807,
          1.2081918933397702,
          1.3719414937804537,
          1.5172112230505588,
          1.9121234022159745,
          1.0239501322415003,
          1.3034269058035908,
          1.1370031965468463,
          1.3707505892730225,
          1.8999861664070445,
          2.1031520853300596,
          0.6787877294030378,
          0.8756864935144066,
          1.205930225976819,
          1.796074434773594,
          1.7391078639633542,
          1.7386660236458897,
          1.7211165920489648,
          1.2459202669891274,
          1.339672727204684,
          0.7010328466416623,
          0.6071673746916844,
          1.0299118366146427,
          1.3450653525099465,
          0.9264144764088809,
          1.4069658046904314,
          1.306429920338315,
          0.726101483413159,
          0.5490896583238455,
          1.4294934837114013,
          0.7976942411578929,
          2.2681450755834964,
          1.9221343212010014,
          0.9932328252320104,
          0.8123890882804263,
          0.9782495843906752,
          0.7486385121748196,
          0.4513099036477733,
          0.7671682752999867,
          1.0395156964581576,
          1.3357493051173794,
          0.9468857332815264,
          1.409264143629791,
          0.6898243083623782,
          1.9256176724975613,
          1.757434622564922,
          0.5686411517508979,
          0.704332459325693,
          1.2946267712714088,
          1.2118242836555158,
          0.8016068642905744,
          1.0795093412788312,
          1.0013185553134158,
          0.883078059634975,
          1.4434342837483978
         ],
         "yaxis": "y"
        },
        {
         "customdata": [
          [
           "plymouth duster"
          ],
          [
           "amc hornet"
          ],
          [
           "ford maverick"
          ],
          [
           "amc gremlin"
          ],
          [
           "amc gremlin"
          ],
          [
           "plymouth satellite custom"
          ],
          [
           "chevrolet chevelle malibu"
          ],
          [
           "ford torino 500"
          ],
          [
           "amc matador"
          ],
          [
           "amc hornet sportabout (sw)"
          ],
          [
           "pontiac firebird"
          ],
          [
           "ford mustang"
          ],
          [
           "plymouth valiant"
          ],
          [
           "chevrolet nova custom"
          ],
          [
           "amc hornet"
          ],
          [
           "ford maverick"
          ],
          [
           "plymouth duster"
          ],
          [
           "amc gremlin"
          ],
          [
           "mercury capri v6"
          ],
          [
           "plymouth duster"
          ],
          [
           "amc hornet"
          ],
          [
           "chevrolet nova"
          ],
          [
           "chevrolet chevelle malibu classic"
          ],
          [
           "amc matador"
          ],
          [
           "plymouth satellite sebring"
          ],
          [
           "plymouth valiant custom"
          ],
          [
           "chevrolet nova"
          ],
          [
           "mercury monarch"
          ],
          [
           "ford maverick"
          ],
          [
           "buick century"
          ],
          [
           "chevroelt chevelle malibu"
          ],
          [
           "amc matador"
          ],
          [
           "plymouth fury"
          ],
          [
           "buick skyhawk"
          ],
          [
           "chevrolet monza 2+2"
          ],
          [
           "amc gremlin"
          ],
          [
           "ford pinto"
          ],
          [
           "amc pacer"
          ],
          [
           "plymouth valiant"
          ],
          [
           "chevrolet nova"
          ],
          [
           "ford maverick"
          ],
          [
           "amc hornet"
          ],
          [
           "dodge aspen se"
          ],
          [
           "ford granada ghia"
          ],
          [
           "pontiac ventura sj"
          ],
          [
           "amc pacer d/l"
          ],
          [
           "mercedes-benz 280s"
          ],
          [
           "oldsmobile cutlass supreme"
          ],
          [
           "chevrolet concours"
          ],
          [
           "buick skylark"
          ],
          [
           "plymouth volare custom"
          ],
          [
           "ford granada"
          ],
          [
           "oldsmobile cutlass salon brougham"
          ],
          [
           "pontiac phoenix lj"
          ],
          [
           "chevrolet malibu"
          ],
          [
           "ford fairmont (auto)"
          ],
          [
           "plymouth volare"
          ],
          [
           "amc concord"
          ],
          [
           "buick century special"
          ],
          [
           "mercury zephyr"
          ],
          [
           "dodge aspen"
          ],
          [
           "amc concord d/l"
          ],
          [
           "buick regal sport coupe (turbo)"
          ],
          [
           "volvo 264gl"
          ],
          [
           "peugeot 604sl"
          ],
          [
           "pontiac lemans v6"
          ],
          [
           "mercury zephyr 6"
          ],
          [
           "amc concord dl 6"
          ],
          [
           "dodge aspen 6"
          ],
          [
           "chevrolet caprice classic"
          ],
          [
           "dodge st. regis"
          ],
          [
           "chevrolet malibu classic (sw)"
          ],
          [
           "cadillac eldorado"
          ],
          [
           "oldsmobile cutlass salon brougham"
          ],
          [
           "dodge aspen"
          ],
          [
           "buick century"
          ],
          [
           "oldsmobile cutlass ls"
          ],
          [
           "ford granada gl"
          ],
          [
           "chrysler lebaron salon"
          ],
          [
           "ford granada l"
          ]
         ],
         "hovertemplate": "\n<b>%{customdata[0]}</b><br><br>\nPC1: %{x}<br>\nPC2: %{y}<br>\n",
         "legendgroup": "3",
         "marker": {
          "color": "#00cc96",
          "symbol": "circle"
         },
         "mode": "markers",
         "name": "3",
         "orientation": "v",
         "showlegend": true,
         "type": "scatter",
         "x": [
          0.7187417879547207,
          0.9077937459259199,
          0.5158811834731747,
          0.680841108992828,
          1.1250318471951033,
          1.4357773846369302,
          1.3838557788447652,
          1.1550736871112066,
          1.2472056740007094,
          1.479522233419897,
          1.3114399566376744,
          1.2188532859466843,
          0.9929184144486706,
          1.0719897853531268,
          0.9343284597173933,
          0.8734419932790236,
          0.49333110411785364,
          0.9532581108370884,
          0.5258002203078571,
          0.6283843717034159,
          0.8111352589638801,
          1.1825340937849131,
          1.3391447623695298,
          1.3111029652716857,
          1.1643311309340392,
          0.8460061259987726,
          1.1807903117335456,
          0.5285506541454444,
          0.5385469010258636,
          0.9580039831033653,
          1.251683335554514,
          1.2586800088300436,
          0.8616644650541556,
          0.9105803287575277,
          1.7566640632710424,
          0.7141595356741183,
          0.7121827673582914,
          0.7079666068953857,
          0.7371560602862699,
          1.0208950620039172,
          0.052673335043212574,
          0.3724732918253318,
          0.8169865186749327,
          0.4548819514755422,
          1.219378539638839,
          0.7951634522625579,
          0.5224477201626694,
          1.6705027965101815,
          1.1369316499361048,
          0.7799964874419743,
          0.8005115759171744,
          0.7351626368981574,
          1.4739357093847074,
          0.6296263197820992,
          0.2627714167270266,
          0.3072526345358651,
          0.6268718336499042,
          0.5054857163793575,
          0.7993570271509526,
          0.245091732397538,
          0.7697582918910975,
          1.251671152963614,
          1.7874147479698725,
          0.387714528702438,
          0.43100558655647814,
          0.7755745919635842,
          0.06545527968165908,
          0.3467593146285248,
          0.6895787816978687,
          2.1606784576243667,
          2.2169802029298316,
          1.7858239323350569,
          1.8427048456742507,
          0.4441214551759366,
          0.325649678525173,
          0.6143669376342975,
          1.1339251266639312,
          0.09846033132955344,
          0.5218453395458187,
          0.43559676794770585
         ],
         "xaxis": "x",
         "y": [
          -0.15828156352214953,
          -0.11947883791083191,
          -0.28211116908869827,
          -0.09238511376686814,
          0.21611405288567895,
          -0.18171284238132954,
          -0.20912618199585042,
          -0.2924197779863707,
          -0.21562473875452343,
          0.189319137080218,
          -0.13747243298207745,
          -0.11616811897461321,
          -0.529344375799715,
          -0.795552043527966,
          -0.4689580728824217,
          -0.6240533753742731,
          -0.5317283302717353,
          -0.29896838112097196,
          -0.10746632603088874,
          -0.6990025521584823,
          -0.5670561899875276,
          -0.7242111322323822,
          -0.7515270475094645,
          -0.8451082214662821,
          -0.6472816530027747,
          -0.7100904572545197,
          -0.6493880927758364,
          -1.6428051858037682,
          -1.3858979131819795,
          -1.4498290332825279,
          -1.0648186268972466,
          -1.1006720958322218,
          -1.2166816677579826,
          -0.4568614866946748,
          -0.1873474670233381,
          -0.6678942044385838,
          -0.4424774894012843,
          -0.899353102410972,
          -0.6928612982628415,
          -0.5185458985377346,
          -1.1702749780167583,
          -1.1058179495846308,
          -1.0748322598262539,
          -1.7253247653998267,
          -0.7577688697491397,
          -1.0798970879027625,
          0.2504297519066319,
          -1.2924589330040817,
          -0.872620676330967,
          -1.0000698840072764,
          -1.1621849722868869,
          -1.3740036375627858,
          -0.8018043780174894,
          -1.465671265221679,
          -1.3576155588286551,
          -1.0173435143052088,
          -1.1745016546154583,
          -1.2170363454176407,
          -0.9140468650968541,
          -1.17218790961088,
          -1.3554957013485198,
          -0.6921900887398434,
          -0.14630660737665313,
          0.624902302945568,
          0.3076776202155115,
          -0.8815647470873945,
          -1.500441125988014,
          -1.4811991592124716,
          -1.1079053849765808,
          -0.7578976865132758,
          -0.6998836165203434,
          -0.7303202057284283,
          -1.1452656197464413,
          -2.1323617079415116,
          -1.6567794861407232,
          -1.1789495215790733,
          -1.727980435801069,
          -1.4978261374754498,
          -1.4352940074107383,
          -1.0519824410009893
         ],
         "yaxis": "y"
        },
        {
         "customdata": [
          [
           "volkswagen 1131 deluxe sedan"
          ],
          [
           "peugeot 504"
          ],
          [
           "audi 100 ls"
          ],
          [
           "saab 99e"
          ],
          [
           "bmw 2002"
          ],
          [
           "opel 1900"
          ],
          [
           "peugeot 304"
          ],
          [
           "fiat 124b"
          ],
          [
           "volkswagen model 111"
          ],
          [
           "volkswagen type 3"
          ],
          [
           "volvo 145e (sw)"
          ],
          [
           "volkswagen 411 (sw)"
          ],
          [
           "peugeot 504 (sw)"
          ],
          [
           "renault 12 (sw)"
          ],
          [
           "volkswagen super beetle"
          ],
          [
           "fiat 124 sport coupe"
          ],
          [
           "fiat 128"
          ],
          [
           "opel manta"
          ],
          [
           "audi 100ls"
          ],
          [
           "volvo 144ea"
          ],
          [
           "saab 99le"
          ],
          [
           "audi fox"
          ],
          [
           "volkswagen dasher"
          ],
          [
           "opel manta"
          ],
          [
           "fiat 128"
          ],
          [
           "fiat 124 tc"
          ],
          [
           "fiat x1.9"
          ],
          [
           "volkswagen dasher"
          ],
          [
           "volkswagen rabbit"
          ],
          [
           "audi 100ls"
          ],
          [
           "peugeot 504"
          ],
          [
           "volvo 244dl"
          ],
          [
           "saab 99le"
          ],
          [
           "fiat 131"
          ],
          [
           "opel 1900"
          ],
          [
           "renault 12tl"
          ],
          [
           "vw rabbit"
          ],
          [
           "volkswagen rabbit"
          ],
          [
           "volvo 245"
          ],
          [
           "peugeot 504"
          ],
          [
           "renault 5 gtl"
          ],
          [
           "volkswagen rabbit custom"
          ],
          [
           "volkswagen dasher"
          ],
          [
           "bmw 320i"
          ],
          [
           "volkswagen rabbit custom diesel"
          ],
          [
           "audi 5000"
          ],
          [
           "saab 99gle"
          ],
          [
           "volkswagen scirocco"
          ],
          [
           "vw rabbit custom"
          ],
          [
           "mercedes benz 300d"
          ],
          [
           "peugeot 504"
          ],
          [
           "fiat strada custom"
          ],
          [
           "vw rabbit"
          ],
          [
           "audi 4000"
          ],
          [
           "vw rabbit c (diesel)"
          ],
          [
           "vw dasher (diesel)"
          ],
          [
           "audi 5000s (diesel)"
          ],
          [
           "mercedes-benz 240d"
          ],
          [
           "vokswagen rabbit"
          ],
          [
           "triumph tr7 coupe"
          ],
          [
           "volkswagen jetta"
          ],
          [
           "peugeot 505s turbo diesel"
          ],
          [
           "volvo diesel"
          ],
          [
           "volkswagen rabbit l"
          ],
          [
           "vw pickup"
          ]
         ],
         "hovertemplate": "\n<b>%{customdata[0]}</b><br><br>\nPC1: %{x}<br>\nPC2: %{y}<br>\n",
         "legendgroup": "0",
         "marker": {
          "color": "#ab63fa",
          "symbol": "circle"
         },
         "mode": "markers",
         "name": "0",
         "orientation": "v",
         "showlegend": true,
         "type": "scatter",
         "x": [
          -2.337105206283633,
          -1.1708840167191017,
          -0.9436398046030889,
          -1.2505822929287727,
          -0.6639071167898437,
          -1.2518077657249247,
          -2.212931357517503,
          -1.668684076477318,
          -2.164234843114468,
          -2.3018447569371903,
          -0.25899612992853505,
          -1.3234376539824428,
          -1.0898009652878244,
          -1.8307891304318464,
          -2.494208199410835,
          -1.4058721965382135,
          -2.622843658548153,
          -1.439505917467648,
          -0.7636302480116363,
          -0.48253114866286395,
          -0.7025633473933525,
          -1.7869380049213197,
          -1.9036894369634672,
          -1.4780739790055177,
          -1.6180991767383148,
          -1.41403047681027,
          -2.172360637720561,
          -1.798916831629219,
          -1.9060545256379355,
          -1.0128297554612462,
          -1.1239902617662971,
          -0.7506730887270658,
          -0.7599097807329924,
          -1.580350338848345,
          -1.6905586702330206,
          -1.6879493197806332,
          -1.9790765851490388,
          -1.8361280647836742,
          -0.6490118810553862,
          -1.28697653385724,
          -2.983800764019151,
          -1.9525234911210585,
          -1.8733659128379714,
          -0.7207093406373252,
          -3.6269463662439403,
          -0.695533668926192,
          -0.9035970736629215,
          -2.241976761227779,
          -2.264372777264805,
          -1.1135382824302182,
          -2.2345552088695233,
          -2.505426232479257,
          -2.6585199479274357,
          -2.375767649067532,
          -3.7665419268178377,
          -3.789655811108303,
          -2.2861687926791623,
          -2.145097488283883,
          -2.463164086858156,
          -2.005409102516999,
          -2.2312373122176052,
          -1.8800185769476299,
          -1.5310304021608687,
          -2.626673464568641,
          -4.036985123492385
         ],
         "xaxis": "x",
         "y": [
          -0.2450064260787917,
          0.4585260711910373,
          0.9813183200997944,
          0.5204480644827104,
          1.4452685859181136,
          0.9606031680114531,
          -0.06905627550622384,
          0.7814736347329189,
          -0.01657106962420729,
          -0.8749253158047606,
          0.939453671187172,
          0.14909658748123084,
          -0.044673027916019604,
          0.0949075568871982,
          -0.6146427126770778,
          0.5307727526886278,
          -0.3706063088715237,
          0.4593853364457373,
          0.80314747226034,
          0.6798739646054089,
          0.8918578705591216,
          0.21599683190812463,
          0.30889734286910614,
          0.5244119569310551,
          0.3638266371841464,
          0.5927532432904618,
          0.19624585719810791,
          0.07134780157944984,
          0.4615592601169084,
          0.45330919699044686,
          0.0739598569596533,
          0.547448109665024,
          0.8083823955920549,
          0.2035183721731599,
          -0.023500505318289854,
          0.23550290661439569,
          0.3347734180949112,
          0.6692273711638206,
          0.28568696014592154,
          -0.8078772508648092,
          -0.5848645457913646,
          0.2410771949995371,
          0.2851682785700181,
          0.7273943771946536,
          -1.259200531325035,
          0.09653040860969636,
          0.1822254118819092,
          0.02101346023857066,
          0.07372199498194677,
          -0.8943427673573787,
          -1.7067888138103409,
          -0.09371413654340603,
          -0.17014056180083154,
          -0.2963500954117692,
          -1.4921914341045233,
          -1.8238576386430332,
          -1.0628121949929996,
          -1.3566190360184742,
          -0.2700703274682406,
          -0.13760134367887725,
          -0.1461613054177587,
          -1.133103902330347,
          -1.0146147579305842,
          -0.42687117749026776,
          -2.127140006794788
         ],
         "yaxis": "y"
        },
        {
         "customdata": [
          [
           "chevrolet vega 2300"
          ],
          [
           "chevrolet vega (sw)"
          ],
          [
           "mercury capri 2000"
          ],
          [
           "plymouth cricket"
          ],
          [
           "dodge colt hardtop"
          ],
          [
           "chevrolet vega"
          ],
          [
           "ford pinto runabout"
          ],
          [
           "ford pinto (sw)"
          ],
          [
           "dodge colt (sw)"
          ],
          [
           "chevrolet vega"
          ],
          [
           "ford pinto"
          ],
          [
           "ford pinto"
          ],
          [
           "chevrolet vega"
          ],
          [
           "dodge colt"
          ],
          [
           "ford pinto"
          ],
          [
           "pontiac astro"
          ],
          [
           "capri ii"
          ],
          [
           "dodge colt"
          ],
          [
           "chevrolet chevette"
          ],
          [
           "chevrolet woody"
          ],
          [
           "ford pinto"
          ],
          [
           "buick opel isuzu deluxe"
          ],
          [
           "plymouth arrow gs"
          ],
          [
           "pontiac sunbird coupe"
          ],
          [
           "ford mustang ii 2+2"
          ],
          [
           "chevrolet chevette"
          ],
          [
           "dodge colt m/m"
          ],
          [
           "ford fiesta"
          ],
          [
           "ford fairmont (man)"
          ],
          [
           "chevrolet chevette"
          ],
          [
           "dodge omni"
          ],
          [
           "plymouth sapporo"
          ],
          [
           "oldsmobile starfire sx"
          ],
          [
           "ford fairmont 4"
          ],
          [
           "dodge colt hatchback custom"
          ],
          [
           "amc spirit dl"
          ],
          [
           "plymouth horizon"
          ],
          [
           "plymouth horizon tc3"
          ],
          [
           "buick skylark limited"
          ],
          [
           "chevrolet citation"
          ],
          [
           "oldsmobile omega brougham"
          ],
          [
           "pontiac phoenix"
          ],
          [
           "chevrolet chevette"
          ],
          [
           "chevrolet citation"
          ],
          [
           "ford fairmont"
          ],
          [
           "amc concord"
          ],
          [
           "dodge colt"
          ],
          [
           "plymouth reliant"
          ],
          [
           "buick skylark"
          ],
          [
           "dodge aries wagon (sw)"
          ],
          [
           "chevrolet citation"
          ],
          [
           "plymouth reliant"
          ],
          [
           "plymouth champ"
          ],
          [
           "plymouth horizon 4"
          ],
          [
           "ford escort 4w"
          ],
          [
           "ford escort 2h"
          ],
          [
           "chevrolet cavalier"
          ],
          [
           "chevrolet cavalier wagon"
          ],
          [
           "chevrolet cavalier 2-door"
          ],
          [
           "pontiac j2000 se hatchback"
          ],
          [
           "dodge aries se"
          ],
          [
           "pontiac phoenix"
          ],
          [
           "ford fairmont futura"
          ],
          [
           "plymouth horizon miser"
          ],
          [
           "mercury lynx l"
          ],
          [
           "buick century limited"
          ],
          [
           "oldsmobile cutlass ciera (diesel)"
          ],
          [
           "chrysler lebaron medallion"
          ],
          [
           "dodge charger 2.2"
          ],
          [
           "chevrolet camaro"
          ],
          [
           "ford mustang gl"
          ],
          [
           "dodge rampage"
          ],
          [
           "ford ranger"
          ],
          [
           "chevy s-10"
          ]
         ],
         "hovertemplate": "\n<b>%{customdata[0]}</b><br><br>\nPC1: %{x}<br>\nPC2: %{y}<br>\n",
         "legendgroup": "2",
         "marker": {
          "color": "#FFA15A",
          "symbol": "circle"
         },
         "mode": "markers",
         "name": "2",
         "orientation": "v",
         "showlegend": true,
         "type": "scatter",
         "x": [
          -0.619231158427669,
          -0.7623053353808523,
          -0.3728938521711006,
          -1.5088048394367777,
          -0.9942144973557244,
          -0.5860569270947422,
          -0.5555872202245111,
          -0.4805829635857066,
          -0.9376428681278565,
          -0.8725677814209032,
          -0.6670813340646509,
          -0.8623283927242302,
          -0.7981152121151963,
          -1.1010918070259363,
          -0.6320963985296503,
          -0.8398317773638222,
          -0.533336441873691,
          -1.274051745020086,
          -2.2483822909146065,
          -1.8331620328967568,
          -0.6911463687104753,
          -1.2438577654569447,
          -0.8214219930353523,
          -0.5841321992816303,
          -0.6397553448439856,
          -1.7359023556024236,
          -1.568947958181782,
          -1.909595584283504,
          -0.6652570194184619,
          -1.6234829377193103,
          -1.3536385428363502,
          -0.4480206754721147,
          -0.7276224505290724,
          -0.6796522865491981,
          -1.7520969825984138,
          -0.9711724669678112,
          -1.513158296679247,
          -1.704737645779008,
          -0.8935343743209303,
          0.27283358050069656,
          0.27217581384661255,
          -0.9372127901530689,
          -1.7395785660729697,
          -0.9708537569008404,
          -1.0133686248772082,
          -0.9699683698502279,
          -0.5498511089865393,
          -1.1232964053831676,
          -1.0292636015211827,
          -0.71682509179317,
          0.3096449789395398,
          -1.0522750522700557,
          -2.427041734252267,
          -1.8643561429713587,
          -2.053092185181802,
          -2.090766002939553,
          -1.5664203412075781,
          -1.41156950486644,
          -1.8063364794987096,
          -1.4461625890949432,
          -1.2758136368287976,
          -1.1423617825985697,
          -0.8158369519319845,
          -2.101130925767055,
          -2.1977503405705248,
          -0.029761483374332348,
          -0.6135959456427882,
          -0.8064912552310042,
          -1.4115460008059773,
          -0.9799933742928894,
          -0.9821083541071538,
          -1.1268082836860314,
          -1.52571880643157,
          -1.672595579706161
         ],
         "xaxis": "x",
         "y": [
          -0.32349599859666067,
          -0.9726941987093733,
          -0.07480770206184736,
          -1.237406111883468,
          -0.7037336892581575,
          -1.0272656738098926,
          -0.5637603353572312,
          -0.4965638666044988,
          -0.3982840395967327,
          -1.2362530180371551,
          -0.981278494596053,
          -0.8291486690915549,
          -0.9366075707462135,
          -0.5351782707954814,
          -0.9752132195384936,
          -1.2469990709672165,
          -0.6823447508101853,
          -1.2127453060570732,
          -2.1166596300052896,
          -2.02961576520502,
          -0.6008922802621733,
          -0.8468051406687584,
          -0.8423121992908583,
          -0.9831774917246019,
          -0.9528186836280257,
          -1.3071352621647971,
          -1.0260911330907936,
          -0.9818786913457429,
          -0.9841190272904046,
          -1.2919052260623478,
          -0.9324400220526796,
          -1.0799904302418932,
          -1.3570159064611154,
          -1.3787198678945334,
          -0.9944601202630455,
          -1.075814300136516,
          -0.8639099143221601,
          -1.1395188852659281,
          -1.179373974263169,
          -0.2355600859874479,
          -0.4887419285967115,
          -0.74913930062386,
          -1.3166271968351462,
          -1.3529214754318246,
          -1.6263334610096856,
          -1.9315870804417872,
          -0.9253299030179939,
          -1.3420704983243865,
          -1.4569676180900288,
          -1.0773238766905742,
          -0.6405260188073437,
          -0.8986398162090776,
          -1.6243320231295213,
          -1.3748356390668608,
          -1.564990574305595,
          -2.2856383949642196,
          -2.05934506891439,
          -1.8926109480517228,
          -1.824818001499141,
          -1.5413951136180617,
          -1.497453715519617,
          -1.7820476960679434,
          -1.4999656556412515,
          -1.4518530297236327,
          -1.8210360638815435,
          -1.3706122178395679,
          -1.688598184847973,
          -1.1873633207970882,
          -1.0440084618528767,
          -1.6786386788447012,
          -1.4205144055903423,
          -0.7892139437732615,
          -1.951240150147848,
          -2.0855321418663695
         ],
         "yaxis": "y"
        }
       ],
       "layout": {
        "autosize": true,
        "legend": {
         "title": {
          "text": "color"
         },
         "tracegroupgap": 0
        },
        "margin": {
         "t": 60
        },
        "template": {
         "data": {
          "bar": [
           {
            "error_x": {
             "color": "#2a3f5f"
            },
            "error_y": {
             "color": "#2a3f5f"
            },
            "marker": {
             "line": {
              "color": "#E5ECF6",
              "width": 0.5
             },
             "pattern": {
              "fillmode": "overlay",
              "size": 10,
              "solidity": 0.2
             }
            },
            "type": "bar"
           }
          ],
          "barpolar": [
           {
            "marker": {
             "line": {
              "color": "#E5ECF6",
              "width": 0.5
             },
             "pattern": {
              "fillmode": "overlay",
              "size": 10,
              "solidity": 0.2
             }
            },
            "type": "barpolar"
           }
          ],
          "carpet": [
           {
            "aaxis": {
             "endlinecolor": "#2a3f5f",
             "gridcolor": "white",
             "linecolor": "white",
             "minorgridcolor": "white",
             "startlinecolor": "#2a3f5f"
            },
            "baxis": {
             "endlinecolor": "#2a3f5f",
             "gridcolor": "white",
             "linecolor": "white",
             "minorgridcolor": "white",
             "startlinecolor": "#2a3f5f"
            },
            "type": "carpet"
           }
          ],
          "choropleth": [
           {
            "colorbar": {
             "outlinewidth": 0,
             "ticks": ""
            },
            "type": "choropleth"
           }
          ],
          "contour": [
           {
            "colorbar": {
             "outlinewidth": 0,
             "ticks": ""
            },
            "colorscale": [
             [
              0,
              "#0d0887"
             ],
             [
              0.1111111111111111,
              "#46039f"
             ],
             [
              0.2222222222222222,
              "#7201a8"
             ],
             [
              0.3333333333333333,
              "#9c179e"
             ],
             [
              0.4444444444444444,
              "#bd3786"
             ],
             [
              0.5555555555555556,
              "#d8576b"
             ],
             [
              0.6666666666666666,
              "#ed7953"
             ],
             [
              0.7777777777777778,
              "#fb9f3a"
             ],
             [
              0.8888888888888888,
              "#fdca26"
             ],
             [
              1,
              "#f0f921"
             ]
            ],
            "type": "contour"
           }
          ],
          "contourcarpet": [
           {
            "colorbar": {
             "outlinewidth": 0,
             "ticks": ""
            },
            "type": "contourcarpet"
           }
          ],
          "heatmap": [
           {
            "colorbar": {
             "outlinewidth": 0,
             "ticks": ""
            },
            "colorscale": [
             [
              0,
              "#0d0887"
             ],
             [
              0.1111111111111111,
              "#46039f"
             ],
             [
              0.2222222222222222,
              "#7201a8"
             ],
             [
              0.3333333333333333,
              "#9c179e"
             ],
             [
              0.4444444444444444,
              "#bd3786"
             ],
             [
              0.5555555555555556,
              "#d8576b"
             ],
             [
              0.6666666666666666,
              "#ed7953"
             ],
             [
              0.7777777777777778,
              "#fb9f3a"
             ],
             [
              0.8888888888888888,
              "#fdca26"
             ],
             [
              1,
              "#f0f921"
             ]
            ],
            "type": "heatmap"
           }
          ],
          "heatmapgl": [
           {
            "colorbar": {
             "outlinewidth": 0,
             "ticks": ""
            },
            "colorscale": [
             [
              0,
              "#0d0887"
             ],
             [
              0.1111111111111111,
              "#46039f"
             ],
             [
              0.2222222222222222,
              "#7201a8"
             ],
             [
              0.3333333333333333,
              "#9c179e"
             ],
             [
              0.4444444444444444,
              "#bd3786"
             ],
             [
              0.5555555555555556,
              "#d8576b"
             ],
             [
              0.6666666666666666,
              "#ed7953"
             ],
             [
              0.7777777777777778,
              "#fb9f3a"
             ],
             [
              0.8888888888888888,
              "#fdca26"
             ],
             [
              1,
              "#f0f921"
             ]
            ],
            "type": "heatmapgl"
           }
          ],
          "histogram": [
           {
            "marker": {
             "pattern": {
              "fillmode": "overlay",
              "size": 10,
              "solidity": 0.2
             }
            },
            "type": "histogram"
           }
          ],
          "histogram2d": [
           {
            "colorbar": {
             "outlinewidth": 0,
             "ticks": ""
            },
            "colorscale": [
             [
              0,
              "#0d0887"
             ],
             [
              0.1111111111111111,
              "#46039f"
             ],
             [
              0.2222222222222222,
              "#7201a8"
             ],
             [
              0.3333333333333333,
              "#9c179e"
             ],
             [
              0.4444444444444444,
              "#bd3786"
             ],
             [
              0.5555555555555556,
              "#d8576b"
             ],
             [
              0.6666666666666666,
              "#ed7953"
             ],
             [
              0.7777777777777778,
              "#fb9f3a"
             ],
             [
              0.8888888888888888,
              "#fdca26"
             ],
             [
              1,
              "#f0f921"
             ]
            ],
            "type": "histogram2d"
           }
          ],
          "histogram2dcontour": [
           {
            "colorbar": {
             "outlinewidth": 0,
             "ticks": ""
            },
            "colorscale": [
             [
              0,
              "#0d0887"
             ],
             [
              0.1111111111111111,
              "#46039f"
             ],
             [
              0.2222222222222222,
              "#7201a8"
             ],
             [
              0.3333333333333333,
              "#9c179e"
             ],
             [
              0.4444444444444444,
              "#bd3786"
             ],
             [
              0.5555555555555556,
              "#d8576b"
             ],
             [
              0.6666666666666666,
              "#ed7953"
             ],
             [
              0.7777777777777778,
              "#fb9f3a"
             ],
             [
              0.8888888888888888,
              "#fdca26"
             ],
             [
              1,
              "#f0f921"
             ]
            ],
            "type": "histogram2dcontour"
           }
          ],
          "mesh3d": [
           {
            "colorbar": {
             "outlinewidth": 0,
             "ticks": ""
            },
            "type": "mesh3d"
           }
          ],
          "parcoords": [
           {
            "line": {
             "colorbar": {
              "outlinewidth": 0,
              "ticks": ""
             }
            },
            "type": "parcoords"
           }
          ],
          "pie": [
           {
            "automargin": true,
            "type": "pie"
           }
          ],
          "scatter": [
           {
            "fillpattern": {
             "fillmode": "overlay",
             "size": 10,
             "solidity": 0.2
            },
            "type": "scatter"
           }
          ],
          "scatter3d": [
           {
            "line": {
             "colorbar": {
              "outlinewidth": 0,
              "ticks": ""
             }
            },
            "marker": {
             "colorbar": {
              "outlinewidth": 0,
              "ticks": ""
             }
            },
            "type": "scatter3d"
           }
          ],
          "scattercarpet": [
           {
            "marker": {
             "colorbar": {
              "outlinewidth": 0,
              "ticks": ""
             }
            },
            "type": "scattercarpet"
           }
          ],
          "scattergeo": [
           {
            "marker": {
             "colorbar": {
              "outlinewidth": 0,
              "ticks": ""
             }
            },
            "type": "scattergeo"
           }
          ],
          "scattergl": [
           {
            "marker": {
             "colorbar": {
              "outlinewidth": 0,
              "ticks": ""
             }
            },
            "type": "scattergl"
           }
          ],
          "scattermapbox": [
           {
            "marker": {
             "colorbar": {
              "outlinewidth": 0,
              "ticks": ""
             }
            },
            "type": "scattermapbox"
           }
          ],
          "scatterpolar": [
           {
            "marker": {
             "colorbar": {
              "outlinewidth": 0,
              "ticks": ""
             }
            },
            "type": "scatterpolar"
           }
          ],
          "scatterpolargl": [
           {
            "marker": {
             "colorbar": {
              "outlinewidth": 0,
              "ticks": ""
             }
            },
            "type": "scatterpolargl"
           }
          ],
          "scatterternary": [
           {
            "marker": {
             "colorbar": {
              "outlinewidth": 0,
              "ticks": ""
             }
            },
            "type": "scatterternary"
           }
          ],
          "surface": [
           {
            "colorbar": {
             "outlinewidth": 0,
             "ticks": ""
            },
            "colorscale": [
             [
              0,
              "#0d0887"
             ],
             [
              0.1111111111111111,
              "#46039f"
             ],
             [
              0.2222222222222222,
              "#7201a8"
             ],
             [
              0.3333333333333333,
              "#9c179e"
             ],
             [
              0.4444444444444444,
              "#bd3786"
             ],
             [
              0.5555555555555556,
              "#d8576b"
             ],
             [
              0.6666666666666666,
              "#ed7953"
             ],
             [
              0.7777777777777778,
              "#fb9f3a"
             ],
             [
              0.8888888888888888,
              "#fdca26"
             ],
             [
              1,
              "#f0f921"
             ]
            ],
            "type": "surface"
           }
          ],
          "table": [
           {
            "cells": {
             "fill": {
              "color": "#EBF0F8"
             },
             "line": {
              "color": "white"
             }
            },
            "header": {
             "fill": {
              "color": "#C8D4E3"
             },
             "line": {
              "color": "white"
             }
            },
            "type": "table"
           }
          ]
         },
         "layout": {
          "annotationdefaults": {
           "arrowcolor": "#2a3f5f",
           "arrowhead": 0,
           "arrowwidth": 1
          },
          "autotypenumbers": "strict",
          "coloraxis": {
           "colorbar": {
            "outlinewidth": 0,
            "ticks": ""
           }
          },
          "colorscale": {
           "diverging": [
            [
             0,
             "#8e0152"
            ],
            [
             0.1,
             "#c51b7d"
            ],
            [
             0.2,
             "#de77ae"
            ],
            [
             0.3,
             "#f1b6da"
            ],
            [
             0.4,
             "#fde0ef"
            ],
            [
             0.5,
             "#f7f7f7"
            ],
            [
             0.6,
             "#e6f5d0"
            ],
            [
             0.7,
             "#b8e186"
            ],
            [
             0.8,
             "#7fbc41"
            ],
            [
             0.9,
             "#4d9221"
            ],
            [
             1,
             "#276419"
            ]
           ],
           "sequential": [
            [
             0,
             "#0d0887"
            ],
            [
             0.1111111111111111,
             "#46039f"
            ],
            [
             0.2222222222222222,
             "#7201a8"
            ],
            [
             0.3333333333333333,
             "#9c179e"
            ],
            [
             0.4444444444444444,
             "#bd3786"
            ],
            [
             0.5555555555555556,
             "#d8576b"
            ],
            [
             0.6666666666666666,
             "#ed7953"
            ],
            [
             0.7777777777777778,
             "#fb9f3a"
            ],
            [
             0.8888888888888888,
             "#fdca26"
            ],
            [
             1,
             "#f0f921"
            ]
           ],
           "sequentialminus": [
            [
             0,
             "#0d0887"
            ],
            [
             0.1111111111111111,
             "#46039f"
            ],
            [
             0.2222222222222222,
             "#7201a8"
            ],
            [
             0.3333333333333333,
             "#9c179e"
            ],
            [
             0.4444444444444444,
             "#bd3786"
            ],
            [
             0.5555555555555556,
             "#d8576b"
            ],
            [
             0.6666666666666666,
             "#ed7953"
            ],
            [
             0.7777777777777778,
             "#fb9f3a"
            ],
            [
             0.8888888888888888,
             "#fdca26"
            ],
            [
             1,
             "#f0f921"
            ]
           ]
          },
          "colorway": [
           "#636efa",
           "#EF553B",
           "#00cc96",
           "#ab63fa",
           "#FFA15A",
           "#19d3f3",
           "#FF6692",
           "#B6E880",
           "#FF97FF",
           "#FECB52"
          ],
          "font": {
           "color": "#2a3f5f"
          },
          "geo": {
           "bgcolor": "white",
           "lakecolor": "white",
           "landcolor": "#E5ECF6",
           "showlakes": true,
           "showland": true,
           "subunitcolor": "white"
          },
          "hoverlabel": {
           "align": "left"
          },
          "hovermode": "closest",
          "mapbox": {
           "style": "light"
          },
          "paper_bgcolor": "white",
          "plot_bgcolor": "#E5ECF6",
          "polar": {
           "angularaxis": {
            "gridcolor": "white",
            "linecolor": "white",
            "ticks": ""
           },
           "bgcolor": "#E5ECF6",
           "radialaxis": {
            "gridcolor": "white",
            "linecolor": "white",
            "ticks": ""
           }
          },
          "scene": {
           "xaxis": {
            "backgroundcolor": "#E5ECF6",
            "gridcolor": "white",
            "gridwidth": 2,
            "linecolor": "white",
            "showbackground": true,
            "ticks": "",
            "zerolinecolor": "white"
           },
           "yaxis": {
            "backgroundcolor": "#E5ECF6",
            "gridcolor": "white",
            "gridwidth": 2,
            "linecolor": "white",
            "showbackground": true,
            "ticks": "",
            "zerolinecolor": "white"
           },
           "zaxis": {
            "backgroundcolor": "#E5ECF6",
            "gridcolor": "white",
            "gridwidth": 2,
            "linecolor": "white",
            "showbackground": true,
            "ticks": "",
            "zerolinecolor": "white"
           }
          },
          "shapedefaults": {
           "line": {
            "color": "#2a3f5f"
           }
          },
          "ternary": {
           "aaxis": {
            "gridcolor": "white",
            "linecolor": "white",
            "ticks": ""
           },
           "baxis": {
            "gridcolor": "white",
            "linecolor": "white",
            "ticks": ""
           },
           "bgcolor": "#E5ECF6",
           "caxis": {
            "gridcolor": "white",
            "linecolor": "white",
            "ticks": ""
           }
          },
          "title": {
           "x": 0.05
          },
          "xaxis": {
           "automargin": true,
           "gridcolor": "white",
           "linecolor": "white",
           "ticks": "",
           "title": {
            "standoff": 15
           },
           "zerolinecolor": "white",
           "zerolinewidth": 2
          },
          "yaxis": {
           "automargin": true,
           "gridcolor": "white",
           "linecolor": "white",
           "ticks": "",
           "title": {
            "standoff": 15
           },
           "zerolinecolor": "white",
           "zerolinewidth": 2
          }
         }
        },
        "xaxis": {
         "anchor": "y",
         "autorange": true,
         "domain": [
          0,
          1
         ],
         "range": [
          -4.653253166734425,
          5.7894151016439235
         ],
         "title": {
          "text": "PC1"
         },
         "type": "linear"
        },
        "yaxis": {
         "anchor": "x",
         "autorange": true,
         "domain": [
          0,
          1
         ],
         "range": [
          -2.664295869757776,
          2.98347663563764
         ],
         "title": {
          "text": "PC2"
         },
         "type": "linear"
        }
       }
      },
      "image/png": "[encoded data removed]",
      "text/html": [
       "<div>                            <div id=\"ee1c430c-cc53-4f15-8c8c-368c54e0d975\" class=\"plotly-graph-div\" style=\"height:525px; width:100%;\"></div>            <script type=\"text/javascript\">                require([\"plotly\"], function(Plotly) {                    window.PLOTLYENV=window.PLOTLYENV || {};                                    if (document.getElementById(\"ee1c430c-cc53-4f15-8c8c-368c54e0d975\")) {                    Plotly.newPlot(                        \"ee1c430c-cc53-4f15-8c8c-368c54e0d975\",                        [{\"customdata\":[[\"chevrolet chevelle malibu\"],[\"buick skylark 320\"],[\"plymouth satellite\"],[\"amc rebel sst\"],[\"ford torino\"],[\"ford galaxie 500\"],[\"chevrolet impala\"],[\"plymouth fury iii\"],[\"pontiac catalina\"],[\"amc ambassador dpl\"],[\"dodge challenger se\"],[\"plymouth 'cuda 340\"],[\"chevrolet monte carlo\"],[\"buick estate wagon (sw)\"],[\"ford f250\"],[\"chevy c20\"],[\"dodge d200\"],[\"hi 1200d\"],[\"chevrolet impala\"],[\"pontiac catalina brougham\"],[\"ford galaxie 500\"],[\"plymouth fury iii\"],[\"dodge monaco (sw)\"],[\"ford country squire (sw)\"],[\"pontiac safari (sw)\"],[\"chevrolet impala\"],[\"pontiac catalina\"],[\"plymouth fury iii\"],[\"ford galaxie 500\"],[\"amc ambassador sst\"],[\"mercury marquis\"],[\"buick lesabre custom\"],[\"oldsmobile delta 88 royale\"],[\"chrysler newport royal\"],[\"amc matador (sw)\"],[\"chevrolet chevelle concours (sw)\"],[\"ford gran torino (sw)\"],[\"plymouth satellite custom (sw)\"],[\"buick century 350\"],[\"amc matador\"],[\"chevrolet malibu\"],[\"ford gran torino\"],[\"dodge coronet custom\"],[\"mercury marquis brougham\"],[\"chevrolet caprice classic\"],[\"ford ltd\"],[\"plymouth fury gran sedan\"],[\"chrysler new yorker brougham\"],[\"buick electra 225 custom\"],[\"amc ambassador brougham\"],[\"chevrolet impala\"],[\"ford country\"],[\"plymouth custom suburb\"],[\"oldsmobile vista cruiser\"],[\"chevrolet monte carlo s\"],[\"pontiac grand prix\"],[\"dodge dart custom\"],[\"oldsmobile omega\"],[\"ford gran torino\"],[\"buick century luxus (sw)\"],[\"dodge coronet custom (sw)\"],[\"ford gran torino (sw)\"],[\"amc matador (sw)\"],[\"pontiac catalina\"],[\"chevrolet bel air\"],[\"plymouth grand fury\"],[\"ford ltd\"],[\"ford mustang ii\"],[\"chevrolet chevelle malibu classic\"],[\"dodge coronet brougham\"],[\"amc matador\"],[\"ford gran torino\"],[\"plymouth volare premier v8\"],[\"cadillac seville\"],[\"chevy c10\"],[\"ford f108\"],[\"dodge d100\"],[\"chevrolet caprice classic\"],[\"dodge monaco brougham\"],[\"mercury cougar brougham\"],[\"pontiac grand prix lj\"],[\"chevrolet monte carlo landau\"],[\"chrysler cordoba\"],[\"ford thunderbird\"],[\"dodge diplomat\"],[\"mercury monarch ghia\"],[\"chevrolet monte carlo landau\"],[\"ford futura\"],[\"dodge magnum xe\"],[\"ford ltd landau\"],[\"mercury grand marquis\"],[\"buick estate wagon (sw)\"],[\"ford country squire (sw)\"],[\"chrysler lebaron town @ country (sw)\"]],\"hovertemplate\":\"\\n<b>%{customdata[0]}</b><br><br>\\nPC1: %{x}<br>\\nPC2: %{y}<br>\\n\",\"legendgroup\":\"1\",\"marker\":{\"color\":\"#636efa\",\"symbol\":\"circle\"},\"mode\":\"markers\",\"name\":\"1\",\"orientation\":\"v\",\"showlegend\":true,\"x\":[2.7681015408712164,3.5617956121137864,3.070488709648948,3.020336929873964,3.007717109083676,4.632490431458015,5.094469429700944,5.016170883199183,5.090410338149973,4.311461998206058,3.8159430065972657,3.7997906445666954,3.817831087801163,4.474529595624321,4.539184109214651,3.982998541349347,4.216507495361387,3.795671755644882,3.7469755307411186,4.203465298813926,3.469303293081093,3.330087048340598,4.509687361981959,4.285807745344449,4.517123646681601,3.7700567820514754,4.066901911248673,3.1997288007521285,3.44826026308093,3.0177670685735385,4.8588089689217355,3.638715895270489,3.7157209067479138,4.236928551522717,3.1244138609937004,2.990526928281098,2.9801321348754595,3.175779631805891,3.6446429006767413,3.1070904723215786,3.292567830344468,2.867236257481445,3.070861881342403,4.7570516542955525,3.845955853909781,3.599167373108371,3.1491456672903984,4.86743840278331,5.1731470584018835,3.736415343261145,4.0058860471718045,4.2223019060262645,3.8880996463395476,3.971669592337553,3.239664394511149,4.644395444945269,3.033022730745101,3.7717003042158956,2.8371444666867793,3.4787800717914106,3.286133168478004,2.980516253129594,2.958548083744806,3.931521616937016,3.203874783789331,3.0632838207807236,3.431025654813888,2.5505510377939413,2.791608842396015,3.00275606228804,2.4855180308359435,3.2523574799124377,3.013839490368153,3.5722380568002947,3.249411082462731,2.55606493053406,2.856201479678187,2.6780728692684352,2.8353363230094213,2.609589610978266,3.7521501976652263,3.4298229470206043,3.824916023414912,2.9963455292088734,2.4019451841723463,2.251875846060634,2.268711187642097,2.330030634535996,2.606620854589842,2.2386682110746827,2.695438735406616,2.8747761749764242,2.729367640272802,2.765621824280495],\"xaxis\":\"x\",\"y\":[0.6536686698172071,0.9618424410466487,0.9422170408259068,0.7897426311564679,0.9658848801234092,1.385631719999815,1.6903140188207062,1.7412913094917406,1.5548599921028232,1.598964465108217,1.2468001591473175,1.5088024728722176,1.199696570885709,1.6192235455454063,0.8454218116774044,0.5960032585264775,0.8956975398278176,-0.026758099262876547,0.7674314988142188,0.9041029397038356,0.4537395827492973,0.5149241805420595,0.9202583268148082,0.7849191070376172,0.796288694506755,0.6759449061474156,0.7323671916642901,0.331590875683777,0.4418991678282276,0.6649990397872672,1.1048484639522411,0.3606317247155089,0.39907688558927756,0.7461942188215562,0.5037839493161859,0.14118617392479435,-0.13330685508830092,0.2590588173626154,0.48814719505064996,0.5884878687200877,0.3116796908835475,0.004144671501016487,0.417002742138472,0.8474389601999857,0.48866500666293683,0.3725975468908916,0.07583472781987553,1.0377934014973909,1.0960730681762758,0.8279535841508692,0.14991348963541984,0.49514775295894453,0.4326220505001586,0.586447441946689,0.29531028642370355,1.3709932540772949,0.6789091257072577,0.8762465612864413,-0.0073220829036060595,-0.03021257132599469,0.13346307381914665,-0.34434313844947,-0.18388386867439382,0.47498693921649143,-0.07296449089240974,-0.13713736908746957,0.022102115547088654,0.221192497275406,-0.045427645545212336,0.027116591313185112,-0.2890327266151595,0.08408849515691887,0.024411945754209165,0.34763637895606514,0.18808722427223057,-0.38820244081533467,-0.09668822523783949,-0.012058337355935695,-0.2058571273586707,-0.4985210116511962,0.43355976125361334,0.3227355948485547,0.31335225240818787,-0.3192754389696682,-0.25284949264435774,-0.19298511612063735,-0.20829191232438768,0.096989007234508,-0.33942016611914366,-0.4374287499266186,-0.34798790138248376,-0.5431528659134545,-0.5013144880885337,-0.25260724736872897],\"yaxis\":\"y\",\"type\":\"scatter\"},{\"customdata\":[[\"toyota corona mark ii\"],[\"datsun pl510\"],[\"datsun pl510\"],[\"toyota corona\"],[\"toyota corolla 1200\"],[\"datsun 1200\"],[\"toyota corona hardtop\"],[\"mazda rx2 coupe\"],[\"datsun 510 (sw)\"],[\"toyouta corona mark ii (sw)\"],[\"toyota corolla 1600 (sw)\"],[\"toyota carina\"],[\"datsun 610\"],[\"maxda rx3\"],[\"toyota mark ii\"],[\"datsun b210\"],[\"toyota corolla 1200\"],[\"toyota corona\"],[\"datsun 710\"],[\"honda civic\"],[\"subaru\"],[\"toyota corolla\"],[\"toyota corona\"],[\"datsun 710\"],[\"honda civic cvcc\"],[\"honda civic\"],[\"datsun b-210\"],[\"toyota corolla\"],[\"toyota mark ii\"],[\"honda accord cvcc\"],[\"datsun f-10 hatchback\"],[\"toyota corolla liftback\"],[\"subaru dl\"],[\"datsun 810\"],[\"mazda rx-4\"],[\"mazda glc deluxe\"],[\"datsun b210 gx\"],[\"honda civic cvcc\"],[\"toyota corona\"],[\"datsun 510\"],[\"toyota celica gt liftback\"],[\"datsun 200-sx\"],[\"honda accord lx\"],[\"maxda glc deluxe\"],[\"datsun 210\"],[\"toyota corolla tercel\"],[\"datsun 310\"],[\"toyota corona liftback\"],[\"mazda 626\"],[\"datsun 510 hatchback\"],[\"toyota corolla\"],[\"mazda glc\"],[\"datsun 210\"],[\"honda civic 1500 gl\"],[\"subaru dl\"],[\"datsun 280-zx\"],[\"mazda rx-7 gs\"],[\"honda accord\"],[\"toyota starlet\"],[\"honda civic 1300\"],[\"subaru\"],[\"datsun 210 mpg\"],[\"toyota tercel\"],[\"mazda glc 4\"],[\"honda prelude\"],[\"toyota corolla\"],[\"datsun 200sx\"],[\"mazda 626\"],[\"toyota cressida\"],[\"datsun 810 maxima\"],[\"mazda glc custom l\"],[\"mazda glc custom\"],[\"nissan stanza xe\"],[\"honda accord\"],[\"toyota corolla\"],[\"honda civic\"],[\"honda civic (auto)\"],[\"datsun 310 gx\"],[\"toyota celica gt\"]],\"hovertemplate\":\"\\n<b>%{customdata[0]}</b><br><br>\\nPC1: %{x}<br>\\nPC2: %{y}<br>\\n\",\"legendgroup\":\"4\",\"marker\":{\"color\":\"#EF553B\",\"symbol\":\"circle\"},\"mode\":\"markers\",\"name\":\"4\",\"orientation\":\"v\",\"showlegend\":true,\"x\":[-1.5117090900327215,-1.8539919546004489,-1.908877464644297,-1.5902151179477666,-3.0045718962677705,-3.1358124895217996,-1.7100573238164947,-1.6400477727138776,-2.125791803000295,-1.419283473035756,-2.158927141710039,-2.021699976229095,-1.7424167430360995,-1.8117452012346846,-0.25271862326126815,-3.0367912438032882,-3.369686347068875,-3.1104314483765876,-3.1051013923247313,-1.6302847523868467,-1.9033972560896095,-2.471967394462308,-1.406965794244076,-1.844651695460547,-3.216864874146908,-3.262682109457127,-2.9415714142040246,-2.5224156574296863,-0.634357799386637,-3.0528310144505344,-3.071122840200575,-2.5937957048699833,-2.831782260486328,-0.9446043305140465,-1.6862893981364526,-3.517186753637528,-3.5153536911181718,-3.358355808126505,-1.8786763636182606,-2.0672499056163005,-1.646138337788013,-1.8784612966897807,-2.7978840116461727,-3.0970644526989792,-3.332410726355694,-3.71237905267835,-3.3895470843522713,-2.1975351428076597,-2.733246069789846,-2.66376746961377,-2.7418276873257907,-3.9355698291115946,-3.778526960727177,-3.5478151473592248,-3.250602891295811,-0.8629241876038133,-2.142924384264842,-2.9371011292583074,-3.7997794902812863,-3.5048707066863973,-3.252043854574706,-3.730978421673931,-3.5542588803310147,-3.2253588101360737,-2.8254424824464306,-2.9123232823706684,-2.3400295843284895,-2.8423414523620996,-0.8406188760179013,-0.9230973863763244,-3.600750084519429,-3.2832201745076834,-2.8423565624032507,-3.0022562131892436,-3.1515771788756375,-3.39625094323582,-3.171311038787437,-3.4912715676900077,-2.190278328734009],\"xaxis\":\"x\",\"y\":[2.4471909246719767,2.4775993611600198,2.383311724206213,2.51639067035686,1.5024668600328177,1.6733350185849467,2.18188856529598,2.527935225539339,1.8935230537163383,2.3524581840441954,1.965484087805208,1.4978430688673705,1.925337638064027,2.4070432245337496,2.6048191608440834,1.2243498672423432,0.8856681022677223,1.553696451680665,1.1800718271176744,2.077529071203567,1.9632005460381217,1.6698006875200249,2.2126562698007817,1.6554262284028407,1.2862304277594807,1.2081918933397702,1.3719414937804537,1.5172112230505588,1.9121234022159745,1.0239501322415003,1.3034269058035908,1.1370031965468463,1.3707505892730225,1.8999861664070445,2.1031520853300596,0.6787877294030378,0.8756864935144066,1.205930225976819,1.796074434773594,1.7391078639633542,1.7386660236458897,1.7211165920489648,1.2459202669891274,1.339672727204684,0.7010328466416623,0.6071673746916844,1.0299118366146427,1.3450653525099465,0.9264144764088809,1.4069658046904314,1.306429920338315,0.726101483413159,0.5490896583238455,1.4294934837114013,0.7976942411578929,2.2681450755834964,1.9221343212010014,0.9932328252320104,0.8123890882804263,0.9782495843906752,0.7486385121748196,0.4513099036477733,0.7671682752999867,1.0395156964581576,1.3357493051173794,0.9468857332815264,1.409264143629791,0.6898243083623782,1.9256176724975613,1.757434622564922,0.5686411517508979,0.704332459325693,1.2946267712714088,1.2118242836555158,0.8016068642905744,1.0795093412788312,1.0013185553134158,0.883078059634975,1.4434342837483978],\"yaxis\":\"y\",\"type\":\"scatter\"},{\"customdata\":[[\"plymouth duster\"],[\"amc hornet\"],[\"ford maverick\"],[\"amc gremlin\"],[\"amc gremlin\"],[\"plymouth satellite custom\"],[\"chevrolet chevelle malibu\"],[\"ford torino 500\"],[\"amc matador\"],[\"amc hornet sportabout (sw)\"],[\"pontiac firebird\"],[\"ford mustang\"],[\"plymouth valiant\"],[\"chevrolet nova custom\"],[\"amc hornet\"],[\"ford maverick\"],[\"plymouth duster\"],[\"amc gremlin\"],[\"mercury capri v6\"],[\"plymouth duster\"],[\"amc hornet\"],[\"chevrolet nova\"],[\"chevrolet chevelle malibu classic\"],[\"amc matador\"],[\"plymouth satellite sebring\"],[\"plymouth valiant custom\"],[\"chevrolet nova\"],[\"mercury monarch\"],[\"ford maverick\"],[\"buick century\"],[\"chevroelt chevelle malibu\"],[\"amc matador\"],[\"plymouth fury\"],[\"buick skyhawk\"],[\"chevrolet monza 2+2\"],[\"amc gremlin\"],[\"ford pinto\"],[\"amc pacer\"],[\"plymouth valiant\"],[\"chevrolet nova\"],[\"ford maverick\"],[\"amc hornet\"],[\"dodge aspen se\"],[\"ford granada ghia\"],[\"pontiac ventura sj\"],[\"amc pacer d/l\"],[\"mercedes-benz 280s\"],[\"oldsmobile cutlass supreme\"],[\"chevrolet concours\"],[\"buick skylark\"],[\"plymouth volare custom\"],[\"ford granada\"],[\"oldsmobile cutlass salon brougham\"],[\"pontiac phoenix lj\"],[\"chevrolet malibu\"],[\"ford fairmont (auto)\"],[\"plymouth volare\"],[\"amc concord\"],[\"buick century special\"],[\"mercury zephyr\"],[\"dodge aspen\"],[\"amc concord d/l\"],[\"buick regal sport coupe (turbo)\"],[\"volvo 264gl\"],[\"peugeot 604sl\"],[\"pontiac lemans v6\"],[\"mercury zephyr 6\"],[\"amc concord dl 6\"],[\"dodge aspen 6\"],[\"chevrolet caprice classic\"],[\"dodge st. regis\"],[\"chevrolet malibu classic (sw)\"],[\"cadillac eldorado\"],[\"oldsmobile cutlass salon brougham\"],[\"dodge aspen\"],[\"buick century\"],[\"oldsmobile cutlass ls\"],[\"ford granada gl\"],[\"chrysler lebaron salon\"],[\"ford granada l\"]],\"hovertemplate\":\"\\n<b>%{customdata[0]}</b><br><br>\\nPC1: %{x}<br>\\nPC2: %{y}<br>\\n\",\"legendgroup\":\"3\",\"marker\":{\"color\":\"#00cc96\",\"symbol\":\"circle\"},\"mode\":\"markers\",\"name\":\"3\",\"orientation\":\"v\",\"showlegend\":true,\"x\":[0.7187417879547207,0.9077937459259199,0.5158811834731747,0.680841108992828,1.1250318471951033,1.4357773846369302,1.3838557788447652,1.1550736871112066,1.2472056740007094,1.479522233419897,1.3114399566376744,1.2188532859466843,0.9929184144486706,1.0719897853531268,0.9343284597173933,0.8734419932790236,0.49333110411785364,0.9532581108370884,0.5258002203078571,0.6283843717034159,0.8111352589638801,1.1825340937849131,1.3391447623695298,1.3111029652716857,1.1643311309340392,0.8460061259987726,1.1807903117335456,0.5285506541454444,0.5385469010258636,0.9580039831033653,1.251683335554514,1.2586800088300436,0.8616644650541556,0.9105803287575277,1.7566640632710424,0.7141595356741183,0.7121827673582914,0.7079666068953857,0.7371560602862699,1.0208950620039172,0.052673335043212574,0.3724732918253318,0.8169865186749327,0.4548819514755422,1.219378539638839,0.7951634522625579,0.5224477201626694,1.6705027965101815,1.1369316499361048,0.7799964874419743,0.8005115759171744,0.7351626368981574,1.4739357093847074,0.6296263197820992,0.2627714167270266,0.3072526345358651,0.6268718336499042,0.5054857163793575,0.7993570271509526,0.245091732397538,0.7697582918910975,1.251671152963614,1.7874147479698725,0.387714528702438,0.43100558655647814,0.7755745919635842,0.06545527968165908,0.3467593146285248,0.6895787816978687,2.1606784576243667,2.2169802029298316,1.7858239323350569,1.8427048456742507,0.4441214551759366,0.325649678525173,0.6143669376342975,1.1339251266639312,0.09846033132955344,0.5218453395458187,0.43559676794770585],\"xaxis\":\"x\",\"y\":[-0.15828156352214953,-0.11947883791083191,-0.28211116908869827,-0.09238511376686814,0.21611405288567895,-0.18171284238132954,-0.20912618199585042,-0.2924197779863707,-0.21562473875452343,0.189319137080218,-0.13747243298207745,-0.11616811897461321,-0.529344375799715,-0.795552043527966,-0.4689580728824217,-0.6240533753742731,-0.5317283302717353,-0.29896838112097196,-0.10746632603088874,-0.6990025521584823,-0.5670561899875276,-0.7242111322323822,-0.7515270475094645,-0.8451082214662821,-0.6472816530027747,-0.7100904572545197,-0.6493880927758364,-1.6428051858037682,-1.3858979131819795,-1.4498290332825279,-1.0648186268972466,-1.1006720958322218,-1.2166816677579826,-0.4568614866946748,-0.1873474670233381,-0.6678942044385838,-0.4424774894012843,-0.899353102410972,-0.6928612982628415,-0.5185458985377346,-1.1702749780167583,-1.1058179495846308,-1.0748322598262539,-1.7253247653998267,-0.7577688697491397,-1.0798970879027625,0.2504297519066319,-1.2924589330040817,-0.872620676330967,-1.0000698840072764,-1.1621849722868869,-1.3740036375627858,-0.8018043780174894,-1.465671265221679,-1.3576155588286551,-1.0173435143052088,-1.1745016546154583,-1.2170363454176407,-0.9140468650968541,-1.17218790961088,-1.3554957013485198,-0.6921900887398434,-0.14630660737665313,0.624902302945568,0.3076776202155115,-0.8815647470873945,-1.500441125988014,-1.4811991592124716,-1.1079053849765808,-0.7578976865132758,-0.6998836165203434,-0.7303202057284283,-1.1452656197464413,-2.1323617079415116,-1.6567794861407232,-1.1789495215790733,-1.727980435801069,-1.4978261374754498,-1.4352940074107383,-1.0519824410009893],\"yaxis\":\"y\",\"type\":\"scatter\"},{\"customdata\":[[\"volkswagen 1131 deluxe sedan\"],[\"peugeot 504\"],[\"audi 100 ls\"],[\"saab 99e\"],[\"bmw 2002\"],[\"opel 1900\"],[\"peugeot 304\"],[\"fiat 124b\"],[\"volkswagen model 111\"],[\"volkswagen type 3\"],[\"volvo 145e (sw)\"],[\"volkswagen 411 (sw)\"],[\"peugeot 504 (sw)\"],[\"renault 12 (sw)\"],[\"volkswagen super beetle\"],[\"fiat 124 sport coupe\"],[\"fiat 128\"],[\"opel manta\"],[\"audi 100ls\"],[\"volvo 144ea\"],[\"saab 99le\"],[\"audi fox\"],[\"volkswagen dasher\"],[\"opel manta\"],[\"fiat 128\"],[\"fiat 124 tc\"],[\"fiat x1.9\"],[\"volkswagen dasher\"],[\"volkswagen rabbit\"],[\"audi 100ls\"],[\"peugeot 504\"],[\"volvo 244dl\"],[\"saab 99le\"],[\"fiat 131\"],[\"opel 1900\"],[\"renault 12tl\"],[\"vw rabbit\"],[\"volkswagen rabbit\"],[\"volvo 245\"],[\"peugeot 504\"],[\"renault 5 gtl\"],[\"volkswagen rabbit custom\"],[\"volkswagen dasher\"],[\"bmw 320i\"],[\"volkswagen rabbit custom diesel\"],[\"audi 5000\"],[\"saab 99gle\"],[\"volkswagen scirocco\"],[\"vw rabbit custom\"],[\"mercedes benz 300d\"],[\"peugeot 504\"],[\"fiat strada custom\"],[\"vw rabbit\"],[\"audi 4000\"],[\"vw rabbit c (diesel)\"],[\"vw dasher (diesel)\"],[\"audi 5000s (diesel)\"],[\"mercedes-benz 240d\"],[\"vokswagen rabbit\"],[\"triumph tr7 coupe\"],[\"volkswagen jetta\"],[\"peugeot 505s turbo diesel\"],[\"volvo diesel\"],[\"volkswagen rabbit l\"],[\"vw pickup\"]],\"hovertemplate\":\"\\n<b>%{customdata[0]}</b><br><br>\\nPC1: %{x}<br>\\nPC2: %{y}<br>\\n\",\"legendgroup\":\"0\",\"marker\":{\"color\":\"#ab63fa\",\"symbol\":\"circle\"},\"mode\":\"markers\",\"name\":\"0\",\"orientation\":\"v\",\"showlegend\":true,\"x\":[-2.337105206283633,-1.1708840167191017,-0.9436398046030889,-1.2505822929287727,-0.6639071167898437,-1.2518077657249247,-2.212931357517503,-1.668684076477318,-2.164234843114468,-2.3018447569371903,-0.25899612992853505,-1.3234376539824428,-1.0898009652878244,-1.8307891304318464,-2.494208199410835,-1.4058721965382135,-2.622843658548153,-1.439505917467648,-0.7636302480116363,-0.48253114866286395,-0.7025633473933525,-1.7869380049213197,-1.9036894369634672,-1.4780739790055177,-1.6180991767383148,-1.41403047681027,-2.172360637720561,-1.798916831629219,-1.9060545256379355,-1.0128297554612462,-1.1239902617662971,-0.7506730887270658,-0.7599097807329924,-1.580350338848345,-1.6905586702330206,-1.6879493197806332,-1.9790765851490388,-1.8361280647836742,-0.6490118810553862,-1.28697653385724,-2.983800764019151,-1.9525234911210585,-1.8733659128379714,-0.7207093406373252,-3.6269463662439403,-0.695533668926192,-0.9035970736629215,-2.241976761227779,-2.264372777264805,-1.1135382824302182,-2.2345552088695233,-2.505426232479257,-2.6585199479274357,-2.375767649067532,-3.7665419268178377,-3.789655811108303,-2.2861687926791623,-2.145097488283883,-2.463164086858156,-2.005409102516999,-2.2312373122176052,-1.8800185769476299,-1.5310304021608687,-2.626673464568641,-4.036985123492385],\"xaxis\":\"x\",\"y\":[-0.2450064260787917,0.4585260711910373,0.9813183200997944,0.5204480644827104,1.4452685859181136,0.9606031680114531,-0.06905627550622384,0.7814736347329189,-0.01657106962420729,-0.8749253158047606,0.939453671187172,0.14909658748123084,-0.044673027916019604,0.0949075568871982,-0.6146427126770778,0.5307727526886278,-0.3706063088715237,0.4593853364457373,0.80314747226034,0.6798739646054089,0.8918578705591216,0.21599683190812463,0.30889734286910614,0.5244119569310551,0.3638266371841464,0.5927532432904618,0.19624585719810791,0.07134780157944984,0.4615592601169084,0.45330919699044686,0.0739598569596533,0.547448109665024,0.8083823955920549,0.2035183721731599,-0.023500505318289854,0.23550290661439569,0.3347734180949112,0.6692273711638206,0.28568696014592154,-0.8078772508648092,-0.5848645457913646,0.2410771949995371,0.2851682785700181,0.7273943771946536,-1.259200531325035,0.09653040860969636,0.1822254118819092,0.02101346023857066,0.07372199498194677,-0.8943427673573787,-1.7067888138103409,-0.09371413654340603,-0.17014056180083154,-0.2963500954117692,-1.4921914341045233,-1.8238576386430332,-1.0628121949929996,-1.3566190360184742,-0.2700703274682406,-0.13760134367887725,-0.1461613054177587,-1.133103902330347,-1.0146147579305842,-0.42687117749026776,-2.127140006794788],\"yaxis\":\"y\",\"type\":\"scatter\"},{\"customdata\":[[\"chevrolet vega 2300\"],[\"chevrolet vega (sw)\"],[\"mercury capri 2000\"],[\"plymouth cricket\"],[\"dodge colt hardtop\"],[\"chevrolet vega\"],[\"ford pinto runabout\"],[\"ford pinto (sw)\"],[\"dodge colt (sw)\"],[\"chevrolet vega\"],[\"ford pinto\"],[\"ford pinto\"],[\"chevrolet vega\"],[\"dodge colt\"],[\"ford pinto\"],[\"pontiac astro\"],[\"capri ii\"],[\"dodge colt\"],[\"chevrolet chevette\"],[\"chevrolet woody\"],[\"ford pinto\"],[\"buick opel isuzu deluxe\"],[\"plymouth arrow gs\"],[\"pontiac sunbird coupe\"],[\"ford mustang ii 2+2\"],[\"chevrolet chevette\"],[\"dodge colt m/m\"],[\"ford fiesta\"],[\"ford fairmont (man)\"],[\"chevrolet chevette\"],[\"dodge omni\"],[\"plymouth sapporo\"],[\"oldsmobile starfire sx\"],[\"ford fairmont 4\"],[\"dodge colt hatchback custom\"],[\"amc spirit dl\"],[\"plymouth horizon\"],[\"plymouth horizon tc3\"],[\"buick skylark limited\"],[\"chevrolet citation\"],[\"oldsmobile omega brougham\"],[\"pontiac phoenix\"],[\"chevrolet chevette\"],[\"chevrolet citation\"],[\"ford fairmont\"],[\"amc concord\"],[\"dodge colt\"],[\"plymouth reliant\"],[\"buick skylark\"],[\"dodge aries wagon (sw)\"],[\"chevrolet citation\"],[\"plymouth reliant\"],[\"plymouth champ\"],[\"plymouth horizon 4\"],[\"ford escort 4w\"],[\"ford escort 2h\"],[\"chevrolet cavalier\"],[\"chevrolet cavalier wagon\"],[\"chevrolet cavalier 2-door\"],[\"pontiac j2000 se hatchback\"],[\"dodge aries se\"],[\"pontiac phoenix\"],[\"ford fairmont futura\"],[\"plymouth horizon miser\"],[\"mercury lynx l\"],[\"buick century limited\"],[\"oldsmobile cutlass ciera (diesel)\"],[\"chrysler lebaron medallion\"],[\"dodge charger 2.2\"],[\"chevrolet camaro\"],[\"ford mustang gl\"],[\"dodge rampage\"],[\"ford ranger\"],[\"chevy s-10\"]],\"hovertemplate\":\"\\n<b>%{customdata[0]}</b><br><br>\\nPC1: %{x}<br>\\nPC2: %{y}<br>\\n\",\"legendgroup\":\"2\",\"marker\":{\"color\":\"#FFA15A\",\"symbol\":\"circle\"},\"mode\":\"markers\",\"name\":\"2\",\"orientation\":\"v\",\"showlegend\":true,\"x\":[-0.619231158427669,-0.7623053353808523,-0.3728938521711006,-1.5088048394367777,-0.9942144973557244,-0.5860569270947422,-0.5555872202245111,-0.4805829635857066,-0.9376428681278565,-0.8725677814209032,-0.6670813340646509,-0.8623283927242302,-0.7981152121151963,-1.1010918070259363,-0.6320963985296503,-0.8398317773638222,-0.533336441873691,-1.274051745020086,-2.2483822909146065,-1.8331620328967568,-0.6911463687104753,-1.2438577654569447,-0.8214219930353523,-0.5841321992816303,-0.6397553448439856,-1.7359023556024236,-1.568947958181782,-1.909595584283504,-0.6652570194184619,-1.6234829377193103,-1.3536385428363502,-0.4480206754721147,-0.7276224505290724,-0.6796522865491981,-1.7520969825984138,-0.9711724669678112,-1.513158296679247,-1.704737645779008,-0.8935343743209303,0.27283358050069656,0.27217581384661255,-0.9372127901530689,-1.7395785660729697,-0.9708537569008404,-1.0133686248772082,-0.9699683698502279,-0.5498511089865393,-1.1232964053831676,-1.0292636015211827,-0.71682509179317,0.3096449789395398,-1.0522750522700557,-2.427041734252267,-1.8643561429713587,-2.053092185181802,-2.090766002939553,-1.5664203412075781,-1.41156950486644,-1.8063364794987096,-1.4461625890949432,-1.2758136368287976,-1.1423617825985697,-0.8158369519319845,-2.101130925767055,-2.1977503405705248,-0.029761483374332348,-0.6135959456427882,-0.8064912552310042,-1.4115460008059773,-0.9799933742928894,-0.9821083541071538,-1.1268082836860314,-1.52571880643157,-1.672595579706161],\"xaxis\":\"x\",\"y\":[-0.32349599859666067,-0.9726941987093733,-0.07480770206184736,-1.237406111883468,-0.7037336892581575,-1.0272656738098926,-0.5637603353572312,-0.4965638666044988,-0.3982840395967327,-1.2362530180371551,-0.981278494596053,-0.8291486690915549,-0.9366075707462135,-0.5351782707954814,-0.9752132195384936,-1.2469990709672165,-0.6823447508101853,-1.2127453060570732,-2.1166596300052896,-2.02961576520502,-0.6008922802621733,-0.8468051406687584,-0.8423121992908583,-0.9831774917246019,-0.9528186836280257,-1.3071352621647971,-1.0260911330907936,-0.9818786913457429,-0.9841190272904046,-1.2919052260623478,-0.9324400220526796,-1.0799904302418932,-1.3570159064611154,-1.3787198678945334,-0.9944601202630455,-1.075814300136516,-0.8639099143221601,-1.1395188852659281,-1.179373974263169,-0.2355600859874479,-0.4887419285967115,-0.74913930062386,-1.3166271968351462,-1.3529214754318246,-1.6263334610096856,-1.9315870804417872,-0.9253299030179939,-1.3420704983243865,-1.4569676180900288,-1.0773238766905742,-0.6405260188073437,-0.8986398162090776,-1.6243320231295213,-1.3748356390668608,-1.564990574305595,-2.2856383949642196,-2.05934506891439,-1.8926109480517228,-1.824818001499141,-1.5413951136180617,-1.497453715519617,-1.7820476960679434,-1.4999656556412515,-1.4518530297236327,-1.8210360638815435,-1.3706122178395679,-1.688598184847973,-1.1873633207970882,-1.0440084618528767,-1.6786386788447012,-1.4205144055903423,-0.7892139437732615,-1.951240150147848,-2.0855321418663695],\"yaxis\":\"y\",\"type\":\"scatter\"}],                        {\"template\":{\"data\":{\"histogram2dcontour\":[{\"type\":\"histogram2dcontour\",\"colorbar\":{\"outlinewidth\":0,\"ticks\":\"\"},\"colorscale\":[[0.0,\"#0d0887\"],[0.1111111111111111,\"#46039f\"],[0.2222222222222222,\"#7201a8\"],[0.3333333333333333,\"#9c179e\"],[0.4444444444444444,\"#bd3786\"],[0.5555555555555556,\"#d8576b\"],[0.6666666666666666,\"#ed7953\"],[0.7777777777777778,\"#fb9f3a\"],[0.8888888888888888,\"#fdca26\"],[1.0,\"#f0f921\"]]}],\"choropleth\":[{\"type\":\"choropleth\",\"colorbar\":{\"outlinewidth\":0,\"ticks\":\"\"}}],\"histogram2d\":[{\"type\":\"histogram2d\",\"colorbar\":{\"outlinewidth\":0,\"ticks\":\"\"},\"colorscale\":[[0.0,\"#0d0887\"],[0.1111111111111111,\"#46039f\"],[0.2222222222222222,\"#7201a8\"],[0.3333333333333333,\"#9c179e\"],[0.4444444444444444,\"#bd3786\"],[0.5555555555555556,\"#d8576b\"],[0.6666666666666666,\"#ed7953\"],[0.7777777777777778,\"#fb9f3a\"],[0.8888888888888888,\"#fdca26\"],[1.0,\"#f0f921\"]]}],\"heatmap\":[{\"type\":\"heatmap\",\"colorbar\":{\"outlinewidth\":0,\"ticks\":\"\"},\"colorscale\":[[0.0,\"#0d0887\"],[0.1111111111111111,\"#46039f\"],[0.2222222222222222,\"#7201a8\"],[0.3333333333333333,\"#9c179e\"],[0.4444444444444444,\"#bd3786\"],[0.5555555555555556,\"#d8576b\"],[0.6666666666666666,\"#ed7953\"],[0.7777777777777778,\"#fb9f3a\"],[0.8888888888888888,\"#fdca26\"],[1.0,\"#f0f921\"]]}],\"heatmapgl\":[{\"type\":\"heatmapgl\",\"colorbar\":{\"outlinewidth\":0,\"ticks\":\"\"},\"colorscale\":[[0.0,\"#0d0887\"],[0.1111111111111111,\"#46039f\"],[0.2222222222222222,\"#7201a8\"],[0.3333333333333333,\"#9c179e\"],[0.4444444444444444,\"#bd3786\"],[0.5555555555555556,\"#d8576b\"],[0.6666666666666666,\"#ed7953\"],[0.7777777777777778,\"#fb9f3a\"],[0.8888888888888888,\"#fdca26\"],[1.0,\"#f0f921\"]]}],\"contourcarpet\":[{\"type\":\"contourcarpet\",\"colorbar\":{\"outlinewidth\":0,\"ticks\":\"\"}}],\"contour\":[{\"type\":\"contour\",\"colorbar\":{\"outlinewidth\":0,\"ticks\":\"\"},\"colorscale\":[[0.0,\"#0d0887\"],[0.1111111111111111,\"#46039f\"],[0.2222222222222222,\"#7201a8\"],[0.3333333333333333,\"#9c179e\"],[0.4444444444444444,\"#bd3786\"],[0.5555555555555556,\"#d8576b\"],[0.6666666666666666,\"#ed7953\"],[0.7777777777777778,\"#fb9f3a\"],[0.8888888888888888,\"#fdca26\"],[1.0,\"#f0f921\"]]}],\"surface\":[{\"type\":\"surface\",\"colorbar\":{\"outlinewidth\":0,\"ticks\":\"\"},\"colorscale\":[[0.0,\"#0d0887\"],[0.1111111111111111,\"#46039f\"],[0.2222222222222222,\"#7201a8\"],[0.3333333333333333,\"#9c179e\"],[0.4444444444444444,\"#bd3786\"],[0.5555555555555556,\"#d8576b\"],[0.6666666666666666,\"#ed7953\"],[0.7777777777777778,\"#fb9f3a\"],[0.8888888888888888,\"#fdca26\"],[1.0,\"#f0f921\"]]}],\"mesh3d\":[{\"type\":\"mesh3d\",\"colorbar\":{\"outlinewidth\":0,\"ticks\":\"\"}}],\"scatter\":[{\"fillpattern\":{\"fillmode\":\"overlay\",\"size\":10,\"solidity\":0.2},\"type\":\"scatter\"}],\"parcoords\":[{\"type\":\"parcoords\",\"line\":{\"colorbar\":{\"outlinewidth\":0,\"ticks\":\"\"}}}],\"scatterpolargl\":[{\"type\":\"scatterpolargl\",\"marker\":{\"colorbar\":{\"outlinewidth\":0,\"ticks\":\"\"}}}],\"bar\":[{\"error_x\":{\"color\":\"#2a3f5f\"},\"error_y\":{\"color\":\"#2a3f5f\"},\"marker\":{\"line\":{\"color\":\"#E5ECF6\",\"width\":0.5},\"pattern\":{\"fillmode\":\"overlay\",\"size\":10,\"solidity\":0.2}},\"type\":\"bar\"}],\"scattergeo\":[{\"type\":\"scattergeo\",\"marker\":{\"colorbar\":{\"outlinewidth\":0,\"ticks\":\"\"}}}],\"scatterpolar\":[{\"type\":\"scatterpolar\",\"marker\":{\"colorbar\":{\"outlinewidth\":0,\"ticks\":\"\"}}}],\"histogram\":[{\"marker\":{\"pattern\":{\"fillmode\":\"overlay\",\"size\":10,\"solidity\":0.2}},\"type\":\"histogram\"}],\"scattergl\":[{\"type\":\"scattergl\",\"marker\":{\"colorbar\":{\"outlinewidth\":0,\"ticks\":\"\"}}}],\"scatter3d\":[{\"type\":\"scatter3d\",\"line\":{\"colorbar\":{\"outlinewidth\":0,\"ticks\":\"\"}},\"marker\":{\"colorbar\":{\"outlinewidth\":0,\"ticks\":\"\"}}}],\"scattermapbox\":[{\"type\":\"scattermapbox\",\"marker\":{\"colorbar\":{\"outlinewidth\":0,\"ticks\":\"\"}}}],\"scatterternary\":[{\"type\":\"scatterternary\",\"marker\":{\"colorbar\":{\"outlinewidth\":0,\"ticks\":\"\"}}}],\"scattercarpet\":[{\"type\":\"scattercarpet\",\"marker\":{\"colorbar\":{\"outlinewidth\":0,\"ticks\":\"\"}}}],\"carpet\":[{\"aaxis\":{\"endlinecolor\":\"#2a3f5f\",\"gridcolor\":\"white\",\"linecolor\":\"white\",\"minorgridcolor\":\"white\",\"startlinecolor\":\"#2a3f5f\"},\"baxis\":{\"endlinecolor\":\"#2a3f5f\",\"gridcolor\":\"white\",\"linecolor\":\"white\",\"minorgridcolor\":\"white\",\"startlinecolor\":\"#2a3f5f\"},\"type\":\"carpet\"}],\"table\":[{\"cells\":{\"fill\":{\"color\":\"#EBF0F8\"},\"line\":{\"color\":\"white\"}},\"header\":{\"fill\":{\"color\":\"#C8D4E3\"},\"line\":{\"color\":\"white\"}},\"type\":\"table\"}],\"barpolar\":[{\"marker\":{\"line\":{\"color\":\"#E5ECF6\",\"width\":0.5},\"pattern\":{\"fillmode\":\"overlay\",\"size\":10,\"solidity\":0.2}},\"type\":\"barpolar\"}],\"pie\":[{\"automargin\":true,\"type\":\"pie\"}]},\"layout\":{\"autotypenumbers\":\"strict\",\"colorway\":[\"#636efa\",\"#EF553B\",\"#00cc96\",\"#ab63fa\",\"#FFA15A\",\"#19d3f3\",\"#FF6692\",\"#B6E880\",\"#FF97FF\",\"#FECB52\"],\"font\":{\"color\":\"#2a3f5f\"},\"hovermode\":\"closest\",\"hoverlabel\":{\"align\":\"left\"},\"paper_bgcolor\":\"white\",\"plot_bgcolor\":\"#E5ECF6\",\"polar\":{\"bgcolor\":\"#E5ECF6\",\"angularaxis\":{\"gridcolor\":\"white\",\"linecolor\":\"white\",\"ticks\":\"\"},\"radialaxis\":{\"gridcolor\":\"white\",\"linecolor\":\"white\",\"ticks\":\"\"}},\"ternary\":{\"bgcolor\":\"#E5ECF6\",\"aaxis\":{\"gridcolor\":\"white\",\"linecolor\":\"white\",\"ticks\":\"\"},\"baxis\":{\"gridcolor\":\"white\",\"linecolor\":\"white\",\"ticks\":\"\"},\"caxis\":{\"gridcolor\":\"white\",\"linecolor\":\"white\",\"ticks\":\"\"}},\"coloraxis\":{\"colorbar\":{\"outlinewidth\":0,\"ticks\":\"\"}},\"colorscale\":{\"sequential\":[[0.0,\"#0d0887\"],[0.1111111111111111,\"#46039f\"],[0.2222222222222222,\"#7201a8\"],[0.3333333333333333,\"#9c179e\"],[0.4444444444444444,\"#bd3786\"],[0.5555555555555556,\"#d8576b\"],[0.6666666666666666,\"#ed7953\"],[0.7777777777777778,\"#fb9f3a\"],[0.8888888888888888,\"#fdca26\"],[1.0,\"#f0f921\"]],\"sequentialminus\":[[0.0,\"#0d0887\"],[0.1111111111111111,\"#46039f\"],[0.2222222222222222,\"#7201a8\"],[0.3333333333333333,\"#9c179e\"],[0.4444444444444444,\"#bd3786\"],[0.5555555555555556,\"#d8576b\"],[0.6666666666666666,\"#ed7953\"],[0.7777777777777778,\"#fb9f3a\"],[0.8888888888888888,\"#fdca26\"],[1.0,\"#f0f921\"]],\"diverging\":[[0,\"#8e0152\"],[0.1,\"#c51b7d\"],[0.2,\"#de77ae\"],[0.3,\"#f1b6da\"],[0.4,\"#fde0ef\"],[0.5,\"#f7f7f7\"],[0.6,\"#e6f5d0\"],[0.7,\"#b8e186\"],[0.8,\"#7fbc41\"],[0.9,\"#4d9221\"],[1,\"#276419\"]]},\"xaxis\":{\"gridcolor\":\"white\",\"linecolor\":\"white\",\"ticks\":\"\",\"title\":{\"standoff\":15},\"zerolinecolor\":\"white\",\"automargin\":true,\"zerolinewidth\":2},\"yaxis\":{\"gridcolor\":\"white\",\"linecolor\":\"white\",\"ticks\":\"\",\"title\":{\"standoff\":15},\"zerolinecolor\":\"white\",\"automargin\":true,\"zerolinewidth\":2},\"scene\":{\"xaxis\":{\"backgroundcolor\":\"#E5ECF6\",\"gridcolor\":\"white\",\"linecolor\":\"white\",\"showbackground\":true,\"ticks\":\"\",\"zerolinecolor\":\"white\",\"gridwidth\":2},\"yaxis\":{\"backgroundcolor\":\"#E5ECF6\",\"gridcolor\":\"white\",\"linecolor\":\"white\",\"showbackground\":true,\"ticks\":\"\",\"zerolinecolor\":\"white\",\"gridwidth\":2},\"zaxis\":{\"backgroundcolor\":\"#E5ECF6\",\"gridcolor\":\"white\",\"linecolor\":\"white\",\"showbackground\":true,\"ticks\":\"\",\"zerolinecolor\":\"white\",\"gridwidth\":2}},\"shapedefaults\":{\"line\":{\"color\":\"#2a3f5f\"}},\"annotationdefaults\":{\"arrowcolor\":\"#2a3f5f\",\"arrowhead\":0,\"arrowwidth\":1},\"geo\":{\"bgcolor\":\"white\",\"landcolor\":\"#E5ECF6\",\"subunitcolor\":\"white\",\"showland\":true,\"showlakes\":true,\"lakecolor\":\"white\"},\"title\":{\"x\":0.05},\"mapbox\":{\"style\":\"light\"}}},\"xaxis\":{\"anchor\":\"y\",\"domain\":[0.0,1.0],\"title\":{\"text\":\"PC1\"}},\"yaxis\":{\"anchor\":\"x\",\"domain\":[0.0,1.0],\"title\":{\"text\":\"PC2\"}},\"legend\":{\"title\":{\"text\":\"color\"},\"tracegroupgap\":0},\"margin\":{\"t\":60}},                        {\"responsive\": true}                    ).then(function(){\n",
       "                            \n",
       "var gd = document.getElementById('ee1c430c-cc53-4f15-8c8c-368c54e0d975');\n",
       "var x = new MutationObserver(function (mutations, observer) {{\n",
       "        var display = window.getComputedStyle(gd).display;\n",
       "        if (!display || display === 'none') {{\n",
       "            console.log([gd, 'removed!']);\n",
       "            Plotly.purge(gd);\n",
       "            observer.disconnect();\n",
       "        }}\n",
       "}});\n",
       "\n",
       "// Listen for the removal of the full notebook cells\n",
       "var notebookContainer = gd.closest('#notebook-container');\n",
       "if (notebookContainer) {{\n",
       "    x.observe(notebookContainer, {childList: true});\n",
       "}}\n",
       "\n",
       "// Listen for the clearing of the current output cell\n",
       "var outputEl = gd.closest('.output');\n",
       "if (outputEl) {{\n",
       "    x.observe(outputEl, {childList: true});\n",
       "}}\n",
       "\n",
       "                        })                };                });            </script>        </div>"
      ]
     },
     "metadata": {},
     "output_type": "display_data"
    }
   ],
   "source": [
    "fig = px.scatter(data_frame=df_pca, x='PC1', y='PC2', color=df_pred.pred, hover_data=[df.index])\n",
    "\n",
    "fig.update_traces(hovertemplate = hover)"
   ]
  },
  {
   "cell_type": "markdown",
   "metadata": {},
   "source": [
    "### PCA & Clustering Interpretation"
   ]
  },
  {
   "cell_type": "code",
   "execution_count": null,
   "metadata": {},
   "outputs": [],
   "source": []
  },
  {
   "cell_type": "markdown",
   "metadata": {},
   "source": [
    "## Relationship between Original Variables & Components\n",
    "\n",
    "- [ ] What do the columns PC1 & PC2 have to do with the original variables (speeding, alcohol, total,...)?"
   ]
  },
  {
   "cell_type": "markdown",
   "metadata": {},
   "source": [
    "### Loading Vectors"
   ]
  },
  {
   "cell_type": "code",
   "execution_count": 74,
   "metadata": {},
   "outputs": [
    {
     "data": {
      "text/html": [
       "<div>\n",
       "<style scoped>\n",
       "    .dataframe tbody tr th:only-of-type {\n",
       "        vertical-align: middle;\n",
       "    }\n",
       "\n",
       "    .dataframe tbody tr th {\n",
       "        vertical-align: top;\n",
       "    }\n",
       "\n",
       "    .dataframe thead th {\n",
       "        text-align: right;\n",
       "    }\n",
       "</style>\n",
       "<table border=\"1\" class=\"dataframe\">\n",
       "  <thead>\n",
       "    <tr style=\"text-align: right;\">\n",
       "      <th></th>\n",
       "      <th>PC1</th>\n",
       "      <th>PC2</th>\n",
       "      <th>PC3</th>\n",
       "      <th>PC4</th>\n",
       "      <th>PC5</th>\n",
       "      <th>PC6</th>\n",
       "      <th>PC7</th>\n",
       "      <th>PC8</th>\n",
       "      <th>PC9</th>\n",
       "    </tr>\n",
       "  </thead>\n",
       "  <tbody>\n",
       "    <tr>\n",
       "      <th>mpg</th>\n",
       "      <td>-0.374705</td>\n",
       "      <td>-0.046189</td>\n",
       "      <td>-0.257296</td>\n",
       "      <td>-0.199342</td>\n",
       "      <td>0.031205</td>\n",
       "      <td>0.755299</td>\n",
       "      <td>0.354683</td>\n",
       "      <td>-0.195030</td>\n",
       "      <td>-0.127427</td>\n",
       "    </tr>\n",
       "    <tr>\n",
       "      <th>cylinders</th>\n",
       "      <td>0.390297</td>\n",
       "      <td>0.020630</td>\n",
       "      <td>-0.163054</td>\n",
       "      <td>0.222610</td>\n",
       "      <td>-0.000059</td>\n",
       "      <td>0.472667</td>\n",
       "      <td>-0.549276</td>\n",
       "      <td>0.314814</td>\n",
       "      <td>-0.383243</td>\n",
       "    </tr>\n",
       "    <tr>\n",
       "      <th>displacement</th>\n",
       "      <td>0.404817</td>\n",
       "      <td>0.014770</td>\n",
       "      <td>-0.150779</td>\n",
       "      <td>0.153581</td>\n",
       "      <td>-0.009156</td>\n",
       "      <td>0.297809</td>\n",
       "      <td>0.004035</td>\n",
       "      <td>-0.121299</td>\n",
       "      <td>0.828299</td>\n",
       "    </tr>\n",
       "    <tr>\n",
       "      <th>horsepower</th>\n",
       "      <td>0.385138</td>\n",
       "      <td>0.233024</td>\n",
       "      <td>-0.156907</td>\n",
       "      <td>-0.007860</td>\n",
       "      <td>0.169984</td>\n",
       "      <td>-0.055093</td>\n",
       "      <td>0.667713</td>\n",
       "      <td>0.528806</td>\n",
       "      <td>-0.123615</td>\n",
       "    </tr>\n",
       "    <tr>\n",
       "      <th>weight</th>\n",
       "      <td>0.390189</td>\n",
       "      <td>-0.040777</td>\n",
       "      <td>-0.136605</td>\n",
       "      <td>0.342554</td>\n",
       "      <td>0.205570</td>\n",
       "      <td>-0.106440</td>\n",
       "      <td>0.196891</td>\n",
       "      <td>-0.707468</td>\n",
       "      <td>-0.342374</td>\n",
       "    </tr>\n",
       "    <tr>\n",
       "      <th>acceleration</th>\n",
       "      <td>-0.249862</td>\n",
       "      <td>-0.447718</td>\n",
       "      <td>0.279268</td>\n",
       "      <td>0.743318</td>\n",
       "      <td>0.005795</td>\n",
       "      <td>0.103036</td>\n",
       "      <td>0.213376</td>\n",
       "      <td>0.221399</td>\n",
       "      <td>0.037513</td>\n",
       "    </tr>\n",
       "    <tr>\n",
       "      <th>model_year</th>\n",
       "      <td>-0.201926</td>\n",
       "      <td>-0.346888</td>\n",
       "      <td>-0.826340</td>\n",
       "      <td>0.063921</td>\n",
       "      <td>0.175107</td>\n",
       "      <td>-0.294713</td>\n",
       "      <td>-0.113877</td>\n",
       "      <td>0.128827</td>\n",
       "      <td>0.069917</td>\n",
       "    </tr>\n",
       "    <tr>\n",
       "      <th>origin_japan</th>\n",
       "      <td>-0.228405</td>\n",
       "      <td>0.607000</td>\n",
       "      <td>-0.276675</td>\n",
       "      <td>0.411797</td>\n",
       "      <td>-0.570073</td>\n",
       "      <td>-0.068650</td>\n",
       "      <td>0.033738</td>\n",
       "      <td>-0.047016</td>\n",
       "      <td>-0.014582</td>\n",
       "    </tr>\n",
       "    <tr>\n",
       "      <th>origin_usa</th>\n",
       "      <td>0.295694</td>\n",
       "      <td>-0.502024</td>\n",
       "      <td>-0.061804</td>\n",
       "      <td>-0.208639</td>\n",
       "      <td>-0.756379</td>\n",
       "      <td>-0.029489</td>\n",
       "      <td>0.168039</td>\n",
       "      <td>-0.013082</td>\n",
       "      <td>-0.108621</td>\n",
       "    </tr>\n",
       "  </tbody>\n",
       "</table>\n",
       "</div>"
      ],
      "text/plain": [
       "                   PC1       PC2       PC3       PC4       PC5       PC6  \\\n",
       "mpg          -0.374705 -0.046189 -0.257296 -0.199342  0.031205  0.755299   \n",
       "cylinders     0.390297  0.020630 -0.163054  0.222610 -0.000059  0.472667   \n",
       "displacement  0.404817  0.014770 -0.150779  0.153581 -0.009156  0.297809   \n",
       "horsepower    0.385138  0.233024 -0.156907 -0.007860  0.169984 -0.055093   \n",
       "weight        0.390189 -0.040777 -0.136605  0.342554  0.205570 -0.106440   \n",
       "acceleration -0.249862 -0.447718  0.279268  0.743318  0.005795  0.103036   \n",
       "model_year   -0.201926 -0.346888 -0.826340  0.063921  0.175107 -0.294713   \n",
       "origin_japan -0.228405  0.607000 -0.276675  0.411797 -0.570073 -0.068650   \n",
       "origin_usa    0.295694 -0.502024 -0.061804 -0.208639 -0.756379 -0.029489   \n",
       "\n",
       "                   PC7       PC8       PC9  \n",
       "mpg           0.354683 -0.195030 -0.127427  \n",
       "cylinders    -0.549276  0.314814 -0.383243  \n",
       "displacement  0.004035 -0.121299  0.828299  \n",
       "horsepower    0.667713  0.528806 -0.123615  \n",
       "weight        0.196891 -0.707468 -0.342374  \n",
       "acceleration  0.213376  0.221399  0.037513  \n",
       "model_year   -0.113877  0.128827  0.069917  \n",
       "origin_japan  0.033738 -0.047016 -0.014582  \n",
       "origin_usa    0.168039 -0.013082 -0.108621  "
      ]
     },
     "execution_count": 74,
     "metadata": {},
     "output_type": "execute_result"
    }
   ],
   "source": [
    "pd.DataFrame(pca.components_.T, columns=df_pca.columns, index=df_norm.columns)"
   ]
  },
  {
   "cell_type": "code",
   "execution_count": 75,
   "metadata": {},
   "outputs": [],
   "source": [
    "weights = pd.DataFrame(pca.components_.T, columns=df_pca.columns, index=df_norm.columns)"
   ]
  },
  {
   "cell_type": "code",
   "execution_count": 76,
   "metadata": {},
   "outputs": [
    {
     "data": {
      "text/html": [
       "<style type=\"text/css\">\n",
       "#T_8a835_row0_col0 {\n",
       "  background-color: darkred;\n",
       "  opacity: 3%;\n",
       "  color: white;\n",
       "}\n",
       "#T_8a835_row0_col1, #T_8a835_row4_col1, #T_8a835_row7_col7 {\n",
       "  background-color: darkred;\n",
       "  opacity: 36%;\n",
       "  color: white;\n",
       "}\n",
       "#T_8a835_row0_col2 {\n",
       "  background-color: darkred;\n",
       "  opacity: 15%;\n",
       "  color: white;\n",
       "}\n",
       "#T_8a835_row0_col3, #T_8a835_row0_col7 {\n",
       "  background-color: darkred;\n",
       "  opacity: 21%;\n",
       "  color: white;\n",
       "}\n",
       "#T_8a835_row0_col4, #T_8a835_row5_col8, #T_8a835_row7_col6 {\n",
       "  background-color: darkred;\n",
       "  opacity: 43%;\n",
       "  color: white;\n",
       "}\n",
       "#T_8a835_row0_col5 {\n",
       "  background-color: darkred;\n",
       "  opacity: 115%;\n",
       "  color: white;\n",
       "}\n",
       "#T_8a835_row0_col6 {\n",
       "  background-color: darkred;\n",
       "  opacity: 75%;\n",
       "  color: white;\n",
       "}\n",
       "#T_8a835_row0_col8, #T_8a835_row2_col7, #T_8a835_row3_col8 {\n",
       "  background-color: darkred;\n",
       "  opacity: 28%;\n",
       "  color: white;\n",
       "}\n",
       "#T_8a835_row1_col0, #T_8a835_row4_col0 {\n",
       "  background-color: darkred;\n",
       "  opacity: 79%;\n",
       "  color: white;\n",
       "}\n",
       "#T_8a835_row1_col1 {\n",
       "  background-color: darkred;\n",
       "  opacity: 42%;\n",
       "  color: white;\n",
       "}\n",
       "#T_8a835_row1_col2 {\n",
       "  background-color: darkred;\n",
       "  opacity: 24%;\n",
       "  color: white;\n",
       "}\n",
       "#T_8a835_row1_col3, #T_8a835_row5_col7 {\n",
       "  background-color: darkred;\n",
       "  opacity: 62%;\n",
       "  color: white;\n",
       "}\n",
       "#T_8a835_row1_col4, #T_8a835_row2_col4, #T_8a835_row2_col6, #T_8a835_row3_col3, #T_8a835_row5_col4 {\n",
       "  background-color: darkred;\n",
       "  opacity: 40%;\n",
       "  color: white;\n",
       "}\n",
       "#T_8a835_row1_col5 {\n",
       "  background-color: darkred;\n",
       "  opacity: 87%;\n",
       "  color: white;\n",
       "}\n",
       "#T_8a835_row1_col6 {\n",
       "  background-color: darkred;\n",
       "  opacity: -14%;\n",
       "  color: white;\n",
       "}\n",
       "#T_8a835_row1_col7 {\n",
       "  background-color: darkred;\n",
       "  opacity: 71%;\n",
       "  color: white;\n",
       "}\n",
       "#T_8a835_row1_col8 {\n",
       "  background-color: darkred;\n",
       "  opacity: 2%;\n",
       "  color: white;\n",
       "}\n",
       "#T_8a835_row2_col0 {\n",
       "  background-color: darkred;\n",
       "  opacity: 80%;\n",
       "  color: white;\n",
       "}\n",
       "#T_8a835_row2_col1 {\n",
       "  background-color: darkred;\n",
       "  opacity: 41%;\n",
       "  color: white;\n",
       "}\n",
       "#T_8a835_row2_col2, #T_8a835_row3_col2 {\n",
       "  background-color: darkred;\n",
       "  opacity: 25%;\n",
       "  color: white;\n",
       "}\n",
       "#T_8a835_row2_col3 {\n",
       "  background-color: darkred;\n",
       "  opacity: 55%;\n",
       "  color: white;\n",
       "}\n",
       "#T_8a835_row2_col5, #T_8a835_row8_col0 {\n",
       "  background-color: darkred;\n",
       "  opacity: 69%;\n",
       "  color: white;\n",
       "}\n",
       "#T_8a835_row2_col8 {\n",
       "  background-color: darkred;\n",
       "  opacity: 122%;\n",
       "  color: white;\n",
       "}\n",
       "#T_8a835_row3_col0 {\n",
       "  background-color: darkred;\n",
       "  opacity: 78%;\n",
       "  color: white;\n",
       "}\n",
       "#T_8a835_row3_col1 {\n",
       "  background-color: darkred;\n",
       "  opacity: 63%;\n",
       "  color: white;\n",
       "}\n",
       "#T_8a835_row3_col4, #T_8a835_row8_col6 {\n",
       "  background-color: darkred;\n",
       "  opacity: 56%;\n",
       "  color: white;\n",
       "}\n",
       "#T_8a835_row3_col5 {\n",
       "  background-color: darkred;\n",
       "  opacity: 35%;\n",
       "  color: white;\n",
       "}\n",
       "#T_8a835_row3_col6 {\n",
       "  background-color: darkred;\n",
       "  opacity: 106%;\n",
       "  color: white;\n",
       "}\n",
       "#T_8a835_row3_col7 {\n",
       "  background-color: darkred;\n",
       "  opacity: 92%;\n",
       "  color: white;\n",
       "}\n",
       "#T_8a835_row4_col2 {\n",
       "  background-color: darkred;\n",
       "  opacity: 27%;\n",
       "  color: white;\n",
       "}\n",
       "#T_8a835_row4_col3 {\n",
       "  background-color: darkred;\n",
       "  opacity: 74%;\n",
       "  color: white;\n",
       "}\n",
       "#T_8a835_row4_col4 {\n",
       "  background-color: darkred;\n",
       "  opacity: 60%;\n",
       "  color: white;\n",
       "}\n",
       "#T_8a835_row4_col5, #T_8a835_row8_col8 {\n",
       "  background-color: darkred;\n",
       "  opacity: 30%;\n",
       "  color: white;\n",
       "}\n",
       "#T_8a835_row4_col6 {\n",
       "  background-color: darkred;\n",
       "  opacity: 59%;\n",
       "  color: white;\n",
       "}\n",
       "#T_8a835_row4_col7 {\n",
       "  background-color: darkred;\n",
       "  opacity: -30%;\n",
       "  color: white;\n",
       "}\n",
       "#T_8a835_row4_col8, #T_8a835_row6_col1 {\n",
       "  background-color: darkred;\n",
       "  opacity: 6%;\n",
       "  color: white;\n",
       "}\n",
       "#T_8a835_row5_col0 {\n",
       "  background-color: darkred;\n",
       "  opacity: 16%;\n",
       "  color: white;\n",
       "}\n",
       "#T_8a835_row5_col1 {\n",
       "  background-color: darkred;\n",
       "  opacity: -4%;\n",
       "  color: white;\n",
       "}\n",
       "#T_8a835_row5_col2 {\n",
       "  background-color: darkred;\n",
       "  opacity: 67%;\n",
       "  color: white;\n",
       "}\n",
       "#T_8a835_row5_col3 {\n",
       "  background-color: darkred;\n",
       "  opacity: 114%;\n",
       "  color: white;\n",
       "}\n",
       "#T_8a835_row5_col5 {\n",
       "  background-color: darkred;\n",
       "  opacity: 50%;\n",
       "  color: white;\n",
       "}\n",
       "#T_8a835_row5_col6 {\n",
       "  background-color: darkred;\n",
       "  opacity: 61%;\n",
       "  color: white;\n",
       "}\n",
       "#T_8a835_row6_col0, #T_8a835_row8_col3 {\n",
       "  background-color: darkred;\n",
       "  opacity: 20%;\n",
       "  color: white;\n",
       "}\n",
       "#T_8a835_row6_col2 {\n",
       "  background-color: darkred;\n",
       "  opacity: -42%;\n",
       "  color: white;\n",
       "}\n",
       "#T_8a835_row6_col3, #T_8a835_row6_col8 {\n",
       "  background-color: darkred;\n",
       "  opacity: 46%;\n",
       "  color: white;\n",
       "}\n",
       "#T_8a835_row6_col4 {\n",
       "  background-color: darkred;\n",
       "  opacity: 57%;\n",
       "  color: white;\n",
       "}\n",
       "#T_8a835_row6_col5 {\n",
       "  background-color: darkred;\n",
       "  opacity: 11%;\n",
       "  color: white;\n",
       "}\n",
       "#T_8a835_row6_col6 {\n",
       "  background-color: darkred;\n",
       "  opacity: 29%;\n",
       "  color: white;\n",
       "}\n",
       "#T_8a835_row6_col7 {\n",
       "  background-color: darkred;\n",
       "  opacity: 52%;\n",
       "  color: white;\n",
       "}\n",
       "#T_8a835_row7_col0 {\n",
       "  background-color: darkred;\n",
       "  opacity: 18%;\n",
       "  color: white;\n",
       "}\n",
       "#T_8a835_row7_col1 {\n",
       "  background-color: darkred;\n",
       "  opacity: 100%;\n",
       "  color: white;\n",
       "}\n",
       "#T_8a835_row7_col2 {\n",
       "  background-color: darkred;\n",
       "  opacity: 13%;\n",
       "  color: white;\n",
       "}\n",
       "#T_8a835_row7_col3 {\n",
       "  background-color: darkred;\n",
       "  opacity: 81%;\n",
       "  color: white;\n",
       "}\n",
       "#T_8a835_row7_col4 {\n",
       "  background-color: darkred;\n",
       "  opacity: -17%;\n",
       "  color: white;\n",
       "}\n",
       "#T_8a835_row7_col5, #T_8a835_row8_col2 {\n",
       "  background-color: darkred;\n",
       "  opacity: 34%;\n",
       "  color: white;\n",
       "}\n",
       "#T_8a835_row7_col8, #T_8a835_row8_col7 {\n",
       "  background-color: darkred;\n",
       "  opacity: 39%;\n",
       "  color: white;\n",
       "}\n",
       "#T_8a835_row8_col1 {\n",
       "  background-color: darkred;\n",
       "  opacity: -10%;\n",
       "  color: white;\n",
       "}\n",
       "#T_8a835_row8_col4 {\n",
       "  background-color: darkred;\n",
       "  opacity: -35%;\n",
       "  color: white;\n",
       "}\n",
       "#T_8a835_row8_col5 {\n",
       "  background-color: darkred;\n",
       "  opacity: 38%;\n",
       "  color: white;\n",
       "}\n",
       "</style>\n",
       "<table id=\"T_8a835\">\n",
       "  <thead>\n",
       "    <tr>\n",
       "      <th class=\"blank level0\" >&nbsp;</th>\n",
       "      <th id=\"T_8a835_level0_col0\" class=\"col_heading level0 col0\" >PC1</th>\n",
       "      <th id=\"T_8a835_level0_col1\" class=\"col_heading level0 col1\" >PC2</th>\n",
       "      <th id=\"T_8a835_level0_col2\" class=\"col_heading level0 col2\" >PC3</th>\n",
       "      <th id=\"T_8a835_level0_col3\" class=\"col_heading level0 col3\" >PC4</th>\n",
       "      <th id=\"T_8a835_level0_col4\" class=\"col_heading level0 col4\" >PC5</th>\n",
       "      <th id=\"T_8a835_level0_col5\" class=\"col_heading level0 col5\" >PC6</th>\n",
       "      <th id=\"T_8a835_level0_col6\" class=\"col_heading level0 col6\" >PC7</th>\n",
       "      <th id=\"T_8a835_level0_col7\" class=\"col_heading level0 col7\" >PC8</th>\n",
       "      <th id=\"T_8a835_level0_col8\" class=\"col_heading level0 col8\" >PC9</th>\n",
       "    </tr>\n",
       "  </thead>\n",
       "  <tbody>\n",
       "    <tr>\n",
       "      <th id=\"T_8a835_level0_row0\" class=\"row_heading level0 row0\" >mpg</th>\n",
       "      <td id=\"T_8a835_row0_col0\" class=\"data row0 col0\" >-0.374705</td>\n",
       "      <td id=\"T_8a835_row0_col1\" class=\"data row0 col1\" >-0.046189</td>\n",
       "      <td id=\"T_8a835_row0_col2\" class=\"data row0 col2\" >-0.257296</td>\n",
       "      <td id=\"T_8a835_row0_col3\" class=\"data row0 col3\" >-0.199342</td>\n",
       "      <td id=\"T_8a835_row0_col4\" class=\"data row0 col4\" >0.031205</td>\n",
       "      <td id=\"T_8a835_row0_col5\" class=\"data row0 col5\" >0.755299</td>\n",
       "      <td id=\"T_8a835_row0_col6\" class=\"data row0 col6\" >0.354683</td>\n",
       "      <td id=\"T_8a835_row0_col7\" class=\"data row0 col7\" >-0.195030</td>\n",
       "      <td id=\"T_8a835_row0_col8\" class=\"data row0 col8\" >-0.127427</td>\n",
       "    </tr>\n",
       "    <tr>\n",
       "      <th id=\"T_8a835_level0_row1\" class=\"row_heading level0 row1\" >cylinders</th>\n",
       "      <td id=\"T_8a835_row1_col0\" class=\"data row1 col0\" >0.390297</td>\n",
       "      <td id=\"T_8a835_row1_col1\" class=\"data row1 col1\" >0.020630</td>\n",
       "      <td id=\"T_8a835_row1_col2\" class=\"data row1 col2\" >-0.163054</td>\n",
       "      <td id=\"T_8a835_row1_col3\" class=\"data row1 col3\" >0.222610</td>\n",
       "      <td id=\"T_8a835_row1_col4\" class=\"data row1 col4\" >-0.000059</td>\n",
       "      <td id=\"T_8a835_row1_col5\" class=\"data row1 col5\" >0.472667</td>\n",
       "      <td id=\"T_8a835_row1_col6\" class=\"data row1 col6\" >-0.549276</td>\n",
       "      <td id=\"T_8a835_row1_col7\" class=\"data row1 col7\" >0.314814</td>\n",
       "      <td id=\"T_8a835_row1_col8\" class=\"data row1 col8\" >-0.383243</td>\n",
       "    </tr>\n",
       "    <tr>\n",
       "      <th id=\"T_8a835_level0_row2\" class=\"row_heading level0 row2\" >displacement</th>\n",
       "      <td id=\"T_8a835_row2_col0\" class=\"data row2 col0\" >0.404817</td>\n",
       "      <td id=\"T_8a835_row2_col1\" class=\"data row2 col1\" >0.014770</td>\n",
       "      <td id=\"T_8a835_row2_col2\" class=\"data row2 col2\" >-0.150779</td>\n",
       "      <td id=\"T_8a835_row2_col3\" class=\"data row2 col3\" >0.153581</td>\n",
       "      <td id=\"T_8a835_row2_col4\" class=\"data row2 col4\" >-0.009156</td>\n",
       "      <td id=\"T_8a835_row2_col5\" class=\"data row2 col5\" >0.297809</td>\n",
       "      <td id=\"T_8a835_row2_col6\" class=\"data row2 col6\" >0.004035</td>\n",
       "      <td id=\"T_8a835_row2_col7\" class=\"data row2 col7\" >-0.121299</td>\n",
       "      <td id=\"T_8a835_row2_col8\" class=\"data row2 col8\" >0.828299</td>\n",
       "    </tr>\n",
       "    <tr>\n",
       "      <th id=\"T_8a835_level0_row3\" class=\"row_heading level0 row3\" >horsepower</th>\n",
       "      <td id=\"T_8a835_row3_col0\" class=\"data row3 col0\" >0.385138</td>\n",
       "      <td id=\"T_8a835_row3_col1\" class=\"data row3 col1\" >0.233024</td>\n",
       "      <td id=\"T_8a835_row3_col2\" class=\"data row3 col2\" >-0.156907</td>\n",
       "      <td id=\"T_8a835_row3_col3\" class=\"data row3 col3\" >-0.007860</td>\n",
       "      <td id=\"T_8a835_row3_col4\" class=\"data row3 col4\" >0.169984</td>\n",
       "      <td id=\"T_8a835_row3_col5\" class=\"data row3 col5\" >-0.055093</td>\n",
       "      <td id=\"T_8a835_row3_col6\" class=\"data row3 col6\" >0.667713</td>\n",
       "      <td id=\"T_8a835_row3_col7\" class=\"data row3 col7\" >0.528806</td>\n",
       "      <td id=\"T_8a835_row3_col8\" class=\"data row3 col8\" >-0.123615</td>\n",
       "    </tr>\n",
       "    <tr>\n",
       "      <th id=\"T_8a835_level0_row4\" class=\"row_heading level0 row4\" >weight</th>\n",
       "      <td id=\"T_8a835_row4_col0\" class=\"data row4 col0\" >0.390189</td>\n",
       "      <td id=\"T_8a835_row4_col1\" class=\"data row4 col1\" >-0.040777</td>\n",
       "      <td id=\"T_8a835_row4_col2\" class=\"data row4 col2\" >-0.136605</td>\n",
       "      <td id=\"T_8a835_row4_col3\" class=\"data row4 col3\" >0.342554</td>\n",
       "      <td id=\"T_8a835_row4_col4\" class=\"data row4 col4\" >0.205570</td>\n",
       "      <td id=\"T_8a835_row4_col5\" class=\"data row4 col5\" >-0.106440</td>\n",
       "      <td id=\"T_8a835_row4_col6\" class=\"data row4 col6\" >0.196891</td>\n",
       "      <td id=\"T_8a835_row4_col7\" class=\"data row4 col7\" >-0.707468</td>\n",
       "      <td id=\"T_8a835_row4_col8\" class=\"data row4 col8\" >-0.342374</td>\n",
       "    </tr>\n",
       "    <tr>\n",
       "      <th id=\"T_8a835_level0_row5\" class=\"row_heading level0 row5\" >acceleration</th>\n",
       "      <td id=\"T_8a835_row5_col0\" class=\"data row5 col0\" >-0.249862</td>\n",
       "      <td id=\"T_8a835_row5_col1\" class=\"data row5 col1\" >-0.447718</td>\n",
       "      <td id=\"T_8a835_row5_col2\" class=\"data row5 col2\" >0.279268</td>\n",
       "      <td id=\"T_8a835_row5_col3\" class=\"data row5 col3\" >0.743318</td>\n",
       "      <td id=\"T_8a835_row5_col4\" class=\"data row5 col4\" >0.005795</td>\n",
       "      <td id=\"T_8a835_row5_col5\" class=\"data row5 col5\" >0.103036</td>\n",
       "      <td id=\"T_8a835_row5_col6\" class=\"data row5 col6\" >0.213376</td>\n",
       "      <td id=\"T_8a835_row5_col7\" class=\"data row5 col7\" >0.221399</td>\n",
       "      <td id=\"T_8a835_row5_col8\" class=\"data row5 col8\" >0.037513</td>\n",
       "    </tr>\n",
       "    <tr>\n",
       "      <th id=\"T_8a835_level0_row6\" class=\"row_heading level0 row6\" >model_year</th>\n",
       "      <td id=\"T_8a835_row6_col0\" class=\"data row6 col0\" >-0.201926</td>\n",
       "      <td id=\"T_8a835_row6_col1\" class=\"data row6 col1\" >-0.346888</td>\n",
       "      <td id=\"T_8a835_row6_col2\" class=\"data row6 col2\" >-0.826340</td>\n",
       "      <td id=\"T_8a835_row6_col3\" class=\"data row6 col3\" >0.063921</td>\n",
       "      <td id=\"T_8a835_row6_col4\" class=\"data row6 col4\" >0.175107</td>\n",
       "      <td id=\"T_8a835_row6_col5\" class=\"data row6 col5\" >-0.294713</td>\n",
       "      <td id=\"T_8a835_row6_col6\" class=\"data row6 col6\" >-0.113877</td>\n",
       "      <td id=\"T_8a835_row6_col7\" class=\"data row6 col7\" >0.128827</td>\n",
       "      <td id=\"T_8a835_row6_col8\" class=\"data row6 col8\" >0.069917</td>\n",
       "    </tr>\n",
       "    <tr>\n",
       "      <th id=\"T_8a835_level0_row7\" class=\"row_heading level0 row7\" >origin_japan</th>\n",
       "      <td id=\"T_8a835_row7_col0\" class=\"data row7 col0\" >-0.228405</td>\n",
       "      <td id=\"T_8a835_row7_col1\" class=\"data row7 col1\" >0.607000</td>\n",
       "      <td id=\"T_8a835_row7_col2\" class=\"data row7 col2\" >-0.276675</td>\n",
       "      <td id=\"T_8a835_row7_col3\" class=\"data row7 col3\" >0.411797</td>\n",
       "      <td id=\"T_8a835_row7_col4\" class=\"data row7 col4\" >-0.570073</td>\n",
       "      <td id=\"T_8a835_row7_col5\" class=\"data row7 col5\" >-0.068650</td>\n",
       "      <td id=\"T_8a835_row7_col6\" class=\"data row7 col6\" >0.033738</td>\n",
       "      <td id=\"T_8a835_row7_col7\" class=\"data row7 col7\" >-0.047016</td>\n",
       "      <td id=\"T_8a835_row7_col8\" class=\"data row7 col8\" >-0.014582</td>\n",
       "    </tr>\n",
       "    <tr>\n",
       "      <th id=\"T_8a835_level0_row8\" class=\"row_heading level0 row8\" >origin_usa</th>\n",
       "      <td id=\"T_8a835_row8_col0\" class=\"data row8 col0\" >0.295694</td>\n",
       "      <td id=\"T_8a835_row8_col1\" class=\"data row8 col1\" >-0.502024</td>\n",
       "      <td id=\"T_8a835_row8_col2\" class=\"data row8 col2\" >-0.061804</td>\n",
       "      <td id=\"T_8a835_row8_col3\" class=\"data row8 col3\" >-0.208639</td>\n",
       "      <td id=\"T_8a835_row8_col4\" class=\"data row8 col4\" >-0.756379</td>\n",
       "      <td id=\"T_8a835_row8_col5\" class=\"data row8 col5\" >-0.029489</td>\n",
       "      <td id=\"T_8a835_row8_col6\" class=\"data row8 col6\" >0.168039</td>\n",
       "      <td id=\"T_8a835_row8_col7\" class=\"data row8 col7\" >-0.013082</td>\n",
       "      <td id=\"T_8a835_row8_col8\" class=\"data row8 col8\" >-0.108621</td>\n",
       "    </tr>\n",
       "  </tbody>\n",
       "</table>\n"
      ],
      "text/plain": [
       "<pandas.io.formats.style.Styler at 0x1650ba2e0>"
      ]
     },
     "execution_count": 76,
     "metadata": {},
     "output_type": "execute_result"
    }
   ],
   "source": [
    "weights.style.applymap(lambda v: f'background-color: darkred; opacity: {int(v*100)+40}%;')\\\n",
    "        .applymap(lambda v: f'color: white')"
   ]
  },
  {
   "cell_type": "markdown",
   "metadata": {},
   "source": [
    "### Correlation Matrix"
   ]
  },
  {
   "cell_type": "code",
   "execution_count": 77,
   "metadata": {},
   "outputs": [],
   "source": [
    "df_corr = df_norm.corr()"
   ]
  },
  {
   "cell_type": "code",
   "execution_count": 78,
   "metadata": {},
   "outputs": [
    {
     "data": {
      "image/png": "[encoded data removed]",
      "text/plain": [
       "<Figure size 432x288 with 2 Axes>"
      ]
     },
     "metadata": {
      "needs_background": "light"
     },
     "output_type": "display_data"
    }
   ],
   "source": [
    "sns.heatmap(df_corr, annot=True, vmin=0, vmax=1);"
   ]
  },
  {
   "cell_type": "markdown",
   "metadata": {},
   "source": [
    "- [ ] Which conclusions could you relate from the relationship of the 2 previous plots?"
   ]
  },
  {
   "cell_type": "markdown",
   "metadata": {},
   "source": [
    "### Calculating One PCA Value"
   ]
  },
  {
   "cell_type": "code",
   "execution_count": 80,
   "metadata": {},
   "outputs": [
    {
     "data": {
      "text/html": [
       "<style type=\"text/css\">\n",
       "#T_3216c_row0_col0 {\n",
       "  background-color: darkred;\n",
       "  color: white;\n",
       "}\n",
       "</style>\n",
       "<table id=\"T_3216c\">\n",
       "  <thead>\n",
       "    <tr>\n",
       "      <th class=\"blank level0\" >&nbsp;</th>\n",
       "      <th id=\"T_3216c_level0_col0\" class=\"col_heading level0 col0\" >PC1</th>\n",
       "      <th id=\"T_3216c_level0_col1\" class=\"col_heading level0 col1\" >PC2</th>\n",
       "      <th id=\"T_3216c_level0_col2\" class=\"col_heading level0 col2\" >PC3</th>\n",
       "      <th id=\"T_3216c_level0_col3\" class=\"col_heading level0 col3\" >PC4</th>\n",
       "      <th id=\"T_3216c_level0_col4\" class=\"col_heading level0 col4\" >PC5</th>\n",
       "      <th id=\"T_3216c_level0_col5\" class=\"col_heading level0 col5\" >PC6</th>\n",
       "      <th id=\"T_3216c_level0_col6\" class=\"col_heading level0 col6\" >PC7</th>\n",
       "      <th id=\"T_3216c_level0_col7\" class=\"col_heading level0 col7\" >PC8</th>\n",
       "      <th id=\"T_3216c_level0_col8\" class=\"col_heading level0 col8\" >PC9</th>\n",
       "    </tr>\n",
       "    <tr>\n",
       "      <th class=\"index_name level0\" >name</th>\n",
       "      <th class=\"blank col0\" >&nbsp;</th>\n",
       "      <th class=\"blank col1\" >&nbsp;</th>\n",
       "      <th class=\"blank col2\" >&nbsp;</th>\n",
       "      <th class=\"blank col3\" >&nbsp;</th>\n",
       "      <th class=\"blank col4\" >&nbsp;</th>\n",
       "      <th class=\"blank col5\" >&nbsp;</th>\n",
       "      <th class=\"blank col6\" >&nbsp;</th>\n",
       "      <th class=\"blank col7\" >&nbsp;</th>\n",
       "      <th class=\"blank col8\" >&nbsp;</th>\n",
       "    </tr>\n",
       "  </thead>\n",
       "  <tbody>\n",
       "    <tr>\n",
       "      <th id=\"T_3216c_level0_row0\" class=\"row_heading level0 row0\" >chevrolet chevelle malibu</th>\n",
       "      <td id=\"T_3216c_row0_col0\" class=\"data row0 col0\" >2.768102</td>\n",
       "      <td id=\"T_3216c_row0_col1\" class=\"data row0 col1\" >0.653669</td>\n",
       "      <td id=\"T_3216c_row0_col2\" class=\"data row0 col2\" >0.661643</td>\n",
       "      <td id=\"T_3216c_row0_col3\" class=\"data row0 col3\" >-0.585333</td>\n",
       "      <td id=\"T_3216c_row0_col4\" class=\"data row0 col4\" >-0.382837</td>\n",
       "      <td id=\"T_3216c_row0_col5\" class=\"data row0 col5\" >0.750140</td>\n",
       "      <td id=\"T_3216c_row0_col6\" class=\"data row0 col6\" >-0.468860</td>\n",
       "      <td id=\"T_3216c_row0_col7\" class=\"data row0 col7\" >-0.095520</td>\n",
       "      <td id=\"T_3216c_row0_col8\" class=\"data row0 col8\" >-0.120586</td>\n",
       "    </tr>\n",
       "    <tr>\n",
       "      <th id=\"T_3216c_level0_row1\" class=\"row_heading level0 row1\" >buick skylark 320</th>\n",
       "      <td id=\"T_3216c_row1_col0\" class=\"data row1 col0\" >3.561796</td>\n",
       "      <td id=\"T_3216c_row1_col1\" class=\"data row1 col1\" >0.961842</td>\n",
       "      <td id=\"T_3216c_row1_col2\" class=\"data row1 col2\" >0.474659</td>\n",
       "      <td id=\"T_3216c_row1_col3\" class=\"data row1 col3\" >-0.511149</td>\n",
       "      <td id=\"T_3216c_row1_col4\" class=\"data row1 col4\" >-0.199102</td>\n",
       "      <td id=\"T_3216c_row1_col5\" class=\"data row1 col5\" >0.489416</td>\n",
       "      <td id=\"T_3216c_row1_col6\" class=\"data row1 col6\" >0.009370</td>\n",
       "      <td id=\"T_3216c_row1_col7\" class=\"data row1 col7\" >0.213293</td>\n",
       "      <td id=\"T_3216c_row1_col8\" class=\"data row1 col8\" >0.073620</td>\n",
       "    </tr>\n",
       "    <tr>\n",
       "      <th id=\"T_3216c_level0_row2\" class=\"row_heading level0 row2\" >plymouth satellite</th>\n",
       "      <td id=\"T_3216c_row2_col0\" class=\"data row2 col0\" >3.070489</td>\n",
       "      <td id=\"T_3216c_row2_col1\" class=\"data row2 col1\" >0.942217</td>\n",
       "      <td id=\"T_3216c_row2_col2\" class=\"data row2 col2\" >0.473735</td>\n",
       "      <td id=\"T_3216c_row2_col3\" class=\"data row2 col3\" >-0.870489</td>\n",
       "      <td id=\"T_3216c_row2_col4\" class=\"data row2 col4\" >-0.313946</td>\n",
       "      <td id=\"T_3216c_row2_col5\" class=\"data row2 col5\" >0.723960</td>\n",
       "      <td id=\"T_3216c_row2_col6\" class=\"data row2 col6\" >-0.214271</td>\n",
       "      <td id=\"T_3216c_row2_col7\" class=\"data row2 col7\" >0.143188</td>\n",
       "      <td id=\"T_3216c_row2_col8\" class=\"data row2 col8\" >-0.083888</td>\n",
       "    </tr>\n",
       "    <tr>\n",
       "      <th id=\"T_3216c_level0_row3\" class=\"row_heading level0 row3\" >amc rebel sst</th>\n",
       "      <td id=\"T_3216c_row3_col0\" class=\"data row3 col0\" >3.020337</td>\n",
       "      <td id=\"T_3216c_row3_col1\" class=\"data row3 col1\" >0.789743</td>\n",
       "      <td id=\"T_3216c_row3_col2\" class=\"data row3 col2\" >0.661786</td>\n",
       "      <td id=\"T_3216c_row3_col3\" class=\"data row3 col3\" >-0.571355</td>\n",
       "      <td id=\"T_3216c_row3_col4\" class=\"data row3 col4\" >-0.319349</td>\n",
       "      <td id=\"T_3216c_row3_col5\" class=\"data row3 col5\" >0.528048</td>\n",
       "      <td id=\"T_3216c_row3_col6\" class=\"data row3 col6\" >-0.229069</td>\n",
       "      <td id=\"T_3216c_row3_col7\" class=\"data row3 col7\" >0.292331</td>\n",
       "      <td id=\"T_3216c_row3_col8\" class=\"data row3 col8\" >-0.147325</td>\n",
       "    </tr>\n",
       "    <tr>\n",
       "      <th id=\"T_3216c_level0_row4\" class=\"row_heading level0 row4\" >ford torino</th>\n",
       "      <td id=\"T_3216c_row4_col0\" class=\"data row4 col0\" >3.007717</td>\n",
       "      <td id=\"T_3216c_row4_col1\" class=\"data row4 col1\" >0.965885</td>\n",
       "      <td id=\"T_3216c_row4_col2\" class=\"data row4 col2\" >0.517871</td>\n",
       "      <td id=\"T_3216c_row4_col3\" class=\"data row4 col3\" >-0.996022</td>\n",
       "      <td id=\"T_3216c_row4_col4\" class=\"data row4 col4\" >-0.358667</td>\n",
       "      <td id=\"T_3216c_row4_col5\" class=\"data row4 col5\" >0.575475</td>\n",
       "      <td id=\"T_3216c_row4_col6\" class=\"data row4 col6\" >-0.469787</td>\n",
       "      <td id=\"T_3216c_row4_col7\" class=\"data row4 col7\" >-0.001799</td>\n",
       "      <td id=\"T_3216c_row4_col8\" class=\"data row4 col8\" >-0.174247</td>\n",
       "    </tr>\n",
       "  </tbody>\n",
       "</table>\n"
      ],
      "text/plain": [
       "<pandas.io.formats.style.Styler at 0x165334b80>"
      ]
     },
     "execution_count": 80,
     "metadata": {},
     "output_type": "execute_result"
    }
   ],
   "source": [
    "df_pca.head().style.applymap(lambda x: f'background-color: darkred; color: white' if round(x,2)==2.77 else False)"
   ]
  },
  {
   "cell_type": "code",
   "execution_count": 84,
   "metadata": {},
   "outputs": [
    {
     "data": {
      "text/plain": [
       "mpg            -0.698638\n",
       "cylinders       1.483947\n",
       "displacement    1.077290\n",
       "horsepower      0.664133\n",
       "weight          0.620540\n",
       "acceleration   -1.285258\n",
       "model_year     -1.625315\n",
       "origin_japan   -0.502390\n",
       "origin_usa      0.774597\n",
       "Name: chevrolet chevelle malibu, dtype: float64"
      ]
     },
     "execution_count": 84,
     "metadata": {},
     "output_type": "execute_result"
    }
   ],
   "source": [
    "df_norm.loc['chevrolet chevelle malibu', :].iloc[0]"
   ]
  },
  {
   "cell_type": "markdown",
   "metadata": {},
   "source": [
    "- [ ] How did we obtain `2.77` for **chevrolet chevelle malibu** in **PC1**?"
   ]
  },
  {
   "cell_type": "code",
   "execution_count": 85,
   "metadata": {},
   "outputs": [
    {
     "data": {
      "text/plain": [
       "mpg            -0.374705\n",
       "cylinders       0.390297\n",
       "displacement    0.404817\n",
       "horsepower      0.385138\n",
       "weight          0.390189\n",
       "acceleration   -0.249862\n",
       "model_year     -0.201926\n",
       "origin_japan   -0.228405\n",
       "origin_usa      0.295694\n",
       "Name: PC1, dtype: float64"
      ]
     },
     "execution_count": 85,
     "metadata": {},
     "output_type": "execute_result"
    }
   ],
   "source": [
    "weights.PC1"
   ]
  },
  {
   "cell_type": "code",
   "execution_count": 87,
   "metadata": {},
   "outputs": [
    {
     "data": {
      "text/plain": [
       "mpg            -0.698638\n",
       "cylinders       1.483947\n",
       "displacement    1.077290\n",
       "horsepower      0.664133\n",
       "weight          0.620540\n",
       "acceleration   -1.285258\n",
       "model_year     -1.625315\n",
       "origin_japan   -0.502390\n",
       "origin_usa      0.774597\n",
       "Name: chevrolet chevelle malibu, dtype: float64"
      ]
     },
     "execution_count": 87,
     "metadata": {},
     "output_type": "execute_result"
    }
   ],
   "source": [
    "df_norm.loc['chevrolet chevelle malibu', :].iloc[0]"
   ]
  },
  {
   "cell_type": "code",
   "execution_count": 89,
   "metadata": {},
   "outputs": [
    {
     "data": {
      "text/plain": [
       "2.7681015408712186"
      ]
     },
     "execution_count": 89,
     "metadata": {},
     "output_type": "execute_result"
    }
   ],
   "source": [
    "(weights.PC1*df_norm.loc['chevrolet chevelle malibu', :].iloc[0]).sum()"
   ]
  },
  {
   "cell_type": "markdown",
   "metadata": {},
   "source": [
    "## Explained Variance Ratio"
   ]
  },
  {
   "cell_type": "markdown",
   "metadata": {},
   "source": [
    "- You don't get the excellent plot below for free\n",
    "- You lost something when representing 7 original variables into 2 Principal Components\n",
    "- This loss is measured by the `pca.explained_variance_ratio_`\n",
    "- **PC1 explains 57.34%** of the original variability\n",
    "- Whereas **PC2 explains 22.54%** of the original variability"
   ]
  },
  {
   "cell_type": "code",
   "execution_count": 90,
   "metadata": {},
   "outputs": [
    {
     "data": {
      "text/plain": [
       "array([0.6292, 0.1317, 0.0971, 0.0666, 0.0336, 0.0202, 0.0123, 0.0059,\n",
       "       0.0034])"
      ]
     },
     "execution_count": 90,
     "metadata": {},
     "output_type": "execute_result"
    }
   ],
   "source": [
    "pca.explained_variance_ratio_.round(4)"
   ]
  },
  {
   "cell_type": "code",
   "execution_count": 91,
   "metadata": {},
   "outputs": [],
   "source": [
    "evr = pca.explained_variance_ratio_.round(2)"
   ]
  },
  {
   "cell_type": "markdown",
   "metadata": {},
   "source": [
    "### Biplot"
   ]
  },
  {
   "cell_type": "code",
   "execution_count": 92,
   "metadata": {},
   "outputs": [
    {
     "data": {
      "application/vnd.plotly.v1+json": {
       "config": {
        "plotlyServerURL": "https://plot.ly"
       },
       "data": [
        {
         "hovertemplate": "<b>%{hovertext}</b><br><br>color=1<br>PC1 ~ 0.63%=%{x}<br>PC2 ~ 0.13%=%{y}<extra></extra>",
         "hovertext": [
          "chevrolet chevelle malibu",
          "buick skylark 320",
          "plymouth satellite",
          "amc rebel sst",
          "ford torino",
          "ford galaxie 500",
          "chevrolet impala",
          "plymouth fury iii",
          "pontiac catalina",
          "amc ambassador dpl",
          "dodge challenger se",
          "plymouth 'cuda 340",
          "chevrolet monte carlo",
          "buick estate wagon (sw)",
          "ford f250",
          "chevy c20",
          "dodge d200",
          "hi 1200d",
          "chevrolet impala",
          "pontiac catalina brougham",
          "ford galaxie 500",
          "plymouth fury iii",
          "dodge monaco (sw)",
          "ford country squire (sw)",
          "pontiac safari (sw)",
          "chevrolet impala",
          "pontiac catalina",
          "plymouth fury iii",
          "ford galaxie 500",
          "amc ambassador sst",
          "mercury marquis",
          "buick lesabre custom",
          "oldsmobile delta 88 royale",
          "chrysler newport royal",
          "amc matador (sw)",
          "chevrolet chevelle concours (sw)",
          "ford gran torino (sw)",
          "plymouth satellite custom (sw)",
          "buick century 350",
          "amc matador",
          "chevrolet malibu",
          "ford gran torino",
          "dodge coronet custom",
          "mercury marquis brougham",
          "chevrolet caprice classic",
          "ford ltd",
          "plymouth fury gran sedan",
          "chrysler new yorker brougham",
          "buick electra 225 custom",
          "amc ambassador brougham",
          "chevrolet impala",
          "ford country",
          "plymouth custom suburb",
          "oldsmobile vista cruiser",
          "chevrolet monte carlo s",
          "pontiac grand prix",
          "dodge dart custom",
          "oldsmobile omega",
          "ford gran torino",
          "buick century luxus (sw)",
          "dodge coronet custom (sw)",
          "ford gran torino (sw)",
          "amc matador (sw)",
          "pontiac catalina",
          "chevrolet bel air",
          "plymouth grand fury",
          "ford ltd",
          "ford mustang ii",
          "chevrolet chevelle malibu classic",
          "dodge coronet brougham",
          "amc matador",
          "ford gran torino",
          "plymouth volare premier v8",
          "cadillac seville",
          "chevy c10",
          "ford f108",
          "dodge d100",
          "chevrolet caprice classic",
          "dodge monaco brougham",
          "mercury cougar brougham",
          "pontiac grand prix lj",
          "chevrolet monte carlo landau",
          "chrysler cordoba",
          "ford thunderbird",
          "dodge diplomat",
          "mercury monarch ghia",
          "chevrolet monte carlo landau",
          "ford futura",
          "dodge magnum xe",
          "ford ltd landau",
          "mercury grand marquis",
          "buick estate wagon (sw)",
          "ford country squire (sw)",
          "chrysler lebaron town @ country (sw)"
         ],
         "legendgroup": "1",
         "marker": {
          "color": "#636efa",
          "symbol": "circle"
         },
         "mode": "markers",
         "name": "1",
         "orientation": "v",
         "showlegend": true,
         "type": "scatter",
         "x": [
          2.7681015408712164,
          3.5617956121137864,
          3.070488709648948,
          3.020336929873964,
          3.007717109083676,
          4.632490431458015,
          5.094469429700944,
          5.016170883199183,
          5.090410338149973,
          4.311461998206058,
          3.8159430065972657,
          3.7997906445666954,
          3.817831087801163,
          4.474529595624321,
          4.539184109214651,
          3.982998541349347,
          4.216507495361387,
          3.795671755644882,
          3.7469755307411186,
          4.203465298813926,
          3.469303293081093,
          3.330087048340598,
          4.509687361981959,
          4.285807745344449,
          4.517123646681601,
          3.7700567820514754,
          4.066901911248673,
          3.1997288007521285,
          3.44826026308093,
          3.0177670685735385,
          4.8588089689217355,
          3.638715895270489,
          3.7157209067479138,
          4.236928551522717,
          3.1244138609937004,
          2.990526928281098,
          2.9801321348754595,
          3.175779631805891,
          3.6446429006767413,
          3.1070904723215786,
          3.292567830344468,
          2.867236257481445,
          3.070861881342403,
          4.7570516542955525,
          3.845955853909781,
          3.599167373108371,
          3.1491456672903984,
          4.86743840278331,
          5.1731470584018835,
          3.736415343261145,
          4.0058860471718045,
          4.2223019060262645,
          3.8880996463395476,
          3.971669592337553,
          3.239664394511149,
          4.644395444945269,
          3.033022730745101,
          3.7717003042158956,
          2.8371444666867793,
          3.4787800717914106,
          3.286133168478004,
          2.980516253129594,
          2.958548083744806,
          3.931521616937016,
          3.203874783789331,
          3.0632838207807236,
          3.431025654813888,
          2.5505510377939413,
          2.791608842396015,
          3.00275606228804,
          2.4855180308359435,
          3.2523574799124377,
          3.013839490368153,
          3.5722380568002947,
          3.249411082462731,
          2.55606493053406,
          2.856201479678187,
          2.6780728692684352,
          2.8353363230094213,
          2.609589610978266,
          3.7521501976652263,
          3.4298229470206043,
          3.824916023414912,
          2.9963455292088734,
          2.4019451841723463,
          2.251875846060634,
          2.268711187642097,
          2.330030634535996,
          2.606620854589842,
          2.2386682110746827,
          2.695438735406616,
          2.8747761749764242,
          2.729367640272802,
          2.765621824280495
         ],
         "xaxis": "x",
         "y": [
          0.6536686698172071,
          0.9618424410466487,
          0.9422170408259068,
          0.7897426311564679,
          0.9658848801234092,
          1.385631719999815,
          1.6903140188207062,
          1.7412913094917406,
          1.5548599921028232,
          1.598964465108217,
          1.2468001591473175,
          1.5088024728722176,
          1.199696570885709,
          1.6192235455454063,
          0.8454218116774044,
          0.5960032585264775,
          0.8956975398278176,
          -0.026758099262876547,
          0.7674314988142188,
          0.9041029397038356,
          0.4537395827492973,
          0.5149241805420595,
          0.9202583268148082,
          0.7849191070376172,
          0.796288694506755,
          0.6759449061474156,
          0.7323671916642901,
          0.331590875683777,
          0.4418991678282276,
          0.6649990397872672,
          1.1048484639522411,
          0.3606317247155089,
          0.39907688558927756,
          0.7461942188215562,
          0.5037839493161859,
          0.14118617392479435,
          -0.13330685508830092,
          0.2590588173626154,
          0.48814719505064996,
          0.5884878687200877,
          0.3116796908835475,
          0.004144671501016487,
          0.417002742138472,
          0.8474389601999857,
          0.48866500666293683,
          0.3725975468908916,
          0.07583472781987553,
          1.0377934014973909,
          1.0960730681762758,
          0.8279535841508692,
          0.14991348963541984,
          0.49514775295894453,
          0.4326220505001586,
          0.586447441946689,
          0.29531028642370355,
          1.3709932540772949,
          0.6789091257072577,
          0.8762465612864413,
          -0.0073220829036060595,
          -0.03021257132599469,
          0.13346307381914665,
          -0.34434313844947,
          -0.18388386867439382,
          0.47498693921649143,
          -0.07296449089240974,
          -0.13713736908746957,
          0.022102115547088654,
          0.221192497275406,
          -0.045427645545212336,
          0.027116591313185112,
          -0.2890327266151595,
          0.08408849515691887,
          0.024411945754209165,
          0.34763637895606514,
          0.18808722427223057,
          -0.38820244081533467,
          -0.09668822523783949,
          -0.012058337355935695,
          -0.2058571273586707,
          -0.4985210116511962,
          0.43355976125361334,
          0.3227355948485547,
          0.31335225240818787,
          -0.3192754389696682,
          -0.25284949264435774,
          -0.19298511612063735,
          -0.20829191232438768,
          0.096989007234508,
          -0.33942016611914366,
          -0.4374287499266186,
          -0.34798790138248376,
          -0.5431528659134545,
          -0.5013144880885337,
          -0.25260724736872897
         ],
         "yaxis": "y"
        },
        {
         "hovertemplate": "<b>%{hovertext}</b><br><br>color=4<br>PC1 ~ 0.63%=%{x}<br>PC2 ~ 0.13%=%{y}<extra></extra>",
         "hovertext": [
          "toyota corona mark ii",
          "datsun pl510",
          "datsun pl510",
          "toyota corona",
          "toyota corolla 1200",
          "datsun 1200",
          "toyota corona hardtop",
          "mazda rx2 coupe",
          "datsun 510 (sw)",
          "toyouta corona mark ii (sw)",
          "toyota corolla 1600 (sw)",
          "toyota carina",
          "datsun 610",
          "maxda rx3",
          "toyota mark ii",
          "datsun b210",
          "toyota corolla 1200",
          "toyota corona",
          "datsun 710",
          "honda civic",
          "subaru",
          "toyota corolla",
          "toyota corona",
          "datsun 710",
          "honda civic cvcc",
          "honda civic",
          "datsun b-210",
          "toyota corolla",
          "toyota mark ii",
          "honda accord cvcc",
          "datsun f-10 hatchback",
          "toyota corolla liftback",
          "subaru dl",
          "datsun 810",
          "mazda rx-4",
          "mazda glc deluxe",
          "datsun b210 gx",
          "honda civic cvcc",
          "toyota corona",
          "datsun 510",
          "toyota celica gt liftback",
          "datsun 200-sx",
          "honda accord lx",
          "maxda glc deluxe",
          "datsun 210",
          "toyota corolla tercel",
          "datsun 310",
          "toyota corona liftback",
          "mazda 626",
          "datsun 510 hatchback",
          "toyota corolla",
          "mazda glc",
          "datsun 210",
          "honda civic 1500 gl",
          "subaru dl",
          "datsun 280-zx",
          "mazda rx-7 gs",
          "honda accord",
          "toyota starlet",
          "honda civic 1300",
          "subaru",
          "datsun 210 mpg",
          "toyota tercel",
          "mazda glc 4",
          "honda prelude",
          "toyota corolla",
          "datsun 200sx",
          "mazda 626",
          "toyota cressida",
          "datsun 810 maxima",
          "mazda glc custom l",
          "mazda glc custom",
          "nissan stanza xe",
          "honda accord",
          "toyota corolla",
          "honda civic",
          "honda civic (auto)",
          "datsun 310 gx",
          "toyota celica gt"
         ],
         "legendgroup": "4",
         "marker": {
          "color": "#EF553B",
          "symbol": "circle"
         },
         "mode": "markers",
         "name": "4",
         "orientation": "v",
         "showlegend": true,
         "type": "scatter",
         "x": [
          -1.5117090900327215,
          -1.8539919546004489,
          -1.908877464644297,
          -1.5902151179477666,
          -3.0045718962677705,
          -3.1358124895217996,
          -1.7100573238164947,
          -1.6400477727138776,
          -2.125791803000295,
          -1.419283473035756,
          -2.158927141710039,
          -2.021699976229095,
          -1.7424167430360995,
          -1.8117452012346846,
          -0.25271862326126815,
          -3.0367912438032882,
          -3.369686347068875,
          -3.1104314483765876,
          -3.1051013923247313,
          -1.6302847523868467,
          -1.9033972560896095,
          -2.471967394462308,
          -1.406965794244076,
          -1.844651695460547,
          -3.216864874146908,
          -3.262682109457127,
          -2.9415714142040246,
          -2.5224156574296863,
          -0.634357799386637,
          -3.0528310144505344,
          -3.071122840200575,
          -2.5937957048699833,
          -2.831782260486328,
          -0.9446043305140465,
          -1.6862893981364526,
          -3.517186753637528,
          -3.5153536911181718,
          -3.358355808126505,
          -1.8786763636182606,
          -2.0672499056163005,
          -1.646138337788013,
          -1.8784612966897807,
          -2.7978840116461727,
          -3.0970644526989792,
          -3.332410726355694,
          -3.71237905267835,
          -3.3895470843522713,
          -2.1975351428076597,
          -2.733246069789846,
          -2.66376746961377,
          -2.7418276873257907,
          -3.9355698291115946,
          -3.778526960727177,
          -3.5478151473592248,
          -3.250602891295811,
          -0.8629241876038133,
          -2.142924384264842,
          -2.9371011292583074,
          -3.7997794902812863,
          -3.5048707066863973,
          -3.252043854574706,
          -3.730978421673931,
          -3.5542588803310147,
          -3.2253588101360737,
          -2.8254424824464306,
          -2.9123232823706684,
          -2.3400295843284895,
          -2.8423414523620996,
          -0.8406188760179013,
          -0.9230973863763244,
          -3.600750084519429,
          -3.2832201745076834,
          -2.8423565624032507,
          -3.0022562131892436,
          -3.1515771788756375,
          -3.39625094323582,
          -3.171311038787437,
          -3.4912715676900077,
          -2.190278328734009
         ],
         "xaxis": "x",
         "y": [
          2.4471909246719767,
          2.4775993611600198,
          2.383311724206213,
          2.51639067035686,
          1.5024668600328177,
          1.6733350185849467,
          2.18188856529598,
          2.527935225539339,
          1.8935230537163383,
          2.3524581840441954,
          1.965484087805208,
          1.4978430688673705,
          1.925337638064027,
          2.4070432245337496,
          2.6048191608440834,
          1.2243498672423432,
          0.8856681022677223,
          1.553696451680665,
          1.1800718271176744,
          2.077529071203567,
          1.9632005460381217,
          1.6698006875200249,
          2.2126562698007817,
          1.6554262284028407,
          1.2862304277594807,
          1.2081918933397702,
          1.3719414937804537,
          1.5172112230505588,
          1.9121234022159745,
          1.0239501322415003,
          1.3034269058035908,
          1.1370031965468463,
          1.3707505892730225,
          1.8999861664070445,
          2.1031520853300596,
          0.6787877294030378,
          0.8756864935144066,
          1.205930225976819,
          1.796074434773594,
          1.7391078639633542,
          1.7386660236458897,
          1.7211165920489648,
          1.2459202669891274,
          1.339672727204684,
          0.7010328466416623,
          0.6071673746916844,
          1.0299118366146427,
          1.3450653525099465,
          0.9264144764088809,
          1.4069658046904314,
          1.306429920338315,
          0.726101483413159,
          0.5490896583238455,
          1.4294934837114013,
          0.7976942411578929,
          2.2681450755834964,
          1.9221343212010014,
          0.9932328252320104,
          0.8123890882804263,
          0.9782495843906752,
          0.7486385121748196,
          0.4513099036477733,
          0.7671682752999867,
          1.0395156964581576,
          1.3357493051173794,
          0.9468857332815264,
          1.409264143629791,
          0.6898243083623782,
          1.9256176724975613,
          1.757434622564922,
          0.5686411517508979,
          0.704332459325693,
          1.2946267712714088,
          1.2118242836555158,
          0.8016068642905744,
          1.0795093412788312,
          1.0013185553134158,
          0.883078059634975,
          1.4434342837483978
         ],
         "yaxis": "y"
        },
        {
         "hovertemplate": "<b>%{hovertext}</b><br><br>color=3<br>PC1 ~ 0.63%=%{x}<br>PC2 ~ 0.13%=%{y}<extra></extra>",
         "hovertext": [
          "plymouth duster",
          "amc hornet",
          "ford maverick",
          "amc gremlin",
          "amc gremlin",
          "plymouth satellite custom",
          "chevrolet chevelle malibu",
          "ford torino 500",
          "amc matador",
          "amc hornet sportabout (sw)",
          "pontiac firebird",
          "ford mustang",
          "plymouth valiant",
          "chevrolet nova custom",
          "amc hornet",
          "ford maverick",
          "plymouth duster",
          "amc gremlin",
          "mercury capri v6",
          "plymouth duster",
          "amc hornet",
          "chevrolet nova",
          "chevrolet chevelle malibu classic",
          "amc matador",
          "plymouth satellite sebring",
          "plymouth valiant custom",
          "chevrolet nova",
          "mercury monarch",
          "ford maverick",
          "buick century",
          "chevroelt chevelle malibu",
          "amc matador",
          "plymouth fury",
          "buick skyhawk",
          "chevrolet monza 2+2",
          "amc gremlin",
          "ford pinto",
          "amc pacer",
          "plymouth valiant",
          "chevrolet nova",
          "ford maverick",
          "amc hornet",
          "dodge aspen se",
          "ford granada ghia",
          "pontiac ventura sj",
          "amc pacer d/l",
          "mercedes-benz 280s",
          "oldsmobile cutlass supreme",
          "chevrolet concours",
          "buick skylark",
          "plymouth volare custom",
          "ford granada",
          "oldsmobile cutlass salon brougham",
          "pontiac phoenix lj",
          "chevrolet malibu",
          "ford fairmont (auto)",
          "plymouth volare",
          "amc concord",
          "buick century special",
          "mercury zephyr",
          "dodge aspen",
          "amc concord d/l",
          "buick regal sport coupe (turbo)",
          "volvo 264gl",
          "peugeot 604sl",
          "pontiac lemans v6",
          "mercury zephyr 6",
          "amc concord dl 6",
          "dodge aspen 6",
          "chevrolet caprice classic",
          "dodge st. regis",
          "chevrolet malibu classic (sw)",
          "cadillac eldorado",
          "oldsmobile cutlass salon brougham",
          "dodge aspen",
          "buick century",
          "oldsmobile cutlass ls",
          "ford granada gl",
          "chrysler lebaron salon",
          "ford granada l"
         ],
         "legendgroup": "3",
         "marker": {
          "color": "#00cc96",
          "symbol": "circle"
         },
         "mode": "markers",
         "name": "3",
         "orientation": "v",
         "showlegend": true,
         "type": "scatter",
         "x": [
          0.7187417879547207,
          0.9077937459259199,
          0.5158811834731747,
          0.680841108992828,
          1.1250318471951033,
          1.4357773846369302,
          1.3838557788447652,
          1.1550736871112066,
          1.2472056740007094,
          1.479522233419897,
          1.3114399566376744,
          1.2188532859466843,
          0.9929184144486706,
          1.0719897853531268,
          0.9343284597173933,
          0.8734419932790236,
          0.49333110411785364,
          0.9532581108370884,
          0.5258002203078571,
          0.6283843717034159,
          0.8111352589638801,
          1.1825340937849131,
          1.3391447623695298,
          1.3111029652716857,
          1.1643311309340392,
          0.8460061259987726,
          1.1807903117335456,
          0.5285506541454444,
          0.5385469010258636,
          0.9580039831033653,
          1.251683335554514,
          1.2586800088300436,
          0.8616644650541556,
          0.9105803287575277,
          1.7566640632710424,
          0.7141595356741183,
          0.7121827673582914,
          0.7079666068953857,
          0.7371560602862699,
          1.0208950620039172,
          0.052673335043212574,
          0.3724732918253318,
          0.8169865186749327,
          0.4548819514755422,
          1.219378539638839,
          0.7951634522625579,
          0.5224477201626694,
          1.6705027965101815,
          1.1369316499361048,
          0.7799964874419743,
          0.8005115759171744,
          0.7351626368981574,
          1.4739357093847074,
          0.6296263197820992,
          0.2627714167270266,
          0.3072526345358651,
          0.6268718336499042,
          0.5054857163793575,
          0.7993570271509526,
          0.245091732397538,
          0.7697582918910975,
          1.251671152963614,
          1.7874147479698725,
          0.387714528702438,
          0.43100558655647814,
          0.7755745919635842,
          0.06545527968165908,
          0.3467593146285248,
          0.6895787816978687,
          2.1606784576243667,
          2.2169802029298316,
          1.7858239323350569,
          1.8427048456742507,
          0.4441214551759366,
          0.325649678525173,
          0.6143669376342975,
          1.1339251266639312,
          0.09846033132955344,
          0.5218453395458187,
          0.43559676794770585
         ],
         "xaxis": "x",
         "y": [
          -0.15828156352214953,
          -0.11947883791083191,
          -0.28211116908869827,
          -0.09238511376686814,
          0.21611405288567895,
          -0.18171284238132954,
          -0.20912618199585042,
          -0.2924197779863707,
          -0.21562473875452343,
          0.189319137080218,
          -0.13747243298207745,
          -0.11616811897461321,
          -0.529344375799715,
          -0.795552043527966,
          -0.4689580728824217,
          -0.6240533753742731,
          -0.5317283302717353,
          -0.29896838112097196,
          -0.10746632603088874,
          -0.6990025521584823,
          -0.5670561899875276,
          -0.7242111322323822,
          -0.7515270475094645,
          -0.8451082214662821,
          -0.6472816530027747,
          -0.7100904572545197,
          -0.6493880927758364,
          -1.6428051858037682,
          -1.3858979131819795,
          -1.4498290332825279,
          -1.0648186268972466,
          -1.1006720958322218,
          -1.2166816677579826,
          -0.4568614866946748,
          -0.1873474670233381,
          -0.6678942044385838,
          -0.4424774894012843,
          -0.899353102410972,
          -0.6928612982628415,
          -0.5185458985377346,
          -1.1702749780167583,
          -1.1058179495846308,
          -1.0748322598262539,
          -1.7253247653998267,
          -0.7577688697491397,
          -1.0798970879027625,
          0.2504297519066319,
          -1.2924589330040817,
          -0.872620676330967,
          -1.0000698840072764,
          -1.1621849722868869,
          -1.3740036375627858,
          -0.8018043780174894,
          -1.465671265221679,
          -1.3576155588286551,
          -1.0173435143052088,
          -1.1745016546154583,
          -1.2170363454176407,
          -0.9140468650968541,
          -1.17218790961088,
          -1.3554957013485198,
          -0.6921900887398434,
          -0.14630660737665313,
          0.624902302945568,
          0.3076776202155115,
          -0.8815647470873945,
          -1.500441125988014,
          -1.4811991592124716,
          -1.1079053849765808,
          -0.7578976865132758,
          -0.6998836165203434,
          -0.7303202057284283,
          -1.1452656197464413,
          -2.1323617079415116,
          -1.6567794861407232,
          -1.1789495215790733,
          -1.727980435801069,
          -1.4978261374754498,
          -1.4352940074107383,
          -1.0519824410009893
         ],
         "yaxis": "y"
        },
        {
         "hovertemplate": "<b>%{hovertext}</b><br><br>color=0<br>PC1 ~ 0.63%=%{x}<br>PC2 ~ 0.13%=%{y}<extra></extra>",
         "hovertext": [
          "volkswagen 1131 deluxe sedan",
          "peugeot 504",
          "audi 100 ls",
          "saab 99e",
          "bmw 2002",
          "opel 1900",
          "peugeot 304",
          "fiat 124b",
          "volkswagen model 111",
          "volkswagen type 3",
          "volvo 145e (sw)",
          "volkswagen 411 (sw)",
          "peugeot 504 (sw)",
          "renault 12 (sw)",
          "volkswagen super beetle",
          "fiat 124 sport coupe",
          "fiat 128",
          "opel manta",
          "audi 100ls",
          "volvo 144ea",
          "saab 99le",
          "audi fox",
          "volkswagen dasher",
          "opel manta",
          "fiat 128",
          "fiat 124 tc",
          "fiat x1.9",
          "volkswagen dasher",
          "volkswagen rabbit",
          "audi 100ls",
          "peugeot 504",
          "volvo 244dl",
          "saab 99le",
          "fiat 131",
          "opel 1900",
          "renault 12tl",
          "vw rabbit",
          "volkswagen rabbit",
          "volvo 245",
          "peugeot 504",
          "renault 5 gtl",
          "volkswagen rabbit custom",
          "volkswagen dasher",
          "bmw 320i",
          "volkswagen rabbit custom diesel",
          "audi 5000",
          "saab 99gle",
          "volkswagen scirocco",
          "vw rabbit custom",
          "mercedes benz 300d",
          "peugeot 504",
          "fiat strada custom",
          "vw rabbit",
          "audi 4000",
          "vw rabbit c (diesel)",
          "vw dasher (diesel)",
          "audi 5000s (diesel)",
          "mercedes-benz 240d",
          "vokswagen rabbit",
          "triumph tr7 coupe",
          "volkswagen jetta",
          "peugeot 505s turbo diesel",
          "volvo diesel",
          "volkswagen rabbit l",
          "vw pickup"
         ],
         "legendgroup": "0",
         "marker": {
          "color": "#ab63fa",
          "symbol": "circle"
         },
         "mode": "markers",
         "name": "0",
         "orientation": "v",
         "showlegend": true,
         "type": "scatter",
         "x": [
          -2.337105206283633,
          -1.1708840167191017,
          -0.9436398046030889,
          -1.2505822929287727,
          -0.6639071167898437,
          -1.2518077657249247,
          -2.212931357517503,
          -1.668684076477318,
          -2.164234843114468,
          -2.3018447569371903,
          -0.25899612992853505,
          -1.3234376539824428,
          -1.0898009652878244,
          -1.8307891304318464,
          -2.494208199410835,
          -1.4058721965382135,
          -2.622843658548153,
          -1.439505917467648,
          -0.7636302480116363,
          -0.48253114866286395,
          -0.7025633473933525,
          -1.7869380049213197,
          -1.9036894369634672,
          -1.4780739790055177,
          -1.6180991767383148,
          -1.41403047681027,
          -2.172360637720561,
          -1.798916831629219,
          -1.9060545256379355,
          -1.0128297554612462,
          -1.1239902617662971,
          -0.7506730887270658,
          -0.7599097807329924,
          -1.580350338848345,
          -1.6905586702330206,
          -1.6879493197806332,
          -1.9790765851490388,
          -1.8361280647836742,
          -0.6490118810553862,
          -1.28697653385724,
          -2.983800764019151,
          -1.9525234911210585,
          -1.8733659128379714,
          -0.7207093406373252,
          -3.6269463662439403,
          -0.695533668926192,
          -0.9035970736629215,
          -2.241976761227779,
          -2.264372777264805,
          -1.1135382824302182,
          -2.2345552088695233,
          -2.505426232479257,
          -2.6585199479274357,
          -2.375767649067532,
          -3.7665419268178377,
          -3.789655811108303,
          -2.2861687926791623,
          -2.145097488283883,
          -2.463164086858156,
          -2.005409102516999,
          -2.2312373122176052,
          -1.8800185769476299,
          -1.5310304021608687,
          -2.626673464568641,
          -4.036985123492385
         ],
         "xaxis": "x",
         "y": [
          -0.2450064260787917,
          0.4585260711910373,
          0.9813183200997944,
          0.5204480644827104,
          1.4452685859181136,
          0.9606031680114531,
          -0.06905627550622384,
          0.7814736347329189,
          -0.01657106962420729,
          -0.8749253158047606,
          0.939453671187172,
          0.14909658748123084,
          -0.044673027916019604,
          0.0949075568871982,
          -0.6146427126770778,
          0.5307727526886278,
          -0.3706063088715237,
          0.4593853364457373,
          0.80314747226034,
          0.6798739646054089,
          0.8918578705591216,
          0.21599683190812463,
          0.30889734286910614,
          0.5244119569310551,
          0.3638266371841464,
          0.5927532432904618,
          0.19624585719810791,
          0.07134780157944984,
          0.4615592601169084,
          0.45330919699044686,
          0.0739598569596533,
          0.547448109665024,
          0.8083823955920549,
          0.2035183721731599,
          -0.023500505318289854,
          0.23550290661439569,
          0.3347734180949112,
          0.6692273711638206,
          0.28568696014592154,
          -0.8078772508648092,
          -0.5848645457913646,
          0.2410771949995371,
          0.2851682785700181,
          0.7273943771946536,
          -1.259200531325035,
          0.09653040860969636,
          0.1822254118819092,
          0.02101346023857066,
          0.07372199498194677,
          -0.8943427673573787,
          -1.7067888138103409,
          -0.09371413654340603,
          -0.17014056180083154,
          -0.2963500954117692,
          -1.4921914341045233,
          -1.8238576386430332,
          -1.0628121949929996,
          -1.3566190360184742,
          -0.2700703274682406,
          -0.13760134367887725,
          -0.1461613054177587,
          -1.133103902330347,
          -1.0146147579305842,
          -0.42687117749026776,
          -2.127140006794788
         ],
         "yaxis": "y"
        },
        {
         "hovertemplate": "<b>%{hovertext}</b><br><br>color=2<br>PC1 ~ 0.63%=%{x}<br>PC2 ~ 0.13%=%{y}<extra></extra>",
         "hovertext": [
          "chevrolet vega 2300",
          "chevrolet vega (sw)",
          "mercury capri 2000",
          "plymouth cricket",
          "dodge colt hardtop",
          "chevrolet vega",
          "ford pinto runabout",
          "ford pinto (sw)",
          "dodge colt (sw)",
          "chevrolet vega",
          "ford pinto",
          "ford pinto",
          "chevrolet vega",
          "dodge colt",
          "ford pinto",
          "pontiac astro",
          "capri ii",
          "dodge colt",
          "chevrolet chevette",
          "chevrolet woody",
          "ford pinto",
          "buick opel isuzu deluxe",
          "plymouth arrow gs",
          "pontiac sunbird coupe",
          "ford mustang ii 2+2",
          "chevrolet chevette",
          "dodge colt m/m",
          "ford fiesta",
          "ford fairmont (man)",
          "chevrolet chevette",
          "dodge omni",
          "plymouth sapporo",
          "oldsmobile starfire sx",
          "ford fairmont 4",
          "dodge colt hatchback custom",
          "amc spirit dl",
          "plymouth horizon",
          "plymouth horizon tc3",
          "buick skylark limited",
          "chevrolet citation",
          "oldsmobile omega brougham",
          "pontiac phoenix",
          "chevrolet chevette",
          "chevrolet citation",
          "ford fairmont",
          "amc concord",
          "dodge colt",
          "plymouth reliant",
          "buick skylark",
          "dodge aries wagon (sw)",
          "chevrolet citation",
          "plymouth reliant",
          "plymouth champ",
          "plymouth horizon 4",
          "ford escort 4w",
          "ford escort 2h",
          "chevrolet cavalier",
          "chevrolet cavalier wagon",
          "chevrolet cavalier 2-door",
          "pontiac j2000 se hatchback",
          "dodge aries se",
          "pontiac phoenix",
          "ford fairmont futura",
          "plymouth horizon miser",
          "mercury lynx l",
          "buick century limited",
          "oldsmobile cutlass ciera (diesel)",
          "chrysler lebaron medallion",
          "dodge charger 2.2",
          "chevrolet camaro",
          "ford mustang gl",
          "dodge rampage",
          "ford ranger",
          "chevy s-10"
         ],
         "legendgroup": "2",
         "marker": {
          "color": "#FFA15A",
          "symbol": "circle"
         },
         "mode": "markers",
         "name": "2",
         "orientation": "v",
         "showlegend": true,
         "type": "scatter",
         "x": [
          -0.619231158427669,
          -0.7623053353808523,
          -0.3728938521711006,
          -1.5088048394367777,
          -0.9942144973557244,
          -0.5860569270947422,
          -0.5555872202245111,
          -0.4805829635857066,
          -0.9376428681278565,
          -0.8725677814209032,
          -0.6670813340646509,
          -0.8623283927242302,
          -0.7981152121151963,
          -1.1010918070259363,
          -0.6320963985296503,
          -0.8398317773638222,
          -0.533336441873691,
          -1.274051745020086,
          -2.2483822909146065,
          -1.8331620328967568,
          -0.6911463687104753,
          -1.2438577654569447,
          -0.8214219930353523,
          -0.5841321992816303,
          -0.6397553448439856,
          -1.7359023556024236,
          -1.568947958181782,
          -1.909595584283504,
          -0.6652570194184619,
          -1.6234829377193103,
          -1.3536385428363502,
          -0.4480206754721147,
          -0.7276224505290724,
          -0.6796522865491981,
          -1.7520969825984138,
          -0.9711724669678112,
          -1.513158296679247,
          -1.704737645779008,
          -0.8935343743209303,
          0.27283358050069656,
          0.27217581384661255,
          -0.9372127901530689,
          -1.7395785660729697,
          -0.9708537569008404,
          -1.0133686248772082,
          -0.9699683698502279,
          -0.5498511089865393,
          -1.1232964053831676,
          -1.0292636015211827,
          -0.71682509179317,
          0.3096449789395398,
          -1.0522750522700557,
          -2.427041734252267,
          -1.8643561429713587,
          -2.053092185181802,
          -2.090766002939553,
          -1.5664203412075781,
          -1.41156950486644,
          -1.8063364794987096,
          -1.4461625890949432,
          -1.2758136368287976,
          -1.1423617825985697,
          -0.8158369519319845,
          -2.101130925767055,
          -2.1977503405705248,
          -0.029761483374332348,
          -0.6135959456427882,
          -0.8064912552310042,
          -1.4115460008059773,
          -0.9799933742928894,
          -0.9821083541071538,
          -1.1268082836860314,
          -1.52571880643157,
          -1.672595579706161
         ],
         "xaxis": "x",
         "y": [
          -0.32349599859666067,
          -0.9726941987093733,
          -0.07480770206184736,
          -1.237406111883468,
          -0.7037336892581575,
          -1.0272656738098926,
          -0.5637603353572312,
          -0.4965638666044988,
          -0.3982840395967327,
          -1.2362530180371551,
          -0.981278494596053,
          -0.8291486690915549,
          -0.9366075707462135,
          -0.5351782707954814,
          -0.9752132195384936,
          -1.2469990709672165,
          -0.6823447508101853,
          -1.2127453060570732,
          -2.1166596300052896,
          -2.02961576520502,
          -0.6008922802621733,
          -0.8468051406687584,
          -0.8423121992908583,
          -0.9831774917246019,
          -0.9528186836280257,
          -1.3071352621647971,
          -1.0260911330907936,
          -0.9818786913457429,
          -0.9841190272904046,
          -1.2919052260623478,
          -0.9324400220526796,
          -1.0799904302418932,
          -1.3570159064611154,
          -1.3787198678945334,
          -0.9944601202630455,
          -1.075814300136516,
          -0.8639099143221601,
          -1.1395188852659281,
          -1.179373974263169,
          -0.2355600859874479,
          -0.4887419285967115,
          -0.74913930062386,
          -1.3166271968351462,
          -1.3529214754318246,
          -1.6263334610096856,
          -1.9315870804417872,
          -0.9253299030179939,
          -1.3420704983243865,
          -1.4569676180900288,
          -1.0773238766905742,
          -0.6405260188073437,
          -0.8986398162090776,
          -1.6243320231295213,
          -1.3748356390668608,
          -1.564990574305595,
          -2.2856383949642196,
          -2.05934506891439,
          -1.8926109480517228,
          -1.824818001499141,
          -1.5413951136180617,
          -1.497453715519617,
          -1.7820476960679434,
          -1.4999656556412515,
          -1.4518530297236327,
          -1.8210360638815435,
          -1.3706122178395679,
          -1.688598184847973,
          -1.1873633207970882,
          -1.0440084618528767,
          -1.6786386788447012,
          -1.4205144055903423,
          -0.7892139437732615,
          -1.951240150147848,
          -2.0855321418663695
         ],
         "yaxis": "y"
        }
       ],
       "layout": {
        "annotations": [
         {
          "ax": 0,
          "ay": 0,
          "text": "mpg",
          "x": -0.8928155806384657,
          "xanchor": "center",
          "y": -0.05034625496064196,
          "yanchor": "bottom"
         },
         {
          "ax": 0,
          "ay": 0,
          "text": "cylinders",
          "x": 0.9299663778955244,
          "xanchor": "center",
          "y": 0.022486691690943066,
          "yanchor": "bottom"
         },
         {
          "ax": 0,
          "ay": 0,
          "text": "displacement",
          "x": 0.9645639314670257,
          "xanchor": "center",
          "y": 0.016099288686915493,
          "yanchor": "bottom"
         },
         {
          "ax": 0,
          "ay": 0,
          "text": "horsepower",
          "x": 0.9176742607508143,
          "xanchor": "center",
          "y": 0.2539951960130871,
          "yanchor": "bottom"
         },
         {
          "ax": 0,
          "ay": 0,
          "text": "weight",
          "x": 0.9297093506412807,
          "xanchor": "center",
          "y": -0.04444702315930321,
          "yanchor": "bottom"
         },
         {
          "ax": 0,
          "ay": 0,
          "text": "acceleration",
          "x": -0.5953502847669856,
          "xanchor": "center",
          "y": -0.48801072645254473,
          "yanchor": "bottom"
         },
         {
          "ax": 0,
          "ay": 0,
          "text": "model_year",
          "x": -0.48113156768218773,
          "xanchor": "center",
          "y": -0.3781054973936655,
          "yanchor": "bottom"
         },
         {
          "ax": 0,
          "ay": 0,
          "text": "origin_japan",
          "x": -0.5442238707775563,
          "xanchor": "center",
          "y": 0.6616262918578175,
          "yanchor": "bottom"
         },
         {
          "ax": 0,
          "ay": 0,
          "text": "origin_usa",
          "x": 0.7045559429203702,
          "xanchor": "center",
          "y": -0.5472036960986221,
          "yanchor": "bottom"
         }
        ],
        "autosize": true,
        "legend": {
         "title": {
          "text": "color"
         },
         "tracegroupgap": 0
        },
        "margin": {
         "t": 60
        },
        "shapes": [
         {
          "line": {
           "color": "red",
           "width": 3
          },
          "type": "line",
          "x0": 0,
          "x1": -0.8928155806384657,
          "y0": 0,
          "y1": -0.05034625496064196
         },
         {
          "line": {
           "color": "red",
           "width": 3
          },
          "type": "line",
          "x0": 0,
          "x1": 0.9299663778955244,
          "y0": 0,
          "y1": 0.022486691690943066
         },
         {
          "line": {
           "color": "red",
           "width": 3
          },
          "type": "line",
          "x0": 0,
          "x1": 0.9645639314670257,
          "y0": 0,
          "y1": 0.016099288686915493
         },
         {
          "line": {
           "color": "red",
           "width": 3
          },
          "type": "line",
          "x0": 0,
          "x1": 0.9176742607508143,
          "y0": 0,
          "y1": 0.2539951960130871
         },
         {
          "line": {
           "color": "red",
           "width": 3
          },
          "type": "line",
          "x0": 0,
          "x1": 0.9297093506412807,
          "y0": 0,
          "y1": -0.04444702315930321
         },
         {
          "line": {
           "color": "red",
           "width": 3
          },
          "type": "line",
          "x0": 0,
          "x1": -0.5953502847669856,
          "y0": 0,
          "y1": -0.48801072645254473
         },
         {
          "line": {
           "color": "red",
           "width": 3
          },
          "type": "line",
          "x0": 0,
          "x1": -0.48113156768218773,
          "y0": 0,
          "y1": -0.3781054973936655
         },
         {
          "line": {
           "color": "red",
           "width": 3
          },
          "type": "line",
          "x0": 0,
          "x1": -0.5442238707775563,
          "y0": 0,
          "y1": 0.6616262918578175
         },
         {
          "line": {
           "color": "red",
           "width": 3
          },
          "type": "line",
          "x0": 0,
          "x1": 0.7045559429203702,
          "y0": 0,
          "y1": -0.5472036960986221
         }
        ],
        "template": {
         "data": {
          "bar": [
           {
            "error_x": {
             "color": "#2a3f5f"
            },
            "error_y": {
             "color": "#2a3f5f"
            },
            "marker": {
             "line": {
              "color": "#E5ECF6",
              "width": 0.5
             },
             "pattern": {
              "fillmode": "overlay",
              "size": 10,
              "solidity": 0.2
             }
            },
            "type": "bar"
           }
          ],
          "barpolar": [
           {
            "marker": {
             "line": {
              "color": "#E5ECF6",
              "width": 0.5
             },
             "pattern": {
              "fillmode": "overlay",
              "size": 10,
              "solidity": 0.2
             }
            },
            "type": "barpolar"
           }
          ],
          "carpet": [
           {
            "aaxis": {
             "endlinecolor": "#2a3f5f",
             "gridcolor": "white",
             "linecolor": "white",
             "minorgridcolor": "white",
             "startlinecolor": "#2a3f5f"
            },
            "baxis": {
             "endlinecolor": "#2a3f5f",
             "gridcolor": "white",
             "linecolor": "white",
             "minorgridcolor": "white",
             "startlinecolor": "#2a3f5f"
            },
            "type": "carpet"
           }
          ],
          "choropleth": [
           {
            "colorbar": {
             "outlinewidth": 0,
             "ticks": ""
            },
            "type": "choropleth"
           }
          ],
          "contour": [
           {
            "colorbar": {
             "outlinewidth": 0,
             "ticks": ""
            },
            "colorscale": [
             [
              0,
              "#0d0887"
             ],
             [
              0.1111111111111111,
              "#46039f"
             ],
             [
              0.2222222222222222,
              "#7201a8"
             ],
             [
              0.3333333333333333,
              "#9c179e"
             ],
             [
              0.4444444444444444,
              "#bd3786"
             ],
             [
              0.5555555555555556,
              "#d8576b"
             ],
             [
              0.6666666666666666,
              "#ed7953"
             ],
             [
              0.7777777777777778,
              "#fb9f3a"
             ],
             [
              0.8888888888888888,
              "#fdca26"
             ],
             [
              1,
              "#f0f921"
             ]
            ],
            "type": "contour"
           }
          ],
          "contourcarpet": [
           {
            "colorbar": {
             "outlinewidth": 0,
             "ticks": ""
            },
            "type": "contourcarpet"
           }
          ],
          "heatmap": [
           {
            "colorbar": {
             "outlinewidth": 0,
             "ticks": ""
            },
            "colorscale": [
             [
              0,
              "#0d0887"
             ],
             [
              0.1111111111111111,
              "#46039f"
             ],
             [
              0.2222222222222222,
              "#7201a8"
             ],
             [
              0.3333333333333333,
              "#9c179e"
             ],
             [
              0.4444444444444444,
              "#bd3786"
             ],
             [
              0.5555555555555556,
              "#d8576b"
             ],
             [
              0.6666666666666666,
              "#ed7953"
             ],
             [
              0.7777777777777778,
              "#fb9f3a"
             ],
             [
              0.8888888888888888,
              "#fdca26"
             ],
             [
              1,
              "#f0f921"
             ]
            ],
            "type": "heatmap"
           }
          ],
          "heatmapgl": [
           {
            "colorbar": {
             "outlinewidth": 0,
             "ticks": ""
            },
            "colorscale": [
             [
              0,
              "#0d0887"
             ],
             [
              0.1111111111111111,
              "#46039f"
             ],
             [
              0.2222222222222222,
              "#7201a8"
             ],
             [
              0.3333333333333333,
              "#9c179e"
             ],
             [
              0.4444444444444444,
              "#bd3786"
             ],
             [
              0.5555555555555556,
              "#d8576b"
             ],
             [
              0.6666666666666666,
              "#ed7953"
             ],
             [
              0.7777777777777778,
              "#fb9f3a"
             ],
             [
              0.8888888888888888,
              "#fdca26"
             ],
             [
              1,
              "#f0f921"
             ]
            ],
            "type": "heatmapgl"
           }
          ],
          "histogram": [
           {
            "marker": {
             "pattern": {
              "fillmode": "overlay",
              "size": 10,
              "solidity": 0.2
             }
            },
            "type": "histogram"
           }
          ],
          "histogram2d": [
           {
            "colorbar": {
             "outlinewidth": 0,
             "ticks": ""
            },
            "colorscale": [
             [
              0,
              "#0d0887"
             ],
             [
              0.1111111111111111,
              "#46039f"
             ],
             [
              0.2222222222222222,
              "#7201a8"
             ],
             [
              0.3333333333333333,
              "#9c179e"
             ],
             [
              0.4444444444444444,
              "#bd3786"
             ],
             [
              0.5555555555555556,
              "#d8576b"
             ],
             [
              0.6666666666666666,
              "#ed7953"
             ],
             [
              0.7777777777777778,
              "#fb9f3a"
             ],
             [
              0.8888888888888888,
              "#fdca26"
             ],
             [
              1,
              "#f0f921"
             ]
            ],
            "type": "histogram2d"
           }
          ],
          "histogram2dcontour": [
           {
            "colorbar": {
             "outlinewidth": 0,
             "ticks": ""
            },
            "colorscale": [
             [
              0,
              "#0d0887"
             ],
             [
              0.1111111111111111,
              "#46039f"
             ],
             [
              0.2222222222222222,
              "#7201a8"
             ],
             [
              0.3333333333333333,
              "#9c179e"
             ],
             [
              0.4444444444444444,
              "#bd3786"
             ],
             [
              0.5555555555555556,
              "#d8576b"
             ],
             [
              0.6666666666666666,
              "#ed7953"
             ],
             [
              0.7777777777777778,
              "#fb9f3a"
             ],
             [
              0.8888888888888888,
              "#fdca26"
             ],
             [
              1,
              "#f0f921"
             ]
            ],
            "type": "histogram2dcontour"
           }
          ],
          "mesh3d": [
           {
            "colorbar": {
             "outlinewidth": 0,
             "ticks": ""
            },
            "type": "mesh3d"
           }
          ],
          "parcoords": [
           {
            "line": {
             "colorbar": {
              "outlinewidth": 0,
              "ticks": ""
             }
            },
            "type": "parcoords"
           }
          ],
          "pie": [
           {
            "automargin": true,
            "type": "pie"
           }
          ],
          "scatter": [
           {
            "fillpattern": {
             "fillmode": "overlay",
             "size": 10,
             "solidity": 0.2
            },
            "type": "scatter"
           }
          ],
          "scatter3d": [
           {
            "line": {
             "colorbar": {
              "outlinewidth": 0,
              "ticks": ""
             }
            },
            "marker": {
             "colorbar": {
              "outlinewidth": 0,
              "ticks": ""
             }
            },
            "type": "scatter3d"
           }
          ],
          "scattercarpet": [
           {
            "marker": {
             "colorbar": {
              "outlinewidth": 0,
              "ticks": ""
             }
            },
            "type": "scattercarpet"
           }
          ],
          "scattergeo": [
           {
            "marker": {
             "colorbar": {
              "outlinewidth": 0,
              "ticks": ""
             }
            },
            "type": "scattergeo"
           }
          ],
          "scattergl": [
           {
            "marker": {
             "colorbar": {
              "outlinewidth": 0,
              "ticks": ""
             }
            },
            "type": "scattergl"
           }
          ],
          "scattermapbox": [
           {
            "marker": {
             "colorbar": {
              "outlinewidth": 0,
              "ticks": ""
             }
            },
            "type": "scattermapbox"
           }
          ],
          "scatterpolar": [
           {
            "marker": {
             "colorbar": {
              "outlinewidth": 0,
              "ticks": ""
             }
            },
            "type": "scatterpolar"
           }
          ],
          "scatterpolargl": [
           {
            "marker": {
             "colorbar": {
              "outlinewidth": 0,
              "ticks": ""
             }
            },
            "type": "scatterpolargl"
           }
          ],
          "scatterternary": [
           {
            "marker": {
             "colorbar": {
              "outlinewidth": 0,
              "ticks": ""
             }
            },
            "type": "scatterternary"
           }
          ],
          "surface": [
           {
            "colorbar": {
             "outlinewidth": 0,
             "ticks": ""
            },
            "colorscale": [
             [
              0,
              "#0d0887"
             ],
             [
              0.1111111111111111,
              "#46039f"
             ],
             [
              0.2222222222222222,
              "#7201a8"
             ],
             [
              0.3333333333333333,
              "#9c179e"
             ],
             [
              0.4444444444444444,
              "#bd3786"
             ],
             [
              0.5555555555555556,
              "#d8576b"
             ],
             [
              0.6666666666666666,
              "#ed7953"
             ],
             [
              0.7777777777777778,
              "#fb9f3a"
             ],
             [
              0.8888888888888888,
              "#fdca26"
             ],
             [
              1,
              "#f0f921"
             ]
            ],
            "type": "surface"
           }
          ],
          "table": [
           {
            "cells": {
             "fill": {
              "color": "#EBF0F8"
             },
             "line": {
              "color": "white"
             }
            },
            "header": {
             "fill": {
              "color": "#C8D4E3"
             },
             "line": {
              "color": "white"
             }
            },
            "type": "table"
           }
          ]
         },
         "layout": {
          "annotationdefaults": {
           "arrowcolor": "#2a3f5f",
           "arrowhead": 0,
           "arrowwidth": 1
          },
          "autotypenumbers": "strict",
          "coloraxis": {
           "colorbar": {
            "outlinewidth": 0,
            "ticks": ""
           }
          },
          "colorscale": {
           "diverging": [
            [
             0,
             "#8e0152"
            ],
            [
             0.1,
             "#c51b7d"
            ],
            [
             0.2,
             "#de77ae"
            ],
            [
             0.3,
             "#f1b6da"
            ],
            [
             0.4,
             "#fde0ef"
            ],
            [
             0.5,
             "#f7f7f7"
            ],
            [
             0.6,
             "#e6f5d0"
            ],
            [
             0.7,
             "#b8e186"
            ],
            [
             0.8,
             "#7fbc41"
            ],
            [
             0.9,
             "#4d9221"
            ],
            [
             1,
             "#276419"
            ]
           ],
           "sequential": [
            [
             0,
             "#0d0887"
            ],
            [
             0.1111111111111111,
             "#46039f"
            ],
            [
             0.2222222222222222,
             "#7201a8"
            ],
            [
             0.3333333333333333,
             "#9c179e"
            ],
            [
             0.4444444444444444,
             "#bd3786"
            ],
            [
             0.5555555555555556,
             "#d8576b"
            ],
            [
             0.6666666666666666,
             "#ed7953"
            ],
            [
             0.7777777777777778,
             "#fb9f3a"
            ],
            [
             0.8888888888888888,
             "#fdca26"
            ],
            [
             1,
             "#f0f921"
            ]
           ],
           "sequentialminus": [
            [
             0,
             "#0d0887"
            ],
            [
             0.1111111111111111,
             "#46039f"
            ],
            [
             0.2222222222222222,
             "#7201a8"
            ],
            [
             0.3333333333333333,
             "#9c179e"
            ],
            [
             0.4444444444444444,
             "#bd3786"
            ],
            [
             0.5555555555555556,
             "#d8576b"
            ],
            [
             0.6666666666666666,
             "#ed7953"
            ],
            [
             0.7777777777777778,
             "#fb9f3a"
            ],
            [
             0.8888888888888888,
             "#fdca26"
            ],
            [
             1,
             "#f0f921"
            ]
           ]
          },
          "colorway": [
           "#636efa",
           "#EF553B",
           "#00cc96",
           "#ab63fa",
           "#FFA15A",
           "#19d3f3",
           "#FF6692",
           "#B6E880",
           "#FF97FF",
           "#FECB52"
          ],
          "font": {
           "color": "#2a3f5f"
          },
          "geo": {
           "bgcolor": "white",
           "lakecolor": "white",
           "landcolor": "#E5ECF6",
           "showlakes": true,
           "showland": true,
           "subunitcolor": "white"
          },
          "hoverlabel": {
           "align": "left"
          },
          "hovermode": "closest",
          "mapbox": {
           "style": "light"
          },
          "paper_bgcolor": "white",
          "plot_bgcolor": "#E5ECF6",
          "polar": {
           "angularaxis": {
            "gridcolor": "white",
            "linecolor": "white",
            "ticks": ""
           },
           "bgcolor": "#E5ECF6",
           "radialaxis": {
            "gridcolor": "white",
            "linecolor": "white",
            "ticks": ""
           }
          },
          "scene": {
           "xaxis": {
            "backgroundcolor": "#E5ECF6",
            "gridcolor": "white",
            "gridwidth": 2,
            "linecolor": "white",
            "showbackground": true,
            "ticks": "",
            "zerolinecolor": "white"
           },
           "yaxis": {
            "backgroundcolor": "#E5ECF6",
            "gridcolor": "white",
            "gridwidth": 2,
            "linecolor": "white",
            "showbackground": true,
            "ticks": "",
            "zerolinecolor": "white"
           },
           "zaxis": {
            "backgroundcolor": "#E5ECF6",
            "gridcolor": "white",
            "gridwidth": 2,
            "linecolor": "white",
            "showbackground": true,
            "ticks": "",
            "zerolinecolor": "white"
           }
          },
          "shapedefaults": {
           "line": {
            "color": "#2a3f5f"
           }
          },
          "ternary": {
           "aaxis": {
            "gridcolor": "white",
            "linecolor": "white",
            "ticks": ""
           },
           "baxis": {
            "gridcolor": "white",
            "linecolor": "white",
            "ticks": ""
           },
           "bgcolor": "#E5ECF6",
           "caxis": {
            "gridcolor": "white",
            "linecolor": "white",
            "ticks": ""
           }
          },
          "title": {
           "x": 0.05
          },
          "xaxis": {
           "automargin": true,
           "gridcolor": "white",
           "linecolor": "white",
           "ticks": "",
           "title": {
            "standoff": 15
           },
           "zerolinecolor": "white",
           "zerolinewidth": 2
          },
          "yaxis": {
           "automargin": true,
           "gridcolor": "white",
           "linecolor": "white",
           "ticks": "",
           "title": {
            "standoff": 15
           },
           "zerolinecolor": "white",
           "zerolinewidth": 2
          }
         }
        },
        "xaxis": {
         "anchor": "y",
         "autorange": true,
         "domain": [
          0,
          1
         ],
         "range": [
          -4.653253166734425,
          5.7894151016439235
         ],
         "title": {
          "text": "PC1 ~ 0.63%"
         },
         "type": "linear"
        },
        "yaxis": {
         "anchor": "x",
         "autorange": true,
         "domain": [
          0,
          1
         ],
         "range": [
          -2.664295869757776,
          2.98347663563764
         ],
         "title": {
          "text": "PC2 ~ 0.13%"
         },
         "type": "linear"
        }
       }
      },
      "image/png": "[encoded data removed]",
      "text/html": [
       "<div>                            <div id=\"38678e0a-d7b2-451e-bf07-20a60fb88cad\" class=\"plotly-graph-div\" style=\"height:525px; width:100%;\"></div>            <script type=\"text/javascript\">                require([\"plotly\"], function(Plotly) {                    window.PLOTLYENV=window.PLOTLYENV || {};                                    if (document.getElementById(\"38678e0a-d7b2-451e-bf07-20a60fb88cad\")) {                    Plotly.newPlot(                        \"38678e0a-d7b2-451e-bf07-20a60fb88cad\",                        [{\"hovertemplate\":\"<b>%{hovertext}</b><br><br>color=1<br>PC1 ~ 0.63%=%{x}<br>PC2 ~ 0.13%=%{y}<extra></extra>\",\"hovertext\":[\"chevrolet chevelle malibu\",\"buick skylark 320\",\"plymouth satellite\",\"amc rebel sst\",\"ford torino\",\"ford galaxie 500\",\"chevrolet impala\",\"plymouth fury iii\",\"pontiac catalina\",\"amc ambassador dpl\",\"dodge challenger se\",\"plymouth 'cuda 340\",\"chevrolet monte carlo\",\"buick estate wagon (sw)\",\"ford f250\",\"chevy c20\",\"dodge d200\",\"hi 1200d\",\"chevrolet impala\",\"pontiac catalina brougham\",\"ford galaxie 500\",\"plymouth fury iii\",\"dodge monaco (sw)\",\"ford country squire (sw)\",\"pontiac safari (sw)\",\"chevrolet impala\",\"pontiac catalina\",\"plymouth fury iii\",\"ford galaxie 500\",\"amc ambassador sst\",\"mercury marquis\",\"buick lesabre custom\",\"oldsmobile delta 88 royale\",\"chrysler newport royal\",\"amc matador (sw)\",\"chevrolet chevelle concours (sw)\",\"ford gran torino (sw)\",\"plymouth satellite custom (sw)\",\"buick century 350\",\"amc matador\",\"chevrolet malibu\",\"ford gran torino\",\"dodge coronet custom\",\"mercury marquis brougham\",\"chevrolet caprice classic\",\"ford ltd\",\"plymouth fury gran sedan\",\"chrysler new yorker brougham\",\"buick electra 225 custom\",\"amc ambassador brougham\",\"chevrolet impala\",\"ford country\",\"plymouth custom suburb\",\"oldsmobile vista cruiser\",\"chevrolet monte carlo s\",\"pontiac grand prix\",\"dodge dart custom\",\"oldsmobile omega\",\"ford gran torino\",\"buick century luxus (sw)\",\"dodge coronet custom (sw)\",\"ford gran torino (sw)\",\"amc matador (sw)\",\"pontiac catalina\",\"chevrolet bel air\",\"plymouth grand fury\",\"ford ltd\",\"ford mustang ii\",\"chevrolet chevelle malibu classic\",\"dodge coronet brougham\",\"amc matador\",\"ford gran torino\",\"plymouth volare premier v8\",\"cadillac seville\",\"chevy c10\",\"ford f108\",\"dodge d100\",\"chevrolet caprice classic\",\"dodge monaco brougham\",\"mercury cougar brougham\",\"pontiac grand prix lj\",\"chevrolet monte carlo landau\",\"chrysler cordoba\",\"ford thunderbird\",\"dodge diplomat\",\"mercury monarch ghia\",\"chevrolet monte carlo landau\",\"ford futura\",\"dodge magnum xe\",\"ford ltd landau\",\"mercury grand marquis\",\"buick estate wagon (sw)\",\"ford country squire (sw)\",\"chrysler lebaron town @ country (sw)\"],\"legendgroup\":\"1\",\"marker\":{\"color\":\"#636efa\",\"symbol\":\"circle\"},\"mode\":\"markers\",\"name\":\"1\",\"orientation\":\"v\",\"showlegend\":true,\"x\":[2.7681015408712164,3.5617956121137864,3.070488709648948,3.020336929873964,3.007717109083676,4.632490431458015,5.094469429700944,5.016170883199183,5.090410338149973,4.311461998206058,3.8159430065972657,3.7997906445666954,3.817831087801163,4.474529595624321,4.539184109214651,3.982998541349347,4.216507495361387,3.795671755644882,3.7469755307411186,4.203465298813926,3.469303293081093,3.330087048340598,4.509687361981959,4.285807745344449,4.517123646681601,3.7700567820514754,4.066901911248673,3.1997288007521285,3.44826026308093,3.0177670685735385,4.8588089689217355,3.638715895270489,3.7157209067479138,4.236928551522717,3.1244138609937004,2.990526928281098,2.9801321348754595,3.175779631805891,3.6446429006767413,3.1070904723215786,3.292567830344468,2.867236257481445,3.070861881342403,4.7570516542955525,3.845955853909781,3.599167373108371,3.1491456672903984,4.86743840278331,5.1731470584018835,3.736415343261145,4.0058860471718045,4.2223019060262645,3.8880996463395476,3.971669592337553,3.239664394511149,4.644395444945269,3.033022730745101,3.7717003042158956,2.8371444666867793,3.4787800717914106,3.286133168478004,2.980516253129594,2.958548083744806,3.931521616937016,3.203874783789331,3.0632838207807236,3.431025654813888,2.5505510377939413,2.791608842396015,3.00275606228804,2.4855180308359435,3.2523574799124377,3.013839490368153,3.5722380568002947,3.249411082462731,2.55606493053406,2.856201479678187,2.6780728692684352,2.8353363230094213,2.609589610978266,3.7521501976652263,3.4298229470206043,3.824916023414912,2.9963455292088734,2.4019451841723463,2.251875846060634,2.268711187642097,2.330030634535996,2.606620854589842,2.2386682110746827,2.695438735406616,2.8747761749764242,2.729367640272802,2.765621824280495],\"xaxis\":\"x\",\"y\":[0.6536686698172071,0.9618424410466487,0.9422170408259068,0.7897426311564679,0.9658848801234092,1.385631719999815,1.6903140188207062,1.7412913094917406,1.5548599921028232,1.598964465108217,1.2468001591473175,1.5088024728722176,1.199696570885709,1.6192235455454063,0.8454218116774044,0.5960032585264775,0.8956975398278176,-0.026758099262876547,0.7674314988142188,0.9041029397038356,0.4537395827492973,0.5149241805420595,0.9202583268148082,0.7849191070376172,0.796288694506755,0.6759449061474156,0.7323671916642901,0.331590875683777,0.4418991678282276,0.6649990397872672,1.1048484639522411,0.3606317247155089,0.39907688558927756,0.7461942188215562,0.5037839493161859,0.14118617392479435,-0.13330685508830092,0.2590588173626154,0.48814719505064996,0.5884878687200877,0.3116796908835475,0.004144671501016487,0.417002742138472,0.8474389601999857,0.48866500666293683,0.3725975468908916,0.07583472781987553,1.0377934014973909,1.0960730681762758,0.8279535841508692,0.14991348963541984,0.49514775295894453,0.4326220505001586,0.586447441946689,0.29531028642370355,1.3709932540772949,0.6789091257072577,0.8762465612864413,-0.0073220829036060595,-0.03021257132599469,0.13346307381914665,-0.34434313844947,-0.18388386867439382,0.47498693921649143,-0.07296449089240974,-0.13713736908746957,0.022102115547088654,0.221192497275406,-0.045427645545212336,0.027116591313185112,-0.2890327266151595,0.08408849515691887,0.024411945754209165,0.34763637895606514,0.18808722427223057,-0.38820244081533467,-0.09668822523783949,-0.012058337355935695,-0.2058571273586707,-0.4985210116511962,0.43355976125361334,0.3227355948485547,0.31335225240818787,-0.3192754389696682,-0.25284949264435774,-0.19298511612063735,-0.20829191232438768,0.096989007234508,-0.33942016611914366,-0.4374287499266186,-0.34798790138248376,-0.5431528659134545,-0.5013144880885337,-0.25260724736872897],\"yaxis\":\"y\",\"type\":\"scatter\"},{\"hovertemplate\":\"<b>%{hovertext}</b><br><br>color=4<br>PC1 ~ 0.63%=%{x}<br>PC2 ~ 0.13%=%{y}<extra></extra>\",\"hovertext\":[\"toyota corona mark ii\",\"datsun pl510\",\"datsun pl510\",\"toyota corona\",\"toyota corolla 1200\",\"datsun 1200\",\"toyota corona hardtop\",\"mazda rx2 coupe\",\"datsun 510 (sw)\",\"toyouta corona mark ii (sw)\",\"toyota corolla 1600 (sw)\",\"toyota carina\",\"datsun 610\",\"maxda rx3\",\"toyota mark ii\",\"datsun b210\",\"toyota corolla 1200\",\"toyota corona\",\"datsun 710\",\"honda civic\",\"subaru\",\"toyota corolla\",\"toyota corona\",\"datsun 710\",\"honda civic cvcc\",\"honda civic\",\"datsun b-210\",\"toyota corolla\",\"toyota mark ii\",\"honda accord cvcc\",\"datsun f-10 hatchback\",\"toyota corolla liftback\",\"subaru dl\",\"datsun 810\",\"mazda rx-4\",\"mazda glc deluxe\",\"datsun b210 gx\",\"honda civic cvcc\",\"toyota corona\",\"datsun 510\",\"toyota celica gt liftback\",\"datsun 200-sx\",\"honda accord lx\",\"maxda glc deluxe\",\"datsun 210\",\"toyota corolla tercel\",\"datsun 310\",\"toyota corona liftback\",\"mazda 626\",\"datsun 510 hatchback\",\"toyota corolla\",\"mazda glc\",\"datsun 210\",\"honda civic 1500 gl\",\"subaru dl\",\"datsun 280-zx\",\"mazda rx-7 gs\",\"honda accord\",\"toyota starlet\",\"honda civic 1300\",\"subaru\",\"datsun 210 mpg\",\"toyota tercel\",\"mazda glc 4\",\"honda prelude\",\"toyota corolla\",\"datsun 200sx\",\"mazda 626\",\"toyota cressida\",\"datsun 810 maxima\",\"mazda glc custom l\",\"mazda glc custom\",\"nissan stanza xe\",\"honda accord\",\"toyota corolla\",\"honda civic\",\"honda civic (auto)\",\"datsun 310 gx\",\"toyota celica gt\"],\"legendgroup\":\"4\",\"marker\":{\"color\":\"#EF553B\",\"symbol\":\"circle\"},\"mode\":\"markers\",\"name\":\"4\",\"orientation\":\"v\",\"showlegend\":true,\"x\":[-1.5117090900327215,-1.8539919546004489,-1.908877464644297,-1.5902151179477666,-3.0045718962677705,-3.1358124895217996,-1.7100573238164947,-1.6400477727138776,-2.125791803000295,-1.419283473035756,-2.158927141710039,-2.021699976229095,-1.7424167430360995,-1.8117452012346846,-0.25271862326126815,-3.0367912438032882,-3.369686347068875,-3.1104314483765876,-3.1051013923247313,-1.6302847523868467,-1.9033972560896095,-2.471967394462308,-1.406965794244076,-1.844651695460547,-3.216864874146908,-3.262682109457127,-2.9415714142040246,-2.5224156574296863,-0.634357799386637,-3.0528310144505344,-3.071122840200575,-2.5937957048699833,-2.831782260486328,-0.9446043305140465,-1.6862893981364526,-3.517186753637528,-3.5153536911181718,-3.358355808126505,-1.8786763636182606,-2.0672499056163005,-1.646138337788013,-1.8784612966897807,-2.7978840116461727,-3.0970644526989792,-3.332410726355694,-3.71237905267835,-3.3895470843522713,-2.1975351428076597,-2.733246069789846,-2.66376746961377,-2.7418276873257907,-3.9355698291115946,-3.778526960727177,-3.5478151473592248,-3.250602891295811,-0.8629241876038133,-2.142924384264842,-2.9371011292583074,-3.7997794902812863,-3.5048707066863973,-3.252043854574706,-3.730978421673931,-3.5542588803310147,-3.2253588101360737,-2.8254424824464306,-2.9123232823706684,-2.3400295843284895,-2.8423414523620996,-0.8406188760179013,-0.9230973863763244,-3.600750084519429,-3.2832201745076834,-2.8423565624032507,-3.0022562131892436,-3.1515771788756375,-3.39625094323582,-3.171311038787437,-3.4912715676900077,-2.190278328734009],\"xaxis\":\"x\",\"y\":[2.4471909246719767,2.4775993611600198,2.383311724206213,2.51639067035686,1.5024668600328177,1.6733350185849467,2.18188856529598,2.527935225539339,1.8935230537163383,2.3524581840441954,1.965484087805208,1.4978430688673705,1.925337638064027,2.4070432245337496,2.6048191608440834,1.2243498672423432,0.8856681022677223,1.553696451680665,1.1800718271176744,2.077529071203567,1.9632005460381217,1.6698006875200249,2.2126562698007817,1.6554262284028407,1.2862304277594807,1.2081918933397702,1.3719414937804537,1.5172112230505588,1.9121234022159745,1.0239501322415003,1.3034269058035908,1.1370031965468463,1.3707505892730225,1.8999861664070445,2.1031520853300596,0.6787877294030378,0.8756864935144066,1.205930225976819,1.796074434773594,1.7391078639633542,1.7386660236458897,1.7211165920489648,1.2459202669891274,1.339672727204684,0.7010328466416623,0.6071673746916844,1.0299118366146427,1.3450653525099465,0.9264144764088809,1.4069658046904314,1.306429920338315,0.726101483413159,0.5490896583238455,1.4294934837114013,0.7976942411578929,2.2681450755834964,1.9221343212010014,0.9932328252320104,0.8123890882804263,0.9782495843906752,0.7486385121748196,0.4513099036477733,0.7671682752999867,1.0395156964581576,1.3357493051173794,0.9468857332815264,1.409264143629791,0.6898243083623782,1.9256176724975613,1.757434622564922,0.5686411517508979,0.704332459325693,1.2946267712714088,1.2118242836555158,0.8016068642905744,1.0795093412788312,1.0013185553134158,0.883078059634975,1.4434342837483978],\"yaxis\":\"y\",\"type\":\"scatter\"},{\"hovertemplate\":\"<b>%{hovertext}</b><br><br>color=3<br>PC1 ~ 0.63%=%{x}<br>PC2 ~ 0.13%=%{y}<extra></extra>\",\"hovertext\":[\"plymouth duster\",\"amc hornet\",\"ford maverick\",\"amc gremlin\",\"amc gremlin\",\"plymouth satellite custom\",\"chevrolet chevelle malibu\",\"ford torino 500\",\"amc matador\",\"amc hornet sportabout (sw)\",\"pontiac firebird\",\"ford mustang\",\"plymouth valiant\",\"chevrolet nova custom\",\"amc hornet\",\"ford maverick\",\"plymouth duster\",\"amc gremlin\",\"mercury capri v6\",\"plymouth duster\",\"amc hornet\",\"chevrolet nova\",\"chevrolet chevelle malibu classic\",\"amc matador\",\"plymouth satellite sebring\",\"plymouth valiant custom\",\"chevrolet nova\",\"mercury monarch\",\"ford maverick\",\"buick century\",\"chevroelt chevelle malibu\",\"amc matador\",\"plymouth fury\",\"buick skyhawk\",\"chevrolet monza 2+2\",\"amc gremlin\",\"ford pinto\",\"amc pacer\",\"plymouth valiant\",\"chevrolet nova\",\"ford maverick\",\"amc hornet\",\"dodge aspen se\",\"ford granada ghia\",\"pontiac ventura sj\",\"amc pacer d/l\",\"mercedes-benz 280s\",\"oldsmobile cutlass supreme\",\"chevrolet concours\",\"buick skylark\",\"plymouth volare custom\",\"ford granada\",\"oldsmobile cutlass salon brougham\",\"pontiac phoenix lj\",\"chevrolet malibu\",\"ford fairmont (auto)\",\"plymouth volare\",\"amc concord\",\"buick century special\",\"mercury zephyr\",\"dodge aspen\",\"amc concord d/l\",\"buick regal sport coupe (turbo)\",\"volvo 264gl\",\"peugeot 604sl\",\"pontiac lemans v6\",\"mercury zephyr 6\",\"amc concord dl 6\",\"dodge aspen 6\",\"chevrolet caprice classic\",\"dodge st. regis\",\"chevrolet malibu classic (sw)\",\"cadillac eldorado\",\"oldsmobile cutlass salon brougham\",\"dodge aspen\",\"buick century\",\"oldsmobile cutlass ls\",\"ford granada gl\",\"chrysler lebaron salon\",\"ford granada l\"],\"legendgroup\":\"3\",\"marker\":{\"color\":\"#00cc96\",\"symbol\":\"circle\"},\"mode\":\"markers\",\"name\":\"3\",\"orientation\":\"v\",\"showlegend\":true,\"x\":[0.7187417879547207,0.9077937459259199,0.5158811834731747,0.680841108992828,1.1250318471951033,1.4357773846369302,1.3838557788447652,1.1550736871112066,1.2472056740007094,1.479522233419897,1.3114399566376744,1.2188532859466843,0.9929184144486706,1.0719897853531268,0.9343284597173933,0.8734419932790236,0.49333110411785364,0.9532581108370884,0.5258002203078571,0.6283843717034159,0.8111352589638801,1.1825340937849131,1.3391447623695298,1.3111029652716857,1.1643311309340392,0.8460061259987726,1.1807903117335456,0.5285506541454444,0.5385469010258636,0.9580039831033653,1.251683335554514,1.2586800088300436,0.8616644650541556,0.9105803287575277,1.7566640632710424,0.7141595356741183,0.7121827673582914,0.7079666068953857,0.7371560602862699,1.0208950620039172,0.052673335043212574,0.3724732918253318,0.8169865186749327,0.4548819514755422,1.219378539638839,0.7951634522625579,0.5224477201626694,1.6705027965101815,1.1369316499361048,0.7799964874419743,0.8005115759171744,0.7351626368981574,1.4739357093847074,0.6296263197820992,0.2627714167270266,0.3072526345358651,0.6268718336499042,0.5054857163793575,0.7993570271509526,0.245091732397538,0.7697582918910975,1.251671152963614,1.7874147479698725,0.387714528702438,0.43100558655647814,0.7755745919635842,0.06545527968165908,0.3467593146285248,0.6895787816978687,2.1606784576243667,2.2169802029298316,1.7858239323350569,1.8427048456742507,0.4441214551759366,0.325649678525173,0.6143669376342975,1.1339251266639312,0.09846033132955344,0.5218453395458187,0.43559676794770585],\"xaxis\":\"x\",\"y\":[-0.15828156352214953,-0.11947883791083191,-0.28211116908869827,-0.09238511376686814,0.21611405288567895,-0.18171284238132954,-0.20912618199585042,-0.2924197779863707,-0.21562473875452343,0.189319137080218,-0.13747243298207745,-0.11616811897461321,-0.529344375799715,-0.795552043527966,-0.4689580728824217,-0.6240533753742731,-0.5317283302717353,-0.29896838112097196,-0.10746632603088874,-0.6990025521584823,-0.5670561899875276,-0.7242111322323822,-0.7515270475094645,-0.8451082214662821,-0.6472816530027747,-0.7100904572545197,-0.6493880927758364,-1.6428051858037682,-1.3858979131819795,-1.4498290332825279,-1.0648186268972466,-1.1006720958322218,-1.2166816677579826,-0.4568614866946748,-0.1873474670233381,-0.6678942044385838,-0.4424774894012843,-0.899353102410972,-0.6928612982628415,-0.5185458985377346,-1.1702749780167583,-1.1058179495846308,-1.0748322598262539,-1.7253247653998267,-0.7577688697491397,-1.0798970879027625,0.2504297519066319,-1.2924589330040817,-0.872620676330967,-1.0000698840072764,-1.1621849722868869,-1.3740036375627858,-0.8018043780174894,-1.465671265221679,-1.3576155588286551,-1.0173435143052088,-1.1745016546154583,-1.2170363454176407,-0.9140468650968541,-1.17218790961088,-1.3554957013485198,-0.6921900887398434,-0.14630660737665313,0.624902302945568,0.3076776202155115,-0.8815647470873945,-1.500441125988014,-1.4811991592124716,-1.1079053849765808,-0.7578976865132758,-0.6998836165203434,-0.7303202057284283,-1.1452656197464413,-2.1323617079415116,-1.6567794861407232,-1.1789495215790733,-1.727980435801069,-1.4978261374754498,-1.4352940074107383,-1.0519824410009893],\"yaxis\":\"y\",\"type\":\"scatter\"},{\"hovertemplate\":\"<b>%{hovertext}</b><br><br>color=0<br>PC1 ~ 0.63%=%{x}<br>PC2 ~ 0.13%=%{y}<extra></extra>\",\"hovertext\":[\"volkswagen 1131 deluxe sedan\",\"peugeot 504\",\"audi 100 ls\",\"saab 99e\",\"bmw 2002\",\"opel 1900\",\"peugeot 304\",\"fiat 124b\",\"volkswagen model 111\",\"volkswagen type 3\",\"volvo 145e (sw)\",\"volkswagen 411 (sw)\",\"peugeot 504 (sw)\",\"renault 12 (sw)\",\"volkswagen super beetle\",\"fiat 124 sport coupe\",\"fiat 128\",\"opel manta\",\"audi 100ls\",\"volvo 144ea\",\"saab 99le\",\"audi fox\",\"volkswagen dasher\",\"opel manta\",\"fiat 128\",\"fiat 124 tc\",\"fiat x1.9\",\"volkswagen dasher\",\"volkswagen rabbit\",\"audi 100ls\",\"peugeot 504\",\"volvo 244dl\",\"saab 99le\",\"fiat 131\",\"opel 1900\",\"renault 12tl\",\"vw rabbit\",\"volkswagen rabbit\",\"volvo 245\",\"peugeot 504\",\"renault 5 gtl\",\"volkswagen rabbit custom\",\"volkswagen dasher\",\"bmw 320i\",\"volkswagen rabbit custom diesel\",\"audi 5000\",\"saab 99gle\",\"volkswagen scirocco\",\"vw rabbit custom\",\"mercedes benz 300d\",\"peugeot 504\",\"fiat strada custom\",\"vw rabbit\",\"audi 4000\",\"vw rabbit c (diesel)\",\"vw dasher (diesel)\",\"audi 5000s (diesel)\",\"mercedes-benz 240d\",\"vokswagen rabbit\",\"triumph tr7 coupe\",\"volkswagen jetta\",\"peugeot 505s turbo diesel\",\"volvo diesel\",\"volkswagen rabbit l\",\"vw pickup\"],\"legendgroup\":\"0\",\"marker\":{\"color\":\"#ab63fa\",\"symbol\":\"circle\"},\"mode\":\"markers\",\"name\":\"0\",\"orientation\":\"v\",\"showlegend\":true,\"x\":[-2.337105206283633,-1.1708840167191017,-0.9436398046030889,-1.2505822929287727,-0.6639071167898437,-1.2518077657249247,-2.212931357517503,-1.668684076477318,-2.164234843114468,-2.3018447569371903,-0.25899612992853505,-1.3234376539824428,-1.0898009652878244,-1.8307891304318464,-2.494208199410835,-1.4058721965382135,-2.622843658548153,-1.439505917467648,-0.7636302480116363,-0.48253114866286395,-0.7025633473933525,-1.7869380049213197,-1.9036894369634672,-1.4780739790055177,-1.6180991767383148,-1.41403047681027,-2.172360637720561,-1.798916831629219,-1.9060545256379355,-1.0128297554612462,-1.1239902617662971,-0.7506730887270658,-0.7599097807329924,-1.580350338848345,-1.6905586702330206,-1.6879493197806332,-1.9790765851490388,-1.8361280647836742,-0.6490118810553862,-1.28697653385724,-2.983800764019151,-1.9525234911210585,-1.8733659128379714,-0.7207093406373252,-3.6269463662439403,-0.695533668926192,-0.9035970736629215,-2.241976761227779,-2.264372777264805,-1.1135382824302182,-2.2345552088695233,-2.505426232479257,-2.6585199479274357,-2.375767649067532,-3.7665419268178377,-3.789655811108303,-2.2861687926791623,-2.145097488283883,-2.463164086858156,-2.005409102516999,-2.2312373122176052,-1.8800185769476299,-1.5310304021608687,-2.626673464568641,-4.036985123492385],\"xaxis\":\"x\",\"y\":[-0.2450064260787917,0.4585260711910373,0.9813183200997944,0.5204480644827104,1.4452685859181136,0.9606031680114531,-0.06905627550622384,0.7814736347329189,-0.01657106962420729,-0.8749253158047606,0.939453671187172,0.14909658748123084,-0.044673027916019604,0.0949075568871982,-0.6146427126770778,0.5307727526886278,-0.3706063088715237,0.4593853364457373,0.80314747226034,0.6798739646054089,0.8918578705591216,0.21599683190812463,0.30889734286910614,0.5244119569310551,0.3638266371841464,0.5927532432904618,0.19624585719810791,0.07134780157944984,0.4615592601169084,0.45330919699044686,0.0739598569596533,0.547448109665024,0.8083823955920549,0.2035183721731599,-0.023500505318289854,0.23550290661439569,0.3347734180949112,0.6692273711638206,0.28568696014592154,-0.8078772508648092,-0.5848645457913646,0.2410771949995371,0.2851682785700181,0.7273943771946536,-1.259200531325035,0.09653040860969636,0.1822254118819092,0.02101346023857066,0.07372199498194677,-0.8943427673573787,-1.7067888138103409,-0.09371413654340603,-0.17014056180083154,-0.2963500954117692,-1.4921914341045233,-1.8238576386430332,-1.0628121949929996,-1.3566190360184742,-0.2700703274682406,-0.13760134367887725,-0.1461613054177587,-1.133103902330347,-1.0146147579305842,-0.42687117749026776,-2.127140006794788],\"yaxis\":\"y\",\"type\":\"scatter\"},{\"hovertemplate\":\"<b>%{hovertext}</b><br><br>color=2<br>PC1 ~ 0.63%=%{x}<br>PC2 ~ 0.13%=%{y}<extra></extra>\",\"hovertext\":[\"chevrolet vega 2300\",\"chevrolet vega (sw)\",\"mercury capri 2000\",\"plymouth cricket\",\"dodge colt hardtop\",\"chevrolet vega\",\"ford pinto runabout\",\"ford pinto (sw)\",\"dodge colt (sw)\",\"chevrolet vega\",\"ford pinto\",\"ford pinto\",\"chevrolet vega\",\"dodge colt\",\"ford pinto\",\"pontiac astro\",\"capri ii\",\"dodge colt\",\"chevrolet chevette\",\"chevrolet woody\",\"ford pinto\",\"buick opel isuzu deluxe\",\"plymouth arrow gs\",\"pontiac sunbird coupe\",\"ford mustang ii 2+2\",\"chevrolet chevette\",\"dodge colt m/m\",\"ford fiesta\",\"ford fairmont (man)\",\"chevrolet chevette\",\"dodge omni\",\"plymouth sapporo\",\"oldsmobile starfire sx\",\"ford fairmont 4\",\"dodge colt hatchback custom\",\"amc spirit dl\",\"plymouth horizon\",\"plymouth horizon tc3\",\"buick skylark limited\",\"chevrolet citation\",\"oldsmobile omega brougham\",\"pontiac phoenix\",\"chevrolet chevette\",\"chevrolet citation\",\"ford fairmont\",\"amc concord\",\"dodge colt\",\"plymouth reliant\",\"buick skylark\",\"dodge aries wagon (sw)\",\"chevrolet citation\",\"plymouth reliant\",\"plymouth champ\",\"plymouth horizon 4\",\"ford escort 4w\",\"ford escort 2h\",\"chevrolet cavalier\",\"chevrolet cavalier wagon\",\"chevrolet cavalier 2-door\",\"pontiac j2000 se hatchback\",\"dodge aries se\",\"pontiac phoenix\",\"ford fairmont futura\",\"plymouth horizon miser\",\"mercury lynx l\",\"buick century limited\",\"oldsmobile cutlass ciera (diesel)\",\"chrysler lebaron medallion\",\"dodge charger 2.2\",\"chevrolet camaro\",\"ford mustang gl\",\"dodge rampage\",\"ford ranger\",\"chevy s-10\"],\"legendgroup\":\"2\",\"marker\":{\"color\":\"#FFA15A\",\"symbol\":\"circle\"},\"mode\":\"markers\",\"name\":\"2\",\"orientation\":\"v\",\"showlegend\":true,\"x\":[-0.619231158427669,-0.7623053353808523,-0.3728938521711006,-1.5088048394367777,-0.9942144973557244,-0.5860569270947422,-0.5555872202245111,-0.4805829635857066,-0.9376428681278565,-0.8725677814209032,-0.6670813340646509,-0.8623283927242302,-0.7981152121151963,-1.1010918070259363,-0.6320963985296503,-0.8398317773638222,-0.533336441873691,-1.274051745020086,-2.2483822909146065,-1.8331620328967568,-0.6911463687104753,-1.2438577654569447,-0.8214219930353523,-0.5841321992816303,-0.6397553448439856,-1.7359023556024236,-1.568947958181782,-1.909595584283504,-0.6652570194184619,-1.6234829377193103,-1.3536385428363502,-0.4480206754721147,-0.7276224505290724,-0.6796522865491981,-1.7520969825984138,-0.9711724669678112,-1.513158296679247,-1.704737645779008,-0.8935343743209303,0.27283358050069656,0.27217581384661255,-0.9372127901530689,-1.7395785660729697,-0.9708537569008404,-1.0133686248772082,-0.9699683698502279,-0.5498511089865393,-1.1232964053831676,-1.0292636015211827,-0.71682509179317,0.3096449789395398,-1.0522750522700557,-2.427041734252267,-1.8643561429713587,-2.053092185181802,-2.090766002939553,-1.5664203412075781,-1.41156950486644,-1.8063364794987096,-1.4461625890949432,-1.2758136368287976,-1.1423617825985697,-0.8158369519319845,-2.101130925767055,-2.1977503405705248,-0.029761483374332348,-0.6135959456427882,-0.8064912552310042,-1.4115460008059773,-0.9799933742928894,-0.9821083541071538,-1.1268082836860314,-1.52571880643157,-1.672595579706161],\"xaxis\":\"x\",\"y\":[-0.32349599859666067,-0.9726941987093733,-0.07480770206184736,-1.237406111883468,-0.7037336892581575,-1.0272656738098926,-0.5637603353572312,-0.4965638666044988,-0.3982840395967327,-1.2362530180371551,-0.981278494596053,-0.8291486690915549,-0.9366075707462135,-0.5351782707954814,-0.9752132195384936,-1.2469990709672165,-0.6823447508101853,-1.2127453060570732,-2.1166596300052896,-2.02961576520502,-0.6008922802621733,-0.8468051406687584,-0.8423121992908583,-0.9831774917246019,-0.9528186836280257,-1.3071352621647971,-1.0260911330907936,-0.9818786913457429,-0.9841190272904046,-1.2919052260623478,-0.9324400220526796,-1.0799904302418932,-1.3570159064611154,-1.3787198678945334,-0.9944601202630455,-1.075814300136516,-0.8639099143221601,-1.1395188852659281,-1.179373974263169,-0.2355600859874479,-0.4887419285967115,-0.74913930062386,-1.3166271968351462,-1.3529214754318246,-1.6263334610096856,-1.9315870804417872,-0.9253299030179939,-1.3420704983243865,-1.4569676180900288,-1.0773238766905742,-0.6405260188073437,-0.8986398162090776,-1.6243320231295213,-1.3748356390668608,-1.564990574305595,-2.2856383949642196,-2.05934506891439,-1.8926109480517228,-1.824818001499141,-1.5413951136180617,-1.497453715519617,-1.7820476960679434,-1.4999656556412515,-1.4518530297236327,-1.8210360638815435,-1.3706122178395679,-1.688598184847973,-1.1873633207970882,-1.0440084618528767,-1.6786386788447012,-1.4205144055903423,-0.7892139437732615,-1.951240150147848,-2.0855321418663695],\"yaxis\":\"y\",\"type\":\"scatter\"}],                        {\"template\":{\"data\":{\"histogram2dcontour\":[{\"type\":\"histogram2dcontour\",\"colorbar\":{\"outlinewidth\":0,\"ticks\":\"\"},\"colorscale\":[[0.0,\"#0d0887\"],[0.1111111111111111,\"#46039f\"],[0.2222222222222222,\"#7201a8\"],[0.3333333333333333,\"#9c179e\"],[0.4444444444444444,\"#bd3786\"],[0.5555555555555556,\"#d8576b\"],[0.6666666666666666,\"#ed7953\"],[0.7777777777777778,\"#fb9f3a\"],[0.8888888888888888,\"#fdca26\"],[1.0,\"#f0f921\"]]}],\"choropleth\":[{\"type\":\"choropleth\",\"colorbar\":{\"outlinewidth\":0,\"ticks\":\"\"}}],\"histogram2d\":[{\"type\":\"histogram2d\",\"colorbar\":{\"outlinewidth\":0,\"ticks\":\"\"},\"colorscale\":[[0.0,\"#0d0887\"],[0.1111111111111111,\"#46039f\"],[0.2222222222222222,\"#7201a8\"],[0.3333333333333333,\"#9c179e\"],[0.4444444444444444,\"#bd3786\"],[0.5555555555555556,\"#d8576b\"],[0.6666666666666666,\"#ed7953\"],[0.7777777777777778,\"#fb9f3a\"],[0.8888888888888888,\"#fdca26\"],[1.0,\"#f0f921\"]]}],\"heatmap\":[{\"type\":\"heatmap\",\"colorbar\":{\"outlinewidth\":0,\"ticks\":\"\"},\"colorscale\":[[0.0,\"#0d0887\"],[0.1111111111111111,\"#46039f\"],[0.2222222222222222,\"#7201a8\"],[0.3333333333333333,\"#9c179e\"],[0.4444444444444444,\"#bd3786\"],[0.5555555555555556,\"#d8576b\"],[0.6666666666666666,\"#ed7953\"],[0.7777777777777778,\"#fb9f3a\"],[0.8888888888888888,\"#fdca26\"],[1.0,\"#f0f921\"]]}],\"heatmapgl\":[{\"type\":\"heatmapgl\",\"colorbar\":{\"outlinewidth\":0,\"ticks\":\"\"},\"colorscale\":[[0.0,\"#0d0887\"],[0.1111111111111111,\"#46039f\"],[0.2222222222222222,\"#7201a8\"],[0.3333333333333333,\"#9c179e\"],[0.4444444444444444,\"#bd3786\"],[0.5555555555555556,\"#d8576b\"],[0.6666666666666666,\"#ed7953\"],[0.7777777777777778,\"#fb9f3a\"],[0.8888888888888888,\"#fdca26\"],[1.0,\"#f0f921\"]]}],\"contourcarpet\":[{\"type\":\"contourcarpet\",\"colorbar\":{\"outlinewidth\":0,\"ticks\":\"\"}}],\"contour\":[{\"type\":\"contour\",\"colorbar\":{\"outlinewidth\":0,\"ticks\":\"\"},\"colorscale\":[[0.0,\"#0d0887\"],[0.1111111111111111,\"#46039f\"],[0.2222222222222222,\"#7201a8\"],[0.3333333333333333,\"#9c179e\"],[0.4444444444444444,\"#bd3786\"],[0.5555555555555556,\"#d8576b\"],[0.6666666666666666,\"#ed7953\"],[0.7777777777777778,\"#fb9f3a\"],[0.8888888888888888,\"#fdca26\"],[1.0,\"#f0f921\"]]}],\"surface\":[{\"type\":\"surface\",\"colorbar\":{\"outlinewidth\":0,\"ticks\":\"\"},\"colorscale\":[[0.0,\"#0d0887\"],[0.1111111111111111,\"#46039f\"],[0.2222222222222222,\"#7201a8\"],[0.3333333333333333,\"#9c179e\"],[0.4444444444444444,\"#bd3786\"],[0.5555555555555556,\"#d8576b\"],[0.6666666666666666,\"#ed7953\"],[0.7777777777777778,\"#fb9f3a\"],[0.8888888888888888,\"#fdca26\"],[1.0,\"#f0f921\"]]}],\"mesh3d\":[{\"type\":\"mesh3d\",\"colorbar\":{\"outlinewidth\":0,\"ticks\":\"\"}}],\"scatter\":[{\"fillpattern\":{\"fillmode\":\"overlay\",\"size\":10,\"solidity\":0.2},\"type\":\"scatter\"}],\"parcoords\":[{\"type\":\"parcoords\",\"line\":{\"colorbar\":{\"outlinewidth\":0,\"ticks\":\"\"}}}],\"scatterpolargl\":[{\"type\":\"scatterpolargl\",\"marker\":{\"colorbar\":{\"outlinewidth\":0,\"ticks\":\"\"}}}],\"bar\":[{\"error_x\":{\"color\":\"#2a3f5f\"},\"error_y\":{\"color\":\"#2a3f5f\"},\"marker\":{\"line\":{\"color\":\"#E5ECF6\",\"width\":0.5},\"pattern\":{\"fillmode\":\"overlay\",\"size\":10,\"solidity\":0.2}},\"type\":\"bar\"}],\"scattergeo\":[{\"type\":\"scattergeo\",\"marker\":{\"colorbar\":{\"outlinewidth\":0,\"ticks\":\"\"}}}],\"scatterpolar\":[{\"type\":\"scatterpolar\",\"marker\":{\"colorbar\":{\"outlinewidth\":0,\"ticks\":\"\"}}}],\"histogram\":[{\"marker\":{\"pattern\":{\"fillmode\":\"overlay\",\"size\":10,\"solidity\":0.2}},\"type\":\"histogram\"}],\"scattergl\":[{\"type\":\"scattergl\",\"marker\":{\"colorbar\":{\"outlinewidth\":0,\"ticks\":\"\"}}}],\"scatter3d\":[{\"type\":\"scatter3d\",\"line\":{\"colorbar\":{\"outlinewidth\":0,\"ticks\":\"\"}},\"marker\":{\"colorbar\":{\"outlinewidth\":0,\"ticks\":\"\"}}}],\"scattermapbox\":[{\"type\":\"scattermapbox\",\"marker\":{\"colorbar\":{\"outlinewidth\":0,\"ticks\":\"\"}}}],\"scatterternary\":[{\"type\":\"scatterternary\",\"marker\":{\"colorbar\":{\"outlinewidth\":0,\"ticks\":\"\"}}}],\"scattercarpet\":[{\"type\":\"scattercarpet\",\"marker\":{\"colorbar\":{\"outlinewidth\":0,\"ticks\":\"\"}}}],\"carpet\":[{\"aaxis\":{\"endlinecolor\":\"#2a3f5f\",\"gridcolor\":\"white\",\"linecolor\":\"white\",\"minorgridcolor\":\"white\",\"startlinecolor\":\"#2a3f5f\"},\"baxis\":{\"endlinecolor\":\"#2a3f5f\",\"gridcolor\":\"white\",\"linecolor\":\"white\",\"minorgridcolor\":\"white\",\"startlinecolor\":\"#2a3f5f\"},\"type\":\"carpet\"}],\"table\":[{\"cells\":{\"fill\":{\"color\":\"#EBF0F8\"},\"line\":{\"color\":\"white\"}},\"header\":{\"fill\":{\"color\":\"#C8D4E3\"},\"line\":{\"color\":\"white\"}},\"type\":\"table\"}],\"barpolar\":[{\"marker\":{\"line\":{\"color\":\"#E5ECF6\",\"width\":0.5},\"pattern\":{\"fillmode\":\"overlay\",\"size\":10,\"solidity\":0.2}},\"type\":\"barpolar\"}],\"pie\":[{\"automargin\":true,\"type\":\"pie\"}]},\"layout\":{\"autotypenumbers\":\"strict\",\"colorway\":[\"#636efa\",\"#EF553B\",\"#00cc96\",\"#ab63fa\",\"#FFA15A\",\"#19d3f3\",\"#FF6692\",\"#B6E880\",\"#FF97FF\",\"#FECB52\"],\"font\":{\"color\":\"#2a3f5f\"},\"hovermode\":\"closest\",\"hoverlabel\":{\"align\":\"left\"},\"paper_bgcolor\":\"white\",\"plot_bgcolor\":\"#E5ECF6\",\"polar\":{\"bgcolor\":\"#E5ECF6\",\"angularaxis\":{\"gridcolor\":\"white\",\"linecolor\":\"white\",\"ticks\":\"\"},\"radialaxis\":{\"gridcolor\":\"white\",\"linecolor\":\"white\",\"ticks\":\"\"}},\"ternary\":{\"bgcolor\":\"#E5ECF6\",\"aaxis\":{\"gridcolor\":\"white\",\"linecolor\":\"white\",\"ticks\":\"\"},\"baxis\":{\"gridcolor\":\"white\",\"linecolor\":\"white\",\"ticks\":\"\"},\"caxis\":{\"gridcolor\":\"white\",\"linecolor\":\"white\",\"ticks\":\"\"}},\"coloraxis\":{\"colorbar\":{\"outlinewidth\":0,\"ticks\":\"\"}},\"colorscale\":{\"sequential\":[[0.0,\"#0d0887\"],[0.1111111111111111,\"#46039f\"],[0.2222222222222222,\"#7201a8\"],[0.3333333333333333,\"#9c179e\"],[0.4444444444444444,\"#bd3786\"],[0.5555555555555556,\"#d8576b\"],[0.6666666666666666,\"#ed7953\"],[0.7777777777777778,\"#fb9f3a\"],[0.8888888888888888,\"#fdca26\"],[1.0,\"#f0f921\"]],\"sequentialminus\":[[0.0,\"#0d0887\"],[0.1111111111111111,\"#46039f\"],[0.2222222222222222,\"#7201a8\"],[0.3333333333333333,\"#9c179e\"],[0.4444444444444444,\"#bd3786\"],[0.5555555555555556,\"#d8576b\"],[0.6666666666666666,\"#ed7953\"],[0.7777777777777778,\"#fb9f3a\"],[0.8888888888888888,\"#fdca26\"],[1.0,\"#f0f921\"]],\"diverging\":[[0,\"#8e0152\"],[0.1,\"#c51b7d\"],[0.2,\"#de77ae\"],[0.3,\"#f1b6da\"],[0.4,\"#fde0ef\"],[0.5,\"#f7f7f7\"],[0.6,\"#e6f5d0\"],[0.7,\"#b8e186\"],[0.8,\"#7fbc41\"],[0.9,\"#4d9221\"],[1,\"#276419\"]]},\"xaxis\":{\"gridcolor\":\"white\",\"linecolor\":\"white\",\"ticks\":\"\",\"title\":{\"standoff\":15},\"zerolinecolor\":\"white\",\"automargin\":true,\"zerolinewidth\":2},\"yaxis\":{\"gridcolor\":\"white\",\"linecolor\":\"white\",\"ticks\":\"\",\"title\":{\"standoff\":15},\"zerolinecolor\":\"white\",\"automargin\":true,\"zerolinewidth\":2},\"scene\":{\"xaxis\":{\"backgroundcolor\":\"#E5ECF6\",\"gridcolor\":\"white\",\"linecolor\":\"white\",\"showbackground\":true,\"ticks\":\"\",\"zerolinecolor\":\"white\",\"gridwidth\":2},\"yaxis\":{\"backgroundcolor\":\"#E5ECF6\",\"gridcolor\":\"white\",\"linecolor\":\"white\",\"showbackground\":true,\"ticks\":\"\",\"zerolinecolor\":\"white\",\"gridwidth\":2},\"zaxis\":{\"backgroundcolor\":\"#E5ECF6\",\"gridcolor\":\"white\",\"linecolor\":\"white\",\"showbackground\":true,\"ticks\":\"\",\"zerolinecolor\":\"white\",\"gridwidth\":2}},\"shapedefaults\":{\"line\":{\"color\":\"#2a3f5f\"}},\"annotationdefaults\":{\"arrowcolor\":\"#2a3f5f\",\"arrowhead\":0,\"arrowwidth\":1},\"geo\":{\"bgcolor\":\"white\",\"landcolor\":\"#E5ECF6\",\"subunitcolor\":\"white\",\"showland\":true,\"showlakes\":true,\"lakecolor\":\"white\"},\"title\":{\"x\":0.05},\"mapbox\":{\"style\":\"light\"}}},\"xaxis\":{\"anchor\":\"y\",\"domain\":[0.0,1.0],\"title\":{\"text\":\"PC1 ~ 0.63%\"}},\"yaxis\":{\"anchor\":\"x\",\"domain\":[0.0,1.0],\"title\":{\"text\":\"PC2 ~ 0.13%\"}},\"legend\":{\"title\":{\"text\":\"color\"},\"tracegroupgap\":0},\"margin\":{\"t\":60},\"shapes\":[{\"line\":{\"color\":\"red\",\"width\":3},\"type\":\"line\",\"x0\":0,\"x1\":-0.8928155806384657,\"y0\":0,\"y1\":-0.05034625496064196},{\"line\":{\"color\":\"red\",\"width\":3},\"type\":\"line\",\"x0\":0,\"x1\":0.9299663778955244,\"y0\":0,\"y1\":0.022486691690943066},{\"line\":{\"color\":\"red\",\"width\":3},\"type\":\"line\",\"x0\":0,\"x1\":0.9645639314670257,\"y0\":0,\"y1\":0.016099288686915493},{\"line\":{\"color\":\"red\",\"width\":3},\"type\":\"line\",\"x0\":0,\"x1\":0.9176742607508143,\"y0\":0,\"y1\":0.2539951960130871},{\"line\":{\"color\":\"red\",\"width\":3},\"type\":\"line\",\"x0\":0,\"x1\":0.9297093506412807,\"y0\":0,\"y1\":-0.04444702315930321},{\"line\":{\"color\":\"red\",\"width\":3},\"type\":\"line\",\"x0\":0,\"x1\":-0.5953502847669856,\"y0\":0,\"y1\":-0.48801072645254473},{\"line\":{\"color\":\"red\",\"width\":3},\"type\":\"line\",\"x0\":0,\"x1\":-0.48113156768218773,\"y0\":0,\"y1\":-0.3781054973936655},{\"line\":{\"color\":\"red\",\"width\":3},\"type\":\"line\",\"x0\":0,\"x1\":-0.5442238707775563,\"y0\":0,\"y1\":0.6616262918578175},{\"line\":{\"color\":\"red\",\"width\":3},\"type\":\"line\",\"x0\":0,\"x1\":0.7045559429203702,\"y0\":0,\"y1\":-0.5472036960986221}],\"annotations\":[{\"ax\":0,\"ay\":0,\"text\":\"mpg\",\"x\":-0.8928155806384657,\"xanchor\":\"center\",\"y\":-0.05034625496064196,\"yanchor\":\"bottom\"},{\"ax\":0,\"ay\":0,\"text\":\"cylinders\",\"x\":0.9299663778955244,\"xanchor\":\"center\",\"y\":0.022486691690943066,\"yanchor\":\"bottom\"},{\"ax\":0,\"ay\":0,\"text\":\"displacement\",\"x\":0.9645639314670257,\"xanchor\":\"center\",\"y\":0.016099288686915493,\"yanchor\":\"bottom\"},{\"ax\":0,\"ay\":0,\"text\":\"horsepower\",\"x\":0.9176742607508143,\"xanchor\":\"center\",\"y\":0.2539951960130871,\"yanchor\":\"bottom\"},{\"ax\":0,\"ay\":0,\"text\":\"weight\",\"x\":0.9297093506412807,\"xanchor\":\"center\",\"y\":-0.04444702315930321,\"yanchor\":\"bottom\"},{\"ax\":0,\"ay\":0,\"text\":\"acceleration\",\"x\":-0.5953502847669856,\"xanchor\":\"center\",\"y\":-0.48801072645254473,\"yanchor\":\"bottom\"},{\"ax\":0,\"ay\":0,\"text\":\"model_year\",\"x\":-0.48113156768218773,\"xanchor\":\"center\",\"y\":-0.3781054973936655,\"yanchor\":\"bottom\"},{\"ax\":0,\"ay\":0,\"text\":\"origin_japan\",\"x\":-0.5442238707775563,\"xanchor\":\"center\",\"y\":0.6616262918578175,\"yanchor\":\"bottom\"},{\"ax\":0,\"ay\":0,\"text\":\"origin_usa\",\"x\":0.7045559429203702,\"xanchor\":\"center\",\"y\":-0.5472036960986221,\"yanchor\":\"bottom\"}]},                        {\"responsive\": true}                    ).then(function(){\n",
       "                            \n",
       "var gd = document.getElementById('38678e0a-d7b2-451e-bf07-20a60fb88cad');\n",
       "var x = new MutationObserver(function (mutations, observer) {{\n",
       "        var display = window.getComputedStyle(gd).display;\n",
       "        if (!display || display === 'none') {{\n",
       "            console.log([gd, 'removed!']);\n",
       "            Plotly.purge(gd);\n",
       "            observer.disconnect();\n",
       "        }}\n",
       "}});\n",
       "\n",
       "// Listen for the removal of the full notebook cells\n",
       "var notebookContainer = gd.closest('#notebook-container');\n",
       "if (notebookContainer) {{\n",
       "    x.observe(notebookContainer, {childList: true});\n",
       "}}\n",
       "\n",
       "// Listen for the clearing of the current output cell\n",
       "var outputEl = gd.closest('.output');\n",
       "if (outputEl) {{\n",
       "    x.observe(outputEl, {childList: true});\n",
       "}}\n",
       "\n",
       "                        })                };                });            </script>        </div>"
      ]
     },
     "metadata": {},
     "output_type": "display_data"
    }
   ],
   "source": [
    "import numpy as np\n",
    "\n",
    "loadings = pca.components_.T * np.sqrt(pca.explained_variance_)\n",
    "\n",
    "fig = px.scatter(df_pca, x='PC1', y='PC2',\n",
    "                 color=model_km.labels_.astype(str),\n",
    "                 hover_name=df_norm.index,\n",
    "                labels={\n",
    "                    'PC1': f'PC1 ~ {evr[0]}%',\n",
    "                    'PC2': f'PC2 ~ {evr[1]}%'\n",
    "                })\n",
    "\n",
    "for i, feature in enumerate(df_norm.columns):\n",
    "    fig.add_shape(\n",
    "        type='line',\n",
    "        x0=0, y0=0,\n",
    "        x1=loadings[i, 0],\n",
    "        y1=loadings[i, 1],\n",
    "        line=dict(color=\"red\",width=3)\n",
    "    )\n",
    "    fig.add_annotation(\n",
    "        x=loadings[i, 0],\n",
    "        y=loadings[i, 1],\n",
    "        ax=0, ay=0,\n",
    "        xanchor=\"center\",\n",
    "        yanchor=\"bottom\",\n",
    "        text=feature,\n",
    "    )\n",
    "\n",
    "fig.show()"
   ]
  },
  {
   "cell_type": "code",
   "execution_count": 93,
   "metadata": {},
   "outputs": [
    {
     "data": {
      "text/plain": [
       "array([0.62920572, 0.76087875, 0.85793777, 0.92452975, 0.95815016,\n",
       "       0.97839807, 0.99074516, 0.99663688, 1.        ])"
      ]
     },
     "execution_count": 93,
     "metadata": {},
     "output_type": "execute_result"
    }
   ],
   "source": [
    "pca.explained_variance_ratio_.cumsum()"
   ]
  },
  {
   "cell_type": "markdown",
   "metadata": {},
   "source": [
    "# Achieved Goals"
   ]
  },
  {
   "cell_type": "markdown",
   "metadata": {},
   "source": [
    "_Double click on **this cell** and place an `X` inside the square brackets (i.e., [X]) if you think you understand the goal:_\n",
    "\n",
    "- [ ] Understand the role of **Linear Algebra** on Machine Learning\n",
    "    - Matrix Multiplications with the `loadings`\n",
    "- [ ] Necessity to `StandardScaler()` the data when the algorithm implies distance calculations\n",
    "- [ ] Understand that every Machine Learning process is a matter of optimization\n",
    "    - To find the best numbers based on a criteria\n",
    "    - How is done in `PCA()`?\n",
    "- [ ] Why would you use PCA?\n",
    "    - Visualization\n",
    "    - Preprocess the data for modelling\n",
    "- [ ] There are techniques for everything\n",
    "    - [ ] Grouping observations\n",
    "    - [ ] Grouping variables"
   ]
  },
  {
   "cell_type": "markdown",
   "metadata": {},
   "source": [
    "<a rel=\"license\" href=\"http://creativecommons.org/licenses/by-nc-nd/4.0/\"><img alt=\"Creative Commons License\" style=\"border-width:0\" src=\"https://i.creativecommons.org/l/by-nc-nd/4.0/88x31.png\" /></a><br />This work is licensed under a <a rel=\"license\" href=\"http://creativecommons.org/licenses/by-nc-nd/4.0/\">Creative Commons Attribution-NonCommercial-NoDerivatives 4.0 International License</a>."
   ]
  }
 ],
 "metadata": {
  "authors": [
   {
    "blog": "https//blog.pythonresolver.com",
    "name": "Jesús López",
    "twitter": "https://twitter.com/jsulopz"
   }
  ],
  "kernelspec": {
   "display_name": "base",
   "language": "python",
   "name": "python3"
  },
  "language_info": {
   "codemirror_mode": {
    "name": "ipython",
    "version": 3
   },
   "file_extension": ".py",
   "mimetype": "text/x-python",
   "name": "python",
   "nbconvert_exporter": "python",
   "pygments_lexer": "ipython3",
   "version": "3.10.6"
  },
  "title": "Principal Component Analysis (PCA)",
  "vscode": {
   "interpreter": {
    "hash": "03ec90014361d64f31b57b6c05f3e1b20811fb583c4f1285ab648f59da29497f"
   }
  }
 },
 "nbformat": 4,
 "nbformat_minor": 4
}
